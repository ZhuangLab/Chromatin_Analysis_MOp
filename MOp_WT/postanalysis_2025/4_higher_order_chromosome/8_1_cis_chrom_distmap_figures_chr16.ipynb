{
 "cells": [
  {
   "cell_type": "markdown",
   "id": "f9c79c84",
   "metadata": {},
   "source": [
    "# 1. Load packages"
   ]
  },
  {
   "cell_type": "markdown",
   "id": "45787908",
   "metadata": {},
   "source": [
    "The link to get [ImageAnalysis3](https://github.com/zhengpuas47/ImageAnalysis3) \n",
    "\n",
    "or the Zhuang lab archived [source_tools](https://github.com/ZhuangLab/Chromatin_Analysis_2020_cell/tree/master/sequential_tracing/source)"
   ]
  },
  {
   "cell_type": "code",
   "execution_count": 1,
   "id": "13edafbd",
   "metadata": {},
   "outputs": [
    {
     "name": "stdout",
     "output_type": "stream",
     "text": [
      "73892\n"
     ]
    }
   ],
   "source": [
    "%run \"C:\\Users\\shiwei\\Documents\\ImageAnalysis3\\required_files\\Startup_py3.py\"\n",
    "sys.path.append(r\"C:\\Users\\shiwei\\Documents\")\n",
    "\n",
    "import ImageAnalysis3 as ia\n",
    "%matplotlib notebook\n",
    "\n",
    "from ImageAnalysis3 import *\n",
    "print(os.getpid())\n",
    "\n",
    "import h5py\n",
    "from ImageAnalysis3.classes import _allowed_kwds\n",
    "import ast\n",
    "\n",
    "import pandas as pd"
   ]
  },
  {
   "cell_type": "markdown",
   "id": "8c775ce7",
   "metadata": {},
   "source": [
    "See **functions** in the repository for [AnalysisTool_Chromatin](../../functions/README.md)"
   ]
  },
  {
   "cell_type": "code",
   "execution_count": 2,
   "id": "379e8b31",
   "metadata": {},
   "outputs": [
    {
     "data": {
      "text/plain": [
       "<module 'atac_to_loci' from 'C:\\\\Users\\\\shiwei\\\\Documents\\\\AnalysisTool_Chromatin\\\\atac_to_loci.py'>"
      ]
     },
     "execution_count": 2,
     "metadata": {},
     "output_type": "execute_result"
    }
   ],
   "source": [
    "# Chromatin_analysis_tools (ATC)\n",
    "# Get path for the py containing functions\n",
    "import os\n",
    "import sys\n",
    "import importlib\n",
    "module_path =r'C:\\Users\\shiwei\\Documents\\AnalysisTool_Chromatin'\n",
    "if module_path not in sys.path:\n",
    "    sys.path.append(module_path)\n",
    "    \n",
    "# import relevant modules\n",
    "import gene_selection \n",
    "importlib.reload(gene_selection)\n",
    "import gene_to_loci\n",
    "importlib.reload(gene_to_loci)\n",
    "import gene_activity\n",
    "importlib.reload(gene_activity)\n",
    "import loci_1d_features\n",
    "importlib.reload(loci_1d_features)  \n",
    "\n",
    "import atac_to_loci\n",
    "importlib.reload(atac_to_loci)"
   ]
  },
  {
   "cell_type": "code",
   "execution_count": 3,
   "id": "98684b79",
   "metadata": {},
   "outputs": [],
   "source": [
    "import seaborn as sns\n",
    "import scanpy as sc"
   ]
  },
  {
   "cell_type": "markdown",
   "id": "22b002fe",
   "metadata": {},
   "source": [
    "## 1.1 Define output folder"
   ]
  },
  {
   "cell_type": "code",
   "execution_count": 4,
   "id": "587b42f3",
   "metadata": {},
   "outputs": [
    {
     "name": "stdout",
     "output_type": "stream",
     "text": [
      "Use existing analysis folder: L:\\Shiwei\\Figures\\MOp_draft_2023_v2\\Cis_chromosome\\analysis.\n",
      "Use existing figure folder: L:\\Shiwei\\Figures\\MOp_draft_2023_v2\\Cis_chromosome\\figures.\n"
     ]
    }
   ],
   "source": [
    "output_main_folder = r'L:\\Shiwei\\Figures\\MOp_draft_2023_v2\\Cis_chromosome'\n",
    "output_analysis_folder = os.path.join(output_main_folder, 'analysis')\n",
    "output_figure_folder = os.path.join(output_main_folder, 'figures')\n",
    "\n",
    "make_output_folder = True\n",
    "\n",
    "if make_output_folder and not os.path.exists(output_analysis_folder):\n",
    "    os.makedirs(output_analysis_folder)\n",
    "    print(f'Generating analysis folder: {output_analysis_folder}.')\n",
    "elif os.path.exists(output_analysis_folder):\n",
    "    print(f'Use existing analysis folder: {output_analysis_folder}.')\n",
    "    \n",
    "if make_output_folder and not os.path.exists(output_figure_folder):\n",
    "    os.makedirs(output_figure_folder)\n",
    "    print(f'Generating figure folder: {output_figure_folder}.')\n",
    "elif os.path.exists(output_figure_folder):\n",
    "    print(f'Use existing figure folder: {output_figure_folder}.')\n"
   ]
  },
  {
   "cell_type": "markdown",
   "id": "8bb15553",
   "metadata": {},
   "source": [
    "## 1.2 setting up plotting parameters"
   ]
  },
  {
   "cell_type": "code",
   "execution_count": 5,
   "id": "f477ccb0",
   "metadata": {},
   "outputs": [],
   "source": [
    "from matplotlib import rcParams\n",
    "rcParams['font.family'] = 'sans-serif'\n",
    "rcParams['font.sans-serif'] = ['Arial']\n",
    "\n",
    "import matplotlib\n",
    "%matplotlib inline\n",
    "matplotlib.rcParams['pdf.fonttype'] = 42\n",
    "\n",
    "plt.rc('font', family='serif')\n",
    "plt.rc('font', serif='Arial')\n",
    "\n",
    "\n",
    "# Other required plotting parameters\n",
    "_dpi = 300\n",
    "_font_size = 7.5\n",
    "_page_width = 5.5\n",
    "import seaborn as sns\n",
    "sns.set_context(\"paper\", rc={\"font.size\":_font_size,\"axes.titlesize\":_font_size+1,\"axes.labelsize\":_font_size})  "
   ]
  },
  {
   "cell_type": "code",
   "execution_count": 6,
   "id": "c33943dd",
   "metadata": {},
   "outputs": [],
   "source": [
    "# cell labels from RNA-MERFISH and celltype prediction\n",
    "selected_cell_labels = ['L2/3 IT','L4/5 IT','L5 IT','L6 IT','L5 ET','L5/6 NP','L6 CT','L6b',\n",
    "                           'Sst','Pvalb','Lamp5','Sncg','Vip',\n",
    "                           'Astro','Oligo','OPC','Micro','Endo','VLMC','SMC','Peri', \n",
    "                           #'other',\n",
    "                          ]\n",
    "# cell palette from RNA-MERFISH UMAP and stats\n",
    "celltype_palette = {'Astro':'lightcoral', \n",
    "                    'Endo':'skyblue', \n",
    "                    'L2/3 IT':'gold', \n",
    "                    'L4/5 IT':'darkorange', \n",
    "                    'L5 ET':'mediumseagreen', \n",
    "                    'L5 IT':'aqua',\n",
    "                    'L5/6 NP':'darkgreen',\n",
    "                    'L6 CT':'brown',\n",
    "                    'L6 IT':'magenta',\n",
    "                    'L6b':'blue', \n",
    "                    'Lamp5':'orange', \n",
    "                    'Micro':'peachpuff',\n",
    "                    'OPC':'thistle', \n",
    "                    'Oligo':'darkviolet',\n",
    "                    'Peri':'sandybrown',\n",
    "                    'Pvalb':'springgreen',\n",
    "                    'SMC':'rosybrown',\n",
    "                    'Sncg':'darkkhaki',\n",
    "                    'Sst':'steelblue', \n",
    "                    'VLMC':'saddlebrown', \n",
    "                    'Vip':'red',\n",
    "                    'other':'slategray'}\n"
   ]
  },
  {
   "cell_type": "code",
   "execution_count": 7,
   "id": "caad6887",
   "metadata": {},
   "outputs": [],
   "source": [
    "# this is the plotting order noted based on the snRNA transcriptional acitivty;\n",
    "# we'd use this for all the graphs in this notebook\n",
    "# use the snRNA data below (# section 3.1.1) if needs to re-calculate\n",
    "sorted_cellplot_order = ['Micro', 'Oligo', 'Endo', 'OPC', 'Astro', 'Vip', 'Lamp5',\n",
    "                  'L5/6 NP', 'Sst', 'Sncg', 'Pvalb', 'L4/5 IT', 'L6 CT',\n",
    "                  'L6 IT', 'L6b', 'L2/3 IT', 'L5 IT', 'L5 ET']"
   ]
  },
  {
   "cell_type": "markdown",
   "id": "2c442748",
   "metadata": {},
   "source": [
    "# 2. Load codebook and chromosome size"
   ]
  },
  {
   "cell_type": "markdown",
   "id": "d4d99e00",
   "metadata": {},
   "source": [
    "## Codebook\n",
    "\n",
    "**Codebook** example from [codebook_link](../0_locus_annotation/resources/MERFISH_loci_adjacent_genes_tss_more_res.csv)"
   ]
  },
  {
   "cell_type": "code",
   "execution_count": 8,
   "id": "b888017d",
   "metadata": {},
   "outputs": [
    {
     "data": {
      "text/html": [
       "<div>\n",
       "<style scoped>\n",
       "    .dataframe tbody tr th:only-of-type {\n",
       "        vertical-align: middle;\n",
       "    }\n",
       "\n",
       "    .dataframe tbody tr th {\n",
       "        vertical-align: top;\n",
       "    }\n",
       "\n",
       "    .dataframe thead th {\n",
       "        text-align: right;\n",
       "    }\n",
       "</style>\n",
       "<table border=\"1\" class=\"dataframe\">\n",
       "  <thead>\n",
       "    <tr style=\"text-align: right;\">\n",
       "      <th></th>\n",
       "      <th>name</th>\n",
       "      <th>id</th>\n",
       "      <th>chr</th>\n",
       "      <th>chr_order</th>\n",
       "      <th>library</th>\n",
       "      <th>dtype</th>\n",
       "      <th>adjacent_genes_0kb_tss</th>\n",
       "      <th>adjacent_genes_10kb_tss</th>\n",
       "      <th>adjacent_genes_50kb_tss</th>\n",
       "      <th>adjacent_genes_100kb_tss</th>\n",
       "      <th>adjacent_genes_200kb_tss</th>\n",
       "      <th>adjacent_genes_500kb_tss</th>\n",
       "      <th>adjacent_genes_1000kb_tss</th>\n",
       "      <th>adjacent_genes_1500kb_tss</th>\n",
       "      <th>adjacent_genes_2000kb_tss</th>\n",
       "    </tr>\n",
       "    <tr>\n",
       "      <th>loci_name</th>\n",
       "      <th></th>\n",
       "      <th></th>\n",
       "      <th></th>\n",
       "      <th></th>\n",
       "      <th></th>\n",
       "      <th></th>\n",
       "      <th></th>\n",
       "      <th></th>\n",
       "      <th></th>\n",
       "      <th></th>\n",
       "      <th></th>\n",
       "      <th></th>\n",
       "      <th></th>\n",
       "      <th></th>\n",
       "      <th></th>\n",
       "    </tr>\n",
       "  </thead>\n",
       "  <tbody>\n",
       "    <tr>\n",
       "      <th>chr1_3742742_3759944</th>\n",
       "      <td>1:3742742-3759944</td>\n",
       "      <td>1</td>\n",
       "      <td>1</td>\n",
       "      <td>0</td>\n",
       "      <td>CTP11</td>\n",
       "      <td>combo</td>\n",
       "      <td>intergenic</td>\n",
       "      <td>intergenic</td>\n",
       "      <td>intergenic</td>\n",
       "      <td>Xkr4</td>\n",
       "      <td>Xkr4</td>\n",
       "      <td>Gm18956; Gm7341; Xkr4</td>\n",
       "      <td>Gm18956; Gm2053; Gm6085; Gm6101; Gm6119; Gm734...</td>\n",
       "      <td>Atp6v1h; Gm16041; Gm17101; Gm18956; Gm2053; Gm...</td>\n",
       "      <td>Atp6v1h; Gm16041; Gm17101; Gm18956; Gm2053; Gm...</td>\n",
       "    </tr>\n",
       "    <tr>\n",
       "      <th>chr1_6245958_6258969</th>\n",
       "      <td>1:6245958-6258969</td>\n",
       "      <td>2</td>\n",
       "      <td>1</td>\n",
       "      <td>1</td>\n",
       "      <td>CTP11</td>\n",
       "      <td>combo</td>\n",
       "      <td>intergenic</td>\n",
       "      <td>intergenic</td>\n",
       "      <td>4732440D04Rik; Rb1cc1</td>\n",
       "      <td>4732440D04Rik; Rb1cc1</td>\n",
       "      <td>4732440D04Rik; Gm19026; Gm2147; Rb1cc1</td>\n",
       "      <td>4732440D04Rik; Gm19026; Gm2147; Npbwr1; Rb1cc1...</td>\n",
       "      <td>4732440D04Rik; Gm19026; Gm2147; Gm5694; Gm7182...</td>\n",
       "      <td>4732440D04Rik; Atp6v1h; Gm16041; Gm17101; Gm19...</td>\n",
       "      <td>4732440D04Rik; Atp6v1h; Gm16041; Gm17101; Gm19...</td>\n",
       "    </tr>\n",
       "    <tr>\n",
       "      <th>chr1_8740008_8759916</th>\n",
       "      <td>1:8740008-8759916</td>\n",
       "      <td>3</td>\n",
       "      <td>1</td>\n",
       "      <td>2</td>\n",
       "      <td>CTP11</td>\n",
       "      <td>combo</td>\n",
       "      <td>intergenic</td>\n",
       "      <td>intergenic</td>\n",
       "      <td>Gm15452</td>\n",
       "      <td>Gm15452</td>\n",
       "      <td>Gm15452</td>\n",
       "      <td>Gm15452</td>\n",
       "      <td>1700034P13Rik; 2610203C22Rik; Adhfe1; Gm15452;...</td>\n",
       "      <td>1700034P13Rik; 2610203C22Rik; Adhfe1; Arfgef1;...</td>\n",
       "      <td>1700034P13Rik; 2610203C22Rik; Adhfe1; Arfgef1;...</td>\n",
       "    </tr>\n",
       "    <tr>\n",
       "      <th>chr1_9627926_9637875</th>\n",
       "      <td>1:9627926-9637875</td>\n",
       "      <td>1</td>\n",
       "      <td>1</td>\n",
       "      <td>3</td>\n",
       "      <td>CTP13</td>\n",
       "      <td>combo</td>\n",
       "      <td>2610203C22Rik</td>\n",
       "      <td>2610203C22Rik</td>\n",
       "      <td>2610203C22Rik</td>\n",
       "      <td>2610203C22Rik; Adhfe1; Gm6161; Mybl1; Rrs1</td>\n",
       "      <td>1700034P13Rik; 2610203C22Rik; Adhfe1; Gm18300;...</td>\n",
       "      <td>1700034P13Rik; 2610203C22Rik; Adhfe1; Cops5; C...</td>\n",
       "      <td>1700034P13Rik; 2610203C22Rik; Adhfe1; Arfgef1;...</td>\n",
       "      <td>1700034P13Rik; 2610203C22Rik; Adhfe1; Arfgef1;...</td>\n",
       "      <td>1700034P13Rik; 2610203C22Rik; A830018L16Rik; A...</td>\n",
       "    </tr>\n",
       "    <tr>\n",
       "      <th>chr1_9799472_9811359</th>\n",
       "      <td>1:9799472-9811359</td>\n",
       "      <td>2</td>\n",
       "      <td>1</td>\n",
       "      <td>4</td>\n",
       "      <td>CTP13</td>\n",
       "      <td>combo</td>\n",
       "      <td>Gm6195</td>\n",
       "      <td>Gm6195; Sgk3</td>\n",
       "      <td>Gm6195; Sgk3</td>\n",
       "      <td>1700034P13Rik; Gm6195; Mcmdc2; Mybl1; Sgk3; Vc...</td>\n",
       "      <td>1700034P13Rik; 2610203C22Rik; Gm6195; Mcmdc2; ...</td>\n",
       "      <td>1700034P13Rik; 2610203C22Rik; Adhfe1; Arfgef1;...</td>\n",
       "      <td>1700034P13Rik; 2610203C22Rik; Adhfe1; Arfgef1;...</td>\n",
       "      <td>1700034P13Rik; 2610203C22Rik; Adhfe1; Arfgef1;...</td>\n",
       "      <td>1700034P13Rik; 2610203C22Rik; A830018L16Rik; A...</td>\n",
       "    </tr>\n",
       "  </tbody>\n",
       "</table>\n",
       "</div>"
      ],
      "text/plain": [
       "                                   name id chr  chr_order library  dtype  \\\n",
       "loci_name                                                                  \n",
       "chr1_3742742_3759944  1:3742742-3759944  1   1          0   CTP11  combo   \n",
       "chr1_6245958_6258969  1:6245958-6258969  2   1          1   CTP11  combo   \n",
       "chr1_8740008_8759916  1:8740008-8759916  3   1          2   CTP11  combo   \n",
       "chr1_9627926_9637875  1:9627926-9637875  1   1          3   CTP13  combo   \n",
       "chr1_9799472_9811359  1:9799472-9811359  2   1          4   CTP13  combo   \n",
       "\n",
       "                     adjacent_genes_0kb_tss adjacent_genes_10kb_tss  \\\n",
       "loci_name                                                             \n",
       "chr1_3742742_3759944             intergenic              intergenic   \n",
       "chr1_6245958_6258969             intergenic              intergenic   \n",
       "chr1_8740008_8759916             intergenic              intergenic   \n",
       "chr1_9627926_9637875          2610203C22Rik           2610203C22Rik   \n",
       "chr1_9799472_9811359                 Gm6195            Gm6195; Sgk3   \n",
       "\n",
       "                     adjacent_genes_50kb_tss  \\\n",
       "loci_name                                      \n",
       "chr1_3742742_3759944              intergenic   \n",
       "chr1_6245958_6258969   4732440D04Rik; Rb1cc1   \n",
       "chr1_8740008_8759916                 Gm15452   \n",
       "chr1_9627926_9637875           2610203C22Rik   \n",
       "chr1_9799472_9811359            Gm6195; Sgk3   \n",
       "\n",
       "                                               adjacent_genes_100kb_tss  \\\n",
       "loci_name                                                                 \n",
       "chr1_3742742_3759944                                               Xkr4   \n",
       "chr1_6245958_6258969                              4732440D04Rik; Rb1cc1   \n",
       "chr1_8740008_8759916                                            Gm15452   \n",
       "chr1_9627926_9637875         2610203C22Rik; Adhfe1; Gm6161; Mybl1; Rrs1   \n",
       "chr1_9799472_9811359  1700034P13Rik; Gm6195; Mcmdc2; Mybl1; Sgk3; Vc...   \n",
       "\n",
       "                                               adjacent_genes_200kb_tss  \\\n",
       "loci_name                                                                 \n",
       "chr1_3742742_3759944                                               Xkr4   \n",
       "chr1_6245958_6258969             4732440D04Rik; Gm19026; Gm2147; Rb1cc1   \n",
       "chr1_8740008_8759916                                            Gm15452   \n",
       "chr1_9627926_9637875  1700034P13Rik; 2610203C22Rik; Adhfe1; Gm18300;...   \n",
       "chr1_9799472_9811359  1700034P13Rik; 2610203C22Rik; Gm6195; Mcmdc2; ...   \n",
       "\n",
       "                                               adjacent_genes_500kb_tss  \\\n",
       "loci_name                                                                 \n",
       "chr1_3742742_3759944                              Gm18956; Gm7341; Xkr4   \n",
       "chr1_6245958_6258969  4732440D04Rik; Gm19026; Gm2147; Npbwr1; Rb1cc1...   \n",
       "chr1_8740008_8759916                                            Gm15452   \n",
       "chr1_9627926_9637875  1700034P13Rik; 2610203C22Rik; Adhfe1; Cops5; C...   \n",
       "chr1_9799472_9811359  1700034P13Rik; 2610203C22Rik; Adhfe1; Arfgef1;...   \n",
       "\n",
       "                                              adjacent_genes_1000kb_tss  \\\n",
       "loci_name                                                                 \n",
       "chr1_3742742_3759944  Gm18956; Gm2053; Gm6085; Gm6101; Gm6119; Gm734...   \n",
       "chr1_6245958_6258969  4732440D04Rik; Gm19026; Gm2147; Gm5694; Gm7182...   \n",
       "chr1_8740008_8759916  1700034P13Rik; 2610203C22Rik; Adhfe1; Gm15452;...   \n",
       "chr1_9627926_9637875  1700034P13Rik; 2610203C22Rik; Adhfe1; Arfgef1;...   \n",
       "chr1_9799472_9811359  1700034P13Rik; 2610203C22Rik; Adhfe1; Arfgef1;...   \n",
       "\n",
       "                                              adjacent_genes_1500kb_tss  \\\n",
       "loci_name                                                                 \n",
       "chr1_3742742_3759944  Atp6v1h; Gm16041; Gm17101; Gm18956; Gm2053; Gm...   \n",
       "chr1_6245958_6258969  4732440D04Rik; Atp6v1h; Gm16041; Gm17101; Gm19...   \n",
       "chr1_8740008_8759916  1700034P13Rik; 2610203C22Rik; Adhfe1; Arfgef1;...   \n",
       "chr1_9627926_9637875  1700034P13Rik; 2610203C22Rik; Adhfe1; Arfgef1;...   \n",
       "chr1_9799472_9811359  1700034P13Rik; 2610203C22Rik; Adhfe1; Arfgef1;...   \n",
       "\n",
       "                                              adjacent_genes_2000kb_tss  \n",
       "loci_name                                                                \n",
       "chr1_3742742_3759944  Atp6v1h; Gm16041; Gm17101; Gm18956; Gm2053; Gm...  \n",
       "chr1_6245958_6258969  4732440D04Rik; Atp6v1h; Gm16041; Gm17101; Gm19...  \n",
       "chr1_8740008_8759916  1700034P13Rik; 2610203C22Rik; Adhfe1; Arfgef1;...  \n",
       "chr1_9627926_9637875  1700034P13Rik; 2610203C22Rik; A830018L16Rik; A...  \n",
       "chr1_9799472_9811359  1700034P13Rik; 2610203C22Rik; A830018L16Rik; A...  "
      ]
     },
     "execution_count": 8,
     "metadata": {},
     "output_type": "execute_result"
    }
   ],
   "source": [
    "# load codebook\n",
    "# L drive is Crick Pu_SSD_0\n",
    "codebook_save_folder=r'C:\\Users\\shiwei\\Documents\\AnalysisTool_Chromatin\\resources'\n",
    "\n",
    "# Load sorted codebook (allows direct matrix slicing) with cell type info\n",
    "# Load codebook (then sort to allow direct matrix slicing) with cell type info\n",
    "\n",
    "codebook_fname = os.path.join(codebook_save_folder,'MERFISH_loci_adjacent_genes_tss_more_res.csv')\n",
    "codebook_df = pd.read_csv (codebook_fname, index_col=0)\n",
    "\n",
    "# sort df temporailiy so matrix can be sliced by df order directly\n",
    "codebook_df = loci_1d_features.sort_loci_df_by_chr_order (codebook_df)\n",
    "\n",
    "codebook_df.head()"
   ]
  },
  {
   "cell_type": "markdown",
   "id": "31c41344",
   "metadata": {},
   "source": [
    "# 3. Load distance map"
   ]
  },
  {
   "cell_type": "markdown",
   "id": "ed6ff64a",
   "metadata": {},
   "source": [
    "\n",
    "Data below can be generated from the notebook as:\n",
    "\n",
    "[preprocess/2_dna_merfish/scripts/2_spot_pick/4_summarize_jie_to_dict](../../preprocess/2_dna_merfish/scripts/2_spot_pick/4_summarize_jie_to_dict.ipynb)"
   ]
  },
  {
   "cell_type": "code",
   "execution_count": 9,
   "id": "4da0d93f",
   "metadata": {},
   "outputs": [],
   "source": [
    "# load main folder\n",
    "# use the CW version instead for contact_th at 750nm\n",
    "postanalysis_folder = r'\\\\10.245.74.158\\Chromatin_NAS_8\\Exported_data\\jie_CW_decode\\postanalysis_v2CW_sorted'\n",
    "postanalysis_folder_CW = r'\\\\10.245.74.158\\Chromatin_NAS_8\\Analyzed_data\\MouseBrain_PostAnalysis_0312'\n"
   ]
  },
  {
   "cell_type": "code",
   "execution_count": 10,
   "id": "367c674e",
   "metadata": {},
   "outputs": [
    {
     "name": "stdout",
     "output_type": "stream",
     "text": [
      "Loading info.\n"
     ]
    }
   ],
   "source": [
    "class_2_cellInfoList_filename = os.path.join(postanalysis_folder, 'subclass_2_cellInfo.pkl')\n",
    "class_2_cellInfoList = pickle.load(open(class_2_cellInfoList_filename, 'rb'))\n",
    "\n",
    "if os.path.exists(class_2_cellInfoList_filename):\n",
    "    print(\"Loading info.\")\n",
    "    class_2_info_Dict = np.load(class_2_cellInfoList_filename, allow_pickle=True)"
   ]
  },
  {
   "cell_type": "code",
   "execution_count": 11,
   "id": "77e77071",
   "metadata": {},
   "outputs": [
    {
     "name": "stdout",
     "output_type": "stream",
     "text": [
      "Loading median\n"
     ]
    }
   ],
   "source": [
    "#class_2_contact_filename = os.path.join(postanalysis_folder_CW, 'subclass_2_contactDict_750.pkl')\n",
    "#print(class_2_contact_filename)\n",
    "#if os.path.exists(class_2_contact_filename):\n",
    "    #print(\"Loading contact\")\n",
    "    #class_2_contactDict = np.load(class_2_contact_filename, allow_pickle=True)\n",
    "    \n",
    "    \n",
    "    \n",
    "# subclass to median distance dict\n",
    "class_2_median_filename = os.path.join(postanalysis_folder, 'subclass_2_medianDict.pkl')\n",
    "if os.path.exists(class_2_median_filename):\n",
    "    print(\"Loading median\")\n",
    "    class_2_medianDict = pickle.load(open(class_2_median_filename, 'rb'))"
   ]
  },
  {
   "cell_type": "markdown",
   "id": "fd9b2c58",
   "metadata": {},
   "source": [
    "# 4. Plot dsitance map across selected celltypes"
   ]
  },
  {
   "cell_type": "code",
   "execution_count": 12,
   "id": "4ba54c19",
   "metadata": {},
   "outputs": [],
   "source": [
    "from ImageAnalysis3.structure_tools import distance\n",
    "\n",
    "chr_2_indices, chr_2_orders = distance.Generate_PlotOrder(codebook_df, codebook_df, sort_by_region=False)## load codebook\n"
   ]
  },
  {
   "cell_type": "code",
   "execution_count": 13,
   "id": "a8e0a46c",
   "metadata": {},
   "outputs": [
    {
     "name": "stderr",
     "output_type": "stream",
     "text": [
      "meta NOT subset; don't know how to subset; dropped\n",
      "C:\\Users\\shiwei\\AppData\\Local\\Temp\\2\\ipykernel_73892\\1295326734.py:80: UserWarning: Matplotlib is currently using module://matplotlib_inline.backend_inline, which is a non-GUI backend, so cannot show the figure.\n",
      "  fig.show()\n"
     ]
    },
    {
     "data": {
      "image/png": "[encoded data removed]",
      "text/plain": [
       "<Figure size 392.857x216.071 with 4 Axes>"
      ]
     },
     "metadata": {},
     "output_type": "display_data"
    }
   ],
   "source": [
    "#%matplotlib notebook\n",
    "%matplotlib inline\n",
    "from matplotlib.colors import LogNorm\n",
    "import ImageAnalysis3.structure_tools.distance as distance\n",
    "\n",
    "sort_by_region = False\n",
    "chr_2_indices, chr_2_orders = distance.Generate_PlotOrder(codebook_df, codebook_df, sort_by_region=sort_by_region)\n",
    "\n",
    "\n",
    "#plt.style.use('dark_background')\n",
    "_single_im_size=3\n",
    "sel_codebook = codebook_df\n",
    "sort_by_region = False\n",
    "\n",
    "\n",
    "#chosen_chrom = _c1\n",
    "#sel_class_list = ['L2/3 IT','L6 CT']\n",
    "sel_cellgroups = ['L4/5 IT','Astro',]\n",
    "#sel_cellgroups = ['Vip','Pvalb', 'L2/3 IT', 'L5 ET',]\n",
    "chosen_chrom = '16'\n",
    "\n",
    "mtx_dict = {}\n",
    "\n",
    "fig, axes = plt.subplots(1, len(sel_cellgroups), figsize=(_page_width/2.8*1*len(sel_cellgroups), \n",
    "                                                          _page_width/2.8*1.1), dpi=100, sharex=True, sharey=True)\n",
    "\n",
    "\n",
    "for _idx, _class in enumerate(sel_cellgroups):\n",
    "    \n",
    "    summary_dict = class_2_medianDict[_class]\n",
    "\n",
    "    _cis_mat, chr_edges, chr_names = distance.assemble_ChrDistDict_2_Matrix(\n",
    "            summary_dict, codebook_df, \n",
    "            sel_codebook=sel_codebook, \n",
    "            use_cis=True, sort_by_region=sort_by_region,\n",
    "        )\n",
    "    \n",
    "    _chr_indices = chr_2_indices[chosen_chrom]\n",
    "    cis_mat_chr = _cis_mat[:,_chr_indices]\n",
    "    cis_mat_chr = cis_mat_chr[_chr_indices,:]\n",
    "    \n",
    "    mtx_dict[_class]=cis_mat_chr\n",
    "    \n",
    "    shared_color_limit= True\n",
    "    if shared_color_limit:\n",
    "        color_limits_class = [0.5, 3]\n",
    "    else:\n",
    "        pass\n",
    "    \n",
    "    ia.figure_tools.distmap.plot_distance_map(cis_mat_chr, color_limits=color_limits_class,\n",
    "                                              ax=axes[_idx], \n",
    "                                            ticks=[i for i in np.arange(0,len(cis_mat_chr)) if i%10==0],\n",
    "                                              tick_labels=[i for i in np.arange(0,len(cis_mat_chr)) if i%10==0],\n",
    "                                                #ticks=(chr_edges[1:] + chr_edges[:-1])/2,\n",
    "                                              #tick_labels=chr_names,\n",
    "                                              #color_norm='log',\n",
    "                                              ax_label=f'Genomic region (Chr{chosen_chrom})', \n",
    "                                              cmap='seismic_r',\n",
    "                                              font_size=_font_size-1.5)\n",
    "    \n",
    "    axes[_idx].grid(False)\n",
    "    #axes[_idx].grid(True,color='g', linestyle='-', linewidth=0.5)\n",
    "    axes[_idx].set_title(f'{_class}, N={len(class_2_cellInfoList[_class])}', fontsize=_font_size, pad=3)\n",
    "    \n",
    "\n",
    "for _ax in axes:\n",
    "    #_ax.hlines(chr_edges-0.5, 0, len(_cis_mat), color='black', linewidth=0.2)\n",
    "    #_ax.vlines(chr_edges-0.5, 0, len(_cis_mat), color='black', linewidth=0.2)\n",
    "    _ax.xaxis.set_tick_params(which='both', labelbottom=True)\n",
    "    _ax.yaxis.set_tick_params(which='both', labelleft=True)\n",
    "\n",
    "fig.subplots_adjust(wspace=0.35, hspace=0.35, left=0.05, right=0.95, top=0.97, bottom=0.02)\n",
    "fig.suptitle(f\"chromosome {chosen_chrom}\", fontsize=_font_size+1, y=0.97)\n",
    "#fig.suptitle(f\"{_class}, N={len(class_2_chr_zxys[_class])}\", fontsize=10, y=0.97)\n",
    "#fig.suptitle(f\"{_class}, N={len(class_2_cellInfoList[_class])}\", fontsize=10, y=0.97)\n",
    "#fig.savefig(os.path.join(output_figure_folder, f\"Cis-median_distmap_across_celltypes.png\"))\n",
    "plt.savefig(os.path.join(output_figure_folder, f'Cis-median_distmap_across_celltypes_chr{chosen_chrom}.pdf'), \n",
    "        transparent=True, dpi=300, bbox_inches='tight')\n",
    "\n",
    "fig.show()"
   ]
  },
  {
   "cell_type": "code",
   "execution_count": 15,
   "id": "a8166d87",
   "metadata": {},
   "outputs": [
    {
     "name": "stderr",
     "output_type": "stream",
     "text": [
      "meta NOT subset; don't know how to subset; dropped\n",
      "C:\\Users\\shiwei\\AppData\\Local\\Temp\\2\\ipykernel_73892\\1154481168.py:80: UserWarning: Matplotlib is currently using module://matplotlib_inline.backend_inline, which is a non-GUI backend, so cannot show the figure.\n",
      "  fig.show()\n"
     ]
    },
    {
     "data": {
      "image/png": "[encoded data removed]",
      "text/plain": [
       "<Figure size 392.857x216.071 with 4 Axes>"
      ]
     },
     "metadata": {},
     "output_type": "display_data"
    }
   ],
   "source": [
    "#%matplotlib notebook\n",
    "%matplotlib inline\n",
    "from matplotlib.colors import LogNorm\n",
    "import ImageAnalysis3.structure_tools.distance as distance\n",
    "\n",
    "sort_by_region = False\n",
    "chr_2_indices, chr_2_orders = distance.Generate_PlotOrder(codebook_df, codebook_df, sort_by_region=sort_by_region)\n",
    "\n",
    "\n",
    "#plt.style.use('dark_background')\n",
    "_single_im_size=3\n",
    "sel_codebook = codebook_df\n",
    "sort_by_region = False\n",
    "\n",
    "\n",
    "#chosen_chrom = _c1\n",
    "#sel_class_list = ['L2/3 IT','L6 CT']\n",
    "sel_cellgroups = ['L4/5 IT','L6 IT',]\n",
    "#sel_cellgroups = ['Vip','Pvalb', 'L2/3 IT', 'L5 ET',]\n",
    "chosen_chrom = '5'\n",
    "\n",
    "mtx_dict = {}\n",
    "\n",
    "fig, axes = plt.subplots(1, len(sel_cellgroups), figsize=(_page_width/2.8*1*len(sel_cellgroups), \n",
    "                                                          _page_width/2.8*1.1), dpi=100, sharex=True, sharey=True)\n",
    "\n",
    "\n",
    "for _idx, _class in enumerate(sel_cellgroups):\n",
    "    \n",
    "    summary_dict = class_2_medianDict[_class]\n",
    "\n",
    "    _cis_mat, chr_edges, chr_names = distance.assemble_ChrDistDict_2_Matrix(\n",
    "            summary_dict, codebook_df, \n",
    "            sel_codebook=sel_codebook, \n",
    "            use_cis=True, sort_by_region=sort_by_region,\n",
    "        )\n",
    "    \n",
    "    _chr_indices = chr_2_indices[chosen_chrom]\n",
    "    cis_mat_chr = _cis_mat[:,_chr_indices]\n",
    "    cis_mat_chr = cis_mat_chr[_chr_indices,:]\n",
    "    \n",
    "    mtx_dict[_class]=cis_mat_chr\n",
    "    \n",
    "    shared_color_limit= True\n",
    "    if shared_color_limit:\n",
    "        color_limits_class = [0.5, 3.5]\n",
    "    else:\n",
    "        pass\n",
    "    \n",
    "    ia.figure_tools.distmap.plot_distance_map(cis_mat_chr, color_limits=color_limits_class,\n",
    "                                              ax=axes[_idx], \n",
    "                                            ticks=[i for i in np.arange(0,len(cis_mat_chr)) if i%10==0],\n",
    "                                              tick_labels=[i for i in np.arange(0,len(cis_mat_chr)) if i%10==0],\n",
    "                                                #ticks=(chr_edges[1:] + chr_edges[:-1])/2,\n",
    "                                              #tick_labels=chr_names,\n",
    "                                              #color_norm='log',\n",
    "                                              ax_label=f'Genomic region (Chr{chosen_chrom})', \n",
    "                                              cmap='seismic_r',\n",
    "                                              font_size=_font_size-1.5)\n",
    "    \n",
    "    axes[_idx].grid(False)\n",
    "    #axes[_idx].grid(True,color='g', linestyle='-', linewidth=0.5)\n",
    "    axes[_idx].set_title(f'{_class}, N={len(class_2_cellInfoList[_class])}', fontsize=_font_size, pad=3)\n",
    "    \n",
    "\n",
    "for _ax in axes:\n",
    "    #_ax.hlines(chr_edges-0.5, 0, len(_cis_mat), color='black', linewidth=0.2)\n",
    "    #_ax.vlines(chr_edges-0.5, 0, len(_cis_mat), color='black', linewidth=0.2)\n",
    "    _ax.xaxis.set_tick_params(which='both', labelbottom=True)\n",
    "    _ax.yaxis.set_tick_params(which='both', labelleft=True)\n",
    "\n",
    "fig.subplots_adjust(wspace=0.35, hspace=0.35, left=0.05, right=0.95, top=0.97, bottom=0.02)\n",
    "fig.suptitle(f\"chromosome {chosen_chrom}\", fontsize=_font_size+1, y=0.97)\n",
    "#fig.suptitle(f\"{_class}, N={len(class_2_chr_zxys[_class])}\", fontsize=10, y=0.97)\n",
    "#fig.suptitle(f\"{_class}, N={len(class_2_cellInfoList[_class])}\", fontsize=10, y=0.97)\n",
    "#fig.savefig(os.path.join(output_figure_folder, f\"Cis-median_distmap_across_celltypes.png\"))\n",
    "plt.savefig(os.path.join(output_figure_folder, f'Cis-median_distmap_across_celltypes_chr{chosen_chrom}.pdf'), \n",
    "        transparent=True, dpi=300, bbox_inches='tight')\n",
    "\n",
    "fig.show()"
   ]
  }
 ],
 "metadata": {
  "kernelspec": {
   "display_name": "Python 3 (ipykernel)",
   "language": "python",
   "name": "python3"
  },
  "language_info": {
   "codemirror_mode": {
    "name": "ipython",
    "version": 3
   },
   "file_extension": ".py",
   "mimetype": "text/x-python",
   "name": "python",
   "nbconvert_exporter": "python",
   "pygments_lexer": "ipython3",
   "version": "3.10.8"
  },
  "toc": {
   "base_numbering": 1,
   "nav_menu": {},
   "number_sections": false,
   "sideBar": true,
   "skip_h1_title": false,
   "title_cell": "Table of Contents",
   "title_sidebar": "Contents",
   "toc_cell": false,
   "toc_position": {},
   "toc_section_display": true,
   "toc_window_display": true
  }
 },
 "nbformat": 4,
 "nbformat_minor": 5
}
