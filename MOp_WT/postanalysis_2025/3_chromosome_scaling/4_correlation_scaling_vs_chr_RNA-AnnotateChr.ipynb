{
 "cells": [
  {
   "cell_type": "markdown",
   "id": "75c4e381",
   "metadata": {},
   "source": [
    "# Import module"
   ]
  },
  {
   "cell_type": "markdown",
   "id": "14a33d3e",
   "metadata": {},
   "source": [
    "The link to get [ImageAnalysis3](https://github.com/zhengpuas47/ImageAnalysis3) \n",
    "\n",
    "Or from the Zhuang lab archived [source_tools](https://github.com/ZhuangLab/Chromatin_Analysis_2020_cell/tree/master/sequential_tracing/source)"
   ]
  },
  {
   "cell_type": "markdown",
   "id": "b411cc21",
   "metadata": {},
   "source": [
    "## ImageAnalysis3 and basic modules"
   ]
  },
  {
   "cell_type": "code",
   "execution_count": 1,
   "id": "32554ab1",
   "metadata": {},
   "outputs": [
    {
     "name": "stdout",
     "output_type": "stream",
     "text": [
      "36580\n"
     ]
    }
   ],
   "source": [
    "%run \"C:\\Users\\shiwei\\Documents\\ImageAnalysis3\\required_files\\Startup_py3.py\"\n",
    "sys.path.append(r\"C:\\Users\\shiwei\\Documents\")\n",
    "\n",
    "import ImageAnalysis3 as ia\n",
    "from ImageAnalysis3 import *\n",
    "from ImageAnalysis3.classes import _allowed_kwds\n",
    "\n",
    "import h5py\n",
    "import ast\n",
    "import pandas as pd\n",
    "\n",
    "print(os.getpid())"
   ]
  },
  {
   "cell_type": "markdown",
   "id": "f5f8cd77",
   "metadata": {},
   "source": [
    "## Chromatin_analysis_tools etc"
   ]
  },
  {
   "cell_type": "markdown",
   "id": "2db5036f",
   "metadata": {},
   "source": [
    "See **functions** in the repository for [AnalysisTool_Chromatin](../../README.md)"
   ]
  },
  {
   "cell_type": "code",
   "execution_count": 2,
   "id": "9469aba8",
   "metadata": {},
   "outputs": [
    {
     "data": {
      "text/plain": [
       "<module 'atac_to_loci' from 'C:\\\\Users\\\\shiwei\\\\Documents\\\\AnalysisTool_Chromatin\\\\atac_to_loci.py'>"
      ]
     },
     "execution_count": 2,
     "metadata": {},
     "output_type": "execute_result"
    }
   ],
   "source": [
    "# Chromatin_analysis_tools (ATC)\n",
    "# Get path for the py containing functions\n",
    "import os\n",
    "import sys\n",
    "import importlib\n",
    "module_path =r'C:\\Users\\shiwei\\Documents\\AnalysisTool_Chromatin'\n",
    "if module_path not in sys.path:\n",
    "    sys.path.append(module_path)\n",
    "    \n",
    "# import relevant modules\n",
    "import gene_selection \n",
    "importlib.reload(gene_selection)\n",
    "import gene_to_loci\n",
    "importlib.reload(gene_to_loci)\n",
    "import gene_activity\n",
    "importlib.reload(gene_activity)\n",
    "import loci_1d_features\n",
    "importlib.reload(loci_1d_features)  \n",
    "\n",
    "import atac_to_loci\n",
    "importlib.reload(atac_to_loci)"
   ]
  },
  {
   "cell_type": "markdown",
   "id": "aa08c6de",
   "metadata": {},
   "source": [
    "# Define folders"
   ]
  },
  {
   "cell_type": "code",
   "execution_count": 3,
   "id": "2c8dce53",
   "metadata": {},
   "outputs": [
    {
     "name": "stdout",
     "output_type": "stream",
     "text": [
      "Use existing analysis folder: L:\\Shiwei\\postanalysis_2024\\v0\\chromosome_scaling\\analysis.\n",
      "Use existing figure folder: L:\\Shiwei\\postanalysis_2024\\v0\\chromosome_scaling\\figures.\n"
     ]
    }
   ],
   "source": [
    "# main folder for postanalysis\n",
    "postanalysis_folder = r'L:\\Shiwei\\postanalysis_2024\\v0'\n",
    "# input files for postanalysis\n",
    "input_folder = os.path.join(postanalysis_folder, 'resources_from_preprocess')\n",
    "\n",
    "# output file to be generated\n",
    "output_main_folder = os.path.join(postanalysis_folder, 'chromosome_scaling')\n",
    "\n",
    "output_analysis_folder = os.path.join(output_main_folder, 'analysis')\n",
    "output_figure_folder = os.path.join(output_main_folder, 'figures')\n",
    "\n",
    "# make new folder if needed\n",
    "make_output_folder = True\n",
    "\n",
    "if make_output_folder and not os.path.exists(output_analysis_folder):\n",
    "    os.makedirs(output_analysis_folder)\n",
    "    print(f'Generating analysis folder: {output_analysis_folder}.')\n",
    "elif os.path.exists(output_analysis_folder):\n",
    "    print(f'Use existing analysis folder: {output_analysis_folder}.')\n",
    "    \n",
    "if make_output_folder and not os.path.exists(output_figure_folder):\n",
    "    os.makedirs(output_figure_folder)\n",
    "    print(f'Generating figure folder: {output_figure_folder}.')\n",
    "elif os.path.exists(output_figure_folder):\n",
    "    print(f'Use existing figure folder: {output_figure_folder}.')"
   ]
  },
  {
   "cell_type": "markdown",
   "id": "43745cf2",
   "metadata": {},
   "source": [
    "# Plotting parameters"
   ]
  },
  {
   "cell_type": "code",
   "execution_count": 4,
   "id": "fb1e3324",
   "metadata": {},
   "outputs": [],
   "source": [
    "%matplotlib inline\n",
    "import matplotlib\n",
    "matplotlib.rcParams['pdf.fonttype'] = 42\n",
    "import matplotlib.pyplot as plt\n",
    "plt.rc('font', family='serif')\n",
    "plt.rc('font', serif='Arial')\n",
    "\n",
    "from ImageAnalysis3.figure_tools import _double_col_width, _single_col_width, _font_size, _ticklabel_size,_ticklabel_width\n",
    "\n",
    "import seaborn as sns\n",
    "sns.set_context(\"paper\", rc={\"font.size\":_font_size,\"axes.titlesize\":_font_size+1,\"axes.labelsize\":_font_size})  "
   ]
  },
  {
   "cell_type": "code",
   "execution_count": 5,
   "id": "bc310b7e",
   "metadata": {},
   "outputs": [],
   "source": [
    "# Other required plotting parameters\n",
    "_dpi = 300\n",
    "_font_size = 7\n",
    "_page_width = 5.5\n"
   ]
  },
  {
   "cell_type": "markdown",
   "id": "a1d34726",
   "metadata": {},
   "source": [
    "## cell type color-codess"
   ]
  },
  {
   "cell_type": "code",
   "execution_count": 6,
   "id": "c33943dd",
   "metadata": {},
   "outputs": [],
   "source": [
    "# cell labels from RNA-MERFISH and celltype prediction\n",
    "selected_cell_labels = ['L2/3 IT','L4/5 IT','L5 IT','L6 IT','L5 ET','L5/6 NP','L6 CT','L6b',\n",
    "                           'Sst','Pvalb','Lamp5','Sncg','Vip',\n",
    "                           'Astro','Oligo','OPC','Micro','Endo','VLMC','SMC','Peri', \n",
    "                           #'other',\n",
    "                          ]\n",
    "# cell palette from RNA-MERFISH UMAP and stats\n",
    "celltype_palette = {'Astro':'lightcoral', \n",
    "                    'Endo':'skyblue', \n",
    "                    'L2/3 IT':'gold', \n",
    "                    'L4/5 IT':'darkorange', \n",
    "                    'L5 ET':'mediumseagreen', \n",
    "                    'L5 IT':'aqua',\n",
    "                    'L5/6 NP':'darkgreen',\n",
    "                    'L6 CT':'brown',\n",
    "                    'L6 IT':'magenta',\n",
    "                    'L6b':'blue', \n",
    "                    'Lamp5':'orange', \n",
    "                    'Micro':'peachpuff',\n",
    "                    'OPC':'thistle', \n",
    "                    'Oligo':'darkviolet',\n",
    "                    'Peri':'sandybrown',\n",
    "                    'Pvalb':'springgreen',\n",
    "                    'SMC':'rosybrown',\n",
    "                    'Sncg':'darkkhaki',\n",
    "                    'Sst':'steelblue', \n",
    "                    'VLMC':'saddlebrown', \n",
    "                    'Vip':'red',\n",
    "                    'other':'slategray'}\n"
   ]
  },
  {
   "cell_type": "code",
   "execution_count": 7,
   "id": "caad6887",
   "metadata": {},
   "outputs": [],
   "source": [
    "# this is the plotting order noted based on the snRNA transcriptional acitivty if needed\n",
    "sorted_cellplot_order_byRNA = ['Micro', 'Oligo', 'Endo', 'OPC', 'Astro', 'Vip', 'Lamp5',\n",
    "                  'L5/6 NP', 'Sst', 'Sncg', 'Pvalb', 'L4/5 IT', 'L6 CT',\n",
    "                  'L6 IT', 'L6b', 'L2/3 IT', 'L5 IT', 'L5 ET']"
   ]
  },
  {
   "cell_type": "markdown",
   "id": "b00f58f0",
   "metadata": {},
   "source": [
    "# Load data relevant information"
   ]
  },
  {
   "cell_type": "markdown",
   "id": "7e667606",
   "metadata": {},
   "source": [
    "## load and format codebook"
   ]
  },
  {
   "cell_type": "markdown",
   "id": "6b8440c6",
   "metadata": {},
   "source": [
    "[merged codebook](../resources/merged_codebook.csv) as in the repository (merged for all DNA-MERFISH libraries)"
   ]
  },
  {
   "cell_type": "code",
   "execution_count": 8,
   "id": "c0734aad",
   "metadata": {},
   "outputs": [
    {
     "data": {
      "text/html": [
       "<div>\n",
       "<style scoped>\n",
       "    .dataframe tbody tr th:only-of-type {\n",
       "        vertical-align: middle;\n",
       "    }\n",
       "\n",
       "    .dataframe tbody tr th {\n",
       "        vertical-align: top;\n",
       "    }\n",
       "\n",
       "    .dataframe thead th {\n",
       "        text-align: right;\n",
       "    }\n",
       "</style>\n",
       "<table border=\"1\" class=\"dataframe\">\n",
       "  <thead>\n",
       "    <tr style=\"text-align: right;\">\n",
       "      <th></th>\n",
       "      <th>name</th>\n",
       "      <th>id</th>\n",
       "      <th>NDB_784</th>\n",
       "      <th>NDB_755</th>\n",
       "      <th>NDB_826</th>\n",
       "      <th>NDB_713</th>\n",
       "      <th>NDB_865</th>\n",
       "      <th>NDB_725</th>\n",
       "      <th>NDB_817</th>\n",
       "      <th>NDB_710</th>\n",
       "      <th>...</th>\n",
       "      <th>NDB_479</th>\n",
       "      <th>NDB_562</th>\n",
       "      <th>NDB_608</th>\n",
       "      <th>NDB_460</th>\n",
       "      <th>NDB_563</th>\n",
       "      <th>NDB_592</th>\n",
       "      <th>NDB_368</th>\n",
       "      <th>NDB_436</th>\n",
       "      <th>NDB_629</th>\n",
       "      <th>NDB_604</th>\n",
       "    </tr>\n",
       "  </thead>\n",
       "  <tbody>\n",
       "    <tr>\n",
       "      <th>0</th>\n",
       "      <td>1:3742742-3759944</td>\n",
       "      <td>1</td>\n",
       "      <td>0.0</td>\n",
       "      <td>0.0</td>\n",
       "      <td>0.0</td>\n",
       "      <td>0.0</td>\n",
       "      <td>0.0</td>\n",
       "      <td>0.0</td>\n",
       "      <td>0.0</td>\n",
       "      <td>0.0</td>\n",
       "      <td>...</td>\n",
       "      <td>0.0</td>\n",
       "      <td>0.0</td>\n",
       "      <td>0.0</td>\n",
       "      <td>0.0</td>\n",
       "      <td>0.0</td>\n",
       "      <td>0.0</td>\n",
       "      <td>0.0</td>\n",
       "      <td>0.0</td>\n",
       "      <td>0.0</td>\n",
       "      <td>0.0</td>\n",
       "    </tr>\n",
       "    <tr>\n",
       "      <th>1</th>\n",
       "      <td>1:6245958-6258969</td>\n",
       "      <td>2</td>\n",
       "      <td>0.0</td>\n",
       "      <td>0.0</td>\n",
       "      <td>0.0</td>\n",
       "      <td>0.0</td>\n",
       "      <td>0.0</td>\n",
       "      <td>0.0</td>\n",
       "      <td>0.0</td>\n",
       "      <td>0.0</td>\n",
       "      <td>...</td>\n",
       "      <td>0.0</td>\n",
       "      <td>0.0</td>\n",
       "      <td>0.0</td>\n",
       "      <td>0.0</td>\n",
       "      <td>0.0</td>\n",
       "      <td>0.0</td>\n",
       "      <td>0.0</td>\n",
       "      <td>0.0</td>\n",
       "      <td>0.0</td>\n",
       "      <td>0.0</td>\n",
       "    </tr>\n",
       "    <tr>\n",
       "      <th>2</th>\n",
       "      <td>1:8740008-8759916</td>\n",
       "      <td>3</td>\n",
       "      <td>0.0</td>\n",
       "      <td>0.0</td>\n",
       "      <td>0.0</td>\n",
       "      <td>0.0</td>\n",
       "      <td>0.0</td>\n",
       "      <td>0.0</td>\n",
       "      <td>0.0</td>\n",
       "      <td>0.0</td>\n",
       "      <td>...</td>\n",
       "      <td>0.0</td>\n",
       "      <td>0.0</td>\n",
       "      <td>0.0</td>\n",
       "      <td>0.0</td>\n",
       "      <td>0.0</td>\n",
       "      <td>0.0</td>\n",
       "      <td>0.0</td>\n",
       "      <td>0.0</td>\n",
       "      <td>0.0</td>\n",
       "      <td>0.0</td>\n",
       "    </tr>\n",
       "    <tr>\n",
       "      <th>1016</th>\n",
       "      <td>1:9627926-9637875</td>\n",
       "      <td>1</td>\n",
       "      <td>0.0</td>\n",
       "      <td>0.0</td>\n",
       "      <td>0.0</td>\n",
       "      <td>0.0</td>\n",
       "      <td>0.0</td>\n",
       "      <td>0.0</td>\n",
       "      <td>0.0</td>\n",
       "      <td>0.0</td>\n",
       "      <td>...</td>\n",
       "      <td>0.0</td>\n",
       "      <td>0.0</td>\n",
       "      <td>0.0</td>\n",
       "      <td>0.0</td>\n",
       "      <td>0.0</td>\n",
       "      <td>0.0</td>\n",
       "      <td>0.0</td>\n",
       "      <td>0.0</td>\n",
       "      <td>0.0</td>\n",
       "      <td>0.0</td>\n",
       "    </tr>\n",
       "    <tr>\n",
       "      <th>1017</th>\n",
       "      <td>1:9799472-9811359</td>\n",
       "      <td>2</td>\n",
       "      <td>0.0</td>\n",
       "      <td>0.0</td>\n",
       "      <td>0.0</td>\n",
       "      <td>0.0</td>\n",
       "      <td>0.0</td>\n",
       "      <td>0.0</td>\n",
       "      <td>0.0</td>\n",
       "      <td>0.0</td>\n",
       "      <td>...</td>\n",
       "      <td>0.0</td>\n",
       "      <td>0.0</td>\n",
       "      <td>0.0</td>\n",
       "      <td>0.0</td>\n",
       "      <td>0.0</td>\n",
       "      <td>1.0</td>\n",
       "      <td>0.0</td>\n",
       "      <td>0.0</td>\n",
       "      <td>0.0</td>\n",
       "      <td>0.0</td>\n",
       "    </tr>\n",
       "  </tbody>\n",
       "</table>\n",
       "<p>5 rows × 228 columns</p>\n",
       "</div>"
      ],
      "text/plain": [
       "                   name id  NDB_784  NDB_755  NDB_826  NDB_713  NDB_865  \\\n",
       "0     1:3742742-3759944  1      0.0      0.0      0.0      0.0      0.0   \n",
       "1     1:6245958-6258969  2      0.0      0.0      0.0      0.0      0.0   \n",
       "2     1:8740008-8759916  3      0.0      0.0      0.0      0.0      0.0   \n",
       "1016  1:9627926-9637875  1      0.0      0.0      0.0      0.0      0.0   \n",
       "1017  1:9799472-9811359  2      0.0      0.0      0.0      0.0      0.0   \n",
       "\n",
       "      NDB_725  NDB_817  NDB_710  ...  NDB_479  NDB_562  NDB_608  NDB_460  \\\n",
       "0         0.0      0.0      0.0  ...      0.0      0.0      0.0      0.0   \n",
       "1         0.0      0.0      0.0  ...      0.0      0.0      0.0      0.0   \n",
       "2         0.0      0.0      0.0  ...      0.0      0.0      0.0      0.0   \n",
       "1016      0.0      0.0      0.0  ...      0.0      0.0      0.0      0.0   \n",
       "1017      0.0      0.0      0.0  ...      0.0      0.0      0.0      0.0   \n",
       "\n",
       "      NDB_563  NDB_592  NDB_368  NDB_436  NDB_629  NDB_604  \n",
       "0         0.0      0.0      0.0      0.0      0.0      0.0  \n",
       "1         0.0      0.0      0.0      0.0      0.0      0.0  \n",
       "2         0.0      0.0      0.0      0.0      0.0      0.0  \n",
       "1016      0.0      0.0      0.0      0.0      0.0      0.0  \n",
       "1017      0.0      1.0      0.0      0.0      0.0      0.0  \n",
       "\n",
       "[5 rows x 228 columns]"
      ]
     },
     "execution_count": 8,
     "metadata": {},
     "output_type": "execute_result"
    }
   ],
   "source": [
    "# Load codebook \n",
    "codebook_fname = os.path.join(input_folder,'merged_codebook.csv')\n",
    "codebook_df = pd.read_csv (codebook_fname, index_col=0)\n",
    "\n",
    "# sort df by chr and chr_order\n",
    "codebook_df = loci_1d_features.sort_loci_df_by_chr_order (codebook_df)\n",
    "codebook_df.head()"
   ]
  },
  {
   "cell_type": "code",
   "execution_count": 9,
   "id": "3e95ab4f",
   "metadata": {},
   "outputs": [
    {
     "data": {
      "text/html": [
       "<div>\n",
       "<style scoped>\n",
       "    .dataframe tbody tr th:only-of-type {\n",
       "        vertical-align: middle;\n",
       "    }\n",
       "\n",
       "    .dataframe tbody tr th {\n",
       "        vertical-align: top;\n",
       "    }\n",
       "\n",
       "    .dataframe thead th {\n",
       "        text-align: right;\n",
       "    }\n",
       "</style>\n",
       "<table border=\"1\" class=\"dataframe\">\n",
       "  <thead>\n",
       "    <tr style=\"text-align: right;\">\n",
       "      <th></th>\n",
       "      <th>name</th>\n",
       "      <th>id</th>\n",
       "      <th>chr</th>\n",
       "      <th>chr_order</th>\n",
       "      <th>library</th>\n",
       "    </tr>\n",
       "    <tr>\n",
       "      <th>loci_name</th>\n",
       "      <th></th>\n",
       "      <th></th>\n",
       "      <th></th>\n",
       "      <th></th>\n",
       "      <th></th>\n",
       "    </tr>\n",
       "  </thead>\n",
       "  <tbody>\n",
       "    <tr>\n",
       "      <th>chr1_3742742_3759944</th>\n",
       "      <td>1:3742742-3759944</td>\n",
       "      <td>1</td>\n",
       "      <td>1</td>\n",
       "      <td>0.0</td>\n",
       "      <td>CTP11</td>\n",
       "    </tr>\n",
       "    <tr>\n",
       "      <th>chr1_6245958_6258969</th>\n",
       "      <td>1:6245958-6258969</td>\n",
       "      <td>2</td>\n",
       "      <td>1</td>\n",
       "      <td>1.0</td>\n",
       "      <td>CTP11</td>\n",
       "    </tr>\n",
       "    <tr>\n",
       "      <th>chr1_8740008_8759916</th>\n",
       "      <td>1:8740008-8759916</td>\n",
       "      <td>3</td>\n",
       "      <td>1</td>\n",
       "      <td>2.0</td>\n",
       "      <td>CTP11</td>\n",
       "    </tr>\n",
       "    <tr>\n",
       "      <th>chr1_9627926_9637875</th>\n",
       "      <td>1:9627926-9637875</td>\n",
       "      <td>1</td>\n",
       "      <td>1</td>\n",
       "      <td>3.0</td>\n",
       "      <td>CTP13</td>\n",
       "    </tr>\n",
       "    <tr>\n",
       "      <th>chr1_9799472_9811359</th>\n",
       "      <td>1:9799472-9811359</td>\n",
       "      <td>2</td>\n",
       "      <td>1</td>\n",
       "      <td>4.0</td>\n",
       "      <td>CTP13</td>\n",
       "    </tr>\n",
       "  </tbody>\n",
       "</table>\n",
       "</div>"
      ],
      "text/plain": [
       "                                   name id chr  chr_order library\n",
       "loci_name                                                        \n",
       "chr1_3742742_3759944  1:3742742-3759944  1   1        0.0   CTP11\n",
       "chr1_6245958_6258969  1:6245958-6258969  2   1        1.0   CTP11\n",
       "chr1_8740008_8759916  1:8740008-8759916  3   1        2.0   CTP11\n",
       "chr1_9627926_9637875  1:9627926-9637875  1   1        3.0   CTP13\n",
       "chr1_9799472_9811359  1:9799472-9811359  2   1        4.0   CTP13"
      ]
     },
     "execution_count": 9,
     "metadata": {},
     "output_type": "execute_result"
    }
   ],
   "source": [
    "# Format the chr loci name by \n",
    "# 1. changing loci name format\n",
    "# 2. extract relevant information such as id, chr, chr_order, and library etc\n",
    "from gene_to_loci import loci_pos_format\n",
    "loci_name_list = list(map(loci_pos_format, codebook_df['name'].tolist()))\n",
    "loci_name_arr = np.array(loci_name_list)\n",
    "\n",
    "# convert to a new dataframe and set loci name as index\n",
    "codebook_df = codebook_df[['name','id','chr','chr_order','library']]\n",
    "codebook_df['loci_name'] = list(loci_name_arr[:,0])\n",
    "codebook_df = codebook_df.set_index ('loci_name')\n",
    "\n",
    "codebook_df.head()"
   ]
  },
  {
   "cell_type": "markdown",
   "id": "d1c18bbd",
   "metadata": {},
   "source": [
    "# Load spatial distance from matrices"
   ]
  },
  {
   "cell_type": "code",
   "execution_count": 10,
   "id": "b6c526c4",
   "metadata": {},
   "outputs": [
    {
     "name": "stdout",
     "output_type": "stream",
     "text": [
      "dict_keys(['Oligo', 'L5 IT', 'Micro', 'Peri', 'Endo', 'Astro', 'OPC', 'L6 CT', 'L5 ET', 'L5/6 NP', 'Pvalb', 'L6 IT', 'Lamp5', 'L6b', 'Sst', 'SMC', 'L4/5 IT', 'L2/3 IT', 'Vip', 'Sncg', 'VLMC'])\n"
     ]
    }
   ],
   "source": [
    "# Load class_2_median\n",
    "# class to median distance dict\n",
    "class_2_median_filename = os.path.join(input_folder, 'subclass_2_medianDict.pkl')\n",
    "\n",
    "class_2_medianDict = pickle.load(open(class_2_median_filename, 'rb'))\n",
    "print(class_2_medianDict.keys())"
   ]
  },
  {
   "cell_type": "code",
   "execution_count": 11,
   "id": "77f17c7f",
   "metadata": {},
   "outputs": [
    {
     "data": {
      "text/plain": [
       "array(['Oligo', 'L5 IT', 'Micro', 'Endo', 'Astro', 'OPC', 'L6 CT',\n",
       "       'L5 ET', 'Pvalb', 'L6 IT', 'L6b', 'Sst', 'L4/5 IT', 'L2/3 IT'],\n",
       "      dtype='<U7')"
      ]
     },
     "execution_count": 11,
     "metadata": {},
     "output_type": "execute_result"
    }
   ],
   "source": [
    "class_2_info_filename = os.path.join(input_folder, 'subclass_2_cellInfo.pkl')\n",
    "class_2_infoDict = pickle.load(open(class_2_info_filename, 'rb'))\n",
    "\n",
    "# inspect cell numbers for quality control\n",
    "sel_class_list = []\n",
    "for _cls, _info_list in class_2_infoDict.items():\n",
    "    #print(_cls, len(_info_list))\n",
    "    # include most cell types with abundant number; remove Peri because no snRNAseq data\n",
    "    if len(_info_list) > len(class_2_infoDict['Peri']): \n",
    "        sel_class_list.append(_cls)\n",
    "        \n",
    "np.array(sel_class_list)"
   ]
  },
  {
   "cell_type": "markdown",
   "id": "69cc9fa5",
   "metadata": {},
   "source": [
    "# Load RNA from snRNAseq"
   ]
  },
  {
   "cell_type": "code",
   "execution_count": 12,
   "id": "071ac4b9",
   "metadata": {},
   "outputs": [
    {
     "data": {
      "text/plain": [
       "AnnData object with n_obs × n_vars = 40166 × 25644\n",
       "    obs: 'aggr_num', 'umi.counts', 'gene.counts', 'library_id', 'tube_barcode', 'Seq_batch', 'Region', 'Lib_type', 'Gender', 'Donor', 'Amp_Name', 'Amp_Date', 'Amp_PCR_cyles', 'Lib_Name', 'Lib_Date', 'Replicate_Lib', 'Lib_PCR_cycles', 'Lib_PassFail', 'Cell_Capture', 'Lib_Cells', 'Mean_Reads_perCell', 'Median_Genes_perCell', 'Median_UMI_perCell', 'Saturation', 'Live_percent', 'Total_Cells', 'Live_Cells', 'method', 'exp_component_name', 'mapped_reads', 'unmapped_reads', 'nonconf_mapped_reads', 'total.reads', 'doublet.score', 'subclass_label', 'class_label', 'cluster_label', 'cluster_id', 'n_genes', 'n_genes_by_counts', 'total_counts', 'pct_counts_in_top_50_genes', 'pct_counts_in_top_100_genes', 'pct_counts_in_top_200_genes', 'pct_counts_in_top_500_genes', 'neuron_identity', 'class_label_new', 'subclass_label_new'\n",
       "    var: 'gene_ids', 'feature_types', 'genome', 'n_cells', 'n_cells_by_counts', 'mean_counts', 'pct_dropout_by_counts', 'total_counts'\n",
       "    uns: 'subclass_label_colors'"
      ]
     },
     "execution_count": 12,
     "metadata": {},
     "output_type": "execute_result"
    }
   ],
   "source": [
    "import scanpy as sc\n",
    "sn_RNA_folder = r'L:\\Shiwei\\DNA_MERFISH_analysis\\10x_nuclei_v3_MOp_AIBS\\Analysis_10X_nuclei_v3_AIBS\\processed'\n",
    "sn_adata = sc.read(os.path.join(sn_RNA_folder,r'MOp_10x_sn_filtered_unnorm_w_label.h5ad'))\n",
    "sn_adata"
   ]
  },
  {
   "cell_type": "markdown",
   "id": "72916c1f",
   "metadata": {},
   "source": [
    "## transcripts' genomic information\n",
    "\n",
    "Example table can be found as:\n",
    "\n",
    "[MOp_10x_snRNA_chr_info_NEW_from_transcriptome_FORMAT](../../external/resources/MOp_10x_snRNA_chr_info_NEW_from_transcriptome_FORMAT.csv)"
   ]
  },
  {
   "cell_type": "code",
   "execution_count": null,
   "id": "a3a1d023",
   "metadata": {},
   "outputs": [],
   "source": []
  },
  {
   "cell_type": "code",
   "execution_count": 13,
   "id": "b0813704",
   "metadata": {},
   "outputs": [
    {
     "data": {
      "text/html": [
       "<div>\n",
       "<style scoped>\n",
       "    .dataframe tbody tr th:only-of-type {\n",
       "        vertical-align: middle;\n",
       "    }\n",
       "\n",
       "    .dataframe tbody tr th {\n",
       "        vertical-align: top;\n",
       "    }\n",
       "\n",
       "    .dataframe thead th {\n",
       "        text-align: right;\n",
       "    }\n",
       "</style>\n",
       "<table border=\"1\" class=\"dataframe\">\n",
       "  <thead>\n",
       "    <tr style=\"text-align: right;\">\n",
       "      <th></th>\n",
       "      <th>chr</th>\n",
       "      <th>start</th>\n",
       "      <th>end</th>\n",
       "      <th>gene_biotype</th>\n",
       "      <th>coding_strand</th>\n",
       "      <th>length</th>\n",
       "      <th>genomic_position</th>\n",
       "    </tr>\n",
       "    <tr>\n",
       "      <th>gene</th>\n",
       "      <th></th>\n",
       "      <th></th>\n",
       "      <th></th>\n",
       "      <th></th>\n",
       "      <th></th>\n",
       "      <th></th>\n",
       "      <th></th>\n",
       "    </tr>\n",
       "  </thead>\n",
       "  <tbody>\n",
       "    <tr>\n",
       "      <th>Xkr4</th>\n",
       "      <td>1</td>\n",
       "      <td>3205901</td>\n",
       "      <td>3671498</td>\n",
       "      <td>protein_coding</td>\n",
       "      <td>-1</td>\n",
       "      <td>465597</td>\n",
       "      <td>chr1_3205901_3671498</td>\n",
       "    </tr>\n",
       "    <tr>\n",
       "      <th>Gm1992</th>\n",
       "      <td>1</td>\n",
       "      <td>3466587</td>\n",
       "      <td>3513553</td>\n",
       "      <td>antisense</td>\n",
       "      <td>1</td>\n",
       "      <td>46966</td>\n",
       "      <td>chr1_3466587_3513553</td>\n",
       "    </tr>\n",
       "    <tr>\n",
       "      <th>Gm37381</th>\n",
       "      <td>1</td>\n",
       "      <td>3905739</td>\n",
       "      <td>3986215</td>\n",
       "      <td>lincRNA</td>\n",
       "      <td>-1</td>\n",
       "      <td>80476</td>\n",
       "      <td>chr1_3905739_3986215</td>\n",
       "    </tr>\n",
       "    <tr>\n",
       "      <th>Rp1</th>\n",
       "      <td>1</td>\n",
       "      <td>3999557</td>\n",
       "      <td>4409241</td>\n",
       "      <td>protein_coding</td>\n",
       "      <td>-1</td>\n",
       "      <td>409684</td>\n",
       "      <td>chr1_3999557_4409241</td>\n",
       "    </tr>\n",
       "    <tr>\n",
       "      <th>Sox17</th>\n",
       "      <td>1</td>\n",
       "      <td>4490931</td>\n",
       "      <td>4497354</td>\n",
       "      <td>protein_coding</td>\n",
       "      <td>-1</td>\n",
       "      <td>6423</td>\n",
       "      <td>chr1_4490931_4497354</td>\n",
       "    </tr>\n",
       "  </tbody>\n",
       "</table>\n",
       "</div>"
      ],
      "text/plain": [
       "        chr    start      end    gene_biotype  coding_strand  length  \\\n",
       "gene                                                                   \n",
       "Xkr4      1  3205901  3671498  protein_coding             -1  465597   \n",
       "Gm1992    1  3466587  3513553       antisense              1   46966   \n",
       "Gm37381   1  3905739  3986215         lincRNA             -1   80476   \n",
       "Rp1       1  3999557  4409241  protein_coding             -1  409684   \n",
       "Sox17     1  4490931  4497354  protein_coding             -1    6423   \n",
       "\n",
       "             genomic_position  \n",
       "gene                           \n",
       "Xkr4     chr1_3205901_3671498  \n",
       "Gm1992   chr1_3466587_3513553  \n",
       "Gm37381  chr1_3905739_3986215  \n",
       "Rp1      chr1_3999557_4409241  \n",
       "Sox17    chr1_4490931_4497354  "
      ]
     },
     "execution_count": 13,
     "metadata": {},
     "output_type": "execute_result"
    }
   ],
   "source": [
    "# a curated file containing the genomic coordinate info for all transcripts\n",
    "clean_gene_df =pd.read_csv(os.path.join(sn_RNA_folder, \"MOp_10x_snRNA_chr_info_NEW_from_transcriptome_FORMAT.csv\"), index_col=0)\n",
    "clean_gene_df.head()"
   ]
  },
  {
   "cell_type": "code",
   "execution_count": 14,
   "id": "66e84947",
   "metadata": {},
   "outputs": [],
   "source": [
    "# filter adata with known chromosome information\n",
    "sn_adata.var[clean_gene_df.columns]=clean_gene_df\n",
    "chrom_list = [c for c in np.unique(codebook_df['chr']) if c!= 'Y']\n",
    "chrom_list = [c for c in chrom_list  if c!='X']\n",
    "chrom_list.sort(key = int)\n",
    "chrom_list.append('X')\n",
    "filtered_adata = sn_adata[:,sn_adata.var['chr'].isin(chrom_list)]"
   ]
  },
  {
   "cell_type": "markdown",
   "id": "d786e76d",
   "metadata": {},
   "source": [
    "## summarize RNA level by chromosome"
   ]
  },
  {
   "cell_type": "code",
   "execution_count": 15,
   "id": "14e0f582",
   "metadata": {},
   "outputs": [
    {
     "name": "stderr",
     "output_type": "stream",
     "text": [
      "100%|██████████████████████████████████████████████████████████████████████████████████| 20/20 [00:32<00:00,  1.63s/it]\n"
     ]
    }
   ],
   "source": [
    "groupby = 'subclass_label_new'\n",
    "\n",
    "expression_chr_dict = {'celltype':[], 'chr':[], \n",
    "                       'chromosome_expression':[],\n",
    "                       #'chromosome_mean_expression':[],\n",
    "                      }\n",
    "\n",
    "import tqdm\n",
    "for sel_chrom in tqdm.tqdm(chrom_list):\n",
    "    sel_chrom = f'chr{sel_chrom}'\n",
    "\n",
    "    for sel_celltype in sel_class_list:\n",
    "        sel_adata = filtered_adata[filtered_adata.obs[groupby]==sel_celltype]\n",
    "        sel_adata_chr = sel_adata[:, sel_adata.var['chr']==sel_chrom.split('chr')[1]]\n",
    "\n",
    "        expression_celltype = np.nanmedian(np.sum(sel_adata_chr.X.toarray(),axis=1))\n",
    "        #mean_expression_celltype = np.nanmedian(np.mean(sel_adata_chr.X.toarray(),axis=1))\n",
    "\n",
    "        expression_chr_dict['celltype'].append(sel_celltype)\n",
    "        expression_chr_dict['chr'].append(sel_chrom)\n",
    "\n",
    "        expression_chr_dict['chromosome_expression'].append(expression_celltype)\n",
    "        #expression_chr_dict['chromosome_mean_expression'].append(mean_expression_celltype)\n",
    "    \n",
    "expression_chr_df = pd.DataFrame(expression_chr_dict)"
   ]
  },
  {
   "cell_type": "code",
   "execution_count": 16,
   "id": "7c12fc58",
   "metadata": {},
   "outputs": [
    {
     "data": {
      "text/html": [
       "<div>\n",
       "<style scoped>\n",
       "    .dataframe tbody tr th:only-of-type {\n",
       "        vertical-align: middle;\n",
       "    }\n",
       "\n",
       "    .dataframe tbody tr th {\n",
       "        vertical-align: top;\n",
       "    }\n",
       "\n",
       "    .dataframe thead th {\n",
       "        text-align: right;\n",
       "    }\n",
       "</style>\n",
       "<table border=\"1\" class=\"dataframe\">\n",
       "  <thead>\n",
       "    <tr style=\"text-align: right;\">\n",
       "      <th></th>\n",
       "      <th>celltype</th>\n",
       "      <th>chr</th>\n",
       "      <th>chromosome_expression</th>\n",
       "    </tr>\n",
       "  </thead>\n",
       "  <tbody>\n",
       "    <tr>\n",
       "      <th>0</th>\n",
       "      <td>Oligo</td>\n",
       "      <td>chr1</td>\n",
       "      <td>239.0</td>\n",
       "    </tr>\n",
       "    <tr>\n",
       "      <th>1</th>\n",
       "      <td>L5 IT</td>\n",
       "      <td>chr1</td>\n",
       "      <td>1189.0</td>\n",
       "    </tr>\n",
       "    <tr>\n",
       "      <th>2</th>\n",
       "      <td>Micro</td>\n",
       "      <td>chr1</td>\n",
       "      <td>157.0</td>\n",
       "    </tr>\n",
       "    <tr>\n",
       "      <th>3</th>\n",
       "      <td>Endo</td>\n",
       "      <td>chr1</td>\n",
       "      <td>224.0</td>\n",
       "    </tr>\n",
       "    <tr>\n",
       "      <th>4</th>\n",
       "      <td>Astro</td>\n",
       "      <td>chr1</td>\n",
       "      <td>314.0</td>\n",
       "    </tr>\n",
       "  </tbody>\n",
       "</table>\n",
       "</div>"
      ],
      "text/plain": [
       "  celltype   chr  chromosome_expression\n",
       "0    Oligo  chr1                  239.0\n",
       "1    L5 IT  chr1                 1189.0\n",
       "2    Micro  chr1                  157.0\n",
       "3     Endo  chr1                  224.0\n",
       "4    Astro  chr1                  314.0"
      ]
     },
     "execution_count": 16,
     "metadata": {},
     "output_type": "execute_result"
    }
   ],
   "source": [
    "expression_chr_df.head()"
   ]
  },
  {
   "cell_type": "markdown",
   "id": "befbf3b9",
   "metadata": {},
   "source": [
    "# Calculate power law scaling vs. genomic distance for each chromosome"
   ]
  },
  {
   "cell_type": "code",
   "execution_count": 17,
   "id": "b6832b34",
   "metadata": {},
   "outputs": [],
   "source": [
    "from scipy.spatial.distance import pdist, squareform\n",
    "from scipy.stats import pearsonr, spearmanr\n",
    "from astropy.convolution import convolve\n",
    "from astropy.convolution import Gaussian2DKernel\n",
    "from scipy.ndimage import gaussian_filter\n",
    "from numpy import ma\n",
    "from scipy.optimize import curve_fit\n",
    "\n",
    "def power_law(x, a, k):\n",
    "    return a * np.power(x, k)"
   ]
  },
  {
   "cell_type": "code",
   "execution_count": 18,
   "id": "f762e91f",
   "metadata": {},
   "outputs": [],
   "source": [
    "# excluding ChrX and ChrY\n",
    "sorted_chroms = [str(_ch) for _ch in range(1,20)]"
   ]
  },
  {
   "cell_type": "code",
   "execution_count": 19,
   "id": "b62acd13",
   "metadata": {},
   "outputs": [],
   "source": [
    "# short-range and long-range\n",
    "distance_cutoff_dict = {'short_range':[0,1e7], 'long_range':[1e7,np.inf]}"
   ]
  },
  {
   "cell_type": "code",
   "execution_count": 20,
   "id": "00e4a14c",
   "metadata": {},
   "outputs": [],
   "source": [
    "# init dict to save results\n",
    "scaling_result_dict = {'chr':[], 'celltype':[], \n",
    "                       'genomic_range':[], 'k':[],\n",
    "                       }\n",
    "\n",
    "\n",
    "\n",
    "for chosen_chrom in sorted_chroms[:]:\n",
    "    _chr_codebook = codebook_df.loc[codebook_df['chr']==chosen_chrom]\n",
    "    for sel_celltype in sel_class_list:\n",
    "    #for sel_celltype in class_2_medianDict.keys():\n",
    "        \n",
    "        _region_centers = np.sort([np.mean(np.array(_n.split(chosen_chrom+':')[1].split('-'), dtype=np.int32)) \n",
    "                                   for _n in _chr_codebook['name']])\n",
    "        median_mat = class_2_medianDict[sel_celltype][f'cis_{chosen_chrom}']\n",
    "        gdist_mat = squareform(pdist(_region_centers[:,np.newaxis]))\n",
    "        # keep original entries as they will be sliced twice by genomic distance below\n",
    "        gdist_entries_ori = gdist_mat[np.triu_indices(len(gdist_mat),1)]\n",
    "        median_entries_ori = median_mat[np.triu_indices(len(median_mat),1)]\n",
    "        \n",
    "        # slice by genomic distance\n",
    "        for _dist_range, distance_cutoff in distance_cutoff_dict.items():\n",
    "            mask = (gdist_entries_ori > distance_cutoff[0]) & (gdist_entries_ori < distance_cutoff[1])\n",
    "            gdist_entries = gdist_entries_ori[mask]\n",
    "            median_entries = median_entries_ori[mask]\n",
    "\n",
    "            valid_inds = np.isfinite(np.log(gdist_entries)) & np.isfinite(np.log(median_entries))\n",
    "            gdist_entries = gdist_entries[valid_inds]\n",
    "            median_entries = median_entries[valid_inds]\n",
    "\n",
    "            params, cov = curve_fit(power_law, gdist_entries, median_entries)\n",
    "            a_fit, k_fit = params\n",
    "            std_devs = np.sqrt(np.diag(cov))\n",
    "            std_a, std_k = std_devs\n",
    "            \n",
    "            # append result\n",
    "            scaling_result_dict['chr'].append(chosen_chrom)\n",
    "            scaling_result_dict['celltype'].append(sel_celltype)\n",
    "            scaling_result_dict['genomic_range'].append(_dist_range)\n",
    "            scaling_result_dict['k'].append(k_fit)\n",
    "            \n",
    "            \n",
    "scaling_result_df = pd.DataFrame(scaling_result_dict)"
   ]
  },
  {
   "cell_type": "code",
   "execution_count": 21,
   "id": "c87be4ac",
   "metadata": {},
   "outputs": [
    {
     "data": {
      "text/html": [
       "<div>\n",
       "<style scoped>\n",
       "    .dataframe tbody tr th:only-of-type {\n",
       "        vertical-align: middle;\n",
       "    }\n",
       "\n",
       "    .dataframe tbody tr th {\n",
       "        vertical-align: top;\n",
       "    }\n",
       "\n",
       "    .dataframe thead th {\n",
       "        text-align: right;\n",
       "    }\n",
       "</style>\n",
       "<table border=\"1\" class=\"dataframe\">\n",
       "  <thead>\n",
       "    <tr style=\"text-align: right;\">\n",
       "      <th></th>\n",
       "      <th>chr</th>\n",
       "      <th>celltype</th>\n",
       "      <th>genomic_range</th>\n",
       "      <th>k</th>\n",
       "    </tr>\n",
       "  </thead>\n",
       "  <tbody>\n",
       "    <tr>\n",
       "      <th>0</th>\n",
       "      <td>1</td>\n",
       "      <td>Oligo</td>\n",
       "      <td>short_range</td>\n",
       "      <td>0.216713</td>\n",
       "    </tr>\n",
       "    <tr>\n",
       "      <th>1</th>\n",
       "      <td>1</td>\n",
       "      <td>Oligo</td>\n",
       "      <td>long_range</td>\n",
       "      <td>0.204643</td>\n",
       "    </tr>\n",
       "    <tr>\n",
       "      <th>2</th>\n",
       "      <td>1</td>\n",
       "      <td>L5 IT</td>\n",
       "      <td>short_range</td>\n",
       "      <td>0.316895</td>\n",
       "    </tr>\n",
       "    <tr>\n",
       "      <th>3</th>\n",
       "      <td>1</td>\n",
       "      <td>L5 IT</td>\n",
       "      <td>long_range</td>\n",
       "      <td>0.151402</td>\n",
       "    </tr>\n",
       "    <tr>\n",
       "      <th>4</th>\n",
       "      <td>1</td>\n",
       "      <td>Micro</td>\n",
       "      <td>short_range</td>\n",
       "      <td>0.186647</td>\n",
       "    </tr>\n",
       "  </tbody>\n",
       "</table>\n",
       "</div>"
      ],
      "text/plain": [
       "  chr celltype genomic_range         k\n",
       "0   1    Oligo   short_range  0.216713\n",
       "1   1    Oligo    long_range  0.204643\n",
       "2   1    L5 IT   short_range  0.316895\n",
       "3   1    L5 IT    long_range  0.151402\n",
       "4   1    Micro   short_range  0.186647"
      ]
     },
     "execution_count": 21,
     "metadata": {},
     "output_type": "execute_result"
    }
   ],
   "source": [
    "scaling_result_df.head()"
   ]
  },
  {
   "cell_type": "markdown",
   "id": "51b56a04",
   "metadata": {},
   "source": [
    "# Correlate RNA and k for chromosome across celltype"
   ]
  },
  {
   "cell_type": "code",
   "execution_count": 22,
   "id": "73352433",
   "metadata": {},
   "outputs": [
    {
     "data": {
      "text/html": [
       "<div>\n",
       "<style scoped>\n",
       "    .dataframe tbody tr th:only-of-type {\n",
       "        vertical-align: middle;\n",
       "    }\n",
       "\n",
       "    .dataframe tbody tr th {\n",
       "        vertical-align: top;\n",
       "    }\n",
       "\n",
       "    .dataframe thead th {\n",
       "        text-align: right;\n",
       "    }\n",
       "</style>\n",
       "<table border=\"1\" class=\"dataframe\">\n",
       "  <thead>\n",
       "    <tr style=\"text-align: right;\">\n",
       "      <th></th>\n",
       "      <th>celltype</th>\n",
       "      <th>chr</th>\n",
       "      <th>rna_total</th>\n",
       "    </tr>\n",
       "  </thead>\n",
       "  <tbody>\n",
       "    <tr>\n",
       "      <th>0</th>\n",
       "      <td>Oligo</td>\n",
       "      <td>1</td>\n",
       "      <td>239.0</td>\n",
       "    </tr>\n",
       "    <tr>\n",
       "      <th>1</th>\n",
       "      <td>Oligo</td>\n",
       "      <td>2</td>\n",
       "      <td>295.0</td>\n",
       "    </tr>\n",
       "    <tr>\n",
       "      <th>2</th>\n",
       "      <td>Oligo</td>\n",
       "      <td>3</td>\n",
       "      <td>183.0</td>\n",
       "    </tr>\n",
       "    <tr>\n",
       "      <th>3</th>\n",
       "      <td>Oligo</td>\n",
       "      <td>4</td>\n",
       "      <td>219.0</td>\n",
       "    </tr>\n",
       "    <tr>\n",
       "      <th>4</th>\n",
       "      <td>Oligo</td>\n",
       "      <td>5</td>\n",
       "      <td>181.0</td>\n",
       "    </tr>\n",
       "  </tbody>\n",
       "</table>\n",
       "</div>"
      ],
      "text/plain": [
       "  celltype chr  rna_total\n",
       "0    Oligo   1      239.0\n",
       "1    Oligo   2      295.0\n",
       "2    Oligo   3      183.0\n",
       "3    Oligo   4      219.0\n",
       "4    Oligo   5      181.0"
      ]
     },
     "execution_count": 22,
     "metadata": {},
     "output_type": "execute_result"
    }
   ],
   "source": [
    "measure_col = 'rna'\n",
    "\n",
    "rna_summary_df = {'celltype':[], 'chr':[],\n",
    "                  #'rna_mean':[],\n",
    "                  'rna_total':[],}\n",
    "\n",
    "for sel_celltype in sel_class_list:\n",
    "    rna_atac_df = expression_chr_df[expression_chr_df['celltype']==sel_celltype]\n",
    "    for chosen_chrom in sorted_chroms:\n",
    "        chr_rna_atac_df = rna_atac_df[rna_atac_df['chr']==f'chr{chosen_chrom}']\n",
    "        #chr_rna_mean = chr_rna_atac_df['chromosome_mean_expression'].values[0]\n",
    "        chr_rna_total = chr_rna_atac_df['chromosome_expression'].values[0]\n",
    "        rna_summary_df['celltype'].append(sel_celltype)\n",
    "        rna_summary_df['chr'].append(chosen_chrom)\n",
    "        #rna_summary_df['rna_mean'].append(chr_rna_mean)\n",
    "        rna_summary_df['rna_total'].append(chr_rna_total)\n",
    "    \n",
    "rna_summary_df = pd.DataFrame(rna_summary_df)\n",
    "rna_summary_df.head()"
   ]
  },
  {
   "cell_type": "code",
   "execution_count": 23,
   "id": "fae5e968",
   "metadata": {},
   "outputs": [],
   "source": [
    "#rna_byChr_byCelltype_map_dict = {(_cell, _chr):v for _cell, _chr, v in zip(rna_summary_df['celltype'],\n",
    "                                                                           #rna_summary_df['chr'],\n",
    "                                                                           #rna_summary_df['rna_mean'])}\n",
    "\n",
    "\n",
    "#def rna_byChr_byCelltype_map (_celltype, _chr, rna_byChr_byCelltype_map_dict=rna_byChr_byCelltype_map_dict):\n",
    "    #return rna_byChr_byCelltype_map_dict[(_celltype, _chr)]\n",
    "    \n",
    "    \n",
    "    \n",
    "rna_total_byChr_byCelltype_map_dict = {(_cell, _chr):v for _cell, _chr, v in zip(rna_summary_df['celltype'],\n",
    "                                                                           rna_summary_df['chr'],\n",
    "                                                                           rna_summary_df['rna_total'])}\n",
    "\n",
    "\n",
    "def rna_total_byChr_byCelltype_map (_celltype, _chr, rna_total_byChr_byCelltype_map_dict=rna_total_byChr_byCelltype_map_dict):\n",
    "    return rna_total_byChr_byCelltype_map_dict[(_celltype, _chr)]"
   ]
  },
  {
   "cell_type": "markdown",
   "id": "c0dbd91f",
   "metadata": {},
   "source": [
    "## Short range"
   ]
  },
  {
   "cell_type": "code",
   "execution_count": 26,
   "id": "27908a23",
   "metadata": {},
   "outputs": [
    {
     "data": {
      "text/html": [
       "<div>\n",
       "<style scoped>\n",
       "    .dataframe tbody tr th:only-of-type {\n",
       "        vertical-align: middle;\n",
       "    }\n",
       "\n",
       "    .dataframe tbody tr th {\n",
       "        vertical-align: top;\n",
       "    }\n",
       "\n",
       "    .dataframe thead th {\n",
       "        text-align: right;\n",
       "    }\n",
       "</style>\n",
       "<table border=\"1\" class=\"dataframe\">\n",
       "  <thead>\n",
       "    <tr style=\"text-align: right;\">\n",
       "      <th></th>\n",
       "      <th>chr</th>\n",
       "      <th>celltype</th>\n",
       "      <th>genomic_range</th>\n",
       "      <th>k</th>\n",
       "      <th>rna_total</th>\n",
       "    </tr>\n",
       "  </thead>\n",
       "  <tbody>\n",
       "    <tr>\n",
       "      <th>1</th>\n",
       "      <td>1</td>\n",
       "      <td>Oligo</td>\n",
       "      <td>long_range</td>\n",
       "      <td>0.204643</td>\n",
       "      <td>239.0</td>\n",
       "    </tr>\n",
       "    <tr>\n",
       "      <th>3</th>\n",
       "      <td>1</td>\n",
       "      <td>L5 IT</td>\n",
       "      <td>long_range</td>\n",
       "      <td>0.151402</td>\n",
       "      <td>1189.0</td>\n",
       "    </tr>\n",
       "    <tr>\n",
       "      <th>5</th>\n",
       "      <td>1</td>\n",
       "      <td>Micro</td>\n",
       "      <td>long_range</td>\n",
       "      <td>0.180907</td>\n",
       "      <td>157.0</td>\n",
       "    </tr>\n",
       "    <tr>\n",
       "      <th>7</th>\n",
       "      <td>1</td>\n",
       "      <td>Endo</td>\n",
       "      <td>long_range</td>\n",
       "      <td>0.231449</td>\n",
       "      <td>224.0</td>\n",
       "    </tr>\n",
       "    <tr>\n",
       "      <th>9</th>\n",
       "      <td>1</td>\n",
       "      <td>Astro</td>\n",
       "      <td>long_range</td>\n",
       "      <td>0.214075</td>\n",
       "      <td>314.0</td>\n",
       "    </tr>\n",
       "    <tr>\n",
       "      <th>...</th>\n",
       "      <td>...</td>\n",
       "      <td>...</td>\n",
       "      <td>...</td>\n",
       "      <td>...</td>\n",
       "      <td>...</td>\n",
       "    </tr>\n",
       "    <tr>\n",
       "      <th>523</th>\n",
       "      <td>19</td>\n",
       "      <td>L6 IT</td>\n",
       "      <td>long_range</td>\n",
       "      <td>0.093744</td>\n",
       "      <td>2551.0</td>\n",
       "    </tr>\n",
       "    <tr>\n",
       "      <th>525</th>\n",
       "      <td>19</td>\n",
       "      <td>L6b</td>\n",
       "      <td>long_range</td>\n",
       "      <td>0.114114</td>\n",
       "      <td>1621.0</td>\n",
       "    </tr>\n",
       "    <tr>\n",
       "      <th>527</th>\n",
       "      <td>19</td>\n",
       "      <td>Sst</td>\n",
       "      <td>long_range</td>\n",
       "      <td>0.127923</td>\n",
       "      <td>1426.5</td>\n",
       "    </tr>\n",
       "    <tr>\n",
       "      <th>529</th>\n",
       "      <td>19</td>\n",
       "      <td>L4/5 IT</td>\n",
       "      <td>long_range</td>\n",
       "      <td>0.107302</td>\n",
       "      <td>1980.5</td>\n",
       "    </tr>\n",
       "    <tr>\n",
       "      <th>531</th>\n",
       "      <td>19</td>\n",
       "      <td>L2/3 IT</td>\n",
       "      <td>long_range</td>\n",
       "      <td>0.101720</td>\n",
       "      <td>2850.0</td>\n",
       "    </tr>\n",
       "  </tbody>\n",
       "</table>\n",
       "<p>266 rows × 5 columns</p>\n",
       "</div>"
      ],
      "text/plain": [
       "    chr celltype genomic_range         k  rna_total\n",
       "1     1    Oligo    long_range  0.204643      239.0\n",
       "3     1    L5 IT    long_range  0.151402     1189.0\n",
       "5     1    Micro    long_range  0.180907      157.0\n",
       "7     1     Endo    long_range  0.231449      224.0\n",
       "9     1    Astro    long_range  0.214075      314.0\n",
       "..   ..      ...           ...       ...        ...\n",
       "523  19    L6 IT    long_range  0.093744     2551.0\n",
       "525  19      L6b    long_range  0.114114     1621.0\n",
       "527  19      Sst    long_range  0.127923     1426.5\n",
       "529  19  L4/5 IT    long_range  0.107302     1980.5\n",
       "531  19  L2/3 IT    long_range  0.101720     2850.0\n",
       "\n",
       "[266 rows x 5 columns]"
      ]
     },
     "execution_count": 26,
     "metadata": {},
     "output_type": "execute_result"
    }
   ],
   "source": [
    "sel_scaling_result_df"
   ]
  },
  {
   "cell_type": "code",
   "execution_count": 36,
   "id": "77680c8b",
   "metadata": {},
   "outputs": [
    {
     "name": "stderr",
     "output_type": "stream",
     "text": [
      "C:\\Users\\shiwei\\AppData\\Local\\Temp\\3\\ipykernel_36580\\2846868231.py:5: SettingWithCopyWarning: \n",
      "A value is trying to be set on a copy of a slice from a DataFrame.\n",
      "Try using .loc[row_indexer,col_indexer] = value instead\n",
      "\n",
      "See the caveats in the documentation: https://pandas.pydata.org/pandas-docs/stable/user_guide/indexing.html#returning-a-view-versus-a-copy\n",
      "  sel_scaling_result_df['rna_total'] = sel_scaling_result_df.apply(lambda row: rna_total_byChr_byCelltype_map(row['celltype'],\n"
     ]
    },
    {
     "data": {
      "image/png": "[encoded data removed]",
      "text/plain": [
       "<Figure size 165x165 with 1 Axes>"
      ]
     },
     "metadata": {},
     "output_type": "display_data"
    }
   ],
   "source": [
    "genomic_range = 'short_range'\n",
    "sel_scaling_result_df = scaling_result_df[scaling_result_df['genomic_range']==genomic_range]\n",
    "\n",
    "\n",
    "sel_scaling_result_df['rna_total'] = sel_scaling_result_df.apply(lambda row: rna_total_byChr_byCelltype_map(row['celltype'], \n",
    "                                                                                                       row['chr']), axis=1)\n",
    "plot_df  = sel_scaling_result_df.copy(deep=True)\n",
    "\n",
    "fig, ax =plt.subplots(figsize=(1.1,1.1), dpi=150)\n",
    "\n",
    "x_col, y_col = 'rna_total','k'\n",
    "sns.scatterplot(data = plot_df, x=x_col, y=y_col, \n",
    "                s=7.5,alpha=0.8,\n",
    "                ax=ax, hue='chr', palette='tab10',rasterized=True, \n",
    "                legend=True)\n",
    "\n",
    "\n",
    "ax.set_ylabel('Scaling power \\n (short-range)', fontsize=7)\n",
    "ax.set_xlabel('Total RNA of Chr', fontsize=7)\n",
    "\n",
    "plt.legend(bbox_to_anchor=(1.02, 1.04), loc='upper left', ncols=3, borderaxespad=1,fontsize=7)\n",
    "\n",
    "r_val = spearmanr(plot_df[x_col].values, plot_df[y_col].values, nan_policy='omit')[0]\n",
    "#ax.text(9e2,0.2,f'r = {round(r_val,2)}',fontsize=_font_size+1)\n",
    "\n",
    "ax.set_title(f'All chromosomes \\n r = {round(r_val,2)}', fontsize=7)\n",
    "#plt.ylim([0,1.5])\n",
    "#plt.xlim([0,0.2])\n",
    "#ax.set_title(f'All Chr averaged', fontsize=7)\n",
    "ax.margins(0.1)\n",
    "plt.xscale('log')\n",
    "\n",
    "ax.tick_params(axis='both', which='both', labelsize = 6,\n",
    "                         length=2, width=0.5, pad=1, \n",
    "                         direction='out', bottom=True, left=True\n",
    "                        #labelleft=True, labelbottom=True,labelright=False, labeltop=False,\n",
    "                           )\n",
    "[i[1].set_linewidth(0.5) for i in ax.spines.items()]\n",
    "\n",
    "\n",
    "#plt.savefig(os.path.join(output_figure_folder,f'scatter_scaling_vs_chrRNA_short_range.pdf'),\n",
    "            #transparent=True, bbox_inches='tight', pad_inches=0.2, dpi=300)\n",
    "plt.show()"
   ]
  },
  {
   "cell_type": "markdown",
   "id": "864e03bb",
   "metadata": {},
   "source": [
    "## Long-range"
   ]
  },
  {
   "cell_type": "code",
   "execution_count": 34,
   "id": "0daec001",
   "metadata": {
    "scrolled": false
   },
   "outputs": [
    {
     "name": "stderr",
     "output_type": "stream",
     "text": [
      "C:\\Users\\shiwei\\AppData\\Local\\Temp\\3\\ipykernel_36580\\1106832016.py:4: SettingWithCopyWarning: \n",
      "A value is trying to be set on a copy of a slice from a DataFrame.\n",
      "Try using .loc[row_indexer,col_indexer] = value instead\n",
      "\n",
      "See the caveats in the documentation: https://pandas.pydata.org/pandas-docs/stable/user_guide/indexing.html#returning-a-view-versus-a-copy\n",
      "  sel_scaling_result_df['rna_total'] = sel_scaling_result_df.apply(lambda row: rna_total_byChr_byCelltype_map(row['celltype'],\n"
     ]
    },
    {
     "data": {
      "image/png": "[encoded data removed]",
      "text/plain": [
       "<Figure size 165x165 with 1 Axes>"
      ]
     },
     "metadata": {},
     "output_type": "display_data"
    }
   ],
   "source": [
    "genomic_range = 'long_range'\n",
    "sel_scaling_result_df = scaling_result_df[scaling_result_df['genomic_range']==genomic_range]\n",
    "\n",
    "sel_scaling_result_df['rna_total'] = sel_scaling_result_df.apply(lambda row: rna_total_byChr_byCelltype_map(row['celltype'], \n",
    "                                                                                                       row['chr']), axis=1)\n",
    "plot_df  = sel_scaling_result_df.copy(deep=True)\n",
    "\n",
    "fig, ax =plt.subplots(figsize=(1.1,1.1), dpi=150)\n",
    "\n",
    "x_col, y_col = 'rna_total','k'\n",
    "sns.scatterplot(data = plot_df, x=x_col, y=y_col, \n",
    "                s=7.5,alpha=0.8,\n",
    "                ax=ax, hue='chr', palette='tab20b',\n",
    "                rasterized=True, legend=True)\n",
    "\n",
    "\n",
    "ax.set_ylabel('Scaling power exp. \\n (long-range)', fontsize=7)\n",
    "ax.set_xlabel('Total RNA of Chr', fontsize=7)\n",
    "\n",
    "plt.legend(bbox_to_anchor=(1.02, 1.04), loc='upper left', ncols=3, borderaxespad=1,fontsize=7)\n",
    "\n",
    "r_val = spearmanr(plot_df[x_col].values, plot_df[y_col].values, nan_policy='omit')[0]\n",
    "#ax.text(9e2,0.2,f'r = {round(r_val,2)}',fontsize=_font_size+1)\n",
    "\n",
    "ax.set_title(f'All chromosomes \\n r = {round(r_val,2)}', fontsize=7)\n",
    "#plt.ylim([0,1.5])\n",
    "#plt.xlim([0,0.2])\n",
    "#ax.set_title(f'All Chr averaged', fontsize=7)\n",
    "ax.margins(0.1)\n",
    "plt.xscale('log')\n",
    "\n",
    "ax.tick_params(axis='both', which='both', labelsize = 6,\n",
    "                         length=2, width=0.5, pad=1, \n",
    "                         direction='out', bottom=True, left=True\n",
    "                        #labelleft=True, labelbottom=True,labelright=False, labeltop=False,\n",
    "                           )\n",
    "[i[1].set_linewidth(0.5) for i in ax.spines.items()]\n",
    "\n",
    "\n",
    "#plt.savefig(os.path.join(output_figure_folder,f'scatter_scaling_vs_chrRNA_long_range.pdf'),\n",
    "            #transparent=True, bbox_inches='tight', pad_inches=0.2, dpi=300)\n",
    "plt.show()"
   ]
  },
  {
   "cell_type": "code",
   "execution_count": null,
   "id": "4f53f909",
   "metadata": {},
   "outputs": [],
   "source": []
  }
 ],
 "metadata": {
  "kernelspec": {
   "display_name": "Python 3 (ipykernel)",
   "language": "python",
   "name": "python3"
  },
  "language_info": {
   "codemirror_mode": {
    "name": "ipython",
    "version": 3
   },
   "file_extension": ".py",
   "mimetype": "text/x-python",
   "name": "python",
   "nbconvert_exporter": "python",
   "pygments_lexer": "ipython3",
   "version": "3.10.8"
  },
  "toc": {
   "base_numbering": 1,
   "nav_menu": {},
   "number_sections": true,
   "sideBar": true,
   "skip_h1_title": false,
   "title_cell": "Table of Contents",
   "title_sidebar": "Contents",
   "toc_cell": false,
   "toc_position": {},
   "toc_section_display": true,
   "toc_window_display": true
  }
 },
 "nbformat": 4,
 "nbformat_minor": 5
}
