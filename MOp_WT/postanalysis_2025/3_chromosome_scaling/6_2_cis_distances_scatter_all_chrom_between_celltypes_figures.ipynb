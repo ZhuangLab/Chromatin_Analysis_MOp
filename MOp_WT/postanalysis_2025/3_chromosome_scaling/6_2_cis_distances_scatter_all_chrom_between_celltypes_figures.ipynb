{
 "cells": [
  {
   "cell_type": "markdown",
   "id": "75c4e381",
   "metadata": {},
   "source": [
    "# Import module"
   ]
  },
  {
   "cell_type": "markdown",
   "id": "14a33d3e",
   "metadata": {},
   "source": [
    "The link to get [ImageAnalysis3](https://github.com/zhengpuas47/ImageAnalysis3) \n",
    "\n",
    "Or from the Zhuang lab archived [source_tools](https://github.com/ZhuangLab/Chromatin_Analysis_2020_cell/tree/master/sequential_tracing/source)"
   ]
  },
  {
   "cell_type": "markdown",
   "id": "b411cc21",
   "metadata": {},
   "source": [
    "## ImageAnalysis3 and basic modules"
   ]
  },
  {
   "cell_type": "code",
   "execution_count": 2,
   "id": "32554ab1",
   "metadata": {},
   "outputs": [
    {
     "name": "stdout",
     "output_type": "stream",
     "text": [
      "54592\n"
     ]
    }
   ],
   "source": [
    "%run \"C:\\Users\\shiwei\\Documents\\ImageAnalysis3\\required_files\\Startup_py3.py\"\n",
    "sys.path.append(r\"C:\\Users\\shiwei\\Documents\")\n",
    "\n",
    "import ImageAnalysis3 as ia\n",
    "from ImageAnalysis3 import *\n",
    "from ImageAnalysis3.classes import _allowed_kwds\n",
    "\n",
    "import h5py\n",
    "import ast\n",
    "import pandas as pd\n",
    "\n",
    "print(os.getpid())"
   ]
  },
  {
   "cell_type": "markdown",
   "id": "f5f8cd77",
   "metadata": {},
   "source": [
    "## Chromatin_analysis_tools etc"
   ]
  },
  {
   "cell_type": "markdown",
   "id": "2db5036f",
   "metadata": {},
   "source": [
    "See **functions** in the repository for [AnalysisTool_Chromatin](../../README.md)"
   ]
  },
  {
   "cell_type": "code",
   "execution_count": 3,
   "id": "9469aba8",
   "metadata": {},
   "outputs": [
    {
     "data": {
      "text/plain": [
       "<module 'atac_to_loci' from 'C:\\\\Users\\\\shiwei\\\\Documents\\\\AnalysisTool_Chromatin\\\\atac_to_loci.py'>"
      ]
     },
     "execution_count": 3,
     "metadata": {},
     "output_type": "execute_result"
    }
   ],
   "source": [
    "# Chromatin_analysis_tools (ATC)\n",
    "# Get path for the py containing functions\n",
    "import os\n",
    "import sys\n",
    "import importlib\n",
    "module_path =r'C:\\Users\\shiwei\\Documents\\AnalysisTool_Chromatin'\n",
    "if module_path not in sys.path:\n",
    "    sys.path.append(module_path)\n",
    "    \n",
    "# import relevant modules\n",
    "import gene_selection \n",
    "importlib.reload(gene_selection)\n",
    "import gene_to_loci\n",
    "importlib.reload(gene_to_loci)\n",
    "import gene_activity\n",
    "importlib.reload(gene_activity)\n",
    "import loci_1d_features\n",
    "importlib.reload(loci_1d_features)  \n",
    "\n",
    "import atac_to_loci\n",
    "importlib.reload(atac_to_loci)"
   ]
  },
  {
   "cell_type": "markdown",
   "id": "aa08c6de",
   "metadata": {},
   "source": [
    "# Define folders"
   ]
  },
  {
   "cell_type": "code",
   "execution_count": 4,
   "id": "2c8dce53",
   "metadata": {},
   "outputs": [
    {
     "name": "stdout",
     "output_type": "stream",
     "text": [
      "Use existing analysis folder: L:\\Shiwei\\postanalysis_2024\\v0\\chromosome_scaling\\analysis.\n",
      "Use existing figure folder: L:\\Shiwei\\postanalysis_2024\\v0\\chromosome_scaling\\figures.\n"
     ]
    }
   ],
   "source": [
    "# main folder for postanalysis\n",
    "postanalysis_folder = r'L:\\Shiwei\\postanalysis_2024\\v0'\n",
    "# input files for postanalysis\n",
    "input_folder = os.path.join(postanalysis_folder, 'resources_from_preprocess')\n",
    "\n",
    "# output file to be generated\n",
    "output_main_folder = os.path.join(postanalysis_folder, 'chromosome_scaling')\n",
    "\n",
    "output_analysis_folder = os.path.join(output_main_folder, 'analysis')\n",
    "output_figure_folder = os.path.join(output_main_folder, 'figures')\n",
    "\n",
    "# make new folder if needed\n",
    "make_output_folder = True\n",
    "\n",
    "if make_output_folder and not os.path.exists(output_analysis_folder):\n",
    "    os.makedirs(output_analysis_folder)\n",
    "    print(f'Generating analysis folder: {output_analysis_folder}.')\n",
    "elif os.path.exists(output_analysis_folder):\n",
    "    print(f'Use existing analysis folder: {output_analysis_folder}.')\n",
    "    \n",
    "if make_output_folder and not os.path.exists(output_figure_folder):\n",
    "    os.makedirs(output_figure_folder)\n",
    "    print(f'Generating figure folder: {output_figure_folder}.')\n",
    "elif os.path.exists(output_figure_folder):\n",
    "    print(f'Use existing figure folder: {output_figure_folder}.')"
   ]
  },
  {
   "cell_type": "markdown",
   "id": "43745cf2",
   "metadata": {},
   "source": [
    "# Plotting parameters"
   ]
  },
  {
   "cell_type": "code",
   "execution_count": 5,
   "id": "fb1e3324",
   "metadata": {},
   "outputs": [],
   "source": [
    "%matplotlib inline\n",
    "import matplotlib\n",
    "matplotlib.rcParams['pdf.fonttype'] = 42\n",
    "import matplotlib.pyplot as plt\n",
    "plt.rc('font', family='serif')\n",
    "plt.rc('font', serif='Arial')\n",
    "\n",
    "from ImageAnalysis3.figure_tools import _double_col_width, _single_col_width, _font_size, _ticklabel_size,_ticklabel_width\n",
    "\n",
    "import seaborn as sns\n",
    "sns.set_context(\"paper\", rc={\"font.size\":_font_size,\"axes.titlesize\":_font_size+1,\"axes.labelsize\":_font_size})  "
   ]
  },
  {
   "cell_type": "code",
   "execution_count": 6,
   "id": "bc310b7e",
   "metadata": {},
   "outputs": [],
   "source": [
    "# Other required plotting parameters\n",
    "_dpi = 300\n",
    "_font_size = 7\n",
    "_page_width = 5.5\n"
   ]
  },
  {
   "cell_type": "markdown",
   "id": "a1d34726",
   "metadata": {},
   "source": [
    "## cell type color-codes"
   ]
  },
  {
   "cell_type": "code",
   "execution_count": 7,
   "id": "c33943dd",
   "metadata": {},
   "outputs": [],
   "source": [
    "# cell labels from RNA-MERFISH and celltype prediction\n",
    "selected_cell_labels = ['L2/3 IT','L4/5 IT','L5 IT','L6 IT','L5 ET','L5/6 NP','L6 CT','L6b',\n",
    "                           'Sst','Pvalb','Lamp5','Sncg','Vip',\n",
    "                           'Astro','Oligo','OPC','Micro','Endo','VLMC','SMC','Peri', \n",
    "                           #'other',\n",
    "                          ]\n",
    "# cell palette from RNA-MERFISH UMAP and stats\n",
    "celltype_palette = {'Astro':'lightcoral', \n",
    "                    'Endo':'skyblue', \n",
    "                    'L2/3 IT':'gold', \n",
    "                    'L4/5 IT':'darkorange', \n",
    "                    'L5 ET':'mediumseagreen', \n",
    "                    'L5 IT':'aqua',\n",
    "                    'L5/6 NP':'darkgreen',\n",
    "                    'L6 CT':'brown',\n",
    "                    'L6 IT':'magenta',\n",
    "                    'L6b':'blue', \n",
    "                    'Lamp5':'orange', \n",
    "                    'Micro':'peachpuff',\n",
    "                    'OPC':'thistle', \n",
    "                    'Oligo':'darkviolet',\n",
    "                    'Peri':'sandybrown',\n",
    "                    'Pvalb':'springgreen',\n",
    "                    'SMC':'rosybrown',\n",
    "                    'Sncg':'darkkhaki',\n",
    "                    'Sst':'steelblue', \n",
    "                    'VLMC':'saddlebrown', \n",
    "                    'Vip':'red',\n",
    "                    'other':'slategray'}\n"
   ]
  },
  {
   "cell_type": "code",
   "execution_count": 8,
   "id": "caad6887",
   "metadata": {},
   "outputs": [],
   "source": [
    "# this is the plotting order noted based on the snRNA transcriptional acitivty if needed\n",
    "sorted_cellplot_order_byRNA = ['Micro', 'Oligo', 'Endo', 'OPC', 'Astro', 'Vip', 'Lamp5',\n",
    "                  'L5/6 NP', 'Sst', 'Sncg', 'Pvalb', 'L4/5 IT', 'L6 CT',\n",
    "                  'L6 IT', 'L6b', 'L2/3 IT', 'L5 IT', 'L5 ET']"
   ]
  },
  {
   "cell_type": "markdown",
   "id": "b00f58f0",
   "metadata": {},
   "source": [
    "# Load data relevant information"
   ]
  },
  {
   "cell_type": "markdown",
   "id": "7e667606",
   "metadata": {},
   "source": [
    "## load and format codebook"
   ]
  },
  {
   "cell_type": "markdown",
   "id": "6b8440c6",
   "metadata": {},
   "source": [
    "[merged codebook](../resources/merged_codebook.csv) as in the repository (merged for all DNA-MERFISH libraries)"
   ]
  },
  {
   "cell_type": "code",
   "execution_count": 9,
   "id": "c0734aad",
   "metadata": {},
   "outputs": [
    {
     "data": {
      "text/html": [
       "<div>\n",
       "<style scoped>\n",
       "    .dataframe tbody tr th:only-of-type {\n",
       "        vertical-align: middle;\n",
       "    }\n",
       "\n",
       "    .dataframe tbody tr th {\n",
       "        vertical-align: top;\n",
       "    }\n",
       "\n",
       "    .dataframe thead th {\n",
       "        text-align: right;\n",
       "    }\n",
       "</style>\n",
       "<table border=\"1\" class=\"dataframe\">\n",
       "  <thead>\n",
       "    <tr style=\"text-align: right;\">\n",
       "      <th></th>\n",
       "      <th>name</th>\n",
       "      <th>id</th>\n",
       "      <th>NDB_784</th>\n",
       "      <th>NDB_755</th>\n",
       "      <th>NDB_826</th>\n",
       "      <th>NDB_713</th>\n",
       "      <th>NDB_865</th>\n",
       "      <th>NDB_725</th>\n",
       "      <th>NDB_817</th>\n",
       "      <th>NDB_710</th>\n",
       "      <th>...</th>\n",
       "      <th>NDB_479</th>\n",
       "      <th>NDB_562</th>\n",
       "      <th>NDB_608</th>\n",
       "      <th>NDB_460</th>\n",
       "      <th>NDB_563</th>\n",
       "      <th>NDB_592</th>\n",
       "      <th>NDB_368</th>\n",
       "      <th>NDB_436</th>\n",
       "      <th>NDB_629</th>\n",
       "      <th>NDB_604</th>\n",
       "    </tr>\n",
       "  </thead>\n",
       "  <tbody>\n",
       "    <tr>\n",
       "      <th>0</th>\n",
       "      <td>1:3742742-3759944</td>\n",
       "      <td>1</td>\n",
       "      <td>0.0</td>\n",
       "      <td>0.0</td>\n",
       "      <td>0.0</td>\n",
       "      <td>0.0</td>\n",
       "      <td>0.0</td>\n",
       "      <td>0.0</td>\n",
       "      <td>0.0</td>\n",
       "      <td>0.0</td>\n",
       "      <td>...</td>\n",
       "      <td>0.0</td>\n",
       "      <td>0.0</td>\n",
       "      <td>0.0</td>\n",
       "      <td>0.0</td>\n",
       "      <td>0.0</td>\n",
       "      <td>0.0</td>\n",
       "      <td>0.0</td>\n",
       "      <td>0.0</td>\n",
       "      <td>0.0</td>\n",
       "      <td>0.0</td>\n",
       "    </tr>\n",
       "    <tr>\n",
       "      <th>1</th>\n",
       "      <td>1:6245958-6258969</td>\n",
       "      <td>2</td>\n",
       "      <td>0.0</td>\n",
       "      <td>0.0</td>\n",
       "      <td>0.0</td>\n",
       "      <td>0.0</td>\n",
       "      <td>0.0</td>\n",
       "      <td>0.0</td>\n",
       "      <td>0.0</td>\n",
       "      <td>0.0</td>\n",
       "      <td>...</td>\n",
       "      <td>0.0</td>\n",
       "      <td>0.0</td>\n",
       "      <td>0.0</td>\n",
       "      <td>0.0</td>\n",
       "      <td>0.0</td>\n",
       "      <td>0.0</td>\n",
       "      <td>0.0</td>\n",
       "      <td>0.0</td>\n",
       "      <td>0.0</td>\n",
       "      <td>0.0</td>\n",
       "    </tr>\n",
       "    <tr>\n",
       "      <th>2</th>\n",
       "      <td>1:8740008-8759916</td>\n",
       "      <td>3</td>\n",
       "      <td>0.0</td>\n",
       "      <td>0.0</td>\n",
       "      <td>0.0</td>\n",
       "      <td>0.0</td>\n",
       "      <td>0.0</td>\n",
       "      <td>0.0</td>\n",
       "      <td>0.0</td>\n",
       "      <td>0.0</td>\n",
       "      <td>...</td>\n",
       "      <td>0.0</td>\n",
       "      <td>0.0</td>\n",
       "      <td>0.0</td>\n",
       "      <td>0.0</td>\n",
       "      <td>0.0</td>\n",
       "      <td>0.0</td>\n",
       "      <td>0.0</td>\n",
       "      <td>0.0</td>\n",
       "      <td>0.0</td>\n",
       "      <td>0.0</td>\n",
       "    </tr>\n",
       "    <tr>\n",
       "      <th>1016</th>\n",
       "      <td>1:9627926-9637875</td>\n",
       "      <td>1</td>\n",
       "      <td>0.0</td>\n",
       "      <td>0.0</td>\n",
       "      <td>0.0</td>\n",
       "      <td>0.0</td>\n",
       "      <td>0.0</td>\n",
       "      <td>0.0</td>\n",
       "      <td>0.0</td>\n",
       "      <td>0.0</td>\n",
       "      <td>...</td>\n",
       "      <td>0.0</td>\n",
       "      <td>0.0</td>\n",
       "      <td>0.0</td>\n",
       "      <td>0.0</td>\n",
       "      <td>0.0</td>\n",
       "      <td>0.0</td>\n",
       "      <td>0.0</td>\n",
       "      <td>0.0</td>\n",
       "      <td>0.0</td>\n",
       "      <td>0.0</td>\n",
       "    </tr>\n",
       "    <tr>\n",
       "      <th>1017</th>\n",
       "      <td>1:9799472-9811359</td>\n",
       "      <td>2</td>\n",
       "      <td>0.0</td>\n",
       "      <td>0.0</td>\n",
       "      <td>0.0</td>\n",
       "      <td>0.0</td>\n",
       "      <td>0.0</td>\n",
       "      <td>0.0</td>\n",
       "      <td>0.0</td>\n",
       "      <td>0.0</td>\n",
       "      <td>...</td>\n",
       "      <td>0.0</td>\n",
       "      <td>0.0</td>\n",
       "      <td>0.0</td>\n",
       "      <td>0.0</td>\n",
       "      <td>0.0</td>\n",
       "      <td>1.0</td>\n",
       "      <td>0.0</td>\n",
       "      <td>0.0</td>\n",
       "      <td>0.0</td>\n",
       "      <td>0.0</td>\n",
       "    </tr>\n",
       "  </tbody>\n",
       "</table>\n",
       "<p>5 rows × 228 columns</p>\n",
       "</div>"
      ],
      "text/plain": [
       "                   name id  NDB_784  NDB_755  NDB_826  NDB_713  NDB_865  \\\n",
       "0     1:3742742-3759944  1      0.0      0.0      0.0      0.0      0.0   \n",
       "1     1:6245958-6258969  2      0.0      0.0      0.0      0.0      0.0   \n",
       "2     1:8740008-8759916  3      0.0      0.0      0.0      0.0      0.0   \n",
       "1016  1:9627926-9637875  1      0.0      0.0      0.0      0.0      0.0   \n",
       "1017  1:9799472-9811359  2      0.0      0.0      0.0      0.0      0.0   \n",
       "\n",
       "      NDB_725  NDB_817  NDB_710  ...  NDB_479  NDB_562  NDB_608  NDB_460  \\\n",
       "0         0.0      0.0      0.0  ...      0.0      0.0      0.0      0.0   \n",
       "1         0.0      0.0      0.0  ...      0.0      0.0      0.0      0.0   \n",
       "2         0.0      0.0      0.0  ...      0.0      0.0      0.0      0.0   \n",
       "1016      0.0      0.0      0.0  ...      0.0      0.0      0.0      0.0   \n",
       "1017      0.0      0.0      0.0  ...      0.0      0.0      0.0      0.0   \n",
       "\n",
       "      NDB_563  NDB_592  NDB_368  NDB_436  NDB_629  NDB_604  \n",
       "0         0.0      0.0      0.0      0.0      0.0      0.0  \n",
       "1         0.0      0.0      0.0      0.0      0.0      0.0  \n",
       "2         0.0      0.0      0.0      0.0      0.0      0.0  \n",
       "1016      0.0      0.0      0.0      0.0      0.0      0.0  \n",
       "1017      0.0      1.0      0.0      0.0      0.0      0.0  \n",
       "\n",
       "[5 rows x 228 columns]"
      ]
     },
     "execution_count": 9,
     "metadata": {},
     "output_type": "execute_result"
    }
   ],
   "source": [
    "# Load codebook \n",
    "codebook_fname = os.path.join(input_folder,'merged_codebook.csv')\n",
    "codebook_df = pd.read_csv (codebook_fname, index_col=0)\n",
    "\n",
    "# sort df by chr and chr_order\n",
    "codebook_df = loci_1d_features.sort_loci_df_by_chr_order (codebook_df)\n",
    "codebook_df.head()"
   ]
  },
  {
   "cell_type": "code",
   "execution_count": 10,
   "id": "3e95ab4f",
   "metadata": {},
   "outputs": [
    {
     "data": {
      "text/html": [
       "<div>\n",
       "<style scoped>\n",
       "    .dataframe tbody tr th:only-of-type {\n",
       "        vertical-align: middle;\n",
       "    }\n",
       "\n",
       "    .dataframe tbody tr th {\n",
       "        vertical-align: top;\n",
       "    }\n",
       "\n",
       "    .dataframe thead th {\n",
       "        text-align: right;\n",
       "    }\n",
       "</style>\n",
       "<table border=\"1\" class=\"dataframe\">\n",
       "  <thead>\n",
       "    <tr style=\"text-align: right;\">\n",
       "      <th></th>\n",
       "      <th>name</th>\n",
       "      <th>id</th>\n",
       "      <th>chr</th>\n",
       "      <th>chr_order</th>\n",
       "      <th>library</th>\n",
       "    </tr>\n",
       "    <tr>\n",
       "      <th>loci_name</th>\n",
       "      <th></th>\n",
       "      <th></th>\n",
       "      <th></th>\n",
       "      <th></th>\n",
       "      <th></th>\n",
       "    </tr>\n",
       "  </thead>\n",
       "  <tbody>\n",
       "    <tr>\n",
       "      <th>chr1_3742742_3759944</th>\n",
       "      <td>1:3742742-3759944</td>\n",
       "      <td>1</td>\n",
       "      <td>1</td>\n",
       "      <td>0.0</td>\n",
       "      <td>CTP11</td>\n",
       "    </tr>\n",
       "    <tr>\n",
       "      <th>chr1_6245958_6258969</th>\n",
       "      <td>1:6245958-6258969</td>\n",
       "      <td>2</td>\n",
       "      <td>1</td>\n",
       "      <td>1.0</td>\n",
       "      <td>CTP11</td>\n",
       "    </tr>\n",
       "    <tr>\n",
       "      <th>chr1_8740008_8759916</th>\n",
       "      <td>1:8740008-8759916</td>\n",
       "      <td>3</td>\n",
       "      <td>1</td>\n",
       "      <td>2.0</td>\n",
       "      <td>CTP11</td>\n",
       "    </tr>\n",
       "    <tr>\n",
       "      <th>chr1_9627926_9637875</th>\n",
       "      <td>1:9627926-9637875</td>\n",
       "      <td>1</td>\n",
       "      <td>1</td>\n",
       "      <td>3.0</td>\n",
       "      <td>CTP13</td>\n",
       "    </tr>\n",
       "    <tr>\n",
       "      <th>chr1_9799472_9811359</th>\n",
       "      <td>1:9799472-9811359</td>\n",
       "      <td>2</td>\n",
       "      <td>1</td>\n",
       "      <td>4.0</td>\n",
       "      <td>CTP13</td>\n",
       "    </tr>\n",
       "  </tbody>\n",
       "</table>\n",
       "</div>"
      ],
      "text/plain": [
       "                                   name id chr  chr_order library\n",
       "loci_name                                                        \n",
       "chr1_3742742_3759944  1:3742742-3759944  1   1        0.0   CTP11\n",
       "chr1_6245958_6258969  1:6245958-6258969  2   1        1.0   CTP11\n",
       "chr1_8740008_8759916  1:8740008-8759916  3   1        2.0   CTP11\n",
       "chr1_9627926_9637875  1:9627926-9637875  1   1        3.0   CTP13\n",
       "chr1_9799472_9811359  1:9799472-9811359  2   1        4.0   CTP13"
      ]
     },
     "execution_count": 10,
     "metadata": {},
     "output_type": "execute_result"
    }
   ],
   "source": [
    "# Format the chr loci name by \n",
    "# 1. changing loci name format\n",
    "# 2. extract relevant information such as id, chr, chr_order, and library etc\n",
    "from gene_to_loci import loci_pos_format\n",
    "loci_name_list = list(map(loci_pos_format, codebook_df['name'].tolist()))\n",
    "loci_name_arr = np.array(loci_name_list)\n",
    "\n",
    "# convert to a new dataframe and set loci name as index\n",
    "codebook_df = codebook_df[['name','id','chr','chr_order','library']]\n",
    "codebook_df['loci_name'] = list(loci_name_arr[:,0])\n",
    "codebook_df = codebook_df.set_index ('loci_name')\n",
    "\n",
    "codebook_df.head()"
   ]
  },
  {
   "cell_type": "markdown",
   "id": "d1c18bbd",
   "metadata": {},
   "source": [
    "# Load spatial distance from matrices"
   ]
  },
  {
   "cell_type": "code",
   "execution_count": 12,
   "id": "b6c526c4",
   "metadata": {},
   "outputs": [
    {
     "name": "stdout",
     "output_type": "stream",
     "text": [
      "dict_keys(['Oligo', 'L5 IT', 'Micro', 'Peri', 'Endo', 'Astro', 'OPC', 'L6 CT', 'L5 ET', 'L5/6 NP', 'Pvalb', 'L6 IT', 'Lamp5', 'L6b', 'Sst', 'SMC', 'L4/5 IT', 'L2/3 IT', 'Vip', 'Sncg', 'VLMC'])\n"
     ]
    }
   ],
   "source": [
    "# Load class_2_median\n",
    "# class to median distance dict\n",
    "class_2_median_filename = os.path.join(input_folder, 'subclass_2_medianDict.pkl')\n",
    "\n",
    "class_2_medianDict = pickle.load(open(class_2_median_filename, 'rb'))\n",
    "print(class_2_medianDict.keys())"
   ]
  },
  {
   "cell_type": "code",
   "execution_count": null,
   "id": "c1b9e926",
   "metadata": {},
   "outputs": [],
   "source": []
  },
  {
   "cell_type": "markdown",
   "id": "08a735c7",
   "metadata": {},
   "source": [
    "# Load median summary\n",
    "\n",
    "Data summary can be generated from the notebook as:\n",
    "\n",
    "[6_1_cis_distance_summary_across_celltypes](6_1_cis_distance_summary_across_celltypes.ipynb)"
   ]
  },
  {
   "cell_type": "code",
   "execution_count": 13,
   "id": "03c39b2d",
   "metadata": {},
   "outputs": [
    {
     "name": "stderr",
     "output_type": "stream",
     "text": [
      "100%|██████████████████████████████████████████████████████████████████████████████████| 21/21 [00:03<00:00,  5.48it/s]\n"
     ]
    },
    {
     "data": {
      "text/html": [
       "<div>\n",
       "<style scoped>\n",
       "    .dataframe tbody tr th:only-of-type {\n",
       "        vertical-align: middle;\n",
       "    }\n",
       "\n",
       "    .dataframe tbody tr th {\n",
       "        vertical-align: top;\n",
       "    }\n",
       "\n",
       "    .dataframe thead th {\n",
       "        text-align: right;\n",
       "    }\n",
       "</style>\n",
       "<table border=\"1\" class=\"dataframe\">\n",
       "  <thead>\n",
       "    <tr style=\"text-align: right;\">\n",
       "      <th></th>\n",
       "      <th>loc_1</th>\n",
       "      <th>loc_2</th>\n",
       "      <th>pairwise_distance</th>\n",
       "      <th>subclass</th>\n",
       "      <th>chr</th>\n",
       "      <th>genomic_distance</th>\n",
       "    </tr>\n",
       "    <tr>\n",
       "      <th>loci_pairs</th>\n",
       "      <th></th>\n",
       "      <th></th>\n",
       "      <th></th>\n",
       "      <th></th>\n",
       "      <th></th>\n",
       "      <th></th>\n",
       "    </tr>\n",
       "  </thead>\n",
       "  <tbody>\n",
       "    <tr>\n",
       "      <th>0</th>\n",
       "      <td>chr1_3742742_3759944</td>\n",
       "      <td>chr1_3742742_3759944</td>\n",
       "      <td>0.000000</td>\n",
       "      <td>Oligo</td>\n",
       "      <td>1</td>\n",
       "      <td>0</td>\n",
       "    </tr>\n",
       "    <tr>\n",
       "      <th>1</th>\n",
       "      <td>chr1_3742742_3759944</td>\n",
       "      <td>chr1_6245958_6258969</td>\n",
       "      <td>0.922651</td>\n",
       "      <td>Oligo</td>\n",
       "      <td>1</td>\n",
       "      <td>2503216</td>\n",
       "    </tr>\n",
       "    <tr>\n",
       "      <th>2</th>\n",
       "      <td>chr1_3742742_3759944</td>\n",
       "      <td>chr1_8740008_8759916</td>\n",
       "      <td>1.070654</td>\n",
       "      <td>Oligo</td>\n",
       "      <td>1</td>\n",
       "      <td>4997266</td>\n",
       "    </tr>\n",
       "    <tr>\n",
       "      <th>3</th>\n",
       "      <td>chr1_3742742_3759944</td>\n",
       "      <td>chr1_9627926_9637875</td>\n",
       "      <td>1.060591</td>\n",
       "      <td>Oligo</td>\n",
       "      <td>1</td>\n",
       "      <td>5885184</td>\n",
       "    </tr>\n",
       "    <tr>\n",
       "      <th>4</th>\n",
       "      <td>chr1_3742742_3759944</td>\n",
       "      <td>chr1_9799472_9811359</td>\n",
       "      <td>1.093519</td>\n",
       "      <td>Oligo</td>\n",
       "      <td>1</td>\n",
       "      <td>6056730</td>\n",
       "    </tr>\n",
       "    <tr>\n",
       "      <th>...</th>\n",
       "      <td>...</td>\n",
       "      <td>...</td>\n",
       "      <td>...</td>\n",
       "      <td>...</td>\n",
       "      <td>...</td>\n",
       "      <td>...</td>\n",
       "    </tr>\n",
       "    <tr>\n",
       "      <th>2223475</th>\n",
       "      <td>chrX_167157164_167167452</td>\n",
       "      <td>chrX_169963295_170005197</td>\n",
       "      <td>0.845943</td>\n",
       "      <td>VLMC</td>\n",
       "      <td>X</td>\n",
       "      <td>2806131</td>\n",
       "    </tr>\n",
       "    <tr>\n",
       "      <th>2223476</th>\n",
       "      <td>chrX_168746045_168757590</td>\n",
       "      <td>chrX_168746045_168757590</td>\n",
       "      <td>0.000000</td>\n",
       "      <td>VLMC</td>\n",
       "      <td>X</td>\n",
       "      <td>0</td>\n",
       "    </tr>\n",
       "    <tr>\n",
       "      <th>2223477</th>\n",
       "      <td>chrX_168746045_168757590</td>\n",
       "      <td>chrX_169963295_170005197</td>\n",
       "      <td>0.706862</td>\n",
       "      <td>VLMC</td>\n",
       "      <td>X</td>\n",
       "      <td>1217250</td>\n",
       "    </tr>\n",
       "    <tr>\n",
       "      <th>2223478</th>\n",
       "      <td>chrX_169963295_170005197</td>\n",
       "      <td>chrX_169963295_170005197</td>\n",
       "      <td>0.000000</td>\n",
       "      <td>VLMC</td>\n",
       "      <td>X</td>\n",
       "      <td>0</td>\n",
       "    </tr>\n",
       "    <tr>\n",
       "      <th>2223479</th>\n",
       "      <td>chrY_1245775_1259992</td>\n",
       "      <td>chrY_1245775_1259992</td>\n",
       "      <td>NaN</td>\n",
       "      <td>VLMC</td>\n",
       "      <td>Y</td>\n",
       "      <td>0</td>\n",
       "    </tr>\n",
       "  </tbody>\n",
       "</table>\n",
       "<p>2223480 rows × 6 columns</p>\n",
       "</div>"
      ],
      "text/plain": [
       "                               loc_1                     loc_2  \\\n",
       "loci_pairs                                                       \n",
       "0               chr1_3742742_3759944      chr1_3742742_3759944   \n",
       "1               chr1_3742742_3759944      chr1_6245958_6258969   \n",
       "2               chr1_3742742_3759944      chr1_8740008_8759916   \n",
       "3               chr1_3742742_3759944      chr1_9627926_9637875   \n",
       "4               chr1_3742742_3759944      chr1_9799472_9811359   \n",
       "...                              ...                       ...   \n",
       "2223475     chrX_167157164_167167452  chrX_169963295_170005197   \n",
       "2223476     chrX_168746045_168757590  chrX_168746045_168757590   \n",
       "2223477     chrX_168746045_168757590  chrX_169963295_170005197   \n",
       "2223478     chrX_169963295_170005197  chrX_169963295_170005197   \n",
       "2223479         chrY_1245775_1259992      chrY_1245775_1259992   \n",
       "\n",
       "            pairwise_distance subclass chr  genomic_distance  \n",
       "loci_pairs                                                    \n",
       "0                    0.000000    Oligo   1                 0  \n",
       "1                    0.922651    Oligo   1           2503216  \n",
       "2                    1.070654    Oligo   1           4997266  \n",
       "3                    1.060591    Oligo   1           5885184  \n",
       "4                    1.093519    Oligo   1           6056730  \n",
       "...                       ...      ...  ..               ...  \n",
       "2223475              0.845943     VLMC   X           2806131  \n",
       "2223476              0.000000     VLMC   X                 0  \n",
       "2223477              0.706862     VLMC   X           1217250  \n",
       "2223478              0.000000     VLMC   X                 0  \n",
       "2223479                   NaN     VLMC   Y                 0  \n",
       "\n",
       "[2223480 rows x 6 columns]"
      ]
     },
     "execution_count": 13,
     "metadata": {},
     "output_type": "execute_result"
    }
   ],
   "source": [
    "import tqdm\n",
    "dist_summary_folder = os.path.join(r'L:\\Shiwei\\postanalysis_2024\\v0\\chromosome_scaling\\analysis',\n",
    "                                     'Cis_dismap_summary')\n",
    "\n",
    "distmap_summary_df_list = []\n",
    "for _class in tqdm.tqdm(class_2_medianDict.keys()):\n",
    "    _class_distmap_summary_df = pd.read_csv(os.path.join(dist_summary_folder,\n",
    "                                                  f'raw_cis_distmap_subclass_{_class.replace(\"/\",\"_\").replace(\" \",\"_\")}_summary.csv'),\n",
    "                                           index_col=0)\n",
    "    distmap_summary_df_list.append(_class_distmap_summary_df)\n",
    "    \n",
    "distmap_summary_df = pd.concat(distmap_summary_df_list)\n",
    "distmap_summary_df"
   ]
  },
  {
   "cell_type": "markdown",
   "id": "e8ab9d6c",
   "metadata": {},
   "source": [
    "# Compare celltype pairs"
   ]
  },
  {
   "cell_type": "code",
   "execution_count": 14,
   "id": "9a9128d1",
   "metadata": {},
   "outputs": [],
   "source": [
    "from sklearn.linear_model import LinearRegression"
   ]
  },
  {
   "cell_type": "markdown",
   "id": "35ba4e55",
   "metadata": {},
   "source": [
    "## all chromosomes"
   ]
  },
  {
   "cell_type": "code",
   "execution_count": 21,
   "id": "4bdfd073",
   "metadata": {
    "scrolled": false
   },
   "outputs": [
    {
     "name": "stderr",
     "output_type": "stream",
     "text": [
      "meta NOT subset; don't know how to subset; dropped\n"
     ]
    },
    {
     "data": {
      "image/png": "[encoded data removed]",
      "text/plain": [
       "<Figure size 220x220 with 1 Axes>"
      ]
     },
     "metadata": {},
     "output_type": "display_data"
    }
   ],
   "source": [
    "%matplotlib inline\n",
    "import tqdm\n",
    "\n",
    "sel_sorted_bin_keys = [(0., np.inf),(10000000, np.inf),(0, 2000000)]\n",
    "#color_list = ['gray','steelblue','orange',]\n",
    "color_list = ['steelblue','steelblue','orange',]\n",
    "\n",
    "\n",
    "\n",
    "ref_cls = 'L4/5 IT'\n",
    "\n",
    "for sel_cls_2 in ['Micro']:\n",
    "    fig, ax = plt.subplots(figsize=(1.1,1.1),dpi=200)\n",
    "    \n",
    "    # if plot separately by different genomic distance\n",
    "    for _idx,_bin_key in enumerate(sel_sorted_bin_keys):\n",
    "        short_gd_th = _bin_key[0]\n",
    "        long_gd_th = _bin_key[1]\n",
    "        sel_distmap_summary_df = distmap_summary_df[(distmap_summary_df['genomic_distance']<long_gd_th)&\n",
    "                                            (distmap_summary_df['genomic_distance']>short_gd_th)]\n",
    "\n",
    "        X = np.array(sel_distmap_summary_df[sel_distmap_summary_df['subclass']==ref_cls]['pairwise_distance'].tolist())\n",
    "        y = np.array(sel_distmap_summary_df[sel_distmap_summary_df['subclass']==sel_cls_2]['pairwise_distance'].tolist())\n",
    "        # plot accordingly\n",
    "        if _idx==0:\n",
    "            valid_inds = (np.isfinite(X) & np.isfinite(y))\n",
    "            X = X[valid_inds,np.newaxis]\n",
    "            y = y[valid_inds]\n",
    "            ax.scatter(X,y,s=.01,alpha=0.7,color=color_list[_idx],label=f'All chr',rasterized=True)\n",
    "\n",
    "\n",
    "    ax.grid(False)\n",
    "    ax.set_aspect('equal')\n",
    "    plt.xlim([0.1,2.7])\n",
    "    plt.ylim([0.1,2.7])\n",
    "    diag_line, = ax.plot(ax.get_xlim(), ax.get_ylim(), ls=\"--\", c=\"orange\")\n",
    "    plt.tick_params(axis='y', rotation=0, pad =0.5, labelsize=_font_size) \n",
    "    ax.set_xlabel(f'{ref_cls}',fontsize=_font_size,labelpad=1)\n",
    "    ax.tick_params(axis='x', rotation=0, pad =0.5, labelsize=_font_size) \n",
    "    ax.set_ylabel(f'{sel_cls_2}', fontsize=_font_size, labelpad=1)\n",
    "\n",
    "\n",
    "    ax.set_xlabel(f'Spatial distance \\n({ref_cls}, \\u03BCm)',fontsize=_font_size,labelpad=1)\n",
    "    ax.tick_params(axis='x', rotation=0, pad =0.5, length=1, width=0.5, labelsize=7) \n",
    "    ax.set_ylabel(f'Spatial distance \\n({sel_cls_2}, \\u03BCm)', fontsize=_font_size, labelpad=1)\n",
    "    ax.tick_params(axis='y', rotation=0, pad =0.5, length=1, width=0.5, labelsize=7) \n",
    "\n",
    "    [i[1].set_linewidth(0.5) for i in ax.spines.items()]\n",
    "\n",
    "\n",
    "\n",
    "    fig.subplots_adjust(wspace=0.0, hspace=0.0, left=0.05, right=0.95, top=0.98, bottom=0.12)\n",
    "    ref_cls=ref_cls.replace('/','_').replace(' ','_')\n",
    "    sel_cls_2=sel_cls_2.replace('/','_').replace(' ','_')\n",
    "    plt.savefig(os.path.join(output_figure_folder, f'cis_dist_scatter_all_chroms_{ref_cls}_{sel_cls_2}.pdf'), \n",
    "            transparent=True, dpi=300, bbox_inches='tight')\n",
    "\n",
    "    plt.show()"
   ]
  },
  {
   "cell_type": "markdown",
   "id": "2866cc2f",
   "metadata": {},
   "source": [
    "## selected chromosome only"
   ]
  },
  {
   "cell_type": "code",
   "execution_count": 30,
   "id": "3e4ada42",
   "metadata": {},
   "outputs": [
    {
     "name": "stderr",
     "output_type": "stream",
     "text": [
      "meta NOT subset; don't know how to subset; dropped\n"
     ]
    },
    {
     "data": {
      "image/png": "[encoded data removed]",
      "text/plain": [
       "<Figure size 220x220 with 1 Axes>"
      ]
     },
     "metadata": {},
     "output_type": "display_data"
    }
   ],
   "source": [
    "%matplotlib inline\n",
    "import tqdm\n",
    "\n",
    "sel_sorted_bin_keys = [(0., np.inf),(10000000, np.inf),(0, 2000000)]\n",
    "#color_list = ['gray','steelblue','orange',]\n",
    "color_list = ['steelblue','steelblue','orange',]\n",
    "\n",
    "\n",
    "chosen_chrom = '1'\n",
    "\n",
    "\n",
    "ref_cls = 'L4/5 IT'\n",
    "\n",
    "for sel_cls_2 in ['Micro']:\n",
    "    fig, ax = plt.subplots(figsize=(1.1,1.1),dpi=200)\n",
    "    \n",
    "    # if plot separately by different genomic distance\n",
    "    for _idx,_bin_key in enumerate(sel_sorted_bin_keys):\n",
    "        short_gd_th = _bin_key[0]\n",
    "        long_gd_th = _bin_key[1]\n",
    "        sel_distmap_summary_df = distmap_summary_df[(distmap_summary_df['genomic_distance']<long_gd_th)&\n",
    "                                            (distmap_summary_df['genomic_distance']>short_gd_th)]\n",
    "        \n",
    "        sel_distmap_summary_df=sel_distmap_summary_df[sel_distmap_summary_df['chr']==chosen_chrom]\n",
    "\n",
    "        X = np.array(sel_distmap_summary_df[sel_distmap_summary_df['subclass']==ref_cls]['pairwise_distance'].tolist())\n",
    "        y = np.array(sel_distmap_summary_df[sel_distmap_summary_df['subclass']==sel_cls_2]['pairwise_distance'].tolist())\n",
    "        # plot accordingly\n",
    "        if _idx==0:\n",
    "            valid_inds = (np.isfinite(X) & np.isfinite(y))\n",
    "            X = X[valid_inds,np.newaxis]\n",
    "            y = y[valid_inds]\n",
    "            ax.scatter(X,y,s=.3,alpha=0.7,color=color_list[_idx],label=f'Chr{chosen_chrom}',rasterized=True)\n",
    "\n",
    "\n",
    "    ax.grid(False)\n",
    "    ax.set_aspect('equal')\n",
    "    plt.xlim([0.1,2.7])\n",
    "    plt.ylim([0.1,2.7])\n",
    "    diag_line, = ax.plot(ax.get_xlim(), ax.get_ylim(), ls=\"--\", c=\"orange\")\n",
    "    plt.tick_params(axis='y', rotation=0, pad =0.5, labelsize=_font_size) \n",
    "    ax.set_xlabel(f'{ref_cls}',fontsize=_font_size,labelpad=1)\n",
    "    ax.tick_params(axis='x', rotation=0, pad =0.5, labelsize=_font_size) \n",
    "    ax.set_ylabel(f'{sel_cls_2}', fontsize=_font_size, labelpad=1)\n",
    "\n",
    "\n",
    "    ax.set_xlabel(f'Spatial distance \\n({ref_cls}, \\u03BCm)',fontsize=_font_size,labelpad=1)\n",
    "    ax.tick_params(axis='x', rotation=0, pad =0.5, length=1, width=0.5, labelsize=7) \n",
    "    ax.set_ylabel(f'Spatial distance \\n({sel_cls_2}, \\u03BCm)', fontsize=_font_size, labelpad=1)\n",
    "    ax.tick_params(axis='y', rotation=0, pad =0.5, length=1, width=0.5, labelsize=7) \n",
    "\n",
    "    [i[1].set_linewidth(0.5) for i in ax.spines.items()]\n",
    "\n",
    "\n",
    "\n",
    "    fig.subplots_adjust(wspace=0.0, hspace=0.0, left=0.05, right=0.95, top=0.98, bottom=0.12)\n",
    "    ref_cls=ref_cls.replace('/','_').replace(' ','_')\n",
    "    sel_cls_2=sel_cls_2.replace('/','_').replace(' ','_')\n",
    "    plt.savefig(os.path.join(output_figure_folder, f'cis_dist_scatter_chr{chosen_chrom}_{ref_cls}_{sel_cls_2}.pdf'), \n",
    "            transparent=True, dpi=300, bbox_inches='tight')\n",
    "\n",
    "    plt.show()"
   ]
  },
  {
   "cell_type": "markdown",
   "id": "4ec05e52",
   "metadata": {},
   "source": [
    "# Compared merged neurons vs. non-neuronal cells"
   ]
  },
  {
   "cell_type": "code",
   "execution_count": 23,
   "id": "2171017e",
   "metadata": {},
   "outputs": [],
   "source": [
    "from sklearn.linear_model import LinearRegression"
   ]
  },
  {
   "cell_type": "code",
   "execution_count": 24,
   "id": "b62887e3",
   "metadata": {},
   "outputs": [],
   "source": [
    "neu_id_dict = {'Neuron':['L2/3 IT', 'L4/5 IT', 'L5 ET', 'L5 IT', \n",
    "                      'L5/6 NP','L6 CT', 'L6 IT', 'L6b', 'Pvalb','Sst',]\n",
    "               , 'NonNeu.':['Astro', 'Endo', 'Micro', 'OPC', 'Oligo', 'Peri', ]}"
   ]
  },
  {
   "cell_type": "markdown",
   "id": "5b8ced3b",
   "metadata": {},
   "source": [
    "## all chromosomes"
   ]
  },
  {
   "cell_type": "code",
   "execution_count": 26,
   "id": "aa2b8b56",
   "metadata": {},
   "outputs": [
    {
     "name": "stderr",
     "output_type": "stream",
     "text": [
      "meta NOT subset; don't know how to subset; dropped\n"
     ]
    },
    {
     "data": {
      "image/png": "[encoded data removed]",
      "text/plain": [
       "<Figure size 220x220 with 1 Axes>"
      ]
     },
     "metadata": {},
     "output_type": "display_data"
    }
   ],
   "source": [
    "%matplotlib inline\n",
    "import tqdm\n",
    "\n",
    "sel_sorted_bin_keys = [(0., np.inf),(2000000, np.inf),(0, 10000000)]\n",
    "#color_list = ['gray','steelblue','orange',]\n",
    "color_list = ['steelblue','steelblue','orange',]\n",
    "\n",
    "\n",
    "\n",
    "ref_cls = 'Neuron'\n",
    "sel_cls_2 = 'NonNeu.'\n",
    "\n",
    "\n",
    "fig, ax = plt.subplots(figsize=(1.1,1.1),dpi=200)\n",
    "\n",
    "# if plot separately by different genomic distance\n",
    "for _idx,_bin_key in enumerate(sel_sorted_bin_keys):\n",
    "\n",
    "    short_gd_th = _bin_key[0]\n",
    "    long_gd_th = _bin_key[1]\n",
    "    sel_distmap_summary_df = distmap_summary_df[(distmap_summary_df['genomic_distance']<long_gd_th)&\n",
    "                                        (distmap_summary_df['genomic_distance']>short_gd_th)]\n",
    "    \n",
    "    X_list = []\n",
    "    y_list = []\n",
    "    for _c in neu_id_dict[ref_cls]:\n",
    "        _X = np.array(sel_distmap_summary_df[sel_distmap_summary_df['subclass']==_c]['pairwise_distance'].tolist())\n",
    "        X_list.append(_X)\n",
    "    for _c in neu_id_dict[sel_cls_2]:\n",
    "        _y = np.array(sel_distmap_summary_df[sel_distmap_summary_df['subclass']==_c]['pairwise_distance'].tolist())\n",
    "        y_list.append(_y)\n",
    "        \n",
    "    X = np.nanmedian(np.array(X_list), axis=0)\n",
    "    y = np.nanmedian(np.array(y_list), axis=0)\n",
    "    \n",
    "    \n",
    "    valid_inds = (np.isfinite(X) & np.isfinite(y))\n",
    "    X = X[valid_inds]\n",
    "    y = y[valid_inds]\n",
    "        \n",
    "\n",
    "    # calculate correlation for all loci\n",
    "    if _idx==0:\n",
    "        #pearson_r, _ = pearsonr(X, y)\n",
    "        ax.scatter(X,y,s=.01,alpha=0.6,color=color_list[_idx],label=f'Genomic locus',rasterized=True)\n",
    "\n",
    "\n",
    "\n",
    "#ax.set_title (f'All chromosomes \\n r={round(pearson_r,2)}', fontsize=7)\n",
    "\n",
    "ax.grid(False)\n",
    "ax.set_aspect('equal')\n",
    "plt.xlim([0.1,2.7])\n",
    "plt.ylim([0.1,2.7])\n",
    "diag_line, = ax.plot(ax.get_xlim(), ax.get_ylim(), ls=\"--\", c=\"orange\")\n",
    "plt.tick_params(axis='y', rotation=0, pad =0.5, labelsize=_font_size) \n",
    "# set xylabel\n",
    "ax.set_xlabel(f'Spatial distance \\n({ref_cls}-merged, \\u03BCm)',fontsize=_font_size,labelpad=1)\n",
    "ax.tick_params(axis='x', rotation=0, pad =0.5, length=1, width=0.5, labelsize=7) \n",
    "ax.set_ylabel(f'Spatial distance \\n({sel_cls_2}-merged, \\u03BCm)', fontsize=_font_size, labelpad=1)\n",
    "ax.tick_params(axis='y', rotation=0, pad =0.5, length=1, width=0.5, labelsize=7) \n",
    "[i[1].set_linewidth(0.5) for i in ax.spines.items()]\n",
    "\n",
    "fig.subplots_adjust(wspace=0.0, hspace=0.0, left=0.05, right=0.95, top=0.98, bottom=0.12)\n",
    "ref_cls=ref_cls.replace('/','_').replace(' ','_')\n",
    "sel_cls_2=sel_cls_2.replace('/','_').replace(' ','_')\n",
    "plt.savefig(os.path.join(output_figure_folder, f'cis_dist_scatter_all_chroms_{ref_cls}_{sel_cls_2}.pdf'), \n",
    "        transparent=True, dpi=300, bbox_inches='tight')\n",
    "\n",
    "plt.show()"
   ]
  },
  {
   "cell_type": "markdown",
   "id": "92e7edda",
   "metadata": {},
   "source": [
    "## selected chromosome only"
   ]
  },
  {
   "cell_type": "code",
   "execution_count": 29,
   "id": "4e4d326d",
   "metadata": {},
   "outputs": [
    {
     "name": "stderr",
     "output_type": "stream",
     "text": [
      "meta NOT subset; don't know how to subset; dropped\n"
     ]
    },
    {
     "data": {
      "image/png": "[encoded data removed]",
      "text/plain": [
       "<Figure size 220x220 with 1 Axes>"
      ]
     },
     "metadata": {},
     "output_type": "display_data"
    }
   ],
   "source": [
    "%matplotlib inline\n",
    "import tqdm\n",
    "\n",
    "sel_sorted_bin_keys = [(0., np.inf),(2000000, np.inf),(0, 10000000)]\n",
    "#color_list = ['gray','steelblue','orange',]\n",
    "color_list = ['steelblue','steelblue','orange',]\n",
    "\n",
    "chosen_chrom = '1'\n",
    "\n",
    "ref_cls = 'Neuron'\n",
    "sel_cls_2 = 'NonNeu.'\n",
    "\n",
    "\n",
    "fig, ax = plt.subplots(figsize=(1.1,1.1),dpi=200)\n",
    "\n",
    "# if plot separately by different genomic distance\n",
    "for _idx,_bin_key in enumerate(sel_sorted_bin_keys):\n",
    "\n",
    "    short_gd_th = _bin_key[0]\n",
    "    long_gd_th = _bin_key[1]\n",
    "    sel_distmap_summary_df = distmap_summary_df[(distmap_summary_df['genomic_distance']<long_gd_th)&\n",
    "                                        (distmap_summary_df['genomic_distance']>short_gd_th)]\n",
    "    \n",
    "    sel_distmap_summary_df=sel_distmap_summary_df[sel_distmap_summary_df['chr']==chosen_chrom]\n",
    "    \n",
    "    X_list = []\n",
    "    y_list = []\n",
    "    for _c in neu_id_dict[ref_cls]:\n",
    "        _X = np.array(sel_distmap_summary_df[sel_distmap_summary_df['subclass']==_c]['pairwise_distance'].tolist())\n",
    "        X_list.append(_X)\n",
    "    for _c in neu_id_dict[sel_cls_2]:\n",
    "        _y = np.array(sel_distmap_summary_df[sel_distmap_summary_df['subclass']==_c]['pairwise_distance'].tolist())\n",
    "        y_list.append(_y)\n",
    "        \n",
    "    X = np.nanmedian(np.array(X_list), axis=0)\n",
    "    y = np.nanmedian(np.array(y_list), axis=0)\n",
    "    \n",
    "    \n",
    "    valid_inds = (np.isfinite(X) & np.isfinite(y))\n",
    "    X = X[valid_inds]\n",
    "    y = y[valid_inds]\n",
    "        \n",
    "\n",
    "    # calculate correlation for all loci\n",
    "    if _idx==0:\n",
    "        #pearson_r, _ = pearsonr(X, y)\n",
    "        ax.scatter(X,y,s=.3,alpha=0.6,color=color_list[_idx],label=f'Genomic locus',rasterized=True)\n",
    "\n",
    "\n",
    "\n",
    "#ax.set_title (f'All chromosomes \\n r={round(pearson_r,2)}', fontsize=7)\n",
    "\n",
    "ax.grid(False)\n",
    "ax.set_aspect('equal')\n",
    "plt.xlim([0.1,2.7])\n",
    "plt.ylim([0.1,2.7])\n",
    "diag_line, = ax.plot(ax.get_xlim(), ax.get_ylim(), ls=\"--\", c=\"orange\")\n",
    "plt.tick_params(axis='y', rotation=0, pad =0.5, labelsize=_font_size) \n",
    "# set xylabel\n",
    "ax.set_xlabel(f'Spatial distance \\n({ref_cls}-merged, \\u03BCm)',fontsize=_font_size,labelpad=1)\n",
    "ax.tick_params(axis='x', rotation=0, pad =0.5, length=1, width=0.5, labelsize=7) \n",
    "ax.set_ylabel(f'Spatial distance \\n({sel_cls_2}-merged, \\u03BCm)', fontsize=_font_size, labelpad=1)\n",
    "ax.tick_params(axis='y', rotation=0, pad =0.5, length=1, width=0.5, labelsize=7) \n",
    "[i[1].set_linewidth(0.5) for i in ax.spines.items()]\n",
    "\n",
    "fig.subplots_adjust(wspace=0.0, hspace=0.0, left=0.05, right=0.95, top=0.98, bottom=0.12)\n",
    "ref_cls=ref_cls.replace('/','_').replace(' ','_')\n",
    "sel_cls_2=sel_cls_2.replace('/','_').replace(' ','_')\n",
    "plt.savefig(os.path.join(output_figure_folder, f'cis_dist_scatter_chr{chosen_chrom}_{ref_cls}_{sel_cls_2}.pdf'), \n",
    "        transparent=True, dpi=300, bbox_inches='tight')\n",
    "\n",
    "plt.show()"
   ]
  }
 ],
 "metadata": {
  "kernelspec": {
   "display_name": "Python 3 (ipykernel)",
   "language": "python",
   "name": "python3"
  },
  "language_info": {
   "codemirror_mode": {
    "name": "ipython",
    "version": 3
   },
   "file_extension": ".py",
   "mimetype": "text/x-python",
   "name": "python",
   "nbconvert_exporter": "python",
   "pygments_lexer": "ipython3",
   "version": "3.10.8"
  },
  "toc": {
   "base_numbering": 1,
   "nav_menu": {},
   "number_sections": true,
   "sideBar": true,
   "skip_h1_title": false,
   "title_cell": "Table of Contents",
   "title_sidebar": "Contents",
   "toc_cell": false,
   "toc_position": {},
   "toc_section_display": true,
   "toc_window_display": true
  }
 },
 "nbformat": 4,
 "nbformat_minor": 5
}
