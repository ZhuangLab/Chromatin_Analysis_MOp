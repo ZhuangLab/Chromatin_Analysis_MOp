{
 "cells": [
  {
   "cell_type": "markdown",
   "id": "75c4e381",
   "metadata": {},
   "source": [
    "# Import module"
   ]
  },
  {
   "cell_type": "markdown",
   "id": "14a33d3e",
   "metadata": {},
   "source": [
    "The link to get [ImageAnalysis3](https://github.com/zhengpuas47/ImageAnalysis3) \n",
    "\n",
    "Or from the Zhuang lab archived [source_tools](https://github.com/ZhuangLab/Chromatin_Analysis_2020_cell/tree/master/sequential_tracing/source)"
   ]
  },
  {
   "cell_type": "markdown",
   "id": "b411cc21",
   "metadata": {},
   "source": [
    "## ImageAnalysis3 and basic modules"
   ]
  },
  {
   "cell_type": "code",
   "execution_count": 2,
   "id": "32554ab1",
   "metadata": {},
   "outputs": [
    {
     "name": "stdout",
     "output_type": "stream",
     "text": [
      "19776\n"
     ]
    }
   ],
   "source": [
    "%run \"C:\\Users\\shiwei\\Documents\\ImageAnalysis3\\required_files\\Startup_py3.py\"\n",
    "sys.path.append(r\"C:\\Users\\shiwei\\Documents\")\n",
    "\n",
    "import ImageAnalysis3 as ia\n",
    "from ImageAnalysis3 import *\n",
    "from ImageAnalysis3.classes import _allowed_kwds\n",
    "\n",
    "import h5py\n",
    "import ast\n",
    "import pandas as pd\n",
    "\n",
    "print(os.getpid())"
   ]
  },
  {
   "cell_type": "markdown",
   "id": "f5f8cd77",
   "metadata": {},
   "source": [
    "## Chromatin_analysis_tools etc"
   ]
  },
  {
   "cell_type": "markdown",
   "id": "2db5036f",
   "metadata": {},
   "source": [
    "See **functions** in the repository for [AnalysisTool_Chromatin](../../README.md)"
   ]
  },
  {
   "cell_type": "code",
   "execution_count": 3,
   "id": "9469aba8",
   "metadata": {},
   "outputs": [
    {
     "data": {
      "text/plain": [
       "<module 'atac_to_loci' from 'C:\\\\Users\\\\shiwei\\\\Documents\\\\AnalysisTool_Chromatin\\\\atac_to_loci.py'>"
      ]
     },
     "execution_count": 3,
     "metadata": {},
     "output_type": "execute_result"
    }
   ],
   "source": [
    "# Chromatin_analysis_tools (ATC)\n",
    "# Get path for the py containing functions\n",
    "import os\n",
    "import sys\n",
    "import importlib\n",
    "module_path =r'C:\\Users\\shiwei\\Documents\\AnalysisTool_Chromatin'\n",
    "if module_path not in sys.path:\n",
    "    sys.path.append(module_path)\n",
    "    \n",
    "# import relevant modules\n",
    "import gene_selection \n",
    "importlib.reload(gene_selection)\n",
    "import gene_to_loci\n",
    "importlib.reload(gene_to_loci)\n",
    "import gene_activity\n",
    "importlib.reload(gene_activity)\n",
    "import loci_1d_features\n",
    "importlib.reload(loci_1d_features)  \n",
    "\n",
    "import atac_to_loci\n",
    "importlib.reload(atac_to_loci)"
   ]
  },
  {
   "cell_type": "markdown",
   "id": "aa08c6de",
   "metadata": {},
   "source": [
    "# Define folders"
   ]
  },
  {
   "cell_type": "code",
   "execution_count": 4,
   "id": "2c8dce53",
   "metadata": {},
   "outputs": [
    {
     "name": "stdout",
     "output_type": "stream",
     "text": [
      "Use existing analysis folder: L:\\Shiwei\\postanalysis_2024\\v0\\chromosome_scaling\\analysis.\n",
      "Use existing figure folder: L:\\Shiwei\\postanalysis_2024\\v0\\chromosome_scaling\\figures.\n"
     ]
    }
   ],
   "source": [
    "# main folder for postanalysis\n",
    "postanalysis_folder = r'L:\\Shiwei\\postanalysis_2024\\v0'\n",
    "# input files for postanalysis\n",
    "input_folder = os.path.join(postanalysis_folder, 'resources_from_preprocess')\n",
    "\n",
    "# output file to be generated\n",
    "output_main_folder = os.path.join(postanalysis_folder, 'chromosome_scaling')\n",
    "\n",
    "output_analysis_folder = os.path.join(output_main_folder, 'analysis')\n",
    "output_figure_folder = os.path.join(output_main_folder, 'figures')\n",
    "\n",
    "# make new folder if needed\n",
    "make_output_folder = True\n",
    "\n",
    "if make_output_folder and not os.path.exists(output_analysis_folder):\n",
    "    os.makedirs(output_analysis_folder)\n",
    "    print(f'Generating analysis folder: {output_analysis_folder}.')\n",
    "elif os.path.exists(output_analysis_folder):\n",
    "    print(f'Use existing analysis folder: {output_analysis_folder}.')\n",
    "    \n",
    "if make_output_folder and not os.path.exists(output_figure_folder):\n",
    "    os.makedirs(output_figure_folder)\n",
    "    print(f'Generating figure folder: {output_figure_folder}.')\n",
    "elif os.path.exists(output_figure_folder):\n",
    "    print(f'Use existing figure folder: {output_figure_folder}.')"
   ]
  },
  {
   "cell_type": "markdown",
   "id": "43745cf2",
   "metadata": {},
   "source": [
    "# Plotting parameters"
   ]
  },
  {
   "cell_type": "code",
   "execution_count": 5,
   "id": "fb1e3324",
   "metadata": {},
   "outputs": [],
   "source": [
    "%matplotlib inline\n",
    "import matplotlib\n",
    "matplotlib.rcParams['pdf.fonttype'] = 42\n",
    "import matplotlib.pyplot as plt\n",
    "plt.rc('font', family='serif')\n",
    "plt.rc('font', serif='Arial')\n",
    "\n",
    "from ImageAnalysis3.figure_tools import _double_col_width, _single_col_width, _font_size, _ticklabel_size,_ticklabel_width\n",
    "\n",
    "import seaborn as sns\n",
    "sns.set_context(\"paper\", rc={\"font.size\":_font_size,\"axes.titlesize\":_font_size+1,\"axes.labelsize\":_font_size})  "
   ]
  },
  {
   "cell_type": "code",
   "execution_count": 6,
   "id": "bc310b7e",
   "metadata": {},
   "outputs": [],
   "source": [
    "# Other required plotting parameters\n",
    "_dpi = 300\n",
    "_font_size = 7\n",
    "_page_width = 5.5\n"
   ]
  },
  {
   "cell_type": "markdown",
   "id": "a1d34726",
   "metadata": {},
   "source": [
    "## cell type color-codess"
   ]
  },
  {
   "cell_type": "code",
   "execution_count": 7,
   "id": "c33943dd",
   "metadata": {},
   "outputs": [],
   "source": [
    "# cell labels from RNA-MERFISH and celltype prediction\n",
    "selected_cell_labels = ['L2/3 IT','L4/5 IT','L5 IT','L6 IT','L5 ET','L5/6 NP','L6 CT','L6b',\n",
    "                           'Sst','Pvalb','Lamp5','Sncg','Vip',\n",
    "                           'Astro','Oligo','OPC','Micro','Endo','VLMC','SMC','Peri', \n",
    "                           #'other',\n",
    "                          ]\n",
    "# cell palette from RNA-MERFISH UMAP and stats\n",
    "celltype_palette = {'Astro':'lightcoral', \n",
    "                    'Endo':'skyblue', \n",
    "                    'L2/3 IT':'gold', \n",
    "                    'L4/5 IT':'darkorange', \n",
    "                    'L5 ET':'mediumseagreen', \n",
    "                    'L5 IT':'aqua',\n",
    "                    'L5/6 NP':'darkgreen',\n",
    "                    'L6 CT':'brown',\n",
    "                    'L6 IT':'magenta',\n",
    "                    'L6b':'blue', \n",
    "                    'Lamp5':'orange', \n",
    "                    'Micro':'peachpuff',\n",
    "                    'OPC':'thistle', \n",
    "                    'Oligo':'darkviolet',\n",
    "                    'Peri':'sandybrown',\n",
    "                    'Pvalb':'springgreen',\n",
    "                    'SMC':'rosybrown',\n",
    "                    'Sncg':'darkkhaki',\n",
    "                    'Sst':'steelblue', \n",
    "                    'VLMC':'saddlebrown', \n",
    "                    'Vip':'red',\n",
    "                    'other':'slategray'}\n"
   ]
  },
  {
   "cell_type": "code",
   "execution_count": 8,
   "id": "caad6887",
   "metadata": {},
   "outputs": [],
   "source": [
    "# this is the plotting order noted based on the snRNA transcriptional acitivty if needed\n",
    "sorted_cellplot_order_byRNA = ['Micro', 'Oligo', 'Endo', 'OPC', 'Astro', 'Vip', 'Lamp5',\n",
    "                  'L5/6 NP', 'Sst', 'Sncg', 'Pvalb', 'L4/5 IT', 'L6 CT',\n",
    "                  'L6 IT', 'L6b', 'L2/3 IT', 'L5 IT', 'L5 ET']"
   ]
  },
  {
   "cell_type": "markdown",
   "id": "b00f58f0",
   "metadata": {},
   "source": [
    "# Load data relevant information"
   ]
  },
  {
   "cell_type": "markdown",
   "id": "7e667606",
   "metadata": {},
   "source": [
    "## load and format codebook"
   ]
  },
  {
   "cell_type": "markdown",
   "id": "6b8440c6",
   "metadata": {},
   "source": [
    "[merged codebook](../resources/merged_codebook.csv) as in the repository (merged for all DNA-MERFISH libraries)"
   ]
  },
  {
   "cell_type": "code",
   "execution_count": 9,
   "id": "c0734aad",
   "metadata": {},
   "outputs": [
    {
     "data": {
      "text/html": [
       "<div>\n",
       "<style scoped>\n",
       "    .dataframe tbody tr th:only-of-type {\n",
       "        vertical-align: middle;\n",
       "    }\n",
       "\n",
       "    .dataframe tbody tr th {\n",
       "        vertical-align: top;\n",
       "    }\n",
       "\n",
       "    .dataframe thead th {\n",
       "        text-align: right;\n",
       "    }\n",
       "</style>\n",
       "<table border=\"1\" class=\"dataframe\">\n",
       "  <thead>\n",
       "    <tr style=\"text-align: right;\">\n",
       "      <th></th>\n",
       "      <th>name</th>\n",
       "      <th>id</th>\n",
       "      <th>NDB_784</th>\n",
       "      <th>NDB_755</th>\n",
       "      <th>NDB_826</th>\n",
       "      <th>NDB_713</th>\n",
       "      <th>NDB_865</th>\n",
       "      <th>NDB_725</th>\n",
       "      <th>NDB_817</th>\n",
       "      <th>NDB_710</th>\n",
       "      <th>...</th>\n",
       "      <th>NDB_479</th>\n",
       "      <th>NDB_562</th>\n",
       "      <th>NDB_608</th>\n",
       "      <th>NDB_460</th>\n",
       "      <th>NDB_563</th>\n",
       "      <th>NDB_592</th>\n",
       "      <th>NDB_368</th>\n",
       "      <th>NDB_436</th>\n",
       "      <th>NDB_629</th>\n",
       "      <th>NDB_604</th>\n",
       "    </tr>\n",
       "  </thead>\n",
       "  <tbody>\n",
       "    <tr>\n",
       "      <th>0</th>\n",
       "      <td>1:3742742-3759944</td>\n",
       "      <td>1</td>\n",
       "      <td>0.0</td>\n",
       "      <td>0.0</td>\n",
       "      <td>0.0</td>\n",
       "      <td>0.0</td>\n",
       "      <td>0.0</td>\n",
       "      <td>0.0</td>\n",
       "      <td>0.0</td>\n",
       "      <td>0.0</td>\n",
       "      <td>...</td>\n",
       "      <td>0.0</td>\n",
       "      <td>0.0</td>\n",
       "      <td>0.0</td>\n",
       "      <td>0.0</td>\n",
       "      <td>0.0</td>\n",
       "      <td>0.0</td>\n",
       "      <td>0.0</td>\n",
       "      <td>0.0</td>\n",
       "      <td>0.0</td>\n",
       "      <td>0.0</td>\n",
       "    </tr>\n",
       "    <tr>\n",
       "      <th>1</th>\n",
       "      <td>1:6245958-6258969</td>\n",
       "      <td>2</td>\n",
       "      <td>0.0</td>\n",
       "      <td>0.0</td>\n",
       "      <td>0.0</td>\n",
       "      <td>0.0</td>\n",
       "      <td>0.0</td>\n",
       "      <td>0.0</td>\n",
       "      <td>0.0</td>\n",
       "      <td>0.0</td>\n",
       "      <td>...</td>\n",
       "      <td>0.0</td>\n",
       "      <td>0.0</td>\n",
       "      <td>0.0</td>\n",
       "      <td>0.0</td>\n",
       "      <td>0.0</td>\n",
       "      <td>0.0</td>\n",
       "      <td>0.0</td>\n",
       "      <td>0.0</td>\n",
       "      <td>0.0</td>\n",
       "      <td>0.0</td>\n",
       "    </tr>\n",
       "    <tr>\n",
       "      <th>2</th>\n",
       "      <td>1:8740008-8759916</td>\n",
       "      <td>3</td>\n",
       "      <td>0.0</td>\n",
       "      <td>0.0</td>\n",
       "      <td>0.0</td>\n",
       "      <td>0.0</td>\n",
       "      <td>0.0</td>\n",
       "      <td>0.0</td>\n",
       "      <td>0.0</td>\n",
       "      <td>0.0</td>\n",
       "      <td>...</td>\n",
       "      <td>0.0</td>\n",
       "      <td>0.0</td>\n",
       "      <td>0.0</td>\n",
       "      <td>0.0</td>\n",
       "      <td>0.0</td>\n",
       "      <td>0.0</td>\n",
       "      <td>0.0</td>\n",
       "      <td>0.0</td>\n",
       "      <td>0.0</td>\n",
       "      <td>0.0</td>\n",
       "    </tr>\n",
       "    <tr>\n",
       "      <th>1016</th>\n",
       "      <td>1:9627926-9637875</td>\n",
       "      <td>1</td>\n",
       "      <td>0.0</td>\n",
       "      <td>0.0</td>\n",
       "      <td>0.0</td>\n",
       "      <td>0.0</td>\n",
       "      <td>0.0</td>\n",
       "      <td>0.0</td>\n",
       "      <td>0.0</td>\n",
       "      <td>0.0</td>\n",
       "      <td>...</td>\n",
       "      <td>0.0</td>\n",
       "      <td>0.0</td>\n",
       "      <td>0.0</td>\n",
       "      <td>0.0</td>\n",
       "      <td>0.0</td>\n",
       "      <td>0.0</td>\n",
       "      <td>0.0</td>\n",
       "      <td>0.0</td>\n",
       "      <td>0.0</td>\n",
       "      <td>0.0</td>\n",
       "    </tr>\n",
       "    <tr>\n",
       "      <th>1017</th>\n",
       "      <td>1:9799472-9811359</td>\n",
       "      <td>2</td>\n",
       "      <td>0.0</td>\n",
       "      <td>0.0</td>\n",
       "      <td>0.0</td>\n",
       "      <td>0.0</td>\n",
       "      <td>0.0</td>\n",
       "      <td>0.0</td>\n",
       "      <td>0.0</td>\n",
       "      <td>0.0</td>\n",
       "      <td>...</td>\n",
       "      <td>0.0</td>\n",
       "      <td>0.0</td>\n",
       "      <td>0.0</td>\n",
       "      <td>0.0</td>\n",
       "      <td>0.0</td>\n",
       "      <td>1.0</td>\n",
       "      <td>0.0</td>\n",
       "      <td>0.0</td>\n",
       "      <td>0.0</td>\n",
       "      <td>0.0</td>\n",
       "    </tr>\n",
       "  </tbody>\n",
       "</table>\n",
       "<p>5 rows × 228 columns</p>\n",
       "</div>"
      ],
      "text/plain": [
       "                   name id  NDB_784  NDB_755  NDB_826  NDB_713  NDB_865  \\\n",
       "0     1:3742742-3759944  1      0.0      0.0      0.0      0.0      0.0   \n",
       "1     1:6245958-6258969  2      0.0      0.0      0.0      0.0      0.0   \n",
       "2     1:8740008-8759916  3      0.0      0.0      0.0      0.0      0.0   \n",
       "1016  1:9627926-9637875  1      0.0      0.0      0.0      0.0      0.0   \n",
       "1017  1:9799472-9811359  2      0.0      0.0      0.0      0.0      0.0   \n",
       "\n",
       "      NDB_725  NDB_817  NDB_710  ...  NDB_479  NDB_562  NDB_608  NDB_460  \\\n",
       "0         0.0      0.0      0.0  ...      0.0      0.0      0.0      0.0   \n",
       "1         0.0      0.0      0.0  ...      0.0      0.0      0.0      0.0   \n",
       "2         0.0      0.0      0.0  ...      0.0      0.0      0.0      0.0   \n",
       "1016      0.0      0.0      0.0  ...      0.0      0.0      0.0      0.0   \n",
       "1017      0.0      0.0      0.0  ...      0.0      0.0      0.0      0.0   \n",
       "\n",
       "      NDB_563  NDB_592  NDB_368  NDB_436  NDB_629  NDB_604  \n",
       "0         0.0      0.0      0.0      0.0      0.0      0.0  \n",
       "1         0.0      0.0      0.0      0.0      0.0      0.0  \n",
       "2         0.0      0.0      0.0      0.0      0.0      0.0  \n",
       "1016      0.0      0.0      0.0      0.0      0.0      0.0  \n",
       "1017      0.0      1.0      0.0      0.0      0.0      0.0  \n",
       "\n",
       "[5 rows x 228 columns]"
      ]
     },
     "execution_count": 9,
     "metadata": {},
     "output_type": "execute_result"
    }
   ],
   "source": [
    "# Load codebook \n",
    "codebook_fname = os.path.join(input_folder,'merged_codebook.csv')\n",
    "codebook_df = pd.read_csv (codebook_fname, index_col=0)\n",
    "\n",
    "# sort df by chr and chr_order\n",
    "codebook_df = loci_1d_features.sort_loci_df_by_chr_order (codebook_df)\n",
    "codebook_df.head()"
   ]
  },
  {
   "cell_type": "code",
   "execution_count": 10,
   "id": "3e95ab4f",
   "metadata": {},
   "outputs": [
    {
     "data": {
      "text/html": [
       "<div>\n",
       "<style scoped>\n",
       "    .dataframe tbody tr th:only-of-type {\n",
       "        vertical-align: middle;\n",
       "    }\n",
       "\n",
       "    .dataframe tbody tr th {\n",
       "        vertical-align: top;\n",
       "    }\n",
       "\n",
       "    .dataframe thead th {\n",
       "        text-align: right;\n",
       "    }\n",
       "</style>\n",
       "<table border=\"1\" class=\"dataframe\">\n",
       "  <thead>\n",
       "    <tr style=\"text-align: right;\">\n",
       "      <th></th>\n",
       "      <th>name</th>\n",
       "      <th>id</th>\n",
       "      <th>chr</th>\n",
       "      <th>chr_order</th>\n",
       "      <th>library</th>\n",
       "    </tr>\n",
       "    <tr>\n",
       "      <th>loci_name</th>\n",
       "      <th></th>\n",
       "      <th></th>\n",
       "      <th></th>\n",
       "      <th></th>\n",
       "      <th></th>\n",
       "    </tr>\n",
       "  </thead>\n",
       "  <tbody>\n",
       "    <tr>\n",
       "      <th>chr1_3742742_3759944</th>\n",
       "      <td>1:3742742-3759944</td>\n",
       "      <td>1</td>\n",
       "      <td>1</td>\n",
       "      <td>0.0</td>\n",
       "      <td>CTP11</td>\n",
       "    </tr>\n",
       "    <tr>\n",
       "      <th>chr1_6245958_6258969</th>\n",
       "      <td>1:6245958-6258969</td>\n",
       "      <td>2</td>\n",
       "      <td>1</td>\n",
       "      <td>1.0</td>\n",
       "      <td>CTP11</td>\n",
       "    </tr>\n",
       "    <tr>\n",
       "      <th>chr1_8740008_8759916</th>\n",
       "      <td>1:8740008-8759916</td>\n",
       "      <td>3</td>\n",
       "      <td>1</td>\n",
       "      <td>2.0</td>\n",
       "      <td>CTP11</td>\n",
       "    </tr>\n",
       "    <tr>\n",
       "      <th>chr1_9627926_9637875</th>\n",
       "      <td>1:9627926-9637875</td>\n",
       "      <td>1</td>\n",
       "      <td>1</td>\n",
       "      <td>3.0</td>\n",
       "      <td>CTP13</td>\n",
       "    </tr>\n",
       "    <tr>\n",
       "      <th>chr1_9799472_9811359</th>\n",
       "      <td>1:9799472-9811359</td>\n",
       "      <td>2</td>\n",
       "      <td>1</td>\n",
       "      <td>4.0</td>\n",
       "      <td>CTP13</td>\n",
       "    </tr>\n",
       "  </tbody>\n",
       "</table>\n",
       "</div>"
      ],
      "text/plain": [
       "                                   name id chr  chr_order library\n",
       "loci_name                                                        \n",
       "chr1_3742742_3759944  1:3742742-3759944  1   1        0.0   CTP11\n",
       "chr1_6245958_6258969  1:6245958-6258969  2   1        1.0   CTP11\n",
       "chr1_8740008_8759916  1:8740008-8759916  3   1        2.0   CTP11\n",
       "chr1_9627926_9637875  1:9627926-9637875  1   1        3.0   CTP13\n",
       "chr1_9799472_9811359  1:9799472-9811359  2   1        4.0   CTP13"
      ]
     },
     "execution_count": 10,
     "metadata": {},
     "output_type": "execute_result"
    }
   ],
   "source": [
    "# Format the chr loci name by \n",
    "# 1. changing loci name format\n",
    "# 2. extract relevant information such as id, chr, chr_order, and library etc\n",
    "from gene_to_loci import loci_pos_format\n",
    "loci_name_list = list(map(loci_pos_format, codebook_df['name'].tolist()))\n",
    "loci_name_arr = np.array(loci_name_list)\n",
    "\n",
    "# convert to a new dataframe and set loci name as index\n",
    "codebook_df = codebook_df[['name','id','chr','chr_order','library']]\n",
    "codebook_df['loci_name'] = list(loci_name_arr[:,0])\n",
    "codebook_df = codebook_df.set_index ('loci_name')\n",
    "\n",
    "codebook_df.head()"
   ]
  },
  {
   "cell_type": "markdown",
   "id": "d1c18bbd",
   "metadata": {},
   "source": [
    "# Load spatial distance from matrices"
   ]
  },
  {
   "cell_type": "code",
   "execution_count": 11,
   "id": "b6c526c4",
   "metadata": {},
   "outputs": [
    {
     "name": "stdout",
     "output_type": "stream",
     "text": [
      "dict_keys(['Oligo', 'L5 IT', 'Micro', 'Peri', 'Endo', 'Astro', 'OPC', 'L6 CT', 'L5 ET', 'L5/6 NP', 'Pvalb', 'L6 IT', 'Lamp5', 'L6b', 'Sst', 'SMC', 'L4/5 IT', 'L2/3 IT', 'Vip', 'Sncg', 'VLMC'])\n"
     ]
    }
   ],
   "source": [
    "# Load class_2_median\n",
    "# class to median distance dict\n",
    "class_2_median_filename = os.path.join(input_folder, 'subclass_2_medianDict.pkl')\n",
    "\n",
    "class_2_medianDict = pickle.load(open(class_2_median_filename, 'rb'))\n",
    "print(class_2_medianDict.keys())"
   ]
  },
  {
   "cell_type": "markdown",
   "id": "befbf3b9",
   "metadata": {},
   "source": [
    "# Calculate power law scaling vs. genomic distance for each chromosome"
   ]
  },
  {
   "cell_type": "code",
   "execution_count": 15,
   "id": "6e803e44",
   "metadata": {},
   "outputs": [],
   "source": [
    "from scipy.spatial.distance import pdist, squareform\n",
    "from scipy.stats import pearsonr, spearmanr\n",
    "from astropy.convolution import convolve\n",
    "from astropy.convolution import Gaussian2DKernel\n",
    "from scipy.ndimage import gaussian_filter\n",
    "from numpy import ma\n",
    "from scipy.optimize import curve_fit\n",
    "\n",
    "def power_law(x, a, k):\n",
    "    return a * np.power(x, k)"
   ]
  },
  {
   "cell_type": "code",
   "execution_count": 12,
   "id": "d99a6c28",
   "metadata": {},
   "outputs": [
    {
     "data": {
      "text/plain": [
       "array(['Peri', 'Micro', 'Endo', 'Oligo', 'Astro', 'OPC', 'Pvalb', 'Sst',\n",
       "       'Vip', 'L4/5 IT', 'L6 CT', 'L2/3 IT', 'L6b', 'L6 IT', 'L5 IT',\n",
       "       'L5 ET'], dtype='<U7')"
      ]
     },
     "execution_count": 12,
     "metadata": {},
     "output_type": "execute_result"
    }
   ],
   "source": [
    "# cell types that have good number of cells\n",
    "sel_class_list = ['Peri', 'Micro', 'Endo', 'Oligo','Astro',  'OPC', \n",
    "                              'Pvalb', 'Sst', 'Vip',\n",
    "                              'L4/5 IT', 'L6 CT', 'L2/3 IT', 'L6b', 'L6 IT', 'L5 IT', 'L5 ET', ]\n",
    "\n",
    "np.array(sel_class_list)"
   ]
  },
  {
   "cell_type": "code",
   "execution_count": 13,
   "id": "d346669a",
   "metadata": {},
   "outputs": [],
   "source": [
    "# excluding ChrX and ChrY\n",
    "sorted_chroms = [str(_ch) for _ch in range(1,20)]"
   ]
  },
  {
   "cell_type": "code",
   "execution_count": 14,
   "id": "3093561e",
   "metadata": {},
   "outputs": [],
   "source": [
    "# short-range and long-range\n",
    "distance_cutoff_dict = {'short_range':[0,1e7], 'long_range':[1e7,np.inf]}"
   ]
  },
  {
   "cell_type": "code",
   "execution_count": 16,
   "id": "6e5ad5ae",
   "metadata": {},
   "outputs": [],
   "source": [
    "# init dict to save results\n",
    "scaling_result_dict = {'chr':[], 'celltype':[], \n",
    "                       'genomic_range':[], 'k':[],\n",
    "                       }\n",
    "\n",
    "\n",
    "\n",
    "for chosen_chrom in sorted_chroms[:]:\n",
    "    _chr_codebook = codebook_df.loc[codebook_df['chr']==chosen_chrom]\n",
    "    for sel_celltype in sel_class_list:\n",
    "    #for sel_celltype in class_2_medianDict.keys():\n",
    "        \n",
    "        _region_centers = np.sort([np.mean(np.array(_n.split(chosen_chrom+':')[1].split('-'), dtype=np.int32)) \n",
    "                                   for _n in _chr_codebook['name']])\n",
    "        median_mat = class_2_medianDict[sel_celltype][f'cis_{chosen_chrom}']\n",
    "        gdist_mat = squareform(pdist(_region_centers[:,np.newaxis]))\n",
    "        # keep original entries as they will be sliced twice by genomic distance below\n",
    "        gdist_entries_ori = gdist_mat[np.triu_indices(len(gdist_mat),1)]\n",
    "        median_entries_ori = median_mat[np.triu_indices(len(median_mat),1)]\n",
    "        \n",
    "        # slice by genomic distance\n",
    "        for _dist_range, distance_cutoff in distance_cutoff_dict.items():\n",
    "            mask = (gdist_entries_ori > distance_cutoff[0]) & (gdist_entries_ori < distance_cutoff[1])\n",
    "            gdist_entries = gdist_entries_ori[mask]\n",
    "            median_entries = median_entries_ori[mask]\n",
    "\n",
    "            valid_inds = np.isfinite(np.log(gdist_entries)) & np.isfinite(np.log(median_entries))\n",
    "            gdist_entries = gdist_entries[valid_inds]\n",
    "            median_entries = median_entries[valid_inds]\n",
    "\n",
    "            params, cov = curve_fit(power_law, gdist_entries, median_entries)\n",
    "            a_fit, k_fit = params\n",
    "            std_devs = np.sqrt(np.diag(cov))\n",
    "            std_a, std_k = std_devs\n",
    "            \n",
    "            # append result\n",
    "            scaling_result_dict['chr'].append(chosen_chrom)\n",
    "            scaling_result_dict['celltype'].append(sel_celltype)\n",
    "            scaling_result_dict['genomic_range'].append(_dist_range)\n",
    "            scaling_result_dict['k'].append(k_fit)\n",
    "            \n",
    "            \n",
    "scaling_result_df = pd.DataFrame(scaling_result_dict)"
   ]
  },
  {
   "cell_type": "code",
   "execution_count": 17,
   "id": "a56a7cad",
   "metadata": {},
   "outputs": [
    {
     "data": {
      "text/html": [
       "<div>\n",
       "<style scoped>\n",
       "    .dataframe tbody tr th:only-of-type {\n",
       "        vertical-align: middle;\n",
       "    }\n",
       "\n",
       "    .dataframe tbody tr th {\n",
       "        vertical-align: top;\n",
       "    }\n",
       "\n",
       "    .dataframe thead th {\n",
       "        text-align: right;\n",
       "    }\n",
       "</style>\n",
       "<table border=\"1\" class=\"dataframe\">\n",
       "  <thead>\n",
       "    <tr style=\"text-align: right;\">\n",
       "      <th></th>\n",
       "      <th>chr</th>\n",
       "      <th>celltype</th>\n",
       "      <th>genomic_range</th>\n",
       "      <th>k</th>\n",
       "    </tr>\n",
       "  </thead>\n",
       "  <tbody>\n",
       "    <tr>\n",
       "      <th>0</th>\n",
       "      <td>1</td>\n",
       "      <td>Peri</td>\n",
       "      <td>short_range</td>\n",
       "      <td>0.191903</td>\n",
       "    </tr>\n",
       "    <tr>\n",
       "      <th>1</th>\n",
       "      <td>1</td>\n",
       "      <td>Peri</td>\n",
       "      <td>long_range</td>\n",
       "      <td>0.239388</td>\n",
       "    </tr>\n",
       "    <tr>\n",
       "      <th>2</th>\n",
       "      <td>1</td>\n",
       "      <td>Micro</td>\n",
       "      <td>short_range</td>\n",
       "      <td>0.186647</td>\n",
       "    </tr>\n",
       "    <tr>\n",
       "      <th>3</th>\n",
       "      <td>1</td>\n",
       "      <td>Micro</td>\n",
       "      <td>long_range</td>\n",
       "      <td>0.180907</td>\n",
       "    </tr>\n",
       "    <tr>\n",
       "      <th>4</th>\n",
       "      <td>1</td>\n",
       "      <td>Endo</td>\n",
       "      <td>short_range</td>\n",
       "      <td>0.197904</td>\n",
       "    </tr>\n",
       "  </tbody>\n",
       "</table>\n",
       "</div>"
      ],
      "text/plain": [
       "  chr celltype genomic_range         k\n",
       "0   1     Peri   short_range  0.191903\n",
       "1   1     Peri    long_range  0.239388\n",
       "2   1    Micro   short_range  0.186647\n",
       "3   1    Micro    long_range  0.180907\n",
       "4   1     Endo   short_range  0.197904"
      ]
     },
     "execution_count": 17,
     "metadata": {},
     "output_type": "execute_result"
    }
   ],
   "source": [
    "scaling_result_df.head()"
   ]
  },
  {
   "cell_type": "markdown",
   "id": "c78296fb",
   "metadata": {},
   "source": [
    "# Plot heatmap summary"
   ]
  },
  {
   "cell_type": "code",
   "execution_count": 18,
   "id": "a9a0f9e6",
   "metadata": {},
   "outputs": [
    {
     "data": {
      "text/plain": [
       "array(['Peri', 'Micro', 'Endo', 'Oligo', 'Astro', 'OPC', 'L6b', 'L6 CT',\n",
       "       'L4/5 IT', 'Sst', 'L6 IT', 'Vip', 'L5 ET', 'L5 IT', 'L2/3 IT',\n",
       "       'Pvalb'], dtype='<U7')"
      ]
     },
     "execution_count": 18,
     "metadata": {},
     "output_type": "execute_result"
    }
   ],
   "source": [
    "# get plotting order using the cell-type median of one of the range\n",
    "sel_df = scaling_result_df[scaling_result_df['genomic_range'] == 'short_range']\n",
    "#sel_df = scaling_result_df[scaling_result_df['genomic_range'] == 'long_range']\n",
    "\n",
    "pivot_df = pd.pivot_table(sel_df, values='k', index='chr', columns='celltype')\n",
    "sorted_cell_order = pivot_df.median(axis=0).reset_index().sort_values(by=0)['celltype'].tolist()\n",
    "np.array(sorted_cell_order)"
   ]
  },
  {
   "cell_type": "code",
   "execution_count": 21,
   "id": "61aa3d73",
   "metadata": {},
   "outputs": [
    {
     "name": "stderr",
     "output_type": "stream",
     "text": [
      "meta NOT subset; don't know how to subset; dropped\n"
     ]
    },
    {
     "data": {
      "image/png": "[encoded data removed]",
      "text/plain": [
       "<Figure size 750x300 with 4 Axes>"
      ]
     },
     "metadata": {},
     "output_type": "display_data"
    }
   ],
   "source": [
    "# plot heatmap\n",
    "grange_list = ['short_range', 'long_range']\n",
    "\n",
    "fig, ax = plt.subplots(1, len(grange_list), figsize=(2.5*len(grange_list),2), dpi=150)\n",
    "\n",
    "for _idx, sel_range in enumerate(grange_list):\n",
    "\n",
    "    # separate for short-range and long-range\n",
    "    sel_df = scaling_result_df[scaling_result_df['genomic_range'] == sel_range]\n",
    "    pivot_df = pd.pivot_table(sel_df, values='k', index='chr', columns='celltype')\n",
    "\n",
    "    pivot_df = pivot_df[sorted_cell_order]\n",
    "    pivot_df = pivot_df.reindex(sorted_chroms)\n",
    "\n",
    "    # heatmap and color scaling\n",
    "    if sel_range=='short_range':\n",
    "        vmin, vmax = 0.075,0.3\n",
    "    elif sel_range=='long_range':\n",
    "        vmin, vmax = 0.075,0.3\n",
    "    sns.heatmap(pivot_df, ax=ax[_idx], vmin = vmin, vmax=vmax, \n",
    "                cbar_kws={'label':'Scaling power', \"pad\": 0.02})\n",
    "\n",
    "    # other plotting params\n",
    "    ax[_idx].set_xlabel(f\"Cell types\", fontsize=_font_size-0.5, rotation=0,labelpad=2,)\n",
    "    ax[_idx].set_ylabel(f\"Chromosomes \\n (Chr1-Chr19)\", fontsize=_font_size-0.5, rotation=90,labelpad=1,)\n",
    "    ax[_idx].tick_params('both',labelsize=_font_size-0.5, \n",
    "                    #width=_ticklabel_width, \n",
    "                   length=_ticklabel_size,\n",
    "                    #labeltop=False,\n",
    "                    pad=1, )\n",
    "    ax[_idx].figure.axes[-1].tick_params(axis='y', length=1, pad=0.1, labelsize=_font_size-1,rotation=0,)\n",
    "    ax[_idx].figure.axes[-1].set_ylabel('Scaling power exp.', fontsize=_font_size-0.5, rotation=270, labelpad=10)\n",
    "\n",
    "    TickLabels = pivot_df.columns\n",
    "    ax[_idx].set_xticks(np.arange(0,len(pivot_df.columns))+0.5)\n",
    "    ax[_idx].set_xticklabels(TickLabels,rotation=90,fontdict={'fontsize':_font_size-0.5})\n",
    "    \n",
    "    ax[_idx].set_title (sel_range.replace('_',' ').capitalize(), fontsize=7)\n",
    "\n",
    "plt.tight_layout()\n",
    "plt.savefig(os.path.join(output_figure_folder,f'scaling_summary_heatmap.pdf'),\n",
    "            transparent=True, bbox_inches='tight', pad_inches=0.2, dpi=300)\n",
    "plt.show()"
   ]
  }
 ],
 "metadata": {
  "kernelspec": {
   "display_name": "Python 3 (ipykernel)",
   "language": "python",
   "name": "python3"
  },
  "language_info": {
   "codemirror_mode": {
    "name": "ipython",
    "version": 3
   },
   "file_extension": ".py",
   "mimetype": "text/x-python",
   "name": "python",
   "nbconvert_exporter": "python",
   "pygments_lexer": "ipython3",
   "version": "3.10.8"
  },
  "toc": {
   "base_numbering": 1,
   "nav_menu": {},
   "number_sections": true,
   "sideBar": true,
   "skip_h1_title": false,
   "title_cell": "Table of Contents",
   "title_sidebar": "Contents",
   "toc_cell": false,
   "toc_position": {
    "height": "calc(100% - 180px)",
    "left": "10px",
    "top": "150px",
    "width": "349.091px"
   },
   "toc_section_display": true,
   "toc_window_display": true
  }
 },
 "nbformat": 4,
 "nbformat_minor": 5
}
