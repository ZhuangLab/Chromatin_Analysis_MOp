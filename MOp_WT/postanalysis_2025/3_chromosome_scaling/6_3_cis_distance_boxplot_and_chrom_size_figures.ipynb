{
 "cells": [
  {
   "cell_type": "markdown",
   "id": "75c4e381",
   "metadata": {},
   "source": [
    "# Import module"
   ]
  },
  {
   "cell_type": "markdown",
   "id": "14a33d3e",
   "metadata": {},
   "source": [
    "The link to get [ImageAnalysis3](https://github.com/zhengpuas47/ImageAnalysis3) \n",
    "\n",
    "Or from the Zhuang lab archived [source_tools](https://github.com/ZhuangLab/Chromatin_Analysis_2020_cell/tree/master/sequential_tracing/source)"
   ]
  },
  {
   "cell_type": "markdown",
   "id": "b411cc21",
   "metadata": {},
   "source": [
    "## ImageAnalysis3 and basic modules"
   ]
  },
  {
   "cell_type": "code",
   "execution_count": 1,
   "id": "32554ab1",
   "metadata": {},
   "outputs": [
    {
     "name": "stdout",
     "output_type": "stream",
     "text": [
      "49956\n"
     ]
    }
   ],
   "source": [
    "%run \"C:\\Users\\shiwei\\Documents\\ImageAnalysis3\\required_files\\Startup_py3.py\"\n",
    "sys.path.append(r\"C:\\Users\\shiwei\\Documents\")\n",
    "\n",
    "import ImageAnalysis3 as ia\n",
    "from ImageAnalysis3 import *\n",
    "from ImageAnalysis3.classes import _allowed_kwds\n",
    "\n",
    "import h5py\n",
    "import ast\n",
    "import pandas as pd\n",
    "\n",
    "print(os.getpid())"
   ]
  },
  {
   "cell_type": "markdown",
   "id": "f5f8cd77",
   "metadata": {},
   "source": [
    "## Chromatin_analysis_tools etc"
   ]
  },
  {
   "cell_type": "markdown",
   "id": "2db5036f",
   "metadata": {},
   "source": [
    "See **functions** in the repository for [AnalysisTool_Chromatin](../../README.md)"
   ]
  },
  {
   "cell_type": "code",
   "execution_count": 2,
   "id": "9469aba8",
   "metadata": {},
   "outputs": [
    {
     "data": {
      "text/plain": [
       "<module 'atac_to_loci' from 'C:\\\\Users\\\\shiwei\\\\Documents\\\\AnalysisTool_Chromatin\\\\atac_to_loci.py'>"
      ]
     },
     "execution_count": 2,
     "metadata": {},
     "output_type": "execute_result"
    }
   ],
   "source": [
    "# Chromatin_analysis_tools (ATC)\n",
    "# Get path for the py containing functions\n",
    "import os\n",
    "import sys\n",
    "import importlib\n",
    "module_path =r'C:\\Users\\shiwei\\Documents\\AnalysisTool_Chromatin'\n",
    "if module_path not in sys.path:\n",
    "    sys.path.append(module_path)\n",
    "    \n",
    "# import relevant modules\n",
    "import gene_selection \n",
    "importlib.reload(gene_selection)\n",
    "import gene_to_loci\n",
    "importlib.reload(gene_to_loci)\n",
    "import gene_activity\n",
    "importlib.reload(gene_activity)\n",
    "import loci_1d_features\n",
    "importlib.reload(loci_1d_features)  \n",
    "\n",
    "import atac_to_loci\n",
    "importlib.reload(atac_to_loci)"
   ]
  },
  {
   "cell_type": "markdown",
   "id": "aa08c6de",
   "metadata": {},
   "source": [
    "# Define folders"
   ]
  },
  {
   "cell_type": "code",
   "execution_count": 3,
   "id": "2c8dce53",
   "metadata": {},
   "outputs": [
    {
     "name": "stdout",
     "output_type": "stream",
     "text": [
      "Use existing analysis folder: L:\\Shiwei\\postanalysis_2024\\v0\\chromosome_scaling\\analysis.\n",
      "Use existing figure folder: L:\\Shiwei\\postanalysis_2024\\v0\\chromosome_scaling\\figures.\n"
     ]
    }
   ],
   "source": [
    "# main folder for postanalysis\n",
    "postanalysis_folder = r'L:\\Shiwei\\postanalysis_2024\\v0'\n",
    "# input files for postanalysis\n",
    "input_folder = os.path.join(postanalysis_folder, 'resources_from_preprocess')\n",
    "\n",
    "# output file to be generated\n",
    "output_main_folder = os.path.join(postanalysis_folder, 'chromosome_scaling')\n",
    "\n",
    "output_analysis_folder = os.path.join(output_main_folder, 'analysis')\n",
    "output_figure_folder = os.path.join(output_main_folder, 'figures')\n",
    "\n",
    "# make new folder if needed\n",
    "make_output_folder = True\n",
    "\n",
    "if make_output_folder and not os.path.exists(output_analysis_folder):\n",
    "    os.makedirs(output_analysis_folder)\n",
    "    print(f'Generating analysis folder: {output_analysis_folder}.')\n",
    "elif os.path.exists(output_analysis_folder):\n",
    "    print(f'Use existing analysis folder: {output_analysis_folder}.')\n",
    "    \n",
    "if make_output_folder and not os.path.exists(output_figure_folder):\n",
    "    os.makedirs(output_figure_folder)\n",
    "    print(f'Generating figure folder: {output_figure_folder}.')\n",
    "elif os.path.exists(output_figure_folder):\n",
    "    print(f'Use existing figure folder: {output_figure_folder}.')"
   ]
  },
  {
   "cell_type": "markdown",
   "id": "43745cf2",
   "metadata": {},
   "source": [
    "# Plotting parameters"
   ]
  },
  {
   "cell_type": "code",
   "execution_count": 4,
   "id": "fb1e3324",
   "metadata": {},
   "outputs": [],
   "source": [
    "%matplotlib inline\n",
    "import matplotlib\n",
    "matplotlib.rcParams['pdf.fonttype'] = 42\n",
    "import matplotlib.pyplot as plt\n",
    "plt.rc('font', family='serif')\n",
    "plt.rc('font', serif='Arial')\n",
    "\n",
    "from ImageAnalysis3.figure_tools import _double_col_width, _single_col_width, _font_size, _ticklabel_size,_ticklabel_width\n",
    "\n",
    "import seaborn as sns\n",
    "sns.set_context(\"paper\", rc={\"font.size\":_font_size,\"axes.titlesize\":_font_size+1,\"axes.labelsize\":_font_size})  "
   ]
  },
  {
   "cell_type": "code",
   "execution_count": 5,
   "id": "bc310b7e",
   "metadata": {},
   "outputs": [],
   "source": [
    "# Other required plotting parameters\n",
    "_dpi = 300\n",
    "_font_size = 7\n",
    "_page_width = 5.5\n"
   ]
  },
  {
   "cell_type": "markdown",
   "id": "a1d34726",
   "metadata": {},
   "source": [
    "## cell type color-codess"
   ]
  },
  {
   "cell_type": "code",
   "execution_count": 6,
   "id": "c33943dd",
   "metadata": {},
   "outputs": [],
   "source": [
    "# cell labels from RNA-MERFISH and celltype prediction\n",
    "selected_cell_labels = ['L2/3 IT','L4/5 IT','L5 IT','L6 IT','L5 ET','L5/6 NP','L6 CT','L6b',\n",
    "                           'Sst','Pvalb','Lamp5','Sncg','Vip',\n",
    "                           'Astro','Oligo','OPC','Micro','Endo','VLMC','SMC','Peri', \n",
    "                           #'other',\n",
    "                          ]\n",
    "# cell palette from RNA-MERFISH UMAP and stats\n",
    "celltype_palette = {'Astro':'lightcoral', \n",
    "                    'Endo':'skyblue', \n",
    "                    'L2/3 IT':'gold', \n",
    "                    'L4/5 IT':'darkorange', \n",
    "                    'L5 ET':'mediumseagreen', \n",
    "                    'L5 IT':'aqua',\n",
    "                    'L5/6 NP':'darkgreen',\n",
    "                    'L6 CT':'brown',\n",
    "                    'L6 IT':'magenta',\n",
    "                    'L6b':'blue', \n",
    "                    'Lamp5':'orange', \n",
    "                    'Micro':'peachpuff',\n",
    "                    'OPC':'thistle', \n",
    "                    'Oligo':'darkviolet',\n",
    "                    'Peri':'sandybrown',\n",
    "                    'Pvalb':'springgreen',\n",
    "                    'SMC':'rosybrown',\n",
    "                    'Sncg':'darkkhaki',\n",
    "                    'Sst':'steelblue', \n",
    "                    'VLMC':'saddlebrown', \n",
    "                    'Vip':'red',\n",
    "                    'other':'slategray'}\n"
   ]
  },
  {
   "cell_type": "code",
   "execution_count": 7,
   "id": "caad6887",
   "metadata": {},
   "outputs": [],
   "source": [
    "# this is the plotting order noted based on the snRNA transcriptional acitivty if needed\n",
    "sorted_cellplot_order_byRNA = ['Micro', 'Oligo', 'Endo', 'OPC', 'Astro', 'Vip', 'Lamp5',\n",
    "                  'L5/6 NP', 'Sst', 'Sncg', 'Pvalb', 'L4/5 IT', 'L6 CT',\n",
    "                  'L6 IT', 'L6b', 'L2/3 IT', 'L5 IT', 'L5 ET']"
   ]
  },
  {
   "cell_type": "markdown",
   "id": "08a735c7",
   "metadata": {},
   "source": [
    "# Load median summary\n",
    "\n",
    "Data summary below can be generated by the notebook\n",
    "\n",
    "[6_1_cis_distance_summary_across_celltypes](6_1_cis_distance_summary_across_celltypes.ipynb)"
   ]
  },
  {
   "cell_type": "code",
   "execution_count": 9,
   "id": "d8694699",
   "metadata": {},
   "outputs": [
    {
     "name": "stdout",
     "output_type": "stream",
     "text": [
      "Loading median\n"
     ]
    }
   ],
   "source": [
    "# subclass to median distance dict to get cell types\n",
    "class_2_median_filename = os.path.join(input_folder, 'subclass_2_medianDict.pkl')\n",
    "if os.path.exists(class_2_median_filename):\n",
    "    print(\"Loading median\")\n",
    "    class_2_medianDict = pickle.load(open(class_2_median_filename, 'rb'))"
   ]
  },
  {
   "cell_type": "code",
   "execution_count": 10,
   "id": "03c39b2d",
   "metadata": {},
   "outputs": [
    {
     "name": "stderr",
     "output_type": "stream",
     "text": [
      "100%|██████████████████████████████████████████████████████████████████████████████████| 21/21 [00:03<00:00,  5.47it/s]\n"
     ]
    }
   ],
   "source": [
    "import tqdm\n",
    "\n",
    "distmap_summary_df_list = []\n",
    "for _class in tqdm.tqdm(class_2_medianDict.keys()):\n",
    "    _class_distmap_summary_df = pd.read_csv(os.path.join(output_analysis_folder,'Cis_dismap_summary',\n",
    "                                                  f'raw_cis_distmap_subclass_{_class.replace(\"/\",\"_\").replace(\" \",\"_\")}_summary.csv'),\n",
    "                                           index_col=0)\n",
    "    distmap_summary_df_list.append(_class_distmap_summary_df)\n",
    "    \n",
    "distmap_summary_df = pd.concat(distmap_summary_df_list)"
   ]
  },
  {
   "cell_type": "code",
   "execution_count": 11,
   "id": "e85f6264",
   "metadata": {},
   "outputs": [
    {
     "data": {
      "text/html": [
       "<div>\n",
       "<style scoped>\n",
       "    .dataframe tbody tr th:only-of-type {\n",
       "        vertical-align: middle;\n",
       "    }\n",
       "\n",
       "    .dataframe tbody tr th {\n",
       "        vertical-align: top;\n",
       "    }\n",
       "\n",
       "    .dataframe thead th {\n",
       "        text-align: right;\n",
       "    }\n",
       "</style>\n",
       "<table border=\"1\" class=\"dataframe\">\n",
       "  <thead>\n",
       "    <tr style=\"text-align: right;\">\n",
       "      <th></th>\n",
       "      <th>loc_1</th>\n",
       "      <th>loc_2</th>\n",
       "      <th>pairwise_distance</th>\n",
       "      <th>subclass</th>\n",
       "      <th>chr</th>\n",
       "      <th>genomic_distance</th>\n",
       "    </tr>\n",
       "    <tr>\n",
       "      <th>loci_pairs</th>\n",
       "      <th></th>\n",
       "      <th></th>\n",
       "      <th></th>\n",
       "      <th></th>\n",
       "      <th></th>\n",
       "      <th></th>\n",
       "    </tr>\n",
       "  </thead>\n",
       "  <tbody>\n",
       "    <tr>\n",
       "      <th>0</th>\n",
       "      <td>chr1_3742742_3759944</td>\n",
       "      <td>chr1_3742742_3759944</td>\n",
       "      <td>0.000000</td>\n",
       "      <td>Oligo</td>\n",
       "      <td>1</td>\n",
       "      <td>0</td>\n",
       "    </tr>\n",
       "    <tr>\n",
       "      <th>1</th>\n",
       "      <td>chr1_3742742_3759944</td>\n",
       "      <td>chr1_6245958_6258969</td>\n",
       "      <td>0.922651</td>\n",
       "      <td>Oligo</td>\n",
       "      <td>1</td>\n",
       "      <td>2503216</td>\n",
       "    </tr>\n",
       "    <tr>\n",
       "      <th>2</th>\n",
       "      <td>chr1_3742742_3759944</td>\n",
       "      <td>chr1_8740008_8759916</td>\n",
       "      <td>1.070654</td>\n",
       "      <td>Oligo</td>\n",
       "      <td>1</td>\n",
       "      <td>4997266</td>\n",
       "    </tr>\n",
       "    <tr>\n",
       "      <th>3</th>\n",
       "      <td>chr1_3742742_3759944</td>\n",
       "      <td>chr1_9627926_9637875</td>\n",
       "      <td>1.060591</td>\n",
       "      <td>Oligo</td>\n",
       "      <td>1</td>\n",
       "      <td>5885184</td>\n",
       "    </tr>\n",
       "    <tr>\n",
       "      <th>4</th>\n",
       "      <td>chr1_3742742_3759944</td>\n",
       "      <td>chr1_9799472_9811359</td>\n",
       "      <td>1.093519</td>\n",
       "      <td>Oligo</td>\n",
       "      <td>1</td>\n",
       "      <td>6056730</td>\n",
       "    </tr>\n",
       "  </tbody>\n",
       "</table>\n",
       "</div>"
      ],
      "text/plain": [
       "                           loc_1                 loc_2  pairwise_distance  \\\n",
       "loci_pairs                                                                  \n",
       "0           chr1_3742742_3759944  chr1_3742742_3759944           0.000000   \n",
       "1           chr1_3742742_3759944  chr1_6245958_6258969           0.922651   \n",
       "2           chr1_3742742_3759944  chr1_8740008_8759916           1.070654   \n",
       "3           chr1_3742742_3759944  chr1_9627926_9637875           1.060591   \n",
       "4           chr1_3742742_3759944  chr1_9799472_9811359           1.093519   \n",
       "\n",
       "           subclass chr  genomic_distance  \n",
       "loci_pairs                                 \n",
       "0             Oligo   1                 0  \n",
       "1             Oligo   1           2503216  \n",
       "2             Oligo   1           4997266  \n",
       "3             Oligo   1           5885184  \n",
       "4             Oligo   1           6056730  "
      ]
     },
     "execution_count": 11,
     "metadata": {},
     "output_type": "execute_result"
    }
   ],
   "source": [
    "distmap_summary_df.head()"
   ]
  },
  {
   "cell_type": "markdown",
   "id": "7d49273c",
   "metadata": {},
   "source": [
    "# Load chromatin size dataframe\n",
    "\n",
    "Data below can be generated using the notebook as:\n",
    "\n",
    "[4_1_calculate_chromatin_rg](../2_nucleus_and_chromosome/4_1_calculate_chromatin_rg.ipynb)"
   ]
  },
  {
   "cell_type": "code",
   "execution_count": 17,
   "id": "769e9bf6",
   "metadata": {},
   "outputs": [],
   "source": [
    "chrom_size_folder = r'L:\\Shiwei\\postanalysis_2024\\v0\\nucleus_and_chromosome\\analysis'\n",
    "df_rg_filename = os.path.join(chrom_size_folder, 'WT_MOp_Rg.csv')\n",
    "\n",
    "if os.path.exists(df_rg_filename):\n",
    "    chromosome_size_df = pd.read_csv(df_rg_filename, index_col=0)"
   ]
  },
  {
   "cell_type": "code",
   "execution_count": 18,
   "id": "54330abc",
   "metadata": {},
   "outputs": [
    {
     "data": {
      "text/html": [
       "<div>\n",
       "<style scoped>\n",
       "    .dataframe tbody tr th:only-of-type {\n",
       "        vertical-align: middle;\n",
       "    }\n",
       "\n",
       "    .dataframe tbody tr th {\n",
       "        vertical-align: top;\n",
       "    }\n",
       "\n",
       "    .dataframe thead th {\n",
       "        text-align: right;\n",
       "    }\n",
       "</style>\n",
       "<table border=\"1\" class=\"dataframe\">\n",
       "  <thead>\n",
       "    <tr style=\"text-align: right;\">\n",
       "      <th></th>\n",
       "      <th>rg</th>\n",
       "      <th>uid</th>\n",
       "      <th>majorType</th>\n",
       "      <th>subclass</th>\n",
       "      <th>chr</th>\n",
       "      <th>fiberidx</th>\n",
       "    </tr>\n",
       "  </thead>\n",
       "  <tbody>\n",
       "    <tr>\n",
       "      <th>0</th>\n",
       "      <td>1.241714</td>\n",
       "      <td>100002611273212566104762860093574587628</td>\n",
       "      <td>Gluta</td>\n",
       "      <td>L4/5 IT</td>\n",
       "      <td>chr1</td>\n",
       "      <td>1</td>\n",
       "    </tr>\n",
       "    <tr>\n",
       "      <th>1</th>\n",
       "      <td>1.163226</td>\n",
       "      <td>100002611273212566104762860093574587628</td>\n",
       "      <td>Gluta</td>\n",
       "      <td>L4/5 IT</td>\n",
       "      <td>chr10</td>\n",
       "      <td>1</td>\n",
       "    </tr>\n",
       "    <tr>\n",
       "      <th>2</th>\n",
       "      <td>1.888276</td>\n",
       "      <td>100002611273212566104762860093574587628</td>\n",
       "      <td>Gluta</td>\n",
       "      <td>L4/5 IT</td>\n",
       "      <td>chr11</td>\n",
       "      <td>1</td>\n",
       "    </tr>\n",
       "    <tr>\n",
       "      <th>3</th>\n",
       "      <td>1.759560</td>\n",
       "      <td>100002611273212566104762860093574587628</td>\n",
       "      <td>Gluta</td>\n",
       "      <td>L4/5 IT</td>\n",
       "      <td>chr12</td>\n",
       "      <td>1</td>\n",
       "    </tr>\n",
       "    <tr>\n",
       "      <th>4</th>\n",
       "      <td>1.404082</td>\n",
       "      <td>100002611273212566104762860093574587628</td>\n",
       "      <td>Gluta</td>\n",
       "      <td>L4/5 IT</td>\n",
       "      <td>chr13</td>\n",
       "      <td>1</td>\n",
       "    </tr>\n",
       "  </tbody>\n",
       "</table>\n",
       "</div>"
      ],
      "text/plain": [
       "         rg                                      uid majorType subclass  \\\n",
       "0  1.241714  100002611273212566104762860093574587628     Gluta  L4/5 IT   \n",
       "1  1.163226  100002611273212566104762860093574587628     Gluta  L4/5 IT   \n",
       "2  1.888276  100002611273212566104762860093574587628     Gluta  L4/5 IT   \n",
       "3  1.759560  100002611273212566104762860093574587628     Gluta  L4/5 IT   \n",
       "4  1.404082  100002611273212566104762860093574587628     Gluta  L4/5 IT   \n",
       "\n",
       "     chr  fiberidx  \n",
       "0   chr1         1  \n",
       "1  chr10         1  \n",
       "2  chr11         1  \n",
       "3  chr12         1  \n",
       "4  chr13         1  "
      ]
     },
     "execution_count": 18,
     "metadata": {},
     "output_type": "execute_result"
    }
   ],
   "source": [
    "chromosome_size_df.head()"
   ]
  },
  {
   "cell_type": "markdown",
   "id": "cd8c65c0",
   "metadata": {},
   "source": [
    "# Plot figures"
   ]
  },
  {
   "cell_type": "code",
   "execution_count": 20,
   "id": "089c1723",
   "metadata": {},
   "outputs": [
    {
     "data": {
      "text/plain": [
       "Index(['Micro', 'SMC', 'Peri', 'Oligo', 'Endo', 'VLMC', 'Astro', 'L6 CT',\n",
       "       'L4/5 IT', 'OPC', 'L6 IT', 'L6b', 'L5/6 NP', 'Lamp5', 'L2/3 IT', 'Sst',\n",
       "       'L5 IT', 'Vip', 'Sncg', 'Pvalb', 'L5 ET'],\n",
       "      dtype='object', name='subclass')"
      ]
     },
     "execution_count": 20,
     "metadata": {},
     "output_type": "execute_result"
    }
   ],
   "source": [
    "sorted_cellplot_idx_order = np.argsort(chromosome_size_df.groupby(by='subclass')['rg'].median())\n",
    "sorted_cellplot_order = chromosome_size_df.groupby(by='subclass')['rg'].median().index[sorted_cellplot_idx_order]\n",
    "sorted_cellplot_order"
   ]
  },
  {
   "cell_type": "markdown",
   "id": "0fa457e6",
   "metadata": {},
   "source": [
    "## boxplots"
   ]
  },
  {
   "cell_type": "code",
   "execution_count": 22,
   "id": "000aee12",
   "metadata": {},
   "outputs": [
    {
     "name": "stderr",
     "output_type": "stream",
     "text": [
      "meta NOT subset; don't know how to subset; dropped\n"
     ]
    },
    {
     "data": {
      "image/png": "[encoded data removed]",
      "text/plain": [
       "<Figure size 300x300 with 2 Axes>"
      ]
     },
     "metadata": {},
     "output_type": "display_data"
    }
   ],
   "source": [
    "%matplotlib inline\n",
    "from matplotlib import rcParams\n",
    "rcParams['font.family'] = 'sans-serif'\n",
    "rcParams['font.sans-serif'] = ['Arial']\n",
    "plt.rcParams['figure.dpi'] = 300\n",
    "\n",
    "#plt.style.use('dark_background')\n",
    "\n",
    "# if separate gd for all, long, median, short distances\n",
    "#sel_sorted_bin_keys = [(0., np.inf),(100000000, np.inf),(10000000, np.inf),(0, 2000000)]\n",
    "#ylabel_list = ['chrom \\n size', 'all \\n distances','>50Mb','>10Mb','<2Mb']\n",
    "#ylim_list = [[0.2,3],[0.3,3.5],[0.3,3.5],[0.3,3.5],[0,1.55],]\n",
    "\n",
    "\n",
    "sel_sorted_bin_keys = [(0., np.inf),(10000000, np.inf),(0, 2000000)][:1]\n",
    "ylabel_list = ['Chromosome size \\n (Rg, \\u03bcm) \\n per chromosome', \n",
    "               'all median \\n cis-pairwise \\n distances (\\u03bcm) \\n all chromosomes','>10Mb','<2Mb'][:2]\n",
    "ylim_list = [[0.65,2.8],[0.75,3],[0.3,3.5],[0,1.55],][:2]\n",
    "\n",
    "fig, axes = plt.subplots(len(sel_sorted_bin_keys)+1,1, \n",
    "                         figsize=(_page_width/2.75,_page_width/2.75*1), \n",
    "                         sharex=True, sharey=False, dpi=150)\n",
    "\n",
    "# plot chromosome size\n",
    "sns.boxplot(data=chromosome_size_df, x='subclass', y='rg', \n",
    "            order = sorted_cellplot_order, \n",
    "            ax=axes[0], \n",
    "            fliersize=0,\n",
    "            palette=celltype_palette,\n",
    "            whis=[5, 95],\n",
    "            width=0.7,\n",
    "           )\n",
    "\n",
    "# plot cis distance by \n",
    "for _idx,_bin_key in enumerate(sel_sorted_bin_keys):\n",
    "    _ax_idx = _idx+1\n",
    "    \n",
    "    short_gd_th = _bin_key[0]\n",
    "    long_gd_th = _bin_key[1]\n",
    "\n",
    "    sel_distmap_summary_df = distmap_summary_df[(distmap_summary_df['genomic_distance']<=long_gd_th)&\n",
    "                                            (distmap_summary_df['genomic_distance']>short_gd_th)]\n",
    "    \n",
    "    sns.boxplot(data=sel_distmap_summary_df, x='subclass', y='pairwise_distance', \n",
    "            order = sorted_cellplot_order, \n",
    "            ax=axes[_ax_idx], \n",
    "            fliersize=0,\n",
    "                whis=[5, 95],\n",
    "            palette=celltype_palette,\n",
    "                width=0.7,\n",
    "           )\n",
    "\n",
    "for _ax_idx, _ax in enumerate(axes):\n",
    "    _ax.set_ylabel(ylabel_list[_ax_idx], rotation=90, fontsize=_font_size,labelpad=1)\n",
    "    plt.tick_params(axis='y', labelsize=_font_size-0.5) \n",
    "    if _ax_idx!=len(axes)-1:\n",
    "        _ax.tick_params(labelbottom=False)\n",
    "        _ax.set_xlabel(\"\", rotation=0, fontsize=_font_size)\n",
    "        _ax.tick_params(axis='x', rotation=90, labelsize=_font_size-0.5,length=0) \n",
    "    else:\n",
    "        _ax.set_xlabel(\"Cell types\", rotation=0, fontsize=_font_size)\n",
    "        _ax.tick_params(axis='x', rotation=90, labelsize=_font_size-0.5) \n",
    "    if len(ylim_list[_ax_idx])==2:\n",
    "        _ax.set_ylim(ylim_list[_ax_idx])\n",
    "    _ax.grid(False)\n",
    "\n",
    "fig.subplots_adjust(wspace=0.0, hspace=0.0, left=0.05, right=0.95, top=0.98, bottom=0.12)\n",
    "plt.savefig(os.path.join(output_figure_folder, f'cis_chrom_distance_and_chr_size_summary.pdf'), \n",
    "            transparent=True, dpi=300, bbox_inches='tight')\n",
    "\n",
    "plt.show()"
   ]
  },
  {
   "cell_type": "markdown",
   "id": "5ef56576",
   "metadata": {},
   "source": [
    "## scatterplots"
   ]
  },
  {
   "cell_type": "code",
   "execution_count": 28,
   "id": "a1c90b5e",
   "metadata": {},
   "outputs": [
    {
     "name": "stderr",
     "output_type": "stream",
     "text": [
      "C:\\Users\\shiwei\\AppData\\Local\\Temp\\3\\ipykernel_49956\\2035990825.py:1: FutureWarning: The default value of numeric_only in DataFrameGroupBy.median is deprecated. In a future version, numeric_only will default to False. Either specify numeric_only or select only columns which should be valid for the function.\n",
      "  chromosome_size_df_median = chromosome_size_df.groupby('subclass').median()\n"
     ]
    },
    {
     "data": {
      "text/html": [
       "<div>\n",
       "<style scoped>\n",
       "    .dataframe tbody tr th:only-of-type {\n",
       "        vertical-align: middle;\n",
       "    }\n",
       "\n",
       "    .dataframe tbody tr th {\n",
       "        vertical-align: top;\n",
       "    }\n",
       "\n",
       "    .dataframe thead th {\n",
       "        text-align: right;\n",
       "    }\n",
       "</style>\n",
       "<table border=\"1\" class=\"dataframe\">\n",
       "  <thead>\n",
       "    <tr style=\"text-align: right;\">\n",
       "      <th></th>\n",
       "      <th>rg</th>\n",
       "      <th>fiberidx</th>\n",
       "      <th>pairwise_distance</th>\n",
       "    </tr>\n",
       "    <tr>\n",
       "      <th>subclass</th>\n",
       "      <th></th>\n",
       "      <th></th>\n",
       "      <th></th>\n",
       "    </tr>\n",
       "  </thead>\n",
       "  <tbody>\n",
       "    <tr>\n",
       "      <th>Astro</th>\n",
       "      <td>1.309265</td>\n",
       "      <td>1.0</td>\n",
       "      <td>1.650228</td>\n",
       "    </tr>\n",
       "    <tr>\n",
       "      <th>Endo</th>\n",
       "      <td>1.230019</td>\n",
       "      <td>1.0</td>\n",
       "      <td>1.537057</td>\n",
       "    </tr>\n",
       "    <tr>\n",
       "      <th>L2/3 IT</th>\n",
       "      <td>1.446868</td>\n",
       "      <td>1.0</td>\n",
       "      <td>1.888550</td>\n",
       "    </tr>\n",
       "    <tr>\n",
       "      <th>L4/5 IT</th>\n",
       "      <td>1.382461</td>\n",
       "      <td>1.0</td>\n",
       "      <td>1.799085</td>\n",
       "    </tr>\n",
       "    <tr>\n",
       "      <th>L5 ET</th>\n",
       "      <td>1.641963</td>\n",
       "      <td>1.0</td>\n",
       "      <td>2.099526</td>\n",
       "    </tr>\n",
       "  </tbody>\n",
       "</table>\n",
       "</div>"
      ],
      "text/plain": [
       "                rg  fiberidx  pairwise_distance\n",
       "subclass                                       \n",
       "Astro     1.309265       1.0           1.650228\n",
       "Endo      1.230019       1.0           1.537057\n",
       "L2/3 IT   1.446868       1.0           1.888550\n",
       "L4/5 IT   1.382461       1.0           1.799085\n",
       "L5 ET     1.641963       1.0           2.099526"
      ]
     },
     "execution_count": 28,
     "metadata": {},
     "output_type": "execute_result"
    }
   ],
   "source": [
    "chromosome_size_df_median = chromosome_size_df.groupby('subclass').median()\n",
    "\n",
    "chromosome_size_df_median['pairwise_distance'] = distmap_summary_df.groupby('subclass')['pairwise_distance'].median()\n",
    "\n",
    "chromosome_size_df_median.head()"
   ]
  },
  {
   "cell_type": "code",
   "execution_count": 31,
   "id": "f0da9c1e",
   "metadata": {},
   "outputs": [
    {
     "name": "stderr",
     "output_type": "stream",
     "text": [
      "meta NOT subset; don't know how to subset; dropped\n"
     ]
    },
    {
     "data": {
      "image/png": "[encoded data removed]",
      "text/plain": [
       "<Figure size 165x165 with 1 Axes>"
      ]
     },
     "metadata": {},
     "output_type": "display_data"
    }
   ],
   "source": [
    "# plot\n",
    "%matplotlib inline\n",
    "#from sklearn.linear_model import LinearRegression\n",
    "fig, ax = plt.subplots(figsize=(_page_width/5,_page_width/5),dpi=150)\n",
    "\n",
    "x_col = 'rg'\n",
    "y_col =  'pairwise_distance'\n",
    "\n",
    "df_plot = chromosome_size_df_median.copy(deep=True)\n",
    "df_plot['subclass'] = df_plot.index\n",
    "\n",
    "gfg = sns.regplot(data=df_plot, x= x_col, y = y_col, ax=ax,\n",
    "                  ci=95,scatter=False,\n",
    "                  line_kws={'linewidth':1}\n",
    "                 )\n",
    "gfg = sns.scatterplot(data=df_plot, \n",
    "                      x= x_col, y = y_col, ax=ax,\n",
    "                        #legend='full',\n",
    "                        hue ='subclass',\n",
    "                      #linewidth = 0,\n",
    "                        palette=celltype_palette,\n",
    "                        s=25,\n",
    "                   )\n",
    "\n",
    "plt.legend(bbox_to_anchor=(1.02, 1.04), loc='upper left', ncols=3, borderaxespad=1,fontsize=_font_size)\n",
    "\n",
    "from scipy.stats import pearsonr\n",
    "r_val = pearsonr(df_plot[x_col].values, df_plot[y_col].values)[0]\n",
    "ax.text(1.15,2,f'r = {round(r_val,3)}',fontsize=_font_size+1)\n",
    "\n",
    "# axes options\n",
    "#ax.set_ylim([200,700])\n",
    "ax.tick_params('x', labelsize=_font_size, \n",
    "                    #width=_ticklabel_width, length=_ticklabel_size,\n",
    "                    pad=1, labelbottom=True) # remove bottom ticklabels for _ax\n",
    "ax.tick_params('y', labelsize=_font_size, \n",
    "                #width=_ticklabel_width, #length=0,\n",
    "                pad=1, labelleft=True)\n",
    "\n",
    "ax.set_xlabel('Cell type median of \\n chromosome territory size \\n (Rg, \\u03bcm)',fontsize=_font_size,labelpad=2)\n",
    "ax.set_ylabel(f'Cell type median of \\n median cis-chromosomal \\n distances (\\u03bcm)', fontsize=_font_size, labelpad=2)\n",
    "\n",
    "\n",
    "ax.grid(False)\n",
    "ax.margins(0.1)\n",
    "[i[1].set_linewidth(0.5) for i in ax.spines.items()]\n",
    "plt.savefig(os.path.join(output_figure_folder, f'corr_chrom_size_and_cis_distance.pdf'), \n",
    "            transparent=True, dpi=300, bbox_inches='tight')\n",
    "\n",
    "plt.show()\n",
    "    "
   ]
  },
  {
   "cell_type": "code",
   "execution_count": null,
   "id": "8786ea4f",
   "metadata": {},
   "outputs": [],
   "source": []
  }
 ],
 "metadata": {
  "kernelspec": {
   "display_name": "Python 3 (ipykernel)",
   "language": "python",
   "name": "python3"
  },
  "language_info": {
   "codemirror_mode": {
    "name": "ipython",
    "version": 3
   },
   "file_extension": ".py",
   "mimetype": "text/x-python",
   "name": "python",
   "nbconvert_exporter": "python",
   "pygments_lexer": "ipython3",
   "version": "3.10.8"
  },
  "toc": {
   "base_numbering": 1,
   "nav_menu": {},
   "number_sections": false,
   "sideBar": true,
   "skip_h1_title": false,
   "title_cell": "Table of Contents",
   "title_sidebar": "Contents",
   "toc_cell": false,
   "toc_position": {},
   "toc_section_display": true,
   "toc_window_display": true
  }
 },
 "nbformat": 4,
 "nbformat_minor": 5
}
