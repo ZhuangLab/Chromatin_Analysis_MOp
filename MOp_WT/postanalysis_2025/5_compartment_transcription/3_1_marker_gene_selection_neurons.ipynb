{
 "cells": [
  {
   "cell_type": "markdown",
   "id": "75c4e381",
   "metadata": {},
   "source": [
    "# Import module"
   ]
  },
  {
   "cell_type": "markdown",
   "id": "14a33d3e",
   "metadata": {},
   "source": [
    "The link to get [ImageAnalysis3](https://github.com/zhengpuas47/ImageAnalysis3) \n",
    "\n",
    "Or from the Zhuang lab archived [source_tools](https://github.com/ZhuangLab/Chromatin_Analysis_2020_cell/tree/master/sequential_tracing/source)"
   ]
  },
  {
   "cell_type": "markdown",
   "id": "b411cc21",
   "metadata": {},
   "source": [
    "## ImageAnalysis3 and basic modules"
   ]
  },
  {
   "cell_type": "code",
   "execution_count": 1,
   "id": "32554ab1",
   "metadata": {
    "scrolled": true
   },
   "outputs": [
    {
     "name": "stdout",
     "output_type": "stream",
     "text": [
      "41276\n"
     ]
    }
   ],
   "source": [
    "%run \"C:\\Users\\shiwei\\Documents\\ImageAnalysis3\\required_files\\Startup_py3.py\"\n",
    "sys.path.append(r\"C:\\Users\\shiwei\\Documents\")\n",
    "\n",
    "import ImageAnalysis3 as ia\n",
    "from ImageAnalysis3 import *\n",
    "from ImageAnalysis3.classes import _allowed_kwds\n",
    "\n",
    "import h5py\n",
    "import ast\n",
    "import pandas as pd\n",
    "\n",
    "print(os.getpid())"
   ]
  },
  {
   "cell_type": "markdown",
   "id": "f5f8cd77",
   "metadata": {},
   "source": [
    "## Chromatin_analysis_tools etc"
   ]
  },
  {
   "cell_type": "markdown",
   "id": "2db5036f",
   "metadata": {},
   "source": [
    "See **functions** in the repository for [AnalysisTool_Chromatin](../../README.md)"
   ]
  },
  {
   "cell_type": "code",
   "execution_count": 2,
   "id": "9469aba8",
   "metadata": {},
   "outputs": [
    {
     "data": {
      "text/plain": [
       "<module 'atac_to_loci' from 'C:\\\\Users\\\\shiwei\\\\Documents\\\\AnalysisTool_Chromatin\\\\atac_to_loci.py'>"
      ]
     },
     "execution_count": 2,
     "metadata": {},
     "output_type": "execute_result"
    }
   ],
   "source": [
    "# Chromatin_analysis_tools (ATC)\n",
    "# Get path for the py containing functions\n",
    "import os\n",
    "import sys\n",
    "import importlib\n",
    "module_path =r'C:\\Users\\shiwei\\Documents\\AnalysisTool_Chromatin'\n",
    "if module_path not in sys.path:\n",
    "    sys.path.append(module_path)\n",
    "    \n",
    "# import relevant modules\n",
    "import gene_selection \n",
    "importlib.reload(gene_selection)\n",
    "import gene_to_loci\n",
    "importlib.reload(gene_to_loci)\n",
    "import gene_activity\n",
    "importlib.reload(gene_activity)\n",
    "import loci_1d_features\n",
    "importlib.reload(loci_1d_features)  \n",
    "\n",
    "import atac_to_loci\n",
    "importlib.reload(atac_to_loci)"
   ]
  },
  {
   "cell_type": "markdown",
   "id": "aa08c6de",
   "metadata": {},
   "source": [
    "# Define folders"
   ]
  },
  {
   "cell_type": "code",
   "execution_count": 3,
   "id": "2c8dce53",
   "metadata": {},
   "outputs": [
    {
     "name": "stdout",
     "output_type": "stream",
     "text": [
      "Use existing analysis folder: L:\\Shiwei\\postanalysis_2024\\v0\\compartment_transcription\\analysis.\n",
      "Use existing figure folder: L:\\Shiwei\\postanalysis_2024\\v0\\compartment_transcription\\figures.\n"
     ]
    }
   ],
   "source": [
    "# main folder for postanalysis\n",
    "postanalysis_folder = r'L:\\Shiwei\\postanalysis_2024\\v0'\n",
    "# input files for postanalysis\n",
    "input_folder = os.path.join(postanalysis_folder, 'resources_from_preprocess')\n",
    "\n",
    "# output file to be generated\n",
    "output_main_folder = os.path.join(postanalysis_folder, 'compartment_transcription')\n",
    "\n",
    "output_analysis_folder = os.path.join(output_main_folder, 'analysis')\n",
    "output_figure_folder = os.path.join(output_main_folder, 'figures')\n",
    "\n",
    "# make new folder if needed\n",
    "make_output_folder = True\n",
    "\n",
    "if make_output_folder and not os.path.exists(output_analysis_folder):\n",
    "    os.makedirs(output_analysis_folder)\n",
    "    print(f'Generating analysis folder: {output_analysis_folder}.')\n",
    "elif os.path.exists(output_analysis_folder):\n",
    "    print(f'Use existing analysis folder: {output_analysis_folder}.')\n",
    "    \n",
    "if make_output_folder and not os.path.exists(output_figure_folder):\n",
    "    os.makedirs(output_figure_folder)\n",
    "    print(f'Generating figure folder: {output_figure_folder}.')\n",
    "elif os.path.exists(output_figure_folder):\n",
    "    print(f'Use existing figure folder: {output_figure_folder}.')"
   ]
  },
  {
   "cell_type": "markdown",
   "id": "43745cf2",
   "metadata": {},
   "source": [
    "# Plotting parameters"
   ]
  },
  {
   "cell_type": "code",
   "execution_count": 4,
   "id": "fb1e3324",
   "metadata": {},
   "outputs": [],
   "source": [
    "%matplotlib inline\n",
    "import matplotlib\n",
    "matplotlib.rcParams['pdf.fonttype'] = 42\n",
    "import matplotlib.pyplot as plt\n",
    "plt.rc('font', family='serif')\n",
    "plt.rc('font', serif='Arial')\n",
    "\n",
    "from ImageAnalysis3.figure_tools import _double_col_width, _single_col_width, _font_size, _ticklabel_size,_ticklabel_width\n",
    "\n",
    "import seaborn as sns\n",
    "sns.set_context(\"paper\", rc={\"font.size\":_font_size,\"axes.titlesize\":_font_size+1,\"axes.labelsize\":_font_size})  "
   ]
  },
  {
   "cell_type": "code",
   "execution_count": 5,
   "id": "bc310b7e",
   "metadata": {},
   "outputs": [],
   "source": [
    "# Other required plotting parameters\n",
    "_dpi = 300\n",
    "_font_size = 7\n",
    "_page_width = 5.5\n"
   ]
  },
  {
   "cell_type": "markdown",
   "id": "a1d34726",
   "metadata": {},
   "source": [
    "## cell type color-codes"
   ]
  },
  {
   "cell_type": "code",
   "execution_count": 6,
   "id": "c33943dd",
   "metadata": {},
   "outputs": [],
   "source": [
    "# cell labels from RNA-MERFISH and celltype prediction\n",
    "selected_cell_labels = ['L2/3 IT','L4/5 IT','L5 IT','L6 IT','L5 ET','L5/6 NP','L6 CT','L6b',\n",
    "                           'Sst','Pvalb','Lamp5','Sncg','Vip',\n",
    "                           'Astro','Oligo','OPC','Micro','Endo','VLMC','SMC','Peri', \n",
    "                           #'other',\n",
    "                          ]\n",
    "# cell palette from RNA-MERFISH UMAP and stats\n",
    "celltype_palette = {'Astro':'lightcoral', \n",
    "                    'Endo':'skyblue', \n",
    "                    'L2/3 IT':'gold', \n",
    "                    'L4/5 IT':'darkorange', \n",
    "                    'L5 ET':'mediumseagreen', \n",
    "                    'L5 IT':'aqua',\n",
    "                    'L5/6 NP':'darkgreen',\n",
    "                    'L6 CT':'brown',\n",
    "                    'L6 IT':'magenta',\n",
    "                    'L6b':'blue', \n",
    "                    'Lamp5':'orange', \n",
    "                    'Micro':'peachpuff',\n",
    "                    'OPC':'thistle', \n",
    "                    'Oligo':'darkviolet',\n",
    "                    'Peri':'sandybrown',\n",
    "                    'Pvalb':'springgreen',\n",
    "                    'SMC':'rosybrown',\n",
    "                    'Sncg':'darkkhaki',\n",
    "                    'Sst':'steelblue', \n",
    "                    'VLMC':'saddlebrown', \n",
    "                    'Vip':'red',\n",
    "                    'other':'slategray'}\n"
   ]
  },
  {
   "cell_type": "code",
   "execution_count": 7,
   "id": "caad6887",
   "metadata": {},
   "outputs": [],
   "source": [
    "# this is the plotting order noted based on the snRNA transcriptional acitivty if needed\n",
    "sorted_cellplot_order_byRNA = ['Micro', 'Oligo', 'Endo', 'OPC', 'Astro', 'Vip', 'Lamp5',\n",
    "                  'L5/6 NP', 'Sst', 'Sncg', 'Pvalb', 'L4/5 IT', 'L6 CT',\n",
    "                  'L6 IT', 'L6b', 'L2/3 IT', 'L5 IT', 'L5 ET']"
   ]
  },
  {
   "cell_type": "markdown",
   "id": "b00f58f0",
   "metadata": {},
   "source": [
    "# Load data relevant information"
   ]
  },
  {
   "cell_type": "markdown",
   "id": "7e667606",
   "metadata": {},
   "source": [
    "## load and format codebook"
   ]
  },
  {
   "cell_type": "markdown",
   "id": "6b8440c6",
   "metadata": {},
   "source": [
    "[merged codebook](../resources/merged_codebook.csv) as in the repository (merged for all DNA-MERFISH libraries)"
   ]
  },
  {
   "cell_type": "code",
   "execution_count": 8,
   "id": "c0734aad",
   "metadata": {},
   "outputs": [
    {
     "data": {
      "text/html": [
       "<div>\n",
       "<style scoped>\n",
       "    .dataframe tbody tr th:only-of-type {\n",
       "        vertical-align: middle;\n",
       "    }\n",
       "\n",
       "    .dataframe tbody tr th {\n",
       "        vertical-align: top;\n",
       "    }\n",
       "\n",
       "    .dataframe thead th {\n",
       "        text-align: right;\n",
       "    }\n",
       "</style>\n",
       "<table border=\"1\" class=\"dataframe\">\n",
       "  <thead>\n",
       "    <tr style=\"text-align: right;\">\n",
       "      <th></th>\n",
       "      <th>name</th>\n",
       "      <th>id</th>\n",
       "      <th>NDB_784</th>\n",
       "      <th>NDB_755</th>\n",
       "      <th>NDB_826</th>\n",
       "      <th>NDB_713</th>\n",
       "      <th>NDB_865</th>\n",
       "      <th>NDB_725</th>\n",
       "      <th>NDB_817</th>\n",
       "      <th>NDB_710</th>\n",
       "      <th>...</th>\n",
       "      <th>NDB_479</th>\n",
       "      <th>NDB_562</th>\n",
       "      <th>NDB_608</th>\n",
       "      <th>NDB_460</th>\n",
       "      <th>NDB_563</th>\n",
       "      <th>NDB_592</th>\n",
       "      <th>NDB_368</th>\n",
       "      <th>NDB_436</th>\n",
       "      <th>NDB_629</th>\n",
       "      <th>NDB_604</th>\n",
       "    </tr>\n",
       "  </thead>\n",
       "  <tbody>\n",
       "    <tr>\n",
       "      <th>0</th>\n",
       "      <td>1:3742742-3759944</td>\n",
       "      <td>1</td>\n",
       "      <td>0.0</td>\n",
       "      <td>0.0</td>\n",
       "      <td>0.0</td>\n",
       "      <td>0.0</td>\n",
       "      <td>0.0</td>\n",
       "      <td>0.0</td>\n",
       "      <td>0.0</td>\n",
       "      <td>0.0</td>\n",
       "      <td>...</td>\n",
       "      <td>0.0</td>\n",
       "      <td>0.0</td>\n",
       "      <td>0.0</td>\n",
       "      <td>0.0</td>\n",
       "      <td>0.0</td>\n",
       "      <td>0.0</td>\n",
       "      <td>0.0</td>\n",
       "      <td>0.0</td>\n",
       "      <td>0.0</td>\n",
       "      <td>0.0</td>\n",
       "    </tr>\n",
       "    <tr>\n",
       "      <th>1</th>\n",
       "      <td>1:6245958-6258969</td>\n",
       "      <td>2</td>\n",
       "      <td>0.0</td>\n",
       "      <td>0.0</td>\n",
       "      <td>0.0</td>\n",
       "      <td>0.0</td>\n",
       "      <td>0.0</td>\n",
       "      <td>0.0</td>\n",
       "      <td>0.0</td>\n",
       "      <td>0.0</td>\n",
       "      <td>...</td>\n",
       "      <td>0.0</td>\n",
       "      <td>0.0</td>\n",
       "      <td>0.0</td>\n",
       "      <td>0.0</td>\n",
       "      <td>0.0</td>\n",
       "      <td>0.0</td>\n",
       "      <td>0.0</td>\n",
       "      <td>0.0</td>\n",
       "      <td>0.0</td>\n",
       "      <td>0.0</td>\n",
       "    </tr>\n",
       "    <tr>\n",
       "      <th>2</th>\n",
       "      <td>1:8740008-8759916</td>\n",
       "      <td>3</td>\n",
       "      <td>0.0</td>\n",
       "      <td>0.0</td>\n",
       "      <td>0.0</td>\n",
       "      <td>0.0</td>\n",
       "      <td>0.0</td>\n",
       "      <td>0.0</td>\n",
       "      <td>0.0</td>\n",
       "      <td>0.0</td>\n",
       "      <td>...</td>\n",
       "      <td>0.0</td>\n",
       "      <td>0.0</td>\n",
       "      <td>0.0</td>\n",
       "      <td>0.0</td>\n",
       "      <td>0.0</td>\n",
       "      <td>0.0</td>\n",
       "      <td>0.0</td>\n",
       "      <td>0.0</td>\n",
       "      <td>0.0</td>\n",
       "      <td>0.0</td>\n",
       "    </tr>\n",
       "    <tr>\n",
       "      <th>1016</th>\n",
       "      <td>1:9627926-9637875</td>\n",
       "      <td>1</td>\n",
       "      <td>0.0</td>\n",
       "      <td>0.0</td>\n",
       "      <td>0.0</td>\n",
       "      <td>0.0</td>\n",
       "      <td>0.0</td>\n",
       "      <td>0.0</td>\n",
       "      <td>0.0</td>\n",
       "      <td>0.0</td>\n",
       "      <td>...</td>\n",
       "      <td>0.0</td>\n",
       "      <td>0.0</td>\n",
       "      <td>0.0</td>\n",
       "      <td>0.0</td>\n",
       "      <td>0.0</td>\n",
       "      <td>0.0</td>\n",
       "      <td>0.0</td>\n",
       "      <td>0.0</td>\n",
       "      <td>0.0</td>\n",
       "      <td>0.0</td>\n",
       "    </tr>\n",
       "    <tr>\n",
       "      <th>1017</th>\n",
       "      <td>1:9799472-9811359</td>\n",
       "      <td>2</td>\n",
       "      <td>0.0</td>\n",
       "      <td>0.0</td>\n",
       "      <td>0.0</td>\n",
       "      <td>0.0</td>\n",
       "      <td>0.0</td>\n",
       "      <td>0.0</td>\n",
       "      <td>0.0</td>\n",
       "      <td>0.0</td>\n",
       "      <td>...</td>\n",
       "      <td>0.0</td>\n",
       "      <td>0.0</td>\n",
       "      <td>0.0</td>\n",
       "      <td>0.0</td>\n",
       "      <td>0.0</td>\n",
       "      <td>1.0</td>\n",
       "      <td>0.0</td>\n",
       "      <td>0.0</td>\n",
       "      <td>0.0</td>\n",
       "      <td>0.0</td>\n",
       "    </tr>\n",
       "  </tbody>\n",
       "</table>\n",
       "<p>5 rows × 228 columns</p>\n",
       "</div>"
      ],
      "text/plain": [
       "                   name id  NDB_784  NDB_755  NDB_826  NDB_713  NDB_865  \\\n",
       "0     1:3742742-3759944  1      0.0      0.0      0.0      0.0      0.0   \n",
       "1     1:6245958-6258969  2      0.0      0.0      0.0      0.0      0.0   \n",
       "2     1:8740008-8759916  3      0.0      0.0      0.0      0.0      0.0   \n",
       "1016  1:9627926-9637875  1      0.0      0.0      0.0      0.0      0.0   \n",
       "1017  1:9799472-9811359  2      0.0      0.0      0.0      0.0      0.0   \n",
       "\n",
       "      NDB_725  NDB_817  NDB_710  ...  NDB_479  NDB_562  NDB_608  NDB_460  \\\n",
       "0         0.0      0.0      0.0  ...      0.0      0.0      0.0      0.0   \n",
       "1         0.0      0.0      0.0  ...      0.0      0.0      0.0      0.0   \n",
       "2         0.0      0.0      0.0  ...      0.0      0.0      0.0      0.0   \n",
       "1016      0.0      0.0      0.0  ...      0.0      0.0      0.0      0.0   \n",
       "1017      0.0      0.0      0.0  ...      0.0      0.0      0.0      0.0   \n",
       "\n",
       "      NDB_563  NDB_592  NDB_368  NDB_436  NDB_629  NDB_604  \n",
       "0         0.0      0.0      0.0      0.0      0.0      0.0  \n",
       "1         0.0      0.0      0.0      0.0      0.0      0.0  \n",
       "2         0.0      0.0      0.0      0.0      0.0      0.0  \n",
       "1016      0.0      0.0      0.0      0.0      0.0      0.0  \n",
       "1017      0.0      1.0      0.0      0.0      0.0      0.0  \n",
       "\n",
       "[5 rows x 228 columns]"
      ]
     },
     "execution_count": 8,
     "metadata": {},
     "output_type": "execute_result"
    }
   ],
   "source": [
    "# Load codebook \n",
    "codebook_fname = os.path.join(input_folder,'merged_codebook.csv')\n",
    "codebook_df = pd.read_csv (codebook_fname, index_col=0)\n",
    "\n",
    "# sort df by chr and chr_order\n",
    "codebook_df = loci_1d_features.sort_loci_df_by_chr_order (codebook_df)\n",
    "codebook_df.head()"
   ]
  },
  {
   "cell_type": "code",
   "execution_count": 9,
   "id": "3e95ab4f",
   "metadata": {
    "scrolled": true
   },
   "outputs": [
    {
     "data": {
      "text/html": [
       "<div>\n",
       "<style scoped>\n",
       "    .dataframe tbody tr th:only-of-type {\n",
       "        vertical-align: middle;\n",
       "    }\n",
       "\n",
       "    .dataframe tbody tr th {\n",
       "        vertical-align: top;\n",
       "    }\n",
       "\n",
       "    .dataframe thead th {\n",
       "        text-align: right;\n",
       "    }\n",
       "</style>\n",
       "<table border=\"1\" class=\"dataframe\">\n",
       "  <thead>\n",
       "    <tr style=\"text-align: right;\">\n",
       "      <th></th>\n",
       "      <th>name</th>\n",
       "      <th>id</th>\n",
       "      <th>chr</th>\n",
       "      <th>chr_order</th>\n",
       "      <th>library</th>\n",
       "    </tr>\n",
       "    <tr>\n",
       "      <th>loci_name</th>\n",
       "      <th></th>\n",
       "      <th></th>\n",
       "      <th></th>\n",
       "      <th></th>\n",
       "      <th></th>\n",
       "    </tr>\n",
       "  </thead>\n",
       "  <tbody>\n",
       "    <tr>\n",
       "      <th>chr1_3742742_3759944</th>\n",
       "      <td>1:3742742-3759944</td>\n",
       "      <td>1</td>\n",
       "      <td>1</td>\n",
       "      <td>0.0</td>\n",
       "      <td>CTP11</td>\n",
       "    </tr>\n",
       "    <tr>\n",
       "      <th>chr1_6245958_6258969</th>\n",
       "      <td>1:6245958-6258969</td>\n",
       "      <td>2</td>\n",
       "      <td>1</td>\n",
       "      <td>1.0</td>\n",
       "      <td>CTP11</td>\n",
       "    </tr>\n",
       "    <tr>\n",
       "      <th>chr1_8740008_8759916</th>\n",
       "      <td>1:8740008-8759916</td>\n",
       "      <td>3</td>\n",
       "      <td>1</td>\n",
       "      <td>2.0</td>\n",
       "      <td>CTP11</td>\n",
       "    </tr>\n",
       "    <tr>\n",
       "      <th>chr1_9627926_9637875</th>\n",
       "      <td>1:9627926-9637875</td>\n",
       "      <td>1</td>\n",
       "      <td>1</td>\n",
       "      <td>3.0</td>\n",
       "      <td>CTP13</td>\n",
       "    </tr>\n",
       "    <tr>\n",
       "      <th>chr1_9799472_9811359</th>\n",
       "      <td>1:9799472-9811359</td>\n",
       "      <td>2</td>\n",
       "      <td>1</td>\n",
       "      <td>4.0</td>\n",
       "      <td>CTP13</td>\n",
       "    </tr>\n",
       "  </tbody>\n",
       "</table>\n",
       "</div>"
      ],
      "text/plain": [
       "                                   name id chr  chr_order library\n",
       "loci_name                                                        \n",
       "chr1_3742742_3759944  1:3742742-3759944  1   1        0.0   CTP11\n",
       "chr1_6245958_6258969  1:6245958-6258969  2   1        1.0   CTP11\n",
       "chr1_8740008_8759916  1:8740008-8759916  3   1        2.0   CTP11\n",
       "chr1_9627926_9637875  1:9627926-9637875  1   1        3.0   CTP13\n",
       "chr1_9799472_9811359  1:9799472-9811359  2   1        4.0   CTP13"
      ]
     },
     "execution_count": 9,
     "metadata": {},
     "output_type": "execute_result"
    }
   ],
   "source": [
    "# Format the chr loci name by \n",
    "# 1. changing loci name format\n",
    "# 2. extract relevant information such as id, chr, chr_order, and library etc\n",
    "from gene_to_loci import loci_pos_format\n",
    "loci_name_list = list(map(loci_pos_format, codebook_df['name'].tolist()))\n",
    "loci_name_arr = np.array(loci_name_list)\n",
    "\n",
    "# convert to a new dataframe and set loci name as index\n",
    "codebook_df = codebook_df[['name','id','chr','chr_order','library']]\n",
    "codebook_df['loci_name'] = list(loci_name_arr[:,0])\n",
    "codebook_df = codebook_df.set_index ('loci_name')\n",
    "\n",
    "codebook_df.head()"
   ]
  },
  {
   "cell_type": "markdown",
   "id": "6d75011f",
   "metadata": {},
   "source": [
    "# Load gene annotation\n",
    "\n",
    "Data can be generated from the notebook with snRNA seq data as input:\n",
    "[external/scripts/genome_annotation/1_genomic_info_for_mop_genes_using_ensembl_transcriptome](../../external/scripts/genome_annotation/1_genomic_info_for_mop_genes_using_ensembl_transcriptome.ipynb)\n",
    "\n",
    "\n",
    "\n",
    "Example of [MOp_10x_snRNA_chr_info](../../external/resources/MOp_10x_snRNA_chr_info_NEW_from_transcriptome_FORMAT.csv) in the repository.\n",
    "\n",
    "\n"
   ]
  },
  {
   "cell_type": "code",
   "execution_count": 12,
   "id": "5f11aa9d",
   "metadata": {},
   "outputs": [
    {
     "data": {
      "text/html": [
       "<div>\n",
       "<style scoped>\n",
       "    .dataframe tbody tr th:only-of-type {\n",
       "        vertical-align: middle;\n",
       "    }\n",
       "\n",
       "    .dataframe tbody tr th {\n",
       "        vertical-align: top;\n",
       "    }\n",
       "\n",
       "    .dataframe thead th {\n",
       "        text-align: right;\n",
       "    }\n",
       "</style>\n",
       "<table border=\"1\" class=\"dataframe\">\n",
       "  <thead>\n",
       "    <tr style=\"text-align: right;\">\n",
       "      <th></th>\n",
       "      <th>chr</th>\n",
       "      <th>start</th>\n",
       "      <th>end</th>\n",
       "      <th>gene_biotype</th>\n",
       "      <th>coding_strand</th>\n",
       "      <th>length</th>\n",
       "      <th>genomic_position</th>\n",
       "    </tr>\n",
       "    <tr>\n",
       "      <th>gene</th>\n",
       "      <th></th>\n",
       "      <th></th>\n",
       "      <th></th>\n",
       "      <th></th>\n",
       "      <th></th>\n",
       "      <th></th>\n",
       "      <th></th>\n",
       "    </tr>\n",
       "  </thead>\n",
       "  <tbody>\n",
       "    <tr>\n",
       "      <th>Xkr4</th>\n",
       "      <td>1</td>\n",
       "      <td>3205901</td>\n",
       "      <td>3671498</td>\n",
       "      <td>protein_coding</td>\n",
       "      <td>-1</td>\n",
       "      <td>465597</td>\n",
       "      <td>chr1_3205901_3671498</td>\n",
       "    </tr>\n",
       "    <tr>\n",
       "      <th>Gm1992</th>\n",
       "      <td>1</td>\n",
       "      <td>3466587</td>\n",
       "      <td>3513553</td>\n",
       "      <td>antisense</td>\n",
       "      <td>1</td>\n",
       "      <td>46966</td>\n",
       "      <td>chr1_3466587_3513553</td>\n",
       "    </tr>\n",
       "    <tr>\n",
       "      <th>Gm37381</th>\n",
       "      <td>1</td>\n",
       "      <td>3905739</td>\n",
       "      <td>3986215</td>\n",
       "      <td>lincRNA</td>\n",
       "      <td>-1</td>\n",
       "      <td>80476</td>\n",
       "      <td>chr1_3905739_3986215</td>\n",
       "    </tr>\n",
       "    <tr>\n",
       "      <th>Rp1</th>\n",
       "      <td>1</td>\n",
       "      <td>3999557</td>\n",
       "      <td>4409241</td>\n",
       "      <td>protein_coding</td>\n",
       "      <td>-1</td>\n",
       "      <td>409684</td>\n",
       "      <td>chr1_3999557_4409241</td>\n",
       "    </tr>\n",
       "    <tr>\n",
       "      <th>Sox17</th>\n",
       "      <td>1</td>\n",
       "      <td>4490931</td>\n",
       "      <td>4497354</td>\n",
       "      <td>protein_coding</td>\n",
       "      <td>-1</td>\n",
       "      <td>6423</td>\n",
       "      <td>chr1_4490931_4497354</td>\n",
       "    </tr>\n",
       "  </tbody>\n",
       "</table>\n",
       "</div>"
      ],
      "text/plain": [
       "        chr    start      end    gene_biotype  coding_strand  length  \\\n",
       "gene                                                                   \n",
       "Xkr4      1  3205901  3671498  protein_coding             -1  465597   \n",
       "Gm1992    1  3466587  3513553       antisense              1   46966   \n",
       "Gm37381   1  3905739  3986215         lincRNA             -1   80476   \n",
       "Rp1       1  3999557  4409241  protein_coding             -1  409684   \n",
       "Sox17     1  4490931  4497354  protein_coding             -1    6423   \n",
       "\n",
       "             genomic_position  \n",
       "gene                           \n",
       "Xkr4     chr1_3205901_3671498  \n",
       "Gm1992   chr1_3466587_3513553  \n",
       "Gm37381  chr1_3905739_3986215  \n",
       "Rp1      chr1_3999557_4409241  \n",
       "Sox17    chr1_4490931_4497354  "
      ]
     },
     "execution_count": 12,
     "metadata": {},
     "output_type": "execute_result"
    }
   ],
   "source": [
    "# load gene annotation (covering all genes from the SMART-seq) for chr locus\n",
    "# L drive is Crick Pu_SSD_0\n",
    "scRNA_folder = r'L:\\Shiwei\\DNA_MERFISH_analysis\\10x_nuclei_v3_MOp_AIBS\\Analysis_10X_nuclei_v3_AIBS\\processed'\n",
    "gene_annotation_df = pd.read_csv(os.path.join(scRNA_folder, \"MOp_10x_snRNA_chr_info_NEW_from_transcriptome_FORMAT.csv\"),index_col=0)\n",
    "\n",
    "gene_annotation_df.head()"
   ]
  },
  {
   "cell_type": "markdown",
   "id": "af65ec1e",
   "metadata": {},
   "source": [
    "# Load pre-processed snRNA anndata\n",
    "\n",
    "Data can be generated from the notebook\n",
    "\n",
    "[external/scripts/sn_rna/2_prepare_and_rename_sn_rna_mop](../../external/scripts/sn_rna/2_prepare_and_rename_sn_rna_mop.ipynb)"
   ]
  },
  {
   "cell_type": "code",
   "execution_count": 13,
   "id": "5d7ba02b",
   "metadata": {},
   "outputs": [],
   "source": [
    "# Get loaded adata from other notebook\n",
    "#%store -r adata\n",
    "import os\n",
    "import scanpy as sc\n",
    "# load from here for saved h5ad\n",
    "adata = sc.read(os.path.join(scRNA_folder,r'MOp_10x_sn_labeled.h5ad'))"
   ]
  },
  {
   "cell_type": "code",
   "execution_count": 14,
   "id": "61d29be2",
   "metadata": {},
   "outputs": [
    {
     "data": {
      "text/plain": [
       "Index(['aggr_num', 'umi.counts', 'gene.counts', 'library_id', 'tube_barcode',\n",
       "       'Seq_batch', 'Region', 'Lib_type', 'Gender', 'Donor', 'Amp_Name',\n",
       "       'Amp_Date', 'Amp_PCR_cyles', 'Lib_Name', 'Lib_Date', 'Replicate_Lib',\n",
       "       'Lib_PCR_cycles', 'Lib_PassFail', 'Cell_Capture', 'Lib_Cells',\n",
       "       'Mean_Reads_perCell', 'Median_Genes_perCell', 'Median_UMI_perCell',\n",
       "       'Saturation', 'Live_percent', 'Total_Cells', 'Live_Cells', 'method',\n",
       "       'exp_component_name', 'mapped_reads', 'unmapped_reads',\n",
       "       'nonconf_mapped_reads', 'total.reads', 'doublet.score',\n",
       "       'subclass_label', 'class_label', 'cluster_label', 'cluster_id',\n",
       "       'n_genes', 'n_genes_by_counts', 'total_counts',\n",
       "       'pct_counts_in_top_50_genes', 'pct_counts_in_top_100_genes',\n",
       "       'pct_counts_in_top_200_genes', 'pct_counts_in_top_500_genes', 'leiden',\n",
       "       'subclass_label_new', 'class_label_new', 'neuron_identity'],\n",
       "      dtype='object')"
      ]
     },
     "execution_count": 14,
     "metadata": {},
     "output_type": "execute_result"
    }
   ],
   "source": [
    "adata.obs.columns"
   ]
  },
  {
   "cell_type": "code",
   "execution_count": 15,
   "id": "35b92294",
   "metadata": {},
   "outputs": [
    {
     "name": "stdout",
     "output_type": "stream",
     "text": [
      "WARNING: adata.X seems to be already log-transformed.\n"
     ]
    }
   ],
   "source": [
    "# normalize and log1p and create new raw layer for marker gene analysis\n",
    "\n",
    "# retrive unnormalized full gene sets from the raw layer\n",
    "adata_ori = adata.raw.to_adata()\n",
    "#print(adata_ori.X.toarray()[:5,:5])\n",
    "sc.pp.normalize_total(adata_ori, target_sum=np.median(adata_ori.obs['total_counts']))\n",
    "#print(adata_ori.X.toarray()[:5,:5])\n",
    "sc.pp.log1p(adata_ori) # the warning about log1p is not correct; print to inspect if needed\n",
    "#print(adata_ori.X.toarray()[:5,:5])\n",
    "\n",
    "\n",
    "# replace the old raw layer since the downstream script will use the normalized and log1p-raw layer\n",
    "adata_ori.raw = adata_ori\n",
    "# replace variable as adata will be used later in the script\n",
    "adata = adata_ori"
   ]
  },
  {
   "cell_type": "markdown",
   "id": "545e2817",
   "metadata": {},
   "source": [
    "# Process all cellgroups for the markers"
   ]
  },
  {
   "cell_type": "markdown",
   "id": "5df3f82c",
   "metadata": {},
   "source": [
    "## define shared parameters"
   ]
  },
  {
   "cell_type": "code",
   "execution_count": 16,
   "id": "6417826b",
   "metadata": {},
   "outputs": [],
   "source": [
    "# the hierachy level for cell grouping\n",
    "_groupby = 'subclass_label_new'\n",
    "\n",
    "# filter marker genes by pts, mena count, etc or not\n",
    "filter_markers = False"
   ]
  },
  {
   "cell_type": "code",
   "execution_count": 17,
   "id": "32d04662",
   "metadata": {},
   "outputs": [
    {
     "data": {
      "text/plain": [
       "array(['L2/3 IT', 'L4/5 IT', 'L5 ET', 'L5 IT', 'L5/6 NP', 'L6 CT',\n",
       "       'L6 IT', 'L6b', 'Lamp5', 'Pvalb', 'Sncg', 'Sst', 'Vip'],\n",
       "      dtype=object)"
      ]
     },
     "execution_count": 17,
     "metadata": {},
     "output_type": "execute_result"
    }
   ],
   "source": [
    "# the cell groups to be analyzed\n",
    "sorted_group_order = ['L2/3 IT','L4/5 IT','L5 IT','L6 IT','L5 ET','L5/6 NP','L6 CT','L6b',\n",
    "                           'Sst','Pvalb','Lamp5','Sncg','Vip',\n",
    "                           #'Astro','Oligo','OPC','Micro','Endo',#'VLMC','SMC','Peri', \n",
    "                           #'other',\n",
    "                          ]\n",
    "\n",
    "adata = adata[adata.obs['neuron_identity']=='Neuronal']\n",
    "np.unique(adata.obs['subclass_label_new'])"
   ]
  },
  {
   "cell_type": "markdown",
   "id": "a35f5272",
   "metadata": {},
   "source": [
    "## loop to process each cell group"
   ]
  },
  {
   "cell_type": "code",
   "execution_count": 18,
   "id": "32daba9e",
   "metadata": {},
   "outputs": [],
   "source": [
    "# re-import functions\n",
    "import loci_1d_features as lf\n",
    "import gene_selection as gs\n",
    "import gene_to_loci as gl\n",
    "\n",
    "#load_processed_marker_df= False"
   ]
  },
  {
   "cell_type": "code",
   "execution_count": 19,
   "id": "d1b03b4f",
   "metadata": {
    "scrolled": true
   },
   "outputs": [
    {
     "name": "stdout",
     "output_type": "stream",
     "text": [
      "Process marker gene loci for L2/3 IT.\n",
      "Start Gene Selection:\n",
      "1. Ranking marker genes with Scanpy using wilcoxon.\n"
     ]
    },
    {
     "name": "stderr",
     "output_type": "stream",
     "text": [
      "C:\\Users\\shiwei\\Anaconda3\\envs\\shiwei_chromatin\\lib\\site-packages\\anndata\\compat\\_overloaded_dict.py:106: ImplicitModificationWarning: Trying to modify attribute `._uns` of view, initializing view as actual.\n",
      "  self.data[key] = value\n",
      "C:\\Users\\shiwei\\Anaconda3\\envs\\shiwei_chromatin\\lib\\site-packages\\scanpy\\tools\\_rank_genes_groups.py:324: RuntimeWarning: invalid value encountered in divide\n",
      "  scores[group_index, :] = (\n"
     ]
    },
    {
     "name": "stdout",
     "output_type": "stream",
     "text": [
      "2. Selecting marker genes for expression change direction.\n",
      "3. Generating a DataFrame for the selected marker genes.\n",
      "There are 200 genes selected for upregulated expression.\n",
      "There are 200 genes selected for downregulated expression.\n",
      "There are 200 genes selected for control expression.\n",
      "Complete Gene Selection in 446.814s.\n",
      "Use existing result from the input adata.\n",
      "Add Gene Scores from Rank Genes Groups analysis.\n",
      "Use existing result from the input adata.\n",
      "Add Gene Expression Percentage.\n",
      "Add Gene Expression Means.\n",
      "Multiprocessing for loci matching:\n",
      "Complete in 9.187s.\n",
      "Remove loci whose match were not found.\n",
      "Retrieve all columns from Gene DataFrame\n",
      "Process marker gene loci for L4/5 IT.\n",
      "Start Gene Selection:\n",
      "1. Ranking marker genes with Scanpy using wilcoxon.\n"
     ]
    },
    {
     "name": "stderr",
     "output_type": "stream",
     "text": [
      "C:\\Users\\shiwei\\Anaconda3\\envs\\shiwei_chromatin\\lib\\site-packages\\scanpy\\tools\\_rank_genes_groups.py:324: RuntimeWarning: invalid value encountered in divide\n",
      "  scores[group_index, :] = (\n"
     ]
    },
    {
     "name": "stdout",
     "output_type": "stream",
     "text": [
      "2. Selecting marker genes for expression change direction.\n",
      "3. Generating a DataFrame for the selected marker genes.\n",
      "There are 200 genes selected for upregulated expression.\n",
      "There are 200 genes selected for downregulated expression.\n",
      "There are 200 genes selected for control expression.\n",
      "Complete Gene Selection in 300.388s.\n",
      "Use existing result from the input adata.\n",
      "Add Gene Scores from Rank Genes Groups analysis.\n",
      "Use existing result from the input adata.\n",
      "Add Gene Expression Percentage.\n",
      "Add Gene Expression Means.\n",
      "Multiprocessing for loci matching:\n",
      "Complete in 4.766s.\n",
      "Remove loci whose match were not found.\n",
      "Retrieve all columns from Gene DataFrame\n",
      "Process marker gene loci for L5 IT.\n",
      "Start Gene Selection:\n",
      "1. Ranking marker genes with Scanpy using wilcoxon.\n"
     ]
    },
    {
     "name": "stderr",
     "output_type": "stream",
     "text": [
      "C:\\Users\\shiwei\\Anaconda3\\envs\\shiwei_chromatin\\lib\\site-packages\\scanpy\\tools\\_rank_genes_groups.py:324: RuntimeWarning: invalid value encountered in divide\n",
      "  scores[group_index, :] = (\n"
     ]
    },
    {
     "name": "stdout",
     "output_type": "stream",
     "text": [
      "2. Selecting marker genes for expression change direction.\n",
      "3. Generating a DataFrame for the selected marker genes.\n",
      "There are 200 genes selected for upregulated expression.\n",
      "There are 200 genes selected for downregulated expression.\n",
      "There are 200 genes selected for control expression.\n",
      "Complete Gene Selection in 270.422s.\n",
      "Use existing result from the input adata.\n",
      "Add Gene Scores from Rank Genes Groups analysis.\n",
      "Use existing result from the input adata.\n",
      "Add Gene Expression Percentage.\n",
      "Add Gene Expression Means.\n",
      "Multiprocessing for loci matching:\n",
      "Complete in 4.724s.\n",
      "Remove loci whose match were not found.\n",
      "Retrieve all columns from Gene DataFrame\n",
      "Process marker gene loci for L6 IT.\n",
      "Start Gene Selection:\n",
      "1. Ranking marker genes with Scanpy using wilcoxon.\n"
     ]
    },
    {
     "name": "stderr",
     "output_type": "stream",
     "text": [
      "C:\\Users\\shiwei\\Anaconda3\\envs\\shiwei_chromatin\\lib\\site-packages\\scanpy\\tools\\_rank_genes_groups.py:324: RuntimeWarning: invalid value encountered in divide\n",
      "  scores[group_index, :] = (\n"
     ]
    },
    {
     "name": "stdout",
     "output_type": "stream",
     "text": [
      "2. Selecting marker genes for expression change direction.\n",
      "3. Generating a DataFrame for the selected marker genes.\n",
      "There are 200 genes selected for upregulated expression.\n",
      "There are 200 genes selected for downregulated expression.\n",
      "There are 200 genes selected for control expression.\n",
      "Complete Gene Selection in 269.746s.\n",
      "Use existing result from the input adata.\n",
      "Add Gene Scores from Rank Genes Groups analysis.\n",
      "Use existing result from the input adata.\n",
      "Add Gene Expression Percentage.\n",
      "Add Gene Expression Means.\n",
      "Multiprocessing for loci matching:\n",
      "Complete in 4.935s.\n",
      "Remove loci whose match were not found.\n",
      "Retrieve all columns from Gene DataFrame\n",
      "Process marker gene loci for L5 ET.\n",
      "Start Gene Selection:\n",
      "1. Ranking marker genes with Scanpy using wilcoxon.\n"
     ]
    },
    {
     "name": "stderr",
     "output_type": "stream",
     "text": [
      "C:\\Users\\shiwei\\Anaconda3\\envs\\shiwei_chromatin\\lib\\site-packages\\scanpy\\tools\\_rank_genes_groups.py:324: RuntimeWarning: invalid value encountered in divide\n",
      "  scores[group_index, :] = (\n"
     ]
    },
    {
     "name": "stdout",
     "output_type": "stream",
     "text": [
      "2. Selecting marker genes for expression change direction.\n",
      "3. Generating a DataFrame for the selected marker genes.\n",
      "There are 200 genes selected for upregulated expression.\n",
      "There are 200 genes selected for downregulated expression.\n",
      "There are 200 genes selected for control expression.\n",
      "Complete Gene Selection in 268.622s.\n",
      "Use existing result from the input adata.\n",
      "Add Gene Scores from Rank Genes Groups analysis.\n",
      "Use existing result from the input adata.\n",
      "Add Gene Expression Percentage.\n",
      "Add Gene Expression Means.\n",
      "Multiprocessing for loci matching:\n",
      "Complete in 4.632s.\n",
      "Remove loci whose match were not found.\n",
      "Retrieve all columns from Gene DataFrame\n",
      "Process marker gene loci for L5/6 NP.\n",
      "Start Gene Selection:\n",
      "1. Ranking marker genes with Scanpy using wilcoxon.\n"
     ]
    },
    {
     "name": "stderr",
     "output_type": "stream",
     "text": [
      "C:\\Users\\shiwei\\Anaconda3\\envs\\shiwei_chromatin\\lib\\site-packages\\scanpy\\tools\\_rank_genes_groups.py:324: RuntimeWarning: invalid value encountered in divide\n",
      "  scores[group_index, :] = (\n"
     ]
    },
    {
     "name": "stdout",
     "output_type": "stream",
     "text": [
      "2. Selecting marker genes for expression change direction.\n",
      "3. Generating a DataFrame for the selected marker genes.\n",
      "There are 200 genes selected for upregulated expression.\n",
      "There are 200 genes selected for downregulated expression.\n",
      "There are 200 genes selected for control expression.\n",
      "Complete Gene Selection in 269.802s.\n",
      "Use existing result from the input adata.\n",
      "Add Gene Scores from Rank Genes Groups analysis.\n",
      "Use existing result from the input adata.\n",
      "Add Gene Expression Percentage.\n",
      "Add Gene Expression Means.\n",
      "Multiprocessing for loci matching:\n",
      "Complete in 4.613s.\n",
      "Remove loci whose match were not found.\n",
      "Retrieve all columns from Gene DataFrame\n",
      "Process marker gene loci for L6 CT.\n",
      "Start Gene Selection:\n",
      "1. Ranking marker genes with Scanpy using wilcoxon.\n"
     ]
    },
    {
     "name": "stderr",
     "output_type": "stream",
     "text": [
      "C:\\Users\\shiwei\\Anaconda3\\envs\\shiwei_chromatin\\lib\\site-packages\\scanpy\\tools\\_rank_genes_groups.py:324: RuntimeWarning: invalid value encountered in divide\n",
      "  scores[group_index, :] = (\n"
     ]
    },
    {
     "name": "stdout",
     "output_type": "stream",
     "text": [
      "2. Selecting marker genes for expression change direction.\n",
      "3. Generating a DataFrame for the selected marker genes.\n",
      "There are 200 genes selected for upregulated expression.\n",
      "There are 200 genes selected for downregulated expression.\n",
      "There are 200 genes selected for control expression.\n",
      "Complete Gene Selection in 271.257s.\n",
      "Use existing result from the input adata.\n",
      "Add Gene Scores from Rank Genes Groups analysis.\n",
      "Use existing result from the input adata.\n",
      "Add Gene Expression Percentage.\n",
      "Add Gene Expression Means.\n",
      "Multiprocessing for loci matching:\n",
      "Complete in 4.695s.\n",
      "Remove loci whose match were not found.\n",
      "Retrieve all columns from Gene DataFrame\n",
      "Process marker gene loci for L6b.\n",
      "Start Gene Selection:\n",
      "1. Ranking marker genes with Scanpy using wilcoxon.\n"
     ]
    },
    {
     "name": "stderr",
     "output_type": "stream",
     "text": [
      "C:\\Users\\shiwei\\Anaconda3\\envs\\shiwei_chromatin\\lib\\site-packages\\scanpy\\tools\\_rank_genes_groups.py:324: RuntimeWarning: invalid value encountered in divide\n",
      "  scores[group_index, :] = (\n"
     ]
    },
    {
     "name": "stdout",
     "output_type": "stream",
     "text": [
      "2. Selecting marker genes for expression change direction.\n",
      "3. Generating a DataFrame for the selected marker genes.\n",
      "There are 200 genes selected for upregulated expression.\n",
      "There are 200 genes selected for downregulated expression.\n",
      "There are 200 genes selected for control expression.\n",
      "Complete Gene Selection in 268.427s.\n",
      "Use existing result from the input adata.\n",
      "Add Gene Scores from Rank Genes Groups analysis.\n",
      "Use existing result from the input adata.\n",
      "Add Gene Expression Percentage.\n",
      "Add Gene Expression Means.\n",
      "Multiprocessing for loci matching:\n",
      "Complete in 4.651s.\n",
      "Remove loci whose match were not found.\n",
      "Retrieve all columns from Gene DataFrame\n",
      "Process marker gene loci for Sst.\n",
      "Start Gene Selection:\n",
      "1. Ranking marker genes with Scanpy using wilcoxon.\n"
     ]
    },
    {
     "name": "stderr",
     "output_type": "stream",
     "text": [
      "C:\\Users\\shiwei\\Anaconda3\\envs\\shiwei_chromatin\\lib\\site-packages\\scanpy\\tools\\_rank_genes_groups.py:324: RuntimeWarning: invalid value encountered in divide\n",
      "  scores[group_index, :] = (\n"
     ]
    },
    {
     "name": "stdout",
     "output_type": "stream",
     "text": [
      "2. Selecting marker genes for expression change direction.\n",
      "3. Generating a DataFrame for the selected marker genes.\n",
      "There are 200 genes selected for upregulated expression.\n",
      "There are 200 genes selected for downregulated expression.\n",
      "There are 200 genes selected for control expression.\n",
      "Complete Gene Selection in 268.953s.\n",
      "Use existing result from the input adata.\n",
      "Add Gene Scores from Rank Genes Groups analysis.\n",
      "Use existing result from the input adata.\n",
      "Add Gene Expression Percentage.\n",
      "Add Gene Expression Means.\n",
      "Multiprocessing for loci matching:\n",
      "Complete in 4.623s.\n",
      "Remove loci whose match were not found.\n",
      "Retrieve all columns from Gene DataFrame\n",
      "Process marker gene loci for Pvalb.\n",
      "Start Gene Selection:\n",
      "1. Ranking marker genes with Scanpy using wilcoxon.\n"
     ]
    },
    {
     "name": "stderr",
     "output_type": "stream",
     "text": [
      "C:\\Users\\shiwei\\Anaconda3\\envs\\shiwei_chromatin\\lib\\site-packages\\scanpy\\tools\\_rank_genes_groups.py:324: RuntimeWarning: invalid value encountered in divide\n",
      "  scores[group_index, :] = (\n"
     ]
    },
    {
     "name": "stdout",
     "output_type": "stream",
     "text": [
      "2. Selecting marker genes for expression change direction.\n",
      "3. Generating a DataFrame for the selected marker genes.\n",
      "There are 200 genes selected for upregulated expression.\n",
      "There are 200 genes selected for downregulated expression.\n",
      "There are 200 genes selected for control expression.\n",
      "Complete Gene Selection in 269.176s.\n",
      "Use existing result from the input adata.\n",
      "Add Gene Scores from Rank Genes Groups analysis.\n",
      "Use existing result from the input adata.\n",
      "Add Gene Expression Percentage.\n",
      "Add Gene Expression Means.\n",
      "Multiprocessing for loci matching:\n",
      "Complete in 4.624s.\n",
      "Remove loci whose match were not found.\n",
      "Retrieve all columns from Gene DataFrame\n",
      "Process marker gene loci for Lamp5.\n",
      "Start Gene Selection:\n",
      "1. Ranking marker genes with Scanpy using wilcoxon.\n"
     ]
    },
    {
     "name": "stderr",
     "output_type": "stream",
     "text": [
      "C:\\Users\\shiwei\\Anaconda3\\envs\\shiwei_chromatin\\lib\\site-packages\\scanpy\\tools\\_rank_genes_groups.py:324: RuntimeWarning: invalid value encountered in divide\n",
      "  scores[group_index, :] = (\n"
     ]
    },
    {
     "name": "stdout",
     "output_type": "stream",
     "text": [
      "2. Selecting marker genes for expression change direction.\n",
      "3. Generating a DataFrame for the selected marker genes.\n",
      "There are 200 genes selected for upregulated expression.\n",
      "There are 200 genes selected for downregulated expression.\n",
      "There are 200 genes selected for control expression.\n",
      "Complete Gene Selection in 268.222s.\n",
      "Use existing result from the input adata.\n",
      "Add Gene Scores from Rank Genes Groups analysis.\n",
      "Use existing result from the input adata.\n",
      "Add Gene Expression Percentage.\n",
      "Add Gene Expression Means.\n",
      "Multiprocessing for loci matching:\n",
      "Complete in 4.702s.\n",
      "Remove loci whose match were not found.\n",
      "Retrieve all columns from Gene DataFrame\n",
      "Process marker gene loci for Sncg.\n",
      "Start Gene Selection:\n",
      "1. Ranking marker genes with Scanpy using wilcoxon.\n"
     ]
    },
    {
     "name": "stderr",
     "output_type": "stream",
     "text": [
      "C:\\Users\\shiwei\\Anaconda3\\envs\\shiwei_chromatin\\lib\\site-packages\\scanpy\\tools\\_rank_genes_groups.py:324: RuntimeWarning: invalid value encountered in divide\n",
      "  scores[group_index, :] = (\n"
     ]
    },
    {
     "name": "stdout",
     "output_type": "stream",
     "text": [
      "2. Selecting marker genes for expression change direction.\n",
      "3. Generating a DataFrame for the selected marker genes.\n",
      "There are 200 genes selected for upregulated expression.\n",
      "There are 200 genes selected for downregulated expression.\n",
      "There are 200 genes selected for control expression.\n",
      "Complete Gene Selection in 269.080s.\n",
      "Use existing result from the input adata.\n",
      "Add Gene Scores from Rank Genes Groups analysis.\n",
      "Use existing result from the input adata.\n",
      "Add Gene Expression Percentage.\n",
      "Add Gene Expression Means.\n",
      "Multiprocessing for loci matching:\n",
      "Complete in 4.658s.\n",
      "Remove loci whose match were not found.\n",
      "Retrieve all columns from Gene DataFrame\n",
      "Process marker gene loci for Vip.\n",
      "Start Gene Selection:\n",
      "1. Ranking marker genes with Scanpy using wilcoxon.\n"
     ]
    },
    {
     "name": "stderr",
     "output_type": "stream",
     "text": [
      "C:\\Users\\shiwei\\Anaconda3\\envs\\shiwei_chromatin\\lib\\site-packages\\scanpy\\tools\\_rank_genes_groups.py:324: RuntimeWarning: invalid value encountered in divide\n",
      "  scores[group_index, :] = (\n"
     ]
    },
    {
     "name": "stdout",
     "output_type": "stream",
     "text": [
      "2. Selecting marker genes for expression change direction.\n",
      "3. Generating a DataFrame for the selected marker genes.\n",
      "There are 200 genes selected for upregulated expression.\n",
      "There are 200 genes selected for downregulated expression.\n",
      "There are 200 genes selected for control expression.\n",
      "Complete Gene Selection in 284.307s.\n",
      "Use existing result from the input adata.\n",
      "Add Gene Scores from Rank Genes Groups analysis.\n",
      "Use existing result from the input adata.\n",
      "Add Gene Expression Percentage.\n",
      "Add Gene Expression Means.\n",
      "Multiprocessing for loci matching:\n",
      "Complete in 10.328s.\n",
      "Remove loci whose match were not found.\n",
      "Retrieve all columns from Gene DataFrame\n"
     ]
    }
   ],
   "source": [
    "\n",
    "# compile result as (marker loci of group) by (median of sc for group)\n",
    "#compiled_df = pd.DataFrame(columns = sorted_group_order)\n",
    "\n",
    "for _marker_group in sorted_group_order[:]:\n",
    "\n",
    "\n",
    "    print (f'Process marker gene loci for {_marker_group}.')   \n",
    "    ##############################################################################\n",
    "    # 1. get marker loci inds\n",
    "    # find markers using 150 genes as candidate\n",
    "    marker_genes_df = gs.rank_genes_groups_into_dataframe (adata, \n",
    "                                          _groupby, \n",
    "                                          _marker_group,\n",
    "                                          'rest', \n",
    "                                          n_genes=200, \n",
    "                                          stat_method='wilcoxon', \n",
    "                                          add_control_genes = True,\n",
    "                                          use_raw = True,\n",
    "                                          )\n",
    "    # add score, pts, and mean for markers\n",
    "    marker_genes_df = gs.add_scores_into_gene_dataframe(adata, marker_genes_df)\n",
    "    marker_genes_df = gs.add_pts_into_gene_dataframe(adata, marker_genes_df)\n",
    "    marker_genes_df = gs.add_mean_into_gene_dataframe(adata, marker_genes_df)\n",
    "\n",
    "    # filter markers\n",
    "    if filter_markers:\n",
    "        marker_genes_df_filter = gs.filter_pts_for_gene_dataframe (marker_genes_df, \n",
    "                                                              high_th_in_group_1 = 0.5, \n",
    "                                                              low_th_in_group_2 = 0.2, \n",
    "                                                              control_as_inactive=True)\n",
    "        marker_genes_df_filter = gs.filter_mean_for_gene_dataframe (marker_genes_df_filter, \n",
    "                                                              high_th_in_group_1 = 20, \n",
    "                                                              high_th_in_group_2 = None)\n",
    "        marker_genes_df_filter = gs.filter_foldchange_for_gene_dataframe (marker_genes_df_filter, \n",
    "                                                              change_th_in_group_1 = 2, \n",
    "                                                              change_th_in_group_2 = None)\n",
    "\n",
    "    else:\n",
    "        marker_genes_df_filter = marker_genes_df.copy()\n",
    "\n",
    "    # get genomic pos and adjacent imaged loci; keep only upregulated and downregulated loci\n",
    "    sel_marker_genes_df = marker_genes_df_filter[marker_genes_df_filter['Expression_change']!='control']\n",
    "\n",
    "    sel_marker_genes_df = gl.get_genomic_for_gene_dataframe(sel_marker_genes_df, gene_annotation_df)\n",
    "\n",
    "    sel_marker_genes_df = gl.get_imaged_loci_near_gene_dataframe (sel_marker_genes_df, \n",
    "                                             codebook_df, nearby_type='tss', \n",
    "                                             nearby_dist=100*1000, # extend for 100kb\n",
    "                                             num_threads = 8, \n",
    "                                             parallel=True)\n",
    "\n",
    "    # get inds in the codebook\n",
    "    im_loci_df  = lf.im_loci_dataframe_from_gene_dataframe (sel_marker_genes_df, sel_cols = None)\n",
    "    #im_loci_df = lf.sort_loci_df_by_chr_order(im_loci_df)\n",
    "\n",
    "    im_loci_df  = lf.codebook_chr_order_for_loci_dataframe  (im_loci_df, codebook_df,sel_cols =['chr','chr_order','id'], \n",
    "                                               sort_df = True,\n",
    "                                               sort_by_chr= True)\n",
    "\n",
    "    # save markers info\n",
    "    _marker_savename = _marker_group.replace(\"/\",\"_\")\n",
    "    _groupby_savename = 'class'\n",
    "    marker_genes_fname = os.path.join(output_analysis_folder, 'marker_neuron',f'{_groupby_savename}_{_marker_savename}_vs_rest.csv')\n",
    "    im_loci_df.to_csv(marker_genes_fname)\n",
    "\n",
    "        "
   ]
  }
 ],
 "metadata": {
  "kernelspec": {
   "display_name": "Python 3 (ipykernel)",
   "language": "python",
   "name": "python3"
  },
  "language_info": {
   "codemirror_mode": {
    "name": "ipython",
    "version": 3
   },
   "file_extension": ".py",
   "mimetype": "text/x-python",
   "name": "python",
   "nbconvert_exporter": "python",
   "pygments_lexer": "ipython3",
   "version": "3.10.8"
  },
  "toc": {
   "base_numbering": 1,
   "nav_menu": {},
   "number_sections": true,
   "sideBar": true,
   "skip_h1_title": false,
   "title_cell": "Table of Contents",
   "title_sidebar": "Contents",
   "toc_cell": false,
   "toc_position": {},
   "toc_section_display": true,
   "toc_window_display": true
  }
 },
 "nbformat": 4,
 "nbformat_minor": 5
}
