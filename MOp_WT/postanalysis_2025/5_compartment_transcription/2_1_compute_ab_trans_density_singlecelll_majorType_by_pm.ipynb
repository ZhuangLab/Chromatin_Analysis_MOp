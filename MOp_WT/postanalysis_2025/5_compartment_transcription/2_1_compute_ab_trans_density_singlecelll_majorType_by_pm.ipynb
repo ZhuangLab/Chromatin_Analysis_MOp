{
 "cells": [
  {
   "cell_type": "markdown",
   "id": "75c4e381",
   "metadata": {},
   "source": [
    "# Import module"
   ]
  },
  {
   "cell_type": "markdown",
   "id": "14a33d3e",
   "metadata": {},
   "source": [
    "The link to get [ImageAnalysis3](https://github.com/zhengpuas47/ImageAnalysis3) \n",
    "\n",
    "Or from the Zhuang lab archived [source_tools](https://github.com/ZhuangLab/Chromatin_Analysis_2020_cell/tree/master/sequential_tracing/source)"
   ]
  },
  {
   "cell_type": "markdown",
   "id": "b411cc21",
   "metadata": {},
   "source": [
    "## ImageAnalysis3 and basic modules"
   ]
  },
  {
   "cell_type": "code",
   "execution_count": 2,
   "id": "32554ab1",
   "metadata": {
    "scrolled": true
   },
   "outputs": [
    {
     "name": "stdout",
     "output_type": "stream",
     "text": [
      "18008\n"
     ]
    }
   ],
   "source": [
    "%run \"C:\\Users\\shiwei\\Documents\\ImageAnalysis3\\required_files\\Startup_py3.py\"\n",
    "sys.path.append(r\"C:\\Users\\shiwei\\Documents\")\n",
    "\n",
    "import ImageAnalysis3 as ia\n",
    "from ImageAnalysis3 import *\n",
    "from ImageAnalysis3.classes import _allowed_kwds\n",
    "\n",
    "import h5py\n",
    "import ast\n",
    "import pandas as pd\n",
    "\n",
    "print(os.getpid())"
   ]
  },
  {
   "cell_type": "markdown",
   "id": "f5f8cd77",
   "metadata": {},
   "source": [
    "## Chromatin_analysis_tools etc"
   ]
  },
  {
   "cell_type": "markdown",
   "id": "2db5036f",
   "metadata": {},
   "source": [
    "See **functions** in the repository for [AnalysisTool_Chromatin](../../README.md)"
   ]
  },
  {
   "cell_type": "code",
   "execution_count": 3,
   "id": "9469aba8",
   "metadata": {},
   "outputs": [
    {
     "data": {
      "text/plain": [
       "<module 'atac_to_loci' from 'C:\\\\Users\\\\shiwei\\\\Documents\\\\AnalysisTool_Chromatin\\\\atac_to_loci.py'>"
      ]
     },
     "execution_count": 3,
     "metadata": {},
     "output_type": "execute_result"
    }
   ],
   "source": [
    "# Chromatin_analysis_tools (ATC)\n",
    "# Get path for the py containing functions\n",
    "import os\n",
    "import sys\n",
    "import importlib\n",
    "module_path =r'C:\\Users\\shiwei\\Documents\\AnalysisTool_Chromatin'\n",
    "if module_path not in sys.path:\n",
    "    sys.path.append(module_path)\n",
    "    \n",
    "# import relevant modules\n",
    "import gene_selection \n",
    "importlib.reload(gene_selection)\n",
    "import gene_to_loci\n",
    "importlib.reload(gene_to_loci)\n",
    "import gene_activity\n",
    "importlib.reload(gene_activity)\n",
    "import loci_1d_features\n",
    "importlib.reload(loci_1d_features)  \n",
    "\n",
    "import atac_to_loci\n",
    "importlib.reload(atac_to_loci)"
   ]
  },
  {
   "cell_type": "markdown",
   "id": "aa08c6de",
   "metadata": {},
   "source": [
    "# Define folders"
   ]
  },
  {
   "cell_type": "code",
   "execution_count": 4,
   "id": "2c8dce53",
   "metadata": {},
   "outputs": [
    {
     "name": "stdout",
     "output_type": "stream",
     "text": [
      "Use existing analysis folder: L:\\Shiwei\\postanalysis_2024\\v0\\compartment_transcription\\analysis.\n",
      "Use existing figure folder: L:\\Shiwei\\postanalysis_2024\\v0\\compartment_transcription\\figures.\n"
     ]
    }
   ],
   "source": [
    "# main folder for postanalysis\n",
    "postanalysis_folder = r'L:\\Shiwei\\postanalysis_2024\\v0'\n",
    "# input files for postanalysis\n",
    "input_folder = os.path.join(postanalysis_folder, 'resources_from_preprocess')\n",
    "\n",
    "# output file to be generated\n",
    "output_main_folder = os.path.join(postanalysis_folder, 'compartment_transcription')\n",
    "\n",
    "output_analysis_folder = os.path.join(output_main_folder, 'analysis')\n",
    "output_figure_folder = os.path.join(output_main_folder, 'figures')\n",
    "\n",
    "# make new folder if needed\n",
    "make_output_folder = True\n",
    "\n",
    "if make_output_folder and not os.path.exists(output_analysis_folder):\n",
    "    os.makedirs(output_analysis_folder)\n",
    "    print(f'Generating analysis folder: {output_analysis_folder}.')\n",
    "elif os.path.exists(output_analysis_folder):\n",
    "    print(f'Use existing analysis folder: {output_analysis_folder}.')\n",
    "    \n",
    "if make_output_folder and not os.path.exists(output_figure_folder):\n",
    "    os.makedirs(output_figure_folder)\n",
    "    print(f'Generating figure folder: {output_figure_folder}.')\n",
    "elif os.path.exists(output_figure_folder):\n",
    "    print(f'Use existing figure folder: {output_figure_folder}.')"
   ]
  },
  {
   "cell_type": "markdown",
   "id": "43745cf2",
   "metadata": {},
   "source": [
    "# Plotting parameters"
   ]
  },
  {
   "cell_type": "code",
   "execution_count": 5,
   "id": "fb1e3324",
   "metadata": {},
   "outputs": [],
   "source": [
    "%matplotlib inline\n",
    "import matplotlib\n",
    "matplotlib.rcParams['pdf.fonttype'] = 42\n",
    "import matplotlib.pyplot as plt\n",
    "plt.rc('font', family='serif')\n",
    "plt.rc('font', serif='Arial')\n",
    "\n",
    "from ImageAnalysis3.figure_tools import _double_col_width, _single_col_width, _font_size, _ticklabel_size,_ticklabel_width\n",
    "\n",
    "import seaborn as sns\n",
    "sns.set_context(\"paper\", rc={\"font.size\":_font_size,\"axes.titlesize\":_font_size+1,\"axes.labelsize\":_font_size})  "
   ]
  },
  {
   "cell_type": "code",
   "execution_count": 6,
   "id": "bc310b7e",
   "metadata": {},
   "outputs": [],
   "source": [
    "# Other required plotting parameters\n",
    "_dpi = 300\n",
    "_font_size = 7\n",
    "_page_width = 5.5\n"
   ]
  },
  {
   "cell_type": "markdown",
   "id": "a1d34726",
   "metadata": {},
   "source": [
    "## cell type color-codes"
   ]
  },
  {
   "cell_type": "code",
   "execution_count": 7,
   "id": "c33943dd",
   "metadata": {},
   "outputs": [],
   "source": [
    "# cell labels from RNA-MERFISH and celltype prediction\n",
    "selected_cell_labels = ['L2/3 IT','L4/5 IT','L5 IT','L6 IT','L5 ET','L5/6 NP','L6 CT','L6b',\n",
    "                           'Sst','Pvalb','Lamp5','Sncg','Vip',\n",
    "                           'Astro','Oligo','OPC','Micro','Endo','VLMC','SMC','Peri', \n",
    "                           #'other',\n",
    "                          ]\n",
    "# cell palette from RNA-MERFISH UMAP and stats\n",
    "celltype_palette = {'Astro':'lightcoral', \n",
    "                    'Endo':'skyblue', \n",
    "                    'L2/3 IT':'gold', \n",
    "                    'L4/5 IT':'darkorange', \n",
    "                    'L5 ET':'mediumseagreen', \n",
    "                    'L5 IT':'aqua',\n",
    "                    'L5/6 NP':'darkgreen',\n",
    "                    'L6 CT':'brown',\n",
    "                    'L6 IT':'magenta',\n",
    "                    'L6b':'blue', \n",
    "                    'Lamp5':'orange', \n",
    "                    'Micro':'peachpuff',\n",
    "                    'OPC':'thistle', \n",
    "                    'Oligo':'darkviolet',\n",
    "                    'Peri':'sandybrown',\n",
    "                    'Pvalb':'springgreen',\n",
    "                    'SMC':'rosybrown',\n",
    "                    'Sncg':'darkkhaki',\n",
    "                    'Sst':'steelblue', \n",
    "                    'VLMC':'saddlebrown', \n",
    "                    'Vip':'red',\n",
    "                    'other':'slategray'}\n"
   ]
  },
  {
   "cell_type": "code",
   "execution_count": 8,
   "id": "caad6887",
   "metadata": {},
   "outputs": [],
   "source": [
    "# this is the plotting order noted based on the snRNA transcriptional acitivty if needed\n",
    "sorted_cellplot_order_byRNA = ['Micro', 'Oligo', 'Endo', 'OPC', 'Astro', 'Vip', 'Lamp5',\n",
    "                  'L5/6 NP', 'Sst', 'Sncg', 'Pvalb', 'L4/5 IT', 'L6 CT',\n",
    "                  'L6 IT', 'L6b', 'L2/3 IT', 'L5 IT', 'L5 ET']"
   ]
  },
  {
   "cell_type": "markdown",
   "id": "b00f58f0",
   "metadata": {},
   "source": [
    "# Load data relevant information"
   ]
  },
  {
   "cell_type": "markdown",
   "id": "7e667606",
   "metadata": {},
   "source": [
    "## load and format codebook"
   ]
  },
  {
   "cell_type": "markdown",
   "id": "6b8440c6",
   "metadata": {},
   "source": [
    "[merged codebook](../resources/merged_codebook.csv) as in the repository (merged for all DNA-MERFISH libraries)"
   ]
  },
  {
   "cell_type": "code",
   "execution_count": 9,
   "id": "c0734aad",
   "metadata": {},
   "outputs": [
    {
     "data": {
      "text/html": [
       "<div>\n",
       "<style scoped>\n",
       "    .dataframe tbody tr th:only-of-type {\n",
       "        vertical-align: middle;\n",
       "    }\n",
       "\n",
       "    .dataframe tbody tr th {\n",
       "        vertical-align: top;\n",
       "    }\n",
       "\n",
       "    .dataframe thead th {\n",
       "        text-align: right;\n",
       "    }\n",
       "</style>\n",
       "<table border=\"1\" class=\"dataframe\">\n",
       "  <thead>\n",
       "    <tr style=\"text-align: right;\">\n",
       "      <th></th>\n",
       "      <th>name</th>\n",
       "      <th>id</th>\n",
       "      <th>NDB_784</th>\n",
       "      <th>NDB_755</th>\n",
       "      <th>NDB_826</th>\n",
       "      <th>NDB_713</th>\n",
       "      <th>NDB_865</th>\n",
       "      <th>NDB_725</th>\n",
       "      <th>NDB_817</th>\n",
       "      <th>NDB_710</th>\n",
       "      <th>...</th>\n",
       "      <th>NDB_479</th>\n",
       "      <th>NDB_562</th>\n",
       "      <th>NDB_608</th>\n",
       "      <th>NDB_460</th>\n",
       "      <th>NDB_563</th>\n",
       "      <th>NDB_592</th>\n",
       "      <th>NDB_368</th>\n",
       "      <th>NDB_436</th>\n",
       "      <th>NDB_629</th>\n",
       "      <th>NDB_604</th>\n",
       "    </tr>\n",
       "  </thead>\n",
       "  <tbody>\n",
       "    <tr>\n",
       "      <th>0</th>\n",
       "      <td>1:3742742-3759944</td>\n",
       "      <td>1</td>\n",
       "      <td>0.0</td>\n",
       "      <td>0.0</td>\n",
       "      <td>0.0</td>\n",
       "      <td>0.0</td>\n",
       "      <td>0.0</td>\n",
       "      <td>0.0</td>\n",
       "      <td>0.0</td>\n",
       "      <td>0.0</td>\n",
       "      <td>...</td>\n",
       "      <td>0.0</td>\n",
       "      <td>0.0</td>\n",
       "      <td>0.0</td>\n",
       "      <td>0.0</td>\n",
       "      <td>0.0</td>\n",
       "      <td>0.0</td>\n",
       "      <td>0.0</td>\n",
       "      <td>0.0</td>\n",
       "      <td>0.0</td>\n",
       "      <td>0.0</td>\n",
       "    </tr>\n",
       "    <tr>\n",
       "      <th>1</th>\n",
       "      <td>1:6245958-6258969</td>\n",
       "      <td>2</td>\n",
       "      <td>0.0</td>\n",
       "      <td>0.0</td>\n",
       "      <td>0.0</td>\n",
       "      <td>0.0</td>\n",
       "      <td>0.0</td>\n",
       "      <td>0.0</td>\n",
       "      <td>0.0</td>\n",
       "      <td>0.0</td>\n",
       "      <td>...</td>\n",
       "      <td>0.0</td>\n",
       "      <td>0.0</td>\n",
       "      <td>0.0</td>\n",
       "      <td>0.0</td>\n",
       "      <td>0.0</td>\n",
       "      <td>0.0</td>\n",
       "      <td>0.0</td>\n",
       "      <td>0.0</td>\n",
       "      <td>0.0</td>\n",
       "      <td>0.0</td>\n",
       "    </tr>\n",
       "    <tr>\n",
       "      <th>2</th>\n",
       "      <td>1:8740008-8759916</td>\n",
       "      <td>3</td>\n",
       "      <td>0.0</td>\n",
       "      <td>0.0</td>\n",
       "      <td>0.0</td>\n",
       "      <td>0.0</td>\n",
       "      <td>0.0</td>\n",
       "      <td>0.0</td>\n",
       "      <td>0.0</td>\n",
       "      <td>0.0</td>\n",
       "      <td>...</td>\n",
       "      <td>0.0</td>\n",
       "      <td>0.0</td>\n",
       "      <td>0.0</td>\n",
       "      <td>0.0</td>\n",
       "      <td>0.0</td>\n",
       "      <td>0.0</td>\n",
       "      <td>0.0</td>\n",
       "      <td>0.0</td>\n",
       "      <td>0.0</td>\n",
       "      <td>0.0</td>\n",
       "    </tr>\n",
       "    <tr>\n",
       "      <th>1016</th>\n",
       "      <td>1:9627926-9637875</td>\n",
       "      <td>1</td>\n",
       "      <td>0.0</td>\n",
       "      <td>0.0</td>\n",
       "      <td>0.0</td>\n",
       "      <td>0.0</td>\n",
       "      <td>0.0</td>\n",
       "      <td>0.0</td>\n",
       "      <td>0.0</td>\n",
       "      <td>0.0</td>\n",
       "      <td>...</td>\n",
       "      <td>0.0</td>\n",
       "      <td>0.0</td>\n",
       "      <td>0.0</td>\n",
       "      <td>0.0</td>\n",
       "      <td>0.0</td>\n",
       "      <td>0.0</td>\n",
       "      <td>0.0</td>\n",
       "      <td>0.0</td>\n",
       "      <td>0.0</td>\n",
       "      <td>0.0</td>\n",
       "    </tr>\n",
       "    <tr>\n",
       "      <th>1017</th>\n",
       "      <td>1:9799472-9811359</td>\n",
       "      <td>2</td>\n",
       "      <td>0.0</td>\n",
       "      <td>0.0</td>\n",
       "      <td>0.0</td>\n",
       "      <td>0.0</td>\n",
       "      <td>0.0</td>\n",
       "      <td>0.0</td>\n",
       "      <td>0.0</td>\n",
       "      <td>0.0</td>\n",
       "      <td>...</td>\n",
       "      <td>0.0</td>\n",
       "      <td>0.0</td>\n",
       "      <td>0.0</td>\n",
       "      <td>0.0</td>\n",
       "      <td>0.0</td>\n",
       "      <td>1.0</td>\n",
       "      <td>0.0</td>\n",
       "      <td>0.0</td>\n",
       "      <td>0.0</td>\n",
       "      <td>0.0</td>\n",
       "    </tr>\n",
       "  </tbody>\n",
       "</table>\n",
       "<p>5 rows × 228 columns</p>\n",
       "</div>"
      ],
      "text/plain": [
       "                   name id  NDB_784  NDB_755  NDB_826  NDB_713  NDB_865  \\\n",
       "0     1:3742742-3759944  1      0.0      0.0      0.0      0.0      0.0   \n",
       "1     1:6245958-6258969  2      0.0      0.0      0.0      0.0      0.0   \n",
       "2     1:8740008-8759916  3      0.0      0.0      0.0      0.0      0.0   \n",
       "1016  1:9627926-9637875  1      0.0      0.0      0.0      0.0      0.0   \n",
       "1017  1:9799472-9811359  2      0.0      0.0      0.0      0.0      0.0   \n",
       "\n",
       "      NDB_725  NDB_817  NDB_710  ...  NDB_479  NDB_562  NDB_608  NDB_460  \\\n",
       "0         0.0      0.0      0.0  ...      0.0      0.0      0.0      0.0   \n",
       "1         0.0      0.0      0.0  ...      0.0      0.0      0.0      0.0   \n",
       "2         0.0      0.0      0.0  ...      0.0      0.0      0.0      0.0   \n",
       "1016      0.0      0.0      0.0  ...      0.0      0.0      0.0      0.0   \n",
       "1017      0.0      0.0      0.0  ...      0.0      0.0      0.0      0.0   \n",
       "\n",
       "      NDB_563  NDB_592  NDB_368  NDB_436  NDB_629  NDB_604  \n",
       "0         0.0      0.0      0.0      0.0      0.0      0.0  \n",
       "1         0.0      0.0      0.0      0.0      0.0      0.0  \n",
       "2         0.0      0.0      0.0      0.0      0.0      0.0  \n",
       "1016      0.0      0.0      0.0      0.0      0.0      0.0  \n",
       "1017      0.0      1.0      0.0      0.0      0.0      0.0  \n",
       "\n",
       "[5 rows x 228 columns]"
      ]
     },
     "execution_count": 9,
     "metadata": {},
     "output_type": "execute_result"
    }
   ],
   "source": [
    "# Load codebook \n",
    "codebook_fname = os.path.join(input_folder,'merged_codebook.csv')\n",
    "codebook_df = pd.read_csv (codebook_fname, index_col=0)\n",
    "\n",
    "# sort df by chr and chr_order\n",
    "codebook_df = loci_1d_features.sort_loci_df_by_chr_order (codebook_df)\n",
    "codebook_df.head()"
   ]
  },
  {
   "cell_type": "code",
   "execution_count": 10,
   "id": "3e95ab4f",
   "metadata": {
    "scrolled": true
   },
   "outputs": [
    {
     "data": {
      "text/html": [
       "<div>\n",
       "<style scoped>\n",
       "    .dataframe tbody tr th:only-of-type {\n",
       "        vertical-align: middle;\n",
       "    }\n",
       "\n",
       "    .dataframe tbody tr th {\n",
       "        vertical-align: top;\n",
       "    }\n",
       "\n",
       "    .dataframe thead th {\n",
       "        text-align: right;\n",
       "    }\n",
       "</style>\n",
       "<table border=\"1\" class=\"dataframe\">\n",
       "  <thead>\n",
       "    <tr style=\"text-align: right;\">\n",
       "      <th></th>\n",
       "      <th>name</th>\n",
       "      <th>id</th>\n",
       "      <th>chr</th>\n",
       "      <th>chr_order</th>\n",
       "      <th>library</th>\n",
       "    </tr>\n",
       "    <tr>\n",
       "      <th>loci_name</th>\n",
       "      <th></th>\n",
       "      <th></th>\n",
       "      <th></th>\n",
       "      <th></th>\n",
       "      <th></th>\n",
       "    </tr>\n",
       "  </thead>\n",
       "  <tbody>\n",
       "    <tr>\n",
       "      <th>chr1_3742742_3759944</th>\n",
       "      <td>1:3742742-3759944</td>\n",
       "      <td>1</td>\n",
       "      <td>1</td>\n",
       "      <td>0.0</td>\n",
       "      <td>CTP11</td>\n",
       "    </tr>\n",
       "    <tr>\n",
       "      <th>chr1_6245958_6258969</th>\n",
       "      <td>1:6245958-6258969</td>\n",
       "      <td>2</td>\n",
       "      <td>1</td>\n",
       "      <td>1.0</td>\n",
       "      <td>CTP11</td>\n",
       "    </tr>\n",
       "    <tr>\n",
       "      <th>chr1_8740008_8759916</th>\n",
       "      <td>1:8740008-8759916</td>\n",
       "      <td>3</td>\n",
       "      <td>1</td>\n",
       "      <td>2.0</td>\n",
       "      <td>CTP11</td>\n",
       "    </tr>\n",
       "    <tr>\n",
       "      <th>chr1_9627926_9637875</th>\n",
       "      <td>1:9627926-9637875</td>\n",
       "      <td>1</td>\n",
       "      <td>1</td>\n",
       "      <td>3.0</td>\n",
       "      <td>CTP13</td>\n",
       "    </tr>\n",
       "    <tr>\n",
       "      <th>chr1_9799472_9811359</th>\n",
       "      <td>1:9799472-9811359</td>\n",
       "      <td>2</td>\n",
       "      <td>1</td>\n",
       "      <td>4.0</td>\n",
       "      <td>CTP13</td>\n",
       "    </tr>\n",
       "  </tbody>\n",
       "</table>\n",
       "</div>"
      ],
      "text/plain": [
       "                                   name id chr  chr_order library\n",
       "loci_name                                                        \n",
       "chr1_3742742_3759944  1:3742742-3759944  1   1        0.0   CTP11\n",
       "chr1_6245958_6258969  1:6245958-6258969  2   1        1.0   CTP11\n",
       "chr1_8740008_8759916  1:8740008-8759916  3   1        2.0   CTP11\n",
       "chr1_9627926_9637875  1:9627926-9637875  1   1        3.0   CTP13\n",
       "chr1_9799472_9811359  1:9799472-9811359  2   1        4.0   CTP13"
      ]
     },
     "execution_count": 10,
     "metadata": {},
     "output_type": "execute_result"
    }
   ],
   "source": [
    "# Format the chr loci name by \n",
    "# 1. changing loci name format\n",
    "# 2. extract relevant information such as id, chr, chr_order, and library etc\n",
    "from gene_to_loci import loci_pos_format\n",
    "loci_name_list = list(map(loci_pos_format, codebook_df['name'].tolist()))\n",
    "loci_name_arr = np.array(loci_name_list)\n",
    "\n",
    "# convert to a new dataframe and set loci name as index\n",
    "codebook_df = codebook_df[['name','id','chr','chr_order','library']]\n",
    "codebook_df['loci_name'] = list(loci_name_arr[:,0])\n",
    "codebook_df = codebook_df.set_index ('loci_name')\n",
    "\n",
    "codebook_df.head()"
   ]
  },
  {
   "cell_type": "markdown",
   "id": "6d75011f",
   "metadata": {},
   "source": [
    "# Load AB assignment"
   ]
  },
  {
   "cell_type": "markdown",
   "id": "131cfb58",
   "metadata": {},
   "source": [
    "\n",
    "\n",
    "Data be can generated from notebook as:\n",
    "\n",
    "[4_higher_order_chromosome/4_ab_compartment_by_pm_majorType_assignment](../4_higher_order_chromosome/4_ab_compartment_by_pm_majorType_assignment.ipynb)\n"
   ]
  },
  {
   "cell_type": "code",
   "execution_count": 12,
   "id": "0c7cabb6",
   "metadata": {},
   "outputs": [],
   "source": [
    "AB_summary_folder = r'L:\\Shiwei\\postanalysis_2024\\v0\\higher_order_chromosome\\analysis'\n",
    "\n",
    "AB_summary_fname = os.path.join(AB_summary_folder,'AB_assignment_CG_by_pm_majorType.csv')\n",
    "AB_summary_df = pd.read_csv(AB_summary_fname, index_col=0)"
   ]
  },
  {
   "cell_type": "code",
   "execution_count": 13,
   "id": "27df79ba",
   "metadata": {},
   "outputs": [
    {
     "data": {
      "text/html": [
       "<div>\n",
       "<style scoped>\n",
       "    .dataframe tbody tr th:only-of-type {\n",
       "        vertical-align: middle;\n",
       "    }\n",
       "\n",
       "    .dataframe tbody tr th {\n",
       "        vertical-align: top;\n",
       "    }\n",
       "\n",
       "    .dataframe thead th {\n",
       "        text-align: right;\n",
       "    }\n",
       "</style>\n",
       "<table border=\"1\" class=\"dataframe\">\n",
       "  <thead>\n",
       "    <tr style=\"text-align: right;\">\n",
       "      <th></th>\n",
       "      <th>Astro</th>\n",
       "      <th>Endo</th>\n",
       "      <th>GABA</th>\n",
       "      <th>Gluta</th>\n",
       "      <th>Micro</th>\n",
       "      <th>Oligo</th>\n",
       "    </tr>\n",
       "    <tr>\n",
       "      <th>loci_name</th>\n",
       "      <th></th>\n",
       "      <th></th>\n",
       "      <th></th>\n",
       "      <th></th>\n",
       "      <th></th>\n",
       "      <th></th>\n",
       "    </tr>\n",
       "  </thead>\n",
       "  <tbody>\n",
       "    <tr>\n",
       "      <th>chr1_3742742_3759944</th>\n",
       "      <td>B</td>\n",
       "      <td>A</td>\n",
       "      <td>B</td>\n",
       "      <td>B</td>\n",
       "      <td>B</td>\n",
       "      <td>B</td>\n",
       "    </tr>\n",
       "    <tr>\n",
       "      <th>chr1_6245958_6258969</th>\n",
       "      <td>A</td>\n",
       "      <td>A</td>\n",
       "      <td>B</td>\n",
       "      <td>B</td>\n",
       "      <td>B</td>\n",
       "      <td>B</td>\n",
       "    </tr>\n",
       "    <tr>\n",
       "      <th>chr1_8740008_8759916</th>\n",
       "      <td>B</td>\n",
       "      <td>B</td>\n",
       "      <td>B</td>\n",
       "      <td>B</td>\n",
       "      <td>B</td>\n",
       "      <td>B</td>\n",
       "    </tr>\n",
       "    <tr>\n",
       "      <th>chr1_9627926_9637875</th>\n",
       "      <td>A</td>\n",
       "      <td>A</td>\n",
       "      <td>B</td>\n",
       "      <td>B</td>\n",
       "      <td>A</td>\n",
       "      <td>B</td>\n",
       "    </tr>\n",
       "    <tr>\n",
       "      <th>chr1_9799472_9811359</th>\n",
       "      <td>A</td>\n",
       "      <td>A</td>\n",
       "      <td>B</td>\n",
       "      <td>B</td>\n",
       "      <td>A</td>\n",
       "      <td>A</td>\n",
       "    </tr>\n",
       "  </tbody>\n",
       "</table>\n",
       "</div>"
      ],
      "text/plain": [
       "                     Astro Endo GABA Gluta Micro Oligo\n",
       "loci_name                                             \n",
       "chr1_3742742_3759944     B    A    B     B     B     B\n",
       "chr1_6245958_6258969     A    A    B     B     B     B\n",
       "chr1_8740008_8759916     B    B    B     B     B     B\n",
       "chr1_9627926_9637875     A    A    B     B     A     B\n",
       "chr1_9799472_9811359     A    A    B     B     A     A"
      ]
     },
     "execution_count": 13,
     "metadata": {},
     "output_type": "execute_result"
    }
   ],
   "source": [
    "AB_summary_df.head()"
   ]
  },
  {
   "cell_type": "markdown",
   "id": "655697de",
   "metadata": {},
   "source": [
    "## assign subclass level AB using majorType AB"
   ]
  },
  {
   "cell_type": "code",
   "execution_count": 14,
   "id": "a4fee917",
   "metadata": {},
   "outputs": [
    {
     "data": {
      "text/html": [
       "<div>\n",
       "<style scoped>\n",
       "    .dataframe tbody tr th:only-of-type {\n",
       "        vertical-align: middle;\n",
       "    }\n",
       "\n",
       "    .dataframe tbody tr th {\n",
       "        vertical-align: top;\n",
       "    }\n",
       "\n",
       "    .dataframe thead th {\n",
       "        text-align: right;\n",
       "    }\n",
       "</style>\n",
       "<table border=\"1\" class=\"dataframe\">\n",
       "  <thead>\n",
       "    <tr style=\"text-align: right;\">\n",
       "      <th></th>\n",
       "      <th>Oligo</th>\n",
       "      <th>OPC</th>\n",
       "      <th>Micro</th>\n",
       "      <th>Astro</th>\n",
       "      <th>Endo</th>\n",
       "      <th>Peri</th>\n",
       "      <th>L2/3 IT</th>\n",
       "      <th>L4/5 IT</th>\n",
       "      <th>L5 IT</th>\n",
       "      <th>L6 IT</th>\n",
       "      <th>L5 ET</th>\n",
       "      <th>L6 CT</th>\n",
       "      <th>L5/6 NP</th>\n",
       "      <th>L6b</th>\n",
       "      <th>Vip</th>\n",
       "      <th>Pvalb</th>\n",
       "      <th>Lamp5</th>\n",
       "      <th>Sst</th>\n",
       "      <th>Sncg</th>\n",
       "    </tr>\n",
       "    <tr>\n",
       "      <th>loci_name</th>\n",
       "      <th></th>\n",
       "      <th></th>\n",
       "      <th></th>\n",
       "      <th></th>\n",
       "      <th></th>\n",
       "      <th></th>\n",
       "      <th></th>\n",
       "      <th></th>\n",
       "      <th></th>\n",
       "      <th></th>\n",
       "      <th></th>\n",
       "      <th></th>\n",
       "      <th></th>\n",
       "      <th></th>\n",
       "      <th></th>\n",
       "      <th></th>\n",
       "      <th></th>\n",
       "      <th></th>\n",
       "      <th></th>\n",
       "    </tr>\n",
       "  </thead>\n",
       "  <tbody>\n",
       "    <tr>\n",
       "      <th>chr1_3742742_3759944</th>\n",
       "      <td>B</td>\n",
       "      <td>B</td>\n",
       "      <td>B</td>\n",
       "      <td>B</td>\n",
       "      <td>A</td>\n",
       "      <td>A</td>\n",
       "      <td>B</td>\n",
       "      <td>B</td>\n",
       "      <td>B</td>\n",
       "      <td>B</td>\n",
       "      <td>B</td>\n",
       "      <td>B</td>\n",
       "      <td>B</td>\n",
       "      <td>B</td>\n",
       "      <td>B</td>\n",
       "      <td>B</td>\n",
       "      <td>B</td>\n",
       "      <td>B</td>\n",
       "      <td>B</td>\n",
       "    </tr>\n",
       "    <tr>\n",
       "      <th>chr1_6245958_6258969</th>\n",
       "      <td>B</td>\n",
       "      <td>B</td>\n",
       "      <td>B</td>\n",
       "      <td>A</td>\n",
       "      <td>A</td>\n",
       "      <td>A</td>\n",
       "      <td>B</td>\n",
       "      <td>B</td>\n",
       "      <td>B</td>\n",
       "      <td>B</td>\n",
       "      <td>B</td>\n",
       "      <td>B</td>\n",
       "      <td>B</td>\n",
       "      <td>B</td>\n",
       "      <td>B</td>\n",
       "      <td>B</td>\n",
       "      <td>B</td>\n",
       "      <td>B</td>\n",
       "      <td>B</td>\n",
       "    </tr>\n",
       "    <tr>\n",
       "      <th>chr1_8740008_8759916</th>\n",
       "      <td>B</td>\n",
       "      <td>B</td>\n",
       "      <td>B</td>\n",
       "      <td>B</td>\n",
       "      <td>B</td>\n",
       "      <td>B</td>\n",
       "      <td>B</td>\n",
       "      <td>B</td>\n",
       "      <td>B</td>\n",
       "      <td>B</td>\n",
       "      <td>B</td>\n",
       "      <td>B</td>\n",
       "      <td>B</td>\n",
       "      <td>B</td>\n",
       "      <td>B</td>\n",
       "      <td>B</td>\n",
       "      <td>B</td>\n",
       "      <td>B</td>\n",
       "      <td>B</td>\n",
       "    </tr>\n",
       "    <tr>\n",
       "      <th>chr1_9627926_9637875</th>\n",
       "      <td>B</td>\n",
       "      <td>B</td>\n",
       "      <td>A</td>\n",
       "      <td>A</td>\n",
       "      <td>A</td>\n",
       "      <td>A</td>\n",
       "      <td>B</td>\n",
       "      <td>B</td>\n",
       "      <td>B</td>\n",
       "      <td>B</td>\n",
       "      <td>B</td>\n",
       "      <td>B</td>\n",
       "      <td>B</td>\n",
       "      <td>B</td>\n",
       "      <td>B</td>\n",
       "      <td>B</td>\n",
       "      <td>B</td>\n",
       "      <td>B</td>\n",
       "      <td>B</td>\n",
       "    </tr>\n",
       "    <tr>\n",
       "      <th>chr1_9799472_9811359</th>\n",
       "      <td>A</td>\n",
       "      <td>A</td>\n",
       "      <td>A</td>\n",
       "      <td>A</td>\n",
       "      <td>A</td>\n",
       "      <td>A</td>\n",
       "      <td>B</td>\n",
       "      <td>B</td>\n",
       "      <td>B</td>\n",
       "      <td>B</td>\n",
       "      <td>B</td>\n",
       "      <td>B</td>\n",
       "      <td>B</td>\n",
       "      <td>B</td>\n",
       "      <td>B</td>\n",
       "      <td>B</td>\n",
       "      <td>B</td>\n",
       "      <td>B</td>\n",
       "      <td>B</td>\n",
       "    </tr>\n",
       "  </tbody>\n",
       "</table>\n",
       "</div>"
      ],
      "text/plain": [
       "                     Oligo OPC Micro Astro Endo Peri L2/3 IT L4/5 IT L5 IT  \\\n",
       "loci_name                                                                    \n",
       "chr1_3742742_3759944     B   B     B     B    A    A       B       B     B   \n",
       "chr1_6245958_6258969     B   B     B     A    A    A       B       B     B   \n",
       "chr1_8740008_8759916     B   B     B     B    B    B       B       B     B   \n",
       "chr1_9627926_9637875     B   B     A     A    A    A       B       B     B   \n",
       "chr1_9799472_9811359     A   A     A     A    A    A       B       B     B   \n",
       "\n",
       "                     L6 IT L5 ET L6 CT L5/6 NP L6b Vip Pvalb Lamp5 Sst Sncg  \n",
       "loci_name                                                                    \n",
       "chr1_3742742_3759944     B     B     B       B   B   B     B     B   B    B  \n",
       "chr1_6245958_6258969     B     B     B       B   B   B     B     B   B    B  \n",
       "chr1_8740008_8759916     B     B     B       B   B   B     B     B   B    B  \n",
       "chr1_9627926_9637875     B     B     B       B   B   B     B     B   B    B  \n",
       "chr1_9799472_9811359     B     B     B       B   B   B     B     B   B    B  "
      ]
     },
     "execution_count": 14,
     "metadata": {},
     "output_type": "execute_result"
    }
   ],
   "source": [
    "majorType_2_subclass_dict = {'Oligo':'Oligo', 'OPC':'Oligo',\n",
    "                             'Micro':'Micro','Astro':'Astro','Endo':'Endo','Peri':'Endo',\n",
    "                             'L2/3 IT':'Gluta','L4/5 IT':'Gluta','L5 IT':'Gluta',\n",
    "                             'L6 IT':'Gluta','L5 ET':'Gluta','L6 CT':'Gluta',\n",
    "                             'L5/6 NP':'Gluta','L6b':'Gluta',\n",
    "                             'Vip':'GABA','Pvalb':'GABA',\n",
    "                             'Lamp5':'GABA','Sst':'GABA','Vip':'GABA','Sncg':'GABA',\n",
    "                            }\n",
    "\n",
    "AB_summary_dict = {}\n",
    "for _celltype, _majorType in majorType_2_subclass_dict.items():\n",
    "    _AB_id_list = AB_summary_df[_majorType]\n",
    "    AB_summary_dict [_celltype] = _AB_id_list\n",
    "\n",
    "AB_summary_df = pd.DataFrame(AB_summary_dict)    \n",
    "AB_summary_df.head()"
   ]
  },
  {
   "cell_type": "markdown",
   "id": "a0d6175d",
   "metadata": {},
   "source": [
    "## generate AB vec"
   ]
  },
  {
   "cell_type": "code",
   "execution_count": 15,
   "id": "04d1c351",
   "metadata": {},
   "outputs": [],
   "source": [
    "sort_by_region = False\n",
    "from ImageAnalysis3.structure_tools import distance\n",
    "chr_2_indices, chr_2_orders = distance.Generate_PlotOrder(codebook_df, codebook_df, sort_by_region=sort_by_region)\n",
    "\n",
    "\n",
    "celltype_chr_2_AB_dict = {}\n",
    "for _group in AB_summary_df.columns:\n",
    "    \n",
    "    celltype_AB_dict = {}\n",
    "    celltype_AB_dict['A'] = np.where(np.array(AB_summary_df[_group].tolist())=='A')[0]\n",
    "    celltype_AB_dict['B'] = np.where(np.array(AB_summary_df[_group].tolist())=='B')[0]\n",
    "    # by chr\n",
    "    celltype_chr_2_AB = {}\n",
    "    for _chr in chr_2_indices:\n",
    "        _chr_AB = {\n",
    "            'A':np.array([list(chr_2_indices[_chr]).index(_ind) \n",
    "                          for _ind in np.intersect1d(chr_2_indices[_chr], celltype_AB_dict['A'])], dtype=np.int32),\n",
    "            'B':np.array([list(chr_2_indices[_chr]).index(_ind) \n",
    "                          for _ind in np.intersect1d(chr_2_indices[_chr], celltype_AB_dict['B'])], dtype=np.int32),\n",
    "        }\n",
    "        celltype_chr_2_AB[_chr] = _chr_AB\n",
    "    \n",
    "    # append dict\n",
    "    celltype_chr_2_AB_dict[_group] = celltype_chr_2_AB"
   ]
  },
  {
   "cell_type": "code",
   "execution_count": 16,
   "id": "e8cc0688",
   "metadata": {},
   "outputs": [
    {
     "data": {
      "text/plain": [
       "{'1': {'A': array([ 21,  22,  23,  24,  25,  26,  27,  39,  40,  41,  42,  45,  46,\n",
       "          47,  48,  49,  50,  51,  52,  53,  54,  55,  56,  57,  58,  59,\n",
       "          60,  61,  62,  63,  64,  67,  73,  74,  75,  76,  77,  78,  79,\n",
       "          95,  96,  97,  98,  99, 100, 101, 102, 103, 104, 105, 115, 116,\n",
       "         117, 118, 119, 130, 136, 137, 138, 139, 140, 141, 142, 143, 144,\n",
       "         145, 146, 147, 148, 149, 150, 151, 152]),\n",
       "  'B': array([  0,   1,   2,   3,   4,   5,   6,   7,   8,   9,  10,  11,  12,\n",
       "          13,  14,  15,  16,  17,  18,  19,  20,  28,  29,  30,  31,  32,\n",
       "          33,  34,  35,  36,  37,  38,  43,  44,  65,  66,  68,  69,  70,\n",
       "          71,  72,  80,  81,  82,  83,  84,  85,  86,  87,  88,  89,  90,\n",
       "          91,  92,  93,  94, 106, 107, 108, 109, 110, 111, 112, 113, 114,\n",
       "         120, 121, 122, 123, 124, 125, 126, 127, 128, 129, 131, 132, 133,\n",
       "         134, 135])},\n",
       " '2': {'A': array([  2,   3,  19,  20,  21,  22,  23,  24,  25,  26,  28,  29,  51,\n",
       "          52,  53,  54,  55,  56,  71,  72,  73,  78,  85,  86,  87,  88,\n",
       "          89,  90,  94,  95,  96,  97,  98,  99, 100, 101, 102, 103, 115,\n",
       "         121, 122, 123, 124, 125, 126, 127, 128, 129, 130, 131, 132, 133,\n",
       "         134, 135, 142, 143, 144, 145, 146, 147]),\n",
       "  'B': array([  0,   1,   4,   5,   6,   7,   8,   9,  10,  11,  12,  13,  14,\n",
       "          15,  16,  17,  18,  27,  30,  31,  32,  33,  34,  35,  36,  37,\n",
       "          38,  39,  40,  41,  42,  43,  44,  45,  46,  47,  48,  49,  50,\n",
       "          57,  58,  59,  60,  61,  62,  63,  64,  65,  66,  67,  68,  69,\n",
       "          70,  74,  75,  76,  77,  79,  80,  81,  82,  83,  84,  91,  92,\n",
       "          93, 104, 105, 106, 107, 108, 109, 110, 111, 112, 113, 114, 116,\n",
       "         117, 118, 119, 120, 136, 137, 138, 139, 140, 141])},\n",
       " '3': {'A': array([  8,  11,  13,  15,  17,  18,  19,  20,  21,  22,  23,  24,  25,\n",
       "          26,  27,  37,  39,  40,  60,  61,  62,  63,  64,  65,  66,  67,\n",
       "          70,  71,  72,  73,  74,  75,  76,  77,  78,  79,  80,  81,  82,\n",
       "          83,  84,  85,  86, 105, 106, 107, 108, 110, 115, 118, 119, 121]),\n",
       "  'B': array([  0,   1,   2,   3,   4,   5,   6,   7,   9,  10,  12,  14,  16,\n",
       "          28,  29,  30,  31,  32,  33,  34,  35,  36,  38,  41,  42,  43,\n",
       "          44,  45,  46,  47,  48,  49,  50,  51,  52,  53,  54,  55,  56,\n",
       "          57,  58,  59,  68,  69,  87,  88,  89,  90,  91,  92,  93,  94,\n",
       "          95,  96,  97,  98,  99, 100, 101, 102, 103, 104, 109, 111, 112,\n",
       "         113, 114, 116, 117, 120, 122])},\n",
       " '4': {'A': array([ 31,  32,  33,  34,  35,  36,  37,  80,  85,  86,  87,  88,  89,\n",
       "          90,  91,  92,  93,  94,  95,  96,  97,  98,  99, 100, 101, 102,\n",
       "         103, 104, 105, 106, 107, 108, 109, 110, 111, 112, 113, 114, 115,\n",
       "         116, 117, 118, 119, 120, 121]),\n",
       "  'B': array([ 0,  1,  2,  3,  4,  5,  6,  7,  8,  9, 10, 11, 12, 13, 14, 15, 16,\n",
       "         17, 18, 19, 20, 21, 22, 23, 24, 25, 26, 27, 28, 29, 30, 38, 39, 40,\n",
       "         41, 42, 43, 44, 45, 46, 47, 48, 49, 50, 51, 52, 53, 54, 55, 56, 57,\n",
       "         58, 59, 60, 61, 62, 63, 64, 65, 66, 67, 68, 69, 70, 71, 72, 73, 74,\n",
       "         75, 76, 77, 78, 79, 81, 82, 83, 84])},\n",
       " '5': {'A': array([ 13,  14,  15,  17,  18,  19,  20,  21,  22,  23,  24,  25,  79,\n",
       "          80,  81,  82,  83,  84,  85,  86,  87,  88,  89,  90,  91,  92,\n",
       "          93,  94,  95,  96,  97,  98,  99, 100, 101, 102, 103, 104, 105,\n",
       "         106, 107, 108, 109, 110, 111, 113, 114, 115, 116]),\n",
       "  'B': array([  0,   1,   2,   3,   4,   5,   6,   7,   8,   9,  10,  11,  12,\n",
       "          16,  26,  27,  28,  29,  30,  31,  32,  33,  34,  35,  36,  37,\n",
       "          38,  39,  40,  41,  42,  43,  44,  45,  46,  47,  48,  49,  50,\n",
       "          51,  52,  53,  54,  55,  56,  57,  58,  59,  60,  61,  62,  63,\n",
       "          64,  65,  66,  67,  68,  69,  70,  71,  72,  73,  74,  75,  76,\n",
       "          77,  78, 112, 117, 118])},\n",
       " '6': {'A': array([ 20,  21,  22,  23,  24,  25,  27,  34,  36,  37,  38,  39,  40,\n",
       "          59,  60,  61,  62,  63,  64,  65,  66,  68,  69,  71,  74,  75,\n",
       "          84,  85,  86,  87,  88,  89,  90,  91,  94,  95,  96, 101, 102,\n",
       "         106, 107, 108, 109, 110, 111, 112, 113]),\n",
       "  'B': array([  0,   1,   2,   3,   4,   5,   6,   7,   8,   9,  10,  11,  12,\n",
       "          13,  14,  15,  16,  17,  18,  19,  26,  28,  29,  30,  31,  32,\n",
       "          33,  35,  41,  42,  43,  44,  45,  46,  47,  48,  49,  50,  51,\n",
       "          52,  53,  54,  55,  56,  57,  58,  67,  70,  72,  73,  76,  77,\n",
       "          78,  79,  80,  81,  82,  83,  92,  93,  97,  98,  99, 100, 103,\n",
       "         104, 105])},\n",
       " '7': {'A': array([ 0,  2,  4,  6,  7,  8,  9, 10, 19, 20, 41, 42, 55, 56, 57, 58, 59,\n",
       "         64, 65, 66, 71, 72, 78, 79, 80, 81, 82, 83, 84, 92, 93, 95]),\n",
       "  'B': array([ 1,  3,  5, 11, 12, 13, 14, 15, 16, 17, 18, 21, 22, 23, 24, 25, 26,\n",
       "         27, 28, 29, 30, 31, 32, 33, 34, 35, 36, 37, 38, 39, 40, 43, 44, 45,\n",
       "         46, 47, 48, 49, 50, 51, 52, 53, 54, 60, 61, 62, 63, 67, 68, 69, 70,\n",
       "         73, 74, 75, 76, 77, 85, 86, 87, 88, 89, 90, 91, 94])},\n",
       " '8': {'A': array([  2,   4,   5,   6,   7,   8,   9,  10,  11,  13,  14,  15,  20,\n",
       "          21,  22,  23,  24,  25,  49,  50,  62,  63,  64,  65,  66,  67,\n",
       "          68,  69,  70,  81,  84,  85,  86,  87,  88,  89,  90,  91,  92,\n",
       "          93,  94,  95,  96,  97,  98,  99, 100]),\n",
       "  'B': array([  0,   1,   3,  12,  16,  17,  18,  19,  26,  27,  28,  29,  30,\n",
       "          31,  32,  33,  34,  35,  36,  37,  38,  39,  40,  41,  42,  43,\n",
       "          44,  45,  46,  47,  48,  51,  52,  53,  54,  55,  56,  57,  58,\n",
       "          59,  60,  61,  71,  72,  73,  74,  75,  76,  77,  78,  79,  80,\n",
       "          82,  83, 101])},\n",
       " '9': {'A': array([ 11,  17,  25,  26,  27,  28,  29,  30,  31,  32,  33,  34,  35,\n",
       "          36,  37,  38,  39,  40,  41,  42,  43,  44,  45,  46,  47,  48,\n",
       "          49,  50,  51,  52,  53,  54,  81,  82,  83,  84,  85,  86,  87,\n",
       "          88,  90,  91,  92,  94,  95,  96,  97,  98,  99, 100]),\n",
       "  'B': array([  0,   1,   2,   3,   4,   5,   6,   7,   8,   9,  10,  12,  13,\n",
       "          14,  15,  16,  18,  19,  20,  21,  22,  23,  24,  55,  56,  57,\n",
       "          58,  59,  60,  61,  62,  63,  64,  65,  66,  67,  68,  69,  70,\n",
       "          71,  72,  73,  74,  75,  76,  77,  78,  79,  80,  89,  93, 101])},\n",
       " '10': {'A': array([  0,   1,   3,   4,   5,  29,  30,  31,  32,  33,  45,  46,  47,\n",
       "          48,  49,  50,  51,  53,  55,  57,  58,  59,  60,  61,  62,  63,\n",
       "          64,  65,  66,  67,  68,  69,  70,  71,  72,  73,  74,  77, 102,\n",
       "         103, 104, 105, 106, 107, 108, 109, 110, 111, 112, 113, 114, 115,\n",
       "         116]),\n",
       "  'B': array([  2,   6,   7,   8,   9,  10,  11,  12,  13,  14,  15,  16,  17,\n",
       "          18,  19,  20,  21,  22,  23,  24,  25,  26,  27,  28,  34,  35,\n",
       "          36,  37,  38,  39,  40,  41,  42,  43,  44,  52,  54,  56,  75,\n",
       "          76,  78,  79,  80,  81,  82,  83,  84,  85,  86,  87,  88,  89,\n",
       "          90,  91,  92,  93,  94,  95,  96,  97,  98,  99, 100, 101])},\n",
       " '11': {'A': array([  0,   1,   2,   3,   4,  40,  41,  42,  43,  44,  45,  46,  47,\n",
       "          48,  49,  50,  51,  52,  56,  57,  58,  59,  60,  61,  62,  63,\n",
       "          64,  65,  67,  68,  69,  70,  71,  72,  73,  74,  75,  76,  77,\n",
       "          81,  82,  83,  84,  85,  86,  87,  88,  89,  90,  91, 100, 101,\n",
       "         102, 103, 104, 105]),\n",
       "  'B': array([ 5,  6,  7,  8,  9, 10, 11, 12, 13, 14, 15, 16, 17, 18, 19, 20, 21,\n",
       "         22, 23, 24, 25, 26, 27, 28, 29, 30, 31, 32, 33, 34, 35, 36, 37, 38,\n",
       "         39, 53, 54, 55, 66, 78, 79, 80, 92, 93, 94, 95, 96, 97, 98, 99])},\n",
       " '12': {'A': array([ 0,  1,  3,  4,  5,  6,  7,  8,  9, 10, 11, 12, 13, 14, 15, 16, 32,\n",
       "         41, 42, 43, 44, 45, 46, 47, 48, 49, 50, 51, 52, 53, 54, 55, 56, 57,\n",
       "         58, 59, 60, 61, 65, 67, 68, 69, 70, 71, 72]),\n",
       "  'B': array([ 2, 17, 18, 19, 20, 21, 22, 23, 24, 25, 26, 27, 28, 29, 30, 31, 33,\n",
       "         34, 35, 36, 37, 38, 39, 40, 62, 63, 64, 66, 73, 74, 75, 76, 77])},\n",
       " '13': {'A': array([ 0,  1,  2,  3,  4,  5,  6,  7, 15, 16, 21, 22, 23, 24, 25, 26, 27,\n",
       "         28, 29, 30, 31, 32, 33, 34, 35, 36, 37, 38, 39, 40, 41, 42, 43, 44,\n",
       "         45, 46, 47, 48, 49, 50, 51, 52, 53, 71, 72, 91]),\n",
       "  'B': array([ 8,  9, 10, 11, 12, 13, 14, 17, 18, 19, 20, 54, 55, 56, 57, 58, 59,\n",
       "         60, 61, 62, 63, 64, 65, 66, 67, 68, 69, 70, 73, 74, 75, 76, 77, 78,\n",
       "         79, 80, 81, 82, 83, 84, 85, 86, 87, 88, 89, 90])},\n",
       " '14': {'A': array([ 7,  8,  9, 10, 11, 12, 13, 14, 15, 16, 17, 18, 31, 32, 33, 34, 35,\n",
       "         36, 37, 38, 39, 40, 41, 42, 43, 44, 45, 46, 47, 48, 49, 50, 51, 53,\n",
       "         54, 55, 56, 57, 58, 59, 60, 76, 89, 90, 91, 92, 93]),\n",
       "  'B': array([ 0,  1,  2,  3,  4,  5,  6, 19, 20, 21, 22, 23, 24, 25, 26, 27, 28,\n",
       "         29, 30, 52, 61, 62, 63, 64, 65, 66, 67, 68, 69, 70, 71, 72, 73, 74,\n",
       "         75, 77, 78, 79, 80, 81, 82, 83, 84, 85, 86, 87, 88])},\n",
       " '15': {'A': array([ 3, 20, 23, 24, 49, 50, 51, 52, 53, 54, 55, 56, 57, 58, 59, 60, 61,\n",
       "         62, 63, 64, 65, 66, 67, 68, 70, 71, 72, 73, 74, 75]),\n",
       "  'B': array([ 0,  1,  2,  4,  5,  6,  7,  8,  9, 10, 11, 12, 13, 14, 15, 16, 17,\n",
       "         18, 19, 21, 22, 25, 26, 27, 28, 29, 30, 31, 32, 33, 34, 35, 36, 37,\n",
       "         38, 39, 40, 41, 42, 43, 44, 45, 46, 47, 48, 69, 76, 77])},\n",
       " '16': {'A': array([ 0,  1,  2,  3,  4,  5,  6,  7,  8,  9, 10, 11, 12, 13, 14, 15, 16,\n",
       "         18, 19, 20, 21, 22, 23, 24, 25, 26, 27, 30, 31, 32, 33, 34, 37, 67,\n",
       "         68, 69, 70, 71, 72, 73, 74, 75]),\n",
       "  'B': array([17, 28, 29, 35, 36, 38, 39, 40, 41, 42, 43, 44, 45, 46, 47, 48, 49,\n",
       "         50, 51, 52, 53, 54, 55, 56, 57, 58, 59, 60, 61, 62, 63, 64, 65, 66])},\n",
       " '17': {'A': array([ 1,  2,  3,  4, 12, 13, 14, 15, 16, 17, 18, 19, 20, 25, 26, 27, 28,\n",
       "         40, 47, 48, 49, 50, 51, 52, 53, 56, 57, 58, 59, 60, 61, 62, 63]),\n",
       "  'B': array([ 0,  5,  6,  7,  8,  9, 10, 11, 21, 22, 23, 24, 29, 30, 31, 32, 33,\n",
       "         34, 35, 36, 37, 38, 39, 41, 42, 43, 44, 45, 46, 54, 55, 64, 65, 66,\n",
       "         67, 68, 69])},\n",
       " '18': {'A': array([ 0,  1,  2,  4, 15, 22, 23, 24, 25, 26, 27, 28, 29, 31, 38, 40, 41,\n",
       "         42, 43, 44, 45, 46, 47, 48, 49, 50, 51, 52, 53, 54, 55, 56, 57, 59,\n",
       "         60]),\n",
       "  'B': array([ 3,  5,  6,  7,  8,  9, 10, 11, 12, 13, 14, 16, 17, 18, 19, 20, 21,\n",
       "         30, 32, 33, 34, 35, 36, 37, 39, 58, 61, 62, 63, 64, 65, 66, 67])},\n",
       " '19': {'A': array([ 0,  2,  3,  4,  5,  6, 23, 24, 25, 26, 27, 28, 29, 30, 31, 32, 37,\n",
       "         44, 45, 46, 47, 54]),\n",
       "  'B': array([ 1,  7,  8,  9, 10, 11, 12, 13, 14, 15, 16, 17, 18, 19, 20, 21, 22,\n",
       "         33, 34, 35, 36, 38, 39, 40, 41, 42, 43, 48, 49, 50, 51, 52, 53, 55,\n",
       "         56, 57, 58])},\n",
       " 'X': {'A': array([], dtype=int32), 'B': array([], dtype=int32)},\n",
       " 'Y': {'A': array([], dtype=int32), 'B': array([], dtype=int32)}}"
      ]
     },
     "execution_count": 16,
     "metadata": {},
     "output_type": "execute_result"
    }
   ],
   "source": [
    "celltype_chr_2_AB_dict[_group]"
   ]
  },
  {
   "cell_type": "markdown",
   "id": "9ce87b5c",
   "metadata": {},
   "source": [
    "# Calculate AB (or transcription activity) score and density ratio"
   ]
  },
  {
   "cell_type": "markdown",
   "id": "67998366",
   "metadata": {},
   "source": [
    "## load chr2zxy at subclass level"
   ]
  },
  {
   "cell_type": "markdown",
   "id": "ccca0e27",
   "metadata": {},
   "source": [
    "\n",
    "\n",
    "Data can be generated from using the notebook\n",
    "\n",
    "[preprocess/2_dna_merfish/scripts/2_spot_pick/4_summarize_jie_to_dict](../../preprocess/2_dna_merfish/scripts/2_spot_pick/4_summarize_jie_to_dict.ipynb)"
   ]
  },
  {
   "cell_type": "code",
   "execution_count": 19,
   "id": "e1d30b59",
   "metadata": {},
   "outputs": [],
   "source": [
    "class_2_chr2Zxys_filename = os.path.join(input_folder, 'subclass_2_chr2Zxys.pkl')\n",
    "class_2_chr2ZxysList = pickle.load(open(class_2_chr2Zxys_filename, 'rb'))"
   ]
  },
  {
   "cell_type": "code",
   "execution_count": 20,
   "id": "0a5a55c3",
   "metadata": {},
   "outputs": [
    {
     "data": {
      "text/plain": [
       "<module 'ImageAnalysis3.compartment_tools.density' from 'C:\\\\Users\\\\shiwei\\\\Documents\\\\ImageAnalysis3\\\\compartment_tools\\\\density.py'>"
      ]
     },
     "execution_count": 20,
     "metadata": {},
     "output_type": "execute_result"
    }
   ],
   "source": [
    "from tqdm import tqdm\n",
    "from ImageAnalysis3.compartment_tools.density import BatchCompartmentDensities\n",
    "reload(ia.compartment_tools.density)"
   ]
  },
  {
   "cell_type": "code",
   "execution_count": 21,
   "id": "be18d92e",
   "metadata": {},
   "outputs": [
    {
     "data": {
      "text/plain": [
       "<module 'ImageAnalysis3.compartment_tools.density' from 'C:\\\\Users\\\\shiwei\\\\Documents\\\\ImageAnalysis3\\\\compartment_tools\\\\density.py'>"
      ]
     },
     "execution_count": 21,
     "metadata": {},
     "output_type": "execute_result"
    }
   ],
   "source": [
    "reload(ia.compartment_tools.density)"
   ]
  },
  {
   "cell_type": "code",
   "execution_count": 22,
   "id": "abd4f995",
   "metadata": {},
   "outputs": [
    {
     "data": {
      "text/plain": [
       "dict_keys(['Oligo', 'L5 IT', 'Micro', 'Peri', 'Endo', 'Astro', 'OPC', 'L6 CT', 'L5 ET', 'L5/6 NP', 'Pvalb', 'L6 IT', 'Lamp5', 'L6b', 'Sst', 'SMC', 'L4/5 IT', 'L2/3 IT', 'Vip', 'Sncg', 'VLMC'])"
      ]
     },
     "execution_count": 22,
     "metadata": {},
     "output_type": "execute_result"
    }
   ],
   "source": [
    "class_2_chr2ZxysList.keys()"
   ]
  },
  {
   "cell_type": "markdown",
   "id": "04799ddc",
   "metadata": {},
   "source": [
    "## calculate AB density score"
   ]
  },
  {
   "cell_type": "code",
   "execution_count": 23,
   "id": "c180cd9e",
   "metadata": {},
   "outputs": [
    {
     "name": "stdout",
     "output_type": "stream",
     "text": [
      "Oligo in 349.78s. \n",
      "OPC in 68.80s. \n",
      "Micro in 87.52s. \n",
      "Astro in 136.62s. \n",
      "Endo in 109.79s. \n",
      "Peri in 59.74s. \n",
      "L2/3 IT in 155.76s. \n",
      "L4/5 IT in 165.11s. \n",
      "L5 IT in 138.70s. \n",
      "L6 IT in 129.82s. \n",
      "L5 ET in 58.84s. \n",
      "L6 CT in 294.02s. \n",
      "L5/6 NP in 49.96s. \n",
      "L6b in 59.47s. \n",
      "Vip in 29.54s. \n",
      "Pvalb in 70.81s. \n",
      "Lamp5 in 35.85s. \n",
      "Sst in 54.87s. \n",
      "Sncg in 18.64s. \n"
     ]
    }
   ],
   "source": [
    "gaussian_radius = 0.5 # um\n",
    "normalize_by_reg_num = False\n",
    "num_threads= 30\n",
    "\n",
    "class_2_ScoreDicts = {}\n",
    "\n",
    "for _sel_class in celltype_chr_2_AB_dict.keys():\n",
    "    celltype_chr_2_AB = celltype_chr_2_AB_dict[_sel_class]\n",
    "    \n",
    "    print(_sel_class, end =' ')\n",
    "    _class_start = time.time()\n",
    "\n",
    "    class_2_ScoreDicts[_sel_class] = BatchCompartmentDensities(\n",
    "        class_2_chr2ZxysList[_sel_class], celltype_chr_2_AB, \n",
    "        gaussian_radius, num_threads=num_threads,\n",
    "        normalize_by_reg_num=normalize_by_reg_num,\n",
    "        use_cis=False, use_trans=True)\n",
    "    \n",
    "    print(f\"in {time.time()-_class_start:.2f}s. \")"
   ]
  },
  {
   "cell_type": "code",
   "execution_count": 24,
   "id": "3c4cd913",
   "metadata": {},
   "outputs": [
    {
     "name": "stdout",
     "output_type": "stream",
     "text": [
      "L:\\Shiwei\\postanalysis_2024\\v0\\compartment_transcription\\analysis\\AB_trans_scores_notNorm_r0.5_bymajorType_by_pm.pkl\n"
     ]
    }
   ],
   "source": [
    "# save result\n",
    "ABscores_ensemble_filename = os.path.join(output_analysis_folder, f'AB_trans_scores_notNorm_r{gaussian_radius}_bymajorType_by_pm.pkl')\n",
    "if not os.path.exists(ABscores_ensemble_filename):\n",
    "    print(ABscores_ensemble_filename)\n",
    "    pickle.dump(class_2_ScoreDicts, open(ABscores_ensemble_filename, 'wb'))"
   ]
  },
  {
   "cell_type": "markdown",
   "id": "bf4c819a",
   "metadata": {},
   "source": [
    "## calculate AB density ratio"
   ]
  },
  {
   "cell_type": "code",
   "execution_count": 25,
   "id": "f1b6fc68",
   "metadata": {},
   "outputs": [
    {
     "name": "stdout",
     "output_type": "stream",
     "text": [
      "Oligo 6605\n"
     ]
    },
    {
     "name": "stderr",
     "output_type": "stream",
     "text": [
      "C:\\Users\\shiwei\\AppData\\Local\\Temp\\3\\ipykernel_18008\\4226036222.py:11: RuntimeWarning: divide by zero encountered in log\n",
      "  _AB_ratios = np.log(_chr_AB_dict['A']) - np.log(_chr_AB_dict['B'])\n",
      "C:\\Users\\shiwei\\AppData\\Local\\Temp\\3\\ipykernel_18008\\4226036222.py:11: RuntimeWarning: invalid value encountered in subtract\n",
      "  _AB_ratios = np.log(_chr_AB_dict['A']) - np.log(_chr_AB_dict['B'])\n"
     ]
    },
    {
     "name": "stdout",
     "output_type": "stream",
     "text": [
      "OPC 1452\n",
      "Micro 1836\n",
      "Astro 4970\n",
      "Endo 3738\n",
      "Peri 957\n",
      "L2/3 IT 3966\n",
      "L4/5 IT 3388\n",
      "L5 IT 3337\n",
      "L6 IT 2428\n",
      "L5 ET 1624\n",
      "L6 CT 5602\n",
      "L5/6 NP 784\n",
      "L6b 1044\n",
      "Vip 422\n",
      "Pvalb 1317\n",
      "Lamp5 540\n",
      "Sst 1031\n",
      "Sncg 173\n"
     ]
    }
   ],
   "source": [
    "# convert into dict\n",
    "class_2_ABRatioDicts = {}\n",
    "# loop\n",
    "for _class, _scoreDicts in class_2_ScoreDicts.items():\n",
    "    print(_class, len(_scoreDicts))\n",
    "    \n",
    "    _ABratioDicts = [] \n",
    "    for _scoreDict in _scoreDicts:\n",
    "        _chr_2_abratios = {}\n",
    "        for _chr, _chr_AB_dict in _scoreDict.items():\n",
    "            _AB_ratios = np.log(_chr_AB_dict['A']) - np.log(_chr_AB_dict['B'])\n",
    "            _chr_2_abratios[_chr] = _AB_ratios\n",
    "        # append\n",
    "        _ABratioDicts.append(_chr_2_abratios)\n",
    "    # assign\n",
    "    class_2_ABRatioDicts[_class] = _ABratioDicts"
   ]
  },
  {
   "cell_type": "code",
   "execution_count": 26,
   "id": "33993b07",
   "metadata": {},
   "outputs": [
    {
     "name": "stdout",
     "output_type": "stream",
     "text": [
      "L:\\Shiwei\\postanalysis_2024\\v0\\compartment_transcription\\analysis\\AB_trans_ratio_notNorm_r0.5_bymajorType_by_pm.pkl\n"
     ]
    }
   ],
   "source": [
    "ABratio_ensemble_filename = os.path.join(output_analysis_folder, f'AB_trans_ratio_notNorm_r{gaussian_radius}_bymajorType_by_pm.pkl')\n",
    "if not os.path.exists(ABratio_ensemble_filename):\n",
    "    print(ABratio_ensemble_filename)\n",
    "    pickle.dump(class_2_ABRatioDicts, open(ABratio_ensemble_filename, 'wb'))"
   ]
  }
 ],
 "metadata": {
  "kernelspec": {
   "display_name": "Python 3 (ipykernel)",
   "language": "python",
   "name": "python3"
  },
  "language_info": {
   "codemirror_mode": {
    "name": "ipython",
    "version": 3
   },
   "file_extension": ".py",
   "mimetype": "text/x-python",
   "name": "python",
   "nbconvert_exporter": "python",
   "pygments_lexer": "ipython3",
   "version": "3.10.8"
  },
  "toc": {
   "base_numbering": 1,
   "nav_menu": {},
   "number_sections": true,
   "sideBar": true,
   "skip_h1_title": false,
   "title_cell": "Table of Contents",
   "title_sidebar": "Contents",
   "toc_cell": false,
   "toc_position": {},
   "toc_section_display": true,
   "toc_window_display": true
  }
 },
 "nbformat": 4,
 "nbformat_minor": 5
}
