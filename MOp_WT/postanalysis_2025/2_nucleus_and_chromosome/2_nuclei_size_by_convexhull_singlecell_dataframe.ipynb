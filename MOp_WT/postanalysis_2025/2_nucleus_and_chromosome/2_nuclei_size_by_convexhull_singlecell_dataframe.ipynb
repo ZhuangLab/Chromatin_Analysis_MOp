{
 "cells": [
  {
   "cell_type": "markdown",
   "id": "75c4e381",
   "metadata": {},
   "source": [
    "# Import module"
   ]
  },
  {
   "cell_type": "markdown",
   "id": "14a33d3e",
   "metadata": {},
   "source": [
    "The link to get [ImageAnalysis3](https://github.com/zhengpuas47/ImageAnalysis3) \n",
    "\n",
    "Or from the Zhuang lab archived [source_tools](https://github.com/ZhuangLab/Chromatin_Analysis_2020_cell/tree/master/sequential_tracing/source)"
   ]
  },
  {
   "cell_type": "markdown",
   "id": "b411cc21",
   "metadata": {},
   "source": [
    "## ImageAnalysis3 and basic modules"
   ]
  },
  {
   "cell_type": "code",
   "execution_count": 2,
   "id": "32554ab1",
   "metadata": {},
   "outputs": [
    {
     "name": "stdout",
     "output_type": "stream",
     "text": [
      "19016\n"
     ]
    }
   ],
   "source": [
    "%run \"C:\\Users\\shiwei\\Documents\\ImageAnalysis3\\required_files\\Startup_py3.py\"\n",
    "sys.path.append(r\"C:\\Users\\shiwei\\Documents\")\n",
    "\n",
    "import ImageAnalysis3 as ia\n",
    "from ImageAnalysis3 import *\n",
    "from ImageAnalysis3.classes import _allowed_kwds\n",
    "\n",
    "import h5py\n",
    "import ast\n",
    "import pandas as pd\n",
    "\n",
    "print(os.getpid())"
   ]
  },
  {
   "cell_type": "markdown",
   "id": "f5f8cd77",
   "metadata": {},
   "source": [
    "## Chromatin_analysis_tools etc"
   ]
  },
  {
   "cell_type": "markdown",
   "id": "2db5036f",
   "metadata": {},
   "source": [
    "See **functions** in the repository for [AnalysisTool_Chromatin](../../README.md)"
   ]
  },
  {
   "cell_type": "code",
   "execution_count": 3,
   "id": "9469aba8",
   "metadata": {},
   "outputs": [
    {
     "data": {
      "text/plain": [
       "<module 'atac_to_loci' from 'C:\\\\Users\\\\shiwei\\\\Documents\\\\AnalysisTool_Chromatin\\\\atac_to_loci.py'>"
      ]
     },
     "execution_count": 3,
     "metadata": {},
     "output_type": "execute_result"
    }
   ],
   "source": [
    "# Chromatin_analysis_tools (ATC)\n",
    "# Get path for the py containing functions\n",
    "import os\n",
    "import sys\n",
    "import importlib\n",
    "module_path =r'C:\\Users\\shiwei\\Documents\\AnalysisTool_Chromatin'\n",
    "if module_path not in sys.path:\n",
    "    sys.path.append(module_path)\n",
    "    \n",
    "# import relevant modules\n",
    "import gene_selection \n",
    "importlib.reload(gene_selection)\n",
    "import gene_to_loci\n",
    "importlib.reload(gene_to_loci)\n",
    "import gene_activity\n",
    "importlib.reload(gene_activity)\n",
    "import loci_1d_features\n",
    "importlib.reload(loci_1d_features)  \n",
    "\n",
    "import atac_to_loci\n",
    "importlib.reload(atac_to_loci)"
   ]
  },
  {
   "cell_type": "markdown",
   "id": "aa08c6de",
   "metadata": {},
   "source": [
    "# Define folders"
   ]
  },
  {
   "cell_type": "code",
   "execution_count": 4,
   "id": "2c8dce53",
   "metadata": {},
   "outputs": [
    {
     "name": "stdout",
     "output_type": "stream",
     "text": [
      "Use existing analysis folder: L:\\Shiwei\\postanalysis_2024\\v0\\nucleus_and_chromosome\\analysis.\n",
      "Use existing figure folder: L:\\Shiwei\\postanalysis_2024\\v0\\nucleus_and_chromosome\\figures.\n"
     ]
    }
   ],
   "source": [
    "# main folder for postanalysis\n",
    "postanalysis_folder = r'L:\\Shiwei\\postanalysis_2024\\v0'\n",
    "# input files for postanalysis\n",
    "input_folder = os.path.join(postanalysis_folder, 'resources_from_preprocess')\n",
    "\n",
    "# output file to be generated\n",
    "output_main_folder = os.path.join(postanalysis_folder, 'nucleus_and_chromosome')\n",
    "\n",
    "output_analysis_folder = os.path.join(output_main_folder, 'analysis')\n",
    "output_figure_folder = os.path.join(output_main_folder, 'figures')\n",
    "\n",
    "# make new folder if needed\n",
    "make_output_folder = True\n",
    "\n",
    "if make_output_folder and not os.path.exists(output_analysis_folder):\n",
    "    os.makedirs(output_analysis_folder)\n",
    "    print(f'Generating analysis folder: {output_analysis_folder}.')\n",
    "elif os.path.exists(output_analysis_folder):\n",
    "    print(f'Use existing analysis folder: {output_analysis_folder}.')\n",
    "    \n",
    "if make_output_folder and not os.path.exists(output_figure_folder):\n",
    "    os.makedirs(output_figure_folder)\n",
    "    print(f'Generating figure folder: {output_figure_folder}.')\n",
    "elif os.path.exists(output_figure_folder):\n",
    "    print(f'Use existing figure folder: {output_figure_folder}.')"
   ]
  },
  {
   "cell_type": "markdown",
   "id": "43745cf2",
   "metadata": {},
   "source": [
    "# Plotting parameters"
   ]
  },
  {
   "cell_type": "code",
   "execution_count": 5,
   "id": "fb1e3324",
   "metadata": {},
   "outputs": [],
   "source": [
    "%matplotlib inline\n",
    "import matplotlib\n",
    "matplotlib.rcParams['pdf.fonttype'] = 42\n",
    "import matplotlib.pyplot as plt\n",
    "plt.rc('font', family='serif')\n",
    "plt.rc('font', serif='Arial')\n",
    "\n",
    "from ImageAnalysis3.figure_tools import _double_col_width, _single_col_width, _font_size, _ticklabel_size,_ticklabel_width\n",
    "\n",
    "import seaborn as sns\n",
    "sns.set_context(\"paper\", rc={\"font.size\":_font_size,\"axes.titlesize\":_font_size+1,\"axes.labelsize\":_font_size})  "
   ]
  },
  {
   "cell_type": "code",
   "execution_count": 6,
   "id": "bc310b7e",
   "metadata": {},
   "outputs": [],
   "source": [
    "# Other required plotting parameters\n",
    "_dpi = 300\n",
    "_font_size = 7\n",
    "_page_width = 5.5\n"
   ]
  },
  {
   "cell_type": "markdown",
   "id": "a1d34726",
   "metadata": {},
   "source": [
    "## cell type color-codes"
   ]
  },
  {
   "cell_type": "code",
   "execution_count": 7,
   "id": "c33943dd",
   "metadata": {},
   "outputs": [],
   "source": [
    "# cell labels from RNA-MERFISH and celltype prediction\n",
    "selected_cell_labels = ['L2/3 IT','L4/5 IT','L5 IT','L6 IT','L5 ET','L5/6 NP','L6 CT','L6b',\n",
    "                           'Sst','Pvalb','Lamp5','Sncg','Vip',\n",
    "                           'Astro','Oligo','OPC','Micro','Endo','VLMC','SMC','Peri', \n",
    "                           #'other',\n",
    "                          ]\n",
    "# cell palette from RNA-MERFISH UMAP and stats\n",
    "celltype_palette = {'Astro':'lightcoral', \n",
    "                    'Endo':'skyblue', \n",
    "                    'L2/3 IT':'gold', \n",
    "                    'L4/5 IT':'darkorange', \n",
    "                    'L5 ET':'mediumseagreen', \n",
    "                    'L5 IT':'aqua',\n",
    "                    'L5/6 NP':'darkgreen',\n",
    "                    'L6 CT':'brown',\n",
    "                    'L6 IT':'magenta',\n",
    "                    'L6b':'blue', \n",
    "                    'Lamp5':'orange', \n",
    "                    'Micro':'peachpuff',\n",
    "                    'OPC':'thistle', \n",
    "                    'Oligo':'darkviolet',\n",
    "                    'Peri':'sandybrown',\n",
    "                    'Pvalb':'springgreen',\n",
    "                    'SMC':'rosybrown',\n",
    "                    'Sncg':'darkkhaki',\n",
    "                    'Sst':'steelblue', \n",
    "                    'VLMC':'saddlebrown', \n",
    "                    'Vip':'red',\n",
    "                    'other':'slategray'}\n"
   ]
  },
  {
   "cell_type": "code",
   "execution_count": 8,
   "id": "caad6887",
   "metadata": {},
   "outputs": [],
   "source": [
    "# this is the plotting order noted based on the snRNA transcriptional acitivty if needed\n",
    "sorted_cellplot_order_byRNA = ['Micro', 'Oligo', 'Endo', 'OPC', 'Astro', 'Vip', 'Lamp5',\n",
    "                  'L5/6 NP', 'Sst', 'Sncg', 'Pvalb', 'L4/5 IT', 'L6 CT',\n",
    "                  'L6 IT', 'L6b', 'L2/3 IT', 'L5 IT', 'L5 ET']"
   ]
  },
  {
   "cell_type": "markdown",
   "id": "b00f58f0",
   "metadata": {},
   "source": [
    "# Load data relevant information"
   ]
  },
  {
   "cell_type": "markdown",
   "id": "7e667606",
   "metadata": {},
   "source": [
    "## load and format codebook"
   ]
  },
  {
   "cell_type": "markdown",
   "id": "6b8440c6",
   "metadata": {},
   "source": [
    "[merged codebook](../resources/merged_codebook.csv) as in the repository (merged for all DNA-MERFISH libraries)"
   ]
  },
  {
   "cell_type": "code",
   "execution_count": 9,
   "id": "c0734aad",
   "metadata": {},
   "outputs": [
    {
     "data": {
      "text/html": [
       "<div>\n",
       "<style scoped>\n",
       "    .dataframe tbody tr th:only-of-type {\n",
       "        vertical-align: middle;\n",
       "    }\n",
       "\n",
       "    .dataframe tbody tr th {\n",
       "        vertical-align: top;\n",
       "    }\n",
       "\n",
       "    .dataframe thead th {\n",
       "        text-align: right;\n",
       "    }\n",
       "</style>\n",
       "<table border=\"1\" class=\"dataframe\">\n",
       "  <thead>\n",
       "    <tr style=\"text-align: right;\">\n",
       "      <th></th>\n",
       "      <th>name</th>\n",
       "      <th>id</th>\n",
       "      <th>NDB_784</th>\n",
       "      <th>NDB_755</th>\n",
       "      <th>NDB_826</th>\n",
       "      <th>NDB_713</th>\n",
       "      <th>NDB_865</th>\n",
       "      <th>NDB_725</th>\n",
       "      <th>NDB_817</th>\n",
       "      <th>NDB_710</th>\n",
       "      <th>...</th>\n",
       "      <th>NDB_479</th>\n",
       "      <th>NDB_562</th>\n",
       "      <th>NDB_608</th>\n",
       "      <th>NDB_460</th>\n",
       "      <th>NDB_563</th>\n",
       "      <th>NDB_592</th>\n",
       "      <th>NDB_368</th>\n",
       "      <th>NDB_436</th>\n",
       "      <th>NDB_629</th>\n",
       "      <th>NDB_604</th>\n",
       "    </tr>\n",
       "  </thead>\n",
       "  <tbody>\n",
       "    <tr>\n",
       "      <th>0</th>\n",
       "      <td>1:3742742-3759944</td>\n",
       "      <td>1</td>\n",
       "      <td>0.0</td>\n",
       "      <td>0.0</td>\n",
       "      <td>0.0</td>\n",
       "      <td>0.0</td>\n",
       "      <td>0.0</td>\n",
       "      <td>0.0</td>\n",
       "      <td>0.0</td>\n",
       "      <td>0.0</td>\n",
       "      <td>...</td>\n",
       "      <td>0.0</td>\n",
       "      <td>0.0</td>\n",
       "      <td>0.0</td>\n",
       "      <td>0.0</td>\n",
       "      <td>0.0</td>\n",
       "      <td>0.0</td>\n",
       "      <td>0.0</td>\n",
       "      <td>0.0</td>\n",
       "      <td>0.0</td>\n",
       "      <td>0.0</td>\n",
       "    </tr>\n",
       "    <tr>\n",
       "      <th>1</th>\n",
       "      <td>1:6245958-6258969</td>\n",
       "      <td>2</td>\n",
       "      <td>0.0</td>\n",
       "      <td>0.0</td>\n",
       "      <td>0.0</td>\n",
       "      <td>0.0</td>\n",
       "      <td>0.0</td>\n",
       "      <td>0.0</td>\n",
       "      <td>0.0</td>\n",
       "      <td>0.0</td>\n",
       "      <td>...</td>\n",
       "      <td>0.0</td>\n",
       "      <td>0.0</td>\n",
       "      <td>0.0</td>\n",
       "      <td>0.0</td>\n",
       "      <td>0.0</td>\n",
       "      <td>0.0</td>\n",
       "      <td>0.0</td>\n",
       "      <td>0.0</td>\n",
       "      <td>0.0</td>\n",
       "      <td>0.0</td>\n",
       "    </tr>\n",
       "    <tr>\n",
       "      <th>2</th>\n",
       "      <td>1:8740008-8759916</td>\n",
       "      <td>3</td>\n",
       "      <td>0.0</td>\n",
       "      <td>0.0</td>\n",
       "      <td>0.0</td>\n",
       "      <td>0.0</td>\n",
       "      <td>0.0</td>\n",
       "      <td>0.0</td>\n",
       "      <td>0.0</td>\n",
       "      <td>0.0</td>\n",
       "      <td>...</td>\n",
       "      <td>0.0</td>\n",
       "      <td>0.0</td>\n",
       "      <td>0.0</td>\n",
       "      <td>0.0</td>\n",
       "      <td>0.0</td>\n",
       "      <td>0.0</td>\n",
       "      <td>0.0</td>\n",
       "      <td>0.0</td>\n",
       "      <td>0.0</td>\n",
       "      <td>0.0</td>\n",
       "    </tr>\n",
       "    <tr>\n",
       "      <th>1016</th>\n",
       "      <td>1:9627926-9637875</td>\n",
       "      <td>1</td>\n",
       "      <td>0.0</td>\n",
       "      <td>0.0</td>\n",
       "      <td>0.0</td>\n",
       "      <td>0.0</td>\n",
       "      <td>0.0</td>\n",
       "      <td>0.0</td>\n",
       "      <td>0.0</td>\n",
       "      <td>0.0</td>\n",
       "      <td>...</td>\n",
       "      <td>0.0</td>\n",
       "      <td>0.0</td>\n",
       "      <td>0.0</td>\n",
       "      <td>0.0</td>\n",
       "      <td>0.0</td>\n",
       "      <td>0.0</td>\n",
       "      <td>0.0</td>\n",
       "      <td>0.0</td>\n",
       "      <td>0.0</td>\n",
       "      <td>0.0</td>\n",
       "    </tr>\n",
       "    <tr>\n",
       "      <th>1017</th>\n",
       "      <td>1:9799472-9811359</td>\n",
       "      <td>2</td>\n",
       "      <td>0.0</td>\n",
       "      <td>0.0</td>\n",
       "      <td>0.0</td>\n",
       "      <td>0.0</td>\n",
       "      <td>0.0</td>\n",
       "      <td>0.0</td>\n",
       "      <td>0.0</td>\n",
       "      <td>0.0</td>\n",
       "      <td>...</td>\n",
       "      <td>0.0</td>\n",
       "      <td>0.0</td>\n",
       "      <td>0.0</td>\n",
       "      <td>0.0</td>\n",
       "      <td>0.0</td>\n",
       "      <td>1.0</td>\n",
       "      <td>0.0</td>\n",
       "      <td>0.0</td>\n",
       "      <td>0.0</td>\n",
       "      <td>0.0</td>\n",
       "    </tr>\n",
       "  </tbody>\n",
       "</table>\n",
       "<p>5 rows × 228 columns</p>\n",
       "</div>"
      ],
      "text/plain": [
       "                   name id  NDB_784  NDB_755  NDB_826  NDB_713  NDB_865  \\\n",
       "0     1:3742742-3759944  1      0.0      0.0      0.0      0.0      0.0   \n",
       "1     1:6245958-6258969  2      0.0      0.0      0.0      0.0      0.0   \n",
       "2     1:8740008-8759916  3      0.0      0.0      0.0      0.0      0.0   \n",
       "1016  1:9627926-9637875  1      0.0      0.0      0.0      0.0      0.0   \n",
       "1017  1:9799472-9811359  2      0.0      0.0      0.0      0.0      0.0   \n",
       "\n",
       "      NDB_725  NDB_817  NDB_710  ...  NDB_479  NDB_562  NDB_608  NDB_460  \\\n",
       "0         0.0      0.0      0.0  ...      0.0      0.0      0.0      0.0   \n",
       "1         0.0      0.0      0.0  ...      0.0      0.0      0.0      0.0   \n",
       "2         0.0      0.0      0.0  ...      0.0      0.0      0.0      0.0   \n",
       "1016      0.0      0.0      0.0  ...      0.0      0.0      0.0      0.0   \n",
       "1017      0.0      0.0      0.0  ...      0.0      0.0      0.0      0.0   \n",
       "\n",
       "      NDB_563  NDB_592  NDB_368  NDB_436  NDB_629  NDB_604  \n",
       "0         0.0      0.0      0.0      0.0      0.0      0.0  \n",
       "1         0.0      0.0      0.0      0.0      0.0      0.0  \n",
       "2         0.0      0.0      0.0      0.0      0.0      0.0  \n",
       "1016      0.0      0.0      0.0      0.0      0.0      0.0  \n",
       "1017      0.0      1.0      0.0      0.0      0.0      0.0  \n",
       "\n",
       "[5 rows x 228 columns]"
      ]
     },
     "execution_count": 9,
     "metadata": {},
     "output_type": "execute_result"
    }
   ],
   "source": [
    "# Load codebook \n",
    "codebook_fname = os.path.join(input_folder,'merged_codebook.csv')\n",
    "codebook_df = pd.read_csv (codebook_fname, index_col=0)\n",
    "\n",
    "# sort df by chr and chr_order\n",
    "codebook_df = loci_1d_features.sort_loci_df_by_chr_order (codebook_df)\n",
    "codebook_df.head()"
   ]
  },
  {
   "cell_type": "code",
   "execution_count": 10,
   "id": "3e95ab4f",
   "metadata": {},
   "outputs": [
    {
     "data": {
      "text/html": [
       "<div>\n",
       "<style scoped>\n",
       "    .dataframe tbody tr th:only-of-type {\n",
       "        vertical-align: middle;\n",
       "    }\n",
       "\n",
       "    .dataframe tbody tr th {\n",
       "        vertical-align: top;\n",
       "    }\n",
       "\n",
       "    .dataframe thead th {\n",
       "        text-align: right;\n",
       "    }\n",
       "</style>\n",
       "<table border=\"1\" class=\"dataframe\">\n",
       "  <thead>\n",
       "    <tr style=\"text-align: right;\">\n",
       "      <th></th>\n",
       "      <th>name</th>\n",
       "      <th>id</th>\n",
       "      <th>chr</th>\n",
       "      <th>chr_order</th>\n",
       "      <th>library</th>\n",
       "    </tr>\n",
       "    <tr>\n",
       "      <th>loci_name</th>\n",
       "      <th></th>\n",
       "      <th></th>\n",
       "      <th></th>\n",
       "      <th></th>\n",
       "      <th></th>\n",
       "    </tr>\n",
       "  </thead>\n",
       "  <tbody>\n",
       "    <tr>\n",
       "      <th>chr1_3742742_3759944</th>\n",
       "      <td>1:3742742-3759944</td>\n",
       "      <td>1</td>\n",
       "      <td>1</td>\n",
       "      <td>0.0</td>\n",
       "      <td>CTP11</td>\n",
       "    </tr>\n",
       "    <tr>\n",
       "      <th>chr1_6245958_6258969</th>\n",
       "      <td>1:6245958-6258969</td>\n",
       "      <td>2</td>\n",
       "      <td>1</td>\n",
       "      <td>1.0</td>\n",
       "      <td>CTP11</td>\n",
       "    </tr>\n",
       "    <tr>\n",
       "      <th>chr1_8740008_8759916</th>\n",
       "      <td>1:8740008-8759916</td>\n",
       "      <td>3</td>\n",
       "      <td>1</td>\n",
       "      <td>2.0</td>\n",
       "      <td>CTP11</td>\n",
       "    </tr>\n",
       "    <tr>\n",
       "      <th>chr1_9627926_9637875</th>\n",
       "      <td>1:9627926-9637875</td>\n",
       "      <td>1</td>\n",
       "      <td>1</td>\n",
       "      <td>3.0</td>\n",
       "      <td>CTP13</td>\n",
       "    </tr>\n",
       "    <tr>\n",
       "      <th>chr1_9799472_9811359</th>\n",
       "      <td>1:9799472-9811359</td>\n",
       "      <td>2</td>\n",
       "      <td>1</td>\n",
       "      <td>4.0</td>\n",
       "      <td>CTP13</td>\n",
       "    </tr>\n",
       "  </tbody>\n",
       "</table>\n",
       "</div>"
      ],
      "text/plain": [
       "                                   name id chr  chr_order library\n",
       "loci_name                                                        \n",
       "chr1_3742742_3759944  1:3742742-3759944  1   1        0.0   CTP11\n",
       "chr1_6245958_6258969  1:6245958-6258969  2   1        1.0   CTP11\n",
       "chr1_8740008_8759916  1:8740008-8759916  3   1        2.0   CTP11\n",
       "chr1_9627926_9637875  1:9627926-9637875  1   1        3.0   CTP13\n",
       "chr1_9799472_9811359  1:9799472-9811359  2   1        4.0   CTP13"
      ]
     },
     "execution_count": 10,
     "metadata": {},
     "output_type": "execute_result"
    }
   ],
   "source": [
    "# Format the chr loci name by \n",
    "# 1. changing loci name format\n",
    "# 2. extract relevant information such as id, chr, chr_order, and library etc\n",
    "from gene_to_loci import loci_pos_format\n",
    "loci_name_list = list(map(loci_pos_format, codebook_df['name'].tolist()))\n",
    "loci_name_arr = np.array(loci_name_list)\n",
    "\n",
    "# convert to a new dataframe and set loci name as index\n",
    "codebook_df = codebook_df[['name','id','chr','chr_order','library']]\n",
    "codebook_df['loci_name'] = list(loci_name_arr[:,0])\n",
    "codebook_df = codebook_df.set_index ('loci_name')\n",
    "\n",
    "codebook_df.head()"
   ]
  },
  {
   "cell_type": "markdown",
   "id": "11fd9023",
   "metadata": {},
   "source": [
    "# Load Chr2Zxys coordinate dict \n",
    "\n",
    "The below can be generated using jupyter notebook as below:\n",
    "\n",
    "[preprocess/2_dna_merfish/scripts/2_spot_pick/4_summarize_jie_to_dict](../../../preprocess/2_dna_merfish/scripts/2_spot_pick/4_summarize_jie_to_dict.ipynb)"
   ]
  },
  {
   "cell_type": "code",
   "execution_count": 11,
   "id": "01ecd226",
   "metadata": {},
   "outputs": [],
   "source": [
    "subclass_2_chr2Zxys_filename = os.path.join(input_folder, 'subclass_2_chr2Zxys.pkl')\n",
    "subclass_2_chr2ZxysList = pickle.load(open(subclass_2_chr2Zxys_filename, 'rb'))"
   ]
  },
  {
   "cell_type": "code",
   "execution_count": 12,
   "id": "23a74676",
   "metadata": {},
   "outputs": [
    {
     "data": {
      "text/plain": [
       "dict_keys(['Oligo', 'L5 IT', 'Micro', 'Peri', 'Endo', 'Astro', 'OPC', 'L6 CT', 'L5 ET', 'L5/6 NP', 'Pvalb', 'L6 IT', 'Lamp5', 'L6b', 'Sst', 'SMC', 'L4/5 IT', 'L2/3 IT', 'Vip', 'Sncg', 'VLMC'])"
      ]
     },
     "execution_count": 12,
     "metadata": {},
     "output_type": "execute_result"
    }
   ],
   "source": [
    "subclass_2_chr2ZxysList.keys()"
   ]
  },
  {
   "cell_type": "code",
   "execution_count": 14,
   "id": "485aa140",
   "metadata": {},
   "outputs": [],
   "source": [
    "# subclass info\n",
    "subclass_2_cellInfoList_filename = os.path.join(input_folder, 'subclass_2_cellInfo.pkl')\n",
    "subclass_2_cellInfoList = pickle.load(open(subclass_2_cellInfoList_filename, 'rb'))"
   ]
  },
  {
   "cell_type": "markdown",
   "id": "0be5877c",
   "metadata": {},
   "source": [
    "# Calculate convex hull for single cells (dataframe version)"
   ]
  },
  {
   "cell_type": "markdown",
   "id": "d91ff95e",
   "metadata": {},
   "source": [
    "## define functions"
   ]
  },
  {
   "cell_type": "code",
   "execution_count": 15,
   "id": "ca2d74b3",
   "metadata": {},
   "outputs": [],
   "source": [
    "from scipy.spatial.distance import euclidean, cdist, pdist\n",
    "from scipy.spatial import ConvexHull"
   ]
  },
  {
   "cell_type": "code",
   "execution_count": 16,
   "id": "a4a6b12c",
   "metadata": {},
   "outputs": [],
   "source": [
    "# quick get cell pts as zxy arr\n",
    "def chrZXY_to_cell_pts_arr (chrZxysList_cell:dict):\n",
    "    cell_pts = []\n",
    "    for _chrom, _chr_zxys in chrZxysList_cell.items():\n",
    "        for _fiberidx, _ichr_zxys in enumerate(_chr_zxys):\n",
    "            cell_pts.extend(_ichr_zxys)\n",
    "    return cell_pts\n",
    "    \n",
    "# generate cell pts df with region names\n",
    "from AnalysisTool_Chromatin import loci_1d_features\n",
    "importlib.reload(loci_1d_features)  \n",
    "\n",
    "def chrZXY_to_cell_pts_dataframe (chrZxysList_cell:dict, \n",
    "                                  codebook_df:pd.core.frame.DataFrame, \n",
    "                                  cellgroup = 'None'):\n",
    "    \n",
    "    output_df_list = []\n",
    "    for _chrom, _chr_zxys in chrZxysList_cell.items():\n",
    "        for _fiberidx, _ichr_zxys in enumerate(_chr_zxys):\n",
    "            _fiber_df = pd.DataFrame(_ichr_zxys,columns = ['z','x','y'],dtype=np.float64)\n",
    "            _fiber_df['chr']=_chrom\n",
    "            _fiber_df['fiberidx']=_fiberidx+1\n",
    "            # get other info from codebook\n",
    "            _info_df = codebook_df[codebook_df['chr']==_chrom].copy(deep=True)\n",
    "            _info_df = loci_1d_features.sort_loci_df_by_chr_order(_info_df)\n",
    "            _info_df['chr_order'] = _info_df['chr_order'].map(lambda x: int(x))\n",
    "            _info_df.reset_index(inplace=True) # rest index to match so cols can be assigned\n",
    "            if len(_info_df) == len(_fiber_df):\n",
    "                _fiber_df[['name','chr_order']]=_info_df[['name','chr_order']]\n",
    "            else:\n",
    "                print ('Number of loci does NOT match between input dict and codebook.')\n",
    "                #return None\n",
    "            output_df_list.append(_fiber_df)\n",
    "    \n",
    "    output_df = pd.concat(output_df_list)\n",
    "    output_df['celltype']=cellgroup\n",
    "    return output_df"
   ]
  },
  {
   "cell_type": "code",
   "execution_count": 17,
   "id": "163db40e",
   "metadata": {},
   "outputs": [],
   "source": [
    "def cell_volume_by_chrZxys_dataframe (chr_2_zxys_list, cell_infoList_class,\n",
    "                                 verbose=False):\n",
    "    \n",
    "    from scipy.spatial import ConvexHull\n",
    "    \n",
    "    # init dict and list to store results\n",
    "    _out_cell_dict = {'uid': {},\n",
    "               'subclass': {},      \n",
    "           'nucleus_volume': {},\n",
    "           'total_spots': {},\n",
    "                     }\n",
    "    \n",
    "    # loop through cells\n",
    "    for _cell_idx, _cell_chr_2_zxys_dict in enumerate(chr_2_zxys_list):\n",
    "        \n",
    "        _out_cell_dict['uid'][_cell_idx] = cell_infoList_class[_cell_idx]['uid']\n",
    "        _out_cell_dict['subclass'][_cell_idx] = cell_infoList_class[_cell_idx]['subclass']\n",
    "        # init list to combine all chrZxy\n",
    "        combined_cell_chrZxy_list=[]\n",
    "        # loop through chr\n",
    "        for _chr_key, _chr_zxys in _cell_chr_2_zxys_dict.items():\n",
    "            # loop through haploid\n",
    "            for _ichr_zxys in _chr_zxys:\n",
    "                # add each zxy\n",
    "                for _zxys in _ichr_zxys:\n",
    "                    combined_cell_chrZxy_list.append(_zxys)\n",
    "        # use all non-nan points to calculate convex hull            \n",
    "        nonnan_index =np.where(np.sum(~np.isnan(combined_cell_chrZxy_list)>0,axis=1))\n",
    "        total_spots_num = len(nonnan_index[0])\n",
    "        _out_cell_dict['total_spots'][_cell_idx] = total_spots_num\n",
    "        # convex hull\n",
    "        points=np.array(combined_cell_chrZxy_list)[nonnan_index]\n",
    "        hull = ConvexHull(points)  \n",
    "        _out_cell_dict['nucleus_volume'][_cell_idx]=hull.volume\n",
    "\n",
    "    _out_cell_df = pd.DataFrame(_out_cell_dict)\n",
    "    _out_cell_df.set_index('uid', drop=True,inplace=True)\n",
    "\n",
    "    return _out_cell_df"
   ]
  },
  {
   "cell_type": "markdown",
   "id": "19bcf496",
   "metadata": {},
   "source": [
    "## process"
   ]
  },
  {
   "cell_type": "code",
   "execution_count": 18,
   "id": "3dfdd649",
   "metadata": {
    "scrolled": true
   },
   "outputs": [
    {
     "name": "stderr",
     "output_type": "stream",
     "text": [
      "\r",
      "  0%|                                                                                           | 0/21 [00:00<?, ?it/s]"
     ]
    },
    {
     "name": "stdout",
     "output_type": "stream",
     "text": [
      "Analyze cell hull volume for Oligo "
     ]
    },
    {
     "name": "stderr",
     "output_type": "stream",
     "text": [
      "\r",
      "  5%|███▉                                                                               | 1/21 [00:21<07:12, 21.63s/it]"
     ]
    },
    {
     "name": "stdout",
     "output_type": "stream",
     "text": [
      "in 21.630s.\n",
      "Analyze cell hull volume for L5 IT "
     ]
    },
    {
     "name": "stderr",
     "output_type": "stream",
     "text": [
      "\r",
      " 10%|███████▉                                                                           | 2/21 [00:30<04:33, 14.38s/it]"
     ]
    },
    {
     "name": "stdout",
     "output_type": "stream",
     "text": [
      "in 9.299s.\n",
      "Analyze cell hull volume for Micro "
     ]
    },
    {
     "name": "stderr",
     "output_type": "stream",
     "text": [
      "\r",
      " 14%|███████████▊                                                                       | 3/21 [00:36<03:06, 10.36s/it]"
     ]
    },
    {
     "name": "stdout",
     "output_type": "stream",
     "text": [
      "in 5.582s.\n",
      "Analyze cell hull volume for Peri "
     ]
    },
    {
     "name": "stderr",
     "output_type": "stream",
     "text": [
      "\r",
      " 19%|███████████████▊                                                                   | 4/21 [00:39<02:06,  7.45s/it]"
     ]
    },
    {
     "name": "stdout",
     "output_type": "stream",
     "text": [
      "in 2.974s.\n",
      "Analyze cell hull volume for Endo "
     ]
    },
    {
     "name": "stderr",
     "output_type": "stream",
     "text": [
      "\r",
      " 24%|███████████████████▊                                                               | 5/21 [00:48<02:10,  8.17s/it]"
     ]
    },
    {
     "name": "stdout",
     "output_type": "stream",
     "text": [
      "in 9.449s.\n",
      "Analyze cell hull volume for Astro "
     ]
    },
    {
     "name": "stderr",
     "output_type": "stream",
     "text": [
      "\r",
      " 29%|███████████████████████▋                                                           | 6/21 [01:00<02:21,  9.44s/it]"
     ]
    },
    {
     "name": "stdout",
     "output_type": "stream",
     "text": [
      "in 11.903s.\n",
      "Analyze cell hull volume for OPC "
     ]
    },
    {
     "name": "stderr",
     "output_type": "stream",
     "text": [
      "\r",
      " 33%|███████████████████████████▋                                                       | 7/21 [01:04<01:47,  7.71s/it]"
     ]
    },
    {
     "name": "stdout",
     "output_type": "stream",
     "text": [
      "in 4.148s.\n",
      "Analyze cell hull volume for L6 CT "
     ]
    },
    {
     "name": "stderr",
     "output_type": "stream",
     "text": [
      "\r",
      " 38%|███████████████████████████████▌                                                   | 8/21 [01:22<02:22, 10.98s/it]"
     ]
    },
    {
     "name": "stdout",
     "output_type": "stream",
     "text": [
      "in 17.985s.\n",
      "Analyze cell hull volume for L5 ET "
     ]
    },
    {
     "name": "stderr",
     "output_type": "stream",
     "text": [
      "\r",
      " 43%|███████████████████████████████████▌                                               | 9/21 [01:27<01:45,  8.81s/it]"
     ]
    },
    {
     "name": "stdout",
     "output_type": "stream",
     "text": [
      "in 4.046s.\n",
      "Analyze cell hull volume for L5/6 NP "
     ]
    },
    {
     "name": "stderr",
     "output_type": "stream",
     "text": [
      "\r",
      " 48%|███████████████████████████████████████                                           | 10/21 [01:29<01:15,  6.84s/it]"
     ]
    },
    {
     "name": "stdout",
     "output_type": "stream",
     "text": [
      "in 2.425s.\n",
      "Analyze cell hull volume for Pvalb "
     ]
    },
    {
     "name": "stderr",
     "output_type": "stream",
     "text": [
      "\r",
      " 52%|██████████████████████████████████████████▉                                       | 11/21 [01:33<00:59,  5.98s/it]"
     ]
    },
    {
     "name": "stdout",
     "output_type": "stream",
     "text": [
      "in 4.025s.\n",
      "Analyze cell hull volume for L6 IT "
     ]
    },
    {
     "name": "stderr",
     "output_type": "stream",
     "text": [
      "\r",
      " 57%|██████████████████████████████████████████████▊                                   | 12/21 [01:41<00:58,  6.45s/it]"
     ]
    },
    {
     "name": "stdout",
     "output_type": "stream",
     "text": [
      "in 7.534s.\n",
      "Analyze cell hull volume for Lamp5 "
     ]
    },
    {
     "name": "stderr",
     "output_type": "stream",
     "text": [
      "\r",
      " 62%|██████████████████████████████████████████████████▊                               | 13/21 [01:42<00:39,  4.97s/it]"
     ]
    },
    {
     "name": "stdout",
     "output_type": "stream",
     "text": [
      "in 1.546s.\n",
      "Analyze cell hull volume for L6b "
     ]
    },
    {
     "name": "stderr",
     "output_type": "stream",
     "text": [
      "\r",
      " 67%|██████████████████████████████████████████████████████▋                           | 14/21 [01:45<00:30,  4.42s/it]"
     ]
    },
    {
     "name": "stdout",
     "output_type": "stream",
     "text": [
      "in 3.152s.\n",
      "Analyze cell hull volume for Sst "
     ]
    },
    {
     "name": "stderr",
     "output_type": "stream",
     "text": [
      "\r",
      " 71%|██████████████████████████████████████████████████████████▌                       | 15/21 [01:48<00:23,  3.99s/it]"
     ]
    },
    {
     "name": "stdout",
     "output_type": "stream",
     "text": [
      "in 3.009s.\n",
      "Analyze cell hull volume for SMC "
     ]
    },
    {
     "name": "stderr",
     "output_type": "stream",
     "text": [
      "\r",
      " 76%|██████████████████████████████████████████████████████████████▍                   | 16/21 [01:50<00:16,  3.27s/it]"
     ]
    },
    {
     "name": "stdout",
     "output_type": "stream",
     "text": [
      "in 1.597s.\n",
      "Analyze cell hull volume for L4/5 IT "
     ]
    },
    {
     "name": "stderr",
     "output_type": "stream",
     "text": [
      "\r",
      " 81%|██████████████████████████████████████████████████████████████████▍               | 17/21 [02:00<00:21,  5.39s/it]"
     ]
    },
    {
     "name": "stdout",
     "output_type": "stream",
     "text": [
      "in 10.315s.\n",
      "Analyze cell hull volume for L2/3 IT "
     ]
    },
    {
     "name": "stderr",
     "output_type": "stream",
     "text": [
      "\r",
      " 86%|██████████████████████████████████████████████████████████████████████▎           | 18/21 [02:11<00:21,  7.05s/it]"
     ]
    },
    {
     "name": "stdout",
     "output_type": "stream",
     "text": [
      "in 10.907s.\n",
      "Analyze cell hull volume for Vip "
     ]
    },
    {
     "name": "stderr",
     "output_type": "stream",
     "text": [
      "\r",
      " 90%|██████████████████████████████████████████████████████████████████████████▏       | 19/21 [02:12<00:10,  5.30s/it]"
     ]
    },
    {
     "name": "stdout",
     "output_type": "stream",
     "text": [
      "in 1.222s.\n",
      "Analyze cell hull volume for Sncg "
     ]
    },
    {
     "name": "stderr",
     "output_type": "stream",
     "text": [
      "\r",
      " 95%|██████████████████████████████████████████████████████████████████████████████    | 20/21 [02:13<00:03,  3.85s/it]"
     ]
    },
    {
     "name": "stdout",
     "output_type": "stream",
     "text": [
      "in 0.460s.\n",
      "Analyze cell hull volume for VLMC "
     ]
    },
    {
     "name": "stderr",
     "output_type": "stream",
     "text": [
      "100%|██████████████████████████████████████████████████████████████████████████████████| 21/21 [02:14<00:00,  6.40s/it]"
     ]
    },
    {
     "name": "stdout",
     "output_type": "stream",
     "text": [
      "in 1.171s.\n"
     ]
    },
    {
     "name": "stderr",
     "output_type": "stream",
     "text": [
      "\n"
     ]
    },
    {
     "data": {
      "text/html": [
       "<div>\n",
       "<style scoped>\n",
       "    .dataframe tbody tr th:only-of-type {\n",
       "        vertical-align: middle;\n",
       "    }\n",
       "\n",
       "    .dataframe tbody tr th {\n",
       "        vertical-align: top;\n",
       "    }\n",
       "\n",
       "    .dataframe thead th {\n",
       "        text-align: right;\n",
       "    }\n",
       "</style>\n",
       "<table border=\"1\" class=\"dataframe\">\n",
       "  <thead>\n",
       "    <tr style=\"text-align: right;\">\n",
       "      <th></th>\n",
       "      <th>subclass</th>\n",
       "      <th>nucleus_volume</th>\n",
       "      <th>total_spots</th>\n",
       "    </tr>\n",
       "    <tr>\n",
       "      <th>uid</th>\n",
       "      <th></th>\n",
       "      <th></th>\n",
       "      <th></th>\n",
       "    </tr>\n",
       "  </thead>\n",
       "  <tbody>\n",
       "    <tr>\n",
       "      <th>259202492748634617304623818845147108919</th>\n",
       "      <td>Oligo</td>\n",
       "      <td>255.043678</td>\n",
       "      <td>863</td>\n",
       "    </tr>\n",
       "    <tr>\n",
       "      <th>336074706103419484501535095917410831417</th>\n",
       "      <td>Oligo</td>\n",
       "      <td>298.589934</td>\n",
       "      <td>1426</td>\n",
       "    </tr>\n",
       "    <tr>\n",
       "      <th>179117357717369278884189379535888871018</th>\n",
       "      <td>Oligo</td>\n",
       "      <td>305.797609</td>\n",
       "      <td>1601</td>\n",
       "    </tr>\n",
       "    <tr>\n",
       "      <th>36321914521561890358202806077673807953</th>\n",
       "      <td>Oligo</td>\n",
       "      <td>76.777445</td>\n",
       "      <td>210</td>\n",
       "    </tr>\n",
       "    <tr>\n",
       "      <th>92271180002801802991585284299263797402</th>\n",
       "      <td>Oligo</td>\n",
       "      <td>376.983590</td>\n",
       "      <td>2034</td>\n",
       "    </tr>\n",
       "    <tr>\n",
       "      <th>...</th>\n",
       "      <td>...</td>\n",
       "      <td>...</td>\n",
       "      <td>...</td>\n",
       "    </tr>\n",
       "    <tr>\n",
       "      <th>89559371323596133331060964655277765256</th>\n",
       "      <td>VLMC</td>\n",
       "      <td>183.802964</td>\n",
       "      <td>584</td>\n",
       "    </tr>\n",
       "    <tr>\n",
       "      <th>144314319466287448491677682735506973</th>\n",
       "      <td>VLMC</td>\n",
       "      <td>92.940088</td>\n",
       "      <td>387</td>\n",
       "    </tr>\n",
       "    <tr>\n",
       "      <th>71119619609696733523981100580894538756</th>\n",
       "      <td>VLMC</td>\n",
       "      <td>237.601248</td>\n",
       "      <td>734</td>\n",
       "    </tr>\n",
       "    <tr>\n",
       "      <th>29724298272863708674304529591452401156</th>\n",
       "      <td>VLMC</td>\n",
       "      <td>210.980658</td>\n",
       "      <td>1018</td>\n",
       "    </tr>\n",
       "    <tr>\n",
       "      <th>33275521405001179248720139503657082517</th>\n",
       "      <td>VLMC</td>\n",
       "      <td>135.812502</td>\n",
       "      <td>1019</td>\n",
       "    </tr>\n",
       "  </tbody>\n",
       "</table>\n",
       "<p>46340 rows × 3 columns</p>\n",
       "</div>"
      ],
      "text/plain": [
       "                                        subclass  nucleus_volume  total_spots\n",
       "uid                                                                          \n",
       "259202492748634617304623818845147108919    Oligo      255.043678          863\n",
       "336074706103419484501535095917410831417    Oligo      298.589934         1426\n",
       "179117357717369278884189379535888871018    Oligo      305.797609         1601\n",
       "36321914521561890358202806077673807953     Oligo       76.777445          210\n",
       "92271180002801802991585284299263797402     Oligo      376.983590         2034\n",
       "...                                          ...             ...          ...\n",
       "89559371323596133331060964655277765256      VLMC      183.802964          584\n",
       "144314319466287448491677682735506973        VLMC       92.940088          387\n",
       "71119619609696733523981100580894538756      VLMC      237.601248          734\n",
       "29724298272863708674304529591452401156      VLMC      210.980658         1018\n",
       "33275521405001179248720139503657082517      VLMC      135.812502         1019\n",
       "\n",
       "[46340 rows x 3 columns]"
      ]
     },
     "execution_count": 18,
     "metadata": {},
     "output_type": "execute_result"
    }
   ],
   "source": [
    "import tqdm\n",
    "_out_cell_df_list = []\n",
    "\n",
    "for _class, chr_2_zxys_list in tqdm.tqdm(subclass_2_chr2ZxysList.items()):\n",
    "    \n",
    "    print (f'Analyze cell hull volume for {_class}', end=' ')\n",
    "    cell_infoList_class = subclass_2_cellInfoList[_class]\n",
    "    \n",
    "    _start_time = time.time()\n",
    "    _out_cell_df = cell_volume_by_chrZxys_dataframe (chr_2_zxys_list, cell_infoList_class)\n",
    "    _out_cell_df_list.append(_out_cell_df)\n",
    "    print(f\"in {time.time()-_start_time:.3f}s.\")\n",
    "    \n",
    "merged_cell_volume_df = pd.concat(_out_cell_df_list)\n",
    "merged_cell_volume_df"
   ]
  },
  {
   "cell_type": "markdown",
   "id": "e4896f7e",
   "metadata": {},
   "source": [
    "## save"
   ]
  },
  {
   "cell_type": "code",
   "execution_count": 20,
   "id": "b2443231",
   "metadata": {},
   "outputs": [],
   "source": [
    "output_fname = os.path.join(output_analysis_folder, f'nucleus_volume_convexhull_bysubclass.csv')\n",
    "\n",
    "merged_cell_volume_df.to_csv(output_fname)"
   ]
  }
 ],
 "metadata": {
  "kernelspec": {
   "display_name": "Python 3 (ipykernel)",
   "language": "python",
   "name": "python3"
  },
  "language_info": {
   "codemirror_mode": {
    "name": "ipython",
    "version": 3
   },
   "file_extension": ".py",
   "mimetype": "text/x-python",
   "name": "python",
   "nbconvert_exporter": "python",
   "pygments_lexer": "ipython3",
   "version": "3.10.8"
  },
  "toc": {
   "base_numbering": 1,
   "nav_menu": {},
   "number_sections": true,
   "sideBar": true,
   "skip_h1_title": false,
   "title_cell": "Table of Contents",
   "title_sidebar": "Contents",
   "toc_cell": false,
   "toc_position": {},
   "toc_section_display": true,
   "toc_window_display": true
  }
 },
 "nbformat": 4,
 "nbformat_minor": 5
}
