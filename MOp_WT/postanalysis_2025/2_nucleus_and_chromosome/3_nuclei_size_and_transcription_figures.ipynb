{
 "cells": [
  {
   "cell_type": "markdown",
   "id": "75c4e381",
   "metadata": {},
   "source": [
    "# Import module"
   ]
  },
  {
   "cell_type": "markdown",
   "id": "14a33d3e",
   "metadata": {},
   "source": [
    "The link to get [ImageAnalysis3](https://github.com/zhengpuas47/ImageAnalysis3) \n",
    "\n",
    "Or from the Zhuang lab archived [source_tools](https://github.com/ZhuangLab/Chromatin_Analysis_2020_cell/tree/master/sequential_tracing/source)"
   ]
  },
  {
   "cell_type": "markdown",
   "id": "b411cc21",
   "metadata": {},
   "source": [
    "## ImageAnalysis3 and basic modules"
   ]
  },
  {
   "cell_type": "code",
   "execution_count": 2,
   "id": "32554ab1",
   "metadata": {},
   "outputs": [
    {
     "name": "stdout",
     "output_type": "stream",
     "text": [
      "35396\n"
     ]
    }
   ],
   "source": [
    "%run \"C:\\Users\\shiwei\\Documents\\ImageAnalysis3\\required_files\\Startup_py3.py\"\n",
    "sys.path.append(r\"C:\\Users\\shiwei\\Documents\")\n",
    "\n",
    "import ImageAnalysis3 as ia\n",
    "from ImageAnalysis3 import *\n",
    "from ImageAnalysis3.classes import _allowed_kwds\n",
    "\n",
    "import h5py\n",
    "import ast\n",
    "import pandas as pd\n",
    "\n",
    "print(os.getpid())"
   ]
  },
  {
   "cell_type": "markdown",
   "id": "f5f8cd77",
   "metadata": {},
   "source": [
    "## Chromatin_analysis_tools etc"
   ]
  },
  {
   "cell_type": "markdown",
   "id": "2db5036f",
   "metadata": {},
   "source": [
    "See **functions** in the repository for [AnalysisTool_Chromatin](../../README.md)"
   ]
  },
  {
   "cell_type": "code",
   "execution_count": 3,
   "id": "9469aba8",
   "metadata": {},
   "outputs": [
    {
     "data": {
      "text/plain": [
       "<module 'atac_to_loci' from 'C:\\\\Users\\\\shiwei\\\\Documents\\\\AnalysisTool_Chromatin\\\\atac_to_loci.py'>"
      ]
     },
     "execution_count": 3,
     "metadata": {},
     "output_type": "execute_result"
    }
   ],
   "source": [
    "# Chromatin_analysis_tools (ATC)\n",
    "# Get path for the py containing functions\n",
    "import os\n",
    "import sys\n",
    "import importlib\n",
    "module_path =r'C:\\Users\\shiwei\\Documents\\AnalysisTool_Chromatin'\n",
    "if module_path not in sys.path:\n",
    "    sys.path.append(module_path)\n",
    "    \n",
    "# import relevant modules\n",
    "import gene_selection \n",
    "importlib.reload(gene_selection)\n",
    "import gene_to_loci\n",
    "importlib.reload(gene_to_loci)\n",
    "import gene_activity\n",
    "importlib.reload(gene_activity)\n",
    "import loci_1d_features\n",
    "importlib.reload(loci_1d_features)  \n",
    "\n",
    "import atac_to_loci\n",
    "importlib.reload(atac_to_loci)"
   ]
  },
  {
   "cell_type": "markdown",
   "id": "aa08c6de",
   "metadata": {},
   "source": [
    "# Define folders"
   ]
  },
  {
   "cell_type": "code",
   "execution_count": 4,
   "id": "2c8dce53",
   "metadata": {},
   "outputs": [
    {
     "name": "stdout",
     "output_type": "stream",
     "text": [
      "Use existing analysis folder: L:\\Shiwei\\postanalysis_2024\\v0\\nucleus_and_chromosome\\analysis.\n",
      "Use existing figure folder: L:\\Shiwei\\postanalysis_2024\\v0\\nucleus_and_chromosome\\figures.\n"
     ]
    }
   ],
   "source": [
    "# main folder for postanalysis\n",
    "postanalysis_folder = r'L:\\Shiwei\\postanalysis_2024\\v0'\n",
    "# input files for postanalysis\n",
    "input_folder = os.path.join(postanalysis_folder, 'resources_from_preprocess')\n",
    "\n",
    "# output file to be generated\n",
    "output_main_folder = os.path.join(postanalysis_folder, 'nucleus_and_chromosome')\n",
    "\n",
    "output_analysis_folder = os.path.join(output_main_folder, 'analysis')\n",
    "output_figure_folder = os.path.join(output_main_folder, 'figures')\n",
    "\n",
    "# make new folder if needed\n",
    "make_output_folder = True\n",
    "\n",
    "if make_output_folder and not os.path.exists(output_analysis_folder):\n",
    "    os.makedirs(output_analysis_folder)\n",
    "    print(f'Generating analysis folder: {output_analysis_folder}.')\n",
    "elif os.path.exists(output_analysis_folder):\n",
    "    print(f'Use existing analysis folder: {output_analysis_folder}.')\n",
    "    \n",
    "if make_output_folder and not os.path.exists(output_figure_folder):\n",
    "    os.makedirs(output_figure_folder)\n",
    "    print(f'Generating figure folder: {output_figure_folder}.')\n",
    "elif os.path.exists(output_figure_folder):\n",
    "    print(f'Use existing figure folder: {output_figure_folder}.')"
   ]
  },
  {
   "cell_type": "markdown",
   "id": "43745cf2",
   "metadata": {},
   "source": [
    "# Plotting parameters"
   ]
  },
  {
   "cell_type": "code",
   "execution_count": 5,
   "id": "fb1e3324",
   "metadata": {},
   "outputs": [],
   "source": [
    "%matplotlib inline\n",
    "import matplotlib\n",
    "matplotlib.rcParams['pdf.fonttype'] = 42\n",
    "import matplotlib.pyplot as plt\n",
    "plt.rc('font', family='serif')\n",
    "plt.rc('font', serif='Arial')\n",
    "\n",
    "from ImageAnalysis3.figure_tools import _double_col_width, _single_col_width, _font_size, _ticklabel_size,_ticklabel_width\n",
    "\n",
    "import seaborn as sns\n",
    "sns.set_context(\"paper\", rc={\"font.size\":_font_size,\"axes.titlesize\":_font_size+1,\"axes.labelsize\":_font_size})  "
   ]
  },
  {
   "cell_type": "code",
   "execution_count": 6,
   "id": "bc310b7e",
   "metadata": {},
   "outputs": [],
   "source": [
    "# Other required plotting parameters\n",
    "_dpi = 300\n",
    "_font_size = 7\n",
    "_page_width = 5.5\n"
   ]
  },
  {
   "cell_type": "markdown",
   "id": "a1d34726",
   "metadata": {},
   "source": [
    "## cell type color-codes"
   ]
  },
  {
   "cell_type": "code",
   "execution_count": 7,
   "id": "c33943dd",
   "metadata": {},
   "outputs": [],
   "source": [
    "# cell labels from RNA-MERFISH and celltype prediction\n",
    "selected_cell_labels = ['L2/3 IT','L4/5 IT','L5 IT','L6 IT','L5 ET','L5/6 NP','L6 CT','L6b',\n",
    "                           'Sst','Pvalb','Lamp5','Sncg','Vip',\n",
    "                           'Astro','Oligo','OPC','Micro','Endo','VLMC','SMC','Peri', \n",
    "                           #'other',\n",
    "                          ]\n",
    "# cell palette from RNA-MERFISH UMAP and stats\n",
    "celltype_palette = {'Astro':'lightcoral', \n",
    "                    'Endo':'skyblue', \n",
    "                    'L2/3 IT':'gold', \n",
    "                    'L4/5 IT':'darkorange', \n",
    "                    'L5 ET':'mediumseagreen', \n",
    "                    'L5 IT':'aqua',\n",
    "                    'L5/6 NP':'darkgreen',\n",
    "                    'L6 CT':'brown',\n",
    "                    'L6 IT':'magenta',\n",
    "                    'L6b':'blue', \n",
    "                    'Lamp5':'orange', \n",
    "                    'Micro':'peachpuff',\n",
    "                    'OPC':'thistle', \n",
    "                    'Oligo':'darkviolet',\n",
    "                    'Peri':'sandybrown',\n",
    "                    'Pvalb':'springgreen',\n",
    "                    'SMC':'rosybrown',\n",
    "                    'Sncg':'darkkhaki',\n",
    "                    'Sst':'steelblue', \n",
    "                    'VLMC':'saddlebrown', \n",
    "                    'Vip':'red',\n",
    "                    'other':'slategray'}\n"
   ]
  },
  {
   "cell_type": "code",
   "execution_count": 8,
   "id": "caad6887",
   "metadata": {},
   "outputs": [],
   "source": [
    "# this is the plotting order noted based on the snRNA transcriptional acitivty if needed\n",
    "sorted_cellplot_order_byRNA = ['Micro', 'Oligo', 'Endo', 'OPC', 'Astro', 'Vip', 'Lamp5',\n",
    "                   'Sst', 'Sncg', 'Pvalb', \n",
    "                               'L5/6 NP',# this was changed to be close to other Exc\n",
    "                               'L4/5 IT', 'L6 CT',\n",
    "                  'L6 IT', 'L6b', 'L2/3 IT', 'L5 IT', 'L5 ET']"
   ]
  },
  {
   "cell_type": "markdown",
   "id": "b00f58f0",
   "metadata": {},
   "source": [
    "# Load data relevant information"
   ]
  },
  {
   "cell_type": "markdown",
   "id": "7e667606",
   "metadata": {},
   "source": [
    "## load and format codebook"
   ]
  },
  {
   "cell_type": "markdown",
   "id": "6b8440c6",
   "metadata": {},
   "source": [
    "[merged codebook](../resources/merged_codebook.csv) as in the repository (merged for all DNA-MERFISH libraries)"
   ]
  },
  {
   "cell_type": "code",
   "execution_count": 9,
   "id": "c0734aad",
   "metadata": {},
   "outputs": [
    {
     "data": {
      "text/html": [
       "<div>\n",
       "<style scoped>\n",
       "    .dataframe tbody tr th:only-of-type {\n",
       "        vertical-align: middle;\n",
       "    }\n",
       "\n",
       "    .dataframe tbody tr th {\n",
       "        vertical-align: top;\n",
       "    }\n",
       "\n",
       "    .dataframe thead th {\n",
       "        text-align: right;\n",
       "    }\n",
       "</style>\n",
       "<table border=\"1\" class=\"dataframe\">\n",
       "  <thead>\n",
       "    <tr style=\"text-align: right;\">\n",
       "      <th></th>\n",
       "      <th>name</th>\n",
       "      <th>id</th>\n",
       "      <th>NDB_784</th>\n",
       "      <th>NDB_755</th>\n",
       "      <th>NDB_826</th>\n",
       "      <th>NDB_713</th>\n",
       "      <th>NDB_865</th>\n",
       "      <th>NDB_725</th>\n",
       "      <th>NDB_817</th>\n",
       "      <th>NDB_710</th>\n",
       "      <th>...</th>\n",
       "      <th>NDB_479</th>\n",
       "      <th>NDB_562</th>\n",
       "      <th>NDB_608</th>\n",
       "      <th>NDB_460</th>\n",
       "      <th>NDB_563</th>\n",
       "      <th>NDB_592</th>\n",
       "      <th>NDB_368</th>\n",
       "      <th>NDB_436</th>\n",
       "      <th>NDB_629</th>\n",
       "      <th>NDB_604</th>\n",
       "    </tr>\n",
       "  </thead>\n",
       "  <tbody>\n",
       "    <tr>\n",
       "      <th>0</th>\n",
       "      <td>1:3742742-3759944</td>\n",
       "      <td>1</td>\n",
       "      <td>0.0</td>\n",
       "      <td>0.0</td>\n",
       "      <td>0.0</td>\n",
       "      <td>0.0</td>\n",
       "      <td>0.0</td>\n",
       "      <td>0.0</td>\n",
       "      <td>0.0</td>\n",
       "      <td>0.0</td>\n",
       "      <td>...</td>\n",
       "      <td>0.0</td>\n",
       "      <td>0.0</td>\n",
       "      <td>0.0</td>\n",
       "      <td>0.0</td>\n",
       "      <td>0.0</td>\n",
       "      <td>0.0</td>\n",
       "      <td>0.0</td>\n",
       "      <td>0.0</td>\n",
       "      <td>0.0</td>\n",
       "      <td>0.0</td>\n",
       "    </tr>\n",
       "    <tr>\n",
       "      <th>1</th>\n",
       "      <td>1:6245958-6258969</td>\n",
       "      <td>2</td>\n",
       "      <td>0.0</td>\n",
       "      <td>0.0</td>\n",
       "      <td>0.0</td>\n",
       "      <td>0.0</td>\n",
       "      <td>0.0</td>\n",
       "      <td>0.0</td>\n",
       "      <td>0.0</td>\n",
       "      <td>0.0</td>\n",
       "      <td>...</td>\n",
       "      <td>0.0</td>\n",
       "      <td>0.0</td>\n",
       "      <td>0.0</td>\n",
       "      <td>0.0</td>\n",
       "      <td>0.0</td>\n",
       "      <td>0.0</td>\n",
       "      <td>0.0</td>\n",
       "      <td>0.0</td>\n",
       "      <td>0.0</td>\n",
       "      <td>0.0</td>\n",
       "    </tr>\n",
       "    <tr>\n",
       "      <th>2</th>\n",
       "      <td>1:8740008-8759916</td>\n",
       "      <td>3</td>\n",
       "      <td>0.0</td>\n",
       "      <td>0.0</td>\n",
       "      <td>0.0</td>\n",
       "      <td>0.0</td>\n",
       "      <td>0.0</td>\n",
       "      <td>0.0</td>\n",
       "      <td>0.0</td>\n",
       "      <td>0.0</td>\n",
       "      <td>...</td>\n",
       "      <td>0.0</td>\n",
       "      <td>0.0</td>\n",
       "      <td>0.0</td>\n",
       "      <td>0.0</td>\n",
       "      <td>0.0</td>\n",
       "      <td>0.0</td>\n",
       "      <td>0.0</td>\n",
       "      <td>0.0</td>\n",
       "      <td>0.0</td>\n",
       "      <td>0.0</td>\n",
       "    </tr>\n",
       "    <tr>\n",
       "      <th>1016</th>\n",
       "      <td>1:9627926-9637875</td>\n",
       "      <td>1</td>\n",
       "      <td>0.0</td>\n",
       "      <td>0.0</td>\n",
       "      <td>0.0</td>\n",
       "      <td>0.0</td>\n",
       "      <td>0.0</td>\n",
       "      <td>0.0</td>\n",
       "      <td>0.0</td>\n",
       "      <td>0.0</td>\n",
       "      <td>...</td>\n",
       "      <td>0.0</td>\n",
       "      <td>0.0</td>\n",
       "      <td>0.0</td>\n",
       "      <td>0.0</td>\n",
       "      <td>0.0</td>\n",
       "      <td>0.0</td>\n",
       "      <td>0.0</td>\n",
       "      <td>0.0</td>\n",
       "      <td>0.0</td>\n",
       "      <td>0.0</td>\n",
       "    </tr>\n",
       "    <tr>\n",
       "      <th>1017</th>\n",
       "      <td>1:9799472-9811359</td>\n",
       "      <td>2</td>\n",
       "      <td>0.0</td>\n",
       "      <td>0.0</td>\n",
       "      <td>0.0</td>\n",
       "      <td>0.0</td>\n",
       "      <td>0.0</td>\n",
       "      <td>0.0</td>\n",
       "      <td>0.0</td>\n",
       "      <td>0.0</td>\n",
       "      <td>...</td>\n",
       "      <td>0.0</td>\n",
       "      <td>0.0</td>\n",
       "      <td>0.0</td>\n",
       "      <td>0.0</td>\n",
       "      <td>0.0</td>\n",
       "      <td>1.0</td>\n",
       "      <td>0.0</td>\n",
       "      <td>0.0</td>\n",
       "      <td>0.0</td>\n",
       "      <td>0.0</td>\n",
       "    </tr>\n",
       "  </tbody>\n",
       "</table>\n",
       "<p>5 rows × 228 columns</p>\n",
       "</div>"
      ],
      "text/plain": [
       "                   name id  NDB_784  NDB_755  NDB_826  NDB_713  NDB_865  \\\n",
       "0     1:3742742-3759944  1      0.0      0.0      0.0      0.0      0.0   \n",
       "1     1:6245958-6258969  2      0.0      0.0      0.0      0.0      0.0   \n",
       "2     1:8740008-8759916  3      0.0      0.0      0.0      0.0      0.0   \n",
       "1016  1:9627926-9637875  1      0.0      0.0      0.0      0.0      0.0   \n",
       "1017  1:9799472-9811359  2      0.0      0.0      0.0      0.0      0.0   \n",
       "\n",
       "      NDB_725  NDB_817  NDB_710  ...  NDB_479  NDB_562  NDB_608  NDB_460  \\\n",
       "0         0.0      0.0      0.0  ...      0.0      0.0      0.0      0.0   \n",
       "1         0.0      0.0      0.0  ...      0.0      0.0      0.0      0.0   \n",
       "2         0.0      0.0      0.0  ...      0.0      0.0      0.0      0.0   \n",
       "1016      0.0      0.0      0.0  ...      0.0      0.0      0.0      0.0   \n",
       "1017      0.0      0.0      0.0  ...      0.0      0.0      0.0      0.0   \n",
       "\n",
       "      NDB_563  NDB_592  NDB_368  NDB_436  NDB_629  NDB_604  \n",
       "0         0.0      0.0      0.0      0.0      0.0      0.0  \n",
       "1         0.0      0.0      0.0      0.0      0.0      0.0  \n",
       "2         0.0      0.0      0.0      0.0      0.0      0.0  \n",
       "1016      0.0      0.0      0.0      0.0      0.0      0.0  \n",
       "1017      0.0      1.0      0.0      0.0      0.0      0.0  \n",
       "\n",
       "[5 rows x 228 columns]"
      ]
     },
     "execution_count": 9,
     "metadata": {},
     "output_type": "execute_result"
    }
   ],
   "source": [
    "# Load codebook \n",
    "codebook_fname = os.path.join(input_folder,'merged_codebook.csv')\n",
    "codebook_df = pd.read_csv (codebook_fname, index_col=0)\n",
    "\n",
    "# sort df by chr and chr_order\n",
    "codebook_df = loci_1d_features.sort_loci_df_by_chr_order (codebook_df)\n",
    "codebook_df.head()"
   ]
  },
  {
   "cell_type": "code",
   "execution_count": 10,
   "id": "3e95ab4f",
   "metadata": {},
   "outputs": [
    {
     "data": {
      "text/html": [
       "<div>\n",
       "<style scoped>\n",
       "    .dataframe tbody tr th:only-of-type {\n",
       "        vertical-align: middle;\n",
       "    }\n",
       "\n",
       "    .dataframe tbody tr th {\n",
       "        vertical-align: top;\n",
       "    }\n",
       "\n",
       "    .dataframe thead th {\n",
       "        text-align: right;\n",
       "    }\n",
       "</style>\n",
       "<table border=\"1\" class=\"dataframe\">\n",
       "  <thead>\n",
       "    <tr style=\"text-align: right;\">\n",
       "      <th></th>\n",
       "      <th>name</th>\n",
       "      <th>id</th>\n",
       "      <th>chr</th>\n",
       "      <th>chr_order</th>\n",
       "      <th>library</th>\n",
       "    </tr>\n",
       "    <tr>\n",
       "      <th>loci_name</th>\n",
       "      <th></th>\n",
       "      <th></th>\n",
       "      <th></th>\n",
       "      <th></th>\n",
       "      <th></th>\n",
       "    </tr>\n",
       "  </thead>\n",
       "  <tbody>\n",
       "    <tr>\n",
       "      <th>chr1_3742742_3759944</th>\n",
       "      <td>1:3742742-3759944</td>\n",
       "      <td>1</td>\n",
       "      <td>1</td>\n",
       "      <td>0.0</td>\n",
       "      <td>CTP11</td>\n",
       "    </tr>\n",
       "    <tr>\n",
       "      <th>chr1_6245958_6258969</th>\n",
       "      <td>1:6245958-6258969</td>\n",
       "      <td>2</td>\n",
       "      <td>1</td>\n",
       "      <td>1.0</td>\n",
       "      <td>CTP11</td>\n",
       "    </tr>\n",
       "    <tr>\n",
       "      <th>chr1_8740008_8759916</th>\n",
       "      <td>1:8740008-8759916</td>\n",
       "      <td>3</td>\n",
       "      <td>1</td>\n",
       "      <td>2.0</td>\n",
       "      <td>CTP11</td>\n",
       "    </tr>\n",
       "    <tr>\n",
       "      <th>chr1_9627926_9637875</th>\n",
       "      <td>1:9627926-9637875</td>\n",
       "      <td>1</td>\n",
       "      <td>1</td>\n",
       "      <td>3.0</td>\n",
       "      <td>CTP13</td>\n",
       "    </tr>\n",
       "    <tr>\n",
       "      <th>chr1_9799472_9811359</th>\n",
       "      <td>1:9799472-9811359</td>\n",
       "      <td>2</td>\n",
       "      <td>1</td>\n",
       "      <td>4.0</td>\n",
       "      <td>CTP13</td>\n",
       "    </tr>\n",
       "  </tbody>\n",
       "</table>\n",
       "</div>"
      ],
      "text/plain": [
       "                                   name id chr  chr_order library\n",
       "loci_name                                                        \n",
       "chr1_3742742_3759944  1:3742742-3759944  1   1        0.0   CTP11\n",
       "chr1_6245958_6258969  1:6245958-6258969  2   1        1.0   CTP11\n",
       "chr1_8740008_8759916  1:8740008-8759916  3   1        2.0   CTP11\n",
       "chr1_9627926_9637875  1:9627926-9637875  1   1        3.0   CTP13\n",
       "chr1_9799472_9811359  1:9799472-9811359  2   1        4.0   CTP13"
      ]
     },
     "execution_count": 10,
     "metadata": {},
     "output_type": "execute_result"
    }
   ],
   "source": [
    "# Format the chr loci name by \n",
    "# 1. changing loci name format\n",
    "# 2. extract relevant information such as id, chr, chr_order, and library etc\n",
    "from gene_to_loci import loci_pos_format\n",
    "loci_name_list = list(map(loci_pos_format, codebook_df['name'].tolist()))\n",
    "loci_name_arr = np.array(loci_name_list)\n",
    "\n",
    "# convert to a new dataframe and set loci name as index\n",
    "codebook_df = codebook_df[['name','id','chr','chr_order','library']]\n",
    "codebook_df['loci_name'] = list(loci_name_arr[:,0])\n",
    "codebook_df = codebook_df.set_index ('loci_name')\n",
    "\n",
    "codebook_df.head()"
   ]
  },
  {
   "cell_type": "markdown",
   "id": "79d45fb1",
   "metadata": {},
   "source": [
    "# Load nuclear size"
   ]
  },
  {
   "cell_type": "markdown",
   "id": "736cf7f6",
   "metadata": {},
   "source": [
    "Below nuclear volume data can be generated by the notebook below:\n",
    "\n",
    "[2_nuclei_size_by_convexhull_singlecell_dataframe](2_nuclei_size_by_convexhull_singlecell_dataframe.ipynb)"
   ]
  },
  {
   "cell_type": "code",
   "execution_count": 11,
   "id": "9492b3ac",
   "metadata": {},
   "outputs": [
    {
     "data": {
      "text/html": [
       "<div>\n",
       "<style scoped>\n",
       "    .dataframe tbody tr th:only-of-type {\n",
       "        vertical-align: middle;\n",
       "    }\n",
       "\n",
       "    .dataframe tbody tr th {\n",
       "        vertical-align: top;\n",
       "    }\n",
       "\n",
       "    .dataframe thead th {\n",
       "        text-align: right;\n",
       "    }\n",
       "</style>\n",
       "<table border=\"1\" class=\"dataframe\">\n",
       "  <thead>\n",
       "    <tr style=\"text-align: right;\">\n",
       "      <th></th>\n",
       "      <th>subclass</th>\n",
       "      <th>nucleus_volume</th>\n",
       "      <th>total_spots</th>\n",
       "    </tr>\n",
       "    <tr>\n",
       "      <th>uid</th>\n",
       "      <th></th>\n",
       "      <th></th>\n",
       "      <th></th>\n",
       "    </tr>\n",
       "  </thead>\n",
       "  <tbody>\n",
       "    <tr>\n",
       "      <th>259202492748634617304623818845147108919</th>\n",
       "      <td>Oligo</td>\n",
       "      <td>255.043678</td>\n",
       "      <td>863</td>\n",
       "    </tr>\n",
       "    <tr>\n",
       "      <th>336074706103419484501535095917410831417</th>\n",
       "      <td>Oligo</td>\n",
       "      <td>298.589934</td>\n",
       "      <td>1426</td>\n",
       "    </tr>\n",
       "    <tr>\n",
       "      <th>179117357717369278884189379535888871018</th>\n",
       "      <td>Oligo</td>\n",
       "      <td>305.797609</td>\n",
       "      <td>1601</td>\n",
       "    </tr>\n",
       "    <tr>\n",
       "      <th>36321914521561890358202806077673807953</th>\n",
       "      <td>Oligo</td>\n",
       "      <td>76.777445</td>\n",
       "      <td>210</td>\n",
       "    </tr>\n",
       "    <tr>\n",
       "      <th>92271180002801802991585284299263797402</th>\n",
       "      <td>Oligo</td>\n",
       "      <td>376.983590</td>\n",
       "      <td>2034</td>\n",
       "    </tr>\n",
       "  </tbody>\n",
       "</table>\n",
       "</div>"
      ],
      "text/plain": [
       "                                        subclass  nucleus_volume  total_spots\n",
       "uid                                                                          \n",
       "259202492748634617304623818845147108919    Oligo      255.043678          863\n",
       "336074706103419484501535095917410831417    Oligo      298.589934         1426\n",
       "179117357717369278884189379535888871018    Oligo      305.797609         1601\n",
       "36321914521561890358202806077673807953     Oligo       76.777445          210\n",
       "92271180002801802991585284299263797402     Oligo      376.983590         2034"
      ]
     },
     "execution_count": 11,
     "metadata": {},
     "output_type": "execute_result"
    }
   ],
   "source": [
    "nuc_volume_fname = os.path.join(output_analysis_folder, f'nucleus_volume_convexhull_bysubclass.csv')\n",
    "\n",
    "nuc_volume_df = pd.read_csv(nuc_volume_fname, index_col=0)\n",
    "nuc_volume_df.head()"
   ]
  },
  {
   "cell_type": "markdown",
   "id": "84e8b89f",
   "metadata": {},
   "source": [
    "## filter by spot numbers"
   ]
  },
  {
   "cell_type": "code",
   "execution_count": 12,
   "id": "827cc453",
   "metadata": {},
   "outputs": [
    {
     "name": "stdout",
     "output_type": "stream",
     "text": [
      "A point indicating potential doublet: 1250\n"
     ]
    },
    {
     "data": {
      "image/png": "[encoded data removed]",
      "text/plain": [
       "<Figure size 150x150 with 1 Axes>"
      ]
     },
     "metadata": {},
     "output_type": "display_data"
    },
    {
     "data": {
      "image/png": "[encoded data removed]",
      "text/plain": [
       "<Figure size 150x150 with 1 Axes>"
      ]
     },
     "metadata": {},
     "output_type": "display_data"
    },
    {
     "data": {
      "image/png": "[encoded data removed]",
      "text/plain": [
       "<Figure size 150x150 with 1 Axes>"
      ]
     },
     "metadata": {},
     "output_type": "display_data"
    }
   ],
   "source": [
    "x = []\n",
    "y = []\n",
    "c = []\n",
    "\n",
    "# a reference homogeneous celltype to guess the potential doublet \n",
    "ref_celltype = 'L2/3 IT'\n",
    "for min_pts_th in np.arange(0,2500,50):\n",
    "    df_plot = nuc_volume_df[nuc_volume_df['total_spots']>=min_pts_th]\n",
    "    df_plot = df_plot[df_plot['subclass']==ref_celltype]\n",
    "    y.append(np.median(df_plot['nucleus_volume']))\n",
    "    x.append(min_pts_th)\n",
    "    c.append(len(df_plot))\n",
    "    \n",
    "fig, ax = plt.subplots(figsize=(1,1),dpi=150)\n",
    "#sns.lineplot(x=x, y=c, ax=ax, )\n",
    "sns.scatterplot(x=x, y=c, ax=ax, c='r',s=10)\n",
    "ax.set_xlabel(\"Min spots\", fontsize=_font_size, labelpad=2)\n",
    "ax.set_ylabel(\"Cell num\", fontsize=_font_size, labelpad=2)\n",
    "\n",
    "fig, ax = plt.subplots(figsize=(1,1),dpi=150)\n",
    "#sns.lineplot(x=x, y=y, ax=ax, )\n",
    "sns.scatterplot(x=x, y=y, ax=ax, c='r',s=10)\n",
    "ax.set_xlabel(\"Min spots\", fontsize=_font_size, labelpad=2)\n",
    "ax.set_ylabel(\"Nuclei volume\", fontsize=_font_size, labelpad=2)\n",
    "\n",
    "# fit with 3 order polynomial for data in range (0-2000)\n",
    "fig, ax = plt.subplots(figsize=(1,1),dpi=150)\n",
    "coefs = np.polyfit(x,y, 3)\n",
    "p = np.poly1d(coefs)\n",
    "y_fit = p(x)\n",
    "sns.lineplot(x=x, y=y_fit, ax=ax, linewidth=2)\n",
    "ax.set_xlabel(\"Min spots\", fontsize=_font_size, labelpad=2)\n",
    "ax.set_ylabel(\"Fitted Nuclei volume\", fontsize=_font_size, labelpad=2)\n",
    "\n",
    "\n",
    "# get turning point from 2nd derivative\n",
    "dy=np.diff(y_fit,1)\n",
    "dx=np.diff(x,1)\n",
    "yfirst = dy/dx\n",
    "xfirst = 0.5*(np.array(x)[:-1]+np.array(x)[1:])\n",
    "dyfirst = np.diff(yfirst,1)\n",
    "dxfirst = np.diff(xfirst,1)\n",
    "dysecond = dyfirst/dxfirst\n",
    "sel_x = x[np.where(dysecond>0)[0][0]]\n",
    "\n",
    "print ('A point indicating potential doublet:',sel_x)\n",
    "ax.vlines(sel_x, ymin=min(ax.get_ylim()),ymax=max(ax.get_ylim()), color='red')\n",
    "\n",
    "plt.show()"
   ]
  },
  {
   "cell_type": "markdown",
   "id": "57c5bf7d",
   "metadata": {},
   "source": [
    "# Load RNA and ATAC sequencing data"
   ]
  },
  {
   "cell_type": "code",
   "execution_count": 13,
   "id": "6602583c",
   "metadata": {},
   "outputs": [],
   "source": [
    "RNA_count_df_dict = {'snRNA_Mouse':None, \n",
    "                     'ATAC_Mouse':None,\n",
    "                     'snRNA_Human':None,\n",
    "                     'MERFISH_Human':None,}"
   ]
  },
  {
   "cell_type": "markdown",
   "id": "7c41242c",
   "metadata": {},
   "source": [
    "## mouse 10x snRNAseq data (MOp)\n",
    "\n",
    "Processed snRNAseq data can be generated by notebook from below:\n",
    "\n",
    "[external/scripts/sn_rna/2_prepare_and_rename_sn_rna_mop](../../external/scripts/sn_rna/2_prepare_and_rename_sn_rna_mop.ipynb)"
   ]
  },
  {
   "cell_type": "code",
   "execution_count": 14,
   "id": "76944d2e",
   "metadata": {},
   "outputs": [
    {
     "data": {
      "text/html": [
       "<div>\n",
       "<style scoped>\n",
       "    .dataframe tbody tr th:only-of-type {\n",
       "        vertical-align: middle;\n",
       "    }\n",
       "\n",
       "    .dataframe tbody tr th {\n",
       "        vertical-align: top;\n",
       "    }\n",
       "\n",
       "    .dataframe thead th {\n",
       "        text-align: right;\n",
       "    }\n",
       "</style>\n",
       "<table border=\"1\" class=\"dataframe\">\n",
       "  <thead>\n",
       "    <tr style=\"text-align: right;\">\n",
       "      <th></th>\n",
       "      <th>umi.counts</th>\n",
       "      <th>total_counts</th>\n",
       "      <th>n_genes_by_counts</th>\n",
       "      <th>subclass_label_new</th>\n",
       "      <th>class_label_new</th>\n",
       "      <th>neuron_identity</th>\n",
       "    </tr>\n",
       "  </thead>\n",
       "  <tbody>\n",
       "    <tr>\n",
       "      <th>AAACCCAAGCTCTTCC-1L8TX_181211_01_A02</th>\n",
       "      <td>28466</td>\n",
       "      <td>28466.0</td>\n",
       "      <td>4772</td>\n",
       "      <td>L6b</td>\n",
       "      <td>Gluta</td>\n",
       "      <td>Neuronal</td>\n",
       "    </tr>\n",
       "    <tr>\n",
       "      <th>AAACCCAAGTCGAATA-1L8TX_181211_01_A02</th>\n",
       "      <td>19669</td>\n",
       "      <td>19669.0</td>\n",
       "      <td>3803</td>\n",
       "      <td>L6 CT</td>\n",
       "      <td>Gluta</td>\n",
       "      <td>Neuronal</td>\n",
       "    </tr>\n",
       "    <tr>\n",
       "      <th>AAACCCACAACCCTAA-1L8TX_181211_01_A02</th>\n",
       "      <td>9296</td>\n",
       "      <td>9296.0</td>\n",
       "      <td>2485</td>\n",
       "      <td>Vip</td>\n",
       "      <td>GABA</td>\n",
       "      <td>Neuronal</td>\n",
       "    </tr>\n",
       "    <tr>\n",
       "      <th>AAACCCAGTATAGCTC-1L8TX_181211_01_A02</th>\n",
       "      <td>14204</td>\n",
       "      <td>14204.0</td>\n",
       "      <td>3234</td>\n",
       "      <td>L4/5 IT</td>\n",
       "      <td>Gluta</td>\n",
       "      <td>Neuronal</td>\n",
       "    </tr>\n",
       "    <tr>\n",
       "      <th>AAACCCAGTCAGACTT-1L8TX_181211_01_A02</th>\n",
       "      <td>21334</td>\n",
       "      <td>21334.0</td>\n",
       "      <td>3828</td>\n",
       "      <td>L2/3 IT</td>\n",
       "      <td>Gluta</td>\n",
       "      <td>Neuronal</td>\n",
       "    </tr>\n",
       "  </tbody>\n",
       "</table>\n",
       "</div>"
      ],
      "text/plain": [
       "                                      umi.counts  total_counts  \\\n",
       "AAACCCAAGCTCTTCC-1L8TX_181211_01_A02       28466       28466.0   \n",
       "AAACCCAAGTCGAATA-1L8TX_181211_01_A02       19669       19669.0   \n",
       "AAACCCACAACCCTAA-1L8TX_181211_01_A02        9296        9296.0   \n",
       "AAACCCAGTATAGCTC-1L8TX_181211_01_A02       14204       14204.0   \n",
       "AAACCCAGTCAGACTT-1L8TX_181211_01_A02       21334       21334.0   \n",
       "\n",
       "                                      n_genes_by_counts subclass_label_new  \\\n",
       "AAACCCAAGCTCTTCC-1L8TX_181211_01_A02               4772                L6b   \n",
       "AAACCCAAGTCGAATA-1L8TX_181211_01_A02               3803              L6 CT   \n",
       "AAACCCACAACCCTAA-1L8TX_181211_01_A02               2485                Vip   \n",
       "AAACCCAGTATAGCTC-1L8TX_181211_01_A02               3234            L4/5 IT   \n",
       "AAACCCAGTCAGACTT-1L8TX_181211_01_A02               3828            L2/3 IT   \n",
       "\n",
       "                                     class_label_new neuron_identity  \n",
       "AAACCCAAGCTCTTCC-1L8TX_181211_01_A02           Gluta        Neuronal  \n",
       "AAACCCAAGTCGAATA-1L8TX_181211_01_A02           Gluta        Neuronal  \n",
       "AAACCCACAACCCTAA-1L8TX_181211_01_A02            GABA        Neuronal  \n",
       "AAACCCAGTATAGCTC-1L8TX_181211_01_A02           Gluta        Neuronal  \n",
       "AAACCCAGTCAGACTT-1L8TX_181211_01_A02           Gluta        Neuronal  "
      ]
     },
     "execution_count": 14,
     "metadata": {},
     "output_type": "execute_result"
    }
   ],
   "source": [
    "data_key = 'snRNA_Mouse'\n",
    "\n",
    "import scanpy as sc\n",
    "\n",
    "sn_RNA_folder = r'L:\\Shiwei\\DNA_MERFISH_analysis\\10x_nuclei_v3_MOp_AIBS\\Analysis_10X_nuclei_v3_AIBS\\processed'\n",
    "sn_adata = sc.read(os.path.join(sn_RNA_folder,r'MOp_10x_sn_labeled.h5ad'))\n",
    "\n",
    "sn_adata_ori = sn_adata.raw.to_adata()\n",
    "measure_df = sn_adata_ori.obs[['umi.counts','total_counts','n_genes_by_counts','subclass_label_new','class_label_new','neuron_identity']]\n",
    "sel_measure_df = measure_df[measure_df['subclass_label_new'].isin(selected_cell_labels)]\n",
    "RNA_count_df_dict[data_key]=sel_measure_df\n",
    "sel_measure_df.head()"
   ]
  },
  {
   "cell_type": "markdown",
   "id": "1b0b3e6f",
   "metadata": {},
   "source": [
    "## define cell type order for analysis using reference data"
   ]
  },
  {
   "cell_type": "code",
   "execution_count": 15,
   "id": "5a654956",
   "metadata": {},
   "outputs": [
    {
     "data": {
      "text/plain": [
       "CategoricalIndex(['Micro', 'Oligo', 'Endo', 'OPC', 'Astro', 'Vip', 'Lamp5',\n",
       "                  'L5/6 NP', 'Sst', 'Sncg', 'Pvalb', 'L4/5 IT', 'L6 CT',\n",
       "                  'L6 IT', 'L6b', 'L2/3 IT', 'L5 IT', 'L5 ET'],\n",
       "                 categories=['Astro', 'Endo', 'L2/3 IT', 'L5 ET', ..., 'Pvalb', 'Sncg', 'Sst', 'Vip'], ordered=False, dtype='category', name='subclass_label_new')"
      ]
     },
     "execution_count": 15,
     "metadata": {},
     "output_type": "execute_result"
    }
   ],
   "source": [
    "# sort plotting order by meadian of groups from mouse snRNA\n",
    "ref_data_key = 'snRNA_Mouse'\n",
    "ref_df_mean = pd.DataFrame(RNA_count_df_dict[ref_data_key].groupby(by='subclass_label_new')['umi.counts'].median())\n",
    "sel_ref_df_mean = ref_df_mean.sort_values(by='umi.counts')\n",
    "sorted_cellplot_order = sel_ref_df_mean.index\n",
    "sorted_cellplot_order"
   ]
  },
  {
   "cell_type": "markdown",
   "id": "2b05db3e",
   "metadata": {},
   "source": [
    "## human M1 snRNAseq data\n",
    "\n",
    "Processed data can be generated by notebook below:\n",
    "\n",
    "[external/scripts/sn_rna_human/2_prepare_and_rename_sn_rna_hm1](../../external/scripts/sn_rna_human/2_prepare_and_rename_sn_rna_hm1.ipynb)"
   ]
  },
  {
   "cell_type": "code",
   "execution_count": 16,
   "id": "4379cb35",
   "metadata": {},
   "outputs": [
    {
     "data": {
      "text/html": [
       "<div>\n",
       "<style scoped>\n",
       "    .dataframe tbody tr th:only-of-type {\n",
       "        vertical-align: middle;\n",
       "    }\n",
       "\n",
       "    .dataframe tbody tr th {\n",
       "        vertical-align: top;\n",
       "    }\n",
       "\n",
       "    .dataframe thead th {\n",
       "        text-align: right;\n",
       "    }\n",
       "</style>\n",
       "<table border=\"1\" class=\"dataframe\">\n",
       "  <thead>\n",
       "    <tr style=\"text-align: right;\">\n",
       "      <th></th>\n",
       "      <th>total_counts</th>\n",
       "      <th>n_genes_by_counts</th>\n",
       "      <th>subclass_label_new</th>\n",
       "      <th>class_label_new</th>\n",
       "    </tr>\n",
       "    <tr>\n",
       "      <th>sample_name</th>\n",
       "      <th></th>\n",
       "      <th></th>\n",
       "      <th></th>\n",
       "      <th></th>\n",
       "    </tr>\n",
       "  </thead>\n",
       "  <tbody>\n",
       "    <tr>\n",
       "      <th>AAACCCAAGGATTTCC-LKTX_190129_01_A01</th>\n",
       "      <td>14396.0</td>\n",
       "      <td>4815</td>\n",
       "      <td>Sst</td>\n",
       "      <td>GABA</td>\n",
       "    </tr>\n",
       "    <tr>\n",
       "      <th>AAACCCAAGTATGGCG-LKTX_190129_01_A01</th>\n",
       "      <td>12027.0</td>\n",
       "      <td>4372</td>\n",
       "      <td>L5/6 NP</td>\n",
       "      <td>Gluta</td>\n",
       "    </tr>\n",
       "    <tr>\n",
       "      <th>AAACCCACAAAGTGTA-LKTX_190129_01_A01</th>\n",
       "      <td>16112.0</td>\n",
       "      <td>5280</td>\n",
       "      <td>L4/5 IT</td>\n",
       "      <td>Gluta</td>\n",
       "    </tr>\n",
       "    <tr>\n",
       "      <th>AAACCCACACTACTTT-LKTX_190129_01_A01</th>\n",
       "      <td>2994.0</td>\n",
       "      <td>1649</td>\n",
       "      <td>L2/3 IT</td>\n",
       "      <td>Gluta</td>\n",
       "    </tr>\n",
       "    <tr>\n",
       "      <th>AAACCCACAGTGAGCA-LKTX_190129_01_A01</th>\n",
       "      <td>5202.0</td>\n",
       "      <td>2499</td>\n",
       "      <td>Oligo</td>\n",
       "      <td>Oligo</td>\n",
       "    </tr>\n",
       "  </tbody>\n",
       "</table>\n",
       "</div>"
      ],
      "text/plain": [
       "                                     total_counts  n_genes_by_counts  \\\n",
       "sample_name                                                            \n",
       "AAACCCAAGGATTTCC-LKTX_190129_01_A01       14396.0               4815   \n",
       "AAACCCAAGTATGGCG-LKTX_190129_01_A01       12027.0               4372   \n",
       "AAACCCACAAAGTGTA-LKTX_190129_01_A01       16112.0               5280   \n",
       "AAACCCACACTACTTT-LKTX_190129_01_A01        2994.0               1649   \n",
       "AAACCCACAGTGAGCA-LKTX_190129_01_A01        5202.0               2499   \n",
       "\n",
       "                                    subclass_label_new class_label_new  \n",
       "sample_name                                                             \n",
       "AAACCCAAGGATTTCC-LKTX_190129_01_A01                Sst            GABA  \n",
       "AAACCCAAGTATGGCG-LKTX_190129_01_A01            L5/6 NP           Gluta  \n",
       "AAACCCACAAAGTGTA-LKTX_190129_01_A01            L4/5 IT           Gluta  \n",
       "AAACCCACACTACTTT-LKTX_190129_01_A01            L2/3 IT           Gluta  \n",
       "AAACCCACAGTGAGCA-LKTX_190129_01_A01              Oligo           Oligo  "
      ]
     },
     "execution_count": 16,
     "metadata": {},
     "output_type": "execute_result"
    }
   ],
   "source": [
    "data_key = 'snRNA_Human'\n",
    "\n",
    "\n",
    "import scanpy as sc\n",
    "#import os\n",
    "\n",
    "sn_RNA_folder = r'L:\\Shiwei\\DNA_MERFISH_analysis\\hM1_10x'\n",
    "sn_adata = sc.read(os.path.join(sn_RNA_folder,r'hM1_10X_labeled_newname.h5ad'))\n",
    "\n",
    "sn_adata_ori = sn_adata.raw.to_adata()\n",
    "measure_df = sn_adata_ori.obs[['total_counts','n_genes_by_counts','subclass_label_new','class_label_new',]]\n",
    "sel_measure_df = measure_df[measure_df['subclass_label_new'].isin(sorted_cellplot_order)]\n",
    "RNA_count_df_dict[data_key]=sel_measure_df\n",
    "sel_measure_df.head()"
   ]
  },
  {
   "cell_type": "markdown",
   "id": "3260b2cb",
   "metadata": {},
   "source": [
    "## human 4000 genes MERFISH\n",
    "\n",
    "Data below is descirbed in the notebook:\n",
    "\n",
    "[external/scripts/merfish_4000/1_human_mtg_merfish_inspection](../../external/scripts/merfish_4000/1_human_mtg_merfish_inspection.ipynb)"
   ]
  },
  {
   "cell_type": "code",
   "execution_count": 17,
   "id": "d219de90",
   "metadata": {},
   "outputs": [
    {
     "name": "stderr",
     "output_type": "stream",
     "text": [
      "C:\\Users\\shiwei\\Anaconda3\\envs\\shiwei_chromatin\\lib\\site-packages\\anndata\\_core\\anndata.py:1828: UserWarning: Observation names are not unique. To make them unique, call `.obs_names_make_unique`.\n",
      "  utils.warn_names_duplicates(\"obs\")\n"
     ]
    },
    {
     "data": {
      "text/plain": [
       "array(['eL2/3.IT', 'eL4/5.IT', 'eL5.ET', 'eL5.IT', 'eL5/6.NP', 'eL6.CT',\n",
       "       'eL6.IT', 'eL6.IT.CAR3', 'eL6b', 'iLAMP5', 'iPVALB', 'iSST',\n",
       "       'iVIP', 'lASC', 'lMGC', 'lOGC', 'lOPC', 'oENDO', 'oMURAL'],\n",
       "      dtype='<U11')"
      ]
     },
     "execution_count": 17,
     "metadata": {},
     "output_type": "execute_result"
    }
   ],
   "source": [
    "data_key = 'MERFISH_Human'\n",
    "\n",
    "import scanpy as sc\n",
    "\n",
    "\n",
    "rna_folder = r'L:\\Shiwei\\DNA_MERFISH_analysis\\MERFISH_MTG_STG\\doi_10.5061_dryad.x3ffbg7mw__v16'\n",
    "rna_fname = os.path.join(rna_folder, r'MTG_4000_MERFISH_raw.h5ad')\n",
    "\n",
    "rna_raw_adata = sc.read_h5ad(rna_fname)\n",
    "rna_raw_adata.obs_names_make_unique()\n",
    "\n",
    "np.unique(rna_raw_adata.obs['cluster_L2'].tolist())"
   ]
  },
  {
   "cell_type": "markdown",
   "id": "1e76a115",
   "metadata": {},
   "source": [
    "### change cell type labels"
   ]
  },
  {
   "cell_type": "code",
   "execution_count": 18,
   "id": "a459fdb7",
   "metadata": {},
   "outputs": [
    {
     "data": {
      "text/plain": [
       "array(['Astro', 'Endo', 'L2/3 IT', 'L4/5 IT', 'L5 ET', 'L5 IT', 'L5/6 NP',\n",
       "       'L6 CT', 'L6 IT', 'L6b', 'Lamp5', 'Micro', 'OPC', 'Oligo', 'Pvalb',\n",
       "       'Sst', 'Vip', 'eL6.IT.CAR3', 'oMURAL'], dtype='<U11')"
      ]
     },
     "execution_count": 18,
     "metadata": {},
     "output_type": "execute_result"
    }
   ],
   "source": [
    "rna_raw_adata.obs['subclass_label_new'] = rna_raw_adata.obs['cluster_L2'] \n",
    "\n",
    "new_subclass_dict = {'eL2/3.IT':'L2/3 IT', \n",
    "                     'eL4/5.IT':'L4/5 IT',\n",
    "                     'eL5.ET':'L5 ET', \n",
    "                     'eL5.IT':'L5 IT', \n",
    "                     'eL5/6.NP':'L5/6 NP', \n",
    "                     'eL6.CT':'L6 CT',\n",
    "                     'eL6.IT':'L6 IT', \n",
    "                     'eL6b':'L6b', \n",
    "                     'iLAMP5':'Lamp5',\n",
    "                     'iPVALB':'Pvalb',\n",
    "                     'iLAMP5':'Lamp5',\n",
    "                     'iSST':'Sst',\n",
    "                     'iVIP':'Vip',\n",
    "                     'lASC':'Astro', 'lMGC':'Micro', 'lOGC':'Oligo', 'lOPC':'OPC', 'oENDO':'Endo', }\n",
    "\n",
    "rna_raw_adata.obs = rna_raw_adata.obs.replace({'subclass_label_new':new_subclass_dict})\n",
    "np.unique(rna_raw_adata.obs['subclass_label_new'].tolist())"
   ]
  },
  {
   "cell_type": "code",
   "execution_count": 19,
   "id": "7a16a858",
   "metadata": {},
   "outputs": [
    {
     "data": {
      "text/html": [
       "<div>\n",
       "<style scoped>\n",
       "    .dataframe tbody tr th:only-of-type {\n",
       "        vertical-align: middle;\n",
       "    }\n",
       "\n",
       "    .dataframe tbody tr th {\n",
       "        vertical-align: top;\n",
       "    }\n",
       "\n",
       "    .dataframe thead th {\n",
       "        text-align: right;\n",
       "    }\n",
       "</style>\n",
       "<table border=\"1\" class=\"dataframe\">\n",
       "  <thead>\n",
       "    <tr style=\"text-align: right;\">\n",
       "      <th></th>\n",
       "      <th>total_counts</th>\n",
       "      <th>n_genes_by_counts</th>\n",
       "      <th>subclass_label_new</th>\n",
       "    </tr>\n",
       "  </thead>\n",
       "  <tbody>\n",
       "    <tr>\n",
       "      <th>fov_101_feature_3</th>\n",
       "      <td>3976</td>\n",
       "      <td>1202</td>\n",
       "      <td>L5 IT</td>\n",
       "    </tr>\n",
       "    <tr>\n",
       "      <th>fov_101_feature_5</th>\n",
       "      <td>1908</td>\n",
       "      <td>804</td>\n",
       "      <td>L5 IT</td>\n",
       "    </tr>\n",
       "    <tr>\n",
       "      <th>fov_101_feature_6</th>\n",
       "      <td>2069</td>\n",
       "      <td>840</td>\n",
       "      <td>L5/6 NP</td>\n",
       "    </tr>\n",
       "    <tr>\n",
       "      <th>fov_102_feature_3</th>\n",
       "      <td>3136</td>\n",
       "      <td>1165</td>\n",
       "      <td>L5 IT</td>\n",
       "    </tr>\n",
       "    <tr>\n",
       "      <th>fov_102_feature_5</th>\n",
       "      <td>2552</td>\n",
       "      <td>984</td>\n",
       "      <td>L5 IT</td>\n",
       "    </tr>\n",
       "  </tbody>\n",
       "</table>\n",
       "</div>"
      ],
      "text/plain": [
       "                   total_counts  n_genes_by_counts subclass_label_new\n",
       "fov_101_feature_3          3976               1202              L5 IT\n",
       "fov_101_feature_5          1908                804              L5 IT\n",
       "fov_101_feature_6          2069                840            L5/6 NP\n",
       "fov_102_feature_3          3136               1165              L5 IT\n",
       "fov_102_feature_5          2552                984              L5 IT"
      ]
     },
     "execution_count": 19,
     "metadata": {},
     "output_type": "execute_result"
    }
   ],
   "source": [
    "# define cell type for human data plotting\n",
    "hm_sorted_cellplot_order = ['Micro', 'Oligo', 'Endo', 'OPC', 'Astro', \n",
    "                           'Vip', 'Lamp5', \n",
    "                            'Sst',  'Pvalb', 'L5/6 NP',\n",
    "                            'L4/5 IT', 'L6 CT',\n",
    "                            'L6 IT','L6b','L2/3 IT', 'L5 IT', 'L5 ET']\n",
    "\n",
    "measure_df = rna_raw_adata.obs[['total_counts','n_genes_by_counts','subclass_label_new']]\n",
    "sel_measure_df = measure_df[measure_df['subclass_label_new'].isin(hm_sorted_cellplot_order)]\n",
    "RNA_count_df_dict[data_key]=sel_measure_df\n",
    "sel_measure_df.head()"
   ]
  },
  {
   "cell_type": "markdown",
   "id": "4f127260",
   "metadata": {},
   "source": [
    "## mouse atac seq data (MOp)"
   ]
  },
  {
   "cell_type": "markdown",
   "id": "2b96736d",
   "metadata": {},
   "source": [
    "Data below can be generated using the notebook as:\n",
    "\n",
    "[external/scripts/sn_atac/3_label_atac_anndata_mop_episcanpy](../../external/scripts/sn_atac/3_label_atac_anndata_mop_episcanpy.ipynb)"
   ]
  },
  {
   "cell_type": "code",
   "execution_count": 20,
   "id": "2144a3d2",
   "metadata": {},
   "outputs": [
    {
     "data": {
      "text/html": [
       "<div>\n",
       "<style scoped>\n",
       "    .dataframe tbody tr th:only-of-type {\n",
       "        vertical-align: middle;\n",
       "    }\n",
       "\n",
       "    .dataframe tbody tr th {\n",
       "        vertical-align: top;\n",
       "    }\n",
       "\n",
       "    .dataframe thead th {\n",
       "        text-align: right;\n",
       "    }\n",
       "</style>\n",
       "<table border=\"1\" class=\"dataframe\">\n",
       "  <thead>\n",
       "    <tr style=\"text-align: right;\">\n",
       "      <th></th>\n",
       "      <th>UM</th>\n",
       "      <th>nb_features</th>\n",
       "      <th>subclass_label_new</th>\n",
       "      <th>class_label_new</th>\n",
       "      <th>neuron_identity</th>\n",
       "    </tr>\n",
       "  </thead>\n",
       "  <tbody>\n",
       "    <tr>\n",
       "      <th>4</th>\n",
       "      <td>17586.0</td>\n",
       "      <td>4047</td>\n",
       "      <td>L5 IT</td>\n",
       "      <td>Gluta</td>\n",
       "      <td>Neuronal</td>\n",
       "    </tr>\n",
       "    <tr>\n",
       "      <th>5</th>\n",
       "      <td>13837.0</td>\n",
       "      <td>3585</td>\n",
       "      <td>L6 CT</td>\n",
       "      <td>Gluta</td>\n",
       "      <td>Neuronal</td>\n",
       "    </tr>\n",
       "    <tr>\n",
       "      <th>6</th>\n",
       "      <td>26303.0</td>\n",
       "      <td>8088</td>\n",
       "      <td>L6 IT</td>\n",
       "      <td>Gluta</td>\n",
       "      <td>Neuronal</td>\n",
       "    </tr>\n",
       "    <tr>\n",
       "      <th>8</th>\n",
       "      <td>42880.0</td>\n",
       "      <td>11948</td>\n",
       "      <td>L5 IT</td>\n",
       "      <td>Gluta</td>\n",
       "      <td>Neuronal</td>\n",
       "    </tr>\n",
       "    <tr>\n",
       "      <th>9</th>\n",
       "      <td>2655.0</td>\n",
       "      <td>729</td>\n",
       "      <td>L2/3 IT</td>\n",
       "      <td>Gluta</td>\n",
       "      <td>Neuronal</td>\n",
       "    </tr>\n",
       "  </tbody>\n",
       "</table>\n",
       "</div>"
      ],
      "text/plain": [
       "        UM  nb_features subclass_label_new class_label_new neuron_identity\n",
       "4  17586.0         4047              L5 IT           Gluta        Neuronal\n",
       "5  13837.0         3585              L6 CT           Gluta        Neuronal\n",
       "6  26303.0         8088              L6 IT           Gluta        Neuronal\n",
       "8  42880.0        11948              L5 IT           Gluta        Neuronal\n",
       "9   2655.0          729            L2/3 IT           Gluta        Neuronal"
      ]
     },
     "execution_count": 20,
     "metadata": {},
     "output_type": "execute_result"
    }
   ],
   "source": [
    "data_key = 'ATAC_Mouse'\n",
    "\n",
    "import scanpy as sc\n",
    "\n",
    "atac_folder = r'L:\\Shiwei\\DNA_MERFISH_analysis\\Analysis_MOp_methylation_ATAC\\data\\EckerRen_Mouse_MOp_methylation_ATAC'\n",
    "atac_adata_ori  = sc.read(os.path.join(atac_folder,r'MOp_ATAC_combined_labeled.h5ad'))\n",
    "\n",
    "measure_df = atac_adata_ori.obs[['UM','nb_features','subclass_label_new','class_label_new','neuron_identity']]\n",
    "sel_measure_df = measure_df[measure_df['subclass_label_new'].isin(sorted_cellplot_order)]\n",
    "RNA_count_df_dict[data_key]=sel_measure_df\n",
    "sel_measure_df.head()"
   ]
  },
  {
   "cell_type": "code",
   "execution_count": 21,
   "id": "a0609864",
   "metadata": {},
   "outputs": [],
   "source": [
    "sub_sorted_cellplot_order =['Micro', 'Oligo', 'Endo', 'OPC', 'Astro', \n",
    "                  'Sst',  'Pvalb',  'L5/6 NP', 'L4/5 IT', 'L6 CT',\n",
    "                  'L6 IT', 'L2/3 IT', 'L5 IT', 'L5 ET']"
   ]
  },
  {
   "cell_type": "code",
   "execution_count": 22,
   "id": "83b6d61b",
   "metadata": {},
   "outputs": [],
   "source": [
    "#sorted_cellplot_order_byRNA"
   ]
  },
  {
   "cell_type": "markdown",
   "id": "09dcadf4",
   "metadata": {},
   "source": [
    "# Plot boxplot figures"
   ]
  },
  {
   "cell_type": "code",
   "execution_count": 23,
   "id": "31c30a32",
   "metadata": {},
   "outputs": [
    {
     "data": {
      "text/plain": [
       "dict_keys(['snRNA_Mouse', 'ATAC_Mouse', 'snRNA_Human', 'MERFISH_Human'])"
      ]
     },
     "execution_count": 23,
     "metadata": {},
     "output_type": "execute_result"
    }
   ],
   "source": [
    "RNA_count_df_dict.keys()"
   ]
  },
  {
   "cell_type": "markdown",
   "id": "167db42d",
   "metadata": {},
   "source": [
    "## plot snRNAseq for mouse MOp"
   ]
  },
  {
   "cell_type": "code",
   "execution_count": 24,
   "id": "9618eabe",
   "metadata": {},
   "outputs": [
    {
     "name": "stderr",
     "output_type": "stream",
     "text": [
      "meta NOT subset; don't know how to subset; dropped\n"
     ]
    },
    {
     "data": {
      "image/png": "[encoded data removed]",
      "text/plain": [
       "<Figure size 471.429x229.167 with 1 Axes>"
      ]
     },
     "metadata": {},
     "output_type": "display_data"
    }
   ],
   "source": [
    "%matplotlib inline\n",
    "\n",
    "import seaborn as sns\n",
    "import scanpy as sc\n",
    "\n",
    "\n",
    "df_plot = RNA_count_df_dict['snRNA_Mouse']\n",
    "\n",
    "# plot\n",
    "fig, ax = plt.subplots(figsize=(_page_width/3.5*5/2.5,_page_width/3.6),dpi=150)\n",
    "\n",
    "sns.boxplot(data=df_plot, x='subclass_label_new', y='total_counts', \n",
    "            order = sorted_cellplot_order_byRNA, \n",
    "            ax=ax, \n",
    "            fliersize=0,\n",
    "            whis=[5, 95],\n",
    "            #boxprops={'linewidth': 0.5}\n",
    "            palette=celltype_palette)\n",
    "\n",
    "#ax.set_xticklabels(sorted_types, rotation=70, fontsize=12)\n",
    "plt.tick_params(axis='y', labelsize=_font_size, pad=2) \n",
    "plt.tick_params(axis='x', rotation=90, labelsize=_font_size, pad=2) \n",
    "\n",
    "ax.set_xlabel(\"Cell types\", fontsize=_font_size, labelpad=5)\n",
    "ax.set_ylabel(\"Total transcriptional activity \\n (UMI) per cell\", fontsize=_font_size, labelpad=5)\n",
    "\n",
    "\n",
    "ax.set_ylim([0,50000])\n",
    "ax.grid(False)\n",
    "ax.tick_params(axis='both', pad =1, length=1, width=0.5, labelsize=7) \n",
    "[i[1].set_linewidth(0.5) for i in ax.spines.items()]\n",
    "\n",
    "plt.savefig(os.path.join(output_figure_folder, f'10x_snRNAseq_UMI_mouse.pdf'), \n",
    "            transparent=True, dpi=300, bbox_inches='tight')\n",
    "\n",
    "plt.show()\n",
    "\n"
   ]
  },
  {
   "cell_type": "markdown",
   "id": "899e0b27",
   "metadata": {},
   "source": [
    "## plot snRNAseq for human M1"
   ]
  },
  {
   "cell_type": "code",
   "execution_count": 25,
   "id": "a5cea41e",
   "metadata": {},
   "outputs": [
    {
     "name": "stderr",
     "output_type": "stream",
     "text": [
      "meta NOT subset; don't know how to subset; dropped\n"
     ]
    },
    {
     "data": {
      "image/png": "[encoded data removed]",
      "text/plain": [
       "<Figure size 471.429x229.167 with 1 Axes>"
      ]
     },
     "metadata": {},
     "output_type": "display_data"
    }
   ],
   "source": [
    "%matplotlib inline\n",
    "\n",
    "import seaborn as sns\n",
    "import scanpy as sc\n",
    "\n",
    "\n",
    "df_plot = RNA_count_df_dict['snRNA_Human']\n",
    "\n",
    "# plot\n",
    "fig, ax = plt.subplots(figsize=(_page_width/3.5*5/2.5,_page_width/3.6),dpi=150)\n",
    "\n",
    "sns.boxplot(data=df_plot, x='subclass_label_new', y='total_counts', \n",
    "            order = sorted_cellplot_order_byRNA, \n",
    "            ax=ax, \n",
    "            fliersize=0,\n",
    "            whis=[5, 95],\n",
    "            #boxprops={'linewidth': 0.5}\n",
    "            palette=celltype_palette)\n",
    "\n",
    "#ax.set_xticklabels(sorted_types, rotation=70, fontsize=12)\n",
    "plt.tick_params(axis='y', labelsize=_font_size, pad=2) \n",
    "plt.tick_params(axis='x', rotation=90, labelsize=_font_size, pad=2) \n",
    "\n",
    "ax.set_xlabel(\"Cell types\", fontsize=_font_size, labelpad=5)\n",
    "ax.set_ylabel(\"Total transcriptional activity \\n (UMI) per cell\", fontsize=_font_size, labelpad=5)\n",
    "\n",
    "\n",
    "ax.set_ylim([0,60000])\n",
    "ax.grid(False)\n",
    "ax.tick_params(axis='both', pad =1, length=1, width=0.5, labelsize=7) \n",
    "[i[1].set_linewidth(0.5) for i in ax.spines.items()]\n",
    "\n",
    "plt.savefig(os.path.join(output_figure_folder, f'10x_snRNAseq_UMI_human.pdf'), \n",
    "            transparent=True, dpi=300, bbox_inches='tight')\n",
    "\n",
    "plt.show()\n",
    "\n"
   ]
  },
  {
   "cell_type": "markdown",
   "id": "59fbd9bf",
   "metadata": {},
   "source": [
    "## plot MERFISH for human MTG"
   ]
  },
  {
   "cell_type": "code",
   "execution_count": 26,
   "id": "2b10046e",
   "metadata": {},
   "outputs": [
    {
     "name": "stderr",
     "output_type": "stream",
     "text": [
      "meta NOT subset; don't know how to subset; dropped\n"
     ]
    },
    {
     "data": {
      "image/png": "[encoded data removed]",
      "text/plain": [
       "<Figure size 471.429x229.167 with 1 Axes>"
      ]
     },
     "metadata": {},
     "output_type": "display_data"
    }
   ],
   "source": [
    "%matplotlib inline\n",
    "\n",
    "import seaborn as sns\n",
    "import scanpy as sc\n",
    "\n",
    "\n",
    "df_plot = RNA_count_df_dict['MERFISH_Human']\n",
    "\n",
    "# plot\n",
    "fig, ax = plt.subplots(figsize=(_page_width/3.5*5/2.5,_page_width/3.6),dpi=150)\n",
    "\n",
    "sns.boxplot(data=df_plot, x='subclass_label_new', y='total_counts', \n",
    "            order = hm_sorted_cellplot_order, \n",
    "            ax=ax, \n",
    "            fliersize=0,\n",
    "            whis=[5, 95],\n",
    "            #boxprops={'linewidth': 0.5}\n",
    "            palette=celltype_palette)\n",
    "\n",
    "#ax.set_xticklabels(sorted_types, rotation=70, fontsize=12)\n",
    "plt.tick_params(axis='y', labelsize=_font_size, pad=2) \n",
    "plt.tick_params(axis='x', rotation=90, labelsize=_font_size, pad=2) \n",
    "\n",
    "ax.set_xlabel(\"Cell types\", fontsize=_font_size, labelpad=5)\n",
    "ax.set_ylabel(\"Total transcriptional activity \\n (UMI) per cell, \\n (from 4000 genes)\", fontsize=_font_size, labelpad=5)\n",
    "\n",
    "\n",
    "ax.set_ylim([0,6500])\n",
    "ax.grid(False)\n",
    "ax.tick_params(axis='both', pad =1, length=1, width=0.5, labelsize=7) \n",
    "[i[1].set_linewidth(0.5) for i in ax.spines.items()]\n",
    "\n",
    "plt.savefig(os.path.join(output_figure_folder, f'10x_MERFISH_total_count_human.pdf'), \n",
    "            transparent=True, dpi=300, bbox_inches='tight')\n",
    "\n",
    "plt.show()\n",
    "\n"
   ]
  },
  {
   "cell_type": "markdown",
   "id": "4a5bfbd9",
   "metadata": {},
   "source": [
    "## plot nuclear size from DNA-MERFISH data"
   ]
  },
  {
   "cell_type": "code",
   "execution_count": 27,
   "id": "bc16f791",
   "metadata": {},
   "outputs": [
    {
     "name": "stderr",
     "output_type": "stream",
     "text": [
      "meta NOT subset; don't know how to subset; dropped\n"
     ]
    },
    {
     "data": {
      "image/png": "[encoded data removed]",
      "text/plain": [
       "<Figure size 471.429x229.167 with 1 Axes>"
      ]
     },
     "metadata": {},
     "output_type": "display_data"
    }
   ],
   "source": [
    "\n",
    "%matplotlib inline\n",
    "\n",
    "import seaborn as sns\n",
    "import scanpy as sc\n",
    "\n",
    "# threshold determined above\n",
    "min_pts_th = 1250\n",
    "\n",
    "# sort plotting order by meadian of groups\n",
    "df_plot = nuc_volume_df[nuc_volume_df['total_spots']>=min_pts_th]\n",
    "\n",
    "\n",
    "# plot\n",
    "#fig, ax = plt.subplots(figsize=(_page_width/3*5/2.5,_page_width/3),dpi=150)\n",
    "fig, ax = plt.subplots(figsize=(_page_width/3.5*5/2.5,_page_width/3.6),dpi=150)\n",
    "\n",
    "sns.boxplot(data=df_plot, x='subclass', y='nucleus_volume', \n",
    "            order = sorted_cellplot_order_byRNA, \n",
    "            ax=ax, \n",
    "            fliersize=0,\n",
    "            whis=[5, 95],\n",
    "            #boxprops={'linewidth': 0.5}\n",
    "            palette=celltype_palette)\n",
    "\n",
    "#ax.set_xticklabels(sorted_types, rotation=70, fontsize=12)\n",
    "plt.tick_params(axis='y', labelsize=_font_size, pad=2) \n",
    "plt.tick_params(axis='x', rotation=90, labelsize=_font_size, pad=2) \n",
    "\n",
    "ax.set_xlabel(\"Cell types\", fontsize=_font_size, labelpad=2)\n",
    "ax.set_ylabel(\"Nuclear volume \\n (ConvexHull, \\u03bcm\\u00b3) \\n per cell\", fontsize=_font_size, labelpad=2)\n",
    "ax.set_title(f\"Nuclear volume of single cells across MOp cell types\", fontsize=_font_size+1, y=1)\n",
    "\n",
    "#ax.set_xticklabels(sorted_types, rotation=70, fontsize=12)\n",
    "plt.tick_params(axis='y', labelsize=_font_size) \n",
    "plt.tick_params(axis='x', rotation=90, labelsize=_font_size) \n",
    "\n",
    "\n",
    "#ax.set_xlim([0,3050])\n",
    "ax.set_ylim([150,800])\n",
    "ax.grid(False)\n",
    "ax.tick_params(axis='both', pad =1, length=1, width=0.5, labelsize=7) \n",
    "[i[1].set_linewidth(0.5) for i in ax.spines.items()]\n",
    "\n",
    "plt.savefig(os.path.join(output_figure_folder, f'nuclear_size_convexHull.pdf'), \n",
    "            transparent=True, dpi=300, bbox_inches='tight')\n",
    "\n",
    "plt.show()"
   ]
  },
  {
   "cell_type": "markdown",
   "id": "c7d4f8c4",
   "metadata": {},
   "source": [
    "# Plot scatterplot figures for correlation\n"
   ]
  },
  {
   "cell_type": "markdown",
   "id": "bf600619",
   "metadata": {},
   "source": [
    "## correlate 10x snRNA and nuclear size"
   ]
  },
  {
   "cell_type": "code",
   "execution_count": 28,
   "id": "a8b5e546",
   "metadata": {},
   "outputs": [
    {
     "data": {
      "text/html": [
       "<div>\n",
       "<style scoped>\n",
       "    .dataframe tbody tr th:only-of-type {\n",
       "        vertical-align: middle;\n",
       "    }\n",
       "\n",
       "    .dataframe tbody tr th {\n",
       "        vertical-align: top;\n",
       "    }\n",
       "\n",
       "    .dataframe thead th {\n",
       "        text-align: right;\n",
       "    }\n",
       "</style>\n",
       "<table border=\"1\" class=\"dataframe\">\n",
       "  <thead>\n",
       "    <tr style=\"text-align: right;\">\n",
       "      <th></th>\n",
       "      <th>nucleus_volume</th>\n",
       "      <th>total_counts</th>\n",
       "      <th>n_genes_by_counts</th>\n",
       "      <th>celltype</th>\n",
       "    </tr>\n",
       "    <tr>\n",
       "      <th>subclass</th>\n",
       "      <th></th>\n",
       "      <th></th>\n",
       "      <th></th>\n",
       "      <th></th>\n",
       "    </tr>\n",
       "  </thead>\n",
       "  <tbody>\n",
       "    <tr>\n",
       "      <th>Astro</th>\n",
       "      <td>285.322546</td>\n",
       "      <td>6120.0</td>\n",
       "      <td>1885.0</td>\n",
       "      <td>Astro</td>\n",
       "    </tr>\n",
       "    <tr>\n",
       "      <th>Endo</th>\n",
       "      <td>216.955357</td>\n",
       "      <td>4115.0</td>\n",
       "      <td>1625.0</td>\n",
       "      <td>Endo</td>\n",
       "    </tr>\n",
       "    <tr>\n",
       "      <th>L2/3 IT</th>\n",
       "      <td>465.983908</td>\n",
       "      <td>18831.0</td>\n",
       "      <td>3755.0</td>\n",
       "      <td>L2/3 IT</td>\n",
       "    </tr>\n",
       "    <tr>\n",
       "      <th>L4/5 IT</th>\n",
       "      <td>397.059153</td>\n",
       "      <td>14654.0</td>\n",
       "      <td>3256.0</td>\n",
       "      <td>L4/5 IT</td>\n",
       "    </tr>\n",
       "    <tr>\n",
       "      <th>L5 ET</th>\n",
       "      <td>585.822123</td>\n",
       "      <td>27830.5</td>\n",
       "      <td>4710.5</td>\n",
       "      <td>L5 ET</td>\n",
       "    </tr>\n",
       "    <tr>\n",
       "      <th>L5 IT</th>\n",
       "      <td>484.328127</td>\n",
       "      <td>21118.0</td>\n",
       "      <td>3954.0</td>\n",
       "      <td>L5 IT</td>\n",
       "    </tr>\n",
       "    <tr>\n",
       "      <th>L5/6 NP</th>\n",
       "      <td>409.126734</td>\n",
       "      <td>10853.0</td>\n",
       "      <td>2807.0</td>\n",
       "      <td>L5/6 NP</td>\n",
       "    </tr>\n",
       "    <tr>\n",
       "      <th>L6 CT</th>\n",
       "      <td>416.027680</td>\n",
       "      <td>14703.0</td>\n",
       "      <td>3269.0</td>\n",
       "      <td>L6 CT</td>\n",
       "    </tr>\n",
       "    <tr>\n",
       "      <th>L6 IT</th>\n",
       "      <td>452.559266</td>\n",
       "      <td>17063.0</td>\n",
       "      <td>3530.0</td>\n",
       "      <td>L6 IT</td>\n",
       "    </tr>\n",
       "    <tr>\n",
       "      <th>L6b</th>\n",
       "      <td>421.766380</td>\n",
       "      <td>17290.0</td>\n",
       "      <td>3583.0</td>\n",
       "      <td>L6b</td>\n",
       "    </tr>\n",
       "  </tbody>\n",
       "</table>\n",
       "</div>"
      ],
      "text/plain": [
       "          nucleus_volume  total_counts  n_genes_by_counts celltype\n",
       "subclass                                                          \n",
       "Astro         285.322546        6120.0             1885.0    Astro\n",
       "Endo          216.955357        4115.0             1625.0     Endo\n",
       "L2/3 IT       465.983908       18831.0             3755.0  L2/3 IT\n",
       "L4/5 IT       397.059153       14654.0             3256.0  L4/5 IT\n",
       "L5 ET         585.822123       27830.5             4710.5    L5 ET\n",
       "L5 IT         484.328127       21118.0             3954.0    L5 IT\n",
       "L5/6 NP       409.126734       10853.0             2807.0  L5/6 NP\n",
       "L6 CT         416.027680       14703.0             3269.0    L6 CT\n",
       "L6 IT         452.559266       17063.0             3530.0    L6 IT\n",
       "L6b           421.766380       17290.0             3583.0      L6b"
      ]
     },
     "execution_count": 28,
     "metadata": {},
     "output_type": "execute_result"
    }
   ],
   "source": [
    "# concat information for RNA and nuclear size\n",
    "sel_nuc_volume_df = nuc_volume_df[nuc_volume_df['total_spots']>=min_pts_th]\n",
    "sel_nuc_volume_median = pd.DataFrame(sel_nuc_volume_df.groupby(by='subclass')['nucleus_volume'].median())\n",
    "\n",
    "# get corresponding RNA df\n",
    "sel_RNA_df = RNA_count_df_dict['snRNA_Mouse']\n",
    "# merge df by shared index, which is the subclass\n",
    "sel_nuc_volume_median['total_counts'] = sel_RNA_df.groupby(by='subclass_label_new')['total_counts'].median()\n",
    "sel_nuc_volume_median['n_genes_by_counts'] = sel_RNA_df.groupby(by='subclass_label_new')['n_genes_by_counts'].median()\n",
    "\n",
    "# pass celltype info to a column\n",
    "sel_nuc_volume_median['celltype'] = sel_nuc_volume_median.index\n",
    "sel_nuc_volume_median.head(10)"
   ]
  },
  {
   "cell_type": "code",
   "execution_count": 29,
   "id": "319a9f6f",
   "metadata": {},
   "outputs": [
    {
     "name": "stderr",
     "output_type": "stream",
     "text": [
      "meta NOT subset; don't know how to subset; dropped\n"
     ]
    },
    {
     "data": {
      "image/png": "[encoded data removed]",
      "text/plain": [
       "<Figure size 165x165 with 1 Axes>"
      ]
     },
     "metadata": {},
     "output_type": "display_data"
    }
   ],
   "source": [
    "# plot\n",
    "df_plot = sel_nuc_volume_median.copy(deep=True)\n",
    "\n",
    "fig, ax = plt.subplots(figsize=(_page_width/5,_page_width/5),dpi=150)\n",
    "\n",
    "x_col = 'nucleus_volume'\n",
    "y_col = 'total_counts'\n",
    "\n",
    "\n",
    "gfg = sns.regplot(data=df_plot, x= x_col, y = y_col, ax=ax,\n",
    "                  ci=95,scatter=False,\n",
    "                  line_kws={'linewidth':1}\n",
    "                 )\n",
    "gfg = sns.scatterplot(data=df_plot, \n",
    "                      x= x_col, y = y_col, ax=ax,\n",
    "                        #legend='full',\n",
    "                        hue ='celltype',\n",
    "                      #linewidth = 0,\n",
    "                        palette=celltype_palette,\n",
    "                        s=30,\n",
    "                   )\n",
    "plt.legend(bbox_to_anchor=(1.02, 1.04), loc='upper left', ncols=3, borderaxespad=1,fontsize=_font_size)\n",
    "\n",
    "from scipy.stats import spearmanr, pearsonr\n",
    "valid_ids = np.isfinite(df_plot[x_col].values) & np.isfinite(df_plot[y_col].values)\n",
    "r_val = pearsonr(df_plot[x_col].values[valid_ids], df_plot[y_col].values[valid_ids],)[0]\n",
    "#r_val = spearmanr(df_plot[x_col].values, df_plot[y_col].values, nan_policy = 'omit')[0]\n",
    "\n",
    "ax.text(250,24000,f'r = {round(r_val,2)}',fontsize=_font_size+1)\n",
    "\n",
    "\n",
    "ax.tick_params('x', labelsize=_font_size, \n",
    "                    #width=_ticklabel_width, length=_ticklabel_size,\n",
    "                    pad=1, labelbottom=True) # remove bottom ticklabels for _ax\n",
    "ax.tick_params('y', labelsize=_font_size, \n",
    "                #width=_ticklabel_width, #length=0,\n",
    "                pad=1, labelleft=True)\n",
    "\n",
    "\n",
    "ax.set_xlabel('Cell type median of \\n nuclear volume (\\u03bcm\\u00b3)',fontsize=_font_size,labelpad=2)\n",
    "\n",
    "ax.set_ylabel(f'Cell type median of \\n total transcriptional \\n activity (UMI) per cell', fontsize=_font_size, labelpad=2)\n",
    "\n",
    "\n",
    "ax.grid(False)\n",
    "ax.margins(0.1)\n",
    "plt.savefig(os.path.join(output_figure_folder, f'corr_nuclear_size_and_RNA_count.pdf'), \n",
    "            transparent=True, dpi=300, bbox_inches='tight')\n",
    "\n",
    "plt.show()\n",
    "    "
   ]
  },
  {
   "cell_type": "markdown",
   "id": "546cbbab",
   "metadata": {},
   "source": [
    "## correlate chromatin accessibility and nuclear size"
   ]
  },
  {
   "cell_type": "code",
   "execution_count": 30,
   "id": "e64bdbb0",
   "metadata": {},
   "outputs": [
    {
     "data": {
      "text/html": [
       "<div>\n",
       "<style scoped>\n",
       "    .dataframe tbody tr th:only-of-type {\n",
       "        vertical-align: middle;\n",
       "    }\n",
       "\n",
       "    .dataframe tbody tr th {\n",
       "        vertical-align: top;\n",
       "    }\n",
       "\n",
       "    .dataframe thead th {\n",
       "        text-align: right;\n",
       "    }\n",
       "</style>\n",
       "<table border=\"1\" class=\"dataframe\">\n",
       "  <thead>\n",
       "    <tr style=\"text-align: right;\">\n",
       "      <th></th>\n",
       "      <th>nucleus_volume</th>\n",
       "      <th>total_counts</th>\n",
       "      <th>n_genes_by_counts</th>\n",
       "      <th>celltype</th>\n",
       "    </tr>\n",
       "    <tr>\n",
       "      <th>subclass</th>\n",
       "      <th></th>\n",
       "      <th></th>\n",
       "      <th></th>\n",
       "      <th></th>\n",
       "    </tr>\n",
       "  </thead>\n",
       "  <tbody>\n",
       "    <tr>\n",
       "      <th>Astro</th>\n",
       "      <td>285.322546</td>\n",
       "      <td>3708.5</td>\n",
       "      <td>1358.0</td>\n",
       "      <td>Astro</td>\n",
       "    </tr>\n",
       "    <tr>\n",
       "      <th>Endo</th>\n",
       "      <td>216.955357</td>\n",
       "      <td>3214.0</td>\n",
       "      <td>1246.5</td>\n",
       "      <td>Endo</td>\n",
       "    </tr>\n",
       "    <tr>\n",
       "      <th>L2/3 IT</th>\n",
       "      <td>465.983908</td>\n",
       "      <td>6993.0</td>\n",
       "      <td>2841.0</td>\n",
       "      <td>L2/3 IT</td>\n",
       "    </tr>\n",
       "    <tr>\n",
       "      <th>L4/5 IT</th>\n",
       "      <td>397.059153</td>\n",
       "      <td>6227.5</td>\n",
       "      <td>2348.5</td>\n",
       "      <td>L4/5 IT</td>\n",
       "    </tr>\n",
       "    <tr>\n",
       "      <th>L5 ET</th>\n",
       "      <td>585.822123</td>\n",
       "      <td>8542.0</td>\n",
       "      <td>3863.0</td>\n",
       "      <td>L5 ET</td>\n",
       "    </tr>\n",
       "    <tr>\n",
       "      <th>L5 IT</th>\n",
       "      <td>484.328127</td>\n",
       "      <td>7838.5</td>\n",
       "      <td>3224.0</td>\n",
       "      <td>L5 IT</td>\n",
       "    </tr>\n",
       "    <tr>\n",
       "      <th>L5/6 NP</th>\n",
       "      <td>409.126734</td>\n",
       "      <td>5120.5</td>\n",
       "      <td>1990.5</td>\n",
       "      <td>L5/6 NP</td>\n",
       "    </tr>\n",
       "    <tr>\n",
       "      <th>L6 CT</th>\n",
       "      <td>416.027680</td>\n",
       "      <td>6381.0</td>\n",
       "      <td>2493.0</td>\n",
       "      <td>L6 CT</td>\n",
       "    </tr>\n",
       "    <tr>\n",
       "      <th>L6 IT</th>\n",
       "      <td>452.559266</td>\n",
       "      <td>7009.0</td>\n",
       "      <td>2793.0</td>\n",
       "      <td>L6 IT</td>\n",
       "    </tr>\n",
       "    <tr>\n",
       "      <th>L6b</th>\n",
       "      <td>421.766380</td>\n",
       "      <td>NaN</td>\n",
       "      <td>NaN</td>\n",
       "      <td>L6b</td>\n",
       "    </tr>\n",
       "  </tbody>\n",
       "</table>\n",
       "</div>"
      ],
      "text/plain": [
       "          nucleus_volume  total_counts  n_genes_by_counts celltype\n",
       "subclass                                                          \n",
       "Astro         285.322546        3708.5             1358.0    Astro\n",
       "Endo          216.955357        3214.0             1246.5     Endo\n",
       "L2/3 IT       465.983908        6993.0             2841.0  L2/3 IT\n",
       "L4/5 IT       397.059153        6227.5             2348.5  L4/5 IT\n",
       "L5 ET         585.822123        8542.0             3863.0    L5 ET\n",
       "L5 IT         484.328127        7838.5             3224.0    L5 IT\n",
       "L5/6 NP       409.126734        5120.5             1990.5  L5/6 NP\n",
       "L6 CT         416.027680        6381.0             2493.0    L6 CT\n",
       "L6 IT         452.559266        7009.0             2793.0    L6 IT\n",
       "L6b           421.766380           NaN                NaN      L6b"
      ]
     },
     "execution_count": 30,
     "metadata": {},
     "output_type": "execute_result"
    }
   ],
   "source": [
    "# concat information for ATAC and nuclear size\n",
    "sel_nuc_volume_df = nuc_volume_df[nuc_volume_df['total_spots']>=min_pts_th]\n",
    "sel_nuc_volume_median = pd.DataFrame(sel_nuc_volume_df.groupby(by='subclass')['nucleus_volume'].median())\n",
    "\n",
    "# get corresponding RNA df\n",
    "sel_RNA_df = RNA_count_df_dict['ATAC_Mouse']\n",
    "# merge df by shared index, which is the subclass\n",
    "sel_nuc_volume_median['total_counts'] = sel_RNA_df.groupby(by='subclass_label_new')['UM'].median()\n",
    "sel_nuc_volume_median['n_genes_by_counts'] = sel_RNA_df.groupby(by='subclass_label_new')['nb_features'].median()\n",
    "\n",
    "# pass celltype info to a column\n",
    "sel_nuc_volume_median['celltype'] = sel_nuc_volume_median.index\n",
    "sel_nuc_volume_median.head(10)"
   ]
  },
  {
   "cell_type": "code",
   "execution_count": 31,
   "id": "b87b79d5",
   "metadata": {
    "scrolled": false
   },
   "outputs": [
    {
     "name": "stderr",
     "output_type": "stream",
     "text": [
      "meta NOT subset; don't know how to subset; dropped\n"
     ]
    },
    {
     "data": {
      "image/png": "[encoded data removed]",
      "text/plain": [
       "<Figure size 165x165 with 1 Axes>"
      ]
     },
     "metadata": {},
     "output_type": "display_data"
    }
   ],
   "source": [
    "# plot\n",
    "df_plot = sel_nuc_volume_median.copy(deep=True)\n",
    "\n",
    "fig, ax = plt.subplots(figsize=(_page_width/5,_page_width/5),dpi=150)\n",
    "\n",
    "x_col = 'nucleus_volume'\n",
    "y_col = 'total_counts'\n",
    "\n",
    "\n",
    "gfg = sns.regplot(data=df_plot, x= x_col, y = y_col, ax=ax,\n",
    "                  ci=95,scatter=False,\n",
    "                  line_kws={'linewidth':1}\n",
    "                 )\n",
    "gfg = sns.scatterplot(data=df_plot, \n",
    "                      x= x_col, y = y_col, ax=ax,\n",
    "                        #legend='full',\n",
    "                        hue ='celltype',\n",
    "                      #linewidth = 0,\n",
    "                        palette=celltype_palette,\n",
    "                        s=30,\n",
    "                   )\n",
    "plt.legend(bbox_to_anchor=(1.02, 1.04), loc='upper left', ncols=3, borderaxespad=1,fontsize=_font_size)\n",
    "\n",
    "from scipy.stats import spearmanr, pearsonr\n",
    "valid_ids = np.isfinite(df_plot[x_col].values) & np.isfinite(df_plot[y_col].values)\n",
    "r_val = pearsonr(df_plot[x_col].values[valid_ids], df_plot[y_col].values[valid_ids],)[0]\n",
    "#r_val = spearmanr(df_plot[x_col].values, df_plot[y_col].values, nan_policy = 'omit')[0]\n",
    "\n",
    "ax.text(250,8900,f'r = {round(r_val,2)}',fontsize=_font_size+1)\n",
    "\n",
    "\n",
    "ax.tick_params('x', labelsize=_font_size, \n",
    "                    #width=_ticklabel_width, length=_ticklabel_size,\n",
    "                    pad=1, labelbottom=True) # remove bottom ticklabels for _ax\n",
    "ax.tick_params('y', labelsize=_font_size, \n",
    "                #width=_ticklabel_width, #length=0,\n",
    "                pad=1, labelleft=True)\n",
    "\n",
    "\n",
    "ax.set_xlabel('Cell type median of \\n nuclear volume (\\u03bcm\\u00b3)',fontsize=_font_size,labelpad=2)\n",
    "\n",
    "ax.set_ylabel(f'Cell type median of \\n total chromatin accessibility \\n activity (UMI) per cell', fontsize=_font_size, labelpad=2)\n",
    "\n",
    "\n",
    "ax.grid(False)\n",
    "ax.margins(0.1)\n",
    "plt.savefig(os.path.join(output_figure_folder, f'corr_nuclear_size_and_ATAC_count.pdf'), \n",
    "            transparent=True, dpi=300, bbox_inches='tight')\n",
    "\n",
    "    "
   ]
  },
  {
   "cell_type": "markdown",
   "id": "b5818a49",
   "metadata": {},
   "source": [
    "## correlate number of accessible regions and nuclear size"
   ]
  },
  {
   "cell_type": "code",
   "execution_count": 32,
   "id": "4acdc4ef",
   "metadata": {},
   "outputs": [
    {
     "name": "stderr",
     "output_type": "stream",
     "text": [
      "meta NOT subset; don't know how to subset; dropped\n"
     ]
    },
    {
     "data": {
      "image/png": "[encoded data removed]",
      "text/plain": [
       "<Figure size 165x165 with 1 Axes>"
      ]
     },
     "metadata": {},
     "output_type": "display_data"
    }
   ],
   "source": [
    "# plot\n",
    "df_plot = sel_nuc_volume_median.copy(deep=True)\n",
    "\n",
    "fig, ax = plt.subplots(figsize=(_page_width/5,_page_width/5),dpi=150)\n",
    "\n",
    "x_col = 'nucleus_volume'\n",
    "y_col = 'n_genes_by_counts'\n",
    "\n",
    "\n",
    "\n",
    "gfg = sns.regplot(data=df_plot, x= x_col, y = y_col, ax=ax,\n",
    "                  ci=95,scatter=False,\n",
    "                  line_kws={'linewidth':1}\n",
    "                 )\n",
    "gfg = sns.scatterplot(data=df_plot, \n",
    "                      x= x_col, y = y_col, ax=ax,\n",
    "                        #legend='full',\n",
    "                        hue ='celltype',\n",
    "                      #linewidth = 0,\n",
    "                        palette=celltype_palette,\n",
    "                        s=30,\n",
    "                   )\n",
    "plt.legend(bbox_to_anchor=(1.02, 1.04), loc='upper left', ncols=3, borderaxespad=1,fontsize=_font_size)\n",
    "\n",
    "from scipy.stats import spearmanr, pearsonr\n",
    "valid_ids = np.isfinite(df_plot[x_col].values) & np.isfinite(df_plot[y_col].values)\n",
    "r_val = pearsonr(df_plot[x_col].values[valid_ids], df_plot[y_col].values[valid_ids],)[0]\n",
    "#r_val = spearmanr(df_plot[x_col].values, df_plot[y_col].values, nan_policy = 'omit')[0]\n",
    "\n",
    "ax.text(250,3500,f'r = {round(r_val,2)}',fontsize=_font_size+1)\n",
    "\n",
    "\n",
    "ax.tick_params('x', labelsize=_font_size, \n",
    "                    #width=_ticklabel_width, length=_ticklabel_size,\n",
    "                    pad=1, labelbottom=True) # remove bottom ticklabels for _ax\n",
    "ax.tick_params('y', labelsize=_font_size, \n",
    "                #width=_ticklabel_width, #length=0,\n",
    "                pad=1, labelleft=True)\n",
    "\n",
    "\n",
    "ax.set_xlabel('Cell type median of \\n nuclear volume (\\u03bcm\\u00b3)',fontsize=_font_size,labelpad=2)\n",
    "\n",
    "ax.set_ylabel(f'Cell type median of \\n num. of accessible region \\n per cell', fontsize=_font_size, labelpad=2)\n",
    "\n",
    "\n",
    "ax.grid(False)\n",
    "ax.margins(0.1)\n",
    "plt.savefig(os.path.join(output_figure_folder, f'corr_nuclear_size_and_ATAC_accessible_regions.pdf'), \n",
    "            transparent=True, dpi=300, bbox_inches='tight')\n",
    "\n",
    "    \n",
    "\n",
    "    "
   ]
  }
 ],
 "metadata": {
  "kernelspec": {
   "display_name": "Python 3 (ipykernel)",
   "language": "python",
   "name": "python3"
  },
  "language_info": {
   "codemirror_mode": {
    "name": "ipython",
    "version": 3
   },
   "file_extension": ".py",
   "mimetype": "text/x-python",
   "name": "python",
   "nbconvert_exporter": "python",
   "pygments_lexer": "ipython3",
   "version": "3.10.8"
  },
  "toc": {
   "base_numbering": 1,
   "nav_menu": {},
   "number_sections": false,
   "sideBar": true,
   "skip_h1_title": false,
   "title_cell": "Table of Contents",
   "title_sidebar": "Contents",
   "toc_cell": false,
   "toc_position": {
    "height": "calc(100% - 180px)",
    "left": "10px",
    "top": "150px",
    "width": "349.062px"
   },
   "toc_section_display": true,
   "toc_window_display": true
  }
 },
 "nbformat": 4,
 "nbformat_minor": 5
}
