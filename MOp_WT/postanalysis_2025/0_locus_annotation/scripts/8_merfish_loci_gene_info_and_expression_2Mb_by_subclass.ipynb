{
 "cells": [
  {
   "cell_type": "markdown",
   "id": "35ed05a5",
   "metadata": {},
   "source": [
    "# Import module"
   ]
  },
  {
   "cell_type": "markdown",
   "id": "9f455452",
   "metadata": {},
   "source": [
    "The link to get [ImageAnalysis3](https://github.com/zhengpuas47/ImageAnalysis3) \n",
    "\n",
    "Or from the Zhuang lab archived [source_tools](https://github.com/ZhuangLab/Chromatin_Analysis_2020_cell/tree/master/sequential_tracing/source)"
   ]
  },
  {
   "cell_type": "markdown",
   "id": "70559312",
   "metadata": {},
   "source": [
    "## ImageAnalysis3 and basic modules"
   ]
  },
  {
   "cell_type": "code",
   "execution_count": 2,
   "id": "5e277834",
   "metadata": {},
   "outputs": [
    {
     "name": "stdout",
     "output_type": "stream",
     "text": [
      "25236\n"
     ]
    }
   ],
   "source": [
    "%run \"C:\\Users\\shiwei\\Documents\\ImageAnalysis3\\required_files\\Startup_py3.py\"\n",
    "sys.path.append(r\"C:\\Users\\shiwei\\Documents\")\n",
    "\n",
    "import ImageAnalysis3 as ia\n",
    "from ImageAnalysis3 import *\n",
    "from ImageAnalysis3.classes import _allowed_kwds\n",
    "\n",
    "import h5py\n",
    "import ast\n",
    "import pandas as pd\n",
    "\n",
    "print(os.getpid())"
   ]
  },
  {
   "cell_type": "markdown",
   "id": "76654111",
   "metadata": {},
   "source": [
    "## Chromatin_analysis_tools etc"
   ]
  },
  {
   "cell_type": "markdown",
   "id": "061c18dc",
   "metadata": {},
   "source": [
    "See **functions** in the repository for [AnalysisTool_Chromatin](../../README.md)"
   ]
  },
  {
   "cell_type": "code",
   "execution_count": 3,
   "id": "70162bcf",
   "metadata": {},
   "outputs": [
    {
     "data": {
      "text/plain": [
       "<module 'atac_to_loci' from 'C:\\\\Users\\\\shiwei\\\\Documents\\\\AnalysisTool_Chromatin\\\\atac_to_loci.py'>"
      ]
     },
     "execution_count": 3,
     "metadata": {},
     "output_type": "execute_result"
    }
   ],
   "source": [
    "# Chromatin_analysis_tools (ATC)\n",
    "# Get path for the py containing functions\n",
    "import os\n",
    "import sys\n",
    "import importlib\n",
    "module_path =r'C:\\Users\\shiwei\\Documents\\AnalysisTool_Chromatin'\n",
    "if module_path not in sys.path:\n",
    "    sys.path.append(module_path)\n",
    "    \n",
    "# import relevant modules\n",
    "import gene_selection \n",
    "importlib.reload(gene_selection)\n",
    "import gene_to_loci\n",
    "importlib.reload(gene_to_loci)\n",
    "import gene_activity\n",
    "importlib.reload(gene_activity)\n",
    "import loci_1d_features\n",
    "importlib.reload(loci_1d_features)  \n",
    "\n",
    "import atac_to_loci\n",
    "importlib.reload(atac_to_loci)"
   ]
  },
  {
   "cell_type": "markdown",
   "id": "738098df",
   "metadata": {},
   "source": [
    "# Define folders"
   ]
  },
  {
   "cell_type": "code",
   "execution_count": 4,
   "id": "44e2fce2",
   "metadata": {},
   "outputs": [
    {
     "name": "stdout",
     "output_type": "stream",
     "text": [
      "Use existing analysis folder: L:\\Shiwei\\postanalysis_2024\\v0\\locus_annotation\\analysis.\n",
      "Use existing figure folder: L:\\Shiwei\\postanalysis_2024\\v0\\locus_annotation\\figures.\n"
     ]
    }
   ],
   "source": [
    "# main folder for postanalysis\n",
    "postanalysis_folder = r'L:\\Shiwei\\postanalysis_2024\\v0'\n",
    "# input files for postanalysis\n",
    "input_folder = os.path.join(postanalysis_folder, 'resources_from_preprocess')\n",
    "\n",
    "# output file to be generated\n",
    "output_main_folder = os.path.join(postanalysis_folder, 'locus_annotation')\n",
    "\n",
    "output_analysis_folder = os.path.join(output_main_folder, 'analysis')\n",
    "output_figure_folder = os.path.join(output_main_folder, 'figures')\n",
    "\n",
    "# make new folder if needed\n",
    "make_output_folder = True\n",
    "\n",
    "if make_output_folder and not os.path.exists(output_analysis_folder):\n",
    "    os.makedirs(output_analysis_folder)\n",
    "    print(f'Generating analysis folder: {output_analysis_folder}.')\n",
    "elif os.path.exists(output_analysis_folder):\n",
    "    print(f'Use existing analysis folder: {output_analysis_folder}.')\n",
    "    \n",
    "if make_output_folder and not os.path.exists(output_figure_folder):\n",
    "    os.makedirs(output_figure_folder)\n",
    "    print(f'Generating figure folder: {output_figure_folder}.')\n",
    "elif os.path.exists(output_figure_folder):\n",
    "    print(f'Use existing figure folder: {output_figure_folder}.')"
   ]
  },
  {
   "cell_type": "markdown",
   "id": "03dc09c9",
   "metadata": {},
   "source": [
    "# Plotting parameters"
   ]
  },
  {
   "cell_type": "code",
   "execution_count": 5,
   "id": "1914c34a",
   "metadata": {},
   "outputs": [],
   "source": [
    "%matplotlib inline\n",
    "import matplotlib\n",
    "matplotlib.rcParams['pdf.fonttype'] = 42\n",
    "import matplotlib.pyplot as plt\n",
    "plt.rc('font', family='serif')\n",
    "plt.rc('font', serif='Arial')\n",
    "\n",
    "from ImageAnalysis3.figure_tools import _double_col_width, _single_col_width, _font_size, _ticklabel_size,_ticklabel_width\n",
    "\n",
    "import seaborn as sns\n",
    "sns.set_context(\"paper\", rc={\"font.size\":_font_size,\"axes.titlesize\":_font_size+1,\"axes.labelsize\":_font_size})  "
   ]
  },
  {
   "cell_type": "markdown",
   "id": "8c2d137e",
   "metadata": {},
   "source": [
    "# Load data relevant information"
   ]
  },
  {
   "cell_type": "markdown",
   "id": "031bf325",
   "metadata": {},
   "source": [
    "## load codebook with gene annotation\n",
    "\n",
    "annotated codebook can be generated using the notebook below:\n",
    "\n",
    "\n",
    "[0_locus_annotation/scripts/1_adjacent_gene_annotation_for_merfish_loci](../../0_locus_annotation/scripts/1_adjacent_gene_annotation_for_merfish_loci.ipynb)"
   ]
  },
  {
   "cell_type": "code",
   "execution_count": 6,
   "id": "f8ab1dfc",
   "metadata": {},
   "outputs": [
    {
     "data": {
      "text/html": [
       "<div>\n",
       "<style scoped>\n",
       "    .dataframe tbody tr th:only-of-type {\n",
       "        vertical-align: middle;\n",
       "    }\n",
       "\n",
       "    .dataframe tbody tr th {\n",
       "        vertical-align: top;\n",
       "    }\n",
       "\n",
       "    .dataframe thead th {\n",
       "        text-align: right;\n",
       "    }\n",
       "</style>\n",
       "<table border=\"1\" class=\"dataframe\">\n",
       "  <thead>\n",
       "    <tr style=\"text-align: right;\">\n",
       "      <th></th>\n",
       "      <th>name</th>\n",
       "      <th>id</th>\n",
       "      <th>chr</th>\n",
       "      <th>chr_order</th>\n",
       "      <th>library</th>\n",
       "      <th>adjacent_genes_10kb_tss</th>\n",
       "      <th>adjacent_genes_50kb_tss</th>\n",
       "      <th>adjacent_genes_100kb_tss</th>\n",
       "      <th>adjacent_genes_200kb_tss</th>\n",
       "      <th>adjacent_genes_500kb_tss</th>\n",
       "      <th>adjacent_genes_1000kb_tss</th>\n",
       "      <th>adjacent_genes_1500kb_tss</th>\n",
       "      <th>adjacent_genes_2000kb_tss</th>\n",
       "    </tr>\n",
       "    <tr>\n",
       "      <th>loci_name</th>\n",
       "      <th></th>\n",
       "      <th></th>\n",
       "      <th></th>\n",
       "      <th></th>\n",
       "      <th></th>\n",
       "      <th></th>\n",
       "      <th></th>\n",
       "      <th></th>\n",
       "      <th></th>\n",
       "      <th></th>\n",
       "      <th></th>\n",
       "      <th></th>\n",
       "      <th></th>\n",
       "    </tr>\n",
       "  </thead>\n",
       "  <tbody>\n",
       "    <tr>\n",
       "      <th>chr1_3742742_3759944</th>\n",
       "      <td>1:3742742-3759944</td>\n",
       "      <td>1</td>\n",
       "      <td>1</td>\n",
       "      <td>0.0</td>\n",
       "      <td>CTP11</td>\n",
       "      <td>intergenic</td>\n",
       "      <td>intergenic</td>\n",
       "      <td>Xkr4</td>\n",
       "      <td>Xkr4</td>\n",
       "      <td>Gm18956; Gm7341; Xkr4</td>\n",
       "      <td>Gm18956; Gm2053; Gm6085; Gm6101; Gm6119; Gm734...</td>\n",
       "      <td>Atp6v1h; Gm16041; Gm17101; Gm18956; Gm2053; Gm...</td>\n",
       "      <td>Atp6v1h; Gm16041; Gm17101; Gm18956; Gm2053; Gm...</td>\n",
       "    </tr>\n",
       "    <tr>\n",
       "      <th>chr1_6245958_6258969</th>\n",
       "      <td>1:6245958-6258969</td>\n",
       "      <td>2</td>\n",
       "      <td>1</td>\n",
       "      <td>1.0</td>\n",
       "      <td>CTP11</td>\n",
       "      <td>intergenic</td>\n",
       "      <td>4732440D04Rik; Rb1cc1</td>\n",
       "      <td>4732440D04Rik; Rb1cc1</td>\n",
       "      <td>4732440D04Rik; Gm19026; Gm2147; Rb1cc1</td>\n",
       "      <td>4732440D04Rik; Gm19026; Gm2147; Npbwr1; Rb1cc1...</td>\n",
       "      <td>4732440D04Rik; Gm19026; Gm2147; Gm5694; Gm7182...</td>\n",
       "      <td>4732440D04Rik; Atp6v1h; Gm16041; Gm17101; Gm19...</td>\n",
       "      <td>4732440D04Rik; Atp6v1h; Gm16041; Gm17101; Gm19...</td>\n",
       "    </tr>\n",
       "    <tr>\n",
       "      <th>chr1_8740008_8759916</th>\n",
       "      <td>1:8740008-8759916</td>\n",
       "      <td>3</td>\n",
       "      <td>1</td>\n",
       "      <td>2.0</td>\n",
       "      <td>CTP11</td>\n",
       "      <td>intergenic</td>\n",
       "      <td>Gm15452</td>\n",
       "      <td>Gm15452</td>\n",
       "      <td>Gm15452</td>\n",
       "      <td>Gm15452</td>\n",
       "      <td>1700034P13Rik; 2610203C22Rik; Adhfe1; Gm15452;...</td>\n",
       "      <td>1700034P13Rik; 2610203C22Rik; Adhfe1; Arfgef1;...</td>\n",
       "      <td>1700034P13Rik; 2610203C22Rik; Adhfe1; Arfgef1;...</td>\n",
       "    </tr>\n",
       "    <tr>\n",
       "      <th>chr1_9627926_9637875</th>\n",
       "      <td>1:9627926-9637875</td>\n",
       "      <td>1</td>\n",
       "      <td>1</td>\n",
       "      <td>3.0</td>\n",
       "      <td>CTP13</td>\n",
       "      <td>2610203C22Rik</td>\n",
       "      <td>2610203C22Rik</td>\n",
       "      <td>2610203C22Rik; Adhfe1; Gm6161; Mybl1; Rrs1</td>\n",
       "      <td>1700034P13Rik; 2610203C22Rik; Adhfe1; Gm18300;...</td>\n",
       "      <td>1700034P13Rik; 2610203C22Rik; Adhfe1; Cops5; C...</td>\n",
       "      <td>1700034P13Rik; 2610203C22Rik; Adhfe1; Arfgef1;...</td>\n",
       "      <td>1700034P13Rik; 2610203C22Rik; Adhfe1; Arfgef1;...</td>\n",
       "      <td>1700034P13Rik; 2610203C22Rik; A830018L16Rik; A...</td>\n",
       "    </tr>\n",
       "    <tr>\n",
       "      <th>chr1_9799472_9811359</th>\n",
       "      <td>1:9799472-9811359</td>\n",
       "      <td>2</td>\n",
       "      <td>1</td>\n",
       "      <td>4.0</td>\n",
       "      <td>CTP13</td>\n",
       "      <td>Gm6195; Sgk3</td>\n",
       "      <td>Gm6195; Sgk3</td>\n",
       "      <td>1700034P13Rik; Gm6195; Mcmdc2; Mybl1; Sgk3; Vc...</td>\n",
       "      <td>1700034P13Rik; 2610203C22Rik; Gm6195; Mcmdc2; ...</td>\n",
       "      <td>1700034P13Rik; 2610203C22Rik; Adhfe1; Arfgef1;...</td>\n",
       "      <td>1700034P13Rik; 2610203C22Rik; Adhfe1; Arfgef1;...</td>\n",
       "      <td>1700034P13Rik; 2610203C22Rik; Adhfe1; Arfgef1;...</td>\n",
       "      <td>1700034P13Rik; 2610203C22Rik; A830018L16Rik; A...</td>\n",
       "    </tr>\n",
       "  </tbody>\n",
       "</table>\n",
       "</div>"
      ],
      "text/plain": [
       "                                   name id chr  chr_order library  \\\n",
       "loci_name                                                           \n",
       "chr1_3742742_3759944  1:3742742-3759944  1   1        0.0   CTP11   \n",
       "chr1_6245958_6258969  1:6245958-6258969  2   1        1.0   CTP11   \n",
       "chr1_8740008_8759916  1:8740008-8759916  3   1        2.0   CTP11   \n",
       "chr1_9627926_9637875  1:9627926-9637875  1   1        3.0   CTP13   \n",
       "chr1_9799472_9811359  1:9799472-9811359  2   1        4.0   CTP13   \n",
       "\n",
       "                     adjacent_genes_10kb_tss adjacent_genes_50kb_tss  \\\n",
       "loci_name                                                              \n",
       "chr1_3742742_3759944              intergenic              intergenic   \n",
       "chr1_6245958_6258969              intergenic   4732440D04Rik; Rb1cc1   \n",
       "chr1_8740008_8759916              intergenic                 Gm15452   \n",
       "chr1_9627926_9637875           2610203C22Rik           2610203C22Rik   \n",
       "chr1_9799472_9811359            Gm6195; Sgk3            Gm6195; Sgk3   \n",
       "\n",
       "                                               adjacent_genes_100kb_tss  \\\n",
       "loci_name                                                                 \n",
       "chr1_3742742_3759944                                               Xkr4   \n",
       "chr1_6245958_6258969                              4732440D04Rik; Rb1cc1   \n",
       "chr1_8740008_8759916                                            Gm15452   \n",
       "chr1_9627926_9637875         2610203C22Rik; Adhfe1; Gm6161; Mybl1; Rrs1   \n",
       "chr1_9799472_9811359  1700034P13Rik; Gm6195; Mcmdc2; Mybl1; Sgk3; Vc...   \n",
       "\n",
       "                                               adjacent_genes_200kb_tss  \\\n",
       "loci_name                                                                 \n",
       "chr1_3742742_3759944                                               Xkr4   \n",
       "chr1_6245958_6258969             4732440D04Rik; Gm19026; Gm2147; Rb1cc1   \n",
       "chr1_8740008_8759916                                            Gm15452   \n",
       "chr1_9627926_9637875  1700034P13Rik; 2610203C22Rik; Adhfe1; Gm18300;...   \n",
       "chr1_9799472_9811359  1700034P13Rik; 2610203C22Rik; Gm6195; Mcmdc2; ...   \n",
       "\n",
       "                                               adjacent_genes_500kb_tss  \\\n",
       "loci_name                                                                 \n",
       "chr1_3742742_3759944                              Gm18956; Gm7341; Xkr4   \n",
       "chr1_6245958_6258969  4732440D04Rik; Gm19026; Gm2147; Npbwr1; Rb1cc1...   \n",
       "chr1_8740008_8759916                                            Gm15452   \n",
       "chr1_9627926_9637875  1700034P13Rik; 2610203C22Rik; Adhfe1; Cops5; C...   \n",
       "chr1_9799472_9811359  1700034P13Rik; 2610203C22Rik; Adhfe1; Arfgef1;...   \n",
       "\n",
       "                                              adjacent_genes_1000kb_tss  \\\n",
       "loci_name                                                                 \n",
       "chr1_3742742_3759944  Gm18956; Gm2053; Gm6085; Gm6101; Gm6119; Gm734...   \n",
       "chr1_6245958_6258969  4732440D04Rik; Gm19026; Gm2147; Gm5694; Gm7182...   \n",
       "chr1_8740008_8759916  1700034P13Rik; 2610203C22Rik; Adhfe1; Gm15452;...   \n",
       "chr1_9627926_9637875  1700034P13Rik; 2610203C22Rik; Adhfe1; Arfgef1;...   \n",
       "chr1_9799472_9811359  1700034P13Rik; 2610203C22Rik; Adhfe1; Arfgef1;...   \n",
       "\n",
       "                                              adjacent_genes_1500kb_tss  \\\n",
       "loci_name                                                                 \n",
       "chr1_3742742_3759944  Atp6v1h; Gm16041; Gm17101; Gm18956; Gm2053; Gm...   \n",
       "chr1_6245958_6258969  4732440D04Rik; Atp6v1h; Gm16041; Gm17101; Gm19...   \n",
       "chr1_8740008_8759916  1700034P13Rik; 2610203C22Rik; Adhfe1; Arfgef1;...   \n",
       "chr1_9627926_9637875  1700034P13Rik; 2610203C22Rik; Adhfe1; Arfgef1;...   \n",
       "chr1_9799472_9811359  1700034P13Rik; 2610203C22Rik; Adhfe1; Arfgef1;...   \n",
       "\n",
       "                                              adjacent_genes_2000kb_tss  \n",
       "loci_name                                                                \n",
       "chr1_3742742_3759944  Atp6v1h; Gm16041; Gm17101; Gm18956; Gm2053; Gm...  \n",
       "chr1_6245958_6258969  4732440D04Rik; Atp6v1h; Gm16041; Gm17101; Gm19...  \n",
       "chr1_8740008_8759916  1700034P13Rik; 2610203C22Rik; Adhfe1; Arfgef1;...  \n",
       "chr1_9627926_9637875  1700034P13Rik; 2610203C22Rik; A830018L16Rik; A...  \n",
       "chr1_9799472_9811359  1700034P13Rik; 2610203C22Rik; A830018L16Rik; A...  "
      ]
     },
     "execution_count": 6,
     "metadata": {},
     "output_type": "execute_result"
    }
   ],
   "source": [
    "# load codebook\n",
    "codebook_folder = output_analysis_folder\n",
    "\n",
    "# Load codebook and sort\n",
    "codebook_fname = os.path.join(codebook_folder,'MERFISH_loci_adjacent_genes_tss_more_res.csv')\n",
    "codebook_df = pd.read_csv (codebook_fname, index_col=0)\n",
    "codebook_df = loci_1d_features.sort_loci_df_by_chr_order (codebook_df)\n",
    "\n",
    "codebook_df.head()"
   ]
  },
  {
   "cell_type": "markdown",
   "id": "722e6700",
   "metadata": {},
   "source": [
    "## load gene info df\n",
    "\n",
    "Example of data [annotation](../../../external/resources/MOp_10x_snRNA_chr_info_NEW_from_transcriptome_FORMAT.csv) in the repository\n",
    "\n",
    "Data can be generated using the notebook with snRNA data\n",
    "\n",
    "[external/scripts/genome_annotation/1_genomic_info_for_mop_genes_using_ensembl_transcriptome](../../../external/scripts/genome_annotation/1_genomic_info_for_mop_genes_using_ensembl_transcriptome.ipynb)"
   ]
  },
  {
   "cell_type": "code",
   "execution_count": 9,
   "id": "b23dcf88",
   "metadata": {},
   "outputs": [
    {
     "name": "stdout",
     "output_type": "stream",
     "text": [
      "24596\n"
     ]
    },
    {
     "data": {
      "text/html": [
       "<div>\n",
       "<style scoped>\n",
       "    .dataframe tbody tr th:only-of-type {\n",
       "        vertical-align: middle;\n",
       "    }\n",
       "\n",
       "    .dataframe tbody tr th {\n",
       "        vertical-align: top;\n",
       "    }\n",
       "\n",
       "    .dataframe thead th {\n",
       "        text-align: right;\n",
       "    }\n",
       "</style>\n",
       "<table border=\"1\" class=\"dataframe\">\n",
       "  <thead>\n",
       "    <tr style=\"text-align: right;\">\n",
       "      <th></th>\n",
       "      <th>chr</th>\n",
       "      <th>start</th>\n",
       "      <th>end</th>\n",
       "      <th>gene_biotype</th>\n",
       "      <th>coding_strand</th>\n",
       "      <th>length</th>\n",
       "      <th>genomic_position</th>\n",
       "    </tr>\n",
       "    <tr>\n",
       "      <th>gene</th>\n",
       "      <th></th>\n",
       "      <th></th>\n",
       "      <th></th>\n",
       "      <th></th>\n",
       "      <th></th>\n",
       "      <th></th>\n",
       "      <th></th>\n",
       "    </tr>\n",
       "  </thead>\n",
       "  <tbody>\n",
       "    <tr>\n",
       "      <th>0610005C13Rik</th>\n",
       "      <td>7</td>\n",
       "      <td>45567794</td>\n",
       "      <td>45575327</td>\n",
       "      <td>antisense</td>\n",
       "      <td>-1</td>\n",
       "      <td>7533</td>\n",
       "      <td>chr7_45567794_45575327</td>\n",
       "    </tr>\n",
       "    <tr>\n",
       "      <th>0610009B22Rik</th>\n",
       "      <td>11</td>\n",
       "      <td>51685386</td>\n",
       "      <td>51688874</td>\n",
       "      <td>protein_coding</td>\n",
       "      <td>-1</td>\n",
       "      <td>3488</td>\n",
       "      <td>chr11_51685386_51688874</td>\n",
       "    </tr>\n",
       "    <tr>\n",
       "      <th>0610009E02Rik</th>\n",
       "      <td>2</td>\n",
       "      <td>26445696</td>\n",
       "      <td>26459390</td>\n",
       "      <td>processed_transcript</td>\n",
       "      <td>1</td>\n",
       "      <td>13694</td>\n",
       "      <td>chr2_26445696_26459390</td>\n",
       "    </tr>\n",
       "    <tr>\n",
       "      <th>0610009L18Rik</th>\n",
       "      <td>11</td>\n",
       "      <td>120348678</td>\n",
       "      <td>120351190</td>\n",
       "      <td>bidirectional_promoter_lncRNA</td>\n",
       "      <td>1</td>\n",
       "      <td>2512</td>\n",
       "      <td>chr11_120348678_120351190</td>\n",
       "    </tr>\n",
       "    <tr>\n",
       "      <th>0610010F05Rik</th>\n",
       "      <td>11</td>\n",
       "      <td>23564961</td>\n",
       "      <td>23633639</td>\n",
       "      <td>protein_coding</td>\n",
       "      <td>-1</td>\n",
       "      <td>68678</td>\n",
       "      <td>chr11_23564961_23633639</td>\n",
       "    </tr>\n",
       "  </tbody>\n",
       "</table>\n",
       "</div>"
      ],
      "text/plain": [
       "              chr      start        end                   gene_biotype  \\\n",
       "gene                                                                     \n",
       "0610005C13Rik   7   45567794   45575327                      antisense   \n",
       "0610009B22Rik  11   51685386   51688874                 protein_coding   \n",
       "0610009E02Rik   2   26445696   26459390           processed_transcript   \n",
       "0610009L18Rik  11  120348678  120351190  bidirectional_promoter_lncRNA   \n",
       "0610010F05Rik  11   23564961   23633639                 protein_coding   \n",
       "\n",
       "               coding_strand  length           genomic_position  \n",
       "gene                                                             \n",
       "0610005C13Rik             -1    7533     chr7_45567794_45575327  \n",
       "0610009B22Rik             -1    3488    chr11_51685386_51688874  \n",
       "0610009E02Rik              1   13694     chr2_26445696_26459390  \n",
       "0610009L18Rik              1    2512  chr11_120348678_120351190  \n",
       "0610010F05Rik             -1   68678    chr11_23564961_23633639  "
      ]
     },
     "execution_count": 9,
     "metadata": {},
     "output_type": "execute_result"
    }
   ],
   "source": [
    "# load gene annotation (covering all genes from the SMART-seq) for chr locus\n",
    "# this should be enough since we can only analyze the genes with info from SMARTseq\n",
    "# also we used Ensembl for both gene2loci and loci2gene to be consistent \n",
    "gene_annotation_fname =r'L:\\Shiwei\\postanalysis_2024\\v0\\external_resources'\n",
    "gene_annotation_df = pd.read_csv(os.path.join(gene_annotation_fname, \n",
    "                                              \"MOp_smart_sn_gene_chr_info_NEW_from_transcriptome_FORMAT.csv\"),index_col=0)\n",
    "print(len(gene_annotation_df))\n",
    "gene_annotation_df.head()"
   ]
  },
  {
   "cell_type": "code",
   "execution_count": 10,
   "id": "720d6bc5",
   "metadata": {},
   "outputs": [
    {
     "data": {
      "text/plain": [
       "array(['antisense', 'antisense;lincRNA', 'antisense;lncRNA',\n",
       "       'antisense;misc_RNA', 'antisense;processed_transcript',\n",
       "       'bidirectional_promoter_lncRNA',\n",
       "       'bidirectional_promoter_lncRNA;lncRNA', 'lincRNA',\n",
       "       'lincRNA;lncRNA', 'lincRNA;misc_RNA',\n",
       "       'lincRNA;processed_pseudogene', 'lincRNA;protein_coding',\n",
       "       'lincRNA;ribozyme', 'lncRNA;processed_transcript', 'macro_lncRNA',\n",
       "       'miRNA', 'miRNA;misc_RNA', 'miRNA;scaRNA', 'miRNA;snoRNA',\n",
       "       'misc_RNA', 'polymorphic_pseudogene', 'processed_pseudogene',\n",
       "       'processed_pseudogene;unprocessed_pseudogene',\n",
       "       'processed_transcript', 'processed_transcript;protein_coding',\n",
       "       'processed_transcript;transcribed_unprocessed_pseudogene',\n",
       "       'processed_transcript;unprocessed_pseudogene', 'protein_coding',\n",
       "       'protein_coding;transcribed_unprocessed_pseudogene', 'pseudogene',\n",
       "       'ribozyme', 'scaRNA', 'sense_intronic', 'sense_overlapping',\n",
       "       'snRNA', 'snoRNA', 'transcribed_processed_pseudogene',\n",
       "       'transcribed_unitary_pseudogene',\n",
       "       'transcribed_unprocessed_pseudogene',\n",
       "       'translated_unprocessed_pseudogene', 'unitary_pseudogene',\n",
       "       'unprocessed_pseudogene'], dtype=object)"
      ]
     },
     "execution_count": 10,
     "metadata": {},
     "output_type": "execute_result"
    }
   ],
   "source": [
    "np.unique(gene_annotation_df['gene_biotype'])"
   ]
  },
  {
   "cell_type": "markdown",
   "id": "6221e6da",
   "metadata": {},
   "source": [
    "# Add gene length abd long gene information"
   ]
  },
  {
   "cell_type": "markdown",
   "id": "0b5b4d32",
   "metadata": {},
   "source": [
    "## subset codebook columns"
   ]
  },
  {
   "cell_type": "code",
   "execution_count": 12,
   "id": "f6fa5427",
   "metadata": {},
   "outputs": [
    {
     "data": {
      "text/html": [
       "<div>\n",
       "<style scoped>\n",
       "    .dataframe tbody tr th:only-of-type {\n",
       "        vertical-align: middle;\n",
       "    }\n",
       "\n",
       "    .dataframe tbody tr th {\n",
       "        vertical-align: top;\n",
       "    }\n",
       "\n",
       "    .dataframe thead th {\n",
       "        text-align: right;\n",
       "    }\n",
       "</style>\n",
       "<table border=\"1\" class=\"dataframe\">\n",
       "  <thead>\n",
       "    <tr style=\"text-align: right;\">\n",
       "      <th></th>\n",
       "      <th>name</th>\n",
       "      <th>id</th>\n",
       "      <th>chr</th>\n",
       "      <th>chr_order</th>\n",
       "      <th>library</th>\n",
       "      <th>adjacent_genes_10kb_tss</th>\n",
       "      <th>adjacent_genes_50kb_tss</th>\n",
       "      <th>adjacent_genes_100kb_tss</th>\n",
       "      <th>adjacent_genes_200kb_tss</th>\n",
       "      <th>adjacent_genes_500kb_tss</th>\n",
       "      <th>adjacent_genes_1000kb_tss</th>\n",
       "      <th>adjacent_genes_1500kb_tss</th>\n",
       "      <th>adjacent_genes_2000kb_tss</th>\n",
       "    </tr>\n",
       "    <tr>\n",
       "      <th>loci_name</th>\n",
       "      <th></th>\n",
       "      <th></th>\n",
       "      <th></th>\n",
       "      <th></th>\n",
       "      <th></th>\n",
       "      <th></th>\n",
       "      <th></th>\n",
       "      <th></th>\n",
       "      <th></th>\n",
       "      <th></th>\n",
       "      <th></th>\n",
       "      <th></th>\n",
       "      <th></th>\n",
       "    </tr>\n",
       "  </thead>\n",
       "  <tbody>\n",
       "    <tr>\n",
       "      <th>chr1_3742742_3759944</th>\n",
       "      <td>1:3742742-3759944</td>\n",
       "      <td>1</td>\n",
       "      <td>1</td>\n",
       "      <td>0.0</td>\n",
       "      <td>CTP11</td>\n",
       "      <td>intergenic</td>\n",
       "      <td>intergenic</td>\n",
       "      <td>Xkr4</td>\n",
       "      <td>Xkr4</td>\n",
       "      <td>Gm18956; Gm7341; Xkr4</td>\n",
       "      <td>Gm18956; Gm2053; Gm6085; Gm6101; Gm6119; Gm734...</td>\n",
       "      <td>Atp6v1h; Gm16041; Gm17101; Gm18956; Gm2053; Gm...</td>\n",
       "      <td>Atp6v1h; Gm16041; Gm17101; Gm18956; Gm2053; Gm...</td>\n",
       "    </tr>\n",
       "    <tr>\n",
       "      <th>chr1_6245958_6258969</th>\n",
       "      <td>1:6245958-6258969</td>\n",
       "      <td>2</td>\n",
       "      <td>1</td>\n",
       "      <td>1.0</td>\n",
       "      <td>CTP11</td>\n",
       "      <td>intergenic</td>\n",
       "      <td>4732440D04Rik; Rb1cc1</td>\n",
       "      <td>4732440D04Rik; Rb1cc1</td>\n",
       "      <td>4732440D04Rik; Gm19026; Gm2147; Rb1cc1</td>\n",
       "      <td>4732440D04Rik; Gm19026; Gm2147; Npbwr1; Rb1cc1...</td>\n",
       "      <td>4732440D04Rik; Gm19026; Gm2147; Gm5694; Gm7182...</td>\n",
       "      <td>4732440D04Rik; Atp6v1h; Gm16041; Gm17101; Gm19...</td>\n",
       "      <td>4732440D04Rik; Atp6v1h; Gm16041; Gm17101; Gm19...</td>\n",
       "    </tr>\n",
       "    <tr>\n",
       "      <th>chr1_8740008_8759916</th>\n",
       "      <td>1:8740008-8759916</td>\n",
       "      <td>3</td>\n",
       "      <td>1</td>\n",
       "      <td>2.0</td>\n",
       "      <td>CTP11</td>\n",
       "      <td>intergenic</td>\n",
       "      <td>Gm15452</td>\n",
       "      <td>Gm15452</td>\n",
       "      <td>Gm15452</td>\n",
       "      <td>Gm15452</td>\n",
       "      <td>1700034P13Rik; 2610203C22Rik; Adhfe1; Gm15452;...</td>\n",
       "      <td>1700034P13Rik; 2610203C22Rik; Adhfe1; Arfgef1;...</td>\n",
       "      <td>1700034P13Rik; 2610203C22Rik; Adhfe1; Arfgef1;...</td>\n",
       "    </tr>\n",
       "    <tr>\n",
       "      <th>chr1_9627926_9637875</th>\n",
       "      <td>1:9627926-9637875</td>\n",
       "      <td>1</td>\n",
       "      <td>1</td>\n",
       "      <td>3.0</td>\n",
       "      <td>CTP13</td>\n",
       "      <td>2610203C22Rik</td>\n",
       "      <td>2610203C22Rik</td>\n",
       "      <td>2610203C22Rik; Adhfe1; Gm6161; Mybl1; Rrs1</td>\n",
       "      <td>1700034P13Rik; 2610203C22Rik; Adhfe1; Gm18300;...</td>\n",
       "      <td>1700034P13Rik; 2610203C22Rik; Adhfe1; Cops5; C...</td>\n",
       "      <td>1700034P13Rik; 2610203C22Rik; Adhfe1; Arfgef1;...</td>\n",
       "      <td>1700034P13Rik; 2610203C22Rik; Adhfe1; Arfgef1;...</td>\n",
       "      <td>1700034P13Rik; 2610203C22Rik; A830018L16Rik; A...</td>\n",
       "    </tr>\n",
       "    <tr>\n",
       "      <th>chr1_9799472_9811359</th>\n",
       "      <td>1:9799472-9811359</td>\n",
       "      <td>2</td>\n",
       "      <td>1</td>\n",
       "      <td>4.0</td>\n",
       "      <td>CTP13</td>\n",
       "      <td>Gm6195; Sgk3</td>\n",
       "      <td>Gm6195; Sgk3</td>\n",
       "      <td>1700034P13Rik; Gm6195; Mcmdc2; Mybl1; Sgk3; Vc...</td>\n",
       "      <td>1700034P13Rik; 2610203C22Rik; Gm6195; Mcmdc2; ...</td>\n",
       "      <td>1700034P13Rik; 2610203C22Rik; Adhfe1; Arfgef1;...</td>\n",
       "      <td>1700034P13Rik; 2610203C22Rik; Adhfe1; Arfgef1;...</td>\n",
       "      <td>1700034P13Rik; 2610203C22Rik; Adhfe1; Arfgef1;...</td>\n",
       "      <td>1700034P13Rik; 2610203C22Rik; A830018L16Rik; A...</td>\n",
       "    </tr>\n",
       "  </tbody>\n",
       "</table>\n",
       "</div>"
      ],
      "text/plain": [
       "                                   name id chr  chr_order library  \\\n",
       "loci_name                                                           \n",
       "chr1_3742742_3759944  1:3742742-3759944  1   1        0.0   CTP11   \n",
       "chr1_6245958_6258969  1:6245958-6258969  2   1        1.0   CTP11   \n",
       "chr1_8740008_8759916  1:8740008-8759916  3   1        2.0   CTP11   \n",
       "chr1_9627926_9637875  1:9627926-9637875  1   1        3.0   CTP13   \n",
       "chr1_9799472_9811359  1:9799472-9811359  2   1        4.0   CTP13   \n",
       "\n",
       "                     adjacent_genes_10kb_tss adjacent_genes_50kb_tss  \\\n",
       "loci_name                                                              \n",
       "chr1_3742742_3759944              intergenic              intergenic   \n",
       "chr1_6245958_6258969              intergenic   4732440D04Rik; Rb1cc1   \n",
       "chr1_8740008_8759916              intergenic                 Gm15452   \n",
       "chr1_9627926_9637875           2610203C22Rik           2610203C22Rik   \n",
       "chr1_9799472_9811359            Gm6195; Sgk3            Gm6195; Sgk3   \n",
       "\n",
       "                                               adjacent_genes_100kb_tss  \\\n",
       "loci_name                                                                 \n",
       "chr1_3742742_3759944                                               Xkr4   \n",
       "chr1_6245958_6258969                              4732440D04Rik; Rb1cc1   \n",
       "chr1_8740008_8759916                                            Gm15452   \n",
       "chr1_9627926_9637875         2610203C22Rik; Adhfe1; Gm6161; Mybl1; Rrs1   \n",
       "chr1_9799472_9811359  1700034P13Rik; Gm6195; Mcmdc2; Mybl1; Sgk3; Vc...   \n",
       "\n",
       "                                               adjacent_genes_200kb_tss  \\\n",
       "loci_name                                                                 \n",
       "chr1_3742742_3759944                                               Xkr4   \n",
       "chr1_6245958_6258969             4732440D04Rik; Gm19026; Gm2147; Rb1cc1   \n",
       "chr1_8740008_8759916                                            Gm15452   \n",
       "chr1_9627926_9637875  1700034P13Rik; 2610203C22Rik; Adhfe1; Gm18300;...   \n",
       "chr1_9799472_9811359  1700034P13Rik; 2610203C22Rik; Gm6195; Mcmdc2; ...   \n",
       "\n",
       "                                               adjacent_genes_500kb_tss  \\\n",
       "loci_name                                                                 \n",
       "chr1_3742742_3759944                              Gm18956; Gm7341; Xkr4   \n",
       "chr1_6245958_6258969  4732440D04Rik; Gm19026; Gm2147; Npbwr1; Rb1cc1...   \n",
       "chr1_8740008_8759916                                            Gm15452   \n",
       "chr1_9627926_9637875  1700034P13Rik; 2610203C22Rik; Adhfe1; Cops5; C...   \n",
       "chr1_9799472_9811359  1700034P13Rik; 2610203C22Rik; Adhfe1; Arfgef1;...   \n",
       "\n",
       "                                              adjacent_genes_1000kb_tss  \\\n",
       "loci_name                                                                 \n",
       "chr1_3742742_3759944  Gm18956; Gm2053; Gm6085; Gm6101; Gm6119; Gm734...   \n",
       "chr1_6245958_6258969  4732440D04Rik; Gm19026; Gm2147; Gm5694; Gm7182...   \n",
       "chr1_8740008_8759916  1700034P13Rik; 2610203C22Rik; Adhfe1; Gm15452;...   \n",
       "chr1_9627926_9637875  1700034P13Rik; 2610203C22Rik; Adhfe1; Arfgef1;...   \n",
       "chr1_9799472_9811359  1700034P13Rik; 2610203C22Rik; Adhfe1; Arfgef1;...   \n",
       "\n",
       "                                              adjacent_genes_1500kb_tss  \\\n",
       "loci_name                                                                 \n",
       "chr1_3742742_3759944  Atp6v1h; Gm16041; Gm17101; Gm18956; Gm2053; Gm...   \n",
       "chr1_6245958_6258969  4732440D04Rik; Atp6v1h; Gm16041; Gm17101; Gm19...   \n",
       "chr1_8740008_8759916  1700034P13Rik; 2610203C22Rik; Adhfe1; Arfgef1;...   \n",
       "chr1_9627926_9637875  1700034P13Rik; 2610203C22Rik; Adhfe1; Arfgef1;...   \n",
       "chr1_9799472_9811359  1700034P13Rik; 2610203C22Rik; Adhfe1; Arfgef1;...   \n",
       "\n",
       "                                              adjacent_genes_2000kb_tss  \n",
       "loci_name                                                                \n",
       "chr1_3742742_3759944  Atp6v1h; Gm16041; Gm17101; Gm18956; Gm2053; Gm...  \n",
       "chr1_6245958_6258969  4732440D04Rik; Atp6v1h; Gm16041; Gm17101; Gm19...  \n",
       "chr1_8740008_8759916  1700034P13Rik; 2610203C22Rik; Adhfe1; Arfgef1;...  \n",
       "chr1_9627926_9637875  1700034P13Rik; 2610203C22Rik; A830018L16Rik; A...  \n",
       "chr1_9799472_9811359  1700034P13Rik; 2610203C22Rik; A830018L16Rik; A...  "
      ]
     },
     "execution_count": 12,
     "metadata": {},
     "output_type": "execute_result"
    }
   ],
   "source": [
    "codebook_df.head()"
   ]
  },
  {
   "cell_type": "code",
   "execution_count": 13,
   "id": "ecc3848d",
   "metadata": {},
   "outputs": [
    {
     "data": {
      "text/html": [
       "<div>\n",
       "<style scoped>\n",
       "    .dataframe tbody tr th:only-of-type {\n",
       "        vertical-align: middle;\n",
       "    }\n",
       "\n",
       "    .dataframe tbody tr th {\n",
       "        vertical-align: top;\n",
       "    }\n",
       "\n",
       "    .dataframe thead th {\n",
       "        text-align: right;\n",
       "    }\n",
       "</style>\n",
       "<table border=\"1\" class=\"dataframe\">\n",
       "  <thead>\n",
       "    <tr style=\"text-align: right;\">\n",
       "      <th></th>\n",
       "      <th>name</th>\n",
       "      <th>id</th>\n",
       "      <th>chr</th>\n",
       "      <th>chr_order</th>\n",
       "      <th>library</th>\n",
       "      <th>adjacent_genes_2000kb_tss</th>\n",
       "    </tr>\n",
       "    <tr>\n",
       "      <th>loci_name</th>\n",
       "      <th></th>\n",
       "      <th></th>\n",
       "      <th></th>\n",
       "      <th></th>\n",
       "      <th></th>\n",
       "      <th></th>\n",
       "    </tr>\n",
       "  </thead>\n",
       "  <tbody>\n",
       "    <tr>\n",
       "      <th>chr1_3742742_3759944</th>\n",
       "      <td>1:3742742-3759944</td>\n",
       "      <td>1</td>\n",
       "      <td>1</td>\n",
       "      <td>0.0</td>\n",
       "      <td>CTP11</td>\n",
       "      <td>Atp6v1h; Gm16041; Gm17101; Gm18956; Gm2053; Gm...</td>\n",
       "    </tr>\n",
       "    <tr>\n",
       "      <th>chr1_6245958_6258969</th>\n",
       "      <td>1:6245958-6258969</td>\n",
       "      <td>2</td>\n",
       "      <td>1</td>\n",
       "      <td>1.0</td>\n",
       "      <td>CTP11</td>\n",
       "      <td>4732440D04Rik; Atp6v1h; Gm16041; Gm17101; Gm19...</td>\n",
       "    </tr>\n",
       "    <tr>\n",
       "      <th>chr1_8740008_8759916</th>\n",
       "      <td>1:8740008-8759916</td>\n",
       "      <td>3</td>\n",
       "      <td>1</td>\n",
       "      <td>2.0</td>\n",
       "      <td>CTP11</td>\n",
       "      <td>1700034P13Rik; 2610203C22Rik; Adhfe1; Arfgef1;...</td>\n",
       "    </tr>\n",
       "    <tr>\n",
       "      <th>chr1_9627926_9637875</th>\n",
       "      <td>1:9627926-9637875</td>\n",
       "      <td>1</td>\n",
       "      <td>1</td>\n",
       "      <td>3.0</td>\n",
       "      <td>CTP13</td>\n",
       "      <td>1700034P13Rik; 2610203C22Rik; A830018L16Rik; A...</td>\n",
       "    </tr>\n",
       "    <tr>\n",
       "      <th>chr1_9799472_9811359</th>\n",
       "      <td>1:9799472-9811359</td>\n",
       "      <td>2</td>\n",
       "      <td>1</td>\n",
       "      <td>4.0</td>\n",
       "      <td>CTP13</td>\n",
       "      <td>1700034P13Rik; 2610203C22Rik; A830018L16Rik; A...</td>\n",
       "    </tr>\n",
       "  </tbody>\n",
       "</table>\n",
       "</div>"
      ],
      "text/plain": [
       "                                   name id chr  chr_order library  \\\n",
       "loci_name                                                           \n",
       "chr1_3742742_3759944  1:3742742-3759944  1   1        0.0   CTP11   \n",
       "chr1_6245958_6258969  1:6245958-6258969  2   1        1.0   CTP11   \n",
       "chr1_8740008_8759916  1:8740008-8759916  3   1        2.0   CTP11   \n",
       "chr1_9627926_9637875  1:9627926-9637875  1   1        3.0   CTP13   \n",
       "chr1_9799472_9811359  1:9799472-9811359  2   1        4.0   CTP13   \n",
       "\n",
       "                                              adjacent_genes_2000kb_tss  \n",
       "loci_name                                                                \n",
       "chr1_3742742_3759944  Atp6v1h; Gm16041; Gm17101; Gm18956; Gm2053; Gm...  \n",
       "chr1_6245958_6258969  4732440D04Rik; Atp6v1h; Gm16041; Gm17101; Gm19...  \n",
       "chr1_8740008_8759916  1700034P13Rik; 2610203C22Rik; Adhfe1; Arfgef1;...  \n",
       "chr1_9627926_9637875  1700034P13Rik; 2610203C22Rik; A830018L16Rik; A...  \n",
       "chr1_9799472_9811359  1700034P13Rik; 2610203C22Rik; A830018L16Rik; A...  "
      ]
     },
     "execution_count": 13,
     "metadata": {},
     "output_type": "execute_result"
    }
   ],
   "source": [
    "gene_col = 'adjacent_genes_2000kb_tss'\n",
    "gene_codebook_df = codebook_df.copy(deep=True)\n",
    "sel_cols = ['name','id','chr','chr_order','library',gene_col]\n",
    "gene_codebook_df = gene_codebook_df[sel_cols]\n",
    "\n",
    "gene_codebook_df.head()"
   ]
  },
  {
   "cell_type": "markdown",
   "id": "a5f90808",
   "metadata": {},
   "source": [
    "## add gene length for protein coding gene information"
   ]
  },
  {
   "cell_type": "code",
   "execution_count": 15,
   "id": "2d0120e7",
   "metadata": {},
   "outputs": [],
   "source": [
    "#'protein_coding' in 'lincRNA;protein_coding'"
   ]
  },
  {
   "cell_type": "code",
   "execution_count": 16,
   "id": "b161cb55",
   "metadata": {},
   "outputs": [
    {
     "name": "stderr",
     "output_type": "stream",
     "text": [
      "C:\\Users\\shiwei\\AppData\\Local\\Temp\\3\\ipykernel_25236\\2465717559.py:36: RuntimeWarning: Mean of empty slice\n",
      "  ave_gen_len_list.append(np.nanmean(gene_lens))\n"
     ]
    }
   ],
   "source": [
    "gene_lens_list = []\n",
    "longgene_num_list1 = []\n",
    "longgene_num_list2 = []\n",
    "longgene_name_list1 = []\n",
    "longgene_name_list2 = []\n",
    "\n",
    "longgene_len1 = 100\n",
    "longgene_len2 = 300\n",
    "\n",
    "total_gen_len_list = [] \n",
    "ave_gen_len_list = [] \n",
    "\n",
    "sel_genes_list = gene_codebook_df[gene_col].tolist()\n",
    "for sel_genes in sel_genes_list:\n",
    "    sel_genes = sel_genes.split('; ')\n",
    "    gene_lens = []\n",
    "    for _g in sel_genes:\n",
    "        if _g in gene_annotation_df.index:\n",
    "            if 'protein_coding' in gene_annotation_df.loc[_g]['gene_biotype']:\n",
    "                gene_len = gene_annotation_df.loc[_g]['length']/1000\n",
    "                gene_lens.append(gene_len)\n",
    "            else:\n",
    "                gene_lens.append(np.nan)\n",
    "        else:\n",
    "            gene_lens.append(np.nan)\n",
    "    gene_lens_list.append(gene_lens)\n",
    "    longgene_num_list1.append(np.sum(np.array(gene_lens)>longgene_len1))\n",
    "    longgene_num_list2.append(np.sum(np.array(gene_lens)>longgene_len2))\n",
    "    \n",
    "    longgene_name_1 = np.array(sel_genes)[np.where(np.array(gene_lens)>longgene_len1)[0]]\n",
    "    longgene_name_list1.append('; '.join(longgene_name_1))\n",
    "    longgene_name_2 = np.array(sel_genes)[np.where(np.array(gene_lens)>longgene_len2)[0]]\n",
    "    longgene_name_list2.append('; '.join(longgene_name_2))\n",
    "\n",
    "    total_gen_len_list.append(np.nansum(gene_lens))\n",
    "    ave_gen_len_list.append(np.nanmean(gene_lens))\n",
    "\n",
    "gene_codebook_df['gene_len']=gene_lens_list\n",
    "gene_codebook_df['num_100k_gene']=longgene_num_list1\n",
    "gene_codebook_df['num_300k_gene']=longgene_num_list2\n",
    "gene_codebook_df['100k_gene']=longgene_name_list1\n",
    "gene_codebook_df['300k_gene']=longgene_name_list2\n",
    "\n",
    "gene_codebook_df['total_gen_len']=total_gen_len_list\n",
    "gene_codebook_df['mean_gen_len']=ave_gen_len_list"
   ]
  },
  {
   "cell_type": "markdown",
   "id": "2a29ec70",
   "metadata": {},
   "source": [
    "# Add RNA expression status"
   ]
  },
  {
   "cell_type": "code",
   "execution_count": 17,
   "id": "ab458f9d",
   "metadata": {},
   "outputs": [
    {
     "data": {
      "text/html": [
       "<div>\n",
       "<style scoped>\n",
       "    .dataframe tbody tr th:only-of-type {\n",
       "        vertical-align: middle;\n",
       "    }\n",
       "\n",
       "    .dataframe tbody tr th {\n",
       "        vertical-align: top;\n",
       "    }\n",
       "\n",
       "    .dataframe thead th {\n",
       "        text-align: right;\n",
       "    }\n",
       "</style>\n",
       "<table border=\"1\" class=\"dataframe\">\n",
       "  <thead>\n",
       "    <tr style=\"text-align: right;\">\n",
       "      <th></th>\n",
       "      <th>name</th>\n",
       "      <th>id</th>\n",
       "      <th>chr</th>\n",
       "      <th>chr_order</th>\n",
       "      <th>library</th>\n",
       "      <th>adjacent_genes_2000kb_tss</th>\n",
       "      <th>gene_len</th>\n",
       "      <th>num_100k_gene</th>\n",
       "      <th>num_300k_gene</th>\n",
       "      <th>100k_gene</th>\n",
       "      <th>300k_gene</th>\n",
       "      <th>total_gen_len</th>\n",
       "      <th>mean_gen_len</th>\n",
       "    </tr>\n",
       "    <tr>\n",
       "      <th>loci_name</th>\n",
       "      <th></th>\n",
       "      <th></th>\n",
       "      <th></th>\n",
       "      <th></th>\n",
       "      <th></th>\n",
       "      <th></th>\n",
       "      <th></th>\n",
       "      <th></th>\n",
       "      <th></th>\n",
       "      <th></th>\n",
       "      <th></th>\n",
       "      <th></th>\n",
       "      <th></th>\n",
       "    </tr>\n",
       "  </thead>\n",
       "  <tbody>\n",
       "    <tr>\n",
       "      <th>chr1_3742742_3759944</th>\n",
       "      <td>1:3742742-3759944</td>\n",
       "      <td>1</td>\n",
       "      <td>1</td>\n",
       "      <td>0.0</td>\n",
       "      <td>CTP11</td>\n",
       "      <td>Atp6v1h; Gm16041; Gm17101; Gm18956; Gm2053; Gm...</td>\n",
       "      <td>[92.511, nan, nan, nan, nan, nan, nan, nan, na...</td>\n",
       "      <td>3</td>\n",
       "      <td>2</td>\n",
       "      <td>Rgs20; Rp1; Xkr4</td>\n",
       "      <td>Rp1; Xkr4</td>\n",
       "      <td>1245.839</td>\n",
       "      <td>138.426556</td>\n",
       "    </tr>\n",
       "  </tbody>\n",
       "</table>\n",
       "</div>"
      ],
      "text/plain": [
       "                                   name id chr  chr_order library  \\\n",
       "loci_name                                                           \n",
       "chr1_3742742_3759944  1:3742742-3759944  1   1        0.0   CTP11   \n",
       "\n",
       "                                              adjacent_genes_2000kb_tss  \\\n",
       "loci_name                                                                 \n",
       "chr1_3742742_3759944  Atp6v1h; Gm16041; Gm17101; Gm18956; Gm2053; Gm...   \n",
       "\n",
       "                                                               gene_len  \\\n",
       "loci_name                                                                 \n",
       "chr1_3742742_3759944  [92.511, nan, nan, nan, nan, nan, nan, nan, na...   \n",
       "\n",
       "                      num_100k_gene  num_300k_gene         100k_gene  \\\n",
       "loci_name                                                              \n",
       "chr1_3742742_3759944              3              2  Rgs20; Rp1; Xkr4   \n",
       "\n",
       "                      300k_gene  total_gen_len  mean_gen_len  \n",
       "loci_name                                                     \n",
       "chr1_3742742_3759944  Rp1; Xkr4       1245.839    138.426556  "
      ]
     },
     "execution_count": 17,
     "metadata": {},
     "output_type": "execute_result"
    }
   ],
   "source": [
    "gene_codebook_df[:1]"
   ]
  },
  {
   "cell_type": "markdown",
   "id": "77a9880d",
   "metadata": {},
   "source": [
    "## load RNA normalized data\n",
    "\n",
    "Data can be generated by notebook\n",
    "\n",
    "[external/scripts/sn_rna/2_prepare_and_rename_sn_rna_mop](../../../external/scripts/sn_rna/2_prepare_and_rename_sn_rna_mop.ipynb)"
   ]
  },
  {
   "cell_type": "code",
   "execution_count": 19,
   "id": "ac85c9ec",
   "metadata": {},
   "outputs": [],
   "source": [
    "import scanpy as sc\n",
    "adata_folder = r'L:\\Shiwei\\DNA_MERFISH_analysis\\10x_nuclei_v3_MOp_AIBS\\Analysis_10X_nuclei_v3_AIBS\\processed_2024'\n",
    "# load the processed adata that has UMAP and label information\n",
    "adata = sc.read(os.path.join(adata_folder,'MOp_10x_sn_labeled.h5ad'))\n",
    "#adata = sc.read(os.path.join(target_adata_folder,'MOp_10x_sn_filtered_unnorm_w_label.h5ad'))\n",
    "adata_ori = adata.raw.to_adata()"
   ]
  },
  {
   "cell_type": "code",
   "execution_count": 20,
   "id": "3975aebe",
   "metadata": {
    "scrolled": true
   },
   "outputs": [
    {
     "data": {
      "image/png": "[encoded data removed]",
      "text/plain": [
       "<Figure size 500x2150 with 1 Axes>"
      ]
     },
     "metadata": {},
     "output_type": "display_data"
    }
   ],
   "source": [
    "%matplotlib inline\n",
    "sc.pl.highest_expr_genes(adata_ori, n_top=100, )"
   ]
  },
  {
   "cell_type": "code",
   "execution_count": 21,
   "id": "7341a9a5",
   "metadata": {},
   "outputs": [
    {
     "data": {
      "text/plain": [
       "Malat1    2061.521484\n",
       "Ptprd      161.445450\n",
       "Kcnip4     137.245682\n",
       "Dlg2       113.455383\n",
       "Meg3       112.848030\n",
       "             ...     \n",
       "Gm3764       2.575835\n",
       "Lnpk         2.572001\n",
       "Dpysl2       2.568167\n",
       "Gmcl1        2.566126\n",
       "Abhd18       2.564507\n",
       "Name: mean_counts, Length: 1000, dtype: float32"
      ]
     },
     "execution_count": 21,
     "metadata": {},
     "output_type": "execute_result"
    }
   ],
   "source": [
    "gene_sort_bymean = adata_ori.var.sort_values(by='mean_counts')['mean_counts'][::-1][:1000]\n",
    "gene_sort_bymean"
   ]
  },
  {
   "cell_type": "code",
   "execution_count": 22,
   "id": "78a241a4",
   "metadata": {},
   "outputs": [
    {
     "data": {
      "text/plain": [
       "1.0826104164123558"
      ]
     },
     "execution_count": 22,
     "metadata": {},
     "output_type": "execute_result"
    }
   ],
   "source": [
    "p_th = 90\n",
    "\n",
    "gene_means = np.mean(adata_ori.X.toarray(), axis=0)\n",
    "malat1_index = np.where(adata_ori.var_names=='Malat1')[0]\n",
    "gene_means[malat1_index] = np.median(gene_means)\n",
    "expression_th = np.percentile(gene_means,p_th)\n",
    "expression_th"
   ]
  },
  {
   "cell_type": "code",
   "execution_count": 23,
   "id": "b6b54395",
   "metadata": {},
   "outputs": [
    {
     "data": {
      "text/plain": [
       "1.0826104164123558"
      ]
     },
     "execution_count": 23,
     "metadata": {},
     "output_type": "execute_result"
    }
   ],
   "source": [
    "expression_th"
   ]
  },
  {
   "cell_type": "markdown",
   "id": "e103491f",
   "metadata": {},
   "source": [
    "## relative active genes"
   ]
  },
  {
   "cell_type": "code",
   "execution_count": 24,
   "id": "e03c34be",
   "metadata": {},
   "outputs": [],
   "source": [
    "active_genes_byGroup = {}\n",
    "\n",
    "for _group in np.unique(adata_ori.obs['subclass_label_new'])[:]:\n",
    "    sel_adata = adata_ori[adata_ori.obs['subclass_label_new']==_group]\n",
    "    # gene expression mean for all genes for the celltype ~ non-neuron expression are thus relative and 'overestimated'\n",
    "    gene_means = np.mean(sel_adata.X.toarray(), axis=0)\n",
    "    malat1_index = np.where(adata_ori.var_names=='Malat1')[0]\n",
    "    gene_means[malat1_index] = np.median(gene_means)\n",
    "    #gene_means = np.log10(gene_means+1)\n",
    "    expression_th = np.percentile(gene_means,p_th) # 75 for active, similar to the loci wise percentile\n",
    "    # relative active genes \n",
    "    active_genes = sel_adata.var_names[gene_means>expression_th]\n",
    "    active_genes_byGroup[_group] = active_genes\n"
   ]
  },
  {
   "cell_type": "code",
   "execution_count": 25,
   "id": "0aa300cb",
   "metadata": {},
   "outputs": [
    {
     "name": "stderr",
     "output_type": "stream",
     "text": [
      "100%|██████████████████████████████████████████████████████████████████████████████████| 18/18 [01:44<00:00,  5.79s/it]\n"
     ]
    }
   ],
   "source": [
    "import tqdm\n",
    "active_genes_list_byGroup = {}\n",
    "sel_genes_list = gene_codebook_df[gene_col].tolist()\n",
    "\n",
    "for _group, _active_genes in tqdm.tqdm(active_genes_byGroup.items()):\n",
    "    active_genes_list_byGroup[_group]=[]\n",
    "    for sel_genes in sel_genes_list:\n",
    "        sel_genes = sel_genes.split('; ')\n",
    "        active_genes_loci = np.intersect1d(sel_genes, _active_genes)\n",
    "        active_genes_loci = '; '.join(active_genes_loci)\n",
    "        active_genes_list_byGroup[_group].append(active_genes_loci)\n"
   ]
  },
  {
   "cell_type": "code",
   "execution_count": 26,
   "id": "b45a4b02",
   "metadata": {},
   "outputs": [
    {
     "data": {
      "text/plain": [
       "['Atp6v1h; Xkr4', 'Atp6v1h; Pcmtd1; Rb1cc1', 'Arfgef1; Cspp1; Pcmtd1; Sntg1']"
      ]
     },
     "execution_count": 26,
     "metadata": {},
     "output_type": "execute_result"
    }
   ],
   "source": [
    "active_genes_list_byGroup[_group][:3]"
   ]
  },
  {
   "cell_type": "code",
   "execution_count": 27,
   "id": "b0ca2d53",
   "metadata": {},
   "outputs": [
    {
     "data": {
      "text/plain": [
       "['Atp6v1h; Rgs20',\n",
       " 'Atp6v1h; Pcmtd1; Rb1cc1; Rgs20',\n",
       " 'Adhfe1; Arfgef1; Cspp1; Pcmtd1; Sntg1']"
      ]
     },
     "execution_count": 27,
     "metadata": {},
     "output_type": "execute_result"
    }
   ],
   "source": [
    "active_genes_list_byGroup['Astro'][:3]"
   ]
  },
  {
   "cell_type": "code",
   "execution_count": 28,
   "id": "66000dd8",
   "metadata": {},
   "outputs": [
    {
     "name": "stderr",
     "output_type": "stream",
     "text": [
      "100%|████████████████████████████████████████████████████████████████████████████████| 18/18 [00:00<00:00, 2249.43it/s]\n"
     ]
    }
   ],
   "source": [
    "for _group, _active_genes_list in tqdm.tqdm(active_genes_list_byGroup.items()):\n",
    "    gene_codebook_df[f'rel_active_{gene_col}_{_group}'] = _active_genes_list"
   ]
  },
  {
   "cell_type": "markdown",
   "id": "43338cb6",
   "metadata": {},
   "source": [
    "## absoulte active genes"
   ]
  },
  {
   "cell_type": "code",
   "execution_count": 29,
   "id": "615621e7",
   "metadata": {},
   "outputs": [],
   "source": [
    "active_genes_byGroup = {}\n",
    "\n",
    "gene_means = np.mean(adata_ori.X.toarray(), axis=0)\n",
    "malat1_index = np.where(adata_ori.var_names=='Malat1')[0]\n",
    "gene_means[malat1_index] = np.median(gene_means)\n",
    "expression_th = np.percentile(gene_means,p_th)\n",
    "\n",
    "for _group in np.unique(adata_ori.obs['subclass_label_new'])[:]:\n",
    "    sel_adata = adata_ori[adata_ori.obs['subclass_label_new']==_group]\n",
    "    # absolute active genes \n",
    "    sel_gene_means = np.mean(sel_adata.X.toarray(), axis=0)\n",
    "    sel_gene_means[malat1_index] = np.median(sel_gene_means)\n",
    "    #sel_gene_means = np.log10(sel_gene_means+1)\n",
    "    active_genes = sel_adata.var_names[sel_gene_means>expression_th]\n",
    "    active_genes_byGroup[_group] = active_genes"
   ]
  },
  {
   "cell_type": "raw",
   "id": "06e91d4a",
   "metadata": {},
   "source": [
    "%matplotlib inline\n",
    "import seaborn as sns\n",
    "import matplotlib.pyplot as plt\n",
    "fig, ax =plt.subplots(dpi=100)\n",
    "sns.violinplot(gene_means, ax=ax)"
   ]
  },
  {
   "cell_type": "code",
   "execution_count": 30,
   "id": "a6e1e2b0",
   "metadata": {},
   "outputs": [
    {
     "name": "stdout",
     "output_type": "stream",
     "text": [
      "Astro 779\n",
      "Endo 1243\n",
      "L2/3 IT 2777\n",
      "L4/5 IT 2234\n",
      "L5 ET 3949\n",
      "L5 IT 3015\n",
      "L5/6 NP 1754\n",
      "L6 CT 2243\n",
      "L6 IT 2597\n",
      "L6b 2754\n",
      "Lamp5 1769\n",
      "Micro 340\n",
      "OPC 631\n",
      "Oligo 538\n",
      "Pvalb 2419\n",
      "Sncg 2165\n",
      "Sst 2096\n",
      "Vip 1288\n"
     ]
    }
   ],
   "source": [
    "for _group in active_genes_byGroup.keys():\n",
    "    active_genes = active_genes_byGroup[_group]\n",
    "    print(_group,len(active_genes))"
   ]
  },
  {
   "cell_type": "code",
   "execution_count": 31,
   "id": "902e3751",
   "metadata": {},
   "outputs": [
    {
     "name": "stderr",
     "output_type": "stream",
     "text": [
      "100%|██████████████████████████████████████████████████████████████████████████████████| 18/18 [01:18<00:00,  4.35s/it]\n"
     ]
    }
   ],
   "source": [
    "import tqdm\n",
    "abs_active_genes_list_byGroup = {}\n",
    "sel_genes_list = gene_codebook_df[gene_col].tolist()\n",
    "\n",
    "for _group, _active_genes in tqdm.tqdm(active_genes_byGroup.items()):\n",
    "    abs_active_genes_list_byGroup[_group]=[]\n",
    "    for sel_genes in sel_genes_list:\n",
    "        sel_genes = sel_genes.split('; ')\n",
    "        active_genes_loci = np.intersect1d(sel_genes, _active_genes)\n",
    "        active_genes_loci = '; '.join(active_genes_loci)\n",
    "        abs_active_genes_list_byGroup[_group].append(active_genes_loci)\n"
   ]
  },
  {
   "cell_type": "code",
   "execution_count": 32,
   "id": "f14da030",
   "metadata": {},
   "outputs": [
    {
     "data": {
      "text/plain": [
       "['Atp6v1h; Xkr4', 'Atp6v1h; Pcmtd1; Rb1cc1', 'Arfgef1; Cspp1; Pcmtd1; Sntg1']"
      ]
     },
     "execution_count": 32,
     "metadata": {},
     "output_type": "execute_result"
    }
   ],
   "source": [
    "active_genes_list_byGroup[_group][:3]"
   ]
  },
  {
   "cell_type": "code",
   "execution_count": 33,
   "id": "7ad6ac3a",
   "metadata": {},
   "outputs": [
    {
     "data": {
      "text/plain": [
       "['Atp6v1h; Rgs20',\n",
       " 'Atp6v1h; Pcmtd1; Rb1cc1; Rgs20',\n",
       " 'Adhfe1; Arfgef1; Cspp1; Pcmtd1; Sntg1']"
      ]
     },
     "execution_count": 33,
     "metadata": {},
     "output_type": "execute_result"
    }
   ],
   "source": [
    "active_genes_list_byGroup['Astro'][:3]"
   ]
  },
  {
   "cell_type": "code",
   "execution_count": 34,
   "id": "640b24c0",
   "metadata": {},
   "outputs": [
    {
     "name": "stderr",
     "output_type": "stream",
     "text": [
      "100%|████████████████████████████████████████████████████████████████████████████████| 18/18 [00:00<00:00, 2570.48it/s]\n"
     ]
    }
   ],
   "source": [
    "for _group, _active_genes_list in tqdm.tqdm(abs_active_genes_list_byGroup.items()):\n",
    "    gene_codebook_df[f'abs_active_{gene_col}_{_group}'] = _active_genes_list"
   ]
  },
  {
   "cell_type": "markdown",
   "id": "8470c325",
   "metadata": {},
   "source": [
    "# Save as h5 to keep the length list "
   ]
  },
  {
   "cell_type": "code",
   "execution_count": 35,
   "id": "cd56ef1b",
   "metadata": {},
   "outputs": [
    {
     "data": {
      "text/html": [
       "<div>\n",
       "<style scoped>\n",
       "    .dataframe tbody tr th:only-of-type {\n",
       "        vertical-align: middle;\n",
       "    }\n",
       "\n",
       "    .dataframe tbody tr th {\n",
       "        vertical-align: top;\n",
       "    }\n",
       "\n",
       "    .dataframe thead th {\n",
       "        text-align: right;\n",
       "    }\n",
       "</style>\n",
       "<table border=\"1\" class=\"dataframe\">\n",
       "  <thead>\n",
       "    <tr style=\"text-align: right;\">\n",
       "      <th></th>\n",
       "      <th>name</th>\n",
       "      <th>id</th>\n",
       "      <th>chr</th>\n",
       "      <th>chr_order</th>\n",
       "      <th>library</th>\n",
       "      <th>adjacent_genes_2000kb_tss</th>\n",
       "      <th>gene_len</th>\n",
       "      <th>num_100k_gene</th>\n",
       "      <th>num_300k_gene</th>\n",
       "      <th>100k_gene</th>\n",
       "      <th>...</th>\n",
       "      <th>abs_active_adjacent_genes_2000kb_tss_L6 IT</th>\n",
       "      <th>abs_active_adjacent_genes_2000kb_tss_L6b</th>\n",
       "      <th>abs_active_adjacent_genes_2000kb_tss_Lamp5</th>\n",
       "      <th>abs_active_adjacent_genes_2000kb_tss_Micro</th>\n",
       "      <th>abs_active_adjacent_genes_2000kb_tss_OPC</th>\n",
       "      <th>abs_active_adjacent_genes_2000kb_tss_Oligo</th>\n",
       "      <th>abs_active_adjacent_genes_2000kb_tss_Pvalb</th>\n",
       "      <th>abs_active_adjacent_genes_2000kb_tss_Sncg</th>\n",
       "      <th>abs_active_adjacent_genes_2000kb_tss_Sst</th>\n",
       "      <th>abs_active_adjacent_genes_2000kb_tss_Vip</th>\n",
       "    </tr>\n",
       "    <tr>\n",
       "      <th>loci_name</th>\n",
       "      <th></th>\n",
       "      <th></th>\n",
       "      <th></th>\n",
       "      <th></th>\n",
       "      <th></th>\n",
       "      <th></th>\n",
       "      <th></th>\n",
       "      <th></th>\n",
       "      <th></th>\n",
       "      <th></th>\n",
       "      <th></th>\n",
       "      <th></th>\n",
       "      <th></th>\n",
       "      <th></th>\n",
       "      <th></th>\n",
       "      <th></th>\n",
       "      <th></th>\n",
       "      <th></th>\n",
       "      <th></th>\n",
       "      <th></th>\n",
       "      <th></th>\n",
       "    </tr>\n",
       "  </thead>\n",
       "  <tbody>\n",
       "    <tr>\n",
       "      <th>chr1_3742742_3759944</th>\n",
       "      <td>1:3742742-3759944</td>\n",
       "      <td>1</td>\n",
       "      <td>1</td>\n",
       "      <td>0.0</td>\n",
       "      <td>CTP11</td>\n",
       "      <td>Atp6v1h; Gm16041; Gm17101; Gm18956; Gm2053; Gm...</td>\n",
       "      <td>[92.511, nan, nan, nan, nan, nan, nan, nan, na...</td>\n",
       "      <td>3</td>\n",
       "      <td>2</td>\n",
       "      <td>Rgs20; Rp1; Xkr4</td>\n",
       "      <td>...</td>\n",
       "      <td>Atp6v1h; Rgs20; Xkr4</td>\n",
       "      <td>Atp6v1h; Rgs20; Xkr4</td>\n",
       "      <td>Atp6v1h; Xkr4</td>\n",
       "      <td></td>\n",
       "      <td>Xkr4</td>\n",
       "      <td>Xkr4</td>\n",
       "      <td>Atp6v1h; Xkr4</td>\n",
       "      <td>Atp6v1h; Xkr4</td>\n",
       "      <td>Atp6v1h; Xkr4</td>\n",
       "      <td>Xkr4</td>\n",
       "    </tr>\n",
       "  </tbody>\n",
       "</table>\n",
       "<p>1 rows × 49 columns</p>\n",
       "</div>"
      ],
      "text/plain": [
       "                                   name id chr  chr_order library  \\\n",
       "loci_name                                                           \n",
       "chr1_3742742_3759944  1:3742742-3759944  1   1        0.0   CTP11   \n",
       "\n",
       "                                              adjacent_genes_2000kb_tss  \\\n",
       "loci_name                                                                 \n",
       "chr1_3742742_3759944  Atp6v1h; Gm16041; Gm17101; Gm18956; Gm2053; Gm...   \n",
       "\n",
       "                                                               gene_len  \\\n",
       "loci_name                                                                 \n",
       "chr1_3742742_3759944  [92.511, nan, nan, nan, nan, nan, nan, nan, na...   \n",
       "\n",
       "                      num_100k_gene  num_300k_gene         100k_gene  ...  \\\n",
       "loci_name                                                             ...   \n",
       "chr1_3742742_3759944              3              2  Rgs20; Rp1; Xkr4  ...   \n",
       "\n",
       "                     abs_active_adjacent_genes_2000kb_tss_L6 IT  \\\n",
       "loci_name                                                         \n",
       "chr1_3742742_3759944                       Atp6v1h; Rgs20; Xkr4   \n",
       "\n",
       "                      abs_active_adjacent_genes_2000kb_tss_L6b  \\\n",
       "loci_name                                                        \n",
       "chr1_3742742_3759944                      Atp6v1h; Rgs20; Xkr4   \n",
       "\n",
       "                      abs_active_adjacent_genes_2000kb_tss_Lamp5  \\\n",
       "loci_name                                                          \n",
       "chr1_3742742_3759944                               Atp6v1h; Xkr4   \n",
       "\n",
       "                     abs_active_adjacent_genes_2000kb_tss_Micro  \\\n",
       "loci_name                                                         \n",
       "chr1_3742742_3759944                                              \n",
       "\n",
       "                     abs_active_adjacent_genes_2000kb_tss_OPC  \\\n",
       "loci_name                                                       \n",
       "chr1_3742742_3759944                                     Xkr4   \n",
       "\n",
       "                     abs_active_adjacent_genes_2000kb_tss_Oligo  \\\n",
       "loci_name                                                         \n",
       "chr1_3742742_3759944                                       Xkr4   \n",
       "\n",
       "                     abs_active_adjacent_genes_2000kb_tss_Pvalb  \\\n",
       "loci_name                                                         \n",
       "chr1_3742742_3759944                              Atp6v1h; Xkr4   \n",
       "\n",
       "                     abs_active_adjacent_genes_2000kb_tss_Sncg  \\\n",
       "loci_name                                                        \n",
       "chr1_3742742_3759944                             Atp6v1h; Xkr4   \n",
       "\n",
       "                     abs_active_adjacent_genes_2000kb_tss_Sst  \\\n",
       "loci_name                                                       \n",
       "chr1_3742742_3759944                            Atp6v1h; Xkr4   \n",
       "\n",
       "                     abs_active_adjacent_genes_2000kb_tss_Vip  \n",
       "loci_name                                                      \n",
       "chr1_3742742_3759944                                     Xkr4  \n",
       "\n",
       "[1 rows x 49 columns]"
      ]
     },
     "execution_count": 35,
     "metadata": {},
     "output_type": "execute_result"
    }
   ],
   "source": [
    "gene_codebook_df[:1]"
   ]
  },
  {
   "cell_type": "code",
   "execution_count": 36,
   "id": "b1ab7ef2",
   "metadata": {},
   "outputs": [
    {
     "name": "stderr",
     "output_type": "stream",
     "text": [
      "C:\\Users\\shiwei\\AppData\\Local\\Temp\\3\\ipykernel_25236\\481992779.py:2: PerformanceWarning: \n",
      "your performance may suffer as PyTables will pickle object types that it cannot\n",
      "map directly to c-types [inferred_type->mixed,key->block2_values] [items->Index(['name', 'id', 'chr', 'library', 'adjacent_genes_2000kb_tss', 'gene_len',\n",
      "       '100k_gene', '300k_gene', 'rel_active_adjacent_genes_2000kb_tss_Astro',\n",
      "       'rel_active_adjacent_genes_2000kb_tss_Endo',\n",
      "       'rel_active_adjacent_genes_2000kb_tss_L2/3 IT',\n",
      "       'rel_active_adjacent_genes_2000kb_tss_L4/5 IT',\n",
      "       'rel_active_adjacent_genes_2000kb_tss_L5 ET',\n",
      "       'rel_active_adjacent_genes_2000kb_tss_L5 IT',\n",
      "       'rel_active_adjacent_genes_2000kb_tss_L5/6 NP',\n",
      "       'rel_active_adjacent_genes_2000kb_tss_L6 CT',\n",
      "       'rel_active_adjacent_genes_2000kb_tss_L6 IT',\n",
      "       'rel_active_adjacent_genes_2000kb_tss_L6b',\n",
      "       'rel_active_adjacent_genes_2000kb_tss_Lamp5',\n",
      "       'rel_active_adjacent_genes_2000kb_tss_Micro',\n",
      "       'rel_active_adjacent_genes_2000kb_tss_OPC',\n",
      "       'rel_active_adjacent_genes_2000kb_tss_Oligo',\n",
      "       'rel_active_adjacent_genes_2000kb_tss_Pvalb',\n",
      "       'rel_active_adjacent_genes_2000kb_tss_Sncg',\n",
      "       'rel_active_adjacent_genes_2000kb_tss_Sst',\n",
      "       'rel_active_adjacent_genes_2000kb_tss_Vip',\n",
      "       'abs_active_adjacent_genes_2000kb_tss_Astro',\n",
      "       'abs_active_adjacent_genes_2000kb_tss_Endo',\n",
      "       'abs_active_adjacent_genes_2000kb_tss_L2/3 IT',\n",
      "       'abs_active_adjacent_genes_2000kb_tss_L4/5 IT',\n",
      "       'abs_active_adjacent_genes_2000kb_tss_L5 ET',\n",
      "       'abs_active_adjacent_genes_2000kb_tss_L5 IT',\n",
      "       'abs_active_adjacent_genes_2000kb_tss_L5/6 NP',\n",
      "       'abs_active_adjacent_genes_2000kb_tss_L6 CT',\n",
      "       'abs_active_adjacent_genes_2000kb_tss_L6 IT',\n",
      "       'abs_active_adjacent_genes_2000kb_tss_L6b',\n",
      "       'abs_active_adjacent_genes_2000kb_tss_Lamp5',\n",
      "       'abs_active_adjacent_genes_2000kb_tss_Micro',\n",
      "       'abs_active_adjacent_genes_2000kb_tss_OPC',\n",
      "       'abs_active_adjacent_genes_2000kb_tss_Oligo',\n",
      "       'abs_active_adjacent_genes_2000kb_tss_Pvalb',\n",
      "       'abs_active_adjacent_genes_2000kb_tss_Sncg',\n",
      "       'abs_active_adjacent_genes_2000kb_tss_Sst',\n",
      "       'abs_active_adjacent_genes_2000kb_tss_Vip'],\n",
      "      dtype='object')]\n",
      "\n",
      "  gene_codebook_df.to_hdf(output_fname, key='df', mode='w')\n"
     ]
    }
   ],
   "source": [
    "output_fname = os.path.join(output_analysis_folder, f'MERFISH_loci_gene_info_and_activity_2Mb_bysubclass.h5')\n",
    "gene_codebook_df.to_hdf(output_fname, key='df', mode='w')"
   ]
  }
 ],
 "metadata": {
  "kernelspec": {
   "display_name": "Python 3 (ipykernel)",
   "language": "python",
   "name": "python3"
  },
  "language_info": {
   "codemirror_mode": {
    "name": "ipython",
    "version": 3
   },
   "file_extension": ".py",
   "mimetype": "text/x-python",
   "name": "python",
   "nbconvert_exporter": "python",
   "pygments_lexer": "ipython3",
   "version": "3.10.8"
  },
  "toc": {
   "base_numbering": 1,
   "nav_menu": {},
   "number_sections": true,
   "sideBar": true,
   "skip_h1_title": false,
   "title_cell": "Table of Contents",
   "title_sidebar": "Contents",
   "toc_cell": false,
   "toc_position": {
    "height": "calc(100% - 180px)",
    "left": "10px",
    "top": "150px",
    "width": "265.099px"
   },
   "toc_section_display": true,
   "toc_window_display": true
  }
 },
 "nbformat": 4,
 "nbformat_minor": 5
}
