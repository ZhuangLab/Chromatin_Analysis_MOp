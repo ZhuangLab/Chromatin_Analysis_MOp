{
 "cells": [
  {
   "cell_type": "markdown",
   "metadata": {},
   "source": [
    "# Import module"
   ]
  },
  {
   "cell_type": "markdown",
   "metadata": {},
   "source": [
    "The link to get [ImageAnalysis3](https://github.com/zhengpuas47/ImageAnalysis3) \n",
    "\n",
    "Or from the Zhuang lab archived [source_tools](https://github.com/ZhuangLab/Chromatin_Analysis_2020_cell/tree/master/sequential_tracing/source)"
   ]
  },
  {
   "cell_type": "markdown",
   "metadata": {},
   "source": [
    "## ImageAnalysis3 and basic modules"
   ]
  },
  {
   "cell_type": "code",
   "execution_count": 1,
   "metadata": {},
   "outputs": [
    {
     "name": "stdout",
     "output_type": "stream",
     "text": [
      "11840\n"
     ]
    }
   ],
   "source": [
    "%run \"C:\\Users\\shiwei\\Documents\\ImageAnalysis3\\required_files\\Startup_py3.py\"\n",
    "sys.path.append(r\"C:\\Users\\shiwei\\Documents\")\n",
    "\n",
    "import ImageAnalysis3 as ia\n",
    "from ImageAnalysis3 import *\n",
    "from ImageAnalysis3.classes import _allowed_kwds\n",
    "\n",
    "import h5py\n",
    "import ast\n",
    "import pandas as pd\n",
    "\n",
    "print(os.getpid())"
   ]
  },
  {
   "cell_type": "markdown",
   "metadata": {},
   "source": [
    "## Chromatin_analysis_tools etc"
   ]
  },
  {
   "cell_type": "markdown",
   "metadata": {},
   "source": [
    "See **functions** in the repository for [AnalysisTool_Chromatin](../../README.md)"
   ]
  },
  {
   "cell_type": "code",
   "execution_count": 2,
   "metadata": {},
   "outputs": [
    {
     "data": {
      "text/plain": [
       "<module 'atac_to_loci' from 'C:\\\\Users\\\\shiwei\\\\Documents\\\\AnalysisTool_Chromatin\\\\atac_to_loci.py'>"
      ]
     },
     "execution_count": 2,
     "metadata": {},
     "output_type": "execute_result"
    }
   ],
   "source": [
    "# Chromatin_analysis_tools (ATC)\n",
    "# Get path for the py containing functions\n",
    "import os\n",
    "import sys\n",
    "import importlib\n",
    "module_path =r'C:\\Users\\shiwei\\Documents\\AnalysisTool_Chromatin'\n",
    "if module_path not in sys.path:\n",
    "    sys.path.append(module_path)\n",
    "    \n",
    "# import relevant modules\n",
    "import gene_selection \n",
    "importlib.reload(gene_selection)\n",
    "import gene_to_loci\n",
    "importlib.reload(gene_to_loci)\n",
    "import gene_activity\n",
    "importlib.reload(gene_activity)\n",
    "import loci_1d_features\n",
    "importlib.reload(loci_1d_features)  \n",
    "\n",
    "import atac_to_loci\n",
    "importlib.reload(atac_to_loci)"
   ]
  },
  {
   "cell_type": "markdown",
   "metadata": {},
   "source": [
    "# Define folders"
   ]
  },
  {
   "cell_type": "code",
   "execution_count": 3,
   "metadata": {},
   "outputs": [
    {
     "name": "stdout",
     "output_type": "stream",
     "text": [
      "Use existing analysis folder: L:\\Shiwei\\postanalysis_2024\\v0\\locus_annotation\\analysis.\n",
      "Use existing figure folder: L:\\Shiwei\\postanalysis_2024\\v0\\locus_annotation\\figures.\n"
     ]
    }
   ],
   "source": [
    "# main folder for postanalysis\n",
    "postanalysis_folder = r'L:\\Shiwei\\postanalysis_2024\\v0'\n",
    "# input files for postanalysis\n",
    "input_folder = os.path.join(postanalysis_folder, 'resources_from_preprocess')\n",
    "\n",
    "# output file to be generated\n",
    "output_main_folder = os.path.join(postanalysis_folder, 'locus_annotation')\n",
    "\n",
    "output_analysis_folder = os.path.join(output_main_folder, 'analysis')\n",
    "output_figure_folder = os.path.join(output_main_folder, 'figures')\n",
    "\n",
    "# make new folder if needed\n",
    "make_output_folder = True\n",
    "\n",
    "if make_output_folder and not os.path.exists(output_analysis_folder):\n",
    "    os.makedirs(output_analysis_folder)\n",
    "    print(f'Generating analysis folder: {output_analysis_folder}.')\n",
    "elif os.path.exists(output_analysis_folder):\n",
    "    print(f'Use existing analysis folder: {output_analysis_folder}.')\n",
    "    \n",
    "if make_output_folder and not os.path.exists(output_figure_folder):\n",
    "    os.makedirs(output_figure_folder)\n",
    "    print(f'Generating figure folder: {output_figure_folder}.')\n",
    "elif os.path.exists(output_figure_folder):\n",
    "    print(f'Use existing figure folder: {output_figure_folder}.')"
   ]
  },
  {
   "cell_type": "markdown",
   "metadata": {},
   "source": [
    "# Plotting parameters"
   ]
  },
  {
   "cell_type": "code",
   "execution_count": 4,
   "metadata": {},
   "outputs": [],
   "source": [
    "%matplotlib inline\n",
    "import matplotlib\n",
    "matplotlib.rcParams['pdf.fonttype'] = 42\n",
    "import matplotlib.pyplot as plt\n",
    "plt.rc('font', family='serif')\n",
    "plt.rc('font', serif='Arial')\n",
    "\n",
    "from ImageAnalysis3.figure_tools import _double_col_width, _single_col_width, _font_size, _ticklabel_size,_ticklabel_width\n",
    "\n",
    "import seaborn as sns\n",
    "sns.set_context(\"paper\", rc={\"font.size\":_font_size,\"axes.titlesize\":_font_size+1,\"axes.labelsize\":_font_size})  "
   ]
  },
  {
   "cell_type": "markdown",
   "metadata": {},
   "source": [
    "# Load data relevant information"
   ]
  },
  {
   "cell_type": "markdown",
   "metadata": {},
   "source": [
    "## load codebook with gene annotation\n",
    "\n",
    "annotated codebook can be generated using the notebook below:\n",
    "\n",
    "\n",
    "[0_locus_annotation/scripts/1_adjacent_gene_annotation_for_merfish_loci](../../0_locus_annotation/scripts/1_adjacent_gene_annotation_for_merfish_loci.ipynb)"
   ]
  },
  {
   "cell_type": "code",
   "execution_count": 6,
   "metadata": {},
   "outputs": [
    {
     "data": {
      "text/html": [
       "<div>\n",
       "<style scoped>\n",
       "    .dataframe tbody tr th:only-of-type {\n",
       "        vertical-align: middle;\n",
       "    }\n",
       "\n",
       "    .dataframe tbody tr th {\n",
       "        vertical-align: top;\n",
       "    }\n",
       "\n",
       "    .dataframe thead th {\n",
       "        text-align: right;\n",
       "    }\n",
       "</style>\n",
       "<table border=\"1\" class=\"dataframe\">\n",
       "  <thead>\n",
       "    <tr style=\"text-align: right;\">\n",
       "      <th></th>\n",
       "      <th>name</th>\n",
       "      <th>id</th>\n",
       "      <th>chr</th>\n",
       "      <th>chr_order</th>\n",
       "      <th>library</th>\n",
       "      <th>adjacent_genes_10kb_tss</th>\n",
       "      <th>adjacent_genes_50kb_tss</th>\n",
       "      <th>adjacent_genes_100kb_tss</th>\n",
       "      <th>adjacent_genes_200kb_tss</th>\n",
       "      <th>adjacent_genes_500kb_tss</th>\n",
       "      <th>adjacent_genes_1000kb_tss</th>\n",
       "      <th>adjacent_genes_1500kb_tss</th>\n",
       "      <th>adjacent_genes_2000kb_tss</th>\n",
       "    </tr>\n",
       "    <tr>\n",
       "      <th>loci_name</th>\n",
       "      <th></th>\n",
       "      <th></th>\n",
       "      <th></th>\n",
       "      <th></th>\n",
       "      <th></th>\n",
       "      <th></th>\n",
       "      <th></th>\n",
       "      <th></th>\n",
       "      <th></th>\n",
       "      <th></th>\n",
       "      <th></th>\n",
       "      <th></th>\n",
       "      <th></th>\n",
       "    </tr>\n",
       "  </thead>\n",
       "  <tbody>\n",
       "    <tr>\n",
       "      <th>chr1_3742742_3759944</th>\n",
       "      <td>1:3742742-3759944</td>\n",
       "      <td>1</td>\n",
       "      <td>1</td>\n",
       "      <td>0.0</td>\n",
       "      <td>CTP11</td>\n",
       "      <td>intergenic</td>\n",
       "      <td>intergenic</td>\n",
       "      <td>Xkr4</td>\n",
       "      <td>Xkr4</td>\n",
       "      <td>Gm18956; Gm7341; Xkr4</td>\n",
       "      <td>Gm18956; Gm2053; Gm6085; Gm6101; Gm6119; Gm734...</td>\n",
       "      <td>Atp6v1h; Gm16041; Gm17101; Gm18956; Gm2053; Gm...</td>\n",
       "      <td>Atp6v1h; Gm16041; Gm17101; Gm18956; Gm2053; Gm...</td>\n",
       "    </tr>\n",
       "    <tr>\n",
       "      <th>chr1_6245958_6258969</th>\n",
       "      <td>1:6245958-6258969</td>\n",
       "      <td>2</td>\n",
       "      <td>1</td>\n",
       "      <td>1.0</td>\n",
       "      <td>CTP11</td>\n",
       "      <td>intergenic</td>\n",
       "      <td>4732440D04Rik; Rb1cc1</td>\n",
       "      <td>4732440D04Rik; Rb1cc1</td>\n",
       "      <td>4732440D04Rik; Gm19026; Gm2147; Rb1cc1</td>\n",
       "      <td>4732440D04Rik; Gm19026; Gm2147; Npbwr1; Rb1cc1...</td>\n",
       "      <td>4732440D04Rik; Gm19026; Gm2147; Gm5694; Gm7182...</td>\n",
       "      <td>4732440D04Rik; Atp6v1h; Gm16041; Gm17101; Gm19...</td>\n",
       "      <td>4732440D04Rik; Atp6v1h; Gm16041; Gm17101; Gm19...</td>\n",
       "    </tr>\n",
       "    <tr>\n",
       "      <th>chr1_8740008_8759916</th>\n",
       "      <td>1:8740008-8759916</td>\n",
       "      <td>3</td>\n",
       "      <td>1</td>\n",
       "      <td>2.0</td>\n",
       "      <td>CTP11</td>\n",
       "      <td>intergenic</td>\n",
       "      <td>Gm15452</td>\n",
       "      <td>Gm15452</td>\n",
       "      <td>Gm15452</td>\n",
       "      <td>Gm15452</td>\n",
       "      <td>1700034P13Rik; 2610203C22Rik; Adhfe1; Gm15452;...</td>\n",
       "      <td>1700034P13Rik; 2610203C22Rik; Adhfe1; Arfgef1;...</td>\n",
       "      <td>1700034P13Rik; 2610203C22Rik; Adhfe1; Arfgef1;...</td>\n",
       "    </tr>\n",
       "    <tr>\n",
       "      <th>chr1_9627926_9637875</th>\n",
       "      <td>1:9627926-9637875</td>\n",
       "      <td>1</td>\n",
       "      <td>1</td>\n",
       "      <td>3.0</td>\n",
       "      <td>CTP13</td>\n",
       "      <td>2610203C22Rik</td>\n",
       "      <td>2610203C22Rik</td>\n",
       "      <td>2610203C22Rik; Adhfe1; Gm6161; Mybl1; Rrs1</td>\n",
       "      <td>1700034P13Rik; 2610203C22Rik; Adhfe1; Gm18300;...</td>\n",
       "      <td>1700034P13Rik; 2610203C22Rik; Adhfe1; Cops5; C...</td>\n",
       "      <td>1700034P13Rik; 2610203C22Rik; Adhfe1; Arfgef1;...</td>\n",
       "      <td>1700034P13Rik; 2610203C22Rik; Adhfe1; Arfgef1;...</td>\n",
       "      <td>1700034P13Rik; 2610203C22Rik; A830018L16Rik; A...</td>\n",
       "    </tr>\n",
       "    <tr>\n",
       "      <th>chr1_9799472_9811359</th>\n",
       "      <td>1:9799472-9811359</td>\n",
       "      <td>2</td>\n",
       "      <td>1</td>\n",
       "      <td>4.0</td>\n",
       "      <td>CTP13</td>\n",
       "      <td>Gm6195; Sgk3</td>\n",
       "      <td>Gm6195; Sgk3</td>\n",
       "      <td>1700034P13Rik; Gm6195; Mcmdc2; Mybl1; Sgk3; Vc...</td>\n",
       "      <td>1700034P13Rik; 2610203C22Rik; Gm6195; Mcmdc2; ...</td>\n",
       "      <td>1700034P13Rik; 2610203C22Rik; Adhfe1; Arfgef1;...</td>\n",
       "      <td>1700034P13Rik; 2610203C22Rik; Adhfe1; Arfgef1;...</td>\n",
       "      <td>1700034P13Rik; 2610203C22Rik; Adhfe1; Arfgef1;...</td>\n",
       "      <td>1700034P13Rik; 2610203C22Rik; A830018L16Rik; A...</td>\n",
       "    </tr>\n",
       "  </tbody>\n",
       "</table>\n",
       "</div>"
      ],
      "text/plain": [
       "                                   name id chr  chr_order library  \\\n",
       "loci_name                                                           \n",
       "chr1_3742742_3759944  1:3742742-3759944  1   1        0.0   CTP11   \n",
       "chr1_6245958_6258969  1:6245958-6258969  2   1        1.0   CTP11   \n",
       "chr1_8740008_8759916  1:8740008-8759916  3   1        2.0   CTP11   \n",
       "chr1_9627926_9637875  1:9627926-9637875  1   1        3.0   CTP13   \n",
       "chr1_9799472_9811359  1:9799472-9811359  2   1        4.0   CTP13   \n",
       "\n",
       "                     adjacent_genes_10kb_tss adjacent_genes_50kb_tss  \\\n",
       "loci_name                                                              \n",
       "chr1_3742742_3759944              intergenic              intergenic   \n",
       "chr1_6245958_6258969              intergenic   4732440D04Rik; Rb1cc1   \n",
       "chr1_8740008_8759916              intergenic                 Gm15452   \n",
       "chr1_9627926_9637875           2610203C22Rik           2610203C22Rik   \n",
       "chr1_9799472_9811359            Gm6195; Sgk3            Gm6195; Sgk3   \n",
       "\n",
       "                                               adjacent_genes_100kb_tss  \\\n",
       "loci_name                                                                 \n",
       "chr1_3742742_3759944                                               Xkr4   \n",
       "chr1_6245958_6258969                              4732440D04Rik; Rb1cc1   \n",
       "chr1_8740008_8759916                                            Gm15452   \n",
       "chr1_9627926_9637875         2610203C22Rik; Adhfe1; Gm6161; Mybl1; Rrs1   \n",
       "chr1_9799472_9811359  1700034P13Rik; Gm6195; Mcmdc2; Mybl1; Sgk3; Vc...   \n",
       "\n",
       "                                               adjacent_genes_200kb_tss  \\\n",
       "loci_name                                                                 \n",
       "chr1_3742742_3759944                                               Xkr4   \n",
       "chr1_6245958_6258969             4732440D04Rik; Gm19026; Gm2147; Rb1cc1   \n",
       "chr1_8740008_8759916                                            Gm15452   \n",
       "chr1_9627926_9637875  1700034P13Rik; 2610203C22Rik; Adhfe1; Gm18300;...   \n",
       "chr1_9799472_9811359  1700034P13Rik; 2610203C22Rik; Gm6195; Mcmdc2; ...   \n",
       "\n",
       "                                               adjacent_genes_500kb_tss  \\\n",
       "loci_name                                                                 \n",
       "chr1_3742742_3759944                              Gm18956; Gm7341; Xkr4   \n",
       "chr1_6245958_6258969  4732440D04Rik; Gm19026; Gm2147; Npbwr1; Rb1cc1...   \n",
       "chr1_8740008_8759916                                            Gm15452   \n",
       "chr1_9627926_9637875  1700034P13Rik; 2610203C22Rik; Adhfe1; Cops5; C...   \n",
       "chr1_9799472_9811359  1700034P13Rik; 2610203C22Rik; Adhfe1; Arfgef1;...   \n",
       "\n",
       "                                              adjacent_genes_1000kb_tss  \\\n",
       "loci_name                                                                 \n",
       "chr1_3742742_3759944  Gm18956; Gm2053; Gm6085; Gm6101; Gm6119; Gm734...   \n",
       "chr1_6245958_6258969  4732440D04Rik; Gm19026; Gm2147; Gm5694; Gm7182...   \n",
       "chr1_8740008_8759916  1700034P13Rik; 2610203C22Rik; Adhfe1; Gm15452;...   \n",
       "chr1_9627926_9637875  1700034P13Rik; 2610203C22Rik; Adhfe1; Arfgef1;...   \n",
       "chr1_9799472_9811359  1700034P13Rik; 2610203C22Rik; Adhfe1; Arfgef1;...   \n",
       "\n",
       "                                              adjacent_genes_1500kb_tss  \\\n",
       "loci_name                                                                 \n",
       "chr1_3742742_3759944  Atp6v1h; Gm16041; Gm17101; Gm18956; Gm2053; Gm...   \n",
       "chr1_6245958_6258969  4732440D04Rik; Atp6v1h; Gm16041; Gm17101; Gm19...   \n",
       "chr1_8740008_8759916  1700034P13Rik; 2610203C22Rik; Adhfe1; Arfgef1;...   \n",
       "chr1_9627926_9637875  1700034P13Rik; 2610203C22Rik; Adhfe1; Arfgef1;...   \n",
       "chr1_9799472_9811359  1700034P13Rik; 2610203C22Rik; Adhfe1; Arfgef1;...   \n",
       "\n",
       "                                              adjacent_genes_2000kb_tss  \n",
       "loci_name                                                                \n",
       "chr1_3742742_3759944  Atp6v1h; Gm16041; Gm17101; Gm18956; Gm2053; Gm...  \n",
       "chr1_6245958_6258969  4732440D04Rik; Atp6v1h; Gm16041; Gm17101; Gm19...  \n",
       "chr1_8740008_8759916  1700034P13Rik; 2610203C22Rik; Adhfe1; Arfgef1;...  \n",
       "chr1_9627926_9637875  1700034P13Rik; 2610203C22Rik; A830018L16Rik; A...  \n",
       "chr1_9799472_9811359  1700034P13Rik; 2610203C22Rik; A830018L16Rik; A...  "
      ]
     },
     "execution_count": 6,
     "metadata": {},
     "output_type": "execute_result"
    }
   ],
   "source": [
    "# load codebook\n",
    "codebook_folder = output_analysis_folder\n",
    "\n",
    "# Load codebook and sort\n",
    "codebook_fname = os.path.join(codebook_folder,'MERFISH_loci_adjacent_genes_tss_more_res.csv')\n",
    "codebook_df = pd.read_csv (codebook_fname, index_col=0)\n",
    "codebook_df = loci_1d_features.sort_loci_df_by_chr_order (codebook_df)\n",
    "\n",
    "codebook_df.head()"
   ]
  },
  {
   "cell_type": "markdown",
   "metadata": {},
   "source": [
    "## load analyzed RNAseq annData\n",
    "\n",
    "anndata can be generated from the original source using the notebook (after transfer the cell labels to filtered data):\n",
    "\n",
    "[external/scripts/sn_rna/2_prepare_and_rename_sn_rna_mop](../../../external/scripts/sn_rna/2_prepare_and_rename_sn_rna_mop.ipynb)"
   ]
  },
  {
   "cell_type": "code",
   "execution_count": 7,
   "metadata": {},
   "outputs": [],
   "source": [
    "# Get loaded adata from other notebook\n",
    "import os\n",
    "import scanpy as sc\n",
    "# L drive is Crick Pu_SSD_0\n",
    "scRNA_folder =r'L:\\Shiwei\\DNA_MERFISH_analysis\\10x_nuclei_v3_MOp_AIBS\\Analysis_10X_nuclei_v3_AIBS\\processed_2024'\n",
    "# load from here for saved h5ad\n",
    "adata = sc.read(os.path.join(scRNA_folder,r'MOp_10x_sn_labeled.h5ad'))"
   ]
  },
  {
   "cell_type": "code",
   "execution_count": 11,
   "metadata": {},
   "outputs": [],
   "source": [
    "adata_ori = adata.raw.to_adata()"
   ]
  },
  {
   "cell_type": "code",
   "execution_count": 13,
   "metadata": {},
   "outputs": [
    {
     "data": {
      "text/plain": [
       "array([[42.,  9.,  0.,  0.,  0.],\n",
       "       [14.,  0.,  0.,  0.,  0.],\n",
       "       [14.,  1.,  0.,  0.,  0.],\n",
       "       [10.,  0.,  0.,  0.,  0.],\n",
       "       [12.,  0.,  0.,  0.,  0.]], dtype=float32)"
      ]
     },
     "execution_count": 13,
     "metadata": {},
     "output_type": "execute_result"
    }
   ],
   "source": [
    "adata_ori.X[:5,:5].toarray()"
   ]
  },
  {
   "cell_type": "markdown",
   "metadata": {},
   "source": [
    "# Extract gene expression from RNA seq"
   ]
  },
  {
   "cell_type": "code",
   "execution_count": 14,
   "metadata": {},
   "outputs": [
    {
     "name": "stdout",
     "output_type": "stream",
     "text": [
      "Get all existing adjacent gene columns.\n"
     ]
    },
    {
     "data": {
      "text/html": [
       "<div>\n",
       "<style scoped>\n",
       "    .dataframe tbody tr th:only-of-type {\n",
       "        vertical-align: middle;\n",
       "    }\n",
       "\n",
       "    .dataframe tbody tr th {\n",
       "        vertical-align: top;\n",
       "    }\n",
       "\n",
       "    .dataframe thead th {\n",
       "        text-align: right;\n",
       "    }\n",
       "</style>\n",
       "<table border=\"1\" class=\"dataframe\">\n",
       "  <thead>\n",
       "    <tr style=\"text-align: right;\">\n",
       "      <th></th>\n",
       "      <th>name</th>\n",
       "      <th>id</th>\n",
       "      <th>chr</th>\n",
       "      <th>chr_order</th>\n",
       "      <th>library</th>\n",
       "      <th>adjacent_genes_10kb_tss</th>\n",
       "      <th>adjacent_genes_50kb_tss</th>\n",
       "      <th>adjacent_genes_100kb_tss</th>\n",
       "      <th>adjacent_genes_200kb_tss</th>\n",
       "      <th>adjacent_genes_500kb_tss</th>\n",
       "      <th>...</th>\n",
       "      <th>adjacent_genes_1500kb_tss</th>\n",
       "      <th>adjacent_genes_2000kb_tss</th>\n",
       "      <th>Adjacent_genes_10kb_tss</th>\n",
       "      <th>Adjacent_genes_50kb_tss</th>\n",
       "      <th>Adjacent_genes_100kb_tss</th>\n",
       "      <th>Adjacent_genes_200kb_tss</th>\n",
       "      <th>Adjacent_genes_500kb_tss</th>\n",
       "      <th>Adjacent_genes_1000kb_tss</th>\n",
       "      <th>Adjacent_genes_1500kb_tss</th>\n",
       "      <th>Adjacent_genes_2000kb_tss</th>\n",
       "    </tr>\n",
       "    <tr>\n",
       "      <th>Imaged_loci</th>\n",
       "      <th></th>\n",
       "      <th></th>\n",
       "      <th></th>\n",
       "      <th></th>\n",
       "      <th></th>\n",
       "      <th></th>\n",
       "      <th></th>\n",
       "      <th></th>\n",
       "      <th></th>\n",
       "      <th></th>\n",
       "      <th></th>\n",
       "      <th></th>\n",
       "      <th></th>\n",
       "      <th></th>\n",
       "      <th></th>\n",
       "      <th></th>\n",
       "      <th></th>\n",
       "      <th></th>\n",
       "      <th></th>\n",
       "      <th></th>\n",
       "      <th></th>\n",
       "    </tr>\n",
       "  </thead>\n",
       "  <tbody>\n",
       "    <tr>\n",
       "      <th>chr1_3742742_3759944</th>\n",
       "      <td>1:3742742-3759944</td>\n",
       "      <td>1</td>\n",
       "      <td>1</td>\n",
       "      <td>0.0</td>\n",
       "      <td>CTP11</td>\n",
       "      <td>intergenic</td>\n",
       "      <td>intergenic</td>\n",
       "      <td>Xkr4</td>\n",
       "      <td>Xkr4</td>\n",
       "      <td>Gm18956; Gm7341; Xkr4</td>\n",
       "      <td>...</td>\n",
       "      <td>Atp6v1h; Gm16041; Gm17101; Gm18956; Gm2053; Gm...</td>\n",
       "      <td>Atp6v1h; Gm16041; Gm17101; Gm18956; Gm2053; Gm...</td>\n",
       "      <td>intergenic</td>\n",
       "      <td>intergenic</td>\n",
       "      <td>Xkr4</td>\n",
       "      <td>Xkr4</td>\n",
       "      <td>Gm18956; Gm7341; Xkr4</td>\n",
       "      <td>Gm18956; Gm2053; Gm6085; Gm6101; Gm6119; Gm734...</td>\n",
       "      <td>Atp6v1h; Gm16041; Gm17101; Gm18956; Gm2053; Gm...</td>\n",
       "      <td>Atp6v1h; Gm16041; Gm17101; Gm18956; Gm2053; Gm...</td>\n",
       "    </tr>\n",
       "    <tr>\n",
       "      <th>chr1_6245958_6258969</th>\n",
       "      <td>1:6245958-6258969</td>\n",
       "      <td>2</td>\n",
       "      <td>1</td>\n",
       "      <td>1.0</td>\n",
       "      <td>CTP11</td>\n",
       "      <td>intergenic</td>\n",
       "      <td>4732440D04Rik; Rb1cc1</td>\n",
       "      <td>4732440D04Rik; Rb1cc1</td>\n",
       "      <td>4732440D04Rik; Gm19026; Gm2147; Rb1cc1</td>\n",
       "      <td>4732440D04Rik; Gm19026; Gm2147; Npbwr1; Rb1cc1...</td>\n",
       "      <td>...</td>\n",
       "      <td>4732440D04Rik; Atp6v1h; Gm16041; Gm17101; Gm19...</td>\n",
       "      <td>4732440D04Rik; Atp6v1h; Gm16041; Gm17101; Gm19...</td>\n",
       "      <td>intergenic</td>\n",
       "      <td>4732440D04Rik; Rb1cc1</td>\n",
       "      <td>4732440D04Rik; Rb1cc1</td>\n",
       "      <td>4732440D04Rik; Gm19026; Gm2147; Rb1cc1</td>\n",
       "      <td>4732440D04Rik; Gm19026; Gm2147; Npbwr1; Rb1cc1...</td>\n",
       "      <td>4732440D04Rik; Gm19026; Gm2147; Gm5694; Gm7182...</td>\n",
       "      <td>4732440D04Rik; Atp6v1h; Gm16041; Gm17101; Gm19...</td>\n",
       "      <td>4732440D04Rik; Atp6v1h; Gm16041; Gm17101; Gm19...</td>\n",
       "    </tr>\n",
       "    <tr>\n",
       "      <th>chr1_8740008_8759916</th>\n",
       "      <td>1:8740008-8759916</td>\n",
       "      <td>3</td>\n",
       "      <td>1</td>\n",
       "      <td>2.0</td>\n",
       "      <td>CTP11</td>\n",
       "      <td>intergenic</td>\n",
       "      <td>Gm15452</td>\n",
       "      <td>Gm15452</td>\n",
       "      <td>Gm15452</td>\n",
       "      <td>Gm15452</td>\n",
       "      <td>...</td>\n",
       "      <td>1700034P13Rik; 2610203C22Rik; Adhfe1; Arfgef1;...</td>\n",
       "      <td>1700034P13Rik; 2610203C22Rik; Adhfe1; Arfgef1;...</td>\n",
       "      <td>intergenic</td>\n",
       "      <td>Gm15452</td>\n",
       "      <td>Gm15452</td>\n",
       "      <td>Gm15452</td>\n",
       "      <td>Gm15452</td>\n",
       "      <td>1700034P13Rik; 2610203C22Rik; Adhfe1; Gm15452;...</td>\n",
       "      <td>1700034P13Rik; 2610203C22Rik; Adhfe1; Arfgef1;...</td>\n",
       "      <td>1700034P13Rik; 2610203C22Rik; Adhfe1; Arfgef1;...</td>\n",
       "    </tr>\n",
       "    <tr>\n",
       "      <th>chr1_9627926_9637875</th>\n",
       "      <td>1:9627926-9637875</td>\n",
       "      <td>1</td>\n",
       "      <td>1</td>\n",
       "      <td>3.0</td>\n",
       "      <td>CTP13</td>\n",
       "      <td>2610203C22Rik</td>\n",
       "      <td>2610203C22Rik</td>\n",
       "      <td>2610203C22Rik; Adhfe1; Gm6161; Mybl1; Rrs1</td>\n",
       "      <td>1700034P13Rik; 2610203C22Rik; Adhfe1; Gm18300;...</td>\n",
       "      <td>1700034P13Rik; 2610203C22Rik; Adhfe1; Cops5; C...</td>\n",
       "      <td>...</td>\n",
       "      <td>1700034P13Rik; 2610203C22Rik; Adhfe1; Arfgef1;...</td>\n",
       "      <td>1700034P13Rik; 2610203C22Rik; A830018L16Rik; A...</td>\n",
       "      <td>2610203C22Rik</td>\n",
       "      <td>2610203C22Rik</td>\n",
       "      <td>2610203C22Rik; Adhfe1; Gm6161; Mybl1; Rrs1</td>\n",
       "      <td>1700034P13Rik; 2610203C22Rik; Adhfe1; Gm18300;...</td>\n",
       "      <td>1700034P13Rik; 2610203C22Rik; Adhfe1; Cops5; C...</td>\n",
       "      <td>1700034P13Rik; 2610203C22Rik; Adhfe1; Arfgef1;...</td>\n",
       "      <td>1700034P13Rik; 2610203C22Rik; Adhfe1; Arfgef1;...</td>\n",
       "      <td>1700034P13Rik; 2610203C22Rik; A830018L16Rik; A...</td>\n",
       "    </tr>\n",
       "    <tr>\n",
       "      <th>chr1_9799472_9811359</th>\n",
       "      <td>1:9799472-9811359</td>\n",
       "      <td>2</td>\n",
       "      <td>1</td>\n",
       "      <td>4.0</td>\n",
       "      <td>CTP13</td>\n",
       "      <td>Gm6195; Sgk3</td>\n",
       "      <td>Gm6195; Sgk3</td>\n",
       "      <td>1700034P13Rik; Gm6195; Mcmdc2; Mybl1; Sgk3; Vc...</td>\n",
       "      <td>1700034P13Rik; 2610203C22Rik; Gm6195; Mcmdc2; ...</td>\n",
       "      <td>1700034P13Rik; 2610203C22Rik; Adhfe1; Arfgef1;...</td>\n",
       "      <td>...</td>\n",
       "      <td>1700034P13Rik; 2610203C22Rik; Adhfe1; Arfgef1;...</td>\n",
       "      <td>1700034P13Rik; 2610203C22Rik; A830018L16Rik; A...</td>\n",
       "      <td>Gm6195; Sgk3</td>\n",
       "      <td>Gm6195; Sgk3</td>\n",
       "      <td>1700034P13Rik; Gm6195; Mcmdc2; Mybl1; Sgk3; Vc...</td>\n",
       "      <td>1700034P13Rik; 2610203C22Rik; Gm6195; Mcmdc2; ...</td>\n",
       "      <td>1700034P13Rik; 2610203C22Rik; Adhfe1; Arfgef1;...</td>\n",
       "      <td>1700034P13Rik; 2610203C22Rik; Adhfe1; Arfgef1;...</td>\n",
       "      <td>1700034P13Rik; 2610203C22Rik; Adhfe1; Arfgef1;...</td>\n",
       "      <td>1700034P13Rik; 2610203C22Rik; A830018L16Rik; A...</td>\n",
       "    </tr>\n",
       "    <tr>\n",
       "      <th>...</th>\n",
       "      <td>...</td>\n",
       "      <td>...</td>\n",
       "      <td>...</td>\n",
       "      <td>...</td>\n",
       "      <td>...</td>\n",
       "      <td>...</td>\n",
       "      <td>...</td>\n",
       "      <td>...</td>\n",
       "      <td>...</td>\n",
       "      <td>...</td>\n",
       "      <td>...</td>\n",
       "      <td>...</td>\n",
       "      <td>...</td>\n",
       "      <td>...</td>\n",
       "      <td>...</td>\n",
       "      <td>...</td>\n",
       "      <td>...</td>\n",
       "      <td>...</td>\n",
       "      <td>...</td>\n",
       "      <td>...</td>\n",
       "      <td>...</td>\n",
       "    </tr>\n",
       "    <tr>\n",
       "      <th>chrX_166247682_166259932</th>\n",
       "      <td>X:166247682-166259932</td>\n",
       "      <td>1059</td>\n",
       "      <td>X</td>\n",
       "      <td>60.0</td>\n",
       "      <td>CTP11</td>\n",
       "      <td>Gpm6b</td>\n",
       "      <td>Gpm6b</td>\n",
       "      <td>Gemin8; Gpm6b</td>\n",
       "      <td>Gemin8; Gm15225; Gpm6b; Ofd1; Trappc2</td>\n",
       "      <td>Egfl6; Gemin8; Gm15223; Gm15225; Gm1720; Gpm6b...</td>\n",
       "      <td>...</td>\n",
       "      <td>Egfl6; Fancb; Gemin8; Glra2; Gm15223; Gm15225;...</td>\n",
       "      <td>Asb11; Asb9; Bmx; Egfl6; Fancb; Gemin8; Glra2;...</td>\n",
       "      <td>Gpm6b</td>\n",
       "      <td>Gpm6b</td>\n",
       "      <td>Gemin8; Gpm6b</td>\n",
       "      <td>Gemin8; Gm15225; Gpm6b; Ofd1; Trappc2</td>\n",
       "      <td>Egfl6; Gemin8; Gm15223; Gm15225; Gm1720; Gpm6b...</td>\n",
       "      <td>Egfl6; Gemin8; Glra2; Gm15223; Gm15225; Gm1523...</td>\n",
       "      <td>Egfl6; Fancb; Gemin8; Glra2; Gm15223; Gm15225;...</td>\n",
       "      <td>Asb11; Asb9; Bmx; Egfl6; Fancb; Gemin8; Glra2;...</td>\n",
       "    </tr>\n",
       "    <tr>\n",
       "      <th>chrX_167157164_167167452</th>\n",
       "      <td>X:167157164-167167452</td>\n",
       "      <td>990</td>\n",
       "      <td>X</td>\n",
       "      <td>61.0</td>\n",
       "      <td>CTP13</td>\n",
       "      <td>intergenic</td>\n",
       "      <td>Tmsb4x</td>\n",
       "      <td>Gm15232; Tmsb4x</td>\n",
       "      <td>Gm15232; Gm8814; Tlr7; Tmsb4x</td>\n",
       "      <td>Gm15230; Gm15232; Gm1720; Gm8814; Prps2; Tlr7;...</td>\n",
       "      <td>...</td>\n",
       "      <td>Egfl6; Frmpd4; Gemin8; Gm15223; Gm15225; Gm152...</td>\n",
       "      <td>Arhgap6; Egfl6; Frmpd4; Gemin8; Glra2; Gm15223...</td>\n",
       "      <td>intergenic</td>\n",
       "      <td>Tmsb4x</td>\n",
       "      <td>Gm15232; Tmsb4x</td>\n",
       "      <td>Gm15232; Gm8814; Tlr7; Tmsb4x</td>\n",
       "      <td>Gm15230; Gm15232; Gm1720; Gm8814; Prps2; Tlr7;...</td>\n",
       "      <td>Egfl6; Gemin8; Gm15223; Gm15230; Gm15232; Gm15...</td>\n",
       "      <td>Egfl6; Frmpd4; Gemin8; Gm15223; Gm15225; Gm152...</td>\n",
       "      <td>Arhgap6; Egfl6; Frmpd4; Gemin8; Glra2; Gm15223...</td>\n",
       "    </tr>\n",
       "    <tr>\n",
       "      <th>chrX_168746045_168757590</th>\n",
       "      <td>X:168746045-168757590</td>\n",
       "      <td>1060</td>\n",
       "      <td>X</td>\n",
       "      <td>62.0</td>\n",
       "      <td>CTP11</td>\n",
       "      <td>intergenic</td>\n",
       "      <td>Arhgap6</td>\n",
       "      <td>Arhgap6; Msl3</td>\n",
       "      <td>Arhgap6; Frmpd4; Msl3</td>\n",
       "      <td>Amelx; Arhgap6; Frmpd4; Msl3</td>\n",
       "      <td>...</td>\n",
       "      <td>Amelx; Arhgap6; Erdr1; Frmpd4; G530011O06Rik; ...</td>\n",
       "      <td>Amelx; Arhgap6; Asmt; Erdr1; Frmpd4; G530011O0...</td>\n",
       "      <td>intergenic</td>\n",
       "      <td>Arhgap6</td>\n",
       "      <td>Arhgap6; Msl3</td>\n",
       "      <td>Arhgap6; Frmpd4; Msl3</td>\n",
       "      <td>Amelx; Arhgap6; Frmpd4; Msl3</td>\n",
       "      <td>Amelx; Arhgap6; Frmpd4; Gm15238; Gm15240; Hccs...</td>\n",
       "      <td>Amelx; Arhgap6; Erdr1; Frmpd4; G530011O06Rik; ...</td>\n",
       "      <td>Amelx; Arhgap6; Asmt; Erdr1; Frmpd4; G530011O0...</td>\n",
       "    </tr>\n",
       "    <tr>\n",
       "      <th>chrX_169963295_170005197</th>\n",
       "      <td>X:169963295-170005197</td>\n",
       "      <td>991</td>\n",
       "      <td>X</td>\n",
       "      <td>63.0</td>\n",
       "      <td>CTP13</td>\n",
       "      <td>Erdr1; G530011O06Rik</td>\n",
       "      <td>Erdr1; G530011O06Rik</td>\n",
       "      <td>Erdr1; G530011O06Rik</td>\n",
       "      <td>Erdr1; G530011O06Rik</td>\n",
       "      <td>Erdr1; G530011O06Rik; Mid1</td>\n",
       "      <td>...</td>\n",
       "      <td>Amelx; Arhgap6; Asmt; Erdr1; Frmpd4; G530011O0...</td>\n",
       "      <td>Amelx; Arhgap6; Asmt; Erdr1; Frmpd4; G530011O0...</td>\n",
       "      <td>Erdr1; G530011O06Rik</td>\n",
       "      <td>Erdr1; G530011O06Rik</td>\n",
       "      <td>Erdr1; G530011O06Rik</td>\n",
       "      <td>Erdr1; G530011O06Rik</td>\n",
       "      <td>Erdr1; G530011O06Rik; Mid1</td>\n",
       "      <td>Amelx; Asmt; Erdr1; G530011O06Rik; Hccs; Mid1</td>\n",
       "      <td>Amelx; Arhgap6; Asmt; Erdr1; Frmpd4; G530011O0...</td>\n",
       "      <td>Amelx; Arhgap6; Asmt; Erdr1; Frmpd4; G530011O0...</td>\n",
       "    </tr>\n",
       "    <tr>\n",
       "      <th>chrY_1245775_1259992</th>\n",
       "      <td>Y:1245775-1259992</td>\n",
       "      <td>1062</td>\n",
       "      <td>Y</td>\n",
       "      <td>0.0</td>\n",
       "      <td>CTP11</td>\n",
       "      <td>Gm4017; Uty</td>\n",
       "      <td>Ddx3y; Gm18665; Gm4017; Uty</td>\n",
       "      <td>Ddx3y; Gm18665; Gm4017; Uty</td>\n",
       "      <td>Ddx3y; Gm18665; Gm4017; Usp9y; Uty</td>\n",
       "      <td>Ddx3y; Eif2s3y; Gm17790; Gm18665; Gm4017; Kdm5...</td>\n",
       "      <td>...</td>\n",
       "      <td>Ddx3y; Eif2s3y; Gm17790; Gm18665; Gm18796; Gm1...</td>\n",
       "      <td>Ddx3y; Eif2s3y; Gm17790; Gm18665; Gm18796; Gm1...</td>\n",
       "      <td>Gm4017; Uty</td>\n",
       "      <td>Ddx3y; Gm18665; Gm4017; Uty</td>\n",
       "      <td>Ddx3y; Gm18665; Gm4017; Uty</td>\n",
       "      <td>Ddx3y; Gm18665; Gm4017; Usp9y; Uty</td>\n",
       "      <td>Ddx3y; Eif2s3y; Gm17790; Gm18665; Gm4017; Kdm5...</td>\n",
       "      <td>Ddx3y; Eif2s3y; Gm17790; Gm18665; Gm18797; Gm2...</td>\n",
       "      <td>Ddx3y; Eif2s3y; Gm17790; Gm18665; Gm18796; Gm1...</td>\n",
       "      <td>Ddx3y; Eif2s3y; Gm17790; Gm18665; Gm18796; Gm1...</td>\n",
       "    </tr>\n",
       "  </tbody>\n",
       "</table>\n",
       "<p>1982 rows × 21 columns</p>\n",
       "</div>"
      ],
      "text/plain": [
       "                                           name    id chr  chr_order library  \\\n",
       "Imaged_loci                                                                    \n",
       "chr1_3742742_3759944          1:3742742-3759944     1   1        0.0   CTP11   \n",
       "chr1_6245958_6258969          1:6245958-6258969     2   1        1.0   CTP11   \n",
       "chr1_8740008_8759916          1:8740008-8759916     3   1        2.0   CTP11   \n",
       "chr1_9627926_9637875          1:9627926-9637875     1   1        3.0   CTP13   \n",
       "chr1_9799472_9811359          1:9799472-9811359     2   1        4.0   CTP13   \n",
       "...                                         ...   ...  ..        ...     ...   \n",
       "chrX_166247682_166259932  X:166247682-166259932  1059   X       60.0   CTP11   \n",
       "chrX_167157164_167167452  X:167157164-167167452   990   X       61.0   CTP13   \n",
       "chrX_168746045_168757590  X:168746045-168757590  1060   X       62.0   CTP11   \n",
       "chrX_169963295_170005197  X:169963295-170005197   991   X       63.0   CTP13   \n",
       "chrY_1245775_1259992          Y:1245775-1259992  1062   Y        0.0   CTP11   \n",
       "\n",
       "                         adjacent_genes_10kb_tss      adjacent_genes_50kb_tss  \\\n",
       "Imaged_loci                                                                     \n",
       "chr1_3742742_3759944                  intergenic                   intergenic   \n",
       "chr1_6245958_6258969                  intergenic        4732440D04Rik; Rb1cc1   \n",
       "chr1_8740008_8759916                  intergenic                      Gm15452   \n",
       "chr1_9627926_9637875               2610203C22Rik                2610203C22Rik   \n",
       "chr1_9799472_9811359                Gm6195; Sgk3                 Gm6195; Sgk3   \n",
       "...                                          ...                          ...   \n",
       "chrX_166247682_166259932                   Gpm6b                        Gpm6b   \n",
       "chrX_167157164_167167452              intergenic                       Tmsb4x   \n",
       "chrX_168746045_168757590              intergenic                      Arhgap6   \n",
       "chrX_169963295_170005197    Erdr1; G530011O06Rik         Erdr1; G530011O06Rik   \n",
       "chrY_1245775_1259992                 Gm4017; Uty  Ddx3y; Gm18665; Gm4017; Uty   \n",
       "\n",
       "                                                   adjacent_genes_100kb_tss  \\\n",
       "Imaged_loci                                                                   \n",
       "chr1_3742742_3759944                                                   Xkr4   \n",
       "chr1_6245958_6258969                                  4732440D04Rik; Rb1cc1   \n",
       "chr1_8740008_8759916                                                Gm15452   \n",
       "chr1_9627926_9637875             2610203C22Rik; Adhfe1; Gm6161; Mybl1; Rrs1   \n",
       "chr1_9799472_9811359      1700034P13Rik; Gm6195; Mcmdc2; Mybl1; Sgk3; Vc...   \n",
       "...                                                                     ...   \n",
       "chrX_166247682_166259932                                      Gemin8; Gpm6b   \n",
       "chrX_167157164_167167452                                    Gm15232; Tmsb4x   \n",
       "chrX_168746045_168757590                                      Arhgap6; Msl3   \n",
       "chrX_169963295_170005197                               Erdr1; G530011O06Rik   \n",
       "chrY_1245775_1259992                            Ddx3y; Gm18665; Gm4017; Uty   \n",
       "\n",
       "                                                   adjacent_genes_200kb_tss  \\\n",
       "Imaged_loci                                                                   \n",
       "chr1_3742742_3759944                                                   Xkr4   \n",
       "chr1_6245958_6258969                 4732440D04Rik; Gm19026; Gm2147; Rb1cc1   \n",
       "chr1_8740008_8759916                                                Gm15452   \n",
       "chr1_9627926_9637875      1700034P13Rik; 2610203C22Rik; Adhfe1; Gm18300;...   \n",
       "chr1_9799472_9811359      1700034P13Rik; 2610203C22Rik; Gm6195; Mcmdc2; ...   \n",
       "...                                                                     ...   \n",
       "chrX_166247682_166259932              Gemin8; Gm15225; Gpm6b; Ofd1; Trappc2   \n",
       "chrX_167157164_167167452                      Gm15232; Gm8814; Tlr7; Tmsb4x   \n",
       "chrX_168746045_168757590                              Arhgap6; Frmpd4; Msl3   \n",
       "chrX_169963295_170005197                               Erdr1; G530011O06Rik   \n",
       "chrY_1245775_1259992                     Ddx3y; Gm18665; Gm4017; Usp9y; Uty   \n",
       "\n",
       "                                                   adjacent_genes_500kb_tss  \\\n",
       "Imaged_loci                                                                   \n",
       "chr1_3742742_3759944                                  Gm18956; Gm7341; Xkr4   \n",
       "chr1_6245958_6258969      4732440D04Rik; Gm19026; Gm2147; Npbwr1; Rb1cc1...   \n",
       "chr1_8740008_8759916                                                Gm15452   \n",
       "chr1_9627926_9637875      1700034P13Rik; 2610203C22Rik; Adhfe1; Cops5; C...   \n",
       "chr1_9799472_9811359      1700034P13Rik; 2610203C22Rik; Adhfe1; Arfgef1;...   \n",
       "...                                                                     ...   \n",
       "chrX_166247682_166259932  Egfl6; Gemin8; Gm15223; Gm15225; Gm1720; Gpm6b...   \n",
       "chrX_167157164_167167452  Gm15230; Gm15232; Gm1720; Gm8814; Prps2; Tlr7;...   \n",
       "chrX_168746045_168757590                       Amelx; Arhgap6; Frmpd4; Msl3   \n",
       "chrX_169963295_170005197                         Erdr1; G530011O06Rik; Mid1   \n",
       "chrY_1245775_1259992      Ddx3y; Eif2s3y; Gm17790; Gm18665; Gm4017; Kdm5...   \n",
       "\n",
       "                          ...  \\\n",
       "Imaged_loci               ...   \n",
       "chr1_3742742_3759944      ...   \n",
       "chr1_6245958_6258969      ...   \n",
       "chr1_8740008_8759916      ...   \n",
       "chr1_9627926_9637875      ...   \n",
       "chr1_9799472_9811359      ...   \n",
       "...                       ...   \n",
       "chrX_166247682_166259932  ...   \n",
       "chrX_167157164_167167452  ...   \n",
       "chrX_168746045_168757590  ...   \n",
       "chrX_169963295_170005197  ...   \n",
       "chrY_1245775_1259992      ...   \n",
       "\n",
       "                                                  adjacent_genes_1500kb_tss  \\\n",
       "Imaged_loci                                                                   \n",
       "chr1_3742742_3759944      Atp6v1h; Gm16041; Gm17101; Gm18956; Gm2053; Gm...   \n",
       "chr1_6245958_6258969      4732440D04Rik; Atp6v1h; Gm16041; Gm17101; Gm19...   \n",
       "chr1_8740008_8759916      1700034P13Rik; 2610203C22Rik; Adhfe1; Arfgef1;...   \n",
       "chr1_9627926_9637875      1700034P13Rik; 2610203C22Rik; Adhfe1; Arfgef1;...   \n",
       "chr1_9799472_9811359      1700034P13Rik; 2610203C22Rik; Adhfe1; Arfgef1;...   \n",
       "...                                                                     ...   \n",
       "chrX_166247682_166259932  Egfl6; Fancb; Gemin8; Glra2; Gm15223; Gm15225;...   \n",
       "chrX_167157164_167167452  Egfl6; Frmpd4; Gemin8; Gm15223; Gm15225; Gm152...   \n",
       "chrX_168746045_168757590  Amelx; Arhgap6; Erdr1; Frmpd4; G530011O06Rik; ...   \n",
       "chrX_169963295_170005197  Amelx; Arhgap6; Asmt; Erdr1; Frmpd4; G530011O0...   \n",
       "chrY_1245775_1259992      Ddx3y; Eif2s3y; Gm17790; Gm18665; Gm18796; Gm1...   \n",
       "\n",
       "                                                  adjacent_genes_2000kb_tss  \\\n",
       "Imaged_loci                                                                   \n",
       "chr1_3742742_3759944      Atp6v1h; Gm16041; Gm17101; Gm18956; Gm2053; Gm...   \n",
       "chr1_6245958_6258969      4732440D04Rik; Atp6v1h; Gm16041; Gm17101; Gm19...   \n",
       "chr1_8740008_8759916      1700034P13Rik; 2610203C22Rik; Adhfe1; Arfgef1;...   \n",
       "chr1_9627926_9637875      1700034P13Rik; 2610203C22Rik; A830018L16Rik; A...   \n",
       "chr1_9799472_9811359      1700034P13Rik; 2610203C22Rik; A830018L16Rik; A...   \n",
       "...                                                                     ...   \n",
       "chrX_166247682_166259932  Asb11; Asb9; Bmx; Egfl6; Fancb; Gemin8; Glra2;...   \n",
       "chrX_167157164_167167452  Arhgap6; Egfl6; Frmpd4; Gemin8; Glra2; Gm15223...   \n",
       "chrX_168746045_168757590  Amelx; Arhgap6; Asmt; Erdr1; Frmpd4; G530011O0...   \n",
       "chrX_169963295_170005197  Amelx; Arhgap6; Asmt; Erdr1; Frmpd4; G530011O0...   \n",
       "chrY_1245775_1259992      Ddx3y; Eif2s3y; Gm17790; Gm18665; Gm18796; Gm1...   \n",
       "\n",
       "                         Adjacent_genes_10kb_tss      Adjacent_genes_50kb_tss  \\\n",
       "Imaged_loci                                                                     \n",
       "chr1_3742742_3759944                  intergenic                   intergenic   \n",
       "chr1_6245958_6258969                  intergenic        4732440D04Rik; Rb1cc1   \n",
       "chr1_8740008_8759916                  intergenic                      Gm15452   \n",
       "chr1_9627926_9637875               2610203C22Rik                2610203C22Rik   \n",
       "chr1_9799472_9811359                Gm6195; Sgk3                 Gm6195; Sgk3   \n",
       "...                                          ...                          ...   \n",
       "chrX_166247682_166259932                   Gpm6b                        Gpm6b   \n",
       "chrX_167157164_167167452              intergenic                       Tmsb4x   \n",
       "chrX_168746045_168757590              intergenic                      Arhgap6   \n",
       "chrX_169963295_170005197    Erdr1; G530011O06Rik         Erdr1; G530011O06Rik   \n",
       "chrY_1245775_1259992                 Gm4017; Uty  Ddx3y; Gm18665; Gm4017; Uty   \n",
       "\n",
       "                                                   Adjacent_genes_100kb_tss  \\\n",
       "Imaged_loci                                                                   \n",
       "chr1_3742742_3759944                                                   Xkr4   \n",
       "chr1_6245958_6258969                                  4732440D04Rik; Rb1cc1   \n",
       "chr1_8740008_8759916                                                Gm15452   \n",
       "chr1_9627926_9637875             2610203C22Rik; Adhfe1; Gm6161; Mybl1; Rrs1   \n",
       "chr1_9799472_9811359      1700034P13Rik; Gm6195; Mcmdc2; Mybl1; Sgk3; Vc...   \n",
       "...                                                                     ...   \n",
       "chrX_166247682_166259932                                      Gemin8; Gpm6b   \n",
       "chrX_167157164_167167452                                    Gm15232; Tmsb4x   \n",
       "chrX_168746045_168757590                                      Arhgap6; Msl3   \n",
       "chrX_169963295_170005197                               Erdr1; G530011O06Rik   \n",
       "chrY_1245775_1259992                            Ddx3y; Gm18665; Gm4017; Uty   \n",
       "\n",
       "                                                   Adjacent_genes_200kb_tss  \\\n",
       "Imaged_loci                                                                   \n",
       "chr1_3742742_3759944                                                   Xkr4   \n",
       "chr1_6245958_6258969                 4732440D04Rik; Gm19026; Gm2147; Rb1cc1   \n",
       "chr1_8740008_8759916                                                Gm15452   \n",
       "chr1_9627926_9637875      1700034P13Rik; 2610203C22Rik; Adhfe1; Gm18300;...   \n",
       "chr1_9799472_9811359      1700034P13Rik; 2610203C22Rik; Gm6195; Mcmdc2; ...   \n",
       "...                                                                     ...   \n",
       "chrX_166247682_166259932              Gemin8; Gm15225; Gpm6b; Ofd1; Trappc2   \n",
       "chrX_167157164_167167452                      Gm15232; Gm8814; Tlr7; Tmsb4x   \n",
       "chrX_168746045_168757590                              Arhgap6; Frmpd4; Msl3   \n",
       "chrX_169963295_170005197                               Erdr1; G530011O06Rik   \n",
       "chrY_1245775_1259992                     Ddx3y; Gm18665; Gm4017; Usp9y; Uty   \n",
       "\n",
       "                                                   Adjacent_genes_500kb_tss  \\\n",
       "Imaged_loci                                                                   \n",
       "chr1_3742742_3759944                                  Gm18956; Gm7341; Xkr4   \n",
       "chr1_6245958_6258969      4732440D04Rik; Gm19026; Gm2147; Npbwr1; Rb1cc1...   \n",
       "chr1_8740008_8759916                                                Gm15452   \n",
       "chr1_9627926_9637875      1700034P13Rik; 2610203C22Rik; Adhfe1; Cops5; C...   \n",
       "chr1_9799472_9811359      1700034P13Rik; 2610203C22Rik; Adhfe1; Arfgef1;...   \n",
       "...                                                                     ...   \n",
       "chrX_166247682_166259932  Egfl6; Gemin8; Gm15223; Gm15225; Gm1720; Gpm6b...   \n",
       "chrX_167157164_167167452  Gm15230; Gm15232; Gm1720; Gm8814; Prps2; Tlr7;...   \n",
       "chrX_168746045_168757590                       Amelx; Arhgap6; Frmpd4; Msl3   \n",
       "chrX_169963295_170005197                         Erdr1; G530011O06Rik; Mid1   \n",
       "chrY_1245775_1259992      Ddx3y; Eif2s3y; Gm17790; Gm18665; Gm4017; Kdm5...   \n",
       "\n",
       "                                                  Adjacent_genes_1000kb_tss  \\\n",
       "Imaged_loci                                                                   \n",
       "chr1_3742742_3759944      Gm18956; Gm2053; Gm6085; Gm6101; Gm6119; Gm734...   \n",
       "chr1_6245958_6258969      4732440D04Rik; Gm19026; Gm2147; Gm5694; Gm7182...   \n",
       "chr1_8740008_8759916      1700034P13Rik; 2610203C22Rik; Adhfe1; Gm15452;...   \n",
       "chr1_9627926_9637875      1700034P13Rik; 2610203C22Rik; Adhfe1; Arfgef1;...   \n",
       "chr1_9799472_9811359      1700034P13Rik; 2610203C22Rik; Adhfe1; Arfgef1;...   \n",
       "...                                                                     ...   \n",
       "chrX_166247682_166259932  Egfl6; Gemin8; Glra2; Gm15223; Gm15225; Gm1523...   \n",
       "chrX_167157164_167167452  Egfl6; Gemin8; Gm15223; Gm15230; Gm15232; Gm15...   \n",
       "chrX_168746045_168757590  Amelx; Arhgap6; Frmpd4; Gm15238; Gm15240; Hccs...   \n",
       "chrX_169963295_170005197      Amelx; Asmt; Erdr1; G530011O06Rik; Hccs; Mid1   \n",
       "chrY_1245775_1259992      Ddx3y; Eif2s3y; Gm17790; Gm18665; Gm18797; Gm2...   \n",
       "\n",
       "                                                  Adjacent_genes_1500kb_tss  \\\n",
       "Imaged_loci                                                                   \n",
       "chr1_3742742_3759944      Atp6v1h; Gm16041; Gm17101; Gm18956; Gm2053; Gm...   \n",
       "chr1_6245958_6258969      4732440D04Rik; Atp6v1h; Gm16041; Gm17101; Gm19...   \n",
       "chr1_8740008_8759916      1700034P13Rik; 2610203C22Rik; Adhfe1; Arfgef1;...   \n",
       "chr1_9627926_9637875      1700034P13Rik; 2610203C22Rik; Adhfe1; Arfgef1;...   \n",
       "chr1_9799472_9811359      1700034P13Rik; 2610203C22Rik; Adhfe1; Arfgef1;...   \n",
       "...                                                                     ...   \n",
       "chrX_166247682_166259932  Egfl6; Fancb; Gemin8; Glra2; Gm15223; Gm15225;...   \n",
       "chrX_167157164_167167452  Egfl6; Frmpd4; Gemin8; Gm15223; Gm15225; Gm152...   \n",
       "chrX_168746045_168757590  Amelx; Arhgap6; Erdr1; Frmpd4; G530011O06Rik; ...   \n",
       "chrX_169963295_170005197  Amelx; Arhgap6; Asmt; Erdr1; Frmpd4; G530011O0...   \n",
       "chrY_1245775_1259992      Ddx3y; Eif2s3y; Gm17790; Gm18665; Gm18796; Gm1...   \n",
       "\n",
       "                                                  Adjacent_genes_2000kb_tss  \n",
       "Imaged_loci                                                                  \n",
       "chr1_3742742_3759944      Atp6v1h; Gm16041; Gm17101; Gm18956; Gm2053; Gm...  \n",
       "chr1_6245958_6258969      4732440D04Rik; Atp6v1h; Gm16041; Gm17101; Gm19...  \n",
       "chr1_8740008_8759916      1700034P13Rik; 2610203C22Rik; Adhfe1; Arfgef1;...  \n",
       "chr1_9627926_9637875      1700034P13Rik; 2610203C22Rik; A830018L16Rik; A...  \n",
       "chr1_9799472_9811359      1700034P13Rik; 2610203C22Rik; A830018L16Rik; A...  \n",
       "...                                                                     ...  \n",
       "chrX_166247682_166259932  Asb11; Asb9; Bmx; Egfl6; Fancb; Gemin8; Glra2;...  \n",
       "chrX_167157164_167167452  Arhgap6; Egfl6; Frmpd4; Gemin8; Glra2; Gm15223...  \n",
       "chrX_168746045_168757590  Amelx; Arhgap6; Asmt; Erdr1; Frmpd4; G530011O0...  \n",
       "chrX_169963295_170005197  Amelx; Arhgap6; Asmt; Erdr1; Frmpd4; G530011O0...  \n",
       "chrY_1245775_1259992      Ddx3y; Eif2s3y; Gm17790; Gm18665; Gm18796; Gm1...  \n",
       "\n",
       "[1982 rows x 21 columns]"
      ]
     },
     "execution_count": 14,
     "metadata": {},
     "output_type": "execute_result"
    }
   ],
   "source": [
    "# change index name as imaged loci to find nearby genes\n",
    "import gene_to_loci as gl\n",
    "\n",
    "imaged_loci_df = codebook_df.copy(deep=True)\n",
    "\n",
    "imaged_loci_df.index.name = 'Imaged_loci'\n",
    "imaged_loci_df = gl.direct_get_genes_near_gene_dataframe (imaged_loci_df,\n",
    "                                   codebook_df, \n",
    "                                   adjacent_gene_col = None)\n",
    "\n",
    "\n",
    "imaged_loci_df"
   ]
  },
  {
   "cell_type": "markdown",
   "metadata": {},
   "source": [
    "## process for major classes"
   ]
  },
  {
   "cell_type": "code",
   "execution_count": 15,
   "metadata": {},
   "outputs": [
    {
     "data": {
      "text/plain": [
       "['Astro', 'Endo', 'GABA', 'Gluta', 'Micro', 'Oligo']"
      ]
     },
     "execution_count": 15,
     "metadata": {},
     "output_type": "execute_result"
    }
   ],
   "source": [
    "groupby_adata = 'class_label_new'\n",
    "\n",
    "np.unique(list(adata_ori.obs[groupby_adata]))\n",
    "sel_class_to_process = [c for c in np.unique(list(adata_ori.obs[groupby_adata])) if c!='nan']\n",
    "sel_class_to_process"
   ]
  },
  {
   "cell_type": "code",
   "execution_count": 16,
   "metadata": {},
   "outputs": [
    {
     "name": "stdout",
     "output_type": "stream",
     "text": [
      "Generate output folder\n"
     ]
    }
   ],
   "source": [
    "# output_folder\n",
    "output_folder = os.path.join(output_analysis_folder, r'10x_snRNA\\10x_class')\n",
    "if not os.path.exists(output_folder):\n",
    "    os.makedirs(output_folder)\n",
    "    print ('Generate output folder')"
   ]
  },
  {
   "cell_type": "code",
   "execution_count": 17,
   "metadata": {},
   "outputs": [
    {
     "name": "stdout",
     "output_type": "stream",
     "text": [
      "Process RNAseq data for Astro\n"
     ]
    },
    {
     "name": "stderr",
     "output_type": "stream",
     "text": [
      "1982it [01:37, 20.26it/s]\n"
     ]
    },
    {
     "name": "stdout",
     "output_type": "stream",
     "text": [
      "=========================================================\n",
      "Process RNAseq data for Endo\n"
     ]
    },
    {
     "name": "stderr",
     "output_type": "stream",
     "text": [
      "1982it [01:34, 21.04it/s]\n"
     ]
    },
    {
     "name": "stdout",
     "output_type": "stream",
     "text": [
      "=========================================================\n",
      "Process RNAseq data for GABA\n"
     ]
    },
    {
     "name": "stderr",
     "output_type": "stream",
     "text": [
      "1982it [06:53,  4.80it/s]\n"
     ]
    },
    {
     "name": "stdout",
     "output_type": "stream",
     "text": [
      "=========================================================\n",
      "Process RNAseq data for Gluta\n"
     ]
    },
    {
     "name": "stderr",
     "output_type": "stream",
     "text": [
      "1982it [32:00,  1.03it/s]\n"
     ]
    },
    {
     "name": "stdout",
     "output_type": "stream",
     "text": [
      "=========================================================\n",
      "Process RNAseq data for Micro\n"
     ]
    },
    {
     "name": "stderr",
     "output_type": "stream",
     "text": [
      "1982it [01:36, 20.61it/s]\n"
     ]
    },
    {
     "name": "stdout",
     "output_type": "stream",
     "text": [
      "=========================================================\n",
      "Process RNAseq data for Oligo\n"
     ]
    },
    {
     "name": "stderr",
     "output_type": "stream",
     "text": [
      "1982it [01:41, 19.61it/s]\n"
     ]
    },
    {
     "name": "stdout",
     "output_type": "stream",
     "text": [
      "=========================================================\n"
     ]
    }
   ],
   "source": [
    "%matplotlib inline\n",
    "\n",
    "import gene_activity\n",
    "import loci_1d_features\n",
    "from scipy import stats\n",
    "import seaborn as sns\n",
    "from tqdm import tqdm\n",
    "\n",
    "bin_size = 2000 # extend both direction, thus equivilant to ~ 4Mb\n",
    "adjcent_col = f'Adjacent_genes_{bin_size}kb_tss'\n",
    "\n",
    "activity_type = 'sum' # sum of all gene associated to a loci for each single cell\n",
    "\n",
    "expression_res_df_dict = {}\n",
    "sel_class_to_process = [c for c in np.unique(list(adata_ori.obs[groupby_adata])) if c!='nan']\n",
    "\n",
    "# simple loop\n",
    "for _group in sel_class_to_process[:]:\n",
    "    \n",
    "    print (f'Process RNAseq data for {_group}')\n",
    "    \n",
    "    expression_res_dict={}\n",
    "    sorted_group_order = [_group]\n",
    "\n",
    "    imaged_loci_df_group = loci_1d_features.codebook_chr_order_for_loci_dataframe (imaged_loci_df, \n",
    "                                               codebook_df, \n",
    "                                               sel_cols =['chr','chr_order','id'], \n",
    "                                               sort_df = True,\n",
    "                                               sort_by_chr=True)\n",
    "\n",
    "    loci_key_list = loci_1d_features.sorted_loci_keys_for_loci_dataframe(imaged_loci_df_group)\n",
    "    loci_ori_ind = loci_1d_features.find_chr_loci_iloc_from_loci_keys (codebook_df, loci_key_list)\n",
    "\n",
    "    # for loci along the chromosome, append the measurements for each single cell\n",
    "    for _ind, sel_loci_ind in tqdm(enumerate(imaged_loci_df_group.index.tolist()[:])):\n",
    "\n",
    "        # get adjacent gene expression\n",
    "        sel_genes=imaged_loci_df_group.loc[sel_loci_ind][f'Adjacent_genes_{bin_size}kb_tss'].split('; ')\n",
    "        sel_adata =  adata_ori[:,adata_ori.var.index.isin(sel_genes)]\n",
    "        marker_expressions = gene_activity.gene_activity_raw_groups(sel_genes,\n",
    "                            sel_adata, \n",
    "                            sorted_group_order,\n",
    "                            groupby_adata,\n",
    "                            ref_norm_list = [],\n",
    "                            report_type =activity_type)\n",
    "\n",
    "        expression_res_dict[_ind]=list(marker_expressions[_group])\n",
    "        \n",
    "    # convert dict to df as loci by cell\n",
    "    expression_res_df = pd.DataFrame.from_dict(expression_res_dict, orient='index')\n",
    "    expression_res_df['loci_name']=codebook_df.index.tolist()\n",
    "    expression_res_df = expression_res_df.set_index ('loci_name')\n",
    "    expression_res_df_dict[_group]=expression_res_df\n",
    "    # save\n",
    "    output_df_fname = os.path.join(output_folder, f'MERFISH_loci_10x_expression_2X_{bin_size}kb_for_{_group}.csv')\n",
    "    expression_res_df.to_csv(output_df_fname)\n",
    "    print ('=========================================================')\n"
   ]
  },
  {
   "cell_type": "code",
   "execution_count": 18,
   "metadata": {},
   "outputs": [
    {
     "data": {
      "text/html": [
       "<div>\n",
       "<style scoped>\n",
       "    .dataframe tbody tr th:only-of-type {\n",
       "        vertical-align: middle;\n",
       "    }\n",
       "\n",
       "    .dataframe tbody tr th {\n",
       "        vertical-align: top;\n",
       "    }\n",
       "\n",
       "    .dataframe thead th {\n",
       "        text-align: right;\n",
       "    }\n",
       "</style>\n",
       "<table border=\"1\" class=\"dataframe\">\n",
       "  <thead>\n",
       "    <tr style=\"text-align: right;\">\n",
       "      <th></th>\n",
       "      <th>0</th>\n",
       "      <th>1</th>\n",
       "      <th>2</th>\n",
       "      <th>3</th>\n",
       "      <th>4</th>\n",
       "      <th>5</th>\n",
       "      <th>6</th>\n",
       "      <th>7</th>\n",
       "      <th>8</th>\n",
       "      <th>9</th>\n",
       "      <th>...</th>\n",
       "      <th>210</th>\n",
       "      <th>211</th>\n",
       "      <th>212</th>\n",
       "      <th>213</th>\n",
       "      <th>214</th>\n",
       "      <th>215</th>\n",
       "      <th>216</th>\n",
       "      <th>217</th>\n",
       "      <th>218</th>\n",
       "      <th>219</th>\n",
       "    </tr>\n",
       "    <tr>\n",
       "      <th>loci_name</th>\n",
       "      <th></th>\n",
       "      <th></th>\n",
       "      <th></th>\n",
       "      <th></th>\n",
       "      <th></th>\n",
       "      <th></th>\n",
       "      <th></th>\n",
       "      <th></th>\n",
       "      <th></th>\n",
       "      <th></th>\n",
       "      <th></th>\n",
       "      <th></th>\n",
       "      <th></th>\n",
       "      <th></th>\n",
       "      <th></th>\n",
       "      <th></th>\n",
       "      <th></th>\n",
       "      <th></th>\n",
       "      <th></th>\n",
       "      <th></th>\n",
       "      <th></th>\n",
       "    </tr>\n",
       "  </thead>\n",
       "  <tbody>\n",
       "    <tr>\n",
       "      <th>chr1_3742742_3759944</th>\n",
       "      <td>1.0</td>\n",
       "      <td>1.0</td>\n",
       "      <td>0.0</td>\n",
       "      <td>5.0</td>\n",
       "      <td>5.0</td>\n",
       "      <td>11.0</td>\n",
       "      <td>0.0</td>\n",
       "      <td>1.0</td>\n",
       "      <td>2.0</td>\n",
       "      <td>3.0</td>\n",
       "      <td>...</td>\n",
       "      <td>7.0</td>\n",
       "      <td>2.0</td>\n",
       "      <td>1.0</td>\n",
       "      <td>1.0</td>\n",
       "      <td>3.0</td>\n",
       "      <td>0.0</td>\n",
       "      <td>1.0</td>\n",
       "      <td>1.0</td>\n",
       "      <td>0.0</td>\n",
       "      <td>3.0</td>\n",
       "    </tr>\n",
       "    <tr>\n",
       "      <th>chr1_6245958_6258969</th>\n",
       "      <td>8.0</td>\n",
       "      <td>20.0</td>\n",
       "      <td>0.0</td>\n",
       "      <td>24.0</td>\n",
       "      <td>18.0</td>\n",
       "      <td>7.0</td>\n",
       "      <td>15.0</td>\n",
       "      <td>10.0</td>\n",
       "      <td>11.0</td>\n",
       "      <td>16.0</td>\n",
       "      <td>...</td>\n",
       "      <td>33.0</td>\n",
       "      <td>8.0</td>\n",
       "      <td>16.0</td>\n",
       "      <td>7.0</td>\n",
       "      <td>8.0</td>\n",
       "      <td>8.0</td>\n",
       "      <td>5.0</td>\n",
       "      <td>7.0</td>\n",
       "      <td>4.0</td>\n",
       "      <td>2.0</td>\n",
       "    </tr>\n",
       "    <tr>\n",
       "      <th>chr1_8740008_8759916</th>\n",
       "      <td>0.0</td>\n",
       "      <td>5.0</td>\n",
       "      <td>5.0</td>\n",
       "      <td>2.0</td>\n",
       "      <td>8.0</td>\n",
       "      <td>17.0</td>\n",
       "      <td>1.0</td>\n",
       "      <td>2.0</td>\n",
       "      <td>6.0</td>\n",
       "      <td>0.0</td>\n",
       "      <td>...</td>\n",
       "      <td>11.0</td>\n",
       "      <td>3.0</td>\n",
       "      <td>7.0</td>\n",
       "      <td>0.0</td>\n",
       "      <td>6.0</td>\n",
       "      <td>0.0</td>\n",
       "      <td>10.0</td>\n",
       "      <td>0.0</td>\n",
       "      <td>0.0</td>\n",
       "      <td>0.0</td>\n",
       "    </tr>\n",
       "    <tr>\n",
       "      <th>chr1_9627926_9637875</th>\n",
       "      <td>0.0</td>\n",
       "      <td>5.0</td>\n",
       "      <td>6.0</td>\n",
       "      <td>2.0</td>\n",
       "      <td>7.0</td>\n",
       "      <td>18.0</td>\n",
       "      <td>1.0</td>\n",
       "      <td>2.0</td>\n",
       "      <td>2.0</td>\n",
       "      <td>0.0</td>\n",
       "      <td>...</td>\n",
       "      <td>11.0</td>\n",
       "      <td>2.0</td>\n",
       "      <td>4.0</td>\n",
       "      <td>0.0</td>\n",
       "      <td>5.0</td>\n",
       "      <td>0.0</td>\n",
       "      <td>5.0</td>\n",
       "      <td>0.0</td>\n",
       "      <td>0.0</td>\n",
       "      <td>1.0</td>\n",
       "    </tr>\n",
       "    <tr>\n",
       "      <th>chr1_9799472_9811359</th>\n",
       "      <td>0.0</td>\n",
       "      <td>5.0</td>\n",
       "      <td>6.0</td>\n",
       "      <td>2.0</td>\n",
       "      <td>7.0</td>\n",
       "      <td>18.0</td>\n",
       "      <td>1.0</td>\n",
       "      <td>2.0</td>\n",
       "      <td>2.0</td>\n",
       "      <td>0.0</td>\n",
       "      <td>...</td>\n",
       "      <td>11.0</td>\n",
       "      <td>2.0</td>\n",
       "      <td>4.0</td>\n",
       "      <td>0.0</td>\n",
       "      <td>5.0</td>\n",
       "      <td>0.0</td>\n",
       "      <td>5.0</td>\n",
       "      <td>0.0</td>\n",
       "      <td>0.0</td>\n",
       "      <td>1.0</td>\n",
       "    </tr>\n",
       "  </tbody>\n",
       "</table>\n",
       "<p>5 rows × 220 columns</p>\n",
       "</div>"
      ],
      "text/plain": [
       "                      0     1    2     3     4     5     6     7     8    \\\n",
       "loci_name                                                                  \n",
       "chr1_3742742_3759944  1.0   1.0  0.0   5.0   5.0  11.0   0.0   1.0   2.0   \n",
       "chr1_6245958_6258969  8.0  20.0  0.0  24.0  18.0   7.0  15.0  10.0  11.0   \n",
       "chr1_8740008_8759916  0.0   5.0  5.0   2.0   8.0  17.0   1.0   2.0   6.0   \n",
       "chr1_9627926_9637875  0.0   5.0  6.0   2.0   7.0  18.0   1.0   2.0   2.0   \n",
       "chr1_9799472_9811359  0.0   5.0  6.0   2.0   7.0  18.0   1.0   2.0   2.0   \n",
       "\n",
       "                       9    ...   210  211   212  213  214  215   216  217  \\\n",
       "loci_name                   ...                                              \n",
       "chr1_3742742_3759944   3.0  ...   7.0  2.0   1.0  1.0  3.0  0.0   1.0  1.0   \n",
       "chr1_6245958_6258969  16.0  ...  33.0  8.0  16.0  7.0  8.0  8.0   5.0  7.0   \n",
       "chr1_8740008_8759916   0.0  ...  11.0  3.0   7.0  0.0  6.0  0.0  10.0  0.0   \n",
       "chr1_9627926_9637875   0.0  ...  11.0  2.0   4.0  0.0  5.0  0.0   5.0  0.0   \n",
       "chr1_9799472_9811359   0.0  ...  11.0  2.0   4.0  0.0  5.0  0.0   5.0  0.0   \n",
       "\n",
       "                      218  219  \n",
       "loci_name                       \n",
       "chr1_3742742_3759944  0.0  3.0  \n",
       "chr1_6245958_6258969  4.0  2.0  \n",
       "chr1_8740008_8759916  0.0  0.0  \n",
       "chr1_9627926_9637875  0.0  1.0  \n",
       "chr1_9799472_9811359  0.0  1.0  \n",
       "\n",
       "[5 rows x 220 columns]"
      ]
     },
     "execution_count": 18,
     "metadata": {},
     "output_type": "execute_result"
    }
   ],
   "source": [
    "expression_res_df.head()"
   ]
  },
  {
   "cell_type": "markdown",
   "metadata": {},
   "source": [
    "## process for subclasses"
   ]
  },
  {
   "cell_type": "code",
   "execution_count": 19,
   "metadata": {},
   "outputs": [
    {
     "data": {
      "text/plain": [
       "array(['Astro', 'Endo', 'L2/3 IT', 'L4/5 IT', 'L5 ET', 'L5 IT', 'L5/6 NP',\n",
       "       'L6 CT', 'L6 IT', 'L6b', 'Lamp5', 'Micro', 'OPC', 'Oligo', 'Pvalb',\n",
       "       'Sncg', 'Sst', 'Vip'], dtype='<U7')"
      ]
     },
     "execution_count": 19,
     "metadata": {},
     "output_type": "execute_result"
    }
   ],
   "source": [
    "groupby_adata = 'subclass_label_new'\n",
    "\n",
    "np.unique(list(adata_ori.obs[groupby_adata]))"
   ]
  },
  {
   "cell_type": "code",
   "execution_count": 20,
   "metadata": {},
   "outputs": [
    {
     "name": "stdout",
     "output_type": "stream",
     "text": [
      "Generate output folder\n"
     ]
    }
   ],
   "source": [
    "# output_folder\n",
    "output_folder = os.path.join(output_analysis_folder, r'10x_snRNA\\10x_subclass')\n",
    "if not os.path.exists(output_folder):\n",
    "    os.makedirs(output_folder)\n",
    "    print ('Generate output folder')"
   ]
  },
  {
   "cell_type": "code",
   "execution_count": 21,
   "metadata": {},
   "outputs": [
    {
     "name": "stdout",
     "output_type": "stream",
     "text": [
      "Process RNAseq data for Astro\n"
     ]
    },
    {
     "name": "stderr",
     "output_type": "stream",
     "text": [
      "1982it [01:40, 19.72it/s]\n"
     ]
    },
    {
     "name": "stdout",
     "output_type": "stream",
     "text": [
      "=========================================================\n",
      "Process RNAseq data for Endo\n"
     ]
    },
    {
     "name": "stderr",
     "output_type": "stream",
     "text": [
      "1982it [01:35, 20.67it/s]\n"
     ]
    },
    {
     "name": "stdout",
     "output_type": "stream",
     "text": [
      "=========================================================\n",
      "Process RNAseq data for L2/3 IT\n"
     ]
    },
    {
     "name": "stderr",
     "output_type": "stream",
     "text": [
      "1982it [09:32,  3.46it/s]\n"
     ]
    },
    {
     "name": "stdout",
     "output_type": "stream",
     "text": [
      "=========================================================\n",
      "Process RNAseq data for L4/5 IT\n"
     ]
    },
    {
     "name": "stderr",
     "output_type": "stream",
     "text": [
      "1982it [06:49,  4.85it/s]\n"
     ]
    },
    {
     "name": "stdout",
     "output_type": "stream",
     "text": [
      "=========================================================\n",
      "Process RNAseq data for L5 ET\n"
     ]
    },
    {
     "name": "stderr",
     "output_type": "stream",
     "text": [
      "1982it [03:15, 10.16it/s]\n"
     ]
    },
    {
     "name": "stdout",
     "output_type": "stream",
     "text": [
      "=========================================================\n",
      "Process RNAseq data for L5 IT\n"
     ]
    },
    {
     "name": "stderr",
     "output_type": "stream",
     "text": [
      "1982it [08:01,  4.12it/s]\n"
     ]
    },
    {
     "name": "stdout",
     "output_type": "stream",
     "text": [
      "=========================================================\n",
      "Process RNAseq data for L5/6 NP\n"
     ]
    },
    {
     "name": "stderr",
     "output_type": "stream",
     "text": [
      "1982it [02:51, 11.58it/s]\n"
     ]
    },
    {
     "name": "stdout",
     "output_type": "stream",
     "text": [
      "=========================================================\n",
      "Process RNAseq data for L6 CT\n"
     ]
    },
    {
     "name": "stderr",
     "output_type": "stream",
     "text": [
      "1982it [09:00,  3.66it/s]\n"
     ]
    },
    {
     "name": "stdout",
     "output_type": "stream",
     "text": [
      "=========================================================\n",
      "Process RNAseq data for L6 IT\n"
     ]
    },
    {
     "name": "stderr",
     "output_type": "stream",
     "text": [
      "1982it [03:51,  8.54it/s]\n"
     ]
    },
    {
     "name": "stdout",
     "output_type": "stream",
     "text": [
      "=========================================================\n",
      "Process RNAseq data for L6b\n"
     ]
    },
    {
     "name": "stderr",
     "output_type": "stream",
     "text": [
      "1982it [02:22, 13.91it/s]\n"
     ]
    },
    {
     "name": "stdout",
     "output_type": "stream",
     "text": [
      "=========================================================\n",
      "Process RNAseq data for Lamp5\n"
     ]
    },
    {
     "name": "stderr",
     "output_type": "stream",
     "text": [
      "1982it [02:26, 13.48it/s]\n"
     ]
    },
    {
     "name": "stdout",
     "output_type": "stream",
     "text": [
      "=========================================================\n",
      "Process RNAseq data for Micro\n"
     ]
    },
    {
     "name": "stderr",
     "output_type": "stream",
     "text": [
      "1982it [01:37, 20.26it/s]\n"
     ]
    },
    {
     "name": "stdout",
     "output_type": "stream",
     "text": [
      "=========================================================\n",
      "Process RNAseq data for OPC\n"
     ]
    },
    {
     "name": "stderr",
     "output_type": "stream",
     "text": [
      "1982it [01:38, 20.04it/s]\n"
     ]
    },
    {
     "name": "stdout",
     "output_type": "stream",
     "text": [
      "=========================================================\n",
      "Process RNAseq data for Oligo\n"
     ]
    },
    {
     "name": "stderr",
     "output_type": "stream",
     "text": [
      "1982it [01:40, 19.70it/s]\n"
     ]
    },
    {
     "name": "stdout",
     "output_type": "stream",
     "text": [
      "=========================================================\n",
      "Process RNAseq data for Pvalb\n"
     ]
    },
    {
     "name": "stderr",
     "output_type": "stream",
     "text": [
      "1982it [04:02,  8.18it/s]\n"
     ]
    },
    {
     "name": "stdout",
     "output_type": "stream",
     "text": [
      "=========================================================\n",
      "Process RNAseq data for Sncg\n"
     ]
    },
    {
     "name": "stderr",
     "output_type": "stream",
     "text": [
      "1982it [01:48, 18.29it/s]\n"
     ]
    },
    {
     "name": "stdout",
     "output_type": "stream",
     "text": [
      "=========================================================\n",
      "Process RNAseq data for Sst\n"
     ]
    },
    {
     "name": "stderr",
     "output_type": "stream",
     "text": [
      "1982it [03:06, 10.61it/s]\n"
     ]
    },
    {
     "name": "stdout",
     "output_type": "stream",
     "text": [
      "=========================================================\n",
      "Process RNAseq data for Vip\n"
     ]
    },
    {
     "name": "stderr",
     "output_type": "stream",
     "text": [
      "1982it [02:23, 13.84it/s]\n"
     ]
    },
    {
     "name": "stdout",
     "output_type": "stream",
     "text": [
      "=========================================================\n"
     ]
    }
   ],
   "source": [
    "%matplotlib inline\n",
    "\n",
    "import gene_activity\n",
    "import loci_1d_features\n",
    "from scipy import stats\n",
    "import seaborn as sns\n",
    "from tqdm import tqdm\n",
    "\n",
    "bin_size =2000 # extend both direction, thus equivilant to ~ 4Mb\n",
    "adjcent_col = f'Adjacent_genes_{bin_size}kb_tss'\n",
    "activity_type = 'sum' # sum of all gene associated to a loci for each single cell\n",
    "\n",
    "expression_res_df_dict = {}\n",
    "\n",
    "expression_res_df_dict = {}\n",
    "sel_class_to_process = [c for c in np.unique(list(adata_ori.obs[groupby_adata])) if c!='nan']\n",
    "\n",
    "# simple loop\n",
    "for _group in sel_class_to_process[:]:\n",
    "    \n",
    "    print (f'Process RNAseq data for {_group}')\n",
    "    \n",
    "    expression_res_dict={}\n",
    "    sorted_group_order = [_group]\n",
    "    \n",
    "    _group_fname = _group.replace('/','_').replace(' ','_')\n",
    "\n",
    "    imaged_loci_df_group = loci_1d_features.codebook_chr_order_for_loci_dataframe (imaged_loci_df, \n",
    "                                               codebook_df, \n",
    "                                               sel_cols =['chr','chr_order','id'], \n",
    "                                               sort_df = True,\n",
    "                                               sort_by_chr=True)\n",
    "\n",
    "    loci_key_list = loci_1d_features.sorted_loci_keys_for_loci_dataframe(imaged_loci_df_group)\n",
    "    loci_ori_ind = loci_1d_features.find_chr_loci_iloc_from_loci_keys (codebook_df, loci_key_list)\n",
    "\n",
    "    # for loci along the chromosome, append the measurements for each single cell\n",
    "    for _ind, sel_loci_ind in tqdm(enumerate(imaged_loci_df_group.index.tolist()[:])):\n",
    "\n",
    "        # get adjacent gene expression\n",
    "        sel_genes=imaged_loci_df_group.loc[sel_loci_ind][f'Adjacent_genes_{bin_size}kb_tss'].split('; ')\n",
    "        sel_adata =  adata_ori[:,adata_ori.var.index.isin(sel_genes)]\n",
    "        marker_expressions = gene_activity.gene_activity_raw_groups(sel_genes,\n",
    "                            sel_adata, \n",
    "                            sorted_group_order,\n",
    "                            groupby_adata,\n",
    "                            ref_norm_list = [],\n",
    "                            report_type =activity_type)\n",
    "\n",
    "        expression_res_dict[_ind]=list(marker_expressions[_group])\n",
    "        \n",
    "    # convert dict to df as loci by cell\n",
    "    expression_res_df = pd.DataFrame.from_dict(expression_res_dict, orient='index')\n",
    "    expression_res_df['loci_name']=codebook_df.index.tolist()\n",
    "    expression_res_df = expression_res_df.set_index ('loci_name')\n",
    "    expression_res_df_dict[_group]=expression_res_df\n",
    "    # save\n",
    "    output_df_fname = os.path.join(output_folder, f'MERFISH_loci_10x_expression_2X_{bin_size}kb_for_{_group_fname}.csv')\n",
    "    expression_res_df.to_csv(output_df_fname)\n",
    "    print ('=========================================================')\n"
   ]
  },
  {
   "cell_type": "code",
   "execution_count": 22,
   "metadata": {},
   "outputs": [
    {
     "data": {
      "text/html": [
       "<div>\n",
       "<style scoped>\n",
       "    .dataframe tbody tr th:only-of-type {\n",
       "        vertical-align: middle;\n",
       "    }\n",
       "\n",
       "    .dataframe tbody tr th {\n",
       "        vertical-align: top;\n",
       "    }\n",
       "\n",
       "    .dataframe thead th {\n",
       "        text-align: right;\n",
       "    }\n",
       "</style>\n",
       "<table border=\"1\" class=\"dataframe\">\n",
       "  <thead>\n",
       "    <tr style=\"text-align: right;\">\n",
       "      <th></th>\n",
       "      <th>0</th>\n",
       "      <th>1</th>\n",
       "      <th>2</th>\n",
       "      <th>3</th>\n",
       "      <th>4</th>\n",
       "      <th>5</th>\n",
       "      <th>6</th>\n",
       "      <th>7</th>\n",
       "      <th>8</th>\n",
       "      <th>9</th>\n",
       "      <th>...</th>\n",
       "      <th>1082</th>\n",
       "      <th>1083</th>\n",
       "      <th>1084</th>\n",
       "      <th>1085</th>\n",
       "      <th>1086</th>\n",
       "      <th>1087</th>\n",
       "      <th>1088</th>\n",
       "      <th>1089</th>\n",
       "      <th>1090</th>\n",
       "      <th>1091</th>\n",
       "    </tr>\n",
       "    <tr>\n",
       "      <th>loci_name</th>\n",
       "      <th></th>\n",
       "      <th></th>\n",
       "      <th></th>\n",
       "      <th></th>\n",
       "      <th></th>\n",
       "      <th></th>\n",
       "      <th></th>\n",
       "      <th></th>\n",
       "      <th></th>\n",
       "      <th></th>\n",
       "      <th></th>\n",
       "      <th></th>\n",
       "      <th></th>\n",
       "      <th></th>\n",
       "      <th></th>\n",
       "      <th></th>\n",
       "      <th></th>\n",
       "      <th></th>\n",
       "      <th></th>\n",
       "      <th></th>\n",
       "      <th></th>\n",
       "    </tr>\n",
       "  </thead>\n",
       "  <tbody>\n",
       "    <tr>\n",
       "      <th>chr1_3742742_3759944</th>\n",
       "      <td>16.0</td>\n",
       "      <td>24.0</td>\n",
       "      <td>14.0</td>\n",
       "      <td>17.0</td>\n",
       "      <td>9.0</td>\n",
       "      <td>13.0</td>\n",
       "      <td>8.0</td>\n",
       "      <td>15.0</td>\n",
       "      <td>14.0</td>\n",
       "      <td>7.0</td>\n",
       "      <td>...</td>\n",
       "      <td>29.0</td>\n",
       "      <td>23.0</td>\n",
       "      <td>35.0</td>\n",
       "      <td>28.0</td>\n",
       "      <td>22.0</td>\n",
       "      <td>5.0</td>\n",
       "      <td>12.0</td>\n",
       "      <td>25.0</td>\n",
       "      <td>37.0</td>\n",
       "      <td>15.0</td>\n",
       "    </tr>\n",
       "    <tr>\n",
       "      <th>chr1_6245958_6258969</th>\n",
       "      <td>9.0</td>\n",
       "      <td>6.0</td>\n",
       "      <td>16.0</td>\n",
       "      <td>7.0</td>\n",
       "      <td>7.0</td>\n",
       "      <td>2.0</td>\n",
       "      <td>5.0</td>\n",
       "      <td>9.0</td>\n",
       "      <td>2.0</td>\n",
       "      <td>4.0</td>\n",
       "      <td>...</td>\n",
       "      <td>0.0</td>\n",
       "      <td>6.0</td>\n",
       "      <td>6.0</td>\n",
       "      <td>6.0</td>\n",
       "      <td>9.0</td>\n",
       "      <td>6.0</td>\n",
       "      <td>5.0</td>\n",
       "      <td>0.0</td>\n",
       "      <td>6.0</td>\n",
       "      <td>0.0</td>\n",
       "    </tr>\n",
       "    <tr>\n",
       "      <th>chr1_8740008_8759916</th>\n",
       "      <td>40.0</td>\n",
       "      <td>7.0</td>\n",
       "      <td>9.0</td>\n",
       "      <td>35.0</td>\n",
       "      <td>51.0</td>\n",
       "      <td>42.0</td>\n",
       "      <td>12.0</td>\n",
       "      <td>11.0</td>\n",
       "      <td>29.0</td>\n",
       "      <td>5.0</td>\n",
       "      <td>...</td>\n",
       "      <td>24.0</td>\n",
       "      <td>24.0</td>\n",
       "      <td>77.0</td>\n",
       "      <td>88.0</td>\n",
       "      <td>32.0</td>\n",
       "      <td>57.0</td>\n",
       "      <td>52.0</td>\n",
       "      <td>26.0</td>\n",
       "      <td>24.0</td>\n",
       "      <td>51.0</td>\n",
       "    </tr>\n",
       "    <tr>\n",
       "      <th>chr1_9627926_9637875</th>\n",
       "      <td>46.0</td>\n",
       "      <td>6.0</td>\n",
       "      <td>18.0</td>\n",
       "      <td>39.0</td>\n",
       "      <td>56.0</td>\n",
       "      <td>53.0</td>\n",
       "      <td>19.0</td>\n",
       "      <td>17.0</td>\n",
       "      <td>29.0</td>\n",
       "      <td>8.0</td>\n",
       "      <td>...</td>\n",
       "      <td>28.0</td>\n",
       "      <td>21.0</td>\n",
       "      <td>129.0</td>\n",
       "      <td>109.0</td>\n",
       "      <td>58.0</td>\n",
       "      <td>60.0</td>\n",
       "      <td>57.0</td>\n",
       "      <td>31.0</td>\n",
       "      <td>22.0</td>\n",
       "      <td>58.0</td>\n",
       "    </tr>\n",
       "    <tr>\n",
       "      <th>chr1_9799472_9811359</th>\n",
       "      <td>46.0</td>\n",
       "      <td>6.0</td>\n",
       "      <td>18.0</td>\n",
       "      <td>39.0</td>\n",
       "      <td>56.0</td>\n",
       "      <td>53.0</td>\n",
       "      <td>19.0</td>\n",
       "      <td>17.0</td>\n",
       "      <td>29.0</td>\n",
       "      <td>8.0</td>\n",
       "      <td>...</td>\n",
       "      <td>28.0</td>\n",
       "      <td>21.0</td>\n",
       "      <td>129.0</td>\n",
       "      <td>109.0</td>\n",
       "      <td>58.0</td>\n",
       "      <td>60.0</td>\n",
       "      <td>57.0</td>\n",
       "      <td>31.0</td>\n",
       "      <td>22.0</td>\n",
       "      <td>58.0</td>\n",
       "    </tr>\n",
       "  </tbody>\n",
       "</table>\n",
       "<p>5 rows × 1092 columns</p>\n",
       "</div>"
      ],
      "text/plain": [
       "                      0     1     2     3     4     5     6     7     8     \\\n",
       "loci_name                                                                    \n",
       "chr1_3742742_3759944  16.0  24.0  14.0  17.0   9.0  13.0   8.0  15.0  14.0   \n",
       "chr1_6245958_6258969   9.0   6.0  16.0   7.0   7.0   2.0   5.0   9.0   2.0   \n",
       "chr1_8740008_8759916  40.0   7.0   9.0  35.0  51.0  42.0  12.0  11.0  29.0   \n",
       "chr1_9627926_9637875  46.0   6.0  18.0  39.0  56.0  53.0  19.0  17.0  29.0   \n",
       "chr1_9799472_9811359  46.0   6.0  18.0  39.0  56.0  53.0  19.0  17.0  29.0   \n",
       "\n",
       "                      9     ...  1082  1083   1084   1085  1086  1087  1088  \\\n",
       "loci_name                   ...                                               \n",
       "chr1_3742742_3759944   7.0  ...  29.0  23.0   35.0   28.0  22.0   5.0  12.0   \n",
       "chr1_6245958_6258969   4.0  ...   0.0   6.0    6.0    6.0   9.0   6.0   5.0   \n",
       "chr1_8740008_8759916   5.0  ...  24.0  24.0   77.0   88.0  32.0  57.0  52.0   \n",
       "chr1_9627926_9637875   8.0  ...  28.0  21.0  129.0  109.0  58.0  60.0  57.0   \n",
       "chr1_9799472_9811359   8.0  ...  28.0  21.0  129.0  109.0  58.0  60.0  57.0   \n",
       "\n",
       "                      1089  1090  1091  \n",
       "loci_name                               \n",
       "chr1_3742742_3759944  25.0  37.0  15.0  \n",
       "chr1_6245958_6258969   0.0   6.0   0.0  \n",
       "chr1_8740008_8759916  26.0  24.0  51.0  \n",
       "chr1_9627926_9637875  31.0  22.0  58.0  \n",
       "chr1_9799472_9811359  31.0  22.0  58.0  \n",
       "\n",
       "[5 rows x 1092 columns]"
      ]
     },
     "execution_count": 22,
     "metadata": {},
     "output_type": "execute_result"
    }
   ],
   "source": [
    "expression_res_df.head()"
   ]
  }
 ],
 "metadata": {
  "kernelspec": {
   "display_name": "Python 3 (ipykernel)",
   "language": "python",
   "name": "python3"
  },
  "language_info": {
   "codemirror_mode": {
    "name": "ipython",
    "version": 3
   },
   "file_extension": ".py",
   "mimetype": "text/x-python",
   "name": "python",
   "nbconvert_exporter": "python",
   "pygments_lexer": "ipython3",
   "version": "3.10.8"
  },
  "toc": {
   "base_numbering": 1,
   "nav_menu": {},
   "number_sections": true,
   "sideBar": true,
   "skip_h1_title": false,
   "title_cell": "Table of Contents",
   "title_sidebar": "Contents",
   "toc_cell": false,
   "toc_position": {},
   "toc_section_display": true,
   "toc_window_display": true
  }
 },
 "nbformat": 4,
 "nbformat_minor": 4
}
