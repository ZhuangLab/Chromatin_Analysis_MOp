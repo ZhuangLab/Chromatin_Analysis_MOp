{
 "cells": [
  {
   "cell_type": "markdown",
   "metadata": {},
   "source": [
    "# Import module"
   ]
  },
  {
   "cell_type": "markdown",
   "metadata": {},
   "source": [
    "The link to get [ImageAnalysis3](https://github.com/zhengpuas47/ImageAnalysis3) \n",
    "\n",
    "Or from the Zhuang lab archived [source_tools](https://github.com/ZhuangLab/Chromatin_Analysis_2020_cell/tree/master/sequential_tracing/source)"
   ]
  },
  {
   "cell_type": "markdown",
   "metadata": {},
   "source": [
    "## ImageAnalysis3 and basic modules"
   ]
  },
  {
   "cell_type": "code",
   "execution_count": 1,
   "metadata": {},
   "outputs": [
    {
     "name": "stdout",
     "output_type": "stream",
     "text": [
      "18992\n"
     ]
    }
   ],
   "source": [
    "%run \"C:\\Users\\shiwei\\Documents\\ImageAnalysis3\\required_files\\Startup_py3.py\"\n",
    "sys.path.append(r\"C:\\Users\\shiwei\\Documents\")\n",
    "\n",
    "import ImageAnalysis3 as ia\n",
    "from ImageAnalysis3 import *\n",
    "from ImageAnalysis3.classes import _allowed_kwds\n",
    "\n",
    "import h5py\n",
    "import ast\n",
    "import pandas as pd\n",
    "\n",
    "print(os.getpid())"
   ]
  },
  {
   "cell_type": "markdown",
   "metadata": {},
   "source": [
    "## Chromatin_analysis_tools etc"
   ]
  },
  {
   "cell_type": "markdown",
   "metadata": {},
   "source": [
    "See **functions** in the repository for [AnalysisTool_Chromatin](../../README.md)"
   ]
  },
  {
   "cell_type": "code",
   "execution_count": 2,
   "metadata": {},
   "outputs": [
    {
     "data": {
      "text/plain": [
       "<module 'atac_to_loci' from 'C:\\\\Users\\\\shiwei\\\\Documents\\\\AnalysisTool_Chromatin\\\\atac_to_loci.py'>"
      ]
     },
     "execution_count": 2,
     "metadata": {},
     "output_type": "execute_result"
    }
   ],
   "source": [
    "# Chromatin_analysis_tools (ATC)\n",
    "# Get path for the py containing functions\n",
    "import os\n",
    "import sys\n",
    "import importlib\n",
    "module_path =r'C:\\Users\\shiwei\\Documents\\AnalysisTool_Chromatin'\n",
    "if module_path not in sys.path:\n",
    "    sys.path.append(module_path)\n",
    "    \n",
    "# import relevant modules\n",
    "import gene_selection \n",
    "importlib.reload(gene_selection)\n",
    "import gene_to_loci\n",
    "importlib.reload(gene_to_loci)\n",
    "import gene_activity\n",
    "importlib.reload(gene_activity)\n",
    "import loci_1d_features\n",
    "importlib.reload(loci_1d_features)  \n",
    "\n",
    "import atac_to_loci\n",
    "importlib.reload(atac_to_loci)"
   ]
  },
  {
   "cell_type": "markdown",
   "metadata": {},
   "source": [
    "# Define folders"
   ]
  },
  {
   "cell_type": "code",
   "execution_count": 3,
   "metadata": {},
   "outputs": [
    {
     "name": "stdout",
     "output_type": "stream",
     "text": [
      "Use existing analysis folder: L:\\Shiwei\\postanalysis_2024\\v0\\locus_annotation\\analysis.\n",
      "Use existing figure folder: L:\\Shiwei\\postanalysis_2024\\v0\\locus_annotation\\figures.\n"
     ]
    }
   ],
   "source": [
    "# main folder for postanalysis\n",
    "postanalysis_folder = r'L:\\Shiwei\\postanalysis_2024\\v0'\n",
    "# input files for postanalysis\n",
    "input_folder = os.path.join(postanalysis_folder, 'resources_from_preprocess')\n",
    "\n",
    "# output file to be generated\n",
    "output_main_folder = os.path.join(postanalysis_folder, 'locus_annotation')\n",
    "\n",
    "output_analysis_folder = os.path.join(output_main_folder, 'analysis')\n",
    "output_figure_folder = os.path.join(output_main_folder, 'figures')\n",
    "\n",
    "# make new folder if needed\n",
    "make_output_folder = True\n",
    "\n",
    "if make_output_folder and not os.path.exists(output_analysis_folder):\n",
    "    os.makedirs(output_analysis_folder)\n",
    "    print(f'Generating analysis folder: {output_analysis_folder}.')\n",
    "elif os.path.exists(output_analysis_folder):\n",
    "    print(f'Use existing analysis folder: {output_analysis_folder}.')\n",
    "    \n",
    "if make_output_folder and not os.path.exists(output_figure_folder):\n",
    "    os.makedirs(output_figure_folder)\n",
    "    print(f'Generating figure folder: {output_figure_folder}.')\n",
    "elif os.path.exists(output_figure_folder):\n",
    "    print(f'Use existing figure folder: {output_figure_folder}.')"
   ]
  },
  {
   "cell_type": "markdown",
   "metadata": {},
   "source": [
    "# Plotting parameters"
   ]
  },
  {
   "cell_type": "code",
   "execution_count": 4,
   "metadata": {},
   "outputs": [],
   "source": [
    "%matplotlib inline\n",
    "import matplotlib\n",
    "matplotlib.rcParams['pdf.fonttype'] = 42\n",
    "import matplotlib.pyplot as plt\n",
    "plt.rc('font', family='serif')\n",
    "plt.rc('font', serif='Arial')\n",
    "\n",
    "from ImageAnalysis3.figure_tools import _double_col_width, _single_col_width, _font_size, _ticklabel_size,_ticklabel_width\n",
    "\n",
    "import seaborn as sns\n",
    "sns.set_context(\"paper\", rc={\"font.size\":_font_size,\"axes.titlesize\":_font_size+1,\"axes.labelsize\":_font_size})  "
   ]
  },
  {
   "cell_type": "markdown",
   "metadata": {},
   "source": [
    "# Load data relevant information"
   ]
  },
  {
   "cell_type": "markdown",
   "metadata": {},
   "source": [
    "## load codebook with peak annotation\n",
    "\n",
    "annotated codebook can be generated similarly with ATAC data using the notebook below:\n",
    "\n",
    "\n",
    "[external/scripts/pair_tag/2_adjacent_h3k27me3_peak_annotation_for_merfish_loci](../../../external/scripts/pair_tag/2_adjacent_h3k27me3_peak_annotation_for_merfish_loci.ipynb)\n",
    "\n",
    "information related to ATAC can be found from the folder in the repository:\n",
    "[ATACseq_MOp_folder](../../../external/scripts/sn_atac)"
   ]
  },
  {
   "cell_type": "code",
   "execution_count": 5,
   "metadata": {},
   "outputs": [
    {
     "data": {
      "text/html": [
       "<div>\n",
       "<style scoped>\n",
       "    .dataframe tbody tr th:only-of-type {\n",
       "        vertical-align: middle;\n",
       "    }\n",
       "\n",
       "    .dataframe tbody tr th {\n",
       "        vertical-align: top;\n",
       "    }\n",
       "\n",
       "    .dataframe thead th {\n",
       "        text-align: right;\n",
       "    }\n",
       "</style>\n",
       "<table border=\"1\" class=\"dataframe\">\n",
       "  <thead>\n",
       "    <tr style=\"text-align: right;\">\n",
       "      <th></th>\n",
       "      <th>name</th>\n",
       "      <th>id</th>\n",
       "      <th>chr</th>\n",
       "      <th>chr_order</th>\n",
       "      <th>library</th>\n",
       "      <th>adjacent_peaks_2000kb_center</th>\n",
       "    </tr>\n",
       "    <tr>\n",
       "      <th>loci_name</th>\n",
       "      <th></th>\n",
       "      <th></th>\n",
       "      <th></th>\n",
       "      <th></th>\n",
       "      <th></th>\n",
       "      <th></th>\n",
       "    </tr>\n",
       "  </thead>\n",
       "  <tbody>\n",
       "    <tr>\n",
       "      <th>chr1_3742742_3759944</th>\n",
       "      <td>1:3742742-3759944</td>\n",
       "      <td>1</td>\n",
       "      <td>1</td>\n",
       "      <td>0</td>\n",
       "      <td>CTP11</td>\n",
       "      <td>chr1_3000000_3005000; chr1_3005000_3010000; ch...</td>\n",
       "    </tr>\n",
       "    <tr>\n",
       "      <th>chr1_6245958_6258969</th>\n",
       "      <td>1:6245958-6258969</td>\n",
       "      <td>2</td>\n",
       "      <td>1</td>\n",
       "      <td>1</td>\n",
       "      <td>CTP11</td>\n",
       "      <td>chr1_4245000_4250000; chr1_4250000_4255000; ch...</td>\n",
       "    </tr>\n",
       "    <tr>\n",
       "      <th>chr1_8740008_8759916</th>\n",
       "      <td>1:8740008-8759916</td>\n",
       "      <td>3</td>\n",
       "      <td>1</td>\n",
       "      <td>2</td>\n",
       "      <td>CTP11</td>\n",
       "      <td>chr1_10000000_10005000; chr1_10005000_10010000...</td>\n",
       "    </tr>\n",
       "    <tr>\n",
       "      <th>chr1_9627926_9637875</th>\n",
       "      <td>1:9627926-9637875</td>\n",
       "      <td>1</td>\n",
       "      <td>1</td>\n",
       "      <td>3</td>\n",
       "      <td>CTP13</td>\n",
       "      <td>chr1_10000000_10005000; chr1_10005000_10010000...</td>\n",
       "    </tr>\n",
       "    <tr>\n",
       "      <th>chr1_9799472_9811359</th>\n",
       "      <td>1:9799472-9811359</td>\n",
       "      <td>2</td>\n",
       "      <td>1</td>\n",
       "      <td>4</td>\n",
       "      <td>CTP13</td>\n",
       "      <td>chr1_10000000_10005000; chr1_10005000_10010000...</td>\n",
       "    </tr>\n",
       "  </tbody>\n",
       "</table>\n",
       "</div>"
      ],
      "text/plain": [
       "                                   name id chr  chr_order library  \\\n",
       "loci_name                                                           \n",
       "chr1_3742742_3759944  1:3742742-3759944  1   1          0   CTP11   \n",
       "chr1_6245958_6258969  1:6245958-6258969  2   1          1   CTP11   \n",
       "chr1_8740008_8759916  1:8740008-8759916  3   1          2   CTP11   \n",
       "chr1_9627926_9637875  1:9627926-9637875  1   1          3   CTP13   \n",
       "chr1_9799472_9811359  1:9799472-9811359  2   1          4   CTP13   \n",
       "\n",
       "                                           adjacent_peaks_2000kb_center  \n",
       "loci_name                                                                \n",
       "chr1_3742742_3759944  chr1_3000000_3005000; chr1_3005000_3010000; ch...  \n",
       "chr1_6245958_6258969  chr1_4245000_4250000; chr1_4250000_4255000; ch...  \n",
       "chr1_8740008_8759916  chr1_10000000_10005000; chr1_10005000_10010000...  \n",
       "chr1_9627926_9637875  chr1_10000000_10005000; chr1_10005000_10010000...  \n",
       "chr1_9799472_9811359  chr1_10000000_10005000; chr1_10005000_10010000...  "
      ]
     },
     "execution_count": 5,
     "metadata": {},
     "output_type": "execute_result"
    }
   ],
   "source": [
    "# load codebook\n",
    "codebook_folder = output_analysis_folder\n",
    "target_mode = 'H3K9me3'\n",
    "# Load codebook and sort\n",
    "codebook_fname = os.path.join(codebook_folder,f'MERFISH_loci_adjacent_{target_mode}_center.csv')\n",
    "codebook_df = pd.read_csv (codebook_fname, index_col=0)\n",
    "codebook_df = loci_1d_features.sort_loci_df_by_chr_order (codebook_df)\n",
    "\n",
    "codebook_df.head()"
   ]
  },
  {
   "cell_type": "markdown",
   "metadata": {},
   "source": [
    "## load analyzed paired-Tag annData"
   ]
  },
  {
   "cell_type": "markdown",
   "metadata": {},
   "source": [
    "anndata can be generated using the notebook below, for example for H3K27ac:\n",
    "\n",
    "[1_prepare_pairtag_fc_h3k27ac_adata](1_prepare_pairtag_fc_h3k27ac_adata.ipynb)\n",
    "\n",
    "for other histone marks, use the corresponding notebook(s) in the same folder as above"
   ]
  },
  {
   "cell_type": "code",
   "execution_count": 6,
   "metadata": {},
   "outputs": [],
   "source": [
    "# Get loaded adata from other notebook\n",
    "import os\n",
    "import scanpy as sc\n",
    "# L drive is Crick Pu_SSD_0\n",
    "scRNA_folder = r'L:\\Shiwei\\DNA_MERFISH_analysis\\Paired_tag\\anndata'\n",
    "# load from here for saved h5ad\n",
    "#adata = sc.read(os.path.join(scRNA_folder,r'MOp_ATAC_combined_preprocessed.h5ad'))\n",
    "adata = sc.read(os.path.join(scRNA_folder,f'FC_pairtag_{target_mode}.h5ad'))"
   ]
  },
  {
   "cell_type": "code",
   "execution_count": 7,
   "metadata": {},
   "outputs": [
    {
     "name": "stdout",
     "output_type": "stream",
     "text": [
      "76.0\n"
     ]
    }
   ],
   "source": [
    "print(np.max(adata.X))"
   ]
  },
  {
   "cell_type": "code",
   "execution_count": 8,
   "metadata": {},
   "outputs": [
    {
     "data": {
      "text/html": [
       "<div>\n",
       "<style scoped>\n",
       "    .dataframe tbody tr th:only-of-type {\n",
       "        vertical-align: middle;\n",
       "    }\n",
       "\n",
       "    .dataframe tbody tr th {\n",
       "        vertical-align: top;\n",
       "    }\n",
       "\n",
       "    .dataframe thead th {\n",
       "        text-align: right;\n",
       "    }\n",
       "</style>\n",
       "<table border=\"1\" class=\"dataframe\">\n",
       "  <thead>\n",
       "    <tr style=\"text-align: right;\">\n",
       "      <th></th>\n",
       "      <th>Tissue</th>\n",
       "      <th>Rep</th>\n",
       "      <th>Target</th>\n",
       "      <th>Total_RNA_Reads</th>\n",
       "      <th>Mapped_RNA_Reads</th>\n",
       "      <th>Uniquely_Mapped_RNA_Reads</th>\n",
       "      <th>UMI_RNA</th>\n",
       "      <th>nGene_RNA</th>\n",
       "      <th>Total_DNA_Reads</th>\n",
       "      <th>Mapped_DNA_Reads</th>\n",
       "      <th>Uniquely_Mapped_DNA_Reads</th>\n",
       "      <th>nFragments_DNA</th>\n",
       "      <th>Membership</th>\n",
       "      <th>Annotation</th>\n",
       "      <th>RNA_UMAP_1</th>\n",
       "      <th>RNA_UMAP_2</th>\n",
       "      <th>DNA_UMAP_1</th>\n",
       "      <th>DNA_UMAP_2</th>\n",
       "      <th>cluster</th>\n",
       "    </tr>\n",
       "    <tr>\n",
       "      <th>Cell_ID</th>\n",
       "      <th></th>\n",
       "      <th></th>\n",
       "      <th></th>\n",
       "      <th></th>\n",
       "      <th></th>\n",
       "      <th></th>\n",
       "      <th></th>\n",
       "      <th></th>\n",
       "      <th></th>\n",
       "      <th></th>\n",
       "      <th></th>\n",
       "      <th></th>\n",
       "      <th></th>\n",
       "      <th></th>\n",
       "      <th></th>\n",
       "      <th></th>\n",
       "      <th></th>\n",
       "      <th></th>\n",
       "      <th></th>\n",
       "    </tr>\n",
       "  </thead>\n",
       "  <tbody>\n",
       "    <tr>\n",
       "      <th>21:02:36:07</th>\n",
       "      <td>FC</td>\n",
       "      <td>1</td>\n",
       "      <td>H3K9me3</td>\n",
       "      <td>34739</td>\n",
       "      <td>30315</td>\n",
       "      <td>29003</td>\n",
       "      <td>18466</td>\n",
       "      <td>2640</td>\n",
       "      <td>39652</td>\n",
       "      <td>30243</td>\n",
       "      <td>11976</td>\n",
       "      <td>14847</td>\n",
       "      <td>4</td>\n",
       "      <td>FC_ExNeu_PT</td>\n",
       "      <td>1.185773</td>\n",
       "      <td>-4.536413</td>\n",
       "      <td>1.002368</td>\n",
       "      <td>1.100115</td>\n",
       "      <td>L5 ET</td>\n",
       "    </tr>\n",
       "    <tr>\n",
       "      <th>21:02:38:09</th>\n",
       "      <td>FC</td>\n",
       "      <td>3</td>\n",
       "      <td>H3K9me3</td>\n",
       "      <td>25685</td>\n",
       "      <td>22796</td>\n",
       "      <td>21976</td>\n",
       "      <td>14307</td>\n",
       "      <td>2422</td>\n",
       "      <td>11218</td>\n",
       "      <td>7159</td>\n",
       "      <td>2134</td>\n",
       "      <td>3873</td>\n",
       "      <td>1</td>\n",
       "      <td>FC_ExNeu_L23</td>\n",
       "      <td>-2.796159</td>\n",
       "      <td>-8.111693</td>\n",
       "      <td>2.278006</td>\n",
       "      <td>-1.729979</td>\n",
       "      <td>L2/3 IT</td>\n",
       "    </tr>\n",
       "    <tr>\n",
       "      <th>21:02:53:07</th>\n",
       "      <td>FC</td>\n",
       "      <td>1</td>\n",
       "      <td>H3K9me3</td>\n",
       "      <td>5343</td>\n",
       "      <td>4322</td>\n",
       "      <td>3908</td>\n",
       "      <td>2797</td>\n",
       "      <td>683</td>\n",
       "      <td>35357</td>\n",
       "      <td>32062</td>\n",
       "      <td>14372</td>\n",
       "      <td>16174</td>\n",
       "      <td>14</td>\n",
       "      <td>BR_InNeu_Pvalb</td>\n",
       "      <td>-5.499069</td>\n",
       "      <td>2.459688</td>\n",
       "      <td>0.244727</td>\n",
       "      <td>2.480219</td>\n",
       "      <td>Pvalb</td>\n",
       "    </tr>\n",
       "    <tr>\n",
       "      <th>21:03:16:09</th>\n",
       "      <td>FC</td>\n",
       "      <td>3</td>\n",
       "      <td>H3K9me3</td>\n",
       "      <td>13878</td>\n",
       "      <td>11969</td>\n",
       "      <td>11428</td>\n",
       "      <td>7649</td>\n",
       "      <td>1579</td>\n",
       "      <td>13872</td>\n",
       "      <td>11038</td>\n",
       "      <td>3753</td>\n",
       "      <td>5550</td>\n",
       "      <td>20</td>\n",
       "      <td>BR_NonNeu_Microglia</td>\n",
       "      <td>0.676187</td>\n",
       "      <td>2.337654</td>\n",
       "      <td>-4.075477</td>\n",
       "      <td>0.700106</td>\n",
       "      <td>Micro</td>\n",
       "    </tr>\n",
       "    <tr>\n",
       "      <th>21:03:19:07</th>\n",
       "      <td>FC</td>\n",
       "      <td>1</td>\n",
       "      <td>H3K9me3</td>\n",
       "      <td>5217</td>\n",
       "      <td>4412</td>\n",
       "      <td>4175</td>\n",
       "      <td>2820</td>\n",
       "      <td>704</td>\n",
       "      <td>15960</td>\n",
       "      <td>13151</td>\n",
       "      <td>5214</td>\n",
       "      <td>6700</td>\n",
       "      <td>12</td>\n",
       "      <td>BR_InNeu_CGE</td>\n",
       "      <td>-3.820650</td>\n",
       "      <td>3.251819</td>\n",
       "      <td>-0.883570</td>\n",
       "      <td>1.537417</td>\n",
       "      <td>CGE</td>\n",
       "    </tr>\n",
       "  </tbody>\n",
       "</table>\n",
       "</div>"
      ],
      "text/plain": [
       "            Tissue  Rep   Target  Total_RNA_Reads  Mapped_RNA_Reads  \\\n",
       "Cell_ID                                                               \n",
       "21:02:36:07     FC    1  H3K9me3            34739             30315   \n",
       "21:02:38:09     FC    3  H3K9me3            25685             22796   \n",
       "21:02:53:07     FC    1  H3K9me3             5343              4322   \n",
       "21:03:16:09     FC    3  H3K9me3            13878             11969   \n",
       "21:03:19:07     FC    1  H3K9me3             5217              4412   \n",
       "\n",
       "             Uniquely_Mapped_RNA_Reads  UMI_RNA  nGene_RNA  Total_DNA_Reads  \\\n",
       "Cell_ID                                                                       \n",
       "21:02:36:07                      29003    18466       2640            39652   \n",
       "21:02:38:09                      21976    14307       2422            11218   \n",
       "21:02:53:07                       3908     2797        683            35357   \n",
       "21:03:16:09                      11428     7649       1579            13872   \n",
       "21:03:19:07                       4175     2820        704            15960   \n",
       "\n",
       "             Mapped_DNA_Reads  Uniquely_Mapped_DNA_Reads  nFragments_DNA  \\\n",
       "Cell_ID                                                                    \n",
       "21:02:36:07             30243                      11976           14847   \n",
       "21:02:38:09              7159                       2134            3873   \n",
       "21:02:53:07             32062                      14372           16174   \n",
       "21:03:16:09             11038                       3753            5550   \n",
       "21:03:19:07             13151                       5214            6700   \n",
       "\n",
       "             Membership           Annotation  RNA_UMAP_1  RNA_UMAP_2  \\\n",
       "Cell_ID                                                                \n",
       "21:02:36:07           4          FC_ExNeu_PT    1.185773   -4.536413   \n",
       "21:02:38:09           1         FC_ExNeu_L23   -2.796159   -8.111693   \n",
       "21:02:53:07          14       BR_InNeu_Pvalb   -5.499069    2.459688   \n",
       "21:03:16:09          20  BR_NonNeu_Microglia    0.676187    2.337654   \n",
       "21:03:19:07          12         BR_InNeu_CGE   -3.820650    3.251819   \n",
       "\n",
       "             DNA_UMAP_1  DNA_UMAP_2  cluster  \n",
       "Cell_ID                                       \n",
       "21:02:36:07    1.002368    1.100115    L5 ET  \n",
       "21:02:38:09    2.278006   -1.729979  L2/3 IT  \n",
       "21:02:53:07    0.244727    2.480219    Pvalb  \n",
       "21:03:16:09   -4.075477    0.700106    Micro  \n",
       "21:03:19:07   -0.883570    1.537417      CGE  "
      ]
     },
     "execution_count": 8,
     "metadata": {},
     "output_type": "execute_result"
    }
   ],
   "source": [
    "adata.obs.head()"
   ]
  },
  {
   "cell_type": "code",
   "execution_count": 9,
   "metadata": {},
   "outputs": [
    {
     "data": {
      "text/html": [
       "<div>\n",
       "<style scoped>\n",
       "    .dataframe tbody tr th:only-of-type {\n",
       "        vertical-align: middle;\n",
       "    }\n",
       "\n",
       "    .dataframe tbody tr th {\n",
       "        vertical-align: top;\n",
       "    }\n",
       "\n",
       "    .dataframe thead th {\n",
       "        text-align: right;\n",
       "    }\n",
       "</style>\n",
       "<table border=\"1\" class=\"dataframe\">\n",
       "  <thead>\n",
       "    <tr style=\"text-align: right;\">\n",
       "      <th></th>\n",
       "    </tr>\n",
       "  </thead>\n",
       "  <tbody>\n",
       "    <tr>\n",
       "      <th>chr10_10000000_10005000</th>\n",
       "    </tr>\n",
       "    <tr>\n",
       "      <th>chr10_100000000_100005000</th>\n",
       "    </tr>\n",
       "    <tr>\n",
       "      <th>chr10_100005000_100010000</th>\n",
       "    </tr>\n",
       "    <tr>\n",
       "      <th>chr10_100010000_100015000</th>\n",
       "    </tr>\n",
       "    <tr>\n",
       "      <th>chr10_100015000_100020000</th>\n",
       "    </tr>\n",
       "  </tbody>\n",
       "</table>\n",
       "</div>"
      ],
      "text/plain": [
       "Empty DataFrame\n",
       "Columns: []\n",
       "Index: [chr10_10000000_10005000, chr10_100000000_100005000, chr10_100005000_100010000, chr10_100010000_100015000, chr10_100015000_100020000]"
      ]
     },
     "execution_count": 9,
     "metadata": {},
     "output_type": "execute_result"
    }
   ],
   "source": [
    "adata.var.head()"
   ]
  },
  {
   "cell_type": "markdown",
   "metadata": {},
   "source": [
    "# Extract peak numbers"
   ]
  },
  {
   "cell_type": "code",
   "execution_count": 10,
   "metadata": {},
   "outputs": [
    {
     "name": "stdout",
     "output_type": "stream",
     "text": [
      "Get all existing adjacent gene columns.\n"
     ]
    },
    {
     "data": {
      "text/html": [
       "<div>\n",
       "<style scoped>\n",
       "    .dataframe tbody tr th:only-of-type {\n",
       "        vertical-align: middle;\n",
       "    }\n",
       "\n",
       "    .dataframe tbody tr th {\n",
       "        vertical-align: top;\n",
       "    }\n",
       "\n",
       "    .dataframe thead th {\n",
       "        text-align: right;\n",
       "    }\n",
       "</style>\n",
       "<table border=\"1\" class=\"dataframe\">\n",
       "  <thead>\n",
       "    <tr style=\"text-align: right;\">\n",
       "      <th></th>\n",
       "      <th>name</th>\n",
       "      <th>id</th>\n",
       "      <th>chr</th>\n",
       "      <th>chr_order</th>\n",
       "      <th>library</th>\n",
       "      <th>adjacent_peaks_2000kb_center</th>\n",
       "    </tr>\n",
       "    <tr>\n",
       "      <th>Imaged_loci</th>\n",
       "      <th></th>\n",
       "      <th></th>\n",
       "      <th></th>\n",
       "      <th></th>\n",
       "      <th></th>\n",
       "      <th></th>\n",
       "    </tr>\n",
       "  </thead>\n",
       "  <tbody>\n",
       "    <tr>\n",
       "      <th>chr1_3742742_3759944</th>\n",
       "      <td>1:3742742-3759944</td>\n",
       "      <td>1</td>\n",
       "      <td>1</td>\n",
       "      <td>0</td>\n",
       "      <td>CTP11</td>\n",
       "      <td>chr1_3000000_3005000; chr1_3005000_3010000; ch...</td>\n",
       "    </tr>\n",
       "    <tr>\n",
       "      <th>chr1_6245958_6258969</th>\n",
       "      <td>1:6245958-6258969</td>\n",
       "      <td>2</td>\n",
       "      <td>1</td>\n",
       "      <td>1</td>\n",
       "      <td>CTP11</td>\n",
       "      <td>chr1_4245000_4250000; chr1_4250000_4255000; ch...</td>\n",
       "    </tr>\n",
       "    <tr>\n",
       "      <th>chr1_8740008_8759916</th>\n",
       "      <td>1:8740008-8759916</td>\n",
       "      <td>3</td>\n",
       "      <td>1</td>\n",
       "      <td>2</td>\n",
       "      <td>CTP11</td>\n",
       "      <td>chr1_10000000_10005000; chr1_10005000_10010000...</td>\n",
       "    </tr>\n",
       "    <tr>\n",
       "      <th>chr1_9627926_9637875</th>\n",
       "      <td>1:9627926-9637875</td>\n",
       "      <td>1</td>\n",
       "      <td>1</td>\n",
       "      <td>3</td>\n",
       "      <td>CTP13</td>\n",
       "      <td>chr1_10000000_10005000; chr1_10005000_10010000...</td>\n",
       "    </tr>\n",
       "    <tr>\n",
       "      <th>chr1_9799472_9811359</th>\n",
       "      <td>1:9799472-9811359</td>\n",
       "      <td>2</td>\n",
       "      <td>1</td>\n",
       "      <td>4</td>\n",
       "      <td>CTP13</td>\n",
       "      <td>chr1_10000000_10005000; chr1_10005000_10010000...</td>\n",
       "    </tr>\n",
       "    <tr>\n",
       "      <th>...</th>\n",
       "      <td>...</td>\n",
       "      <td>...</td>\n",
       "      <td>...</td>\n",
       "      <td>...</td>\n",
       "      <td>...</td>\n",
       "      <td>...</td>\n",
       "    </tr>\n",
       "    <tr>\n",
       "      <th>chrX_166247682_166259932</th>\n",
       "      <td>X:166247682-166259932</td>\n",
       "      <td>1059</td>\n",
       "      <td>X</td>\n",
       "      <td>60</td>\n",
       "      <td>CTP11</td>\n",
       "      <td>chrX_164250000_164255000; chrX_164255000_16426...</td>\n",
       "    </tr>\n",
       "    <tr>\n",
       "      <th>chrX_167157164_167167452</th>\n",
       "      <td>X:167157164-167167452</td>\n",
       "      <td>990</td>\n",
       "      <td>X</td>\n",
       "      <td>61</td>\n",
       "      <td>CTP13</td>\n",
       "      <td>chrX_165155000_165160000; chrX_165160000_16516...</td>\n",
       "    </tr>\n",
       "    <tr>\n",
       "      <th>chrX_168746045_168757590</th>\n",
       "      <td>X:168746045-168757590</td>\n",
       "      <td>1060</td>\n",
       "      <td>X</td>\n",
       "      <td>62</td>\n",
       "      <td>CTP11</td>\n",
       "      <td>chrX_166745000_166750000; chrX_166750000_16675...</td>\n",
       "    </tr>\n",
       "    <tr>\n",
       "      <th>chrX_169963295_170005197</th>\n",
       "      <td>X:169963295-170005197</td>\n",
       "      <td>991</td>\n",
       "      <td>X</td>\n",
       "      <td>63</td>\n",
       "      <td>CTP13</td>\n",
       "      <td>chrX_167965000_167970000; chrX_167970000_16797...</td>\n",
       "    </tr>\n",
       "    <tr>\n",
       "      <th>chrY_1245775_1259992</th>\n",
       "      <td>Y:1245775-1259992</td>\n",
       "      <td>1062</td>\n",
       "      <td>Y</td>\n",
       "      <td>0</td>\n",
       "      <td>CTP11</td>\n",
       "      <td>chrY_1000000_1005000; chrY_1005000_1010000; ch...</td>\n",
       "    </tr>\n",
       "  </tbody>\n",
       "</table>\n",
       "<p>1982 rows × 6 columns</p>\n",
       "</div>"
      ],
      "text/plain": [
       "                                           name    id chr  chr_order library  \\\n",
       "Imaged_loci                                                                    \n",
       "chr1_3742742_3759944          1:3742742-3759944     1   1          0   CTP11   \n",
       "chr1_6245958_6258969          1:6245958-6258969     2   1          1   CTP11   \n",
       "chr1_8740008_8759916          1:8740008-8759916     3   1          2   CTP11   \n",
       "chr1_9627926_9637875          1:9627926-9637875     1   1          3   CTP13   \n",
       "chr1_9799472_9811359          1:9799472-9811359     2   1          4   CTP13   \n",
       "...                                         ...   ...  ..        ...     ...   \n",
       "chrX_166247682_166259932  X:166247682-166259932  1059   X         60   CTP11   \n",
       "chrX_167157164_167167452  X:167157164-167167452   990   X         61   CTP13   \n",
       "chrX_168746045_168757590  X:168746045-168757590  1060   X         62   CTP11   \n",
       "chrX_169963295_170005197  X:169963295-170005197   991   X         63   CTP13   \n",
       "chrY_1245775_1259992          Y:1245775-1259992  1062   Y          0   CTP11   \n",
       "\n",
       "                                               adjacent_peaks_2000kb_center  \n",
       "Imaged_loci                                                                  \n",
       "chr1_3742742_3759944      chr1_3000000_3005000; chr1_3005000_3010000; ch...  \n",
       "chr1_6245958_6258969      chr1_4245000_4250000; chr1_4250000_4255000; ch...  \n",
       "chr1_8740008_8759916      chr1_10000000_10005000; chr1_10005000_10010000...  \n",
       "chr1_9627926_9637875      chr1_10000000_10005000; chr1_10005000_10010000...  \n",
       "chr1_9799472_9811359      chr1_10000000_10005000; chr1_10005000_10010000...  \n",
       "...                                                                     ...  \n",
       "chrX_166247682_166259932  chrX_164250000_164255000; chrX_164255000_16426...  \n",
       "chrX_167157164_167167452  chrX_165155000_165160000; chrX_165160000_16516...  \n",
       "chrX_168746045_168757590  chrX_166745000_166750000; chrX_166750000_16675...  \n",
       "chrX_169963295_170005197  chrX_167965000_167970000; chrX_167970000_16797...  \n",
       "chrY_1245775_1259992      chrY_1000000_1005000; chrY_1005000_1010000; ch...  \n",
       "\n",
       "[1982 rows x 6 columns]"
      ]
     },
     "execution_count": 10,
     "metadata": {},
     "output_type": "execute_result"
    }
   ],
   "source": [
    "# change index name as imaged loci to find nearby genes\n",
    "import gene_to_loci as gl\n",
    "\n",
    "imaged_loci_df = codebook_df.copy(deep=True)\n",
    "\n",
    "imaged_loci_df.index.name = 'Imaged_loci'\n",
    "imaged_loci_df = gl.direct_get_genes_near_gene_dataframe (imaged_loci_df,\n",
    "                                   codebook_df, \n",
    "                                   adjacent_gene_col = None)\n",
    "\n",
    "\n",
    "imaged_loci_df"
   ]
  },
  {
   "cell_type": "code",
   "execution_count": 11,
   "metadata": {},
   "outputs": [
    {
     "data": {
      "text/plain": [
       "Index(['name', 'id', 'chr', 'chr_order', 'library',\n",
       "       'adjacent_peaks_2000kb_center'],\n",
       "      dtype='object')"
      ]
     },
     "execution_count": 11,
     "metadata": {},
     "output_type": "execute_result"
    }
   ],
   "source": [
    "imaged_loci_df.columns"
   ]
  },
  {
   "cell_type": "markdown",
   "metadata": {},
   "source": [
    "## process for subclasses"
   ]
  },
  {
   "cell_type": "code",
   "execution_count": 12,
   "metadata": {},
   "outputs": [
    {
     "data": {
      "text/plain": [
       "['Astro',\n",
       " 'CGE',\n",
       " 'Endo',\n",
       " 'L2/3 IT',\n",
       " 'L4/5 IT',\n",
       " 'L5 ET',\n",
       " 'L5 IT',\n",
       " 'L5/6 NP',\n",
       " 'L6 CT',\n",
       " 'Micro',\n",
       " 'OPC',\n",
       " 'Oligo',\n",
       " 'Pvalb',\n",
       " 'Sst']"
      ]
     },
     "execution_count": 12,
     "metadata": {},
     "output_type": "execute_result"
    }
   ],
   "source": [
    "#groupby_adata = 'subclass_label_new'\n",
    "groupby_adata = 'cluster'\n",
    "# pass/change variable name\n",
    "adata_ori = adata\n",
    "\n",
    "np.unique(list(adata_ori.obs[groupby_adata]))\n",
    "sel_class_to_process = [c for c in np.unique(list(adata_ori.obs[groupby_adata])) if c!='nan']\n",
    "sel_class_to_process"
   ]
  },
  {
   "cell_type": "code",
   "execution_count": 13,
   "metadata": {},
   "outputs": [],
   "source": [
    "# output_folder\n",
    "output_folder = os.path.join(output_analysis_folder, r'Pairtag\\subclass')\n",
    "if not os.path.exists(output_folder):\n",
    "    os.makedirs(output_folder)\n",
    "    print ('Generate output folder')"
   ]
  },
  {
   "cell_type": "code",
   "execution_count": 14,
   "metadata": {},
   "outputs": [
    {
     "name": "stdout",
     "output_type": "stream",
     "text": [
      "Process pairtag data for Astro\n"
     ]
    },
    {
     "name": "stderr",
     "output_type": "stream",
     "text": [
      "1982it [01:24, 23.44it/s]\n"
     ]
    },
    {
     "name": "stdout",
     "output_type": "stream",
     "text": [
      "=========================================================\n",
      "Process pairtag data for CGE\n"
     ]
    },
    {
     "name": "stderr",
     "output_type": "stream",
     "text": [
      "1982it [01:18, 25.13it/s]\n"
     ]
    },
    {
     "name": "stdout",
     "output_type": "stream",
     "text": [
      "=========================================================\n",
      "Process pairtag data for Endo\n"
     ]
    },
    {
     "name": "stderr",
     "output_type": "stream",
     "text": [
      "1982it [01:10, 28.06it/s]\n"
     ]
    },
    {
     "name": "stdout",
     "output_type": "stream",
     "text": [
      "=========================================================\n",
      "Process pairtag data for L2/3 IT\n"
     ]
    },
    {
     "name": "stderr",
     "output_type": "stream",
     "text": [
      "1982it [02:12, 14.91it/s]\n"
     ]
    },
    {
     "name": "stdout",
     "output_type": "stream",
     "text": [
      "=========================================================\n",
      "Process pairtag data for L4/5 IT\n"
     ]
    },
    {
     "name": "stderr",
     "output_type": "stream",
     "text": [
      "1982it [01:37, 20.43it/s]\n"
     ]
    },
    {
     "name": "stdout",
     "output_type": "stream",
     "text": [
      "=========================================================\n",
      "Process pairtag data for L5 ET\n"
     ]
    },
    {
     "name": "stderr",
     "output_type": "stream",
     "text": [
      "1982it [01:27, 22.70it/s]\n"
     ]
    },
    {
     "name": "stdout",
     "output_type": "stream",
     "text": [
      "=========================================================\n",
      "Process pairtag data for L5 IT\n"
     ]
    },
    {
     "name": "stderr",
     "output_type": "stream",
     "text": [
      "1982it [01:52, 17.56it/s]\n"
     ]
    },
    {
     "name": "stdout",
     "output_type": "stream",
     "text": [
      "=========================================================\n",
      "Process pairtag data for L5/6 NP\n"
     ]
    },
    {
     "name": "stderr",
     "output_type": "stream",
     "text": [
      "1982it [01:10, 28.19it/s]\n"
     ]
    },
    {
     "name": "stdout",
     "output_type": "stream",
     "text": [
      "=========================================================\n",
      "Process pairtag data for L6 CT\n"
     ]
    },
    {
     "name": "stderr",
     "output_type": "stream",
     "text": [
      "1982it [01:36, 20.52it/s]\n"
     ]
    },
    {
     "name": "stdout",
     "output_type": "stream",
     "text": [
      "=========================================================\n",
      "Process pairtag data for Micro\n"
     ]
    },
    {
     "name": "stderr",
     "output_type": "stream",
     "text": [
      "1982it [01:16, 26.06it/s]\n"
     ]
    },
    {
     "name": "stdout",
     "output_type": "stream",
     "text": [
      "=========================================================\n",
      "Process pairtag data for OPC\n"
     ]
    },
    {
     "name": "stderr",
     "output_type": "stream",
     "text": [
      "1982it [01:10, 28.21it/s]\n"
     ]
    },
    {
     "name": "stdout",
     "output_type": "stream",
     "text": [
      "=========================================================\n",
      "Process pairtag data for Oligo\n"
     ]
    },
    {
     "name": "stderr",
     "output_type": "stream",
     "text": [
      "1982it [01:10, 28.02it/s]\n"
     ]
    },
    {
     "name": "stdout",
     "output_type": "stream",
     "text": [
      "=========================================================\n",
      "Process pairtag data for Pvalb\n"
     ]
    },
    {
     "name": "stderr",
     "output_type": "stream",
     "text": [
      "1982it [01:24, 23.32it/s]\n"
     ]
    },
    {
     "name": "stdout",
     "output_type": "stream",
     "text": [
      "=========================================================\n",
      "Process pairtag data for Sst\n"
     ]
    },
    {
     "name": "stderr",
     "output_type": "stream",
     "text": [
      "1982it [01:19, 24.89it/s]\n"
     ]
    },
    {
     "name": "stdout",
     "output_type": "stream",
     "text": [
      "=========================================================\n"
     ]
    }
   ],
   "source": [
    "%matplotlib inline\n",
    "\n",
    "import gene_activity\n",
    "import loci_1d_features\n",
    "from scipy import stats\n",
    "import seaborn as sns\n",
    "from tqdm import tqdm\n",
    "\n",
    "bin_size =2000 # extend both direction\n",
    "adjcent_col = f'adjacent_peaks_{bin_size}kb_center'\n",
    "activity_type = 'sum' # sum of all gene associated to a loci for each single cell\n",
    "\n",
    "expression_res_df_dict = {}\n",
    "sel_class_to_process = [c for c in np.unique(list(adata_ori.obs[groupby_adata])) if c!='nan']\n",
    "\n",
    "# simple loop\n",
    "for _group in sel_class_to_process[:]:\n",
    "    _group_fname = _group.replace('/','_').replace(' ','_')\n",
    "    \n",
    "    print (f'Process pairtag data for {_group}')\n",
    "    \n",
    "    expression_res_dict={}\n",
    "    sorted_group_order = [_group]\n",
    "\n",
    "    imaged_loci_df_group = loci_1d_features.codebook_chr_order_for_loci_dataframe (imaged_loci_df, \n",
    "                                               codebook_df, \n",
    "                                               sel_cols =['chr','chr_order','id'], \n",
    "                                               sort_df = True,\n",
    "                                               sort_by_chr=True)\n",
    "\n",
    "    loci_key_list = loci_1d_features.sorted_loci_keys_for_loci_dataframe(imaged_loci_df_group)\n",
    "    loci_ori_ind = loci_1d_features.find_chr_loci_iloc_from_loci_keys (codebook_df, loci_key_list)\n",
    "\n",
    "    # for loci along the chromosome, append the measurements for each single cell\n",
    "    for _ind, sel_loci_ind in tqdm(enumerate(imaged_loci_df_group.index.tolist()[:])):\n",
    "\n",
    "        # get adjacent gene expression (which are peaks in this case)\n",
    "        sel_genes=imaged_loci_df_group.loc[sel_loci_ind][adjcent_col].split('; ')\n",
    "        sel_adata =  adata_ori[:,adata_ori.var.index.isin(sel_genes)]\n",
    "        marker_expressions = gene_activity.gene_activity_raw_groups(sel_genes,\n",
    "                            sel_adata, \n",
    "                            sorted_group_order,\n",
    "                            groupby_adata,\n",
    "                            ref_norm_list = [],\n",
    "                            report_type =activity_type)\n",
    "\n",
    "        expression_res_dict[_ind]=list(marker_expressions[_group])\n",
    "        \n",
    "    # convert dict to df as loci by cell\n",
    "    expression_res_df = pd.DataFrame.from_dict(expression_res_dict, orient='index')\n",
    "    expression_res_df['loci_name']=codebook_df.index.tolist()\n",
    "    expression_res_df = expression_res_df.set_index ('loci_name')\n",
    "    expression_res_df_dict[_group]=expression_res_df\n",
    "    # save\n",
    "    output_df_fname = os.path.join(output_folder, f'MERFISH_loci_{target_mode}_2X_{bin_size}kb_for_{_group_fname}.csv')\n",
    "    expression_res_df.to_csv(output_df_fname)\n",
    "    print ('=========================================================')\n"
   ]
  },
  {
   "cell_type": "code",
   "execution_count": 15,
   "metadata": {},
   "outputs": [
    {
     "data": {
      "text/html": [
       "<div>\n",
       "<style scoped>\n",
       "    .dataframe tbody tr th:only-of-type {\n",
       "        vertical-align: middle;\n",
       "    }\n",
       "\n",
       "    .dataframe tbody tr th {\n",
       "        vertical-align: top;\n",
       "    }\n",
       "\n",
       "    .dataframe thead th {\n",
       "        text-align: right;\n",
       "    }\n",
       "</style>\n",
       "<table border=\"1\" class=\"dataframe\">\n",
       "  <thead>\n",
       "    <tr style=\"text-align: right;\">\n",
       "      <th></th>\n",
       "      <th>0</th>\n",
       "      <th>1</th>\n",
       "      <th>2</th>\n",
       "      <th>3</th>\n",
       "      <th>4</th>\n",
       "      <th>5</th>\n",
       "      <th>6</th>\n",
       "      <th>7</th>\n",
       "      <th>8</th>\n",
       "      <th>9</th>\n",
       "      <th>...</th>\n",
       "      <th>263</th>\n",
       "      <th>264</th>\n",
       "      <th>265</th>\n",
       "      <th>266</th>\n",
       "      <th>267</th>\n",
       "      <th>268</th>\n",
       "      <th>269</th>\n",
       "      <th>270</th>\n",
       "      <th>271</th>\n",
       "      <th>272</th>\n",
       "    </tr>\n",
       "    <tr>\n",
       "      <th>loci_name</th>\n",
       "      <th></th>\n",
       "      <th></th>\n",
       "      <th></th>\n",
       "      <th></th>\n",
       "      <th></th>\n",
       "      <th></th>\n",
       "      <th></th>\n",
       "      <th></th>\n",
       "      <th></th>\n",
       "      <th></th>\n",
       "      <th></th>\n",
       "      <th></th>\n",
       "      <th></th>\n",
       "      <th></th>\n",
       "      <th></th>\n",
       "      <th></th>\n",
       "      <th></th>\n",
       "      <th></th>\n",
       "      <th></th>\n",
       "      <th></th>\n",
       "      <th></th>\n",
       "    </tr>\n",
       "  </thead>\n",
       "  <tbody>\n",
       "    <tr>\n",
       "      <th>chr1_3742742_3759944</th>\n",
       "      <td>6.0</td>\n",
       "      <td>4.0</td>\n",
       "      <td>0.0</td>\n",
       "      <td>2.0</td>\n",
       "      <td>5.0</td>\n",
       "      <td>0.0</td>\n",
       "      <td>14.0</td>\n",
       "      <td>6.0</td>\n",
       "      <td>1.0</td>\n",
       "      <td>5.0</td>\n",
       "      <td>...</td>\n",
       "      <td>35.0</td>\n",
       "      <td>15.0</td>\n",
       "      <td>4.0</td>\n",
       "      <td>0.0</td>\n",
       "      <td>3.0</td>\n",
       "      <td>6.0</td>\n",
       "      <td>0.0</td>\n",
       "      <td>0.0</td>\n",
       "      <td>5.0</td>\n",
       "      <td>0.0</td>\n",
       "    </tr>\n",
       "    <tr>\n",
       "      <th>chr1_6245958_6258969</th>\n",
       "      <td>4.0</td>\n",
       "      <td>10.0</td>\n",
       "      <td>7.0</td>\n",
       "      <td>28.0</td>\n",
       "      <td>16.0</td>\n",
       "      <td>5.0</td>\n",
       "      <td>19.0</td>\n",
       "      <td>11.0</td>\n",
       "      <td>2.0</td>\n",
       "      <td>5.0</td>\n",
       "      <td>...</td>\n",
       "      <td>69.0</td>\n",
       "      <td>37.0</td>\n",
       "      <td>7.0</td>\n",
       "      <td>10.0</td>\n",
       "      <td>16.0</td>\n",
       "      <td>15.0</td>\n",
       "      <td>4.0</td>\n",
       "      <td>2.0</td>\n",
       "      <td>23.0</td>\n",
       "      <td>5.0</td>\n",
       "    </tr>\n",
       "    <tr>\n",
       "      <th>chr1_8740008_8759916</th>\n",
       "      <td>6.0</td>\n",
       "      <td>4.0</td>\n",
       "      <td>3.0</td>\n",
       "      <td>23.0</td>\n",
       "      <td>7.0</td>\n",
       "      <td>5.0</td>\n",
       "      <td>7.0</td>\n",
       "      <td>11.0</td>\n",
       "      <td>3.0</td>\n",
       "      <td>1.0</td>\n",
       "      <td>...</td>\n",
       "      <td>34.0</td>\n",
       "      <td>27.0</td>\n",
       "      <td>8.0</td>\n",
       "      <td>17.0</td>\n",
       "      <td>25.0</td>\n",
       "      <td>13.0</td>\n",
       "      <td>8.0</td>\n",
       "      <td>3.0</td>\n",
       "      <td>11.0</td>\n",
       "      <td>4.0</td>\n",
       "    </tr>\n",
       "    <tr>\n",
       "      <th>chr1_9627926_9637875</th>\n",
       "      <td>7.0</td>\n",
       "      <td>2.0</td>\n",
       "      <td>5.0</td>\n",
       "      <td>15.0</td>\n",
       "      <td>4.0</td>\n",
       "      <td>6.0</td>\n",
       "      <td>7.0</td>\n",
       "      <td>12.0</td>\n",
       "      <td>3.0</td>\n",
       "      <td>1.0</td>\n",
       "      <td>...</td>\n",
       "      <td>20.0</td>\n",
       "      <td>19.0</td>\n",
       "      <td>9.0</td>\n",
       "      <td>20.0</td>\n",
       "      <td>16.0</td>\n",
       "      <td>11.0</td>\n",
       "      <td>8.0</td>\n",
       "      <td>2.0</td>\n",
       "      <td>12.0</td>\n",
       "      <td>4.0</td>\n",
       "    </tr>\n",
       "    <tr>\n",
       "      <th>chr1_9799472_9811359</th>\n",
       "      <td>7.0</td>\n",
       "      <td>2.0</td>\n",
       "      <td>5.0</td>\n",
       "      <td>15.0</td>\n",
       "      <td>4.0</td>\n",
       "      <td>6.0</td>\n",
       "      <td>7.0</td>\n",
       "      <td>12.0</td>\n",
       "      <td>2.0</td>\n",
       "      <td>1.0</td>\n",
       "      <td>...</td>\n",
       "      <td>20.0</td>\n",
       "      <td>18.0</td>\n",
       "      <td>9.0</td>\n",
       "      <td>19.0</td>\n",
       "      <td>16.0</td>\n",
       "      <td>11.0</td>\n",
       "      <td>8.0</td>\n",
       "      <td>1.0</td>\n",
       "      <td>7.0</td>\n",
       "      <td>4.0</td>\n",
       "    </tr>\n",
       "  </tbody>\n",
       "</table>\n",
       "<p>5 rows × 273 columns</p>\n",
       "</div>"
      ],
      "text/plain": [
       "                      0     1    2     3     4    5     6     7    8    9    \\\n",
       "loci_name                                                                     \n",
       "chr1_3742742_3759944  6.0   4.0  0.0   2.0   5.0  0.0  14.0   6.0  1.0  5.0   \n",
       "chr1_6245958_6258969  4.0  10.0  7.0  28.0  16.0  5.0  19.0  11.0  2.0  5.0   \n",
       "chr1_8740008_8759916  6.0   4.0  3.0  23.0   7.0  5.0   7.0  11.0  3.0  1.0   \n",
       "chr1_9627926_9637875  7.0   2.0  5.0  15.0   4.0  6.0   7.0  12.0  3.0  1.0   \n",
       "chr1_9799472_9811359  7.0   2.0  5.0  15.0   4.0  6.0   7.0  12.0  2.0  1.0   \n",
       "\n",
       "                      ...   263   264  265   266   267   268  269  270   271  \\\n",
       "loci_name             ...                                                      \n",
       "chr1_3742742_3759944  ...  35.0  15.0  4.0   0.0   3.0   6.0  0.0  0.0   5.0   \n",
       "chr1_6245958_6258969  ...  69.0  37.0  7.0  10.0  16.0  15.0  4.0  2.0  23.0   \n",
       "chr1_8740008_8759916  ...  34.0  27.0  8.0  17.0  25.0  13.0  8.0  3.0  11.0   \n",
       "chr1_9627926_9637875  ...  20.0  19.0  9.0  20.0  16.0  11.0  8.0  2.0  12.0   \n",
       "chr1_9799472_9811359  ...  20.0  18.0  9.0  19.0  16.0  11.0  8.0  1.0   7.0   \n",
       "\n",
       "                      272  \n",
       "loci_name                  \n",
       "chr1_3742742_3759944  0.0  \n",
       "chr1_6245958_6258969  5.0  \n",
       "chr1_8740008_8759916  4.0  \n",
       "chr1_9627926_9637875  4.0  \n",
       "chr1_9799472_9811359  4.0  \n",
       "\n",
       "[5 rows x 273 columns]"
      ]
     },
     "execution_count": 15,
     "metadata": {},
     "output_type": "execute_result"
    }
   ],
   "source": [
    "expression_res_df.head()"
   ]
  }
 ],
 "metadata": {
  "kernelspec": {
   "display_name": "Python 3 (ipykernel)",
   "language": "python",
   "name": "python3"
  },
  "language_info": {
   "codemirror_mode": {
    "name": "ipython",
    "version": 3
   },
   "file_extension": ".py",
   "mimetype": "text/x-python",
   "name": "python",
   "nbconvert_exporter": "python",
   "pygments_lexer": "ipython3",
   "version": "3.10.8"
  },
  "toc": {
   "base_numbering": 1,
   "nav_menu": {},
   "number_sections": true,
   "sideBar": true,
   "skip_h1_title": false,
   "title_cell": "Table of Contents",
   "title_sidebar": "Contents",
   "toc_cell": false,
   "toc_position": {
    "height": "calc(100% - 180px)",
    "left": "10px",
    "top": "150px",
    "width": "307.2px"
   },
   "toc_section_display": true,
   "toc_window_display": true
  }
 },
 "nbformat": 4,
 "nbformat_minor": 4
}
