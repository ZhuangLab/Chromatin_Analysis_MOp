{
 "cells": [
  {
   "cell_type": "markdown",
   "metadata": {},
   "source": [
    "# Import module"
   ]
  },
  {
   "cell_type": "markdown",
   "metadata": {},
   "source": [
    "The link to get [ImageAnalysis3](https://github.com/zhengpuas47/ImageAnalysis3) \n",
    "\n",
    "Or from the Zhuang lab archived [source_tools](https://github.com/ZhuangLab/Chromatin_Analysis_2020_cell/tree/master/sequential_tracing/source)"
   ]
  },
  {
   "cell_type": "markdown",
   "metadata": {},
   "source": [
    "## ImageAnalysis3 and basic modules"
   ]
  },
  {
   "cell_type": "code",
   "execution_count": 1,
   "metadata": {},
   "outputs": [
    {
     "name": "stdout",
     "output_type": "stream",
     "text": [
      "23588\n"
     ]
    }
   ],
   "source": [
    "%run \"C:\\Users\\shiwei\\Documents\\ImageAnalysis3\\required_files\\Startup_py3.py\"\n",
    "sys.path.append(r\"C:\\Users\\shiwei\\Documents\")\n",
    "\n",
    "import ImageAnalysis3 as ia\n",
    "from ImageAnalysis3 import *\n",
    "from ImageAnalysis3.classes import _allowed_kwds\n",
    "\n",
    "import h5py\n",
    "import ast\n",
    "import pandas as pd\n",
    "\n",
    "print(os.getpid())"
   ]
  },
  {
   "cell_type": "markdown",
   "metadata": {},
   "source": [
    "## Chromatin_analysis_tools etc"
   ]
  },
  {
   "cell_type": "markdown",
   "metadata": {},
   "source": [
    "See **functions** in the repository for [AnalysisTool_Chromatin](../../README.md)"
   ]
  },
  {
   "cell_type": "code",
   "execution_count": 2,
   "metadata": {},
   "outputs": [
    {
     "data": {
      "text/plain": [
       "<module 'atac_to_loci' from 'C:\\\\Users\\\\shiwei\\\\Documents\\\\AnalysisTool_Chromatin\\\\atac_to_loci.py'>"
      ]
     },
     "execution_count": 2,
     "metadata": {},
     "output_type": "execute_result"
    }
   ],
   "source": [
    "# Chromatin_analysis_tools (ATC)\n",
    "# Get path for the py containing functions\n",
    "import os\n",
    "import sys\n",
    "import importlib\n",
    "module_path =r'C:\\Users\\shiwei\\Documents\\AnalysisTool_Chromatin'\n",
    "if module_path not in sys.path:\n",
    "    sys.path.append(module_path)\n",
    "    \n",
    "# import relevant modules\n",
    "import gene_selection \n",
    "importlib.reload(gene_selection)\n",
    "import gene_to_loci\n",
    "importlib.reload(gene_to_loci)\n",
    "import gene_activity\n",
    "importlib.reload(gene_activity)\n",
    "import loci_1d_features\n",
    "importlib.reload(loci_1d_features)  \n",
    "\n",
    "import atac_to_loci\n",
    "importlib.reload(atac_to_loci)"
   ]
  },
  {
   "cell_type": "markdown",
   "metadata": {},
   "source": [
    "# Define folders"
   ]
  },
  {
   "cell_type": "code",
   "execution_count": 3,
   "metadata": {},
   "outputs": [
    {
     "name": "stdout",
     "output_type": "stream",
     "text": [
      "Use existing analysis folder: L:\\Shiwei\\postanalysis_2024\\v0\\locus_annotation\\analysis.\n",
      "Use existing figure folder: L:\\Shiwei\\postanalysis_2024\\v0\\locus_annotation\\figures.\n"
     ]
    }
   ],
   "source": [
    "# main folder for postanalysis\n",
    "postanalysis_folder = r'L:\\Shiwei\\postanalysis_2024\\v0'\n",
    "# input files for postanalysis\n",
    "input_folder = os.path.join(postanalysis_folder, 'resources_from_preprocess')\n",
    "\n",
    "# output file to be generated\n",
    "output_main_folder = os.path.join(postanalysis_folder, 'locus_annotation')\n",
    "\n",
    "output_analysis_folder = os.path.join(output_main_folder, 'analysis')\n",
    "output_figure_folder = os.path.join(output_main_folder, 'figures')\n",
    "\n",
    "# make new folder if needed\n",
    "make_output_folder = True\n",
    "\n",
    "if make_output_folder and not os.path.exists(output_analysis_folder):\n",
    "    os.makedirs(output_analysis_folder)\n",
    "    print(f'Generating analysis folder: {output_analysis_folder}.')\n",
    "elif os.path.exists(output_analysis_folder):\n",
    "    print(f'Use existing analysis folder: {output_analysis_folder}.')\n",
    "    \n",
    "if make_output_folder and not os.path.exists(output_figure_folder):\n",
    "    os.makedirs(output_figure_folder)\n",
    "    print(f'Generating figure folder: {output_figure_folder}.')\n",
    "elif os.path.exists(output_figure_folder):\n",
    "    print(f'Use existing figure folder: {output_figure_folder}.')"
   ]
  },
  {
   "cell_type": "markdown",
   "metadata": {},
   "source": [
    "# Plotting parameters"
   ]
  },
  {
   "cell_type": "code",
   "execution_count": 4,
   "metadata": {},
   "outputs": [],
   "source": [
    "%matplotlib inline\n",
    "import matplotlib\n",
    "matplotlib.rcParams['pdf.fonttype'] = 42\n",
    "import matplotlib.pyplot as plt\n",
    "plt.rc('font', family='serif')\n",
    "plt.rc('font', serif='Arial')\n",
    "\n",
    "from ImageAnalysis3.figure_tools import _double_col_width, _single_col_width, _font_size, _ticklabel_size,_ticklabel_width\n",
    "\n",
    "import seaborn as sns\n",
    "sns.set_context(\"paper\", rc={\"font.size\":_font_size,\"axes.titlesize\":_font_size+1,\"axes.labelsize\":_font_size})  "
   ]
  },
  {
   "cell_type": "markdown",
   "metadata": {},
   "source": [
    "# Load data relevant information"
   ]
  },
  {
   "cell_type": "markdown",
   "metadata": {},
   "source": [
    "## load codebook with peak annotation\n",
    "\n",
    "annotated codebook can be generated similarly with ATAC data using the notebook below:\n",
    "\n",
    "\n",
    "[external/scripts/pair_tag/2_adjacent_h3k27me3_peak_annotation_for_merfish_loci](../../../external/scripts/pair_tag/2_adjacent_h3k27me3_peak_annotation_for_merfish_loci.ipynb)\n",
    "\n",
    "information related to ATAC can be found from the folder in the repository:\n",
    "[ATACseq_MOp_folder](../../../external/scripts/sn_atac)"
   ]
  },
  {
   "cell_type": "code",
   "execution_count": 5,
   "metadata": {},
   "outputs": [
    {
     "data": {
      "text/html": [
       "<div>\n",
       "<style scoped>\n",
       "    .dataframe tbody tr th:only-of-type {\n",
       "        vertical-align: middle;\n",
       "    }\n",
       "\n",
       "    .dataframe tbody tr th {\n",
       "        vertical-align: top;\n",
       "    }\n",
       "\n",
       "    .dataframe thead th {\n",
       "        text-align: right;\n",
       "    }\n",
       "</style>\n",
       "<table border=\"1\" class=\"dataframe\">\n",
       "  <thead>\n",
       "    <tr style=\"text-align: right;\">\n",
       "      <th></th>\n",
       "      <th>name</th>\n",
       "      <th>id</th>\n",
       "      <th>chr</th>\n",
       "      <th>chr_order</th>\n",
       "      <th>library</th>\n",
       "      <th>adjacent_peaks_0kb_center</th>\n",
       "      <th>adjacent_peaks_50kb_center</th>\n",
       "      <th>adjacent_peaks_100kb_center</th>\n",
       "      <th>adjacent_peaks_500kb_center</th>\n",
       "      <th>adjacent_peaks_1000kb_center</th>\n",
       "      <th>adjacent_peaks_2000kb_center</th>\n",
       "    </tr>\n",
       "    <tr>\n",
       "      <th>loci_name</th>\n",
       "      <th></th>\n",
       "      <th></th>\n",
       "      <th></th>\n",
       "      <th></th>\n",
       "      <th></th>\n",
       "      <th></th>\n",
       "      <th></th>\n",
       "      <th></th>\n",
       "      <th></th>\n",
       "      <th></th>\n",
       "      <th></th>\n",
       "    </tr>\n",
       "  </thead>\n",
       "  <tbody>\n",
       "    <tr>\n",
       "      <th>chr1_3742742_3759944</th>\n",
       "      <td>1:3742742-3759944</td>\n",
       "      <td>1</td>\n",
       "      <td>1</td>\n",
       "      <td>0</td>\n",
       "      <td>CTP11</td>\n",
       "      <td>chr1_3745001_3750000; chr1_3750001_3755000; ch...</td>\n",
       "      <td>chr1_3695001_3700000; chr1_3700001_3705000; ch...</td>\n",
       "      <td>chr1_3645001_3650000; chr1_3650001_3655000; ch...</td>\n",
       "      <td>chr1_3245001_3250000; chr1_3250001_3255000; ch...</td>\n",
       "      <td>chr1_3000001_3005000; chr1_3005001_3010000; ch...</td>\n",
       "      <td>chr1_3000001_3005000; chr1_3005001_3010000; ch...</td>\n",
       "    </tr>\n",
       "    <tr>\n",
       "      <th>chr1_6245958_6258969</th>\n",
       "      <td>1:6245958-6258969</td>\n",
       "      <td>2</td>\n",
       "      <td>1</td>\n",
       "      <td>1</td>\n",
       "      <td>CTP11</td>\n",
       "      <td>chr1_6245001_6250000; chr1_6250001_6255000; ch...</td>\n",
       "      <td>chr1_6195001_6200000; chr1_6200001_6205000; ch...</td>\n",
       "      <td>chr1_6145001_6150000; chr1_6150001_6155000; ch...</td>\n",
       "      <td>chr1_5745001_5750000; chr1_5750001_5755000; ch...</td>\n",
       "      <td>chr1_5245001_5250000; chr1_5250001_5255000; ch...</td>\n",
       "      <td>chr1_4245001_4250000; chr1_4250001_4255000; ch...</td>\n",
       "    </tr>\n",
       "    <tr>\n",
       "      <th>chr1_8740008_8759916</th>\n",
       "      <td>1:8740008-8759916</td>\n",
       "      <td>3</td>\n",
       "      <td>1</td>\n",
       "      <td>2</td>\n",
       "      <td>CTP11</td>\n",
       "      <td>chr1_8740001_8745000; chr1_8745001_8750000; ch...</td>\n",
       "      <td>chr1_8695001_8700000; chr1_8700001_8705000; ch...</td>\n",
       "      <td>chr1_8640001_8645000; chr1_8645001_8650000; ch...</td>\n",
       "      <td>chr1_8240001_8245000; chr1_8245001_8250000; ch...</td>\n",
       "      <td>chr1_7740001_7745000; chr1_7745001_7750000; ch...</td>\n",
       "      <td>chr1_6740001_6745000; chr1_6745001_6750000; ch...</td>\n",
       "    </tr>\n",
       "    <tr>\n",
       "      <th>chr1_9627926_9637875</th>\n",
       "      <td>1:9627926-9637875</td>\n",
       "      <td>1</td>\n",
       "      <td>1</td>\n",
       "      <td>3</td>\n",
       "      <td>CTP13</td>\n",
       "      <td>chr1_9635001_9640000</td>\n",
       "      <td>chr1_9580001_9585000; chr1_9585001_9590000; ch...</td>\n",
       "      <td>chr1_9530001_9535000; chr1_9535001_9540000; ch...</td>\n",
       "      <td>chr1_9130001_9135000; chr1_9135001_9140000; ch...</td>\n",
       "      <td>chr1_8630001_8635000; chr1_8635001_8640000; ch...</td>\n",
       "      <td>chr1_7630001_7635000; chr1_7635001_7640000; ch...</td>\n",
       "    </tr>\n",
       "    <tr>\n",
       "      <th>chr1_9799472_9811359</th>\n",
       "      <td>1:9799472-9811359</td>\n",
       "      <td>2</td>\n",
       "      <td>1</td>\n",
       "      <td>4</td>\n",
       "      <td>CTP13</td>\n",
       "      <td>chr1_9800001_9805000; chr1_9805001_9810000</td>\n",
       "      <td>chr1_9750001_9755000; chr1_9755001_9760000; ch...</td>\n",
       "      <td>chr1_9705001_9710000; chr1_9710001_9715000; ch...</td>\n",
       "      <td>chr1_9300001_9305000; chr1_9305001_9310000; ch...</td>\n",
       "      <td>chr1_8800001_8805000; chr1_8805001_8810000; ch...</td>\n",
       "      <td>chr1_7800001_7805000; chr1_7805001_7810000; ch...</td>\n",
       "    </tr>\n",
       "  </tbody>\n",
       "</table>\n",
       "</div>"
      ],
      "text/plain": [
       "                                   name id chr  chr_order library  \\\n",
       "loci_name                                                           \n",
       "chr1_3742742_3759944  1:3742742-3759944  1   1          0   CTP11   \n",
       "chr1_6245958_6258969  1:6245958-6258969  2   1          1   CTP11   \n",
       "chr1_8740008_8759916  1:8740008-8759916  3   1          2   CTP11   \n",
       "chr1_9627926_9637875  1:9627926-9637875  1   1          3   CTP13   \n",
       "chr1_9799472_9811359  1:9799472-9811359  2   1          4   CTP13   \n",
       "\n",
       "                                              adjacent_peaks_0kb_center  \\\n",
       "loci_name                                                                 \n",
       "chr1_3742742_3759944  chr1_3745001_3750000; chr1_3750001_3755000; ch...   \n",
       "chr1_6245958_6258969  chr1_6245001_6250000; chr1_6250001_6255000; ch...   \n",
       "chr1_8740008_8759916  chr1_8740001_8745000; chr1_8745001_8750000; ch...   \n",
       "chr1_9627926_9637875                               chr1_9635001_9640000   \n",
       "chr1_9799472_9811359         chr1_9800001_9805000; chr1_9805001_9810000   \n",
       "\n",
       "                                             adjacent_peaks_50kb_center  \\\n",
       "loci_name                                                                 \n",
       "chr1_3742742_3759944  chr1_3695001_3700000; chr1_3700001_3705000; ch...   \n",
       "chr1_6245958_6258969  chr1_6195001_6200000; chr1_6200001_6205000; ch...   \n",
       "chr1_8740008_8759916  chr1_8695001_8700000; chr1_8700001_8705000; ch...   \n",
       "chr1_9627926_9637875  chr1_9580001_9585000; chr1_9585001_9590000; ch...   \n",
       "chr1_9799472_9811359  chr1_9750001_9755000; chr1_9755001_9760000; ch...   \n",
       "\n",
       "                                            adjacent_peaks_100kb_center  \\\n",
       "loci_name                                                                 \n",
       "chr1_3742742_3759944  chr1_3645001_3650000; chr1_3650001_3655000; ch...   \n",
       "chr1_6245958_6258969  chr1_6145001_6150000; chr1_6150001_6155000; ch...   \n",
       "chr1_8740008_8759916  chr1_8640001_8645000; chr1_8645001_8650000; ch...   \n",
       "chr1_9627926_9637875  chr1_9530001_9535000; chr1_9535001_9540000; ch...   \n",
       "chr1_9799472_9811359  chr1_9705001_9710000; chr1_9710001_9715000; ch...   \n",
       "\n",
       "                                            adjacent_peaks_500kb_center  \\\n",
       "loci_name                                                                 \n",
       "chr1_3742742_3759944  chr1_3245001_3250000; chr1_3250001_3255000; ch...   \n",
       "chr1_6245958_6258969  chr1_5745001_5750000; chr1_5750001_5755000; ch...   \n",
       "chr1_8740008_8759916  chr1_8240001_8245000; chr1_8245001_8250000; ch...   \n",
       "chr1_9627926_9637875  chr1_9130001_9135000; chr1_9135001_9140000; ch...   \n",
       "chr1_9799472_9811359  chr1_9300001_9305000; chr1_9305001_9310000; ch...   \n",
       "\n",
       "                                           adjacent_peaks_1000kb_center  \\\n",
       "loci_name                                                                 \n",
       "chr1_3742742_3759944  chr1_3000001_3005000; chr1_3005001_3010000; ch...   \n",
       "chr1_6245958_6258969  chr1_5245001_5250000; chr1_5250001_5255000; ch...   \n",
       "chr1_8740008_8759916  chr1_7740001_7745000; chr1_7745001_7750000; ch...   \n",
       "chr1_9627926_9637875  chr1_8630001_8635000; chr1_8635001_8640000; ch...   \n",
       "chr1_9799472_9811359  chr1_8800001_8805000; chr1_8805001_8810000; ch...   \n",
       "\n",
       "                                           adjacent_peaks_2000kb_center  \n",
       "loci_name                                                                \n",
       "chr1_3742742_3759944  chr1_3000001_3005000; chr1_3005001_3010000; ch...  \n",
       "chr1_6245958_6258969  chr1_4245001_4250000; chr1_4250001_4255000; ch...  \n",
       "chr1_8740008_8759916  chr1_6740001_6745000; chr1_6745001_6750000; ch...  \n",
       "chr1_9627926_9637875  chr1_7630001_7635000; chr1_7635001_7640000; ch...  \n",
       "chr1_9799472_9811359  chr1_7800001_7805000; chr1_7805001_7810000; ch...  "
      ]
     },
     "execution_count": 5,
     "metadata": {},
     "output_type": "execute_result"
    }
   ],
   "source": [
    "# load codebook\n",
    "codebook_folder = output_analysis_folder\n",
    "\n",
    "# Load codebook and sort\n",
    "codebook_fname = os.path.join(codebook_folder,'MERFISH_loci_adjacent_peaks_center.csv')\n",
    "codebook_df = pd.read_csv (codebook_fname, index_col=0)\n",
    "codebook_df = loci_1d_features.sort_loci_df_by_chr_order (codebook_df)\n",
    "\n",
    "codebook_df.head()"
   ]
  },
  {
   "cell_type": "markdown",
   "metadata": {},
   "source": [
    "## load analyzed ATACseq annData\n",
    "\n",
    "Data can be generated from the notebook (after transfer the cell labels to filtered data):\n",
    "\n",
    "[external/scripts/sn_atac/3_label_atac_anndata_mop_episcanpy](../../../external/scripts/sn_atac/3_label_atac_anndata_mop_episcanpy.ipynb)"
   ]
  },
  {
   "cell_type": "code",
   "execution_count": 6,
   "metadata": {},
   "outputs": [],
   "source": [
    "# Get loaded adata from other notebook\n",
    "import os\n",
    "import scanpy as sc\n",
    "# L drive is Crick Pu_SSD_0\n",
    "scRNA_folder = r'L:\\Shiwei\\DNA_MERFISH_analysis\\Analysis_MOp_methylation_ATAC\\data\\processed_2024'\n",
    "# load from here for saved h5ad\n",
    "#adata = sc.read(os.path.join(scRNA_folder,r'MOp_ATAC_combined_preprocessed.h5ad'))\n",
    "adata = sc.read(os.path.join(scRNA_folder,r'MOp_ATAC_combined_labeled.h5ad'))"
   ]
  },
  {
   "cell_type": "code",
   "execution_count": 9,
   "metadata": {},
   "outputs": [
    {
     "name": "stdout",
     "output_type": "stream",
     "text": [
      "4.146\n",
      "1.0\n",
      "1.6382197\n",
      "1.0\n"
     ]
    }
   ],
   "source": [
    "# inspect peak count of the h5ad\n",
    "print(np.max(adata.layers['normalized']))\n",
    "print(np.max(adata.layers['binary']))\n",
    "print(np.max(adata.X))\n",
    "\n",
    "# use all vars\n",
    "adata_ori = adata.raw.to_adata()\n",
    "print(np.max(adata_ori.X))"
   ]
  },
  {
   "cell_type": "code",
   "execution_count": 10,
   "metadata": {},
   "outputs": [
    {
     "data": {
      "text/html": [
       "<div>\n",
       "<style scoped>\n",
       "    .dataframe tbody tr th:only-of-type {\n",
       "        vertical-align: middle;\n",
       "    }\n",
       "\n",
       "    .dataframe tbody tr th {\n",
       "        vertical-align: top;\n",
       "    }\n",
       "\n",
       "    .dataframe thead th {\n",
       "        text-align: right;\n",
       "    }\n",
       "</style>\n",
       "<table border=\"1\" class=\"dataframe\">\n",
       "  <thead>\n",
       "    <tr style=\"text-align: right;\">\n",
       "      <th></th>\n",
       "      <th>barcode</th>\n",
       "      <th>TN</th>\n",
       "      <th>UM</th>\n",
       "      <th>PP</th>\n",
       "      <th>UQ</th>\n",
       "      <th>CM</th>\n",
       "      <th>file</th>\n",
       "      <th>sample</th>\n",
       "      <th>nb_features</th>\n",
       "      <th>log_nb_features</th>\n",
       "      <th>cluster</th>\n",
       "      <th>leiden</th>\n",
       "      <th>subclass_label_new</th>\n",
       "      <th>class_label_new</th>\n",
       "      <th>neuron_identity</th>\n",
       "    </tr>\n",
       "  </thead>\n",
       "  <tbody>\n",
       "    <tr>\n",
       "      <th>4</th>\n",
       "      <td>AGCGATAGAACCAGGTAGGATAACATAGAGGC</td>\n",
       "      <td>19152.0</td>\n",
       "      <td>17586.0</td>\n",
       "      <td>17545.0</td>\n",
       "      <td>8348.0</td>\n",
       "      <td>0.0</td>\n",
       "      <td>E:\\DNA-MERFISH_analysis\\Analysis_MOp_methylati...</td>\n",
       "      <td>atac_1</td>\n",
       "      <td>4047</td>\n",
       "      <td>3.609594</td>\n",
       "      <td>L5.IT.b</td>\n",
       "      <td>3</td>\n",
       "      <td>L5 IT</td>\n",
       "      <td>Gluta</td>\n",
       "      <td>Neuronal</td>\n",
       "    </tr>\n",
       "    <tr>\n",
       "      <th>5</th>\n",
       "      <td>AGCGATAGAACCAGGTATAGCCTTAGGCGAAG</td>\n",
       "      <td>14876.0</td>\n",
       "      <td>13837.0</td>\n",
       "      <td>13801.0</td>\n",
       "      <td>6583.0</td>\n",
       "      <td>0.0</td>\n",
       "      <td>E:\\DNA-MERFISH_analysis\\Analysis_MOp_methylati...</td>\n",
       "      <td>atac_1</td>\n",
       "      <td>3585</td>\n",
       "      <td>3.555094</td>\n",
       "      <td>L6.CT</td>\n",
       "      <td>18</td>\n",
       "      <td>L6 CT</td>\n",
       "      <td>Gluta</td>\n",
       "      <td>Neuronal</td>\n",
       "    </tr>\n",
       "    <tr>\n",
       "      <th>6</th>\n",
       "      <td>AGCGATAGAACCAGGTATAGCCTTATAGAGGC</td>\n",
       "      <td>28532.0</td>\n",
       "      <td>26303.0</td>\n",
       "      <td>26202.0</td>\n",
       "      <td>12437.0</td>\n",
       "      <td>0.0</td>\n",
       "      <td>E:\\DNA-MERFISH_analysis\\Analysis_MOp_methylati...</td>\n",
       "      <td>atac_1</td>\n",
       "      <td>8088</td>\n",
       "      <td>3.908646</td>\n",
       "      <td>L6.IT</td>\n",
       "      <td>7</td>\n",
       "      <td>L6 IT</td>\n",
       "      <td>Gluta</td>\n",
       "      <td>Neuronal</td>\n",
       "    </tr>\n",
       "    <tr>\n",
       "      <th>8</th>\n",
       "      <td>AGCGATAGAACCAGGTATAGCCTTGTACTGAC</td>\n",
       "      <td>46202.0</td>\n",
       "      <td>42880.0</td>\n",
       "      <td>42723.0</td>\n",
       "      <td>20345.0</td>\n",
       "      <td>0.0</td>\n",
       "      <td>E:\\DNA-MERFISH_analysis\\Analysis_MOp_methylati...</td>\n",
       "      <td>atac_1</td>\n",
       "      <td>11948</td>\n",
       "      <td>4.078094</td>\n",
       "      <td>L5.IT.b</td>\n",
       "      <td>7</td>\n",
       "      <td>L5 IT</td>\n",
       "      <td>Gluta</td>\n",
       "      <td>Neuronal</td>\n",
       "    </tr>\n",
       "    <tr>\n",
       "      <th>9</th>\n",
       "      <td>AGCGATAGAACCAGGTATTCGTTGTAATCTTA</td>\n",
       "      <td>3007.0</td>\n",
       "      <td>2655.0</td>\n",
       "      <td>2645.0</td>\n",
       "      <td>1341.0</td>\n",
       "      <td>0.0</td>\n",
       "      <td>E:\\DNA-MERFISH_analysis\\Analysis_MOp_methylati...</td>\n",
       "      <td>atac_1</td>\n",
       "      <td>729</td>\n",
       "      <td>2.863323</td>\n",
       "      <td>L23.a</td>\n",
       "      <td>21</td>\n",
       "      <td>L2/3 IT</td>\n",
       "      <td>Gluta</td>\n",
       "      <td>Neuronal</td>\n",
       "    </tr>\n",
       "  </tbody>\n",
       "</table>\n",
       "</div>"
      ],
      "text/plain": [
       "                            barcode       TN       UM       PP       UQ   CM  \\\n",
       "4  AGCGATAGAACCAGGTAGGATAACATAGAGGC  19152.0  17586.0  17545.0   8348.0  0.0   \n",
       "5  AGCGATAGAACCAGGTATAGCCTTAGGCGAAG  14876.0  13837.0  13801.0   6583.0  0.0   \n",
       "6  AGCGATAGAACCAGGTATAGCCTTATAGAGGC  28532.0  26303.0  26202.0  12437.0  0.0   \n",
       "8  AGCGATAGAACCAGGTATAGCCTTGTACTGAC  46202.0  42880.0  42723.0  20345.0  0.0   \n",
       "9  AGCGATAGAACCAGGTATTCGTTGTAATCTTA   3007.0   2655.0   2645.0   1341.0  0.0   \n",
       "\n",
       "                                                file  sample  nb_features  \\\n",
       "4  E:\\DNA-MERFISH_analysis\\Analysis_MOp_methylati...  atac_1         4047   \n",
       "5  E:\\DNA-MERFISH_analysis\\Analysis_MOp_methylati...  atac_1         3585   \n",
       "6  E:\\DNA-MERFISH_analysis\\Analysis_MOp_methylati...  atac_1         8088   \n",
       "8  E:\\DNA-MERFISH_analysis\\Analysis_MOp_methylati...  atac_1        11948   \n",
       "9  E:\\DNA-MERFISH_analysis\\Analysis_MOp_methylati...  atac_1          729   \n",
       "\n",
       "   log_nb_features  cluster leiden subclass_label_new class_label_new  \\\n",
       "4         3.609594  L5.IT.b      3              L5 IT           Gluta   \n",
       "5         3.555094    L6.CT     18              L6 CT           Gluta   \n",
       "6         3.908646    L6.IT      7              L6 IT           Gluta   \n",
       "8         4.078094  L5.IT.b      7              L5 IT           Gluta   \n",
       "9         2.863323    L23.a     21            L2/3 IT           Gluta   \n",
       "\n",
       "  neuron_identity  \n",
       "4        Neuronal  \n",
       "5        Neuronal  \n",
       "6        Neuronal  \n",
       "8        Neuronal  \n",
       "9        Neuronal  "
      ]
     },
     "execution_count": 10,
     "metadata": {},
     "output_type": "execute_result"
    }
   ],
   "source": [
    "adata.obs.head()"
   ]
  },
  {
   "cell_type": "code",
   "execution_count": 11,
   "metadata": {},
   "outputs": [
    {
     "data": {
      "text/html": [
       "<div>\n",
       "<style scoped>\n",
       "    .dataframe tbody tr th:only-of-type {\n",
       "        vertical-align: middle;\n",
       "    }\n",
       "\n",
       "    .dataframe tbody tr th {\n",
       "        vertical-align: top;\n",
       "    }\n",
       "\n",
       "    .dataframe thead th {\n",
       "        text-align: right;\n",
       "    }\n",
       "</style>\n",
       "<table border=\"1\" class=\"dataframe\">\n",
       "  <thead>\n",
       "    <tr style=\"text-align: right;\">\n",
       "      <th></th>\n",
       "      <th>name</th>\n",
       "      <th>transcript_annotation</th>\n",
       "      <th>n_cells</th>\n",
       "      <th>commonness</th>\n",
       "      <th>prop_shared_cells</th>\n",
       "      <th>variability_score</th>\n",
       "    </tr>\n",
       "  </thead>\n",
       "  <tbody>\n",
       "    <tr>\n",
       "      <th>chrY_255001_260000</th>\n",
       "      <td>chrY:255001-260000</td>\n",
       "      <td>intergenic</td>\n",
       "      <td>138.0</td>\n",
       "      <td>138.0</td>\n",
       "      <td>0.001020</td>\n",
       "      <td>0.501020</td>\n",
       "    </tr>\n",
       "    <tr>\n",
       "      <th>chrY_805001_810000</th>\n",
       "      <td>chrY:805001-810000</td>\n",
       "      <td>intergenic</td>\n",
       "      <td>315.0</td>\n",
       "      <td>315.0</td>\n",
       "      <td>0.002328</td>\n",
       "      <td>0.502328</td>\n",
       "    </tr>\n",
       "    <tr>\n",
       "      <th>chrY_870001_875000</th>\n",
       "      <td>chrY:870001-875000</td>\n",
       "      <td>intergenic</td>\n",
       "      <td>818.0</td>\n",
       "      <td>818.0</td>\n",
       "      <td>0.006045</td>\n",
       "      <td>0.506045</td>\n",
       "    </tr>\n",
       "    <tr>\n",
       "      <th>chrY_895001_900000</th>\n",
       "      <td>chrY:895001-900000</td>\n",
       "      <td>intergenic</td>\n",
       "      <td>1203.0</td>\n",
       "      <td>1203.0</td>\n",
       "      <td>0.008890</td>\n",
       "      <td>0.508890</td>\n",
       "    </tr>\n",
       "    <tr>\n",
       "      <th>chrY_900001_905000</th>\n",
       "      <td>chrY:900001-905000</td>\n",
       "      <td>intergenic</td>\n",
       "      <td>203.0</td>\n",
       "      <td>203.0</td>\n",
       "      <td>0.001500</td>\n",
       "      <td>0.501500</td>\n",
       "    </tr>\n",
       "  </tbody>\n",
       "</table>\n",
       "</div>"
      ],
      "text/plain": [
       "                                  name transcript_annotation  n_cells  \\\n",
       "chrY_255001_260000  chrY:255001-260000            intergenic    138.0   \n",
       "chrY_805001_810000  chrY:805001-810000            intergenic    315.0   \n",
       "chrY_870001_875000  chrY:870001-875000            intergenic    818.0   \n",
       "chrY_895001_900000  chrY:895001-900000            intergenic   1203.0   \n",
       "chrY_900001_905000  chrY:900001-905000            intergenic    203.0   \n",
       "\n",
       "                    commonness  prop_shared_cells  variability_score  \n",
       "chrY_255001_260000       138.0           0.001020           0.501020  \n",
       "chrY_805001_810000       315.0           0.002328           0.502328  \n",
       "chrY_870001_875000       818.0           0.006045           0.506045  \n",
       "chrY_895001_900000      1203.0           0.008890           0.508890  \n",
       "chrY_900001_905000       203.0           0.001500           0.501500  "
      ]
     },
     "execution_count": 11,
     "metadata": {},
     "output_type": "execute_result"
    }
   ],
   "source": [
    "adata.var.head()"
   ]
  },
  {
   "cell_type": "markdown",
   "metadata": {},
   "source": [
    "# Extract peak numbers"
   ]
  },
  {
   "cell_type": "code",
   "execution_count": 12,
   "metadata": {},
   "outputs": [
    {
     "name": "stdout",
     "output_type": "stream",
     "text": [
      "Get all existing adjacent gene columns.\n"
     ]
    },
    {
     "data": {
      "text/html": [
       "<div>\n",
       "<style scoped>\n",
       "    .dataframe tbody tr th:only-of-type {\n",
       "        vertical-align: middle;\n",
       "    }\n",
       "\n",
       "    .dataframe tbody tr th {\n",
       "        vertical-align: top;\n",
       "    }\n",
       "\n",
       "    .dataframe thead th {\n",
       "        text-align: right;\n",
       "    }\n",
       "</style>\n",
       "<table border=\"1\" class=\"dataframe\">\n",
       "  <thead>\n",
       "    <tr style=\"text-align: right;\">\n",
       "      <th></th>\n",
       "      <th>name</th>\n",
       "      <th>id</th>\n",
       "      <th>chr</th>\n",
       "      <th>chr_order</th>\n",
       "      <th>library</th>\n",
       "      <th>adjacent_peaks_0kb_center</th>\n",
       "      <th>adjacent_peaks_50kb_center</th>\n",
       "      <th>adjacent_peaks_100kb_center</th>\n",
       "      <th>adjacent_peaks_500kb_center</th>\n",
       "      <th>adjacent_peaks_1000kb_center</th>\n",
       "      <th>adjacent_peaks_2000kb_center</th>\n",
       "    </tr>\n",
       "    <tr>\n",
       "      <th>Imaged_loci</th>\n",
       "      <th></th>\n",
       "      <th></th>\n",
       "      <th></th>\n",
       "      <th></th>\n",
       "      <th></th>\n",
       "      <th></th>\n",
       "      <th></th>\n",
       "      <th></th>\n",
       "      <th></th>\n",
       "      <th></th>\n",
       "      <th></th>\n",
       "    </tr>\n",
       "  </thead>\n",
       "  <tbody>\n",
       "    <tr>\n",
       "      <th>chr1_3742742_3759944</th>\n",
       "      <td>1:3742742-3759944</td>\n",
       "      <td>1</td>\n",
       "      <td>1</td>\n",
       "      <td>0</td>\n",
       "      <td>CTP11</td>\n",
       "      <td>chr1_3745001_3750000; chr1_3750001_3755000; ch...</td>\n",
       "      <td>chr1_3695001_3700000; chr1_3700001_3705000; ch...</td>\n",
       "      <td>chr1_3645001_3650000; chr1_3650001_3655000; ch...</td>\n",
       "      <td>chr1_3245001_3250000; chr1_3250001_3255000; ch...</td>\n",
       "      <td>chr1_3000001_3005000; chr1_3005001_3010000; ch...</td>\n",
       "      <td>chr1_3000001_3005000; chr1_3005001_3010000; ch...</td>\n",
       "    </tr>\n",
       "    <tr>\n",
       "      <th>chr1_6245958_6258969</th>\n",
       "      <td>1:6245958-6258969</td>\n",
       "      <td>2</td>\n",
       "      <td>1</td>\n",
       "      <td>1</td>\n",
       "      <td>CTP11</td>\n",
       "      <td>chr1_6245001_6250000; chr1_6250001_6255000; ch...</td>\n",
       "      <td>chr1_6195001_6200000; chr1_6200001_6205000; ch...</td>\n",
       "      <td>chr1_6145001_6150000; chr1_6150001_6155000; ch...</td>\n",
       "      <td>chr1_5745001_5750000; chr1_5750001_5755000; ch...</td>\n",
       "      <td>chr1_5245001_5250000; chr1_5250001_5255000; ch...</td>\n",
       "      <td>chr1_4245001_4250000; chr1_4250001_4255000; ch...</td>\n",
       "    </tr>\n",
       "    <tr>\n",
       "      <th>chr1_8740008_8759916</th>\n",
       "      <td>1:8740008-8759916</td>\n",
       "      <td>3</td>\n",
       "      <td>1</td>\n",
       "      <td>2</td>\n",
       "      <td>CTP11</td>\n",
       "      <td>chr1_8740001_8745000; chr1_8745001_8750000; ch...</td>\n",
       "      <td>chr1_8695001_8700000; chr1_8700001_8705000; ch...</td>\n",
       "      <td>chr1_8640001_8645000; chr1_8645001_8650000; ch...</td>\n",
       "      <td>chr1_8240001_8245000; chr1_8245001_8250000; ch...</td>\n",
       "      <td>chr1_7740001_7745000; chr1_7745001_7750000; ch...</td>\n",
       "      <td>chr1_6740001_6745000; chr1_6745001_6750000; ch...</td>\n",
       "    </tr>\n",
       "    <tr>\n",
       "      <th>chr1_9627926_9637875</th>\n",
       "      <td>1:9627926-9637875</td>\n",
       "      <td>1</td>\n",
       "      <td>1</td>\n",
       "      <td>3</td>\n",
       "      <td>CTP13</td>\n",
       "      <td>chr1_9635001_9640000</td>\n",
       "      <td>chr1_9580001_9585000; chr1_9585001_9590000; ch...</td>\n",
       "      <td>chr1_9530001_9535000; chr1_9535001_9540000; ch...</td>\n",
       "      <td>chr1_9130001_9135000; chr1_9135001_9140000; ch...</td>\n",
       "      <td>chr1_8630001_8635000; chr1_8635001_8640000; ch...</td>\n",
       "      <td>chr1_7630001_7635000; chr1_7635001_7640000; ch...</td>\n",
       "    </tr>\n",
       "    <tr>\n",
       "      <th>chr1_9799472_9811359</th>\n",
       "      <td>1:9799472-9811359</td>\n",
       "      <td>2</td>\n",
       "      <td>1</td>\n",
       "      <td>4</td>\n",
       "      <td>CTP13</td>\n",
       "      <td>chr1_9800001_9805000; chr1_9805001_9810000</td>\n",
       "      <td>chr1_9750001_9755000; chr1_9755001_9760000; ch...</td>\n",
       "      <td>chr1_9705001_9710000; chr1_9710001_9715000; ch...</td>\n",
       "      <td>chr1_9300001_9305000; chr1_9305001_9310000; ch...</td>\n",
       "      <td>chr1_8800001_8805000; chr1_8805001_8810000; ch...</td>\n",
       "      <td>chr1_7800001_7805000; chr1_7805001_7810000; ch...</td>\n",
       "    </tr>\n",
       "    <tr>\n",
       "      <th>...</th>\n",
       "      <td>...</td>\n",
       "      <td>...</td>\n",
       "      <td>...</td>\n",
       "      <td>...</td>\n",
       "      <td>...</td>\n",
       "      <td>...</td>\n",
       "      <td>...</td>\n",
       "      <td>...</td>\n",
       "      <td>...</td>\n",
       "      <td>...</td>\n",
       "      <td>...</td>\n",
       "    </tr>\n",
       "    <tr>\n",
       "      <th>chrX_166247682_166259932</th>\n",
       "      <td>X:166247682-166259932</td>\n",
       "      <td>1059</td>\n",
       "      <td>X</td>\n",
       "      <td>60</td>\n",
       "      <td>CTP11</td>\n",
       "      <td>chrX_166250001_166255000; chrX_166255001_16626...</td>\n",
       "      <td>chrX_166200001_166205000; chrX_166205001_16621...</td>\n",
       "      <td>chrX_166150001_166155000; chrX_166155001_16616...</td>\n",
       "      <td>chrX_165750001_165755000; chrX_165755001_16576...</td>\n",
       "      <td>chrX_165250001_165255000; chrX_165255001_16526...</td>\n",
       "      <td>chrX_164250001_164255000; chrX_164255001_16426...</td>\n",
       "    </tr>\n",
       "    <tr>\n",
       "      <th>chrX_167157164_167167452</th>\n",
       "      <td>X:167157164-167167452</td>\n",
       "      <td>990</td>\n",
       "      <td>X</td>\n",
       "      <td>61</td>\n",
       "      <td>CTP13</td>\n",
       "      <td>chrX_167155001_167160000; chrX_167160001_16716...</td>\n",
       "      <td>chrX_167105001_167110000; chrX_167110001_16711...</td>\n",
       "      <td>chrX_167055001_167060000; chrX_167060001_16706...</td>\n",
       "      <td>chrX_166655001_166660000; chrX_166665001_16667...</td>\n",
       "      <td>chrX_166155001_166160000; chrX_166160001_16616...</td>\n",
       "      <td>chrX_165155001_165160000; chrX_165160001_16516...</td>\n",
       "    </tr>\n",
       "    <tr>\n",
       "      <th>chrX_168746045_168757590</th>\n",
       "      <td>X:168746045-168757590</td>\n",
       "      <td>1060</td>\n",
       "      <td>X</td>\n",
       "      <td>62</td>\n",
       "      <td>CTP11</td>\n",
       "      <td>chrX_168745001_168750000; chrX_168750001_16875...</td>\n",
       "      <td>chrX_168695001_168700000; chrX_168700001_16870...</td>\n",
       "      <td>chrX_168645001_168650000; chrX_168650001_16865...</td>\n",
       "      <td>chrX_168245001_168250000; chrX_168250001_16825...</td>\n",
       "      <td>chrX_167745001_167750000; chrX_167750001_16775...</td>\n",
       "      <td>chrX_166745001_166750000; chrX_166750001_16675...</td>\n",
       "    </tr>\n",
       "    <tr>\n",
       "      <th>chrX_169963295_170005197</th>\n",
       "      <td>X:169963295-170005197</td>\n",
       "      <td>991</td>\n",
       "      <td>X</td>\n",
       "      <td>63</td>\n",
       "      <td>CTP13</td>\n",
       "      <td>chrX_169965001_169970000; chrX_169970001_16997...</td>\n",
       "      <td>chrX_169915001_169920000; chrX_169920001_16992...</td>\n",
       "      <td>chrX_169865001_169870000; chrX_169870001_16987...</td>\n",
       "      <td>chrX_169465001_169470000; chrX_169470001_16947...</td>\n",
       "      <td>chrX_168965001_168970000; chrX_168970001_16897...</td>\n",
       "      <td>chrX_167965001_167970000; chrX_167970001_16797...</td>\n",
       "    </tr>\n",
       "    <tr>\n",
       "      <th>chrY_1245775_1259992</th>\n",
       "      <td>Y:1245775-1259992</td>\n",
       "      <td>1062</td>\n",
       "      <td>Y</td>\n",
       "      <td>0</td>\n",
       "      <td>CTP11</td>\n",
       "      <td>chrY_1245001_1250000; chrY_1250001_1255000; ch...</td>\n",
       "      <td>chrY_1195001_1200000; chrY_1200001_1205000; ch...</td>\n",
       "      <td>chrY_1145001_1150000; chrY_1150001_1155000; ch...</td>\n",
       "      <td>chrY_755001_760000; chrY_760001_765000; chrY_7...</td>\n",
       "      <td>chrY_255001_260000; chrY_260001_265000; chrY_2...</td>\n",
       "      <td>chrY_140001_145000; chrY_145001_150000; chrY_1...</td>\n",
       "    </tr>\n",
       "  </tbody>\n",
       "</table>\n",
       "<p>1982 rows × 11 columns</p>\n",
       "</div>"
      ],
      "text/plain": [
       "                                           name    id chr  chr_order library  \\\n",
       "Imaged_loci                                                                    \n",
       "chr1_3742742_3759944          1:3742742-3759944     1   1          0   CTP11   \n",
       "chr1_6245958_6258969          1:6245958-6258969     2   1          1   CTP11   \n",
       "chr1_8740008_8759916          1:8740008-8759916     3   1          2   CTP11   \n",
       "chr1_9627926_9637875          1:9627926-9637875     1   1          3   CTP13   \n",
       "chr1_9799472_9811359          1:9799472-9811359     2   1          4   CTP13   \n",
       "...                                         ...   ...  ..        ...     ...   \n",
       "chrX_166247682_166259932  X:166247682-166259932  1059   X         60   CTP11   \n",
       "chrX_167157164_167167452  X:167157164-167167452   990   X         61   CTP13   \n",
       "chrX_168746045_168757590  X:168746045-168757590  1060   X         62   CTP11   \n",
       "chrX_169963295_170005197  X:169963295-170005197   991   X         63   CTP13   \n",
       "chrY_1245775_1259992          Y:1245775-1259992  1062   Y          0   CTP11   \n",
       "\n",
       "                                                  adjacent_peaks_0kb_center  \\\n",
       "Imaged_loci                                                                   \n",
       "chr1_3742742_3759944      chr1_3745001_3750000; chr1_3750001_3755000; ch...   \n",
       "chr1_6245958_6258969      chr1_6245001_6250000; chr1_6250001_6255000; ch...   \n",
       "chr1_8740008_8759916      chr1_8740001_8745000; chr1_8745001_8750000; ch...   \n",
       "chr1_9627926_9637875                                   chr1_9635001_9640000   \n",
       "chr1_9799472_9811359             chr1_9800001_9805000; chr1_9805001_9810000   \n",
       "...                                                                     ...   \n",
       "chrX_166247682_166259932  chrX_166250001_166255000; chrX_166255001_16626...   \n",
       "chrX_167157164_167167452  chrX_167155001_167160000; chrX_167160001_16716...   \n",
       "chrX_168746045_168757590  chrX_168745001_168750000; chrX_168750001_16875...   \n",
       "chrX_169963295_170005197  chrX_169965001_169970000; chrX_169970001_16997...   \n",
       "chrY_1245775_1259992      chrY_1245001_1250000; chrY_1250001_1255000; ch...   \n",
       "\n",
       "                                                 adjacent_peaks_50kb_center  \\\n",
       "Imaged_loci                                                                   \n",
       "chr1_3742742_3759944      chr1_3695001_3700000; chr1_3700001_3705000; ch...   \n",
       "chr1_6245958_6258969      chr1_6195001_6200000; chr1_6200001_6205000; ch...   \n",
       "chr1_8740008_8759916      chr1_8695001_8700000; chr1_8700001_8705000; ch...   \n",
       "chr1_9627926_9637875      chr1_9580001_9585000; chr1_9585001_9590000; ch...   \n",
       "chr1_9799472_9811359      chr1_9750001_9755000; chr1_9755001_9760000; ch...   \n",
       "...                                                                     ...   \n",
       "chrX_166247682_166259932  chrX_166200001_166205000; chrX_166205001_16621...   \n",
       "chrX_167157164_167167452  chrX_167105001_167110000; chrX_167110001_16711...   \n",
       "chrX_168746045_168757590  chrX_168695001_168700000; chrX_168700001_16870...   \n",
       "chrX_169963295_170005197  chrX_169915001_169920000; chrX_169920001_16992...   \n",
       "chrY_1245775_1259992      chrY_1195001_1200000; chrY_1200001_1205000; ch...   \n",
       "\n",
       "                                                adjacent_peaks_100kb_center  \\\n",
       "Imaged_loci                                                                   \n",
       "chr1_3742742_3759944      chr1_3645001_3650000; chr1_3650001_3655000; ch...   \n",
       "chr1_6245958_6258969      chr1_6145001_6150000; chr1_6150001_6155000; ch...   \n",
       "chr1_8740008_8759916      chr1_8640001_8645000; chr1_8645001_8650000; ch...   \n",
       "chr1_9627926_9637875      chr1_9530001_9535000; chr1_9535001_9540000; ch...   \n",
       "chr1_9799472_9811359      chr1_9705001_9710000; chr1_9710001_9715000; ch...   \n",
       "...                                                                     ...   \n",
       "chrX_166247682_166259932  chrX_166150001_166155000; chrX_166155001_16616...   \n",
       "chrX_167157164_167167452  chrX_167055001_167060000; chrX_167060001_16706...   \n",
       "chrX_168746045_168757590  chrX_168645001_168650000; chrX_168650001_16865...   \n",
       "chrX_169963295_170005197  chrX_169865001_169870000; chrX_169870001_16987...   \n",
       "chrY_1245775_1259992      chrY_1145001_1150000; chrY_1150001_1155000; ch...   \n",
       "\n",
       "                                                adjacent_peaks_500kb_center  \\\n",
       "Imaged_loci                                                                   \n",
       "chr1_3742742_3759944      chr1_3245001_3250000; chr1_3250001_3255000; ch...   \n",
       "chr1_6245958_6258969      chr1_5745001_5750000; chr1_5750001_5755000; ch...   \n",
       "chr1_8740008_8759916      chr1_8240001_8245000; chr1_8245001_8250000; ch...   \n",
       "chr1_9627926_9637875      chr1_9130001_9135000; chr1_9135001_9140000; ch...   \n",
       "chr1_9799472_9811359      chr1_9300001_9305000; chr1_9305001_9310000; ch...   \n",
       "...                                                                     ...   \n",
       "chrX_166247682_166259932  chrX_165750001_165755000; chrX_165755001_16576...   \n",
       "chrX_167157164_167167452  chrX_166655001_166660000; chrX_166665001_16667...   \n",
       "chrX_168746045_168757590  chrX_168245001_168250000; chrX_168250001_16825...   \n",
       "chrX_169963295_170005197  chrX_169465001_169470000; chrX_169470001_16947...   \n",
       "chrY_1245775_1259992      chrY_755001_760000; chrY_760001_765000; chrY_7...   \n",
       "\n",
       "                                               adjacent_peaks_1000kb_center  \\\n",
       "Imaged_loci                                                                   \n",
       "chr1_3742742_3759944      chr1_3000001_3005000; chr1_3005001_3010000; ch...   \n",
       "chr1_6245958_6258969      chr1_5245001_5250000; chr1_5250001_5255000; ch...   \n",
       "chr1_8740008_8759916      chr1_7740001_7745000; chr1_7745001_7750000; ch...   \n",
       "chr1_9627926_9637875      chr1_8630001_8635000; chr1_8635001_8640000; ch...   \n",
       "chr1_9799472_9811359      chr1_8800001_8805000; chr1_8805001_8810000; ch...   \n",
       "...                                                                     ...   \n",
       "chrX_166247682_166259932  chrX_165250001_165255000; chrX_165255001_16526...   \n",
       "chrX_167157164_167167452  chrX_166155001_166160000; chrX_166160001_16616...   \n",
       "chrX_168746045_168757590  chrX_167745001_167750000; chrX_167750001_16775...   \n",
       "chrX_169963295_170005197  chrX_168965001_168970000; chrX_168970001_16897...   \n",
       "chrY_1245775_1259992      chrY_255001_260000; chrY_260001_265000; chrY_2...   \n",
       "\n",
       "                                               adjacent_peaks_2000kb_center  \n",
       "Imaged_loci                                                                  \n",
       "chr1_3742742_3759944      chr1_3000001_3005000; chr1_3005001_3010000; ch...  \n",
       "chr1_6245958_6258969      chr1_4245001_4250000; chr1_4250001_4255000; ch...  \n",
       "chr1_8740008_8759916      chr1_6740001_6745000; chr1_6745001_6750000; ch...  \n",
       "chr1_9627926_9637875      chr1_7630001_7635000; chr1_7635001_7640000; ch...  \n",
       "chr1_9799472_9811359      chr1_7800001_7805000; chr1_7805001_7810000; ch...  \n",
       "...                                                                     ...  \n",
       "chrX_166247682_166259932  chrX_164250001_164255000; chrX_164255001_16426...  \n",
       "chrX_167157164_167167452  chrX_165155001_165160000; chrX_165160001_16516...  \n",
       "chrX_168746045_168757590  chrX_166745001_166750000; chrX_166750001_16675...  \n",
       "chrX_169963295_170005197  chrX_167965001_167970000; chrX_167970001_16797...  \n",
       "chrY_1245775_1259992      chrY_140001_145000; chrY_145001_150000; chrY_1...  \n",
       "\n",
       "[1982 rows x 11 columns]"
      ]
     },
     "execution_count": 12,
     "metadata": {},
     "output_type": "execute_result"
    }
   ],
   "source": [
    "# change index name as imaged loci to find nearby genes\n",
    "import gene_to_loci as gl\n",
    "\n",
    "imaged_loci_df = codebook_df.copy(deep=True)\n",
    "\n",
    "imaged_loci_df.index.name = 'Imaged_loci'\n",
    "imaged_loci_df = gl.direct_get_genes_near_gene_dataframe (imaged_loci_df,\n",
    "                                   codebook_df, \n",
    "                                   adjacent_gene_col = None)\n",
    "\n",
    "\n",
    "imaged_loci_df"
   ]
  },
  {
   "cell_type": "code",
   "execution_count": 14,
   "metadata": {},
   "outputs": [
    {
     "data": {
      "text/plain": [
       "Index(['name', 'id', 'chr', 'chr_order', 'library',\n",
       "       'adjacent_peaks_0kb_center', 'adjacent_peaks_50kb_center',\n",
       "       'adjacent_peaks_100kb_center', 'adjacent_peaks_500kb_center',\n",
       "       'adjacent_peaks_1000kb_center', 'adjacent_peaks_2000kb_center'],\n",
       "      dtype='object')"
      ]
     },
     "execution_count": 14,
     "metadata": {},
     "output_type": "execute_result"
    }
   ],
   "source": [
    "imaged_loci_df.columns"
   ]
  },
  {
   "cell_type": "markdown",
   "metadata": {},
   "source": [
    "## process for major classes"
   ]
  },
  {
   "cell_type": "code",
   "execution_count": 15,
   "metadata": {},
   "outputs": [
    {
     "data": {
      "text/plain": [
       "array(['Astro', 'Endo', 'GABA', 'Gluta', 'Micro', 'Oligo', 'Other', 'SMC',\n",
       "       'nan'], dtype='<U32')"
      ]
     },
     "execution_count": 15,
     "metadata": {},
     "output_type": "execute_result"
    }
   ],
   "source": [
    "groupby_adata = 'class_label_new'\n",
    "\n",
    "np.unique(list(adata_ori.obs[groupby_adata]))"
   ]
  },
  {
   "cell_type": "code",
   "execution_count": 18,
   "metadata": {},
   "outputs": [
    {
     "name": "stdout",
     "output_type": "stream",
     "text": [
      "Generate output folder\n"
     ]
    }
   ],
   "source": [
    "# output_folder\n",
    "output_folder = os.path.join(output_analysis_folder, r'10x_snATAC\\10x_class')\n",
    "if not os.path.exists(output_folder):\n",
    "    os.makedirs(output_folder)\n",
    "    print ('Generate output folder')"
   ]
  },
  {
   "cell_type": "code",
   "execution_count": 19,
   "metadata": {},
   "outputs": [
    {
     "name": "stdout",
     "output_type": "stream",
     "text": [
      "Process RNAseq data for Astro\n"
     ]
    },
    {
     "name": "stderr",
     "output_type": "stream",
     "text": [
      "1982it [04:06,  8.04it/s]\n"
     ]
    },
    {
     "name": "stdout",
     "output_type": "stream",
     "text": [
      "=========================================================\n",
      "Process RNAseq data for Endo\n"
     ]
    },
    {
     "name": "stderr",
     "output_type": "stream",
     "text": [
      "1982it [03:08, 10.51it/s]\n"
     ]
    },
    {
     "name": "stdout",
     "output_type": "stream",
     "text": [
      "=========================================================\n",
      "Process RNAseq data for GABA\n"
     ]
    },
    {
     "name": "stderr",
     "output_type": "stream",
     "text": [
      "1982it [04:35,  7.19it/s]\n"
     ]
    },
    {
     "name": "stdout",
     "output_type": "stream",
     "text": [
      "=========================================================\n",
      "Process RNAseq data for Gluta\n"
     ]
    },
    {
     "name": "stderr",
     "output_type": "stream",
     "text": [
      "1982it [10:41,  3.09it/s]\n"
     ]
    },
    {
     "name": "stdout",
     "output_type": "stream",
     "text": [
      "=========================================================\n",
      "Process RNAseq data for Micro\n"
     ]
    },
    {
     "name": "stderr",
     "output_type": "stream",
     "text": [
      "1982it [03:44,  8.82it/s]\n"
     ]
    },
    {
     "name": "stdout",
     "output_type": "stream",
     "text": [
      "=========================================================\n",
      "Process RNAseq data for Oligo\n"
     ]
    },
    {
     "name": "stderr",
     "output_type": "stream",
     "text": [
      "1982it [05:12,  6.35it/s]\n"
     ]
    },
    {
     "name": "stdout",
     "output_type": "stream",
     "text": [
      "=========================================================\n",
      "Process RNAseq data for Other\n"
     ]
    },
    {
     "name": "stderr",
     "output_type": "stream",
     "text": [
      "1982it [03:20,  9.87it/s]\n"
     ]
    },
    {
     "name": "stdout",
     "output_type": "stream",
     "text": [
      "=========================================================\n",
      "Process RNAseq data for SMC\n"
     ]
    },
    {
     "name": "stderr",
     "output_type": "stream",
     "text": [
      "1982it [03:09, 10.46it/s]\n"
     ]
    },
    {
     "name": "stdout",
     "output_type": "stream",
     "text": [
      "=========================================================\n"
     ]
    }
   ],
   "source": [
    "%matplotlib inline\n",
    "\n",
    "import gene_activity\n",
    "import loci_1d_features\n",
    "from scipy import stats\n",
    "import seaborn as sns\n",
    "from tqdm import tqdm\n",
    "\n",
    "bin_size =2000 # extend both direction\n",
    "adjcent_col = f'adjacent_peaks_{bin_size}kb_center'\n",
    "activity_type = 'sum' # sum of all gene associated to a loci for each single cell\n",
    "\n",
    "expression_res_df_dict = {}\n",
    "\n",
    "expression_res_df_dict = {}\n",
    "sel_class_to_process = [c for c in np.unique(list(adata_ori.obs[groupby_adata])) if c!='nan']\n",
    "\n",
    "#simple loop\n",
    "for _group in sel_class_to_process[:]:\n",
    "    \n",
    "    print (f'Process ATACseq data for {_group}')\n",
    "    \n",
    "    expression_res_dict={}\n",
    "    sorted_group_order = [_group]\n",
    "    \n",
    "    _group_fname = _group.replace('/','_').replace(' ','_')\n",
    "\n",
    "    imaged_loci_df_group = loci_1d_features.codebook_chr_order_for_loci_dataframe (imaged_loci_df, \n",
    "                                               codebook_df, \n",
    "                                               sel_cols =['chr','chr_order','id'], \n",
    "                                               sort_df = True,\n",
    "                                               sort_by_chr=True)\n",
    "\n",
    "    loci_key_list = loci_1d_features.sorted_loci_keys_for_loci_dataframe(imaged_loci_df_group)\n",
    "    loci_ori_ind = loci_1d_features.find_chr_loci_iloc_from_loci_keys (codebook_df, loci_key_list)\n",
    "\n",
    "    # for loci along the chromosome, append the measurements for each single cell\n",
    "    for _ind, sel_loci_ind in tqdm(enumerate(imaged_loci_df_group.index.tolist()[:])):\n",
    "\n",
    "        # get adjacent gene expression (which are peaks in this case)\n",
    "        sel_genes=imaged_loci_df_group.loc[sel_loci_ind][adjcent_col].split('; ')\n",
    "        sel_adata =  adata_ori[:,adata_ori.var.index.isin(sel_genes)]\n",
    "        marker_expressions = gene_activity.gene_activity_raw_groups(sel_genes,\n",
    "                            sel_adata, \n",
    "                            sorted_group_order,\n",
    "                            groupby_adata,\n",
    "                            ref_norm_list = [],\n",
    "                            report_type =activity_type)\n",
    "\n",
    "        expression_res_dict[_ind]=list(marker_expressions[_group])\n",
    "        \n",
    "    # convert dict to df as loci by cell\n",
    "    expression_res_df = pd.DataFrame.from_dict(expression_res_dict, orient='index')\n",
    "    expression_res_df['loci_name']=codebook_df.index.tolist()\n",
    "    expression_res_df = expression_res_df.set_index ('loci_name')\n",
    "    expression_res_df_dict[_group]=expression_res_df\n",
    "    # save\n",
    "    output_df_fname = os.path.join(output_folder, f'MERFISH_loci_10x_expression_2X_{bin_size}kb_for_{_group_fname}.csv')\n",
    "    expression_res_df.to_csv(output_df_fname)\n",
    "    print ('=========================================================')\n"
   ]
  },
  {
   "cell_type": "code",
   "execution_count": 20,
   "metadata": {},
   "outputs": [
    {
     "data": {
      "text/html": [
       "<div>\n",
       "<style scoped>\n",
       "    .dataframe tbody tr th:only-of-type {\n",
       "        vertical-align: middle;\n",
       "    }\n",
       "\n",
       "    .dataframe tbody tr th {\n",
       "        vertical-align: top;\n",
       "    }\n",
       "\n",
       "    .dataframe thead th {\n",
       "        text-align: right;\n",
       "    }\n",
       "</style>\n",
       "<table border=\"1\" class=\"dataframe\">\n",
       "  <thead>\n",
       "    <tr style=\"text-align: right;\">\n",
       "      <th></th>\n",
       "      <th>0</th>\n",
       "      <th>1</th>\n",
       "      <th>2</th>\n",
       "      <th>3</th>\n",
       "      <th>4</th>\n",
       "      <th>5</th>\n",
       "      <th>6</th>\n",
       "      <th>7</th>\n",
       "      <th>8</th>\n",
       "      <th>9</th>\n",
       "      <th>...</th>\n",
       "      <th>539</th>\n",
       "      <th>540</th>\n",
       "      <th>541</th>\n",
       "      <th>542</th>\n",
       "      <th>543</th>\n",
       "      <th>544</th>\n",
       "      <th>545</th>\n",
       "      <th>546</th>\n",
       "      <th>547</th>\n",
       "      <th>548</th>\n",
       "    </tr>\n",
       "    <tr>\n",
       "      <th>loci_name</th>\n",
       "      <th></th>\n",
       "      <th></th>\n",
       "      <th></th>\n",
       "      <th></th>\n",
       "      <th></th>\n",
       "      <th></th>\n",
       "      <th></th>\n",
       "      <th></th>\n",
       "      <th></th>\n",
       "      <th></th>\n",
       "      <th></th>\n",
       "      <th></th>\n",
       "      <th></th>\n",
       "      <th></th>\n",
       "      <th></th>\n",
       "      <th></th>\n",
       "      <th></th>\n",
       "      <th></th>\n",
       "      <th></th>\n",
       "      <th></th>\n",
       "      <th></th>\n",
       "    </tr>\n",
       "  </thead>\n",
       "  <tbody>\n",
       "    <tr>\n",
       "      <th>chr1_3742742_3759944</th>\n",
       "      <td>7.0</td>\n",
       "      <td>7.0</td>\n",
       "      <td>7.0</td>\n",
       "      <td>0.0</td>\n",
       "      <td>2.0</td>\n",
       "      <td>3.0</td>\n",
       "      <td>0.0</td>\n",
       "      <td>2.0</td>\n",
       "      <td>1.0</td>\n",
       "      <td>2.0</td>\n",
       "      <td>...</td>\n",
       "      <td>0.0</td>\n",
       "      <td>0.0</td>\n",
       "      <td>0.0</td>\n",
       "      <td>0.0</td>\n",
       "      <td>0.0</td>\n",
       "      <td>1.0</td>\n",
       "      <td>0.0</td>\n",
       "      <td>1.0</td>\n",
       "      <td>1.0</td>\n",
       "      <td>0.0</td>\n",
       "    </tr>\n",
       "    <tr>\n",
       "      <th>chr1_6245958_6258969</th>\n",
       "      <td>5.0</td>\n",
       "      <td>8.0</td>\n",
       "      <td>5.0</td>\n",
       "      <td>0.0</td>\n",
       "      <td>1.0</td>\n",
       "      <td>0.0</td>\n",
       "      <td>0.0</td>\n",
       "      <td>2.0</td>\n",
       "      <td>1.0</td>\n",
       "      <td>2.0</td>\n",
       "      <td>...</td>\n",
       "      <td>0.0</td>\n",
       "      <td>1.0</td>\n",
       "      <td>0.0</td>\n",
       "      <td>0.0</td>\n",
       "      <td>0.0</td>\n",
       "      <td>0.0</td>\n",
       "      <td>0.0</td>\n",
       "      <td>1.0</td>\n",
       "      <td>0.0</td>\n",
       "      <td>1.0</td>\n",
       "    </tr>\n",
       "    <tr>\n",
       "      <th>chr1_8740008_8759916</th>\n",
       "      <td>16.0</td>\n",
       "      <td>13.0</td>\n",
       "      <td>7.0</td>\n",
       "      <td>0.0</td>\n",
       "      <td>1.0</td>\n",
       "      <td>2.0</td>\n",
       "      <td>0.0</td>\n",
       "      <td>1.0</td>\n",
       "      <td>0.0</td>\n",
       "      <td>1.0</td>\n",
       "      <td>...</td>\n",
       "      <td>1.0</td>\n",
       "      <td>0.0</td>\n",
       "      <td>0.0</td>\n",
       "      <td>1.0</td>\n",
       "      <td>0.0</td>\n",
       "      <td>1.0</td>\n",
       "      <td>0.0</td>\n",
       "      <td>1.0</td>\n",
       "      <td>0.0</td>\n",
       "      <td>4.0</td>\n",
       "    </tr>\n",
       "    <tr>\n",
       "      <th>chr1_9627926_9637875</th>\n",
       "      <td>18.0</td>\n",
       "      <td>10.0</td>\n",
       "      <td>8.0</td>\n",
       "      <td>1.0</td>\n",
       "      <td>1.0</td>\n",
       "      <td>3.0</td>\n",
       "      <td>0.0</td>\n",
       "      <td>1.0</td>\n",
       "      <td>0.0</td>\n",
       "      <td>1.0</td>\n",
       "      <td>...</td>\n",
       "      <td>1.0</td>\n",
       "      <td>0.0</td>\n",
       "      <td>0.0</td>\n",
       "      <td>1.0</td>\n",
       "      <td>0.0</td>\n",
       "      <td>1.0</td>\n",
       "      <td>0.0</td>\n",
       "      <td>1.0</td>\n",
       "      <td>0.0</td>\n",
       "      <td>3.0</td>\n",
       "    </tr>\n",
       "    <tr>\n",
       "      <th>chr1_9799472_9811359</th>\n",
       "      <td>19.0</td>\n",
       "      <td>10.0</td>\n",
       "      <td>9.0</td>\n",
       "      <td>1.0</td>\n",
       "      <td>1.0</td>\n",
       "      <td>3.0</td>\n",
       "      <td>0.0</td>\n",
       "      <td>1.0</td>\n",
       "      <td>0.0</td>\n",
       "      <td>1.0</td>\n",
       "      <td>...</td>\n",
       "      <td>1.0</td>\n",
       "      <td>0.0</td>\n",
       "      <td>0.0</td>\n",
       "      <td>1.0</td>\n",
       "      <td>0.0</td>\n",
       "      <td>1.0</td>\n",
       "      <td>0.0</td>\n",
       "      <td>1.0</td>\n",
       "      <td>0.0</td>\n",
       "      <td>3.0</td>\n",
       "    </tr>\n",
       "  </tbody>\n",
       "</table>\n",
       "<p>5 rows × 549 columns</p>\n",
       "</div>"
      ],
      "text/plain": [
       "                       0     1    2    3    4    5    6    7    8    9    ...  \\\n",
       "loci_name                                                                 ...   \n",
       "chr1_3742742_3759944   7.0   7.0  7.0  0.0  2.0  3.0  0.0  2.0  1.0  2.0  ...   \n",
       "chr1_6245958_6258969   5.0   8.0  5.0  0.0  1.0  0.0  0.0  2.0  1.0  2.0  ...   \n",
       "chr1_8740008_8759916  16.0  13.0  7.0  0.0  1.0  2.0  0.0  1.0  0.0  1.0  ...   \n",
       "chr1_9627926_9637875  18.0  10.0  8.0  1.0  1.0  3.0  0.0  1.0  0.0  1.0  ...   \n",
       "chr1_9799472_9811359  19.0  10.0  9.0  1.0  1.0  3.0  0.0  1.0  0.0  1.0  ...   \n",
       "\n",
       "                      539  540  541  542  543  544  545  546  547  548  \n",
       "loci_name                                                               \n",
       "chr1_3742742_3759944  0.0  0.0  0.0  0.0  0.0  1.0  0.0  1.0  1.0  0.0  \n",
       "chr1_6245958_6258969  0.0  1.0  0.0  0.0  0.0  0.0  0.0  1.0  0.0  1.0  \n",
       "chr1_8740008_8759916  1.0  0.0  0.0  1.0  0.0  1.0  0.0  1.0  0.0  4.0  \n",
       "chr1_9627926_9637875  1.0  0.0  0.0  1.0  0.0  1.0  0.0  1.0  0.0  3.0  \n",
       "chr1_9799472_9811359  1.0  0.0  0.0  1.0  0.0  1.0  0.0  1.0  0.0  3.0  \n",
       "\n",
       "[5 rows x 549 columns]"
      ]
     },
     "execution_count": 20,
     "metadata": {},
     "output_type": "execute_result"
    }
   ],
   "source": [
    "expression_res_df.head()"
   ]
  },
  {
   "cell_type": "markdown",
   "metadata": {},
   "source": [
    "## process for subclasses"
   ]
  },
  {
   "cell_type": "code",
   "execution_count": 21,
   "metadata": {},
   "outputs": [
    {
     "data": {
      "text/plain": [
       "['Astro',\n",
       " 'CGE',\n",
       " 'Endo',\n",
       " 'L2/3 IT',\n",
       " 'L4/5 IT',\n",
       " 'L5 ET',\n",
       " 'L5 IT',\n",
       " 'L5/6 NP',\n",
       " 'L6 CT',\n",
       " 'L6 IT',\n",
       " 'Micro',\n",
       " 'OPC',\n",
       " 'Oligo',\n",
       " 'Other',\n",
       " 'Pvalb',\n",
       " 'SMC',\n",
       " 'Sst']"
      ]
     },
     "execution_count": 21,
     "metadata": {},
     "output_type": "execute_result"
    }
   ],
   "source": [
    "groupby_adata = 'subclass_label_new'\n",
    "#groupby_adata = 'cluster'\n",
    "\n",
    "np.unique(list(adata_ori.obs[groupby_adata]))\n",
    "sel_class_to_process = [c for c in np.unique(list(adata_ori.obs[groupby_adata])) if c!='nan']\n",
    "sel_class_to_process"
   ]
  },
  {
   "cell_type": "code",
   "execution_count": 22,
   "metadata": {},
   "outputs": [],
   "source": [
    "# output_folder\n",
    "output_folder = os.path.join(output_analysis_folder, r'10x_snATAC\\10x_subclass')\n",
    "if not os.path.exists(output_folder):\n",
    "    os.makedirs(output_folder)\n",
    "    print ('Generate output folder')"
   ]
  },
  {
   "cell_type": "code",
   "execution_count": 23,
   "metadata": {},
   "outputs": [
    {
     "name": "stdout",
     "output_type": "stream",
     "text": [
      "Process ATACseq data for Astro\n"
     ]
    },
    {
     "name": "stderr",
     "output_type": "stream",
     "text": [
      "1982it [04:22,  7.54it/s]\n"
     ]
    },
    {
     "name": "stdout",
     "output_type": "stream",
     "text": [
      "=========================================================\n",
      "Process ATACseq data for CGE\n"
     ]
    },
    {
     "name": "stderr",
     "output_type": "stream",
     "text": [
      "1982it [03:41,  8.94it/s]\n"
     ]
    },
    {
     "name": "stdout",
     "output_type": "stream",
     "text": [
      "=========================================================\n",
      "Process ATACseq data for Endo\n"
     ]
    },
    {
     "name": "stderr",
     "output_type": "stream",
     "text": [
      "1982it [03:20,  9.89it/s]\n"
     ]
    },
    {
     "name": "stdout",
     "output_type": "stream",
     "text": [
      "=========================================================\n",
      "Process ATACseq data for L2/3 IT\n"
     ]
    },
    {
     "name": "stderr",
     "output_type": "stream",
     "text": [
      "1982it [05:50,  5.66it/s]\n"
     ]
    },
    {
     "name": "stdout",
     "output_type": "stream",
     "text": [
      "=========================================================\n",
      "Process ATACseq data for L4/5 IT\n"
     ]
    },
    {
     "name": "stderr",
     "output_type": "stream",
     "text": [
      "1982it [04:21,  7.58it/s]\n"
     ]
    },
    {
     "name": "stdout",
     "output_type": "stream",
     "text": [
      "=========================================================\n",
      "Process ATACseq data for L5 ET\n"
     ]
    },
    {
     "name": "stderr",
     "output_type": "stream",
     "text": [
      "1982it [03:21,  9.83it/s]\n"
     ]
    },
    {
     "name": "stdout",
     "output_type": "stream",
     "text": [
      "=========================================================\n",
      "Process ATACseq data for L5 IT\n"
     ]
    },
    {
     "name": "stderr",
     "output_type": "stream",
     "text": [
      "1982it [04:30,  7.33it/s]\n"
     ]
    },
    {
     "name": "stdout",
     "output_type": "stream",
     "text": [
      "=========================================================\n",
      "Process ATACseq data for L5/6 NP\n"
     ]
    },
    {
     "name": "stderr",
     "output_type": "stream",
     "text": [
      "1982it [03:17, 10.05it/s]\n"
     ]
    },
    {
     "name": "stdout",
     "output_type": "stream",
     "text": [
      "=========================================================\n",
      "Process ATACseq data for L6 CT\n"
     ]
    },
    {
     "name": "stderr",
     "output_type": "stream",
     "text": [
      "1982it [04:38,  7.12it/s]\n"
     ]
    },
    {
     "name": "stdout",
     "output_type": "stream",
     "text": [
      "=========================================================\n",
      "Process ATACseq data for L6 IT\n"
     ]
    },
    {
     "name": "stderr",
     "output_type": "stream",
     "text": [
      "1982it [04:11,  7.88it/s]\n"
     ]
    },
    {
     "name": "stdout",
     "output_type": "stream",
     "text": [
      "=========================================================\n",
      "Process ATACseq data for Micro\n"
     ]
    },
    {
     "name": "stderr",
     "output_type": "stream",
     "text": [
      "1982it [03:51,  8.57it/s]\n"
     ]
    },
    {
     "name": "stdout",
     "output_type": "stream",
     "text": [
      "=========================================================\n",
      "Process ATACseq data for OPC\n"
     ]
    },
    {
     "name": "stderr",
     "output_type": "stream",
     "text": [
      "1982it [03:35,  9.21it/s]\n"
     ]
    },
    {
     "name": "stdout",
     "output_type": "stream",
     "text": [
      "=========================================================\n",
      "Process ATACseq data for Oligo\n"
     ]
    },
    {
     "name": "stderr",
     "output_type": "stream",
     "text": [
      "1982it [04:36,  7.18it/s]\n"
     ]
    },
    {
     "name": "stdout",
     "output_type": "stream",
     "text": [
      "=========================================================\n",
      "Process ATACseq data for Other\n"
     ]
    },
    {
     "name": "stderr",
     "output_type": "stream",
     "text": [
      "1982it [03:15, 10.12it/s]\n"
     ]
    },
    {
     "name": "stdout",
     "output_type": "stream",
     "text": [
      "=========================================================\n",
      "Process ATACseq data for Pvalb\n"
     ]
    },
    {
     "name": "stderr",
     "output_type": "stream",
     "text": [
      "1982it [03:34,  9.25it/s]\n"
     ]
    },
    {
     "name": "stdout",
     "output_type": "stream",
     "text": [
      "=========================================================\n",
      "Process ATACseq data for SMC\n"
     ]
    },
    {
     "name": "stderr",
     "output_type": "stream",
     "text": [
      "1982it [03:09, 10.45it/s]\n"
     ]
    },
    {
     "name": "stdout",
     "output_type": "stream",
     "text": [
      "=========================================================\n",
      "Process ATACseq data for Sst\n"
     ]
    },
    {
     "name": "stderr",
     "output_type": "stream",
     "text": [
      "1982it [03:23,  9.73it/s]\n"
     ]
    },
    {
     "name": "stdout",
     "output_type": "stream",
     "text": [
      "=========================================================\n"
     ]
    }
   ],
   "source": [
    "%matplotlib inline\n",
    "\n",
    "import gene_activity\n",
    "import loci_1d_features\n",
    "from scipy import stats\n",
    "import seaborn as sns\n",
    "from tqdm import tqdm\n",
    "\n",
    "bin_size =2000 # extend both direction\n",
    "adjcent_col = f'adjacent_peaks_{bin_size}kb_center'\n",
    "activity_type = 'sum' # sum of all gene associated to a loci for each single cell\n",
    "\n",
    "expression_res_df_dict = {}\n",
    "sel_class_to_process = [c for c in np.unique(list(adata_ori.obs[groupby_adata])) if c!='nan']\n",
    "\n",
    "# simple loop\n",
    "for _group in sel_class_to_process[:]:\n",
    "    _group_fname = _group.replace('/','_').replace(' ','_')\n",
    "    \n",
    "    print (f'Process ATACseq data for {_group}')\n",
    "    \n",
    "    expression_res_dict={}\n",
    "    sorted_group_order = [_group]\n",
    "\n",
    "    imaged_loci_df_group = loci_1d_features.codebook_chr_order_for_loci_dataframe (imaged_loci_df, \n",
    "                                               codebook_df, \n",
    "                                               sel_cols =['chr','chr_order','id'], \n",
    "                                               sort_df = True,\n",
    "                                               sort_by_chr=True)\n",
    "\n",
    "    loci_key_list = loci_1d_features.sorted_loci_keys_for_loci_dataframe(imaged_loci_df_group)\n",
    "    loci_ori_ind = loci_1d_features.find_chr_loci_iloc_from_loci_keys (codebook_df, loci_key_list)\n",
    "\n",
    "    # for loci along the chromosome, append the measurements for each single cell\n",
    "    for _ind, sel_loci_ind in tqdm(enumerate(imaged_loci_df_group.index.tolist()[:])):\n",
    "\n",
    "        # get adjacent gene expression (which are peaks in this case)\n",
    "        sel_genes=imaged_loci_df_group.loc[sel_loci_ind][adjcent_col].split('; ')\n",
    "        sel_adata =  adata_ori[:,adata_ori.var.index.isin(sel_genes)]\n",
    "        marker_expressions = gene_activity.gene_activity_raw_groups(sel_genes,\n",
    "                            sel_adata, \n",
    "                            sorted_group_order,\n",
    "                            groupby_adata,\n",
    "                            ref_norm_list = [],\n",
    "                            report_type =activity_type)\n",
    "\n",
    "        expression_res_dict[_ind]=list(marker_expressions[_group])\n",
    "        \n",
    "    # convert dict to df as loci by cell\n",
    "    expression_res_df = pd.DataFrame.from_dict(expression_res_dict, orient='index')\n",
    "    expression_res_df['loci_name']=codebook_df.index.tolist()\n",
    "    expression_res_df = expression_res_df.set_index ('loci_name')\n",
    "    expression_res_df_dict[_group]=expression_res_df\n",
    "    # save\n",
    "    output_df_fname = os.path.join(output_folder, f'MERFISH_loci_10x_ATAC_2X_{bin_size}kb_for_{_group_fname}.csv')\n",
    "    expression_res_df.to_csv(output_df_fname)\n",
    "    print ('=========================================================')\n"
   ]
  },
  {
   "cell_type": "code",
   "execution_count": 24,
   "metadata": {},
   "outputs": [
    {
     "data": {
      "text/html": [
       "<div>\n",
       "<style scoped>\n",
       "    .dataframe tbody tr th:only-of-type {\n",
       "        vertical-align: middle;\n",
       "    }\n",
       "\n",
       "    .dataframe tbody tr th {\n",
       "        vertical-align: top;\n",
       "    }\n",
       "\n",
       "    .dataframe thead th {\n",
       "        text-align: right;\n",
       "    }\n",
       "</style>\n",
       "<table border=\"1\" class=\"dataframe\">\n",
       "  <thead>\n",
       "    <tr style=\"text-align: right;\">\n",
       "      <th></th>\n",
       "      <th>0</th>\n",
       "      <th>1</th>\n",
       "      <th>2</th>\n",
       "      <th>3</th>\n",
       "      <th>4</th>\n",
       "      <th>5</th>\n",
       "      <th>6</th>\n",
       "      <th>7</th>\n",
       "      <th>8</th>\n",
       "      <th>9</th>\n",
       "      <th>...</th>\n",
       "      <th>2459</th>\n",
       "      <th>2460</th>\n",
       "      <th>2461</th>\n",
       "      <th>2462</th>\n",
       "      <th>2463</th>\n",
       "      <th>2464</th>\n",
       "      <th>2465</th>\n",
       "      <th>2466</th>\n",
       "      <th>2467</th>\n",
       "      <th>2468</th>\n",
       "    </tr>\n",
       "    <tr>\n",
       "      <th>loci_name</th>\n",
       "      <th></th>\n",
       "      <th></th>\n",
       "      <th></th>\n",
       "      <th></th>\n",
       "      <th></th>\n",
       "      <th></th>\n",
       "      <th></th>\n",
       "      <th></th>\n",
       "      <th></th>\n",
       "      <th></th>\n",
       "      <th></th>\n",
       "      <th></th>\n",
       "      <th></th>\n",
       "      <th></th>\n",
       "      <th></th>\n",
       "      <th></th>\n",
       "      <th></th>\n",
       "      <th></th>\n",
       "      <th></th>\n",
       "      <th></th>\n",
       "      <th></th>\n",
       "    </tr>\n",
       "  </thead>\n",
       "  <tbody>\n",
       "    <tr>\n",
       "      <th>chr1_3742742_3759944</th>\n",
       "      <td>2.0</td>\n",
       "      <td>11.0</td>\n",
       "      <td>4.0</td>\n",
       "      <td>2.0</td>\n",
       "      <td>2.0</td>\n",
       "      <td>0.0</td>\n",
       "      <td>0.0</td>\n",
       "      <td>11.0</td>\n",
       "      <td>0.0</td>\n",
       "      <td>0.0</td>\n",
       "      <td>...</td>\n",
       "      <td>2.0</td>\n",
       "      <td>1.0</td>\n",
       "      <td>11.0</td>\n",
       "      <td>0.0</td>\n",
       "      <td>0.0</td>\n",
       "      <td>3.0</td>\n",
       "      <td>5.0</td>\n",
       "      <td>0.0</td>\n",
       "      <td>0.0</td>\n",
       "      <td>11.0</td>\n",
       "    </tr>\n",
       "    <tr>\n",
       "      <th>chr1_6245958_6258969</th>\n",
       "      <td>1.0</td>\n",
       "      <td>9.0</td>\n",
       "      <td>3.0</td>\n",
       "      <td>6.0</td>\n",
       "      <td>0.0</td>\n",
       "      <td>2.0</td>\n",
       "      <td>0.0</td>\n",
       "      <td>6.0</td>\n",
       "      <td>0.0</td>\n",
       "      <td>0.0</td>\n",
       "      <td>...</td>\n",
       "      <td>2.0</td>\n",
       "      <td>1.0</td>\n",
       "      <td>10.0</td>\n",
       "      <td>1.0</td>\n",
       "      <td>2.0</td>\n",
       "      <td>0.0</td>\n",
       "      <td>3.0</td>\n",
       "      <td>1.0</td>\n",
       "      <td>0.0</td>\n",
       "      <td>3.0</td>\n",
       "    </tr>\n",
       "    <tr>\n",
       "      <th>chr1_8740008_8759916</th>\n",
       "      <td>0.0</td>\n",
       "      <td>10.0</td>\n",
       "      <td>10.0</td>\n",
       "      <td>1.0</td>\n",
       "      <td>0.0</td>\n",
       "      <td>4.0</td>\n",
       "      <td>3.0</td>\n",
       "      <td>4.0</td>\n",
       "      <td>1.0</td>\n",
       "      <td>1.0</td>\n",
       "      <td>...</td>\n",
       "      <td>2.0</td>\n",
       "      <td>2.0</td>\n",
       "      <td>3.0</td>\n",
       "      <td>1.0</td>\n",
       "      <td>2.0</td>\n",
       "      <td>3.0</td>\n",
       "      <td>4.0</td>\n",
       "      <td>2.0</td>\n",
       "      <td>5.0</td>\n",
       "      <td>3.0</td>\n",
       "    </tr>\n",
       "    <tr>\n",
       "      <th>chr1_9627926_9637875</th>\n",
       "      <td>1.0</td>\n",
       "      <td>12.0</td>\n",
       "      <td>10.0</td>\n",
       "      <td>0.0</td>\n",
       "      <td>0.0</td>\n",
       "      <td>6.0</td>\n",
       "      <td>3.0</td>\n",
       "      <td>1.0</td>\n",
       "      <td>1.0</td>\n",
       "      <td>1.0</td>\n",
       "      <td>...</td>\n",
       "      <td>1.0</td>\n",
       "      <td>2.0</td>\n",
       "      <td>2.0</td>\n",
       "      <td>3.0</td>\n",
       "      <td>3.0</td>\n",
       "      <td>4.0</td>\n",
       "      <td>3.0</td>\n",
       "      <td>1.0</td>\n",
       "      <td>6.0</td>\n",
       "      <td>6.0</td>\n",
       "    </tr>\n",
       "    <tr>\n",
       "      <th>chr1_9799472_9811359</th>\n",
       "      <td>2.0</td>\n",
       "      <td>14.0</td>\n",
       "      <td>11.0</td>\n",
       "      <td>0.0</td>\n",
       "      <td>0.0</td>\n",
       "      <td>5.0</td>\n",
       "      <td>3.0</td>\n",
       "      <td>2.0</td>\n",
       "      <td>1.0</td>\n",
       "      <td>1.0</td>\n",
       "      <td>...</td>\n",
       "      <td>1.0</td>\n",
       "      <td>2.0</td>\n",
       "      <td>2.0</td>\n",
       "      <td>3.0</td>\n",
       "      <td>3.0</td>\n",
       "      <td>4.0</td>\n",
       "      <td>3.0</td>\n",
       "      <td>1.0</td>\n",
       "      <td>7.0</td>\n",
       "      <td>6.0</td>\n",
       "    </tr>\n",
       "  </tbody>\n",
       "</table>\n",
       "<p>5 rows × 2469 columns</p>\n",
       "</div>"
      ],
      "text/plain": [
       "                      0     1     2     3     4     5     6     7     8     \\\n",
       "loci_name                                                                    \n",
       "chr1_3742742_3759944   2.0  11.0   4.0   2.0   2.0   0.0   0.0  11.0   0.0   \n",
       "chr1_6245958_6258969   1.0   9.0   3.0   6.0   0.0   2.0   0.0   6.0   0.0   \n",
       "chr1_8740008_8759916   0.0  10.0  10.0   1.0   0.0   4.0   3.0   4.0   1.0   \n",
       "chr1_9627926_9637875   1.0  12.0  10.0   0.0   0.0   6.0   3.0   1.0   1.0   \n",
       "chr1_9799472_9811359   2.0  14.0  11.0   0.0   0.0   5.0   3.0   2.0   1.0   \n",
       "\n",
       "                      9     ...  2459  2460  2461  2462  2463  2464  2465  \\\n",
       "loci_name                   ...                                             \n",
       "chr1_3742742_3759944   0.0  ...   2.0   1.0  11.0   0.0   0.0   3.0   5.0   \n",
       "chr1_6245958_6258969   0.0  ...   2.0   1.0  10.0   1.0   2.0   0.0   3.0   \n",
       "chr1_8740008_8759916   1.0  ...   2.0   2.0   3.0   1.0   2.0   3.0   4.0   \n",
       "chr1_9627926_9637875   1.0  ...   1.0   2.0   2.0   3.0   3.0   4.0   3.0   \n",
       "chr1_9799472_9811359   1.0  ...   1.0   2.0   2.0   3.0   3.0   4.0   3.0   \n",
       "\n",
       "                      2466  2467  2468  \n",
       "loci_name                               \n",
       "chr1_3742742_3759944   0.0   0.0  11.0  \n",
       "chr1_6245958_6258969   1.0   0.0   3.0  \n",
       "chr1_8740008_8759916   2.0   5.0   3.0  \n",
       "chr1_9627926_9637875   1.0   6.0   6.0  \n",
       "chr1_9799472_9811359   1.0   7.0   6.0  \n",
       "\n",
       "[5 rows x 2469 columns]"
      ]
     },
     "execution_count": 24,
     "metadata": {},
     "output_type": "execute_result"
    }
   ],
   "source": [
    "expression_res_df.head()"
   ]
  }
 ],
 "metadata": {
  "kernelspec": {
   "display_name": "Python 3 (ipykernel)",
   "language": "python",
   "name": "python3"
  },
  "language_info": {
   "codemirror_mode": {
    "name": "ipython",
    "version": 3
   },
   "file_extension": ".py",
   "mimetype": "text/x-python",
   "name": "python",
   "nbconvert_exporter": "python",
   "pygments_lexer": "ipython3",
   "version": "3.10.8"
  },
  "toc": {
   "base_numbering": 1,
   "nav_menu": {},
   "number_sections": true,
   "sideBar": true,
   "skip_h1_title": false,
   "title_cell": "Table of Contents",
   "title_sidebar": "Contents",
   "toc_cell": false,
   "toc_position": {
    "height": "calc(100% - 180px)",
    "left": "10px",
    "top": "150px",
    "width": "307.2px"
   },
   "toc_section_display": true,
   "toc_window_display": true
  }
 },
 "nbformat": 4,
 "nbformat_minor": 4
}
