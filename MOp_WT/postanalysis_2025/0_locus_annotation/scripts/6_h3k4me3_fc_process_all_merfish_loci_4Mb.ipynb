{
 "cells": [
  {
   "cell_type": "markdown",
   "metadata": {},
   "source": [
    "# Import module"
   ]
  },
  {
   "cell_type": "markdown",
   "metadata": {},
   "source": [
    "The link to get [ImageAnalysis3](https://github.com/zhengpuas47/ImageAnalysis3) \n",
    "\n",
    "Or from the Zhuang lab archived [source_tools](https://github.com/ZhuangLab/Chromatin_Analysis_2020_cell/tree/master/sequential_tracing/source)"
   ]
  },
  {
   "cell_type": "markdown",
   "metadata": {},
   "source": [
    "## ImageAnalysis3 and basic modules"
   ]
  },
  {
   "cell_type": "code",
   "execution_count": 1,
   "metadata": {},
   "outputs": [
    {
     "name": "stdout",
     "output_type": "stream",
     "text": [
      "23784\n"
     ]
    }
   ],
   "source": [
    "%run \"C:\\Users\\shiwei\\Documents\\ImageAnalysis3\\required_files\\Startup_py3.py\"\n",
    "sys.path.append(r\"C:\\Users\\shiwei\\Documents\")\n",
    "\n",
    "import ImageAnalysis3 as ia\n",
    "from ImageAnalysis3 import *\n",
    "from ImageAnalysis3.classes import _allowed_kwds\n",
    "\n",
    "import h5py\n",
    "import ast\n",
    "import pandas as pd\n",
    "\n",
    "print(os.getpid())"
   ]
  },
  {
   "cell_type": "markdown",
   "metadata": {},
   "source": [
    "## Chromatin_analysis_tools etc"
   ]
  },
  {
   "cell_type": "markdown",
   "metadata": {},
   "source": [
    "See **functions** in the repository for [AnalysisTool_Chromatin](../../README.md)"
   ]
  },
  {
   "cell_type": "code",
   "execution_count": 2,
   "metadata": {},
   "outputs": [
    {
     "data": {
      "text/plain": [
       "<module 'atac_to_loci' from 'C:\\\\Users\\\\shiwei\\\\Documents\\\\AnalysisTool_Chromatin\\\\atac_to_loci.py'>"
      ]
     },
     "execution_count": 2,
     "metadata": {},
     "output_type": "execute_result"
    }
   ],
   "source": [
    "# Chromatin_analysis_tools (ATC)\n",
    "# Get path for the py containing functions\n",
    "import os\n",
    "import sys\n",
    "import importlib\n",
    "module_path =r'C:\\Users\\shiwei\\Documents\\AnalysisTool_Chromatin'\n",
    "if module_path not in sys.path:\n",
    "    sys.path.append(module_path)\n",
    "    \n",
    "# import relevant modules\n",
    "import gene_selection \n",
    "importlib.reload(gene_selection)\n",
    "import gene_to_loci\n",
    "importlib.reload(gene_to_loci)\n",
    "import gene_activity\n",
    "importlib.reload(gene_activity)\n",
    "import loci_1d_features\n",
    "importlib.reload(loci_1d_features)  \n",
    "\n",
    "import atac_to_loci\n",
    "importlib.reload(atac_to_loci)"
   ]
  },
  {
   "cell_type": "markdown",
   "metadata": {},
   "source": [
    "# Define folders"
   ]
  },
  {
   "cell_type": "code",
   "execution_count": 3,
   "metadata": {},
   "outputs": [
    {
     "name": "stdout",
     "output_type": "stream",
     "text": [
      "Use existing analysis folder: L:\\Shiwei\\postanalysis_2024\\v0\\locus_annotation\\analysis.\n",
      "Use existing figure folder: L:\\Shiwei\\postanalysis_2024\\v0\\locus_annotation\\figures.\n"
     ]
    }
   ],
   "source": [
    "# main folder for postanalysis\n",
    "postanalysis_folder = r'L:\\Shiwei\\postanalysis_2024\\v0'\n",
    "# input files for postanalysis\n",
    "input_folder = os.path.join(postanalysis_folder, 'resources_from_preprocess')\n",
    "\n",
    "# output file to be generated\n",
    "output_main_folder = os.path.join(postanalysis_folder, 'locus_annotation')\n",
    "\n",
    "output_analysis_folder = os.path.join(output_main_folder, 'analysis')\n",
    "output_figure_folder = os.path.join(output_main_folder, 'figures')\n",
    "\n",
    "# make new folder if needed\n",
    "make_output_folder = True\n",
    "\n",
    "if make_output_folder and not os.path.exists(output_analysis_folder):\n",
    "    os.makedirs(output_analysis_folder)\n",
    "    print(f'Generating analysis folder: {output_analysis_folder}.')\n",
    "elif os.path.exists(output_analysis_folder):\n",
    "    print(f'Use existing analysis folder: {output_analysis_folder}.')\n",
    "    \n",
    "if make_output_folder and not os.path.exists(output_figure_folder):\n",
    "    os.makedirs(output_figure_folder)\n",
    "    print(f'Generating figure folder: {output_figure_folder}.')\n",
    "elif os.path.exists(output_figure_folder):\n",
    "    print(f'Use existing figure folder: {output_figure_folder}.')"
   ]
  },
  {
   "cell_type": "markdown",
   "metadata": {},
   "source": [
    "# Plotting parameters"
   ]
  },
  {
   "cell_type": "code",
   "execution_count": 4,
   "metadata": {},
   "outputs": [],
   "source": [
    "%matplotlib inline\n",
    "import matplotlib\n",
    "matplotlib.rcParams['pdf.fonttype'] = 42\n",
    "import matplotlib.pyplot as plt\n",
    "plt.rc('font', family='serif')\n",
    "plt.rc('font', serif='Arial')\n",
    "\n",
    "from ImageAnalysis3.figure_tools import _double_col_width, _single_col_width, _font_size, _ticklabel_size,_ticklabel_width\n",
    "\n",
    "import seaborn as sns\n",
    "sns.set_context(\"paper\", rc={\"font.size\":_font_size,\"axes.titlesize\":_font_size+1,\"axes.labelsize\":_font_size})  "
   ]
  },
  {
   "cell_type": "markdown",
   "metadata": {},
   "source": [
    "# Load data relevant information"
   ]
  },
  {
   "cell_type": "markdown",
   "metadata": {},
   "source": [
    "## load codebook with peak annotation\n",
    "\n",
    "annotated codebook can be generated similarly with ATAC data using the notebook below:\n",
    "\n",
    "\n",
    "[external/scripts/pair_tag/2_adjacent_h3k27me3_peak_annotation_for_merfish_loci](../../../external/scripts/pair_tag/2_adjacent_h3k27me3_peak_annotation_for_merfish_loci.ipynb)\n",
    "\n",
    "information related to ATAC can be found from the folder in the repository:\n",
    "[ATACseq_MOp_folder](../../../external/scripts/sn_atac)"
   ]
  },
  {
   "cell_type": "code",
   "execution_count": 5,
   "metadata": {},
   "outputs": [
    {
     "data": {
      "text/html": [
       "<div>\n",
       "<style scoped>\n",
       "    .dataframe tbody tr th:only-of-type {\n",
       "        vertical-align: middle;\n",
       "    }\n",
       "\n",
       "    .dataframe tbody tr th {\n",
       "        vertical-align: top;\n",
       "    }\n",
       "\n",
       "    .dataframe thead th {\n",
       "        text-align: right;\n",
       "    }\n",
       "</style>\n",
       "<table border=\"1\" class=\"dataframe\">\n",
       "  <thead>\n",
       "    <tr style=\"text-align: right;\">\n",
       "      <th></th>\n",
       "      <th>name</th>\n",
       "      <th>id</th>\n",
       "      <th>chr</th>\n",
       "      <th>chr_order</th>\n",
       "      <th>library</th>\n",
       "      <th>adjacent_peaks_2000kb_center</th>\n",
       "    </tr>\n",
       "    <tr>\n",
       "      <th>loci_name</th>\n",
       "      <th></th>\n",
       "      <th></th>\n",
       "      <th></th>\n",
       "      <th></th>\n",
       "      <th></th>\n",
       "      <th></th>\n",
       "    </tr>\n",
       "  </thead>\n",
       "  <tbody>\n",
       "    <tr>\n",
       "      <th>chr1_3742742_3759944</th>\n",
       "      <td>1:3742742-3759944</td>\n",
       "      <td>1</td>\n",
       "      <td>1</td>\n",
       "      <td>0</td>\n",
       "      <td>CTP11</td>\n",
       "      <td>chr1_3000000_3001000; chr1_3003000_3004000; ch...</td>\n",
       "    </tr>\n",
       "    <tr>\n",
       "      <th>chr1_6245958_6258969</th>\n",
       "      <td>1:6245958-6258969</td>\n",
       "      <td>2</td>\n",
       "      <td>1</td>\n",
       "      <td>1</td>\n",
       "      <td>CTP11</td>\n",
       "      <td>chr1_4248000_4249000; chr1_4249000_4250000; ch...</td>\n",
       "    </tr>\n",
       "    <tr>\n",
       "      <th>chr1_8740008_8759916</th>\n",
       "      <td>1:8740008-8759916</td>\n",
       "      <td>3</td>\n",
       "      <td>1</td>\n",
       "      <td>2</td>\n",
       "      <td>CTP11</td>\n",
       "      <td>chr1_10001000_10002000; chr1_10002000_10003000...</td>\n",
       "    </tr>\n",
       "    <tr>\n",
       "      <th>chr1_9627926_9637875</th>\n",
       "      <td>1:9627926-9637875</td>\n",
       "      <td>1</td>\n",
       "      <td>1</td>\n",
       "      <td>3</td>\n",
       "      <td>CTP13</td>\n",
       "      <td>chr1_10001000_10002000; chr1_10002000_10003000...</td>\n",
       "    </tr>\n",
       "    <tr>\n",
       "      <th>chr1_9799472_9811359</th>\n",
       "      <td>1:9799472-9811359</td>\n",
       "      <td>2</td>\n",
       "      <td>1</td>\n",
       "      <td>4</td>\n",
       "      <td>CTP13</td>\n",
       "      <td>chr1_10001000_10002000; chr1_10002000_10003000...</td>\n",
       "    </tr>\n",
       "  </tbody>\n",
       "</table>\n",
       "</div>"
      ],
      "text/plain": [
       "                                   name id chr  chr_order library  \\\n",
       "loci_name                                                           \n",
       "chr1_3742742_3759944  1:3742742-3759944  1   1          0   CTP11   \n",
       "chr1_6245958_6258969  1:6245958-6258969  2   1          1   CTP11   \n",
       "chr1_8740008_8759916  1:8740008-8759916  3   1          2   CTP11   \n",
       "chr1_9627926_9637875  1:9627926-9637875  1   1          3   CTP13   \n",
       "chr1_9799472_9811359  1:9799472-9811359  2   1          4   CTP13   \n",
       "\n",
       "                                           adjacent_peaks_2000kb_center  \n",
       "loci_name                                                                \n",
       "chr1_3742742_3759944  chr1_3000000_3001000; chr1_3003000_3004000; ch...  \n",
       "chr1_6245958_6258969  chr1_4248000_4249000; chr1_4249000_4250000; ch...  \n",
       "chr1_8740008_8759916  chr1_10001000_10002000; chr1_10002000_10003000...  \n",
       "chr1_9627926_9637875  chr1_10001000_10002000; chr1_10002000_10003000...  \n",
       "chr1_9799472_9811359  chr1_10001000_10002000; chr1_10002000_10003000...  "
      ]
     },
     "execution_count": 5,
     "metadata": {},
     "output_type": "execute_result"
    }
   ],
   "source": [
    "# load codebook\n",
    "codebook_folder = output_analysis_folder\n",
    "target_mode = 'H3K4me3'\n",
    "# Load codebook and sort\n",
    "codebook_fname = os.path.join(codebook_folder,f'MERFISH_loci_adjacent_{target_mode}_center.csv')\n",
    "codebook_df = pd.read_csv (codebook_fname, index_col=0)\n",
    "codebook_df = loci_1d_features.sort_loci_df_by_chr_order (codebook_df)\n",
    "\n",
    "codebook_df.head()"
   ]
  },
  {
   "cell_type": "markdown",
   "metadata": {},
   "source": [
    "## load analyzed paired-Tag annData"
   ]
  },
  {
   "cell_type": "markdown",
   "metadata": {},
   "source": [
    "anndata can be generated using the notebook below, for example for H3K27ac:\n",
    "\n",
    "[1_prepare_pairtag_fc_h3k27ac_adata](1_prepare_pairtag_fc_h3k27ac_adata.ipynb)\n",
    "\n",
    "for other histone marks, use the corresponding notebook(s) in the same folder as above"
   ]
  },
  {
   "cell_type": "code",
   "execution_count": 6,
   "metadata": {},
   "outputs": [],
   "source": [
    "# Get loaded adata from other notebook\n",
    "import os\n",
    "import scanpy as sc\n",
    "# L drive is Crick Pu_SSD_0\n",
    "scRNA_folder = r'L:\\Shiwei\\DNA_MERFISH_analysis\\Paired_tag\\anndata'\n",
    "# load from here for saved h5ad\n",
    "#adata = sc.read(os.path.join(scRNA_folder,r'MOp_ATAC_combined_preprocessed.h5ad'))\n",
    "adata = sc.read(os.path.join(scRNA_folder,f'FC_pairtag_{target_mode}.h5ad'))"
   ]
  },
  {
   "cell_type": "code",
   "execution_count": 7,
   "metadata": {},
   "outputs": [
    {
     "name": "stdout",
     "output_type": "stream",
     "text": [
      "17.0\n"
     ]
    }
   ],
   "source": [
    "print(np.max(adata.X))"
   ]
  },
  {
   "cell_type": "code",
   "execution_count": 8,
   "metadata": {},
   "outputs": [
    {
     "data": {
      "text/html": [
       "<div>\n",
       "<style scoped>\n",
       "    .dataframe tbody tr th:only-of-type {\n",
       "        vertical-align: middle;\n",
       "    }\n",
       "\n",
       "    .dataframe tbody tr th {\n",
       "        vertical-align: top;\n",
       "    }\n",
       "\n",
       "    .dataframe thead th {\n",
       "        text-align: right;\n",
       "    }\n",
       "</style>\n",
       "<table border=\"1\" class=\"dataframe\">\n",
       "  <thead>\n",
       "    <tr style=\"text-align: right;\">\n",
       "      <th></th>\n",
       "      <th>Tissue</th>\n",
       "      <th>Rep</th>\n",
       "      <th>Target</th>\n",
       "      <th>Total_RNA_Reads</th>\n",
       "      <th>Mapped_RNA_Reads</th>\n",
       "      <th>Uniquely_Mapped_RNA_Reads</th>\n",
       "      <th>UMI_RNA</th>\n",
       "      <th>nGene_RNA</th>\n",
       "      <th>Total_DNA_Reads</th>\n",
       "      <th>Mapped_DNA_Reads</th>\n",
       "      <th>Uniquely_Mapped_DNA_Reads</th>\n",
       "      <th>nFragments_DNA</th>\n",
       "      <th>Membership</th>\n",
       "      <th>Annotation</th>\n",
       "      <th>RNA_UMAP_1</th>\n",
       "      <th>RNA_UMAP_2</th>\n",
       "      <th>DNA_UMAP_1</th>\n",
       "      <th>DNA_UMAP_2</th>\n",
       "      <th>cluster</th>\n",
       "    </tr>\n",
       "    <tr>\n",
       "      <th>Cell_ID</th>\n",
       "      <th></th>\n",
       "      <th></th>\n",
       "      <th></th>\n",
       "      <th></th>\n",
       "      <th></th>\n",
       "      <th></th>\n",
       "      <th></th>\n",
       "      <th></th>\n",
       "      <th></th>\n",
       "      <th></th>\n",
       "      <th></th>\n",
       "      <th></th>\n",
       "      <th></th>\n",
       "      <th></th>\n",
       "      <th></th>\n",
       "      <th></th>\n",
       "      <th></th>\n",
       "      <th></th>\n",
       "      <th></th>\n",
       "    </tr>\n",
       "  </thead>\n",
       "  <tbody>\n",
       "    <tr>\n",
       "      <th>41:03:23:10</th>\n",
       "      <td>FC</td>\n",
       "      <td>2</td>\n",
       "      <td>H3K4me3</td>\n",
       "      <td>16876</td>\n",
       "      <td>16109</td>\n",
       "      <td>15331</td>\n",
       "      <td>3936</td>\n",
       "      <td>508</td>\n",
       "      <td>5040</td>\n",
       "      <td>4602</td>\n",
       "      <td>4490</td>\n",
       "      <td>908</td>\n",
       "      <td>12</td>\n",
       "      <td>BR_InNeu_CGE</td>\n",
       "      <td>-3.804527</td>\n",
       "      <td>3.530817</td>\n",
       "      <td>-0.179855</td>\n",
       "      <td>-0.882941</td>\n",
       "      <td>CGE</td>\n",
       "    </tr>\n",
       "    <tr>\n",
       "      <th>41:03:57:11</th>\n",
       "      <td>FC</td>\n",
       "      <td>2</td>\n",
       "      <td>H3K4me3</td>\n",
       "      <td>2851</td>\n",
       "      <td>2583</td>\n",
       "      <td>2515</td>\n",
       "      <td>633</td>\n",
       "      <td>127</td>\n",
       "      <td>2519</td>\n",
       "      <td>2407</td>\n",
       "      <td>2278</td>\n",
       "      <td>411</td>\n",
       "      <td>15</td>\n",
       "      <td>BR_NonNeu_OPC</td>\n",
       "      <td>0.084456</td>\n",
       "      <td>5.195771</td>\n",
       "      <td>-0.614379</td>\n",
       "      <td>1.548475</td>\n",
       "      <td>OPC</td>\n",
       "    </tr>\n",
       "    <tr>\n",
       "      <th>41:04:22:04</th>\n",
       "      <td>FC</td>\n",
       "      <td>1</td>\n",
       "      <td>H3K4me3</td>\n",
       "      <td>4496</td>\n",
       "      <td>4106</td>\n",
       "      <td>3877</td>\n",
       "      <td>1029</td>\n",
       "      <td>177</td>\n",
       "      <td>10707</td>\n",
       "      <td>10317</td>\n",
       "      <td>9217</td>\n",
       "      <td>1990</td>\n",
       "      <td>2</td>\n",
       "      <td>FC_ExNeu_L4</td>\n",
       "      <td>-3.956812</td>\n",
       "      <td>-4.057654</td>\n",
       "      <td>-0.285618</td>\n",
       "      <td>-1.621552</td>\n",
       "      <td>L4/5 IT</td>\n",
       "    </tr>\n",
       "    <tr>\n",
       "      <th>41:04:36:11</th>\n",
       "      <td>FC</td>\n",
       "      <td>2</td>\n",
       "      <td>H3K4me3</td>\n",
       "      <td>2690</td>\n",
       "      <td>2505</td>\n",
       "      <td>2297</td>\n",
       "      <td>644</td>\n",
       "      <td>147</td>\n",
       "      <td>6422</td>\n",
       "      <td>6212</td>\n",
       "      <td>5920</td>\n",
       "      <td>983</td>\n",
       "      <td>19</td>\n",
       "      <td>BR_NonNeu_Astro_Nnat</td>\n",
       "      <td>-2.640411</td>\n",
       "      <td>10.285779</td>\n",
       "      <td>0.313026</td>\n",
       "      <td>3.098745</td>\n",
       "      <td>Astro</td>\n",
       "    </tr>\n",
       "    <tr>\n",
       "      <th>41:04:51:05</th>\n",
       "      <td>FC</td>\n",
       "      <td>1</td>\n",
       "      <td>H3K4me3</td>\n",
       "      <td>3275</td>\n",
       "      <td>3037</td>\n",
       "      <td>2886</td>\n",
       "      <td>770</td>\n",
       "      <td>143</td>\n",
       "      <td>8367</td>\n",
       "      <td>7945</td>\n",
       "      <td>7545</td>\n",
       "      <td>1630</td>\n",
       "      <td>13</td>\n",
       "      <td>BR_InNeu_Sst</td>\n",
       "      <td>-4.874347</td>\n",
       "      <td>2.274326</td>\n",
       "      <td>-0.430692</td>\n",
       "      <td>-0.232554</td>\n",
       "      <td>Sst</td>\n",
       "    </tr>\n",
       "  </tbody>\n",
       "</table>\n",
       "</div>"
      ],
      "text/plain": [
       "            Tissue  Rep   Target  Total_RNA_Reads  Mapped_RNA_Reads  \\\n",
       "Cell_ID                                                               \n",
       "41:03:23:10     FC    2  H3K4me3            16876             16109   \n",
       "41:03:57:11     FC    2  H3K4me3             2851              2583   \n",
       "41:04:22:04     FC    1  H3K4me3             4496              4106   \n",
       "41:04:36:11     FC    2  H3K4me3             2690              2505   \n",
       "41:04:51:05     FC    1  H3K4me3             3275              3037   \n",
       "\n",
       "             Uniquely_Mapped_RNA_Reads  UMI_RNA  nGene_RNA  Total_DNA_Reads  \\\n",
       "Cell_ID                                                                       \n",
       "41:03:23:10                      15331     3936        508             5040   \n",
       "41:03:57:11                       2515      633        127             2519   \n",
       "41:04:22:04                       3877     1029        177            10707   \n",
       "41:04:36:11                       2297      644        147             6422   \n",
       "41:04:51:05                       2886      770        143             8367   \n",
       "\n",
       "             Mapped_DNA_Reads  Uniquely_Mapped_DNA_Reads  nFragments_DNA  \\\n",
       "Cell_ID                                                                    \n",
       "41:03:23:10              4602                       4490             908   \n",
       "41:03:57:11              2407                       2278             411   \n",
       "41:04:22:04             10317                       9217            1990   \n",
       "41:04:36:11              6212                       5920             983   \n",
       "41:04:51:05              7945                       7545            1630   \n",
       "\n",
       "             Membership            Annotation  RNA_UMAP_1  RNA_UMAP_2  \\\n",
       "Cell_ID                                                                 \n",
       "41:03:23:10          12          BR_InNeu_CGE   -3.804527    3.530817   \n",
       "41:03:57:11          15         BR_NonNeu_OPC    0.084456    5.195771   \n",
       "41:04:22:04           2           FC_ExNeu_L4   -3.956812   -4.057654   \n",
       "41:04:36:11          19  BR_NonNeu_Astro_Nnat   -2.640411   10.285779   \n",
       "41:04:51:05          13          BR_InNeu_Sst   -4.874347    2.274326   \n",
       "\n",
       "             DNA_UMAP_1  DNA_UMAP_2  cluster  \n",
       "Cell_ID                                       \n",
       "41:03:23:10   -0.179855   -0.882941      CGE  \n",
       "41:03:57:11   -0.614379    1.548475      OPC  \n",
       "41:04:22:04   -0.285618   -1.621552  L4/5 IT  \n",
       "41:04:36:11    0.313026    3.098745    Astro  \n",
       "41:04:51:05   -0.430692   -0.232554      Sst  "
      ]
     },
     "execution_count": 8,
     "metadata": {},
     "output_type": "execute_result"
    }
   ],
   "source": [
    "adata.obs.head()"
   ]
  },
  {
   "cell_type": "code",
   "execution_count": 9,
   "metadata": {},
   "outputs": [
    {
     "data": {
      "text/html": [
       "<div>\n",
       "<style scoped>\n",
       "    .dataframe tbody tr th:only-of-type {\n",
       "        vertical-align: middle;\n",
       "    }\n",
       "\n",
       "    .dataframe tbody tr th {\n",
       "        vertical-align: top;\n",
       "    }\n",
       "\n",
       "    .dataframe thead th {\n",
       "        text-align: right;\n",
       "    }\n",
       "</style>\n",
       "<table border=\"1\" class=\"dataframe\">\n",
       "  <thead>\n",
       "    <tr style=\"text-align: right;\">\n",
       "      <th></th>\n",
       "    </tr>\n",
       "  </thead>\n",
       "  <tbody>\n",
       "    <tr>\n",
       "      <th>chr10_100002000_100003000</th>\n",
       "    </tr>\n",
       "    <tr>\n",
       "      <th>chr10_100004000_100005000</th>\n",
       "    </tr>\n",
       "    <tr>\n",
       "      <th>chr10_100007000_100008000</th>\n",
       "    </tr>\n",
       "    <tr>\n",
       "      <th>chr10_100008000_100009000</th>\n",
       "    </tr>\n",
       "    <tr>\n",
       "      <th>chr10_100009000_100010000</th>\n",
       "    </tr>\n",
       "  </tbody>\n",
       "</table>\n",
       "</div>"
      ],
      "text/plain": [
       "Empty DataFrame\n",
       "Columns: []\n",
       "Index: [chr10_100002000_100003000, chr10_100004000_100005000, chr10_100007000_100008000, chr10_100008000_100009000, chr10_100009000_100010000]"
      ]
     },
     "execution_count": 9,
     "metadata": {},
     "output_type": "execute_result"
    }
   ],
   "source": [
    "adata.var.head()"
   ]
  },
  {
   "cell_type": "markdown",
   "metadata": {},
   "source": [
    "# Extract peak numbers"
   ]
  },
  {
   "cell_type": "code",
   "execution_count": 10,
   "metadata": {},
   "outputs": [
    {
     "name": "stdout",
     "output_type": "stream",
     "text": [
      "Get all existing adjacent gene columns.\n"
     ]
    },
    {
     "data": {
      "text/html": [
       "<div>\n",
       "<style scoped>\n",
       "    .dataframe tbody tr th:only-of-type {\n",
       "        vertical-align: middle;\n",
       "    }\n",
       "\n",
       "    .dataframe tbody tr th {\n",
       "        vertical-align: top;\n",
       "    }\n",
       "\n",
       "    .dataframe thead th {\n",
       "        text-align: right;\n",
       "    }\n",
       "</style>\n",
       "<table border=\"1\" class=\"dataframe\">\n",
       "  <thead>\n",
       "    <tr style=\"text-align: right;\">\n",
       "      <th></th>\n",
       "      <th>name</th>\n",
       "      <th>id</th>\n",
       "      <th>chr</th>\n",
       "      <th>chr_order</th>\n",
       "      <th>library</th>\n",
       "      <th>adjacent_peaks_2000kb_center</th>\n",
       "    </tr>\n",
       "    <tr>\n",
       "      <th>Imaged_loci</th>\n",
       "      <th></th>\n",
       "      <th></th>\n",
       "      <th></th>\n",
       "      <th></th>\n",
       "      <th></th>\n",
       "      <th></th>\n",
       "    </tr>\n",
       "  </thead>\n",
       "  <tbody>\n",
       "    <tr>\n",
       "      <th>chr1_3742742_3759944</th>\n",
       "      <td>1:3742742-3759944</td>\n",
       "      <td>1</td>\n",
       "      <td>1</td>\n",
       "      <td>0</td>\n",
       "      <td>CTP11</td>\n",
       "      <td>chr1_3000000_3001000; chr1_3003000_3004000; ch...</td>\n",
       "    </tr>\n",
       "    <tr>\n",
       "      <th>chr1_6245958_6258969</th>\n",
       "      <td>1:6245958-6258969</td>\n",
       "      <td>2</td>\n",
       "      <td>1</td>\n",
       "      <td>1</td>\n",
       "      <td>CTP11</td>\n",
       "      <td>chr1_4248000_4249000; chr1_4249000_4250000; ch...</td>\n",
       "    </tr>\n",
       "    <tr>\n",
       "      <th>chr1_8740008_8759916</th>\n",
       "      <td>1:8740008-8759916</td>\n",
       "      <td>3</td>\n",
       "      <td>1</td>\n",
       "      <td>2</td>\n",
       "      <td>CTP11</td>\n",
       "      <td>chr1_10001000_10002000; chr1_10002000_10003000...</td>\n",
       "    </tr>\n",
       "    <tr>\n",
       "      <th>chr1_9627926_9637875</th>\n",
       "      <td>1:9627926-9637875</td>\n",
       "      <td>1</td>\n",
       "      <td>1</td>\n",
       "      <td>3</td>\n",
       "      <td>CTP13</td>\n",
       "      <td>chr1_10001000_10002000; chr1_10002000_10003000...</td>\n",
       "    </tr>\n",
       "    <tr>\n",
       "      <th>chr1_9799472_9811359</th>\n",
       "      <td>1:9799472-9811359</td>\n",
       "      <td>2</td>\n",
       "      <td>1</td>\n",
       "      <td>4</td>\n",
       "      <td>CTP13</td>\n",
       "      <td>chr1_10001000_10002000; chr1_10002000_10003000...</td>\n",
       "    </tr>\n",
       "    <tr>\n",
       "      <th>...</th>\n",
       "      <td>...</td>\n",
       "      <td>...</td>\n",
       "      <td>...</td>\n",
       "      <td>...</td>\n",
       "      <td>...</td>\n",
       "      <td>...</td>\n",
       "    </tr>\n",
       "    <tr>\n",
       "      <th>chrX_166247682_166259932</th>\n",
       "      <td>X:166247682-166259932</td>\n",
       "      <td>1059</td>\n",
       "      <td>X</td>\n",
       "      <td>60</td>\n",
       "      <td>CTP11</td>\n",
       "      <td>chrX_164254000_164255000; chrX_164255000_16425...</td>\n",
       "    </tr>\n",
       "    <tr>\n",
       "      <th>chrX_167157164_167167452</th>\n",
       "      <td>X:167157164-167167452</td>\n",
       "      <td>990</td>\n",
       "      <td>X</td>\n",
       "      <td>61</td>\n",
       "      <td>CTP13</td>\n",
       "      <td>chrX_165169000_165170000; chrX_165178000_16517...</td>\n",
       "    </tr>\n",
       "    <tr>\n",
       "      <th>chrX_168746045_168757590</th>\n",
       "      <td>X:168746045-168757590</td>\n",
       "      <td>1060</td>\n",
       "      <td>X</td>\n",
       "      <td>62</td>\n",
       "      <td>CTP11</td>\n",
       "      <td>chrX_166746000_166747000; chrX_166748000_16674...</td>\n",
       "    </tr>\n",
       "    <tr>\n",
       "      <th>chrX_169963295_170005197</th>\n",
       "      <td>X:169963295-170005197</td>\n",
       "      <td>991</td>\n",
       "      <td>X</td>\n",
       "      <td>63</td>\n",
       "      <td>CTP13</td>\n",
       "      <td>chrX_167963000_167964000; chrX_167965000_16796...</td>\n",
       "    </tr>\n",
       "    <tr>\n",
       "      <th>chrY_1245775_1259992</th>\n",
       "      <td>Y:1245775-1259992</td>\n",
       "      <td>1062</td>\n",
       "      <td>Y</td>\n",
       "      <td>0</td>\n",
       "      <td>CTP11</td>\n",
       "      <td>chrY_1008000_1009000; chrY_1009000_1010000; ch...</td>\n",
       "    </tr>\n",
       "  </tbody>\n",
       "</table>\n",
       "<p>1982 rows × 6 columns</p>\n",
       "</div>"
      ],
      "text/plain": [
       "                                           name    id chr  chr_order library  \\\n",
       "Imaged_loci                                                                    \n",
       "chr1_3742742_3759944          1:3742742-3759944     1   1          0   CTP11   \n",
       "chr1_6245958_6258969          1:6245958-6258969     2   1          1   CTP11   \n",
       "chr1_8740008_8759916          1:8740008-8759916     3   1          2   CTP11   \n",
       "chr1_9627926_9637875          1:9627926-9637875     1   1          3   CTP13   \n",
       "chr1_9799472_9811359          1:9799472-9811359     2   1          4   CTP13   \n",
       "...                                         ...   ...  ..        ...     ...   \n",
       "chrX_166247682_166259932  X:166247682-166259932  1059   X         60   CTP11   \n",
       "chrX_167157164_167167452  X:167157164-167167452   990   X         61   CTP13   \n",
       "chrX_168746045_168757590  X:168746045-168757590  1060   X         62   CTP11   \n",
       "chrX_169963295_170005197  X:169963295-170005197   991   X         63   CTP13   \n",
       "chrY_1245775_1259992          Y:1245775-1259992  1062   Y          0   CTP11   \n",
       "\n",
       "                                               adjacent_peaks_2000kb_center  \n",
       "Imaged_loci                                                                  \n",
       "chr1_3742742_3759944      chr1_3000000_3001000; chr1_3003000_3004000; ch...  \n",
       "chr1_6245958_6258969      chr1_4248000_4249000; chr1_4249000_4250000; ch...  \n",
       "chr1_8740008_8759916      chr1_10001000_10002000; chr1_10002000_10003000...  \n",
       "chr1_9627926_9637875      chr1_10001000_10002000; chr1_10002000_10003000...  \n",
       "chr1_9799472_9811359      chr1_10001000_10002000; chr1_10002000_10003000...  \n",
       "...                                                                     ...  \n",
       "chrX_166247682_166259932  chrX_164254000_164255000; chrX_164255000_16425...  \n",
       "chrX_167157164_167167452  chrX_165169000_165170000; chrX_165178000_16517...  \n",
       "chrX_168746045_168757590  chrX_166746000_166747000; chrX_166748000_16674...  \n",
       "chrX_169963295_170005197  chrX_167963000_167964000; chrX_167965000_16796...  \n",
       "chrY_1245775_1259992      chrY_1008000_1009000; chrY_1009000_1010000; ch...  \n",
       "\n",
       "[1982 rows x 6 columns]"
      ]
     },
     "execution_count": 10,
     "metadata": {},
     "output_type": "execute_result"
    }
   ],
   "source": [
    "# change index name as imaged loci to find nearby genes\n",
    "import gene_to_loci as gl\n",
    "\n",
    "imaged_loci_df = codebook_df.copy(deep=True)\n",
    "\n",
    "imaged_loci_df.index.name = 'Imaged_loci'\n",
    "imaged_loci_df = gl.direct_get_genes_near_gene_dataframe (imaged_loci_df,\n",
    "                                   codebook_df, \n",
    "                                   adjacent_gene_col = None)\n",
    "\n",
    "\n",
    "imaged_loci_df"
   ]
  },
  {
   "cell_type": "code",
   "execution_count": 11,
   "metadata": {},
   "outputs": [
    {
     "data": {
      "text/plain": [
       "Index(['name', 'id', 'chr', 'chr_order', 'library',\n",
       "       'adjacent_peaks_2000kb_center'],\n",
       "      dtype='object')"
      ]
     },
     "execution_count": 11,
     "metadata": {},
     "output_type": "execute_result"
    }
   ],
   "source": [
    "imaged_loci_df.columns"
   ]
  },
  {
   "cell_type": "markdown",
   "metadata": {},
   "source": [
    "## process for subclasses"
   ]
  },
  {
   "cell_type": "code",
   "execution_count": 12,
   "metadata": {},
   "outputs": [
    {
     "data": {
      "text/plain": [
       "['Astro',\n",
       " 'CGE',\n",
       " 'Endo',\n",
       " 'L2/3 IT',\n",
       " 'L4/5 IT',\n",
       " 'L5 ET',\n",
       " 'L5 IT',\n",
       " 'L5/6 NP',\n",
       " 'L6 CT',\n",
       " 'Micro',\n",
       " 'OPC',\n",
       " 'Oligo',\n",
       " 'Pvalb',\n",
       " 'Sst']"
      ]
     },
     "execution_count": 12,
     "metadata": {},
     "output_type": "execute_result"
    }
   ],
   "source": [
    "#groupby_adata = 'subclass_label_new'\n",
    "groupby_adata = 'cluster'\n",
    "# pass/change variable name\n",
    "adata_ori = adata\n",
    "\n",
    "np.unique(list(adata_ori.obs[groupby_adata]))\n",
    "sel_class_to_process = [c for c in np.unique(list(adata_ori.obs[groupby_adata])) if c!='nan']\n",
    "sel_class_to_process"
   ]
  },
  {
   "cell_type": "code",
   "execution_count": 13,
   "metadata": {},
   "outputs": [],
   "source": [
    "# output_folder\n",
    "output_folder = os.path.join(output_analysis_folder, r'Pairtag\\subclass')\n",
    "if not os.path.exists(output_folder):\n",
    "    os.makedirs(output_folder)\n",
    "    print ('Generate output folder')"
   ]
  },
  {
   "cell_type": "code",
   "execution_count": 14,
   "metadata": {},
   "outputs": [
    {
     "name": "stdout",
     "output_type": "stream",
     "text": [
      "Process pairtag data for Astro\n"
     ]
    },
    {
     "name": "stderr",
     "output_type": "stream",
     "text": [
      "1982it [02:59, 11.04it/s]\n"
     ]
    },
    {
     "name": "stdout",
     "output_type": "stream",
     "text": [
      "=========================================================\n",
      "Process pairtag data for CGE\n"
     ]
    },
    {
     "name": "stderr",
     "output_type": "stream",
     "text": [
      "1982it [02:41, 12.27it/s]\n"
     ]
    },
    {
     "name": "stdout",
     "output_type": "stream",
     "text": [
      "=========================================================\n",
      "Process pairtag data for Endo\n"
     ]
    },
    {
     "name": "stderr",
     "output_type": "stream",
     "text": [
      "1982it [02:37, 12.57it/s]\n"
     ]
    },
    {
     "name": "stdout",
     "output_type": "stream",
     "text": [
      "=========================================================\n",
      "Process pairtag data for L2/3 IT\n"
     ]
    },
    {
     "name": "stderr",
     "output_type": "stream",
     "text": [
      "1982it [02:36, 12.63it/s]\n"
     ]
    },
    {
     "name": "stdout",
     "output_type": "stream",
     "text": [
      "=========================================================\n",
      "Process pairtag data for L4/5 IT\n"
     ]
    },
    {
     "name": "stderr",
     "output_type": "stream",
     "text": [
      "1982it [02:37, 12.57it/s]\n"
     ]
    },
    {
     "name": "stdout",
     "output_type": "stream",
     "text": [
      "=========================================================\n",
      "Process pairtag data for L5 ET\n"
     ]
    },
    {
     "name": "stderr",
     "output_type": "stream",
     "text": [
      "1982it [02:37, 12.58it/s]\n"
     ]
    },
    {
     "name": "stdout",
     "output_type": "stream",
     "text": [
      "=========================================================\n",
      "Process pairtag data for L5 IT\n"
     ]
    },
    {
     "name": "stderr",
     "output_type": "stream",
     "text": [
      "1982it [02:37, 12.62it/s]\n"
     ]
    },
    {
     "name": "stdout",
     "output_type": "stream",
     "text": [
      "=========================================================\n",
      "Process pairtag data for L5/6 NP\n"
     ]
    },
    {
     "name": "stderr",
     "output_type": "stream",
     "text": [
      "1982it [02:37, 12.59it/s]\n"
     ]
    },
    {
     "name": "stdout",
     "output_type": "stream",
     "text": [
      "=========================================================\n",
      "Process pairtag data for L6 CT\n"
     ]
    },
    {
     "name": "stderr",
     "output_type": "stream",
     "text": [
      "1982it [02:37, 12.55it/s]\n"
     ]
    },
    {
     "name": "stdout",
     "output_type": "stream",
     "text": [
      "=========================================================\n",
      "Process pairtag data for Micro\n"
     ]
    },
    {
     "name": "stderr",
     "output_type": "stream",
     "text": [
      "1982it [02:39, 12.43it/s]\n"
     ]
    },
    {
     "name": "stdout",
     "output_type": "stream",
     "text": [
      "=========================================================\n",
      "Process pairtag data for OPC\n"
     ]
    },
    {
     "name": "stderr",
     "output_type": "stream",
     "text": [
      "1982it [02:40, 12.37it/s]\n"
     ]
    },
    {
     "name": "stdout",
     "output_type": "stream",
     "text": [
      "=========================================================\n",
      "Process pairtag data for Oligo\n"
     ]
    },
    {
     "name": "stderr",
     "output_type": "stream",
     "text": [
      "1982it [02:46, 11.92it/s]\n"
     ]
    },
    {
     "name": "stdout",
     "output_type": "stream",
     "text": [
      "=========================================================\n",
      "Process pairtag data for Pvalb\n"
     ]
    },
    {
     "name": "stderr",
     "output_type": "stream",
     "text": [
      "1982it [02:38, 12.51it/s]\n"
     ]
    },
    {
     "name": "stdout",
     "output_type": "stream",
     "text": [
      "=========================================================\n",
      "Process pairtag data for Sst\n"
     ]
    },
    {
     "name": "stderr",
     "output_type": "stream",
     "text": [
      "1982it [02:39, 12.46it/s]\n"
     ]
    },
    {
     "name": "stdout",
     "output_type": "stream",
     "text": [
      "=========================================================\n"
     ]
    }
   ],
   "source": [
    "%matplotlib inline\n",
    "\n",
    "import gene_activity\n",
    "import loci_1d_features\n",
    "from scipy import stats\n",
    "import seaborn as sns\n",
    "from tqdm import tqdm\n",
    "\n",
    "bin_size =2000 # extend both direction\n",
    "adjcent_col = f'adjacent_peaks_{bin_size}kb_center'\n",
    "activity_type = 'sum' # sum of all gene associated to a loci for each single cell\n",
    "\n",
    "expression_res_df_dict = {}\n",
    "sel_class_to_process = [c for c in np.unique(list(adata_ori.obs[groupby_adata])) if c!='nan']\n",
    "\n",
    "# simple loop\n",
    "for _group in sel_class_to_process[:]:\n",
    "    _group_fname = _group.replace('/','_').replace(' ','_')\n",
    "    \n",
    "    print (f'Process pairtag data for {_group}')\n",
    "    \n",
    "    expression_res_dict={}\n",
    "    sorted_group_order = [_group]\n",
    "\n",
    "    imaged_loci_df_group = loci_1d_features.codebook_chr_order_for_loci_dataframe (imaged_loci_df, \n",
    "                                               codebook_df, \n",
    "                                               sel_cols =['chr','chr_order','id'], \n",
    "                                               sort_df = True,\n",
    "                                               sort_by_chr=True)\n",
    "\n",
    "    loci_key_list = loci_1d_features.sorted_loci_keys_for_loci_dataframe(imaged_loci_df_group)\n",
    "    loci_ori_ind = loci_1d_features.find_chr_loci_iloc_from_loci_keys (codebook_df, loci_key_list)\n",
    "\n",
    "    # for loci along the chromosome, append the measurements for each single cell\n",
    "    for _ind, sel_loci_ind in tqdm(enumerate(imaged_loci_df_group.index.tolist()[:])):\n",
    "\n",
    "        # get adjacent gene expression (which are peaks in this case)\n",
    "        sel_genes=imaged_loci_df_group.loc[sel_loci_ind][adjcent_col].split('; ')\n",
    "        sel_adata =  adata_ori[:,adata_ori.var.index.isin(sel_genes)]\n",
    "        marker_expressions = gene_activity.gene_activity_raw_groups(sel_genes,\n",
    "                            sel_adata, \n",
    "                            sorted_group_order,\n",
    "                            groupby_adata,\n",
    "                            ref_norm_list = [],\n",
    "                            report_type =activity_type)\n",
    "\n",
    "        expression_res_dict[_ind]=list(marker_expressions[_group])\n",
    "        \n",
    "    # convert dict to df as loci by cell\n",
    "    expression_res_df = pd.DataFrame.from_dict(expression_res_dict, orient='index')\n",
    "    expression_res_df['loci_name']=codebook_df.index.tolist()\n",
    "    expression_res_df = expression_res_df.set_index ('loci_name')\n",
    "    expression_res_df_dict[_group]=expression_res_df\n",
    "    # save\n",
    "    output_df_fname = os.path.join(output_folder, f'MERFISH_loci_{target_mode}_2X_{bin_size}kb_for_{_group_fname}.csv')\n",
    "    expression_res_df.to_csv(output_df_fname)\n",
    "    print ('=========================================================')\n"
   ]
  },
  {
   "cell_type": "code",
   "execution_count": 15,
   "metadata": {},
   "outputs": [
    {
     "data": {
      "text/html": [
       "<div>\n",
       "<style scoped>\n",
       "    .dataframe tbody tr th:only-of-type {\n",
       "        vertical-align: middle;\n",
       "    }\n",
       "\n",
       "    .dataframe tbody tr th {\n",
       "        vertical-align: top;\n",
       "    }\n",
       "\n",
       "    .dataframe thead th {\n",
       "        text-align: right;\n",
       "    }\n",
       "</style>\n",
       "<table border=\"1\" class=\"dataframe\">\n",
       "  <thead>\n",
       "    <tr style=\"text-align: right;\">\n",
       "      <th></th>\n",
       "      <th>0</th>\n",
       "      <th>1</th>\n",
       "      <th>2</th>\n",
       "      <th>3</th>\n",
       "      <th>4</th>\n",
       "      <th>5</th>\n",
       "      <th>6</th>\n",
       "      <th>7</th>\n",
       "      <th>8</th>\n",
       "      <th>9</th>\n",
       "      <th>...</th>\n",
       "      <th>49</th>\n",
       "      <th>50</th>\n",
       "      <th>51</th>\n",
       "      <th>52</th>\n",
       "      <th>53</th>\n",
       "      <th>54</th>\n",
       "      <th>55</th>\n",
       "      <th>56</th>\n",
       "      <th>57</th>\n",
       "      <th>58</th>\n",
       "    </tr>\n",
       "    <tr>\n",
       "      <th>loci_name</th>\n",
       "      <th></th>\n",
       "      <th></th>\n",
       "      <th></th>\n",
       "      <th></th>\n",
       "      <th></th>\n",
       "      <th></th>\n",
       "      <th></th>\n",
       "      <th></th>\n",
       "      <th></th>\n",
       "      <th></th>\n",
       "      <th></th>\n",
       "      <th></th>\n",
       "      <th></th>\n",
       "      <th></th>\n",
       "      <th></th>\n",
       "      <th></th>\n",
       "      <th></th>\n",
       "      <th></th>\n",
       "      <th></th>\n",
       "      <th></th>\n",
       "      <th></th>\n",
       "    </tr>\n",
       "  </thead>\n",
       "  <tbody>\n",
       "    <tr>\n",
       "      <th>chr1_3742742_3759944</th>\n",
       "      <td>3.0</td>\n",
       "      <td>0.0</td>\n",
       "      <td>0.0</td>\n",
       "      <td>0.0</td>\n",
       "      <td>2.0</td>\n",
       "      <td>0.0</td>\n",
       "      <td>0.0</td>\n",
       "      <td>3.0</td>\n",
       "      <td>1.0</td>\n",
       "      <td>2.0</td>\n",
       "      <td>...</td>\n",
       "      <td>0.0</td>\n",
       "      <td>0.0</td>\n",
       "      <td>0.0</td>\n",
       "      <td>0.0</td>\n",
       "      <td>0.0</td>\n",
       "      <td>0.0</td>\n",
       "      <td>1.0</td>\n",
       "      <td>3.0</td>\n",
       "      <td>0.0</td>\n",
       "      <td>1.0</td>\n",
       "    </tr>\n",
       "    <tr>\n",
       "      <th>chr1_6245958_6258969</th>\n",
       "      <td>3.0</td>\n",
       "      <td>0.0</td>\n",
       "      <td>0.0</td>\n",
       "      <td>1.0</td>\n",
       "      <td>0.0</td>\n",
       "      <td>1.0</td>\n",
       "      <td>0.0</td>\n",
       "      <td>3.0</td>\n",
       "      <td>0.0</td>\n",
       "      <td>0.0</td>\n",
       "      <td>...</td>\n",
       "      <td>1.0</td>\n",
       "      <td>1.0</td>\n",
       "      <td>0.0</td>\n",
       "      <td>0.0</td>\n",
       "      <td>0.0</td>\n",
       "      <td>0.0</td>\n",
       "      <td>2.0</td>\n",
       "      <td>3.0</td>\n",
       "      <td>0.0</td>\n",
       "      <td>2.0</td>\n",
       "    </tr>\n",
       "    <tr>\n",
       "      <th>chr1_8740008_8759916</th>\n",
       "      <td>2.0</td>\n",
       "      <td>1.0</td>\n",
       "      <td>0.0</td>\n",
       "      <td>0.0</td>\n",
       "      <td>0.0</td>\n",
       "      <td>0.0</td>\n",
       "      <td>0.0</td>\n",
       "      <td>1.0</td>\n",
       "      <td>1.0</td>\n",
       "      <td>0.0</td>\n",
       "      <td>...</td>\n",
       "      <td>1.0</td>\n",
       "      <td>0.0</td>\n",
       "      <td>0.0</td>\n",
       "      <td>1.0</td>\n",
       "      <td>0.0</td>\n",
       "      <td>0.0</td>\n",
       "      <td>3.0</td>\n",
       "      <td>3.0</td>\n",
       "      <td>0.0</td>\n",
       "      <td>1.0</td>\n",
       "    </tr>\n",
       "    <tr>\n",
       "      <th>chr1_9627926_9637875</th>\n",
       "      <td>2.0</td>\n",
       "      <td>1.0</td>\n",
       "      <td>0.0</td>\n",
       "      <td>0.0</td>\n",
       "      <td>0.0</td>\n",
       "      <td>0.0</td>\n",
       "      <td>0.0</td>\n",
       "      <td>1.0</td>\n",
       "      <td>2.0</td>\n",
       "      <td>0.0</td>\n",
       "      <td>...</td>\n",
       "      <td>0.0</td>\n",
       "      <td>0.0</td>\n",
       "      <td>0.0</td>\n",
       "      <td>1.0</td>\n",
       "      <td>1.0</td>\n",
       "      <td>0.0</td>\n",
       "      <td>3.0</td>\n",
       "      <td>1.0</td>\n",
       "      <td>0.0</td>\n",
       "      <td>1.0</td>\n",
       "    </tr>\n",
       "    <tr>\n",
       "      <th>chr1_9799472_9811359</th>\n",
       "      <td>2.0</td>\n",
       "      <td>1.0</td>\n",
       "      <td>0.0</td>\n",
       "      <td>0.0</td>\n",
       "      <td>0.0</td>\n",
       "      <td>0.0</td>\n",
       "      <td>0.0</td>\n",
       "      <td>1.0</td>\n",
       "      <td>2.0</td>\n",
       "      <td>0.0</td>\n",
       "      <td>...</td>\n",
       "      <td>0.0</td>\n",
       "      <td>0.0</td>\n",
       "      <td>0.0</td>\n",
       "      <td>1.0</td>\n",
       "      <td>1.0</td>\n",
       "      <td>0.0</td>\n",
       "      <td>3.0</td>\n",
       "      <td>1.0</td>\n",
       "      <td>0.0</td>\n",
       "      <td>1.0</td>\n",
       "    </tr>\n",
       "  </tbody>\n",
       "</table>\n",
       "<p>5 rows × 59 columns</p>\n",
       "</div>"
      ],
      "text/plain": [
       "                       0    1    2    3    4    5    6    7    8    9   ...  \\\n",
       "loci_name                                                               ...   \n",
       "chr1_3742742_3759944  3.0  0.0  0.0  0.0  2.0  0.0  0.0  3.0  1.0  2.0  ...   \n",
       "chr1_6245958_6258969  3.0  0.0  0.0  1.0  0.0  1.0  0.0  3.0  0.0  0.0  ...   \n",
       "chr1_8740008_8759916  2.0  1.0  0.0  0.0  0.0  0.0  0.0  1.0  1.0  0.0  ...   \n",
       "chr1_9627926_9637875  2.0  1.0  0.0  0.0  0.0  0.0  0.0  1.0  2.0  0.0  ...   \n",
       "chr1_9799472_9811359  2.0  1.0  0.0  0.0  0.0  0.0  0.0  1.0  2.0  0.0  ...   \n",
       "\n",
       "                       49   50   51   52   53   54   55   56   57   58  \n",
       "loci_name                                                               \n",
       "chr1_3742742_3759944  0.0  0.0  0.0  0.0  0.0  0.0  1.0  3.0  0.0  1.0  \n",
       "chr1_6245958_6258969  1.0  1.0  0.0  0.0  0.0  0.0  2.0  3.0  0.0  2.0  \n",
       "chr1_8740008_8759916  1.0  0.0  0.0  1.0  0.0  0.0  3.0  3.0  0.0  1.0  \n",
       "chr1_9627926_9637875  0.0  0.0  0.0  1.0  1.0  0.0  3.0  1.0  0.0  1.0  \n",
       "chr1_9799472_9811359  0.0  0.0  0.0  1.0  1.0  0.0  3.0  1.0  0.0  1.0  \n",
       "\n",
       "[5 rows x 59 columns]"
      ]
     },
     "execution_count": 15,
     "metadata": {},
     "output_type": "execute_result"
    }
   ],
   "source": [
    "expression_res_df.head()"
   ]
  }
 ],
 "metadata": {
  "kernelspec": {
   "display_name": "Python 3 (ipykernel)",
   "language": "python",
   "name": "python3"
  },
  "language_info": {
   "codemirror_mode": {
    "name": "ipython",
    "version": 3
   },
   "file_extension": ".py",
   "mimetype": "text/x-python",
   "name": "python",
   "nbconvert_exporter": "python",
   "pygments_lexer": "ipython3",
   "version": "3.10.8"
  },
  "toc": {
   "base_numbering": 1,
   "nav_menu": {},
   "number_sections": true,
   "sideBar": true,
   "skip_h1_title": false,
   "title_cell": "Table of Contents",
   "title_sidebar": "Contents",
   "toc_cell": false,
   "toc_position": {
    "height": "calc(100% - 180px)",
    "left": "10px",
    "top": "150px",
    "width": "307.2px"
   },
   "toc_section_display": true,
   "toc_window_display": true
  }
 },
 "nbformat": 4,
 "nbformat_minor": 4
}
