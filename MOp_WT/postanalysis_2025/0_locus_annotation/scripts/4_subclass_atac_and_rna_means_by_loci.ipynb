{
 "cells": [
  {
   "cell_type": "markdown",
   "id": "9abe28f0",
   "metadata": {},
   "source": [
    "# Import module"
   ]
  },
  {
   "cell_type": "markdown",
   "id": "5726a17b",
   "metadata": {},
   "source": [
    "The link to get [ImageAnalysis3](https://github.com/zhengpuas47/ImageAnalysis3) \n",
    "\n",
    "Or from the Zhuang lab archived [source_tools](https://github.com/ZhuangLab/Chromatin_Analysis_2020_cell/tree/master/sequential_tracing/source)"
   ]
  },
  {
   "cell_type": "markdown",
   "id": "5fdabf11",
   "metadata": {},
   "source": [
    "## ImageAnalysis3 and basic modules"
   ]
  },
  {
   "cell_type": "code",
   "execution_count": 1,
   "id": "a98cb954",
   "metadata": {},
   "outputs": [
    {
     "name": "stdout",
     "output_type": "stream",
     "text": [
      "42748\n"
     ]
    }
   ],
   "source": [
    "%run \"C:\\Users\\shiwei\\Documents\\ImageAnalysis3\\required_files\\Startup_py3.py\"\n",
    "sys.path.append(r\"C:\\Users\\shiwei\\Documents\")\n",
    "\n",
    "import ImageAnalysis3 as ia\n",
    "from ImageAnalysis3 import *\n",
    "from ImageAnalysis3.classes import _allowed_kwds\n",
    "\n",
    "import h5py\n",
    "import ast\n",
    "import pandas as pd\n",
    "\n",
    "print(os.getpid())"
   ]
  },
  {
   "cell_type": "markdown",
   "id": "de85de9c",
   "metadata": {},
   "source": [
    "## Chromatin_analysis_tools etc"
   ]
  },
  {
   "cell_type": "markdown",
   "id": "d162404f",
   "metadata": {},
   "source": [
    "See **functions** in the repository for [AnalysisTool_Chromatin](../../README.md)"
   ]
  },
  {
   "cell_type": "code",
   "execution_count": 2,
   "id": "0c03de02",
   "metadata": {},
   "outputs": [
    {
     "data": {
      "text/plain": [
       "<module 'atac_to_loci' from 'C:\\\\Users\\\\shiwei\\\\Documents\\\\AnalysisTool_Chromatin\\\\atac_to_loci.py'>"
      ]
     },
     "execution_count": 2,
     "metadata": {},
     "output_type": "execute_result"
    }
   ],
   "source": [
    "# Chromatin_analysis_tools (ATC)\n",
    "# Get path for the py containing functions\n",
    "import os\n",
    "import sys\n",
    "import importlib\n",
    "module_path =r'C:\\Users\\shiwei\\Documents\\AnalysisTool_Chromatin'\n",
    "if module_path not in sys.path:\n",
    "    sys.path.append(module_path)\n",
    "    \n",
    "# import relevant modules\n",
    "import gene_selection \n",
    "importlib.reload(gene_selection)\n",
    "import gene_to_loci\n",
    "importlib.reload(gene_to_loci)\n",
    "import gene_activity\n",
    "importlib.reload(gene_activity)\n",
    "import loci_1d_features\n",
    "importlib.reload(loci_1d_features)  \n",
    "\n",
    "import atac_to_loci\n",
    "importlib.reload(atac_to_loci)"
   ]
  },
  {
   "cell_type": "markdown",
   "id": "70643d26",
   "metadata": {},
   "source": [
    "# Define folders"
   ]
  },
  {
   "cell_type": "code",
   "execution_count": 3,
   "id": "fc4cd3f3",
   "metadata": {},
   "outputs": [
    {
     "name": "stdout",
     "output_type": "stream",
     "text": [
      "Use existing analysis folder: L:\\Shiwei\\postanalysis_2024\\v0\\locus_annotation\\analysis.\n",
      "Use existing figure folder: L:\\Shiwei\\postanalysis_2024\\v0\\locus_annotation\\figures.\n"
     ]
    }
   ],
   "source": [
    "# main folder for postanalysis\n",
    "postanalysis_folder = r'L:\\Shiwei\\postanalysis_2024\\v0'\n",
    "# input files for postanalysis\n",
    "input_folder = os.path.join(postanalysis_folder, 'resources_from_preprocess')\n",
    "\n",
    "# output file to be generated\n",
    "output_main_folder = os.path.join(postanalysis_folder, 'locus_annotation')\n",
    "\n",
    "output_analysis_folder = os.path.join(output_main_folder, 'analysis')\n",
    "output_figure_folder = os.path.join(output_main_folder, 'figures')\n",
    "\n",
    "# make new folder if needed\n",
    "make_output_folder = True\n",
    "\n",
    "if make_output_folder and not os.path.exists(output_analysis_folder):\n",
    "    os.makedirs(output_analysis_folder)\n",
    "    print(f'Generating analysis folder: {output_analysis_folder}.')\n",
    "elif os.path.exists(output_analysis_folder):\n",
    "    print(f'Use existing analysis folder: {output_analysis_folder}.')\n",
    "    \n",
    "if make_output_folder and not os.path.exists(output_figure_folder):\n",
    "    os.makedirs(output_figure_folder)\n",
    "    print(f'Generating figure folder: {output_figure_folder}.')\n",
    "elif os.path.exists(output_figure_folder):\n",
    "    print(f'Use existing figure folder: {output_figure_folder}.')"
   ]
  },
  {
   "cell_type": "markdown",
   "id": "1e4320c5",
   "metadata": {},
   "source": [
    "# Plotting parameters"
   ]
  },
  {
   "cell_type": "code",
   "execution_count": 4,
   "id": "c5dc0fea",
   "metadata": {},
   "outputs": [],
   "source": [
    "%matplotlib inline\n",
    "import matplotlib\n",
    "matplotlib.rcParams['pdf.fonttype'] = 42\n",
    "import matplotlib.pyplot as plt\n",
    "plt.rc('font', family='serif')\n",
    "plt.rc('font', serif='Arial')\n",
    "\n",
    "from ImageAnalysis3.figure_tools import _double_col_width, _single_col_width, _font_size, _ticklabel_size,_ticklabel_width\n",
    "\n",
    "import seaborn as sns\n",
    "sns.set_context(\"paper\", rc={\"font.size\":_font_size,\"axes.titlesize\":_font_size+1,\"axes.labelsize\":_font_size})  "
   ]
  },
  {
   "cell_type": "markdown",
   "id": "4c53f2cc",
   "metadata": {},
   "source": [
    "# Load codebook"
   ]
  },
  {
   "cell_type": "markdown",
   "id": "74b244ba",
   "metadata": {},
   "source": [
    "## load codebook with formatted loci name \n",
    "\n",
    "annotated codebook can be generated using the notebook below:\n",
    "\n",
    "\n",
    "[0_locus_annotation/scripts/1_adjacent_gene_annotation_for_merfish_loci](../../0_locus_annotation/scripts/1_adjacent_gene_annotation_for_merfish_loci.ipynb)\n",
    "\n",
    "\n",
    "**Codebook** example in this repository [codebook_example](../resources/MERFISH_loci_adjacent_genes_tss_more_res.csv)"
   ]
  },
  {
   "cell_type": "code",
   "execution_count": 5,
   "id": "04b3019d",
   "metadata": {},
   "outputs": [
    {
     "data": {
      "text/html": [
       "<div>\n",
       "<style scoped>\n",
       "    .dataframe tbody tr th:only-of-type {\n",
       "        vertical-align: middle;\n",
       "    }\n",
       "\n",
       "    .dataframe tbody tr th {\n",
       "        vertical-align: top;\n",
       "    }\n",
       "\n",
       "    .dataframe thead th {\n",
       "        text-align: right;\n",
       "    }\n",
       "</style>\n",
       "<table border=\"1\" class=\"dataframe\">\n",
       "  <thead>\n",
       "    <tr style=\"text-align: right;\">\n",
       "      <th></th>\n",
       "      <th>name</th>\n",
       "      <th>id</th>\n",
       "      <th>chr</th>\n",
       "      <th>chr_order</th>\n",
       "      <th>library</th>\n",
       "      <th>adjacent_genes_10kb_tss</th>\n",
       "      <th>adjacent_genes_50kb_tss</th>\n",
       "      <th>adjacent_genes_100kb_tss</th>\n",
       "      <th>adjacent_genes_200kb_tss</th>\n",
       "      <th>adjacent_genes_500kb_tss</th>\n",
       "      <th>adjacent_genes_1000kb_tss</th>\n",
       "      <th>adjacent_genes_1500kb_tss</th>\n",
       "      <th>adjacent_genes_2000kb_tss</th>\n",
       "    </tr>\n",
       "    <tr>\n",
       "      <th>loci_name</th>\n",
       "      <th></th>\n",
       "      <th></th>\n",
       "      <th></th>\n",
       "      <th></th>\n",
       "      <th></th>\n",
       "      <th></th>\n",
       "      <th></th>\n",
       "      <th></th>\n",
       "      <th></th>\n",
       "      <th></th>\n",
       "      <th></th>\n",
       "      <th></th>\n",
       "      <th></th>\n",
       "    </tr>\n",
       "  </thead>\n",
       "  <tbody>\n",
       "    <tr>\n",
       "      <th>chr1_3742742_3759944</th>\n",
       "      <td>1:3742742-3759944</td>\n",
       "      <td>1</td>\n",
       "      <td>1</td>\n",
       "      <td>0.0</td>\n",
       "      <td>CTP11</td>\n",
       "      <td>intergenic</td>\n",
       "      <td>intergenic</td>\n",
       "      <td>Xkr4</td>\n",
       "      <td>Xkr4</td>\n",
       "      <td>Gm18956; Gm7341; Xkr4</td>\n",
       "      <td>Gm18956; Gm2053; Gm6085; Gm6101; Gm6119; Gm734...</td>\n",
       "      <td>Atp6v1h; Gm16041; Gm17101; Gm18956; Gm2053; Gm...</td>\n",
       "      <td>Atp6v1h; Gm16041; Gm17101; Gm18956; Gm2053; Gm...</td>\n",
       "    </tr>\n",
       "    <tr>\n",
       "      <th>chr1_6245958_6258969</th>\n",
       "      <td>1:6245958-6258969</td>\n",
       "      <td>2</td>\n",
       "      <td>1</td>\n",
       "      <td>1.0</td>\n",
       "      <td>CTP11</td>\n",
       "      <td>intergenic</td>\n",
       "      <td>4732440D04Rik; Rb1cc1</td>\n",
       "      <td>4732440D04Rik; Rb1cc1</td>\n",
       "      <td>4732440D04Rik; Gm19026; Gm2147; Rb1cc1</td>\n",
       "      <td>4732440D04Rik; Gm19026; Gm2147; Npbwr1; Rb1cc1...</td>\n",
       "      <td>4732440D04Rik; Gm19026; Gm2147; Gm5694; Gm7182...</td>\n",
       "      <td>4732440D04Rik; Atp6v1h; Gm16041; Gm17101; Gm19...</td>\n",
       "      <td>4732440D04Rik; Atp6v1h; Gm16041; Gm17101; Gm19...</td>\n",
       "    </tr>\n",
       "    <tr>\n",
       "      <th>chr1_8740008_8759916</th>\n",
       "      <td>1:8740008-8759916</td>\n",
       "      <td>3</td>\n",
       "      <td>1</td>\n",
       "      <td>2.0</td>\n",
       "      <td>CTP11</td>\n",
       "      <td>intergenic</td>\n",
       "      <td>Gm15452</td>\n",
       "      <td>Gm15452</td>\n",
       "      <td>Gm15452</td>\n",
       "      <td>Gm15452</td>\n",
       "      <td>1700034P13Rik; 2610203C22Rik; Adhfe1; Gm15452;...</td>\n",
       "      <td>1700034P13Rik; 2610203C22Rik; Adhfe1; Arfgef1;...</td>\n",
       "      <td>1700034P13Rik; 2610203C22Rik; Adhfe1; Arfgef1;...</td>\n",
       "    </tr>\n",
       "    <tr>\n",
       "      <th>chr1_9627926_9637875</th>\n",
       "      <td>1:9627926-9637875</td>\n",
       "      <td>1</td>\n",
       "      <td>1</td>\n",
       "      <td>3.0</td>\n",
       "      <td>CTP13</td>\n",
       "      <td>2610203C22Rik</td>\n",
       "      <td>2610203C22Rik</td>\n",
       "      <td>2610203C22Rik; Adhfe1; Gm6161; Mybl1; Rrs1</td>\n",
       "      <td>1700034P13Rik; 2610203C22Rik; Adhfe1; Gm18300;...</td>\n",
       "      <td>1700034P13Rik; 2610203C22Rik; Adhfe1; Cops5; C...</td>\n",
       "      <td>1700034P13Rik; 2610203C22Rik; Adhfe1; Arfgef1;...</td>\n",
       "      <td>1700034P13Rik; 2610203C22Rik; Adhfe1; Arfgef1;...</td>\n",
       "      <td>1700034P13Rik; 2610203C22Rik; A830018L16Rik; A...</td>\n",
       "    </tr>\n",
       "    <tr>\n",
       "      <th>chr1_9799472_9811359</th>\n",
       "      <td>1:9799472-9811359</td>\n",
       "      <td>2</td>\n",
       "      <td>1</td>\n",
       "      <td>4.0</td>\n",
       "      <td>CTP13</td>\n",
       "      <td>Gm6195; Sgk3</td>\n",
       "      <td>Gm6195; Sgk3</td>\n",
       "      <td>1700034P13Rik; Gm6195; Mcmdc2; Mybl1; Sgk3; Vc...</td>\n",
       "      <td>1700034P13Rik; 2610203C22Rik; Gm6195; Mcmdc2; ...</td>\n",
       "      <td>1700034P13Rik; 2610203C22Rik; Adhfe1; Arfgef1;...</td>\n",
       "      <td>1700034P13Rik; 2610203C22Rik; Adhfe1; Arfgef1;...</td>\n",
       "      <td>1700034P13Rik; 2610203C22Rik; Adhfe1; Arfgef1;...</td>\n",
       "      <td>1700034P13Rik; 2610203C22Rik; A830018L16Rik; A...</td>\n",
       "    </tr>\n",
       "  </tbody>\n",
       "</table>\n",
       "</div>"
      ],
      "text/plain": [
       "                                   name id chr  chr_order library  \\\n",
       "loci_name                                                           \n",
       "chr1_3742742_3759944  1:3742742-3759944  1   1        0.0   CTP11   \n",
       "chr1_6245958_6258969  1:6245958-6258969  2   1        1.0   CTP11   \n",
       "chr1_8740008_8759916  1:8740008-8759916  3   1        2.0   CTP11   \n",
       "chr1_9627926_9637875  1:9627926-9637875  1   1        3.0   CTP13   \n",
       "chr1_9799472_9811359  1:9799472-9811359  2   1        4.0   CTP13   \n",
       "\n",
       "                     adjacent_genes_10kb_tss adjacent_genes_50kb_tss  \\\n",
       "loci_name                                                              \n",
       "chr1_3742742_3759944              intergenic              intergenic   \n",
       "chr1_6245958_6258969              intergenic   4732440D04Rik; Rb1cc1   \n",
       "chr1_8740008_8759916              intergenic                 Gm15452   \n",
       "chr1_9627926_9637875           2610203C22Rik           2610203C22Rik   \n",
       "chr1_9799472_9811359            Gm6195; Sgk3            Gm6195; Sgk3   \n",
       "\n",
       "                                               adjacent_genes_100kb_tss  \\\n",
       "loci_name                                                                 \n",
       "chr1_3742742_3759944                                               Xkr4   \n",
       "chr1_6245958_6258969                              4732440D04Rik; Rb1cc1   \n",
       "chr1_8740008_8759916                                            Gm15452   \n",
       "chr1_9627926_9637875         2610203C22Rik; Adhfe1; Gm6161; Mybl1; Rrs1   \n",
       "chr1_9799472_9811359  1700034P13Rik; Gm6195; Mcmdc2; Mybl1; Sgk3; Vc...   \n",
       "\n",
       "                                               adjacent_genes_200kb_tss  \\\n",
       "loci_name                                                                 \n",
       "chr1_3742742_3759944                                               Xkr4   \n",
       "chr1_6245958_6258969             4732440D04Rik; Gm19026; Gm2147; Rb1cc1   \n",
       "chr1_8740008_8759916                                            Gm15452   \n",
       "chr1_9627926_9637875  1700034P13Rik; 2610203C22Rik; Adhfe1; Gm18300;...   \n",
       "chr1_9799472_9811359  1700034P13Rik; 2610203C22Rik; Gm6195; Mcmdc2; ...   \n",
       "\n",
       "                                               adjacent_genes_500kb_tss  \\\n",
       "loci_name                                                                 \n",
       "chr1_3742742_3759944                              Gm18956; Gm7341; Xkr4   \n",
       "chr1_6245958_6258969  4732440D04Rik; Gm19026; Gm2147; Npbwr1; Rb1cc1...   \n",
       "chr1_8740008_8759916                                            Gm15452   \n",
       "chr1_9627926_9637875  1700034P13Rik; 2610203C22Rik; Adhfe1; Cops5; C...   \n",
       "chr1_9799472_9811359  1700034P13Rik; 2610203C22Rik; Adhfe1; Arfgef1;...   \n",
       "\n",
       "                                              adjacent_genes_1000kb_tss  \\\n",
       "loci_name                                                                 \n",
       "chr1_3742742_3759944  Gm18956; Gm2053; Gm6085; Gm6101; Gm6119; Gm734...   \n",
       "chr1_6245958_6258969  4732440D04Rik; Gm19026; Gm2147; Gm5694; Gm7182...   \n",
       "chr1_8740008_8759916  1700034P13Rik; 2610203C22Rik; Adhfe1; Gm15452;...   \n",
       "chr1_9627926_9637875  1700034P13Rik; 2610203C22Rik; Adhfe1; Arfgef1;...   \n",
       "chr1_9799472_9811359  1700034P13Rik; 2610203C22Rik; Adhfe1; Arfgef1;...   \n",
       "\n",
       "                                              adjacent_genes_1500kb_tss  \\\n",
       "loci_name                                                                 \n",
       "chr1_3742742_3759944  Atp6v1h; Gm16041; Gm17101; Gm18956; Gm2053; Gm...   \n",
       "chr1_6245958_6258969  4732440D04Rik; Atp6v1h; Gm16041; Gm17101; Gm19...   \n",
       "chr1_8740008_8759916  1700034P13Rik; 2610203C22Rik; Adhfe1; Arfgef1;...   \n",
       "chr1_9627926_9637875  1700034P13Rik; 2610203C22Rik; Adhfe1; Arfgef1;...   \n",
       "chr1_9799472_9811359  1700034P13Rik; 2610203C22Rik; Adhfe1; Arfgef1;...   \n",
       "\n",
       "                                              adjacent_genes_2000kb_tss  \n",
       "loci_name                                                                \n",
       "chr1_3742742_3759944  Atp6v1h; Gm16041; Gm17101; Gm18956; Gm2053; Gm...  \n",
       "chr1_6245958_6258969  4732440D04Rik; Atp6v1h; Gm16041; Gm17101; Gm19...  \n",
       "chr1_8740008_8759916  1700034P13Rik; 2610203C22Rik; Adhfe1; Arfgef1;...  \n",
       "chr1_9627926_9637875  1700034P13Rik; 2610203C22Rik; A830018L16Rik; A...  \n",
       "chr1_9799472_9811359  1700034P13Rik; 2610203C22Rik; A830018L16Rik; A...  "
      ]
     },
     "execution_count": 5,
     "metadata": {},
     "output_type": "execute_result"
    }
   ],
   "source": [
    "# load codebook\n",
    "codebook_folder = output_analysis_folder\n",
    "\n",
    "# Load codebook and sort\n",
    "codebook_fname = os.path.join(codebook_folder,'MERFISH_loci_adjacent_genes_tss_more_res.csv')\n",
    "codebook_df = pd.read_csv (codebook_fname, index_col=0)\n",
    "codebook_df = loci_1d_features.sort_loci_df_by_chr_order (codebook_df)\n",
    "\n",
    "codebook_df.head()"
   ]
  },
  {
   "cell_type": "markdown",
   "id": "2cd777cb",
   "metadata": {},
   "source": [
    "# Summarize ATAC and RNA data for MERFISH loci"
   ]
  },
  {
   "cell_type": "markdown",
   "id": "52fe657b",
   "metadata": {},
   "source": [
    "## initiate save main dict"
   ]
  },
  {
   "cell_type": "code",
   "execution_count": 6,
   "id": "884a949f",
   "metadata": {},
   "outputs": [],
   "source": [
    "sel_class_list = ['L2/3 IT','L4/5 IT','L5 IT','L6 IT','L5 ET','L5/6 NP','L6 CT','L6b',\n",
    "                           'Sst','Pvalb','Lamp5','Sncg','Vip',\n",
    "                           'Astro','Oligo','OPC','Micro','Endo',#'VLMC','SMC','Peri', \n",
    "                           #'other',\n",
    "                          ]\n",
    "\n",
    "ref_measure_dict_byGroup = {k:pd.DataFrame(codebook_df.index) for k in sel_class_list}"
   ]
  },
  {
   "cell_type": "code",
   "execution_count": 7,
   "id": "8c2e336f",
   "metadata": {},
   "outputs": [
    {
     "data": {
      "text/html": [
       "<div>\n",
       "<style scoped>\n",
       "    .dataframe tbody tr th:only-of-type {\n",
       "        vertical-align: middle;\n",
       "    }\n",
       "\n",
       "    .dataframe tbody tr th {\n",
       "        vertical-align: top;\n",
       "    }\n",
       "\n",
       "    .dataframe thead th {\n",
       "        text-align: right;\n",
       "    }\n",
       "</style>\n",
       "<table border=\"1\" class=\"dataframe\">\n",
       "  <thead>\n",
       "    <tr style=\"text-align: right;\">\n",
       "      <th></th>\n",
       "      <th>loci_name</th>\n",
       "    </tr>\n",
       "  </thead>\n",
       "  <tbody>\n",
       "    <tr>\n",
       "      <th>0</th>\n",
       "      <td>chr1_3742742_3759944</td>\n",
       "    </tr>\n",
       "    <tr>\n",
       "      <th>1</th>\n",
       "      <td>chr1_6245958_6258969</td>\n",
       "    </tr>\n",
       "    <tr>\n",
       "      <th>2</th>\n",
       "      <td>chr1_8740008_8759916</td>\n",
       "    </tr>\n",
       "    <tr>\n",
       "      <th>3</th>\n",
       "      <td>chr1_9627926_9637875</td>\n",
       "    </tr>\n",
       "    <tr>\n",
       "      <th>4</th>\n",
       "      <td>chr1_9799472_9811359</td>\n",
       "    </tr>\n",
       "    <tr>\n",
       "      <th>...</th>\n",
       "      <td>...</td>\n",
       "    </tr>\n",
       "    <tr>\n",
       "      <th>1977</th>\n",
       "      <td>chrX_166247682_166259932</td>\n",
       "    </tr>\n",
       "    <tr>\n",
       "      <th>1978</th>\n",
       "      <td>chrX_167157164_167167452</td>\n",
       "    </tr>\n",
       "    <tr>\n",
       "      <th>1979</th>\n",
       "      <td>chrX_168746045_168757590</td>\n",
       "    </tr>\n",
       "    <tr>\n",
       "      <th>1980</th>\n",
       "      <td>chrX_169963295_170005197</td>\n",
       "    </tr>\n",
       "    <tr>\n",
       "      <th>1981</th>\n",
       "      <td>chrY_1245775_1259992</td>\n",
       "    </tr>\n",
       "  </tbody>\n",
       "</table>\n",
       "<p>1982 rows × 1 columns</p>\n",
       "</div>"
      ],
      "text/plain": [
       "                     loci_name\n",
       "0         chr1_3742742_3759944\n",
       "1         chr1_6245958_6258969\n",
       "2         chr1_8740008_8759916\n",
       "3         chr1_9627926_9637875\n",
       "4         chr1_9799472_9811359\n",
       "...                        ...\n",
       "1977  chrX_166247682_166259932\n",
       "1978  chrX_167157164_167167452\n",
       "1979  chrX_168746045_168757590\n",
       "1980  chrX_169963295_170005197\n",
       "1981      chrY_1245775_1259992\n",
       "\n",
       "[1982 rows x 1 columns]"
      ]
     },
     "execution_count": 7,
     "metadata": {},
     "output_type": "execute_result"
    }
   ],
   "source": [
    "ref_measure_dict_byGroup['L2/3 IT']"
   ]
  },
  {
   "cell_type": "markdown",
   "id": "afb4b5a2",
   "metadata": {},
   "source": [
    "## add snRNA at different resolution\n",
    "\n",
    "Data can be generated using the codebook as:\n",
    "[2_sn_rna_mop_process_all_merfish_loci_4Mb](2_sn_rna_mop_process_all_merfish_loci_4Mb.ipynb)"
   ]
  },
  {
   "cell_type": "code",
   "execution_count": 8,
   "id": "acfbcb93",
   "metadata": {},
   "outputs": [
    {
     "name": "stderr",
     "output_type": "stream",
     "text": [
      "100%|████████████████████████████████████████████████████████████████████████████████| 18/18 [00:00<00:00, 9049.20it/s]\n",
      "100%|████████████████████████████████████████████████████████████████████████████████| 18/18 [00:00<00:00, 8987.79it/s]\n",
      "100%|██████████████████████████████████████████████████████████████████████████████████| 18/18 [00:21<00:00,  1.19s/it]\n"
     ]
    }
   ],
   "source": [
    "import tqdm\n",
    "\n",
    "rna_folder = os.path.join(output_analysis_folder, r'10x_snRNA\\10x_subclass')\n",
    "# add RNA info with different bin size if available\n",
    "for bin_size in [50, 200,2000]:\n",
    "    for _class in tqdm.tqdm(sel_class_list):\n",
    "        _class_name = _class.replace(' ','_').replace('/','_')\n",
    "        #print(_class_name)\n",
    "        rna_fname = os.path.join(rna_folder,f'MERFISH_loci_10x_expression_2X_{bin_size}kb_for_{_class_name}.csv')\n",
    "        if os.path.exists(rna_fname):\n",
    "            rna_df = pd.read_csv(rna_fname,index_col=0)\n",
    "            #rna_df = pd.read_csv(os.path.join(rna_folder,r'Astro_genome_Adjacent_1Mb.csv'),index_col=0)\n",
    "            rna_df['mean_rna'] = rna_df.mean(axis=1)\n",
    "            ref_measure_dict_byGroup[_class][f'mean_rna_2X_{bin_size}kb'] = rna_df['mean_rna'].tolist()"
   ]
  },
  {
   "cell_type": "markdown",
   "id": "6d75011f",
   "metadata": {},
   "source": [
    "## add snATAC at different resolution\n",
    "\n",
    "Data can be generated using the codebook as:\n",
    "[3_sn_atac_mop_process_all_merfish_loci_4Mb](3_sn_atac_mop_process_all_merfish_loci_4Mb.ipynb)"
   ]
  },
  {
   "cell_type": "code",
   "execution_count": 11,
   "id": "acedea1c",
   "metadata": {},
   "outputs": [
    {
     "name": "stderr",
     "output_type": "stream",
     "text": [
      "100%|████████████████████████████████████████████████████████████████████████████████| 18/18 [00:00<00:00, 9029.72it/s]\n",
      "100%|██████████████████████████████████████████████████████████████████████████████████| 18/18 [00:49<00:00,  2.75s/it]\n"
     ]
    }
   ],
   "source": [
    "import tqdm\n",
    "\n",
    "rna_folder = os.path.join(output_analysis_folder, r'10x_snATAC\\10x_subclass')\n",
    "\n",
    "# add RNA info with different bin size if available\n",
    "for bin_size in [200,2000]:\n",
    "    for _class in tqdm.tqdm(sel_class_list):\n",
    "        _class_name = _class.replace(' ','_').replace('/','_')\n",
    "        #print(_class_name)\n",
    "        rna_fname = os.path.join(rna_folder,f'MERFISH_loci_10x_ATAC_2X_{bin_size}kb_for_{_class_name}.csv')\n",
    "        if os.path.exists(rna_fname):\n",
    "            rna_df = pd.read_csv(rna_fname,index_col=0)\n",
    "            #rna_df = pd.read_csv(os.path.join(rna_folder,r'Astro_genome_Adjacent_1Mb.csv'),index_col=0)\n",
    "            rna_df['mean_rna'] = rna_df.mean(axis=1)\n",
    "            ref_measure_dict_byGroup[_class][f'mean_ATAC_2X_{bin_size}kb'] = rna_df['mean_rna'].tolist()"
   ]
  },
  {
   "cell_type": "markdown",
   "id": "c18947c8",
   "metadata": {},
   "source": [
    "## save the celltype means"
   ]
  },
  {
   "cell_type": "code",
   "execution_count": 12,
   "id": "5e1983fa",
   "metadata": {},
   "outputs": [
    {
     "data": {
      "text/html": [
       "<div>\n",
       "<style scoped>\n",
       "    .dataframe tbody tr th:only-of-type {\n",
       "        vertical-align: middle;\n",
       "    }\n",
       "\n",
       "    .dataframe tbody tr th {\n",
       "        vertical-align: top;\n",
       "    }\n",
       "\n",
       "    .dataframe thead th {\n",
       "        text-align: right;\n",
       "    }\n",
       "</style>\n",
       "<table border=\"1\" class=\"dataframe\">\n",
       "  <thead>\n",
       "    <tr style=\"text-align: right;\">\n",
       "      <th></th>\n",
       "      <th>loci_name</th>\n",
       "      <th>mean_rna_2X_2000kb</th>\n",
       "      <th>mean_ATAC_2X_2000kb</th>\n",
       "    </tr>\n",
       "  </thead>\n",
       "  <tbody>\n",
       "    <tr>\n",
       "      <th>0</th>\n",
       "      <td>chr1_3742742_3759944</td>\n",
       "      <td>6.086957</td>\n",
       "      <td>0.858506</td>\n",
       "    </tr>\n",
       "    <tr>\n",
       "      <th>1</th>\n",
       "      <td>chr1_6245958_6258969</td>\n",
       "      <td>9.043478</td>\n",
       "      <td>1.093800</td>\n",
       "    </tr>\n",
       "    <tr>\n",
       "      <th>2</th>\n",
       "      <td>chr1_8740008_8759916</td>\n",
       "      <td>5.434783</td>\n",
       "      <td>1.260731</td>\n",
       "    </tr>\n",
       "    <tr>\n",
       "      <th>3</th>\n",
       "      <td>chr1_9627926_9637875</td>\n",
       "      <td>6.130435</td>\n",
       "      <td>1.487281</td>\n",
       "    </tr>\n",
       "    <tr>\n",
       "      <th>4</th>\n",
       "      <td>chr1_9799472_9811359</td>\n",
       "      <td>6.130435</td>\n",
       "      <td>1.507154</td>\n",
       "    </tr>\n",
       "    <tr>\n",
       "      <th>...</th>\n",
       "      <td>...</td>\n",
       "      <td>...</td>\n",
       "      <td>...</td>\n",
       "    </tr>\n",
       "    <tr>\n",
       "      <th>1977</th>\n",
       "      <td>chrX_166247682_166259932</td>\n",
       "      <td>16.086957</td>\n",
       "      <td>1.400636</td>\n",
       "    </tr>\n",
       "    <tr>\n",
       "      <th>1978</th>\n",
       "      <td>chrX_167157164_167167452</td>\n",
       "      <td>16.652174</td>\n",
       "      <td>1.557234</td>\n",
       "    </tr>\n",
       "    <tr>\n",
       "      <th>1979</th>\n",
       "      <td>chrX_168746045_168757590</td>\n",
       "      <td>15.521739</td>\n",
       "      <td>1.480922</td>\n",
       "    </tr>\n",
       "    <tr>\n",
       "      <th>1980</th>\n",
       "      <td>chrX_169963295_170005197</td>\n",
       "      <td>2.391304</td>\n",
       "      <td>0.815580</td>\n",
       "    </tr>\n",
       "    <tr>\n",
       "      <th>1981</th>\n",
       "      <td>chrY_1245775_1259992</td>\n",
       "      <td>0.173913</td>\n",
       "      <td>0.264706</td>\n",
       "    </tr>\n",
       "  </tbody>\n",
       "</table>\n",
       "<p>1982 rows × 3 columns</p>\n",
       "</div>"
      ],
      "text/plain": [
       "                     loci_name  mean_rna_2X_2000kb  mean_ATAC_2X_2000kb\n",
       "0         chr1_3742742_3759944            6.086957             0.858506\n",
       "1         chr1_6245958_6258969            9.043478             1.093800\n",
       "2         chr1_8740008_8759916            5.434783             1.260731\n",
       "3         chr1_9627926_9637875            6.130435             1.487281\n",
       "4         chr1_9799472_9811359            6.130435             1.507154\n",
       "...                        ...                 ...                  ...\n",
       "1977  chrX_166247682_166259932           16.086957             1.400636\n",
       "1978  chrX_167157164_167167452           16.652174             1.557234\n",
       "1979  chrX_168746045_168757590           15.521739             1.480922\n",
       "1980  chrX_169963295_170005197            2.391304             0.815580\n",
       "1981      chrY_1245775_1259992            0.173913             0.264706\n",
       "\n",
       "[1982 rows x 3 columns]"
      ]
     },
     "execution_count": 12,
     "metadata": {},
     "output_type": "execute_result"
    }
   ],
   "source": [
    "ref_measure_dict_byGroup[_class]"
   ]
  },
  {
   "cell_type": "code",
   "execution_count": 12,
   "id": "e8cfb0fe",
   "metadata": {},
   "outputs": [],
   "source": [
    "for _class, _class_df in ref_measure_dict_byGroup.items():\n",
    "    _class = _class.replace(' ','_').replace('/','_')\n",
    "    _df_savefname = os.path.join(output_analysis_folder,f'subclass_{_class}_snATAC_snRNA_mean_by_loci.csv')\n",
    "    _class_df.to_csv(_df_savefname)"
   ]
  }
 ],
 "metadata": {
  "kernelspec": {
   "display_name": "Python 3 (ipykernel)",
   "language": "python",
   "name": "python3"
  },
  "language_info": {
   "codemirror_mode": {
    "name": "ipython",
    "version": 3
   },
   "file_extension": ".py",
   "mimetype": "text/x-python",
   "name": "python",
   "nbconvert_exporter": "python",
   "pygments_lexer": "ipython3",
   "version": "3.10.8"
  },
  "toc": {
   "base_numbering": 1,
   "nav_menu": {},
   "number_sections": true,
   "sideBar": true,
   "skip_h1_title": false,
   "title_cell": "Table of Contents",
   "title_sidebar": "Contents",
   "toc_cell": false,
   "toc_position": {},
   "toc_section_display": true,
   "toc_window_display": true
  }
 },
 "nbformat": 4,
 "nbformat_minor": 5
}
