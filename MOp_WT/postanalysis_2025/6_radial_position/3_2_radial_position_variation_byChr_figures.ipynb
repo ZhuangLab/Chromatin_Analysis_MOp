{
 "cells": [
  {
   "cell_type": "markdown",
   "id": "75c4e381",
   "metadata": {},
   "source": [
    "# Import module"
   ]
  },
  {
   "cell_type": "markdown",
   "id": "14a33d3e",
   "metadata": {},
   "source": [
    "The link to get [ImageAnalysis3](https://github.com/zhengpuas47/ImageAnalysis3) \n",
    "\n",
    "Or from the Zhuang lab archived [source_tools](https://github.com/ZhuangLab/Chromatin_Analysis_2020_cell/tree/master/sequential_tracing/source)"
   ]
  },
  {
   "cell_type": "markdown",
   "id": "b411cc21",
   "metadata": {},
   "source": [
    "## ImageAnalysis3 and basic modules"
   ]
  },
  {
   "cell_type": "code",
   "execution_count": 1,
   "id": "32554ab1",
   "metadata": {},
   "outputs": [
    {
     "name": "stdout",
     "output_type": "stream",
     "text": [
      "57544\n"
     ]
    }
   ],
   "source": [
    "%run \"C:\\Users\\shiwei\\Documents\\ImageAnalysis3\\required_files\\Startup_py3.py\"\n",
    "sys.path.append(r\"C:\\Users\\shiwei\\Documents\")\n",
    "\n",
    "import ImageAnalysis3 as ia\n",
    "from ImageAnalysis3 import *\n",
    "from ImageAnalysis3.classes import _allowed_kwds\n",
    "\n",
    "import h5py\n",
    "import ast\n",
    "import pandas as pd\n",
    "\n",
    "print(os.getpid())"
   ]
  },
  {
   "cell_type": "markdown",
   "id": "f5f8cd77",
   "metadata": {},
   "source": [
    "## Chromatin_analysis_tools etc"
   ]
  },
  {
   "cell_type": "markdown",
   "id": "2db5036f",
   "metadata": {},
   "source": [
    "See **functions** in the repository for [AnalysisTool_Chromatin](../../README.md)"
   ]
  },
  {
   "cell_type": "code",
   "execution_count": 2,
   "id": "9469aba8",
   "metadata": {},
   "outputs": [
    {
     "data": {
      "text/plain": [
       "<module 'atac_to_loci' from 'C:\\\\Users\\\\shiwei\\\\Documents\\\\AnalysisTool_Chromatin\\\\atac_to_loci.py'>"
      ]
     },
     "execution_count": 2,
     "metadata": {},
     "output_type": "execute_result"
    }
   ],
   "source": [
    "# Chromatin_analysis_tools (ATC)\n",
    "# Get path for the py containing functions\n",
    "import os\n",
    "import sys\n",
    "import importlib\n",
    "module_path =r'C:\\Users\\shiwei\\Documents\\AnalysisTool_Chromatin'\n",
    "if module_path not in sys.path:\n",
    "    sys.path.append(module_path)\n",
    "    \n",
    "# import relevant modules\n",
    "import gene_selection \n",
    "importlib.reload(gene_selection)\n",
    "import gene_to_loci\n",
    "importlib.reload(gene_to_loci)\n",
    "import gene_activity\n",
    "importlib.reload(gene_activity)\n",
    "import loci_1d_features\n",
    "importlib.reload(loci_1d_features)  \n",
    "\n",
    "import atac_to_loci\n",
    "importlib.reload(atac_to_loci)"
   ]
  },
  {
   "cell_type": "markdown",
   "id": "aa08c6de",
   "metadata": {},
   "source": [
    "# Define folders"
   ]
  },
  {
   "cell_type": "code",
   "execution_count": 3,
   "id": "2c8dce53",
   "metadata": {},
   "outputs": [
    {
     "name": "stdout",
     "output_type": "stream",
     "text": [
      "Use existing analysis folder: L:\\Shiwei\\postanalysis_2024\\v0\\radial_position\\analysis.\n",
      "Use existing figure folder: L:\\Shiwei\\postanalysis_2024\\v0\\radial_position\\figures.\n"
     ]
    }
   ],
   "source": [
    "# main folder for postanalysis\n",
    "postanalysis_folder = r'L:\\Shiwei\\postanalysis_2024\\v0'\n",
    "# input files for postanalysis\n",
    "input_folder = os.path.join(postanalysis_folder, 'resources_from_preprocess')\n",
    "\n",
    "# output file to be generated\n",
    "output_main_folder = os.path.join(postanalysis_folder, 'radial_position')\n",
    "\n",
    "output_analysis_folder = os.path.join(output_main_folder, 'analysis')\n",
    "output_figure_folder = os.path.join(output_main_folder, 'figures')\n",
    "\n",
    "# make new folder if needed\n",
    "make_output_folder = True\n",
    "\n",
    "if make_output_folder and not os.path.exists(output_analysis_folder):\n",
    "    os.makedirs(output_analysis_folder)\n",
    "    print(f'Generating analysis folder: {output_analysis_folder}.')\n",
    "elif os.path.exists(output_analysis_folder):\n",
    "    print(f'Use existing analysis folder: {output_analysis_folder}.')\n",
    "    \n",
    "if make_output_folder and not os.path.exists(output_figure_folder):\n",
    "    os.makedirs(output_figure_folder)\n",
    "    print(f'Generating figure folder: {output_figure_folder}.')\n",
    "elif os.path.exists(output_figure_folder):\n",
    "    print(f'Use existing figure folder: {output_figure_folder}.')"
   ]
  },
  {
   "cell_type": "markdown",
   "id": "43745cf2",
   "metadata": {},
   "source": [
    "# Plotting parameters"
   ]
  },
  {
   "cell_type": "code",
   "execution_count": 4,
   "id": "fb1e3324",
   "metadata": {},
   "outputs": [],
   "source": [
    "%matplotlib inline\n",
    "import matplotlib\n",
    "matplotlib.rcParams['pdf.fonttype'] = 42\n",
    "import matplotlib.pyplot as plt\n",
    "plt.rc('font', family='serif')\n",
    "plt.rc('font', serif='Arial')\n",
    "\n",
    "from ImageAnalysis3.figure_tools import _double_col_width, _single_col_width, _font_size, _ticklabel_size,_ticklabel_width\n",
    "\n",
    "import seaborn as sns\n",
    "sns.set_context(\"paper\", rc={\"font.size\":_font_size,\"axes.titlesize\":_font_size+1,\"axes.labelsize\":_font_size})  "
   ]
  },
  {
   "cell_type": "code",
   "execution_count": 5,
   "id": "bc310b7e",
   "metadata": {},
   "outputs": [],
   "source": [
    "# Other required plotting parameters\n",
    "_dpi = 300\n",
    "_font_size = 7\n",
    "_page_width = 5.5\n"
   ]
  },
  {
   "cell_type": "markdown",
   "id": "a1d34726",
   "metadata": {},
   "source": [
    "## cell type color-codes"
   ]
  },
  {
   "cell_type": "code",
   "execution_count": 6,
   "id": "c33943dd",
   "metadata": {},
   "outputs": [],
   "source": [
    "# cell labels from RNA-MERFISH and celltype prediction\n",
    "selected_cell_labels = ['L2/3 IT','L4/5 IT','L5 IT','L6 IT','L5 ET','L5/6 NP','L6 CT','L6b',\n",
    "                           'Sst','Pvalb','Lamp5','Sncg','Vip',\n",
    "                           'Astro','Oligo','OPC','Micro','Endo','VLMC','SMC','Peri', \n",
    "                           #'other',\n",
    "                          ]\n",
    "# cell palette from RNA-MERFISH UMAP and stats\n",
    "celltype_palette = {'Astro':'lightcoral', \n",
    "                    'Endo':'skyblue', \n",
    "                    'L2/3 IT':'gold', \n",
    "                    'L4/5 IT':'darkorange', \n",
    "                    'L5 ET':'mediumseagreen', \n",
    "                    'L5 IT':'aqua',\n",
    "                    'L5/6 NP':'darkgreen',\n",
    "                    'L6 CT':'brown',\n",
    "                    'L6 IT':'magenta',\n",
    "                    'L6b':'blue', \n",
    "                    'Lamp5':'orange', \n",
    "                    'Micro':'peachpuff',\n",
    "                    'OPC':'thistle', \n",
    "                    'Oligo':'darkviolet',\n",
    "                    'Peri':'sandybrown',\n",
    "                    'Pvalb':'springgreen',\n",
    "                    'SMC':'rosybrown',\n",
    "                    'Sncg':'darkkhaki',\n",
    "                    'Sst':'steelblue', \n",
    "                    'VLMC':'saddlebrown', \n",
    "                    'Vip':'red',\n",
    "                    'other':'slategray'}\n"
   ]
  },
  {
   "cell_type": "code",
   "execution_count": 7,
   "id": "caad6887",
   "metadata": {},
   "outputs": [],
   "source": [
    "# this is the plotting order noted based on the snRNA transcriptional acitivty if needed\n",
    "sorted_cellplot_order_byRNA = ['Micro', 'Oligo', 'Endo', 'OPC', 'Astro', 'Vip', 'Lamp5',\n",
    "                  'L5/6 NP', 'Sst', 'Sncg', 'Pvalb', 'L4/5 IT', 'L6 CT',\n",
    "                  'L6 IT', 'L6b', 'L2/3 IT', 'L5 IT', 'L5 ET']"
   ]
  },
  {
   "cell_type": "markdown",
   "id": "b00f58f0",
   "metadata": {},
   "source": [
    "# Load data relevant information"
   ]
  },
  {
   "cell_type": "markdown",
   "id": "7e667606",
   "metadata": {},
   "source": [
    "## load and format codebook"
   ]
  },
  {
   "cell_type": "markdown",
   "id": "6b8440c6",
   "metadata": {},
   "source": [
    "[merged codebook](../resources/merged_codebook.csv) as in the repository (merged for all DNA-MERFISH libraries)"
   ]
  },
  {
   "cell_type": "code",
   "execution_count": 8,
   "id": "c0734aad",
   "metadata": {},
   "outputs": [
    {
     "data": {
      "text/html": [
       "<div>\n",
       "<style scoped>\n",
       "    .dataframe tbody tr th:only-of-type {\n",
       "        vertical-align: middle;\n",
       "    }\n",
       "\n",
       "    .dataframe tbody tr th {\n",
       "        vertical-align: top;\n",
       "    }\n",
       "\n",
       "    .dataframe thead th {\n",
       "        text-align: right;\n",
       "    }\n",
       "</style>\n",
       "<table border=\"1\" class=\"dataframe\">\n",
       "  <thead>\n",
       "    <tr style=\"text-align: right;\">\n",
       "      <th></th>\n",
       "      <th>name</th>\n",
       "      <th>id</th>\n",
       "      <th>NDB_784</th>\n",
       "      <th>NDB_755</th>\n",
       "      <th>NDB_826</th>\n",
       "      <th>NDB_713</th>\n",
       "      <th>NDB_865</th>\n",
       "      <th>NDB_725</th>\n",
       "      <th>NDB_817</th>\n",
       "      <th>NDB_710</th>\n",
       "      <th>...</th>\n",
       "      <th>NDB_479</th>\n",
       "      <th>NDB_562</th>\n",
       "      <th>NDB_608</th>\n",
       "      <th>NDB_460</th>\n",
       "      <th>NDB_563</th>\n",
       "      <th>NDB_592</th>\n",
       "      <th>NDB_368</th>\n",
       "      <th>NDB_436</th>\n",
       "      <th>NDB_629</th>\n",
       "      <th>NDB_604</th>\n",
       "    </tr>\n",
       "  </thead>\n",
       "  <tbody>\n",
       "    <tr>\n",
       "      <th>0</th>\n",
       "      <td>1:3742742-3759944</td>\n",
       "      <td>1</td>\n",
       "      <td>0.0</td>\n",
       "      <td>0.0</td>\n",
       "      <td>0.0</td>\n",
       "      <td>0.0</td>\n",
       "      <td>0.0</td>\n",
       "      <td>0.0</td>\n",
       "      <td>0.0</td>\n",
       "      <td>0.0</td>\n",
       "      <td>...</td>\n",
       "      <td>0.0</td>\n",
       "      <td>0.0</td>\n",
       "      <td>0.0</td>\n",
       "      <td>0.0</td>\n",
       "      <td>0.0</td>\n",
       "      <td>0.0</td>\n",
       "      <td>0.0</td>\n",
       "      <td>0.0</td>\n",
       "      <td>0.0</td>\n",
       "      <td>0.0</td>\n",
       "    </tr>\n",
       "    <tr>\n",
       "      <th>1</th>\n",
       "      <td>1:6245958-6258969</td>\n",
       "      <td>2</td>\n",
       "      <td>0.0</td>\n",
       "      <td>0.0</td>\n",
       "      <td>0.0</td>\n",
       "      <td>0.0</td>\n",
       "      <td>0.0</td>\n",
       "      <td>0.0</td>\n",
       "      <td>0.0</td>\n",
       "      <td>0.0</td>\n",
       "      <td>...</td>\n",
       "      <td>0.0</td>\n",
       "      <td>0.0</td>\n",
       "      <td>0.0</td>\n",
       "      <td>0.0</td>\n",
       "      <td>0.0</td>\n",
       "      <td>0.0</td>\n",
       "      <td>0.0</td>\n",
       "      <td>0.0</td>\n",
       "      <td>0.0</td>\n",
       "      <td>0.0</td>\n",
       "    </tr>\n",
       "    <tr>\n",
       "      <th>2</th>\n",
       "      <td>1:8740008-8759916</td>\n",
       "      <td>3</td>\n",
       "      <td>0.0</td>\n",
       "      <td>0.0</td>\n",
       "      <td>0.0</td>\n",
       "      <td>0.0</td>\n",
       "      <td>0.0</td>\n",
       "      <td>0.0</td>\n",
       "      <td>0.0</td>\n",
       "      <td>0.0</td>\n",
       "      <td>...</td>\n",
       "      <td>0.0</td>\n",
       "      <td>0.0</td>\n",
       "      <td>0.0</td>\n",
       "      <td>0.0</td>\n",
       "      <td>0.0</td>\n",
       "      <td>0.0</td>\n",
       "      <td>0.0</td>\n",
       "      <td>0.0</td>\n",
       "      <td>0.0</td>\n",
       "      <td>0.0</td>\n",
       "    </tr>\n",
       "    <tr>\n",
       "      <th>1016</th>\n",
       "      <td>1:9627926-9637875</td>\n",
       "      <td>1</td>\n",
       "      <td>0.0</td>\n",
       "      <td>0.0</td>\n",
       "      <td>0.0</td>\n",
       "      <td>0.0</td>\n",
       "      <td>0.0</td>\n",
       "      <td>0.0</td>\n",
       "      <td>0.0</td>\n",
       "      <td>0.0</td>\n",
       "      <td>...</td>\n",
       "      <td>0.0</td>\n",
       "      <td>0.0</td>\n",
       "      <td>0.0</td>\n",
       "      <td>0.0</td>\n",
       "      <td>0.0</td>\n",
       "      <td>0.0</td>\n",
       "      <td>0.0</td>\n",
       "      <td>0.0</td>\n",
       "      <td>0.0</td>\n",
       "      <td>0.0</td>\n",
       "    </tr>\n",
       "    <tr>\n",
       "      <th>1017</th>\n",
       "      <td>1:9799472-9811359</td>\n",
       "      <td>2</td>\n",
       "      <td>0.0</td>\n",
       "      <td>0.0</td>\n",
       "      <td>0.0</td>\n",
       "      <td>0.0</td>\n",
       "      <td>0.0</td>\n",
       "      <td>0.0</td>\n",
       "      <td>0.0</td>\n",
       "      <td>0.0</td>\n",
       "      <td>...</td>\n",
       "      <td>0.0</td>\n",
       "      <td>0.0</td>\n",
       "      <td>0.0</td>\n",
       "      <td>0.0</td>\n",
       "      <td>0.0</td>\n",
       "      <td>1.0</td>\n",
       "      <td>0.0</td>\n",
       "      <td>0.0</td>\n",
       "      <td>0.0</td>\n",
       "      <td>0.0</td>\n",
       "    </tr>\n",
       "  </tbody>\n",
       "</table>\n",
       "<p>5 rows × 228 columns</p>\n",
       "</div>"
      ],
      "text/plain": [
       "                   name id  NDB_784  NDB_755  NDB_826  NDB_713  NDB_865  \\\n",
       "0     1:3742742-3759944  1      0.0      0.0      0.0      0.0      0.0   \n",
       "1     1:6245958-6258969  2      0.0      0.0      0.0      0.0      0.0   \n",
       "2     1:8740008-8759916  3      0.0      0.0      0.0      0.0      0.0   \n",
       "1016  1:9627926-9637875  1      0.0      0.0      0.0      0.0      0.0   \n",
       "1017  1:9799472-9811359  2      0.0      0.0      0.0      0.0      0.0   \n",
       "\n",
       "      NDB_725  NDB_817  NDB_710  ...  NDB_479  NDB_562  NDB_608  NDB_460  \\\n",
       "0         0.0      0.0      0.0  ...      0.0      0.0      0.0      0.0   \n",
       "1         0.0      0.0      0.0  ...      0.0      0.0      0.0      0.0   \n",
       "2         0.0      0.0      0.0  ...      0.0      0.0      0.0      0.0   \n",
       "1016      0.0      0.0      0.0  ...      0.0      0.0      0.0      0.0   \n",
       "1017      0.0      0.0      0.0  ...      0.0      0.0      0.0      0.0   \n",
       "\n",
       "      NDB_563  NDB_592  NDB_368  NDB_436  NDB_629  NDB_604  \n",
       "0         0.0      0.0      0.0      0.0      0.0      0.0  \n",
       "1         0.0      0.0      0.0      0.0      0.0      0.0  \n",
       "2         0.0      0.0      0.0      0.0      0.0      0.0  \n",
       "1016      0.0      0.0      0.0      0.0      0.0      0.0  \n",
       "1017      0.0      1.0      0.0      0.0      0.0      0.0  \n",
       "\n",
       "[5 rows x 228 columns]"
      ]
     },
     "execution_count": 8,
     "metadata": {},
     "output_type": "execute_result"
    }
   ],
   "source": [
    "# Load codebook \n",
    "codebook_fname = os.path.join(input_folder,'merged_codebook.csv')\n",
    "codebook_df = pd.read_csv (codebook_fname, index_col=0)\n",
    "\n",
    "# sort df by chr and chr_order\n",
    "codebook_df = loci_1d_features.sort_loci_df_by_chr_order (codebook_df)\n",
    "codebook_df.head()"
   ]
  },
  {
   "cell_type": "code",
   "execution_count": 9,
   "id": "3e95ab4f",
   "metadata": {
    "scrolled": true
   },
   "outputs": [
    {
     "data": {
      "text/html": [
       "<div>\n",
       "<style scoped>\n",
       "    .dataframe tbody tr th:only-of-type {\n",
       "        vertical-align: middle;\n",
       "    }\n",
       "\n",
       "    .dataframe tbody tr th {\n",
       "        vertical-align: top;\n",
       "    }\n",
       "\n",
       "    .dataframe thead th {\n",
       "        text-align: right;\n",
       "    }\n",
       "</style>\n",
       "<table border=\"1\" class=\"dataframe\">\n",
       "  <thead>\n",
       "    <tr style=\"text-align: right;\">\n",
       "      <th></th>\n",
       "      <th>name</th>\n",
       "      <th>id</th>\n",
       "      <th>chr</th>\n",
       "      <th>chr_order</th>\n",
       "      <th>library</th>\n",
       "    </tr>\n",
       "    <tr>\n",
       "      <th>loci_name</th>\n",
       "      <th></th>\n",
       "      <th></th>\n",
       "      <th></th>\n",
       "      <th></th>\n",
       "      <th></th>\n",
       "    </tr>\n",
       "  </thead>\n",
       "  <tbody>\n",
       "    <tr>\n",
       "      <th>chr1_3742742_3759944</th>\n",
       "      <td>1:3742742-3759944</td>\n",
       "      <td>1</td>\n",
       "      <td>1</td>\n",
       "      <td>0.0</td>\n",
       "      <td>CTP11</td>\n",
       "    </tr>\n",
       "    <tr>\n",
       "      <th>chr1_6245958_6258969</th>\n",
       "      <td>1:6245958-6258969</td>\n",
       "      <td>2</td>\n",
       "      <td>1</td>\n",
       "      <td>1.0</td>\n",
       "      <td>CTP11</td>\n",
       "    </tr>\n",
       "    <tr>\n",
       "      <th>chr1_8740008_8759916</th>\n",
       "      <td>1:8740008-8759916</td>\n",
       "      <td>3</td>\n",
       "      <td>1</td>\n",
       "      <td>2.0</td>\n",
       "      <td>CTP11</td>\n",
       "    </tr>\n",
       "    <tr>\n",
       "      <th>chr1_9627926_9637875</th>\n",
       "      <td>1:9627926-9637875</td>\n",
       "      <td>1</td>\n",
       "      <td>1</td>\n",
       "      <td>3.0</td>\n",
       "      <td>CTP13</td>\n",
       "    </tr>\n",
       "    <tr>\n",
       "      <th>chr1_9799472_9811359</th>\n",
       "      <td>1:9799472-9811359</td>\n",
       "      <td>2</td>\n",
       "      <td>1</td>\n",
       "      <td>4.0</td>\n",
       "      <td>CTP13</td>\n",
       "    </tr>\n",
       "  </tbody>\n",
       "</table>\n",
       "</div>"
      ],
      "text/plain": [
       "                                   name id chr  chr_order library\n",
       "loci_name                                                        \n",
       "chr1_3742742_3759944  1:3742742-3759944  1   1        0.0   CTP11\n",
       "chr1_6245958_6258969  1:6245958-6258969  2   1        1.0   CTP11\n",
       "chr1_8740008_8759916  1:8740008-8759916  3   1        2.0   CTP11\n",
       "chr1_9627926_9637875  1:9627926-9637875  1   1        3.0   CTP13\n",
       "chr1_9799472_9811359  1:9799472-9811359  2   1        4.0   CTP13"
      ]
     },
     "execution_count": 9,
     "metadata": {},
     "output_type": "execute_result"
    }
   ],
   "source": [
    "# Format the chr loci name by \n",
    "# 1. changing loci name format\n",
    "# 2. extract relevant information such as id, chr, chr_order, and library etc\n",
    "from gene_to_loci import loci_pos_format\n",
    "loci_name_list = list(map(loci_pos_format, codebook_df['name'].tolist()))\n",
    "loci_name_arr = np.array(loci_name_list)\n",
    "\n",
    "# convert to a new dataframe and set loci name as index\n",
    "codebook_df = codebook_df[['name','id','chr','chr_order','library']]\n",
    "codebook_df['loci_name'] = list(loci_name_arr[:,0])\n",
    "codebook_df = codebook_df.set_index ('loci_name')\n",
    "\n",
    "codebook_df.head()"
   ]
  },
  {
   "cell_type": "code",
   "execution_count": null,
   "id": "9ed61d13",
   "metadata": {},
   "outputs": [],
   "source": []
  },
  {
   "cell_type": "markdown",
   "id": "008273f1",
   "metadata": {},
   "source": [
    "# Load radial position from single cells by cell type "
   ]
  },
  {
   "cell_type": "code",
   "execution_count": 10,
   "id": "3961e4b9",
   "metadata": {
    "scrolled": true
   },
   "outputs": [
    {
     "name": "stderr",
     "output_type": "stream",
     "text": [
      "C:\\Users\\shiwei\\Anaconda3\\envs\\shiwei_chromatin\\lib\\site-packages\\tqdm\\auto.py:22: TqdmWarning: IProgress not found. Please update jupyter and ipywidgets. See https://ipywidgets.readthedocs.io/en/stable/user_install.html\n",
      "  from .autonotebook import tqdm as notebook_tqdm\n"
     ]
    },
    {
     "name": "stdout",
     "output_type": "stream",
     "text": [
      "Load radial data\n"
     ]
    }
   ],
   "source": [
    "import pandas as pd\n",
    "import numpy as np\n",
    "from tqdm.auto import tqdm  \n",
    "import os\n",
    "\n",
    "# if with 100kb of the loci\n",
    "_ext = 100\n",
    "\n",
    "chrom_list = [c for c in np.unique(codebook_df['chr']) if c!= 'Y']\n",
    "chrom_list = [c for c in chrom_list  if c!='X']\n",
    "chrom_list.sort(key = int)\n",
    "chrom_list.append('X')\n",
    "\n",
    "analysis_df_fname = os.path.join(output_analysis_folder, f'radial_single_cell_allLoci_{_ext}kb.csv')\n",
    "\n",
    "if os.path.exists(analysis_df_fname):\n",
    "    sc_ave_radial_df_all = pd.read_csv(analysis_df_fname, index_col=0)\n",
    "    print(\"Load radial data\")\n",
    "    \n",
    "else:\n",
    "    print(\"Start process radial data\")\n",
    "    \n",
    "    sc_ave_radial_df_list = []\n",
    "    for chosen_chrom in chrom_list[:]:\n",
    "        radial_chr_fname = os.path.join(output_analysis_folder,\n",
    "                                        'radial_pos_byChr', \n",
    "                                        f'Chr{chosen_chrom}_single_cell_radial_position.h5')\n",
    "        _loci_name_list = codebook_df[codebook_df['chr']==chosen_chrom].index.tolist()\n",
    "        if os.path.exists(radial_chr_fname):\n",
    "            print('Loading')\n",
    "            sc_radial_df = pd.read_hdf(radial_chr_fname, index_col=0)\n",
    "\n",
    "            # Initialize an empty dictionary to store average values\n",
    "            averaged_columns = {}\n",
    "            # Use tqdm to show progress over columns\n",
    "            for column_name in tqdm(sc_radial_df.columns, desc=\"Calculating medians\"):\n",
    "                # Calculate the median for each cell assuming each cell contains an iterable\n",
    "                averaged_columns[f\"{column_name}_ave\"] = sc_radial_df[column_name].apply(lambda x: np.nanmedian(x) \n",
    "                                                                                         if isinstance(x, (list, np.ndarray)) else x)\n",
    "                \n",
    "            # Create a new DataFrame from the averaged columns dictionary\n",
    "            sc_ave_radial_df = pd.DataFrame(averaged_columns)\n",
    "            sc_ave_radial_df.index = sc_radial_df.index\n",
    "            # filter by number of loci for the chr; current half of loci\n",
    "            _good_chr_len_th = int(len(sc_radial_df.columns)/2)\n",
    "            _good_inds = list(np.sum(~np.isnan(sc_ave_radial_df), axis=1)>= _good_chr_len_th)\n",
    "            sc_ave_radial_df = sc_ave_radial_df.loc[_good_inds , :]\n",
    "            \n",
    "            sc_ave_radial_df_list.append(sc_ave_radial_df)\n",
    "            \n",
    "    # Concatenate DataFrames along columns, keeping all unique indices (outer join) as the above filtering will remove some obs\n",
    "    sc_ave_radial_df_all = pd.concat(sc_ave_radial_df_list, axis=1, join='outer')\n",
    "    sc_ave_radial_df_all.to_csv(analysis_df_fname)\n",
    "\n"
   ]
  },
  {
   "cell_type": "code",
   "execution_count": 11,
   "id": "cf2cba42",
   "metadata": {},
   "outputs": [
    {
     "data": {
      "text/html": [
       "<div>\n",
       "<style scoped>\n",
       "    .dataframe tbody tr th:only-of-type {\n",
       "        vertical-align: middle;\n",
       "    }\n",
       "\n",
       "    .dataframe tbody tr th {\n",
       "        vertical-align: top;\n",
       "    }\n",
       "\n",
       "    .dataframe thead th {\n",
       "        text-align: right;\n",
       "    }\n",
       "</style>\n",
       "<table border=\"1\" class=\"dataframe\">\n",
       "  <thead>\n",
       "    <tr style=\"text-align: right;\">\n",
       "      <th></th>\n",
       "      <th>chr1_3742742_3759944_rp_ave</th>\n",
       "      <th>chr1_6245958_6258969_rp_ave</th>\n",
       "      <th>chr1_8740008_8759916_rp_ave</th>\n",
       "      <th>chr1_9627926_9637875_rp_ave</th>\n",
       "      <th>chr1_9799472_9811359_rp_ave</th>\n",
       "      <th>chr1_11247744_11257616_rp_ave</th>\n",
       "      <th>chr1_13741888_13757922_rp_ave</th>\n",
       "      <th>chr1_16251322_16259969_rp_ave</th>\n",
       "      <th>chr1_18749330_18759924_rp_ave</th>\n",
       "      <th>chr1_20920666_20929358_rp_ave</th>\n",
       "      <th>...</th>\n",
       "      <th>chrX_151244970_151259694_rp_ave</th>\n",
       "      <th>chrX_153743904_153759903_rp_ave</th>\n",
       "      <th>chrX_156242675_156257265_rp_ave</th>\n",
       "      <th>chrX_158749404_158759978_rp_ave</th>\n",
       "      <th>chrX_161247067_161259813_rp_ave</th>\n",
       "      <th>chrX_163750534_163758706_rp_ave</th>\n",
       "      <th>chrX_166247682_166259932_rp_ave</th>\n",
       "      <th>chrX_167157164_167167452_rp_ave</th>\n",
       "      <th>chrX_168746045_168757590_rp_ave</th>\n",
       "      <th>chrX_169963295_170005197_rp_ave</th>\n",
       "    </tr>\n",
       "    <tr>\n",
       "      <th>uid</th>\n",
       "      <th></th>\n",
       "      <th></th>\n",
       "      <th></th>\n",
       "      <th></th>\n",
       "      <th></th>\n",
       "      <th></th>\n",
       "      <th></th>\n",
       "      <th></th>\n",
       "      <th></th>\n",
       "      <th></th>\n",
       "      <th></th>\n",
       "      <th></th>\n",
       "      <th></th>\n",
       "      <th></th>\n",
       "      <th></th>\n",
       "      <th></th>\n",
       "      <th></th>\n",
       "      <th></th>\n",
       "      <th></th>\n",
       "      <th></th>\n",
       "      <th></th>\n",
       "    </tr>\n",
       "  </thead>\n",
       "  <tbody>\n",
       "    <tr>\n",
       "      <th>259202492748634617304623818845147108919</th>\n",
       "      <td>0.663333</td>\n",
       "      <td>NaN</td>\n",
       "      <td>NaN</td>\n",
       "      <td>NaN</td>\n",
       "      <td>0.389658</td>\n",
       "      <td>0.670838</td>\n",
       "      <td>NaN</td>\n",
       "      <td>NaN</td>\n",
       "      <td>NaN</td>\n",
       "      <td>0.368213</td>\n",
       "      <td>...</td>\n",
       "      <td>NaN</td>\n",
       "      <td>NaN</td>\n",
       "      <td>NaN</td>\n",
       "      <td>NaN</td>\n",
       "      <td>NaN</td>\n",
       "      <td>NaN</td>\n",
       "      <td>NaN</td>\n",
       "      <td>NaN</td>\n",
       "      <td>NaN</td>\n",
       "      <td>NaN</td>\n",
       "    </tr>\n",
       "    <tr>\n",
       "      <th>336074706103419484501535095917410831417</th>\n",
       "      <td>NaN</td>\n",
       "      <td>0.919306</td>\n",
       "      <td>0.969600</td>\n",
       "      <td>0.866127</td>\n",
       "      <td>NaN</td>\n",
       "      <td>0.878440</td>\n",
       "      <td>NaN</td>\n",
       "      <td>0.867783</td>\n",
       "      <td>0.892323</td>\n",
       "      <td>NaN</td>\n",
       "      <td>...</td>\n",
       "      <td>0.579759</td>\n",
       "      <td>0.735329</td>\n",
       "      <td>NaN</td>\n",
       "      <td>0.716530</td>\n",
       "      <td>0.573704</td>\n",
       "      <td>NaN</td>\n",
       "      <td>0.405672</td>\n",
       "      <td>NaN</td>\n",
       "      <td>NaN</td>\n",
       "      <td>0.656132</td>\n",
       "    </tr>\n",
       "    <tr>\n",
       "      <th>179117357717369278884189379535888871018</th>\n",
       "      <td>0.801852</td>\n",
       "      <td>0.662913</td>\n",
       "      <td>0.701575</td>\n",
       "      <td>NaN</td>\n",
       "      <td>0.809145</td>\n",
       "      <td>NaN</td>\n",
       "      <td>NaN</td>\n",
       "      <td>0.676111</td>\n",
       "      <td>0.685246</td>\n",
       "      <td>0.976274</td>\n",
       "      <td>...</td>\n",
       "      <td>NaN</td>\n",
       "      <td>NaN</td>\n",
       "      <td>NaN</td>\n",
       "      <td>NaN</td>\n",
       "      <td>NaN</td>\n",
       "      <td>NaN</td>\n",
       "      <td>NaN</td>\n",
       "      <td>NaN</td>\n",
       "      <td>NaN</td>\n",
       "      <td>NaN</td>\n",
       "    </tr>\n",
       "    <tr>\n",
       "      <th>92271180002801802991585284299263797402</th>\n",
       "      <td>0.968610</td>\n",
       "      <td>0.795138</td>\n",
       "      <td>NaN</td>\n",
       "      <td>0.800132</td>\n",
       "      <td>0.727659</td>\n",
       "      <td>0.606813</td>\n",
       "      <td>0.793136</td>\n",
       "      <td>0.842555</td>\n",
       "      <td>0.784566</td>\n",
       "      <td>NaN</td>\n",
       "      <td>...</td>\n",
       "      <td>0.728725</td>\n",
       "      <td>0.786005</td>\n",
       "      <td>NaN</td>\n",
       "      <td>1.000000</td>\n",
       "      <td>0.743595</td>\n",
       "      <td>0.678599</td>\n",
       "      <td>NaN</td>\n",
       "      <td>0.822878</td>\n",
       "      <td>0.897859</td>\n",
       "      <td>0.793050</td>\n",
       "    </tr>\n",
       "    <tr>\n",
       "      <th>237111112842863990529297306931448726772</th>\n",
       "      <td>NaN</td>\n",
       "      <td>0.730079</td>\n",
       "      <td>NaN</td>\n",
       "      <td>NaN</td>\n",
       "      <td>NaN</td>\n",
       "      <td>NaN</td>\n",
       "      <td>NaN</td>\n",
       "      <td>0.791152</td>\n",
       "      <td>NaN</td>\n",
       "      <td>NaN</td>\n",
       "      <td>...</td>\n",
       "      <td>1.000000</td>\n",
       "      <td>1.000000</td>\n",
       "      <td>NaN</td>\n",
       "      <td>NaN</td>\n",
       "      <td>0.825552</td>\n",
       "      <td>NaN</td>\n",
       "      <td>NaN</td>\n",
       "      <td>NaN</td>\n",
       "      <td>NaN</td>\n",
       "      <td>NaN</td>\n",
       "    </tr>\n",
       "    <tr>\n",
       "      <th>277329575662461655523555123142354723933</th>\n",
       "      <td>0.869639</td>\n",
       "      <td>NaN</td>\n",
       "      <td>NaN</td>\n",
       "      <td>NaN</td>\n",
       "      <td>NaN</td>\n",
       "      <td>NaN</td>\n",
       "      <td>0.966021</td>\n",
       "      <td>NaN</td>\n",
       "      <td>NaN</td>\n",
       "      <td>0.893948</td>\n",
       "      <td>...</td>\n",
       "      <td>NaN</td>\n",
       "      <td>NaN</td>\n",
       "      <td>NaN</td>\n",
       "      <td>NaN</td>\n",
       "      <td>NaN</td>\n",
       "      <td>NaN</td>\n",
       "      <td>NaN</td>\n",
       "      <td>NaN</td>\n",
       "      <td>NaN</td>\n",
       "      <td>NaN</td>\n",
       "    </tr>\n",
       "    <tr>\n",
       "      <th>68479621772619797446551198722297607886</th>\n",
       "      <td>NaN</td>\n",
       "      <td>NaN</td>\n",
       "      <td>0.878469</td>\n",
       "      <td>0.809328</td>\n",
       "      <td>0.853382</td>\n",
       "      <td>NaN</td>\n",
       "      <td>0.837868</td>\n",
       "      <td>0.659160</td>\n",
       "      <td>0.896189</td>\n",
       "      <td>0.601587</td>\n",
       "      <td>...</td>\n",
       "      <td>NaN</td>\n",
       "      <td>NaN</td>\n",
       "      <td>NaN</td>\n",
       "      <td>NaN</td>\n",
       "      <td>NaN</td>\n",
       "      <td>NaN</td>\n",
       "      <td>NaN</td>\n",
       "      <td>NaN</td>\n",
       "      <td>NaN</td>\n",
       "      <td>NaN</td>\n",
       "    </tr>\n",
       "    <tr>\n",
       "      <th>240118104587723769186744040764939638810</th>\n",
       "      <td>0.886202</td>\n",
       "      <td>0.825985</td>\n",
       "      <td>NaN</td>\n",
       "      <td>0.794075</td>\n",
       "      <td>NaN</td>\n",
       "      <td>0.804243</td>\n",
       "      <td>0.815328</td>\n",
       "      <td>NaN</td>\n",
       "      <td>0.967251</td>\n",
       "      <td>0.679360</td>\n",
       "      <td>...</td>\n",
       "      <td>NaN</td>\n",
       "      <td>0.542725</td>\n",
       "      <td>NaN</td>\n",
       "      <td>0.620154</td>\n",
       "      <td>0.579920</td>\n",
       "      <td>0.697336</td>\n",
       "      <td>NaN</td>\n",
       "      <td>NaN</td>\n",
       "      <td>NaN</td>\n",
       "      <td>0.794457</td>\n",
       "    </tr>\n",
       "    <tr>\n",
       "      <th>40195949218176059251921603414100340819</th>\n",
       "      <td>NaN</td>\n",
       "      <td>NaN</td>\n",
       "      <td>0.620347</td>\n",
       "      <td>0.479219</td>\n",
       "      <td>0.489480</td>\n",
       "      <td>0.966367</td>\n",
       "      <td>1.000000</td>\n",
       "      <td>NaN</td>\n",
       "      <td>NaN</td>\n",
       "      <td>NaN</td>\n",
       "      <td>...</td>\n",
       "      <td>NaN</td>\n",
       "      <td>NaN</td>\n",
       "      <td>NaN</td>\n",
       "      <td>1.000000</td>\n",
       "      <td>NaN</td>\n",
       "      <td>1.000000</td>\n",
       "      <td>NaN</td>\n",
       "      <td>0.815146</td>\n",
       "      <td>1.000000</td>\n",
       "      <td>0.829766</td>\n",
       "    </tr>\n",
       "    <tr>\n",
       "      <th>158368506840258414198850169543718394955</th>\n",
       "      <td>0.870576</td>\n",
       "      <td>0.752402</td>\n",
       "      <td>1.000000</td>\n",
       "      <td>NaN</td>\n",
       "      <td>0.947553</td>\n",
       "      <td>0.932779</td>\n",
       "      <td>0.937811</td>\n",
       "      <td>0.814910</td>\n",
       "      <td>0.741912</td>\n",
       "      <td>0.845591</td>\n",
       "      <td>...</td>\n",
       "      <td>NaN</td>\n",
       "      <td>0.821811</td>\n",
       "      <td>NaN</td>\n",
       "      <td>0.758199</td>\n",
       "      <td>0.955538</td>\n",
       "      <td>NaN</td>\n",
       "      <td>0.755341</td>\n",
       "      <td>NaN</td>\n",
       "      <td>1.000000</td>\n",
       "      <td>0.837968</td>\n",
       "    </tr>\n",
       "  </tbody>\n",
       "</table>\n",
       "<p>10 rows × 1981 columns</p>\n",
       "</div>"
      ],
      "text/plain": [
       "                                         chr1_3742742_3759944_rp_ave  \\\n",
       "uid                                                                    \n",
       "259202492748634617304623818845147108919                     0.663333   \n",
       "336074706103419484501535095917410831417                          NaN   \n",
       "179117357717369278884189379535888871018                     0.801852   \n",
       "92271180002801802991585284299263797402                      0.968610   \n",
       "237111112842863990529297306931448726772                          NaN   \n",
       "277329575662461655523555123142354723933                     0.869639   \n",
       "68479621772619797446551198722297607886                           NaN   \n",
       "240118104587723769186744040764939638810                     0.886202   \n",
       "40195949218176059251921603414100340819                           NaN   \n",
       "158368506840258414198850169543718394955                     0.870576   \n",
       "\n",
       "                                         chr1_6245958_6258969_rp_ave  \\\n",
       "uid                                                                    \n",
       "259202492748634617304623818845147108919                          NaN   \n",
       "336074706103419484501535095917410831417                     0.919306   \n",
       "179117357717369278884189379535888871018                     0.662913   \n",
       "92271180002801802991585284299263797402                      0.795138   \n",
       "237111112842863990529297306931448726772                     0.730079   \n",
       "277329575662461655523555123142354723933                          NaN   \n",
       "68479621772619797446551198722297607886                           NaN   \n",
       "240118104587723769186744040764939638810                     0.825985   \n",
       "40195949218176059251921603414100340819                           NaN   \n",
       "158368506840258414198850169543718394955                     0.752402   \n",
       "\n",
       "                                         chr1_8740008_8759916_rp_ave  \\\n",
       "uid                                                                    \n",
       "259202492748634617304623818845147108919                          NaN   \n",
       "336074706103419484501535095917410831417                     0.969600   \n",
       "179117357717369278884189379535888871018                     0.701575   \n",
       "92271180002801802991585284299263797402                           NaN   \n",
       "237111112842863990529297306931448726772                          NaN   \n",
       "277329575662461655523555123142354723933                          NaN   \n",
       "68479621772619797446551198722297607886                      0.878469   \n",
       "240118104587723769186744040764939638810                          NaN   \n",
       "40195949218176059251921603414100340819                      0.620347   \n",
       "158368506840258414198850169543718394955                     1.000000   \n",
       "\n",
       "                                         chr1_9627926_9637875_rp_ave  \\\n",
       "uid                                                                    \n",
       "259202492748634617304623818845147108919                          NaN   \n",
       "336074706103419484501535095917410831417                     0.866127   \n",
       "179117357717369278884189379535888871018                          NaN   \n",
       "92271180002801802991585284299263797402                      0.800132   \n",
       "237111112842863990529297306931448726772                          NaN   \n",
       "277329575662461655523555123142354723933                          NaN   \n",
       "68479621772619797446551198722297607886                      0.809328   \n",
       "240118104587723769186744040764939638810                     0.794075   \n",
       "40195949218176059251921603414100340819                      0.479219   \n",
       "158368506840258414198850169543718394955                          NaN   \n",
       "\n",
       "                                         chr1_9799472_9811359_rp_ave  \\\n",
       "uid                                                                    \n",
       "259202492748634617304623818845147108919                     0.389658   \n",
       "336074706103419484501535095917410831417                          NaN   \n",
       "179117357717369278884189379535888871018                     0.809145   \n",
       "92271180002801802991585284299263797402                      0.727659   \n",
       "237111112842863990529297306931448726772                          NaN   \n",
       "277329575662461655523555123142354723933                          NaN   \n",
       "68479621772619797446551198722297607886                      0.853382   \n",
       "240118104587723769186744040764939638810                          NaN   \n",
       "40195949218176059251921603414100340819                      0.489480   \n",
       "158368506840258414198850169543718394955                     0.947553   \n",
       "\n",
       "                                         chr1_11247744_11257616_rp_ave  \\\n",
       "uid                                                                      \n",
       "259202492748634617304623818845147108919                       0.670838   \n",
       "336074706103419484501535095917410831417                       0.878440   \n",
       "179117357717369278884189379535888871018                            NaN   \n",
       "92271180002801802991585284299263797402                        0.606813   \n",
       "237111112842863990529297306931448726772                            NaN   \n",
       "277329575662461655523555123142354723933                            NaN   \n",
       "68479621772619797446551198722297607886                             NaN   \n",
       "240118104587723769186744040764939638810                       0.804243   \n",
       "40195949218176059251921603414100340819                        0.966367   \n",
       "158368506840258414198850169543718394955                       0.932779   \n",
       "\n",
       "                                         chr1_13741888_13757922_rp_ave  \\\n",
       "uid                                                                      \n",
       "259202492748634617304623818845147108919                            NaN   \n",
       "336074706103419484501535095917410831417                            NaN   \n",
       "179117357717369278884189379535888871018                            NaN   \n",
       "92271180002801802991585284299263797402                        0.793136   \n",
       "237111112842863990529297306931448726772                            NaN   \n",
       "277329575662461655523555123142354723933                       0.966021   \n",
       "68479621772619797446551198722297607886                        0.837868   \n",
       "240118104587723769186744040764939638810                       0.815328   \n",
       "40195949218176059251921603414100340819                        1.000000   \n",
       "158368506840258414198850169543718394955                       0.937811   \n",
       "\n",
       "                                         chr1_16251322_16259969_rp_ave  \\\n",
       "uid                                                                      \n",
       "259202492748634617304623818845147108919                            NaN   \n",
       "336074706103419484501535095917410831417                       0.867783   \n",
       "179117357717369278884189379535888871018                       0.676111   \n",
       "92271180002801802991585284299263797402                        0.842555   \n",
       "237111112842863990529297306931448726772                       0.791152   \n",
       "277329575662461655523555123142354723933                            NaN   \n",
       "68479621772619797446551198722297607886                        0.659160   \n",
       "240118104587723769186744040764939638810                            NaN   \n",
       "40195949218176059251921603414100340819                             NaN   \n",
       "158368506840258414198850169543718394955                       0.814910   \n",
       "\n",
       "                                         chr1_18749330_18759924_rp_ave  \\\n",
       "uid                                                                      \n",
       "259202492748634617304623818845147108919                            NaN   \n",
       "336074706103419484501535095917410831417                       0.892323   \n",
       "179117357717369278884189379535888871018                       0.685246   \n",
       "92271180002801802991585284299263797402                        0.784566   \n",
       "237111112842863990529297306931448726772                            NaN   \n",
       "277329575662461655523555123142354723933                            NaN   \n",
       "68479621772619797446551198722297607886                        0.896189   \n",
       "240118104587723769186744040764939638810                       0.967251   \n",
       "40195949218176059251921603414100340819                             NaN   \n",
       "158368506840258414198850169543718394955                       0.741912   \n",
       "\n",
       "                                         chr1_20920666_20929358_rp_ave  ...  \\\n",
       "uid                                                                     ...   \n",
       "259202492748634617304623818845147108919                       0.368213  ...   \n",
       "336074706103419484501535095917410831417                            NaN  ...   \n",
       "179117357717369278884189379535888871018                       0.976274  ...   \n",
       "92271180002801802991585284299263797402                             NaN  ...   \n",
       "237111112842863990529297306931448726772                            NaN  ...   \n",
       "277329575662461655523555123142354723933                       0.893948  ...   \n",
       "68479621772619797446551198722297607886                        0.601587  ...   \n",
       "240118104587723769186744040764939638810                       0.679360  ...   \n",
       "40195949218176059251921603414100340819                             NaN  ...   \n",
       "158368506840258414198850169543718394955                       0.845591  ...   \n",
       "\n",
       "                                         chrX_151244970_151259694_rp_ave  \\\n",
       "uid                                                                        \n",
       "259202492748634617304623818845147108919                              NaN   \n",
       "336074706103419484501535095917410831417                         0.579759   \n",
       "179117357717369278884189379535888871018                              NaN   \n",
       "92271180002801802991585284299263797402                          0.728725   \n",
       "237111112842863990529297306931448726772                         1.000000   \n",
       "277329575662461655523555123142354723933                              NaN   \n",
       "68479621772619797446551198722297607886                               NaN   \n",
       "240118104587723769186744040764939638810                              NaN   \n",
       "40195949218176059251921603414100340819                               NaN   \n",
       "158368506840258414198850169543718394955                              NaN   \n",
       "\n",
       "                                         chrX_153743904_153759903_rp_ave  \\\n",
       "uid                                                                        \n",
       "259202492748634617304623818845147108919                              NaN   \n",
       "336074706103419484501535095917410831417                         0.735329   \n",
       "179117357717369278884189379535888871018                              NaN   \n",
       "92271180002801802991585284299263797402                          0.786005   \n",
       "237111112842863990529297306931448726772                         1.000000   \n",
       "277329575662461655523555123142354723933                              NaN   \n",
       "68479621772619797446551198722297607886                               NaN   \n",
       "240118104587723769186744040764939638810                         0.542725   \n",
       "40195949218176059251921603414100340819                               NaN   \n",
       "158368506840258414198850169543718394955                         0.821811   \n",
       "\n",
       "                                         chrX_156242675_156257265_rp_ave  \\\n",
       "uid                                                                        \n",
       "259202492748634617304623818845147108919                              NaN   \n",
       "336074706103419484501535095917410831417                              NaN   \n",
       "179117357717369278884189379535888871018                              NaN   \n",
       "92271180002801802991585284299263797402                               NaN   \n",
       "237111112842863990529297306931448726772                              NaN   \n",
       "277329575662461655523555123142354723933                              NaN   \n",
       "68479621772619797446551198722297607886                               NaN   \n",
       "240118104587723769186744040764939638810                              NaN   \n",
       "40195949218176059251921603414100340819                               NaN   \n",
       "158368506840258414198850169543718394955                              NaN   \n",
       "\n",
       "                                         chrX_158749404_158759978_rp_ave  \\\n",
       "uid                                                                        \n",
       "259202492748634617304623818845147108919                              NaN   \n",
       "336074706103419484501535095917410831417                         0.716530   \n",
       "179117357717369278884189379535888871018                              NaN   \n",
       "92271180002801802991585284299263797402                          1.000000   \n",
       "237111112842863990529297306931448726772                              NaN   \n",
       "277329575662461655523555123142354723933                              NaN   \n",
       "68479621772619797446551198722297607886                               NaN   \n",
       "240118104587723769186744040764939638810                         0.620154   \n",
       "40195949218176059251921603414100340819                          1.000000   \n",
       "158368506840258414198850169543718394955                         0.758199   \n",
       "\n",
       "                                         chrX_161247067_161259813_rp_ave  \\\n",
       "uid                                                                        \n",
       "259202492748634617304623818845147108919                              NaN   \n",
       "336074706103419484501535095917410831417                         0.573704   \n",
       "179117357717369278884189379535888871018                              NaN   \n",
       "92271180002801802991585284299263797402                          0.743595   \n",
       "237111112842863990529297306931448726772                         0.825552   \n",
       "277329575662461655523555123142354723933                              NaN   \n",
       "68479621772619797446551198722297607886                               NaN   \n",
       "240118104587723769186744040764939638810                         0.579920   \n",
       "40195949218176059251921603414100340819                               NaN   \n",
       "158368506840258414198850169543718394955                         0.955538   \n",
       "\n",
       "                                         chrX_163750534_163758706_rp_ave  \\\n",
       "uid                                                                        \n",
       "259202492748634617304623818845147108919                              NaN   \n",
       "336074706103419484501535095917410831417                              NaN   \n",
       "179117357717369278884189379535888871018                              NaN   \n",
       "92271180002801802991585284299263797402                          0.678599   \n",
       "237111112842863990529297306931448726772                              NaN   \n",
       "277329575662461655523555123142354723933                              NaN   \n",
       "68479621772619797446551198722297607886                               NaN   \n",
       "240118104587723769186744040764939638810                         0.697336   \n",
       "40195949218176059251921603414100340819                          1.000000   \n",
       "158368506840258414198850169543718394955                              NaN   \n",
       "\n",
       "                                         chrX_166247682_166259932_rp_ave  \\\n",
       "uid                                                                        \n",
       "259202492748634617304623818845147108919                              NaN   \n",
       "336074706103419484501535095917410831417                         0.405672   \n",
       "179117357717369278884189379535888871018                              NaN   \n",
       "92271180002801802991585284299263797402                               NaN   \n",
       "237111112842863990529297306931448726772                              NaN   \n",
       "277329575662461655523555123142354723933                              NaN   \n",
       "68479621772619797446551198722297607886                               NaN   \n",
       "240118104587723769186744040764939638810                              NaN   \n",
       "40195949218176059251921603414100340819                               NaN   \n",
       "158368506840258414198850169543718394955                         0.755341   \n",
       "\n",
       "                                         chrX_167157164_167167452_rp_ave  \\\n",
       "uid                                                                        \n",
       "259202492748634617304623818845147108919                              NaN   \n",
       "336074706103419484501535095917410831417                              NaN   \n",
       "179117357717369278884189379535888871018                              NaN   \n",
       "92271180002801802991585284299263797402                          0.822878   \n",
       "237111112842863990529297306931448726772                              NaN   \n",
       "277329575662461655523555123142354723933                              NaN   \n",
       "68479621772619797446551198722297607886                               NaN   \n",
       "240118104587723769186744040764939638810                              NaN   \n",
       "40195949218176059251921603414100340819                          0.815146   \n",
       "158368506840258414198850169543718394955                              NaN   \n",
       "\n",
       "                                         chrX_168746045_168757590_rp_ave  \\\n",
       "uid                                                                        \n",
       "259202492748634617304623818845147108919                              NaN   \n",
       "336074706103419484501535095917410831417                              NaN   \n",
       "179117357717369278884189379535888871018                              NaN   \n",
       "92271180002801802991585284299263797402                          0.897859   \n",
       "237111112842863990529297306931448726772                              NaN   \n",
       "277329575662461655523555123142354723933                              NaN   \n",
       "68479621772619797446551198722297607886                               NaN   \n",
       "240118104587723769186744040764939638810                              NaN   \n",
       "40195949218176059251921603414100340819                          1.000000   \n",
       "158368506840258414198850169543718394955                         1.000000   \n",
       "\n",
       "                                         chrX_169963295_170005197_rp_ave  \n",
       "uid                                                                       \n",
       "259202492748634617304623818845147108919                              NaN  \n",
       "336074706103419484501535095917410831417                         0.656132  \n",
       "179117357717369278884189379535888871018                              NaN  \n",
       "92271180002801802991585284299263797402                          0.793050  \n",
       "237111112842863990529297306931448726772                              NaN  \n",
       "277329575662461655523555123142354723933                              NaN  \n",
       "68479621772619797446551198722297607886                               NaN  \n",
       "240118104587723769186744040764939638810                         0.794457  \n",
       "40195949218176059251921603414100340819                          0.829766  \n",
       "158368506840258414198850169543718394955                         0.837968  \n",
       "\n",
       "[10 rows x 1981 columns]"
      ]
     },
     "execution_count": 11,
     "metadata": {},
     "output_type": "execute_result"
    }
   ],
   "source": [
    "sc_ave_radial_df_all.head(10)"
   ]
  },
  {
   "cell_type": "markdown",
   "id": "4ecda262",
   "metadata": {},
   "source": [
    "# Load celltype information from RNA-MERFISH"
   ]
  },
  {
   "cell_type": "code",
   "execution_count": 12,
   "id": "bf479a46",
   "metadata": {},
   "outputs": [
    {
     "data": {
      "text/plain": [
       "AnnData object with n_obs × n_vars = 63196 × 242\n",
       "    obs: 'fov', 'volume', 'center_x', 'center_y', 'min_x', 'max_x', 'min_y', 'max_y', 'experiment', 'n_genes_by_counts', 'total_counts', 'doublet_score', 'predicted_doublet', 'subclass_label_new', 'class_label_new', 'neuron_identity'\n",
       "    var: 'n_cells_by_counts', 'mean_counts', 'pct_dropout_by_counts', 'total_counts'\n",
       "    uns: 'scrublet'"
      ]
     },
     "execution_count": 12,
     "metadata": {},
     "output_type": "execute_result"
    }
   ],
   "source": [
    "import scanpy as sc\n",
    "target_adata_folder = r'L:\\Shiwei\\RNA_MERFISH_analysis\\Merged_nonclear'\n",
    "# load the processed adata that has UMAP and label information\n",
    "merged_adata = sc.read(os.path.join(target_adata_folder,'filtered_unnorm_data_w_label.h5ad'))\n",
    "\n",
    "merged_adata"
   ]
  },
  {
   "cell_type": "markdown",
   "id": "1aac3bc4",
   "metadata": {},
   "source": [
    "# Plot examples of chromosome"
   ]
  },
  {
   "cell_type": "markdown",
   "id": "9af6815f",
   "metadata": {},
   "source": [
    "## load and plot radial position distribution of chr1"
   ]
  },
  {
   "cell_type": "code",
   "execution_count": 20,
   "id": "2e436fcd",
   "metadata": {
    "scrolled": false
   },
   "outputs": [
    {
     "name": "stderr",
     "output_type": "stream",
     "text": [
      "C:\\Users\\shiwei\\AppData\\Local\\Temp\\3\\ipykernel_57544\\3035626996.py:76: UserWarning: This figure includes Axes that are not compatible with tight_layout, so results might be incorrect.\n",
      "  plt.tight_layout()\n",
      "meta NOT subset; don't know how to subset; dropped\n"
     ]
    },
    {
     "data": {
      "image/png": "[encoded data removed]",
      "text/plain": [
       "<Figure size 275x137.5 with 2 Axes>"
      ]
     },
     "metadata": {},
     "output_type": "display_data"
    },
    {
     "name": "stderr",
     "output_type": "stream",
     "text": [
      "C:\\Users\\shiwei\\AppData\\Local\\Temp\\3\\ipykernel_57544\\3035626996.py:76: UserWarning: This figure includes Axes that are not compatible with tight_layout, so results might be incorrect.\n",
      "  plt.tight_layout()\n",
      "meta NOT subset; don't know how to subset; dropped\n"
     ]
    },
    {
     "data": {
      "image/png": "[encoded data removed]",
      "text/plain": [
       "<Figure size 275x137.5 with 2 Axes>"
      ]
     },
     "metadata": {},
     "output_type": "display_data"
    },
    {
     "name": "stderr",
     "output_type": "stream",
     "text": [
      "C:\\Users\\shiwei\\AppData\\Local\\Temp\\3\\ipykernel_57544\\3035626996.py:76: UserWarning: This figure includes Axes that are not compatible with tight_layout, so results might be incorrect.\n",
      "  plt.tight_layout()\n",
      "meta NOT subset; don't know how to subset; dropped\n"
     ]
    },
    {
     "data": {
      "image/png": "[encoded data removed]",
      "text/plain": [
       "<Figure size 275x137.5 with 2 Axes>"
      ]
     },
     "metadata": {},
     "output_type": "display_data"
    },
    {
     "name": "stderr",
     "output_type": "stream",
     "text": [
      "C:\\Users\\shiwei\\AppData\\Local\\Temp\\3\\ipykernel_57544\\3035626996.py:76: UserWarning: This figure includes Axes that are not compatible with tight_layout, so results might be incorrect.\n",
      "  plt.tight_layout()\n",
      "meta NOT subset; don't know how to subset; dropped\n"
     ]
    },
    {
     "data": {
      "image/png": "[encoded data removed]",
      "text/plain": [
       "<Figure size 275x137.5 with 2 Axes>"
      ]
     },
     "metadata": {},
     "output_type": "display_data"
    },
    {
     "name": "stderr",
     "output_type": "stream",
     "text": [
      "C:\\Users\\shiwei\\AppData\\Local\\Temp\\3\\ipykernel_57544\\3035626996.py:76: UserWarning: This figure includes Axes that are not compatible with tight_layout, so results might be incorrect.\n",
      "  plt.tight_layout()\n",
      "meta NOT subset; don't know how to subset; dropped\n"
     ]
    },
    {
     "data": {
      "image/png": "[encoded data removed]",
      "text/plain": [
       "<Figure size 275x137.5 with 2 Axes>"
      ]
     },
     "metadata": {},
     "output_type": "display_data"
    }
   ],
   "source": [
    "chosen_chrom = '1'\n",
    "cols_keep = [c for c in sc_ave_radial_df_all.columns if f'chr{chosen_chrom}_' in c]\n",
    "sc_ave_radial_df_chr = sc_ave_radial_df_all[cols_keep]\n",
    "\n",
    "# filter by number of loci for the chr\n",
    "_good_chr_len_th = int(len(cols_keep)/2)\n",
    "_good_inds = list(np.sum(~np.isnan(sc_ave_radial_df_chr[cols_keep]), axis=1)>= _good_chr_len_th)\n",
    "sel_sc_ave_radial_df = sc_ave_radial_df_chr.loc[_good_inds , :]\n",
    "\n",
    "shared_obs = np.intersect1d(sel_sc_ave_radial_df.index, merged_adata.obs.index)\n",
    "sel_sc_ave_radial_df = sel_sc_ave_radial_df.loc[shared_obs]\n",
    "sel_merged_adata = merged_adata[shared_obs]\n",
    "\n",
    "sel_sc_ave_radial_df['celltype'] = sel_merged_adata.obs['subclass_label_new']\n",
    "sel_sc_ave_radial_df\n",
    "\n",
    "import matplotlib.pyplot as plt\n",
    "import matplotlib.gridspec as gridspec\n",
    "import numpy as np\n",
    "import os\n",
    "\n",
    "for _celltype in ['L5 IT','L2/3 IT','L4/5 IT','Astro','Oligo'][:]:\n",
    "\n",
    "    sel_df_plot = sel_sc_ave_radial_df[sel_sc_ave_radial_df['celltype']==_celltype]\n",
    "    sel_df_plot = sel_df_plot[cols_keep]\n",
    "    _celltype_fname = _celltype.replace('/','_').replace(' ','_')\n",
    "\n",
    "    fig = plt.figure(figsize=(_page_width/3, _page_width/6), dpi=150)  # Adjusted figure height for two subplots\n",
    "    gs = gridspec.GridSpec(2, 1, height_ratios=[1.5, 1], hspace=0.2)  # Adjust spacing as needed\n",
    "\n",
    "    # First subplot for median and confidence intervals\n",
    "    ax1 = fig.add_subplot(gs[0])\n",
    "    for i, col in enumerate(sel_df_plot.columns):\n",
    "        median = sel_df_plot[col].median()\n",
    "        lower_ci = sel_df_plot[col].quantile(0.25)\n",
    "        upper_ci = sel_df_plot[col].quantile(0.75)\n",
    "        ax1.plot([i, i], [lower_ci, upper_ci], color='gray', alpha=0.3, linewidth=1)\n",
    "        ax1.plot([i - 0.1, i + 0.1], [lower_ci, lower_ci], color='gray', alpha=0.3, linewidth=0.1)\n",
    "        ax1.plot([i - 0.1, i + 0.1], [upper_ci, upper_ci], color='gray', alpha=0.3, linewidth=0.1)\n",
    "        ax1.scatter(i, median, color='red', s=1, zorder=5)\n",
    "\n",
    "    ax1.set_ylabel('Radial \\n position', fontsize=7)\n",
    "    ax1.set_title(_celltype, fontsize=8)\n",
    "    ax1.grid(False)\n",
    "    ax1.set_ylim([0.35, 1])\n",
    "    ax1.tick_params(axis='x', which='major', length=2, width=0.5, labelsize=7)\n",
    "    ax1.tick_params(axis='y', which='major', length=2, width=0.5, labelsize=7)\n",
    "    # After configuring ax1, hide its x-axis labels\n",
    "    # Disable x-axis labels for ax1\n",
    "    ax1.tick_params(axis='x', labelbottom=False)\n",
    "\n",
    "\n",
    "    # Second subplot for standard deviation\n",
    "    ax2 = fig.add_subplot(gs[1], sharex=ax1)\n",
    "    std_values = sel_df_plot.std()\n",
    "    ax2.bar(range(len(std_values)), std_values, color='skyblue', alpha=0.7)\n",
    "    ax2.set_ylabel('SD.', fontsize=7)\n",
    "    ax2.set_ylim([0, 0.35])\n",
    "\n",
    "    # Use the same x-axis setup\n",
    "    ax2.set_xticks(range(0, len(sel_df_plot.columns), 20))\n",
    "    ax2.set_xticklabels(range(1, len(sel_df_plot.columns) + 1, 20), fontsize=7, rotation=90)\n",
    "    ax2.tick_params(axis='x', which='major', length=2, width=0.5, labelsize=7)\n",
    "    ax2.tick_params(axis='y', which='major', length=2, width=0.5, labelsize=7)\n",
    "    # Disable x-axis labels for ax1\n",
    "    ax2.tick_params(axis='x', labelbottom=False)\n",
    "\n",
    "    plt.xlabel(f'Genomic region (Chr{chosen_chrom})', fontsize=7)\n",
    "\n",
    "    \n",
    "    # Adjust the spine thickness for each ax\n",
    "    for _ax in [ax1, ax2]:\n",
    "        for spine in _ax.spines.values():\n",
    "            spine.set_linewidth(0.5)\n",
    "\n",
    "    plt.tight_layout()\n",
    "    fig.subplots_adjust(left=0.15) \n",
    "    # Save the figure with both subplots\n",
    "    plt.savefig(os.path.join(output_figure_folder, f'radial_chr{chosen_chrom}_{_celltype_fname}_single_cell.pdf'), \n",
    "                transparent=True, dpi=300, bbox_inches='tight')\n",
    "\n",
    "    plt.show()"
   ]
  },
  {
   "cell_type": "markdown",
   "id": "deb2150f",
   "metadata": {},
   "source": [
    "## load and plot radial position distribution of chr2"
   ]
  },
  {
   "cell_type": "code",
   "execution_count": 18,
   "id": "214453fa",
   "metadata": {},
   "outputs": [
    {
     "name": "stderr",
     "output_type": "stream",
     "text": [
      "C:\\Users\\shiwei\\AppData\\Local\\Temp\\3\\ipykernel_57544\\784079744.py:76: UserWarning: This figure includes Axes that are not compatible with tight_layout, so results might be incorrect.\n",
      "  plt.tight_layout()\n",
      "meta NOT subset; don't know how to subset; dropped\n"
     ]
    },
    {
     "data": {
      "image/png": "[encoded data removed]",
      "text/plain": [
       "<Figure size 275x137.5 with 2 Axes>"
      ]
     },
     "metadata": {},
     "output_type": "display_data"
    },
    {
     "name": "stderr",
     "output_type": "stream",
     "text": [
      "C:\\Users\\shiwei\\AppData\\Local\\Temp\\3\\ipykernel_57544\\784079744.py:76: UserWarning: This figure includes Axes that are not compatible with tight_layout, so results might be incorrect.\n",
      "  plt.tight_layout()\n",
      "meta NOT subset; don't know how to subset; dropped\n"
     ]
    },
    {
     "data": {
      "image/png": "[encoded data removed]",
      "text/plain": [
       "<Figure size 275x137.5 with 2 Axes>"
      ]
     },
     "metadata": {},
     "output_type": "display_data"
    },
    {
     "name": "stderr",
     "output_type": "stream",
     "text": [
      "C:\\Users\\shiwei\\AppData\\Local\\Temp\\3\\ipykernel_57544\\784079744.py:76: UserWarning: This figure includes Axes that are not compatible with tight_layout, so results might be incorrect.\n",
      "  plt.tight_layout()\n",
      "meta NOT subset; don't know how to subset; dropped\n"
     ]
    },
    {
     "data": {
      "image/png": "[encoded data removed]",
      "text/plain": [
       "<Figure size 275x137.5 with 2 Axes>"
      ]
     },
     "metadata": {},
     "output_type": "display_data"
    },
    {
     "name": "stderr",
     "output_type": "stream",
     "text": [
      "C:\\Users\\shiwei\\AppData\\Local\\Temp\\3\\ipykernel_57544\\784079744.py:76: UserWarning: This figure includes Axes that are not compatible with tight_layout, so results might be incorrect.\n",
      "  plt.tight_layout()\n",
      "meta NOT subset; don't know how to subset; dropped\n"
     ]
    },
    {
     "data": {
      "image/png": "[encoded data removed]",
      "text/plain": [
       "<Figure size 275x137.5 with 2 Axes>"
      ]
     },
     "metadata": {},
     "output_type": "display_data"
    },
    {
     "name": "stderr",
     "output_type": "stream",
     "text": [
      "C:\\Users\\shiwei\\AppData\\Local\\Temp\\3\\ipykernel_57544\\784079744.py:76: UserWarning: This figure includes Axes that are not compatible with tight_layout, so results might be incorrect.\n",
      "  plt.tight_layout()\n",
      "meta NOT subset; don't know how to subset; dropped\n"
     ]
    },
    {
     "data": {
      "image/png": "[encoded data removed]",
      "text/plain": [
       "<Figure size 275x137.5 with 2 Axes>"
      ]
     },
     "metadata": {},
     "output_type": "display_data"
    }
   ],
   "source": [
    "chosen_chrom = '2'\n",
    "cols_keep = [c for c in sc_ave_radial_df_all.columns if f'chr{chosen_chrom}_' in c]\n",
    "sc_ave_radial_df_chr = sc_ave_radial_df_all[cols_keep]\n",
    "\n",
    "# filter by number of loci for the chr\n",
    "_good_chr_len_th = int(len(cols_keep)/2)\n",
    "_good_inds = list(np.sum(~np.isnan(sc_ave_radial_df_chr[cols_keep]), axis=1)>= _good_chr_len_th)\n",
    "sel_sc_ave_radial_df = sc_ave_radial_df_chr.loc[_good_inds , :]\n",
    "\n",
    "shared_obs = np.intersect1d(sel_sc_ave_radial_df.index, merged_adata.obs.index)\n",
    "sel_sc_ave_radial_df = sel_sc_ave_radial_df.loc[shared_obs]\n",
    "sel_merged_adata = merged_adata[shared_obs]\n",
    "\n",
    "sel_sc_ave_radial_df['celltype'] = sel_merged_adata.obs['subclass_label_new']\n",
    "sel_sc_ave_radial_df\n",
    "\n",
    "import matplotlib.pyplot as plt\n",
    "import matplotlib.gridspec as gridspec\n",
    "import numpy as np\n",
    "import os\n",
    "\n",
    "for _celltype in ['L5 IT','L2/3 IT','L4/5 IT','Astro','Oligo'][:]:\n",
    "\n",
    "    sel_df_plot = sel_sc_ave_radial_df[sel_sc_ave_radial_df['celltype']==_celltype]\n",
    "    sel_df_plot = sel_df_plot[cols_keep]\n",
    "    _celltype_fname = _celltype.replace('/','_').replace(' ','_')\n",
    "\n",
    "    fig = plt.figure(figsize=(_page_width/3, _page_width/6), dpi=150)  # Adjusted figure height for two subplots\n",
    "    gs = gridspec.GridSpec(2, 1, height_ratios=[1.5, 1], hspace=0.2)  # Adjust spacing as needed\n",
    "\n",
    "    # First subplot for median and confidence intervals\n",
    "    ax1 = fig.add_subplot(gs[0])\n",
    "    for i, col in enumerate(sel_df_plot.columns):\n",
    "        median = sel_df_plot[col].median()\n",
    "        lower_ci = sel_df_plot[col].quantile(0.25)\n",
    "        upper_ci = sel_df_plot[col].quantile(0.75)\n",
    "        ax1.plot([i, i], [lower_ci, upper_ci], color='gray', alpha=0.3, linewidth=1)\n",
    "        ax1.plot([i - 0.1, i + 0.1], [lower_ci, lower_ci], color='gray', alpha=0.3, linewidth=0.1)\n",
    "        ax1.plot([i - 0.1, i + 0.1], [upper_ci, upper_ci], color='gray', alpha=0.3, linewidth=0.1)\n",
    "        ax1.scatter(i, median, color='red', s=1, zorder=5)\n",
    "\n",
    "    ax1.set_ylabel('Radial \\n position', fontsize=7)\n",
    "    ax1.set_title(_celltype, fontsize=8)\n",
    "    ax1.grid(False)\n",
    "    ax1.set_ylim([0.35, 1])\n",
    "    ax1.tick_params(axis='x', which='major', length=2, width=0.5, labelsize=7)\n",
    "    ax1.tick_params(axis='y', which='major', length=2, width=0.5, labelsize=7)\n",
    "    # After configuring ax1, hide its x-axis labels\n",
    "    # Disable x-axis labels for ax1\n",
    "    ax1.tick_params(axis='x', labelbottom=False)\n",
    "\n",
    "\n",
    "    # Second subplot for standard deviation\n",
    "    ax2 = fig.add_subplot(gs[1], sharex=ax1)\n",
    "    std_values = sel_df_plot.std()\n",
    "    ax2.bar(range(len(std_values)), std_values, color='skyblue', alpha=0.7)\n",
    "    ax2.set_ylabel('SD.', fontsize=7)\n",
    "    ax2.set_ylim([0, 0.35])\n",
    "\n",
    "    # Use the same x-axis setup\n",
    "    ax2.set_xticks(range(0, len(sel_df_plot.columns), 20))\n",
    "    ax2.set_xticklabels(range(1, len(sel_df_plot.columns) + 1, 20), fontsize=7, rotation=90)\n",
    "    ax2.tick_params(axis='x', which='major', length=2, width=0.5, labelsize=7)\n",
    "    ax2.tick_params(axis='y', which='major', length=2, width=0.5, labelsize=7)\n",
    "    # Disable x-axis labels for ax1\n",
    "    ax2.tick_params(axis='x', labelbottom=False)\n",
    "\n",
    "    plt.xlabel(f'Genomic region (Chr{chosen_chrom})', fontsize=7)\n",
    "\n",
    "    \n",
    "    # Adjust the spine thickness for each ax\n",
    "    for _ax in [ax1, ax2]:\n",
    "        for spine in _ax.spines.values():\n",
    "            spine.set_linewidth(0.5)\n",
    "\n",
    "    plt.tight_layout()\n",
    "    fig.subplots_adjust(left=0.15) \n",
    "    # Save the figure with both subplots\n",
    "    plt.savefig(os.path.join(output_figure_folder, f'radial_chr{chosen_chrom}_{_celltype_fname}_single_cell.pdf'), \n",
    "                transparent=True, dpi=300, bbox_inches='tight')\n",
    "\n",
    "    plt.show()"
   ]
  },
  {
   "cell_type": "markdown",
   "id": "dd80e28a",
   "metadata": {},
   "source": [
    "## load and plot radial position distribution of chr7"
   ]
  },
  {
   "cell_type": "code",
   "execution_count": 19,
   "id": "bec614fb",
   "metadata": {},
   "outputs": [
    {
     "name": "stderr",
     "output_type": "stream",
     "text": [
      "C:\\Users\\shiwei\\AppData\\Local\\Temp\\3\\ipykernel_57544\\2265857824.py:76: UserWarning: This figure includes Axes that are not compatible with tight_layout, so results might be incorrect.\n",
      "  plt.tight_layout()\n",
      "meta NOT subset; don't know how to subset; dropped\n"
     ]
    },
    {
     "data": {
      "image/png": "[encoded data removed]",
      "text/plain": [
       "<Figure size 275x137.5 with 2 Axes>"
      ]
     },
     "metadata": {},
     "output_type": "display_data"
    },
    {
     "name": "stderr",
     "output_type": "stream",
     "text": [
      "C:\\Users\\shiwei\\AppData\\Local\\Temp\\3\\ipykernel_57544\\2265857824.py:76: UserWarning: This figure includes Axes that are not compatible with tight_layout, so results might be incorrect.\n",
      "  plt.tight_layout()\n",
      "meta NOT subset; don't know how to subset; dropped\n"
     ]
    },
    {
     "data": {
      "image/png": "[encoded data removed]",
      "text/plain": [
       "<Figure size 275x137.5 with 2 Axes>"
      ]
     },
     "metadata": {},
     "output_type": "display_data"
    },
    {
     "name": "stderr",
     "output_type": "stream",
     "text": [
      "C:\\Users\\shiwei\\AppData\\Local\\Temp\\3\\ipykernel_57544\\2265857824.py:76: UserWarning: This figure includes Axes that are not compatible with tight_layout, so results might be incorrect.\n",
      "  plt.tight_layout()\n",
      "meta NOT subset; don't know how to subset; dropped\n"
     ]
    },
    {
     "data": {
      "image/png": "[encoded data removed]",
      "text/plain": [
       "<Figure size 275x137.5 with 2 Axes>"
      ]
     },
     "metadata": {},
     "output_type": "display_data"
    },
    {
     "name": "stderr",
     "output_type": "stream",
     "text": [
      "C:\\Users\\shiwei\\AppData\\Local\\Temp\\3\\ipykernel_57544\\2265857824.py:76: UserWarning: This figure includes Axes that are not compatible with tight_layout, so results might be incorrect.\n",
      "  plt.tight_layout()\n",
      "meta NOT subset; don't know how to subset; dropped\n"
     ]
    },
    {
     "data": {
      "image/png": "[encoded data removed]",
      "text/plain": [
       "<Figure size 275x137.5 with 2 Axes>"
      ]
     },
     "metadata": {},
     "output_type": "display_data"
    },
    {
     "name": "stderr",
     "output_type": "stream",
     "text": [
      "C:\\Users\\shiwei\\AppData\\Local\\Temp\\3\\ipykernel_57544\\2265857824.py:76: UserWarning: This figure includes Axes that are not compatible with tight_layout, so results might be incorrect.\n",
      "  plt.tight_layout()\n",
      "meta NOT subset; don't know how to subset; dropped\n"
     ]
    },
    {
     "data": {
      "image/png": "[encoded data removed]",
      "text/plain": [
       "<Figure size 275x137.5 with 2 Axes>"
      ]
     },
     "metadata": {},
     "output_type": "display_data"
    }
   ],
   "source": [
    "chosen_chrom = '7'\n",
    "cols_keep = [c for c in sc_ave_radial_df_all.columns if f'chr{chosen_chrom}_' in c]\n",
    "sc_ave_radial_df_chr = sc_ave_radial_df_all[cols_keep]\n",
    "\n",
    "# filter by number of loci for the chr\n",
    "_good_chr_len_th = int(len(cols_keep)/2)\n",
    "_good_inds = list(np.sum(~np.isnan(sc_ave_radial_df_chr[cols_keep]), axis=1)>= _good_chr_len_th)\n",
    "sel_sc_ave_radial_df = sc_ave_radial_df_chr.loc[_good_inds , :]\n",
    "\n",
    "shared_obs = np.intersect1d(sel_sc_ave_radial_df.index, merged_adata.obs.index)\n",
    "sel_sc_ave_radial_df = sel_sc_ave_radial_df.loc[shared_obs]\n",
    "sel_merged_adata = merged_adata[shared_obs]\n",
    "\n",
    "sel_sc_ave_radial_df['celltype'] = sel_merged_adata.obs['subclass_label_new']\n",
    "sel_sc_ave_radial_df\n",
    "\n",
    "import matplotlib.pyplot as plt\n",
    "import matplotlib.gridspec as gridspec\n",
    "import numpy as np\n",
    "import os\n",
    "\n",
    "for _celltype in ['L5 IT','L2/3 IT','L4/5 IT','Astro','Oligo'][:]:\n",
    "\n",
    "    sel_df_plot = sel_sc_ave_radial_df[sel_sc_ave_radial_df['celltype']==_celltype]\n",
    "    sel_df_plot = sel_df_plot[cols_keep]\n",
    "    _celltype_fname = _celltype.replace('/','_').replace(' ','_')\n",
    "\n",
    "    fig = plt.figure(figsize=(_page_width/3, _page_width/6), dpi=150)  # Adjusted figure height for two subplots\n",
    "    gs = gridspec.GridSpec(2, 1, height_ratios=[1.5, 1], hspace=0.2)  # Adjust spacing as needed\n",
    "\n",
    "    # First subplot for median and confidence intervals\n",
    "    ax1 = fig.add_subplot(gs[0])\n",
    "    for i, col in enumerate(sel_df_plot.columns):\n",
    "        median = sel_df_plot[col].median()\n",
    "        lower_ci = sel_df_plot[col].quantile(0.25)\n",
    "        upper_ci = sel_df_plot[col].quantile(0.75)\n",
    "        ax1.plot([i, i], [lower_ci, upper_ci], color='gray', alpha=0.3, linewidth=1)\n",
    "        ax1.plot([i - 0.1, i + 0.1], [lower_ci, lower_ci], color='gray', alpha=0.3, linewidth=0.1)\n",
    "        ax1.plot([i - 0.1, i + 0.1], [upper_ci, upper_ci], color='gray', alpha=0.3, linewidth=0.1)\n",
    "        ax1.scatter(i, median, color='red', s=1, zorder=5)\n",
    "\n",
    "    ax1.set_ylabel('Radial \\n position', fontsize=7)\n",
    "    ax1.set_title(_celltype, fontsize=8)\n",
    "    ax1.grid(False)\n",
    "    ax1.set_ylim([0.35, 1])\n",
    "    ax1.tick_params(axis='x', which='major', length=2, width=0.5, labelsize=7)\n",
    "    ax1.tick_params(axis='y', which='major', length=2, width=0.5, labelsize=7)\n",
    "    # After configuring ax1, hide its x-axis labels\n",
    "    # Disable x-axis labels for ax1\n",
    "    ax1.tick_params(axis='x', labelbottom=False)\n",
    "\n",
    "\n",
    "    # Second subplot for standard deviation\n",
    "    ax2 = fig.add_subplot(gs[1], sharex=ax1)\n",
    "    std_values = sel_df_plot.std()\n",
    "    ax2.bar(range(len(std_values)), std_values, color='skyblue', alpha=0.7)\n",
    "    ax2.set_ylabel('SD.', fontsize=7)\n",
    "    ax2.set_ylim([0, 0.35])\n",
    "\n",
    "    # Use the same x-axis setup\n",
    "    ax2.set_xticks(range(0, len(sel_df_plot.columns), 20))\n",
    "    ax2.set_xticklabels(range(1, len(sel_df_plot.columns) + 1, 20), fontsize=7, rotation=90)\n",
    "    ax2.tick_params(axis='x', which='major', length=2, width=0.5, labelsize=7)\n",
    "    ax2.tick_params(axis='y', which='major', length=2, width=0.5, labelsize=7)\n",
    "    # Disable x-axis labels for ax1\n",
    "    ax2.tick_params(axis='x', labelbottom=False)\n",
    "\n",
    "    plt.xlabel(f'Genomic region (Chr{chosen_chrom})', fontsize=7)\n",
    "\n",
    "    \n",
    "    # Adjust the spine thickness for each ax\n",
    "    for _ax in [ax1, ax2]:\n",
    "        for spine in _ax.spines.values():\n",
    "            spine.set_linewidth(0.5)\n",
    "\n",
    "    plt.tight_layout()\n",
    "    fig.subplots_adjust(left=0.15) \n",
    "    # Save the figure with both subplots\n",
    "    plt.savefig(os.path.join(output_figure_folder, f'radial_chr{chosen_chrom}_{_celltype_fname}_single_cell.pdf'), \n",
    "                transparent=True, dpi=300, bbox_inches='tight')\n",
    "\n",
    "    plt.show()"
   ]
  },
  {
   "cell_type": "markdown",
   "id": "30125807",
   "metadata": {},
   "source": [
    "## load and plot radial position distribution of chr11"
   ]
  },
  {
   "cell_type": "code",
   "execution_count": 21,
   "id": "26e66b46",
   "metadata": {},
   "outputs": [
    {
     "name": "stderr",
     "output_type": "stream",
     "text": [
      "C:\\Users\\shiwei\\AppData\\Local\\Temp\\3\\ipykernel_57544\\2008796795.py:76: UserWarning: This figure includes Axes that are not compatible with tight_layout, so results might be incorrect.\n",
      "  plt.tight_layout()\n",
      "meta NOT subset; don't know how to subset; dropped\n"
     ]
    },
    {
     "data": {
      "image/png": "[encoded data removed]",
      "text/plain": [
       "<Figure size 275x137.5 with 2 Axes>"
      ]
     },
     "metadata": {},
     "output_type": "display_data"
    },
    {
     "name": "stderr",
     "output_type": "stream",
     "text": [
      "C:\\Users\\shiwei\\AppData\\Local\\Temp\\3\\ipykernel_57544\\2008796795.py:76: UserWarning: This figure includes Axes that are not compatible with tight_layout, so results might be incorrect.\n",
      "  plt.tight_layout()\n",
      "meta NOT subset; don't know how to subset; dropped\n"
     ]
    },
    {
     "data": {
      "image/png": "[encoded data removed]",
      "text/plain": [
       "<Figure size 275x137.5 with 2 Axes>"
      ]
     },
     "metadata": {},
     "output_type": "display_data"
    },
    {
     "name": "stderr",
     "output_type": "stream",
     "text": [
      "C:\\Users\\shiwei\\AppData\\Local\\Temp\\3\\ipykernel_57544\\2008796795.py:76: UserWarning: This figure includes Axes that are not compatible with tight_layout, so results might be incorrect.\n",
      "  plt.tight_layout()\n",
      "meta NOT subset; don't know how to subset; dropped\n"
     ]
    },
    {
     "data": {
      "image/png": "[encoded data removed]",
      "text/plain": [
       "<Figure size 275x137.5 with 2 Axes>"
      ]
     },
     "metadata": {},
     "output_type": "display_data"
    },
    {
     "name": "stderr",
     "output_type": "stream",
     "text": [
      "C:\\Users\\shiwei\\AppData\\Local\\Temp\\3\\ipykernel_57544\\2008796795.py:76: UserWarning: This figure includes Axes that are not compatible with tight_layout, so results might be incorrect.\n",
      "  plt.tight_layout()\n",
      "meta NOT subset; don't know how to subset; dropped\n"
     ]
    },
    {
     "data": {
      "image/png": "[encoded data removed]",
      "text/plain": [
       "<Figure size 275x137.5 with 2 Axes>"
      ]
     },
     "metadata": {},
     "output_type": "display_data"
    },
    {
     "name": "stderr",
     "output_type": "stream",
     "text": [
      "C:\\Users\\shiwei\\AppData\\Local\\Temp\\3\\ipykernel_57544\\2008796795.py:76: UserWarning: This figure includes Axes that are not compatible with tight_layout, so results might be incorrect.\n",
      "  plt.tight_layout()\n",
      "meta NOT subset; don't know how to subset; dropped\n"
     ]
    },
    {
     "data": {
      "image/png": "[encoded data removed]",
      "text/plain": [
       "<Figure size 275x137.5 with 2 Axes>"
      ]
     },
     "metadata": {},
     "output_type": "display_data"
    }
   ],
   "source": [
    "chosen_chrom = '11'\n",
    "cols_keep = [c for c in sc_ave_radial_df_all.columns if f'chr{chosen_chrom}_' in c]\n",
    "sc_ave_radial_df_chr = sc_ave_radial_df_all[cols_keep]\n",
    "\n",
    "# filter by number of loci for the chr\n",
    "_good_chr_len_th = int(len(cols_keep)/2)\n",
    "_good_inds = list(np.sum(~np.isnan(sc_ave_radial_df_chr[cols_keep]), axis=1)>= _good_chr_len_th)\n",
    "sel_sc_ave_radial_df = sc_ave_radial_df_chr.loc[_good_inds , :]\n",
    "\n",
    "shared_obs = np.intersect1d(sel_sc_ave_radial_df.index, merged_adata.obs.index)\n",
    "sel_sc_ave_radial_df = sel_sc_ave_radial_df.loc[shared_obs]\n",
    "sel_merged_adata = merged_adata[shared_obs]\n",
    "\n",
    "sel_sc_ave_radial_df['celltype'] = sel_merged_adata.obs['subclass_label_new']\n",
    "sel_sc_ave_radial_df\n",
    "\n",
    "import matplotlib.pyplot as plt\n",
    "import matplotlib.gridspec as gridspec\n",
    "import numpy as np\n",
    "import os\n",
    "\n",
    "for _celltype in ['L5 IT','L2/3 IT','L4/5 IT','Astro','Oligo'][:]:\n",
    "\n",
    "    sel_df_plot = sel_sc_ave_radial_df[sel_sc_ave_radial_df['celltype']==_celltype]\n",
    "    sel_df_plot = sel_df_plot[cols_keep]\n",
    "    _celltype_fname = _celltype.replace('/','_').replace(' ','_')\n",
    "\n",
    "    fig = plt.figure(figsize=(_page_width/3, _page_width/6), dpi=150)  # Adjusted figure height for two subplots\n",
    "    gs = gridspec.GridSpec(2, 1, height_ratios=[1.5, 1], hspace=0.2)  # Adjust spacing as needed\n",
    "\n",
    "    # First subplot for median and confidence intervals\n",
    "    ax1 = fig.add_subplot(gs[0])\n",
    "    for i, col in enumerate(sel_df_plot.columns):\n",
    "        median = sel_df_plot[col].median()\n",
    "        lower_ci = sel_df_plot[col].quantile(0.25)\n",
    "        upper_ci = sel_df_plot[col].quantile(0.75)\n",
    "        ax1.plot([i, i], [lower_ci, upper_ci], color='gray', alpha=0.3, linewidth=1)\n",
    "        ax1.plot([i - 0.1, i + 0.1], [lower_ci, lower_ci], color='gray', alpha=0.3, linewidth=0.1)\n",
    "        ax1.plot([i - 0.1, i + 0.1], [upper_ci, upper_ci], color='gray', alpha=0.3, linewidth=0.1)\n",
    "        ax1.scatter(i, median, color='red', s=1, zorder=5)\n",
    "\n",
    "    ax1.set_ylabel('Radial \\n position', fontsize=7)\n",
    "    ax1.set_title(_celltype, fontsize=8)\n",
    "    ax1.grid(False)\n",
    "    ax1.set_ylim([0.35, 1])\n",
    "    ax1.tick_params(axis='x', which='major', length=2, width=0.5, labelsize=7)\n",
    "    ax1.tick_params(axis='y', which='major', length=2, width=0.5, labelsize=7)\n",
    "    # After configuring ax1, hide its x-axis labels\n",
    "    # Disable x-axis labels for ax1\n",
    "    ax1.tick_params(axis='x', labelbottom=False)\n",
    "\n",
    "\n",
    "    # Second subplot for standard deviation\n",
    "    ax2 = fig.add_subplot(gs[1], sharex=ax1)\n",
    "    std_values = sel_df_plot.std()\n",
    "    ax2.bar(range(len(std_values)), std_values, color='skyblue', alpha=0.7)\n",
    "    ax2.set_ylabel('SD.', fontsize=7)\n",
    "    ax2.set_ylim([0, 0.35])\n",
    "\n",
    "    # Use the same x-axis setup\n",
    "    ax2.set_xticks(range(0, len(sel_df_plot.columns), 20))\n",
    "    ax2.set_xticklabels(range(1, len(sel_df_plot.columns) + 1, 20), fontsize=7, rotation=90)\n",
    "    ax2.tick_params(axis='x', which='major', length=2, width=0.5, labelsize=7)\n",
    "    ax2.tick_params(axis='y', which='major', length=2, width=0.5, labelsize=7)\n",
    "    # Disable x-axis labels for ax1\n",
    "    ax2.tick_params(axis='x', labelbottom=False)\n",
    "\n",
    "    plt.xlabel(f'Genomic region (Chr{chosen_chrom})', fontsize=7)\n",
    "\n",
    "    \n",
    "    # Adjust the spine thickness for each ax\n",
    "    for _ax in [ax1, ax2]:\n",
    "        for spine in _ax.spines.values():\n",
    "            spine.set_linewidth(0.5)\n",
    "\n",
    "    plt.tight_layout()\n",
    "    fig.subplots_adjust(left=0.15) \n",
    "    # Save the figure with both subplots\n",
    "    plt.savefig(os.path.join(output_figure_folder, f'radial_chr{chosen_chrom}_{_celltype_fname}_single_cell.pdf'), \n",
    "                transparent=True, dpi=300, bbox_inches='tight')\n",
    "\n",
    "    plt.show()"
   ]
  },
  {
   "cell_type": "markdown",
   "id": "d1849a6f",
   "metadata": {},
   "source": [
    "# Plot correlation of median of radial position and SD"
   ]
  },
  {
   "cell_type": "code",
   "execution_count": 77,
   "id": "ffbaa5b9",
   "metadata": {
    "scrolled": true
   },
   "outputs": [
    {
     "name": "stdout",
     "output_type": "stream",
     "text": [
      "Loading\n"
     ]
    },
    {
     "name": "stderr",
     "output_type": "stream",
     "text": [
      "Calculating medians:   0%|                                                                     | 0/153 [00:00<?, ?it/s]C:\\Users\\shiwei\\Anaconda3\\envs\\shiwei_chromatin\\lib\\site-packages\\numpy\\lib\\nanfunctions.py:1217: RuntimeWarning: All-NaN slice encountered\n",
      "  r, k = function_base._ureduce(a, func=_nanmedian, axis=axis, out=out,\n",
      "Calculating medians: 100%|███████████████████████████████████████████████████████████| 153/153 [01:37<00:00,  1.57it/s]\n"
     ]
    },
    {
     "name": "stdout",
     "output_type": "stream",
     "text": [
      "Loading\n"
     ]
    },
    {
     "name": "stderr",
     "output_type": "stream",
     "text": [
      "Calculating medians:   0%|                                                                     | 0/148 [00:00<?, ?it/s]C:\\Users\\shiwei\\Anaconda3\\envs\\shiwei_chromatin\\lib\\site-packages\\numpy\\lib\\nanfunctions.py:1217: RuntimeWarning: All-NaN slice encountered\n",
      "  r, k = function_base._ureduce(a, func=_nanmedian, axis=axis, out=out,\n",
      "Calculating medians: 100%|███████████████████████████████████████████████████████████| 148/148 [01:31<00:00,  1.61it/s]\n"
     ]
    },
    {
     "name": "stdout",
     "output_type": "stream",
     "text": [
      "Loading\n"
     ]
    },
    {
     "name": "stderr",
     "output_type": "stream",
     "text": [
      "Calculating medians:   0%|                                                                     | 0/123 [00:00<?, ?it/s]C:\\Users\\shiwei\\Anaconda3\\envs\\shiwei_chromatin\\lib\\site-packages\\numpy\\lib\\nanfunctions.py:1217: RuntimeWarning: All-NaN slice encountered\n",
      "  r, k = function_base._ureduce(a, func=_nanmedian, axis=axis, out=out,\n",
      "Calculating medians: 100%|███████████████████████████████████████████████████████████| 123/123 [01:22<00:00,  1.50it/s]\n"
     ]
    },
    {
     "name": "stdout",
     "output_type": "stream",
     "text": [
      "Loading\n"
     ]
    },
    {
     "name": "stderr",
     "output_type": "stream",
     "text": [
      "Calculating medians:   0%|                                                                     | 0/122 [00:00<?, ?it/s]C:\\Users\\shiwei\\Anaconda3\\envs\\shiwei_chromatin\\lib\\site-packages\\numpy\\lib\\nanfunctions.py:1217: RuntimeWarning: All-NaN slice encountered\n",
      "  r, k = function_base._ureduce(a, func=_nanmedian, axis=axis, out=out,\n",
      "Calculating medians: 100%|███████████████████████████████████████████████████████████| 122/122 [01:23<00:00,  1.46it/s]\n"
     ]
    },
    {
     "name": "stdout",
     "output_type": "stream",
     "text": [
      "Loading\n"
     ]
    },
    {
     "name": "stderr",
     "output_type": "stream",
     "text": [
      "Calculating medians:   0%|                                                                     | 0/119 [00:00<?, ?it/s]C:\\Users\\shiwei\\Anaconda3\\envs\\shiwei_chromatin\\lib\\site-packages\\numpy\\lib\\nanfunctions.py:1217: RuntimeWarning: All-NaN slice encountered\n",
      "  r, k = function_base._ureduce(a, func=_nanmedian, axis=axis, out=out,\n",
      "Calculating medians: 100%|███████████████████████████████████████████████████████████| 119/119 [01:17<00:00,  1.53it/s]\n"
     ]
    },
    {
     "name": "stdout",
     "output_type": "stream",
     "text": [
      "Loading\n"
     ]
    },
    {
     "name": "stderr",
     "output_type": "stream",
     "text": [
      "Calculating medians:   0%|                                                                     | 0/114 [00:00<?, ?it/s]C:\\Users\\shiwei\\Anaconda3\\envs\\shiwei_chromatin\\lib\\site-packages\\numpy\\lib\\nanfunctions.py:1217: RuntimeWarning: All-NaN slice encountered\n",
      "  r, k = function_base._ureduce(a, func=_nanmedian, axis=axis, out=out,\n",
      "Calculating medians: 100%|███████████████████████████████████████████████████████████| 114/114 [01:12<00:00,  1.57it/s]\n"
     ]
    },
    {
     "name": "stdout",
     "output_type": "stream",
     "text": [
      "Loading\n"
     ]
    },
    {
     "name": "stderr",
     "output_type": "stream",
     "text": [
      "Calculating medians:   0%|                                                                      | 0/96 [00:00<?, ?it/s]C:\\Users\\shiwei\\Anaconda3\\envs\\shiwei_chromatin\\lib\\site-packages\\numpy\\lib\\nanfunctions.py:1217: RuntimeWarning: All-NaN slice encountered\n",
      "  r, k = function_base._ureduce(a, func=_nanmedian, axis=axis, out=out,\n",
      "Calculating medians: 100%|█████████████████████████████████████████████████████████████| 96/96 [01:00<00:00,  1.59it/s]\n"
     ]
    },
    {
     "name": "stdout",
     "output_type": "stream",
     "text": [
      "Loading\n"
     ]
    },
    {
     "name": "stderr",
     "output_type": "stream",
     "text": [
      "Calculating medians:   0%|                                                                     | 0/102 [00:00<?, ?it/s]C:\\Users\\shiwei\\Anaconda3\\envs\\shiwei_chromatin\\lib\\site-packages\\numpy\\lib\\nanfunctions.py:1217: RuntimeWarning: All-NaN slice encountered\n",
      "  r, k = function_base._ureduce(a, func=_nanmedian, axis=axis, out=out,\n",
      "Calculating medians: 100%|███████████████████████████████████████████████████████████| 102/102 [01:07<00:00,  1.51it/s]\n"
     ]
    },
    {
     "name": "stdout",
     "output_type": "stream",
     "text": [
      "Loading\n"
     ]
    },
    {
     "name": "stderr",
     "output_type": "stream",
     "text": [
      "Calculating medians:   0%|                                                                     | 0/102 [00:00<?, ?it/s]C:\\Users\\shiwei\\Anaconda3\\envs\\shiwei_chromatin\\lib\\site-packages\\numpy\\lib\\nanfunctions.py:1217: RuntimeWarning: All-NaN slice encountered\n",
      "  r, k = function_base._ureduce(a, func=_nanmedian, axis=axis, out=out,\n",
      "Calculating medians: 100%|███████████████████████████████████████████████████████████| 102/102 [01:03<00:00,  1.60it/s]\n"
     ]
    },
    {
     "name": "stdout",
     "output_type": "stream",
     "text": [
      "Loading\n"
     ]
    },
    {
     "name": "stderr",
     "output_type": "stream",
     "text": [
      "Calculating medians:   0%|                                                                     | 0/117 [00:00<?, ?it/s]C:\\Users\\shiwei\\Anaconda3\\envs\\shiwei_chromatin\\lib\\site-packages\\numpy\\lib\\nanfunctions.py:1217: RuntimeWarning: All-NaN slice encountered\n",
      "  r, k = function_base._ureduce(a, func=_nanmedian, axis=axis, out=out,\n",
      "Calculating medians: 100%|███████████████████████████████████████████████████████████| 117/117 [01:20<00:00,  1.46it/s]\n"
     ]
    },
    {
     "name": "stdout",
     "output_type": "stream",
     "text": [
      "Loading\n"
     ]
    },
    {
     "name": "stderr",
     "output_type": "stream",
     "text": [
      "Calculating medians:   0%|                                                                     | 0/106 [00:00<?, ?it/s]C:\\Users\\shiwei\\Anaconda3\\envs\\shiwei_chromatin\\lib\\site-packages\\numpy\\lib\\nanfunctions.py:1217: RuntimeWarning: All-NaN slice encountered\n",
      "  r, k = function_base._ureduce(a, func=_nanmedian, axis=axis, out=out,\n",
      "Calculating medians: 100%|███████████████████████████████████████████████████████████| 106/106 [01:09<00:00,  1.52it/s]\n"
     ]
    },
    {
     "name": "stdout",
     "output_type": "stream",
     "text": [
      "Loading\n"
     ]
    },
    {
     "name": "stderr",
     "output_type": "stream",
     "text": [
      "Calculating medians:   0%|                                                                      | 0/78 [00:00<?, ?it/s]C:\\Users\\shiwei\\Anaconda3\\envs\\shiwei_chromatin\\lib\\site-packages\\numpy\\lib\\nanfunctions.py:1217: RuntimeWarning: All-NaN slice encountered\n",
      "  r, k = function_base._ureduce(a, func=_nanmedian, axis=axis, out=out,\n",
      "Calculating medians: 100%|█████████████████████████████████████████████████████████████| 78/78 [00:50<00:00,  1.55it/s]\n"
     ]
    },
    {
     "name": "stdout",
     "output_type": "stream",
     "text": [
      "Loading\n"
     ]
    },
    {
     "name": "stderr",
     "output_type": "stream",
     "text": [
      "Calculating medians:   0%|                                                                      | 0/92 [00:00<?, ?it/s]C:\\Users\\shiwei\\Anaconda3\\envs\\shiwei_chromatin\\lib\\site-packages\\numpy\\lib\\nanfunctions.py:1217: RuntimeWarning: All-NaN slice encountered\n",
      "  r, k = function_base._ureduce(a, func=_nanmedian, axis=axis, out=out,\n",
      "Calculating medians: 100%|█████████████████████████████████████████████████████████████| 92/92 [00:59<00:00,  1.54it/s]\n"
     ]
    },
    {
     "name": "stdout",
     "output_type": "stream",
     "text": [
      "Loading\n"
     ]
    },
    {
     "name": "stderr",
     "output_type": "stream",
     "text": [
      "Calculating medians:   0%|                                                                      | 0/94 [00:00<?, ?it/s]C:\\Users\\shiwei\\Anaconda3\\envs\\shiwei_chromatin\\lib\\site-packages\\numpy\\lib\\nanfunctions.py:1217: RuntimeWarning: All-NaN slice encountered\n",
      "  r, k = function_base._ureduce(a, func=_nanmedian, axis=axis, out=out,\n",
      "Calculating medians: 100%|█████████████████████████████████████████████████████████████| 94/94 [00:59<00:00,  1.59it/s]\n"
     ]
    },
    {
     "name": "stdout",
     "output_type": "stream",
     "text": [
      "Loading\n"
     ]
    },
    {
     "name": "stderr",
     "output_type": "stream",
     "text": [
      "Calculating medians:   0%|                                                                      | 0/78 [00:00<?, ?it/s]C:\\Users\\shiwei\\Anaconda3\\envs\\shiwei_chromatin\\lib\\site-packages\\numpy\\lib\\nanfunctions.py:1217: RuntimeWarning: All-NaN slice encountered\n",
      "  r, k = function_base._ureduce(a, func=_nanmedian, axis=axis, out=out,\n",
      "Calculating medians: 100%|█████████████████████████████████████████████████████████████| 78/78 [00:50<00:00,  1.55it/s]\n"
     ]
    },
    {
     "name": "stdout",
     "output_type": "stream",
     "text": [
      "Loading\n"
     ]
    },
    {
     "name": "stderr",
     "output_type": "stream",
     "text": [
      "Calculating medians:   0%|                                                                      | 0/76 [00:00<?, ?it/s]C:\\Users\\shiwei\\Anaconda3\\envs\\shiwei_chromatin\\lib\\site-packages\\numpy\\lib\\nanfunctions.py:1217: RuntimeWarning: All-NaN slice encountered\n",
      "  r, k = function_base._ureduce(a, func=_nanmedian, axis=axis, out=out,\n",
      "Calculating medians: 100%|█████████████████████████████████████████████████████████████| 76/76 [00:48<00:00,  1.58it/s]\n"
     ]
    },
    {
     "name": "stdout",
     "output_type": "stream",
     "text": [
      "Loading\n"
     ]
    },
    {
     "name": "stderr",
     "output_type": "stream",
     "text": [
      "Calculating medians:   0%|                                                                      | 0/70 [00:00<?, ?it/s]C:\\Users\\shiwei\\Anaconda3\\envs\\shiwei_chromatin\\lib\\site-packages\\numpy\\lib\\nanfunctions.py:1217: RuntimeWarning: All-NaN slice encountered\n",
      "  r, k = function_base._ureduce(a, func=_nanmedian, axis=axis, out=out,\n",
      "Calculating medians: 100%|█████████████████████████████████████████████████████████████| 70/70 [00:43<00:00,  1.59it/s]\n"
     ]
    },
    {
     "name": "stdout",
     "output_type": "stream",
     "text": [
      "Loading\n"
     ]
    },
    {
     "name": "stderr",
     "output_type": "stream",
     "text": [
      "Calculating medians:   0%|                                                                      | 0/68 [00:00<?, ?it/s]C:\\Users\\shiwei\\Anaconda3\\envs\\shiwei_chromatin\\lib\\site-packages\\numpy\\lib\\nanfunctions.py:1217: RuntimeWarning: All-NaN slice encountered\n",
      "  r, k = function_base._ureduce(a, func=_nanmedian, axis=axis, out=out,\n",
      "Calculating medians: 100%|█████████████████████████████████████████████████████████████| 68/68 [00:44<00:00,  1.53it/s]\n"
     ]
    },
    {
     "name": "stdout",
     "output_type": "stream",
     "text": [
      "Loading\n"
     ]
    },
    {
     "name": "stderr",
     "output_type": "stream",
     "text": [
      "Calculating medians:   0%|                                                                      | 0/59 [00:00<?, ?it/s]C:\\Users\\shiwei\\Anaconda3\\envs\\shiwei_chromatin\\lib\\site-packages\\numpy\\lib\\nanfunctions.py:1217: RuntimeWarning: All-NaN slice encountered\n",
      "  r, k = function_base._ureduce(a, func=_nanmedian, axis=axis, out=out,\n",
      "Calculating medians: 100%|█████████████████████████████████████████████████████████████| 59/59 [00:37<00:00,  1.58it/s]\n"
     ]
    },
    {
     "name": "stdout",
     "output_type": "stream",
     "text": [
      "Loading\n"
     ]
    },
    {
     "name": "stderr",
     "output_type": "stream",
     "text": [
      "Calculating medians:   0%|                                                                      | 0/64 [00:00<?, ?it/s]C:\\Users\\shiwei\\Anaconda3\\envs\\shiwei_chromatin\\lib\\site-packages\\numpy\\lib\\nanfunctions.py:1217: RuntimeWarning: All-NaN slice encountered\n",
      "  r, k = function_base._ureduce(a, func=_nanmedian, axis=axis, out=out,\n",
      "Calculating medians: 100%|█████████████████████████████████████████████████████████████| 64/64 [00:27<00:00,  2.35it/s]\n"
     ]
    }
   ],
   "source": [
    "import pandas as pd\n",
    "import numpy as np\n",
    "from tqdm.auto import tqdm  \n",
    "\n",
    "\n",
    "chrom_list = [c for c in np.unique(codebook_df['chr']) if c!= 'Y']\n",
    "chrom_list = [c for c in chrom_list  if c!='X']\n",
    "chrom_list.sort(key = int)\n",
    "chrom_list.append('X')\n",
    "\n",
    "\n",
    "analysis_df_fname = os.path.join(output_analysis_folder, f'radial_single_cell_allLoci_{_ext}kb_median_and_SD.csv')\n",
    "\n",
    "if os.path.exists(analysis_df_fname):\n",
    "    radial_medians_and_std = pd.read_csv(analysis_df_fname, index_col=0)\n",
    "    print(\"Load radial data\")\n",
    "    \n",
    "else:    \n",
    "    # Initialize an empty dictionary to store results\n",
    "    radial_medians_and_std = {'celltype':[], 'chromosome':[], 'radial_postion_median':[], 'radial_postion_std':[]}\n",
    "\n",
    "    for chosen_chrom in chrom_list[:]:\n",
    "        radial_chr_fname = os.path.join(output_analysis_folder, \n",
    "                                        'radial_pos_byChr_from_temp', \n",
    "                                        f'Chr{chosen_chrom}_single_cell_radial_position.h5')\n",
    "        _loci_name_list = codebook_df[codebook_df['chr']==chosen_chrom].index.tolist()\n",
    "        if os.path.exists(radial_chr_fname):\n",
    "            print('Loading')\n",
    "            sc_radial_df = pd.read_hdf(radial_chr_fname, index_col=0)\n",
    "\n",
    "            # Initialize an empty dictionary to store average values\n",
    "            averaged_columns = {}\n",
    "            # Use tqdm to show progress over columns\n",
    "            for column_name in tqdm(sc_radial_df.columns, desc=\"Calculating medians\"):\n",
    "                # Calculate the median for each cell assuming each cell contains an iterable\n",
    "                averaged_columns[f\"{column_name}_ave\"] = sc_radial_df[column_name].apply(lambda x: np.nanmedian(x) \n",
    "                                                                                         if isinstance(x, (list, np.ndarray)) else x)\n",
    "\n",
    "            # Create a new DataFrame from the averaged columns dictionary\n",
    "            sc_ave_radial_df = pd.DataFrame(averaged_columns)\n",
    "            sc_ave_radial_df.index = sc_radial_df.index\n",
    "            \n",
    "            # filter by number of loci for the chr\n",
    "            _good_chr_len_th = int(len(sc_radial_df.columns)/2)\n",
    "            _good_inds = list(np.sum(~np.isnan(sc_ave_radial_df), axis=1)>= _good_chr_len_th)\n",
    "            good_sc_ave_radial_df = sc_ave_radial_df.loc[_good_inds , :]\n",
    "            \n",
    "            # append celltype information\n",
    "            shared_obs = np.intersect1d(good_sc_ave_radial_df.index, merged_adata.obs.index)\n",
    "            good_sc_ave_radial_df = good_sc_ave_radial_df.loc[shared_obs]\n",
    "            sel_merged_adata = merged_adata[shared_obs]\n",
    "\n",
    "            good_sc_ave_radial_df['celltype'] = sel_merged_adata.obs['subclass_label_new']\n",
    "\n",
    "            # Calculate median and std at chromosome level for each celltype\n",
    "            for _celltype in selected_cell_labels[:]:\n",
    "                sel_df = good_sc_ave_radial_df[good_sc_ave_radial_df['celltype']==_celltype]\n",
    "                cols_keep = [c for c in sc_ave_radial_df_all.columns if f'chr{chosen_chrom}_' in c]\n",
    "                sel_df = sel_df[cols_keep]\n",
    "\n",
    "                chr_median = np.nanmedian(sel_df)\n",
    "                chr_std_values = np.nanstd(sel_df)\n",
    "\n",
    "                radial_medians_and_std['radial_postion_median'].append(chr_median)\n",
    "                radial_medians_and_std['radial_postion_std'].append(chr_std_values)\n",
    "                radial_medians_and_std['celltype'].append(_celltype)\n",
    "                radial_medians_and_std['chromosome'].append(chosen_chrom)\n",
    "\n",
    "\n",
    "    radial_medians_and_std = pd.DataFrame(radial_medians_and_std)\n",
    "    radial_medians_and_std.to_csv(analysis_df_fname)"
   ]
  },
  {
   "cell_type": "code",
   "execution_count": 79,
   "id": "8854b8a9",
   "metadata": {},
   "outputs": [
    {
     "data": {
      "text/html": [
       "<div>\n",
       "<style scoped>\n",
       "    .dataframe tbody tr th:only-of-type {\n",
       "        vertical-align: middle;\n",
       "    }\n",
       "\n",
       "    .dataframe tbody tr th {\n",
       "        vertical-align: top;\n",
       "    }\n",
       "\n",
       "    .dataframe thead th {\n",
       "        text-align: right;\n",
       "    }\n",
       "</style>\n",
       "<table border=\"1\" class=\"dataframe\">\n",
       "  <thead>\n",
       "    <tr style=\"text-align: right;\">\n",
       "      <th></th>\n",
       "      <th>celltype</th>\n",
       "      <th>chromosome</th>\n",
       "      <th>radial_postion_median</th>\n",
       "      <th>radial_postion_std</th>\n",
       "    </tr>\n",
       "  </thead>\n",
       "  <tbody>\n",
       "    <tr>\n",
       "      <th>0</th>\n",
       "      <td>L2/3 IT</td>\n",
       "      <td>1</td>\n",
       "      <td>0.787845</td>\n",
       "      <td>0.145080</td>\n",
       "    </tr>\n",
       "    <tr>\n",
       "      <th>1</th>\n",
       "      <td>L4/5 IT</td>\n",
       "      <td>1</td>\n",
       "      <td>0.767156</td>\n",
       "      <td>0.149984</td>\n",
       "    </tr>\n",
       "    <tr>\n",
       "      <th>2</th>\n",
       "      <td>L5 IT</td>\n",
       "      <td>1</td>\n",
       "      <td>0.789753</td>\n",
       "      <td>0.151355</td>\n",
       "    </tr>\n",
       "    <tr>\n",
       "      <th>3</th>\n",
       "      <td>L6 IT</td>\n",
       "      <td>1</td>\n",
       "      <td>0.779597</td>\n",
       "      <td>0.146312</td>\n",
       "    </tr>\n",
       "    <tr>\n",
       "      <th>4</th>\n",
       "      <td>L5 ET</td>\n",
       "      <td>1</td>\n",
       "      <td>0.812787</td>\n",
       "      <td>0.152941</td>\n",
       "    </tr>\n",
       "    <tr>\n",
       "      <th>5</th>\n",
       "      <td>L5/6 NP</td>\n",
       "      <td>1</td>\n",
       "      <td>0.779975</td>\n",
       "      <td>0.144223</td>\n",
       "    </tr>\n",
       "    <tr>\n",
       "      <th>6</th>\n",
       "      <td>L6 CT</td>\n",
       "      <td>1</td>\n",
       "      <td>0.765785</td>\n",
       "      <td>0.152546</td>\n",
       "    </tr>\n",
       "    <tr>\n",
       "      <th>7</th>\n",
       "      <td>L6b</td>\n",
       "      <td>1</td>\n",
       "      <td>0.767071</td>\n",
       "      <td>0.152043</td>\n",
       "    </tr>\n",
       "    <tr>\n",
       "      <th>8</th>\n",
       "      <td>Sst</td>\n",
       "      <td>1</td>\n",
       "      <td>0.786269</td>\n",
       "      <td>0.146641</td>\n",
       "    </tr>\n",
       "    <tr>\n",
       "      <th>9</th>\n",
       "      <td>Pvalb</td>\n",
       "      <td>1</td>\n",
       "      <td>0.789491</td>\n",
       "      <td>0.149711</td>\n",
       "    </tr>\n",
       "  </tbody>\n",
       "</table>\n",
       "</div>"
      ],
      "text/plain": [
       "  celltype chromosome  radial_postion_median  radial_postion_std\n",
       "0  L2/3 IT          1               0.787845            0.145080\n",
       "1  L4/5 IT          1               0.767156            0.149984\n",
       "2    L5 IT          1               0.789753            0.151355\n",
       "3    L6 IT          1               0.779597            0.146312\n",
       "4    L5 ET          1               0.812787            0.152941\n",
       "5  L5/6 NP          1               0.779975            0.144223\n",
       "6    L6 CT          1               0.765785            0.152546\n",
       "7      L6b          1               0.767071            0.152043\n",
       "8      Sst          1               0.786269            0.146641\n",
       "9    Pvalb          1               0.789491            0.149711"
      ]
     },
     "execution_count": 79,
     "metadata": {},
     "output_type": "execute_result"
    }
   ],
   "source": [
    "radial_medians_and_std.head(10)"
   ]
  },
  {
   "cell_type": "markdown",
   "id": "4ccdc03e",
   "metadata": {},
   "source": [
    "## plot scatter of median and SD for given cell type"
   ]
  },
  {
   "cell_type": "code",
   "execution_count": 80,
   "id": "85e6336b",
   "metadata": {},
   "outputs": [
    {
     "name": "stderr",
     "output_type": "stream",
     "text": [
      "meta NOT subset; don't know how to subset; dropped\n"
     ]
    },
    {
     "data": {
      "image/png": "[encoded data removed]",
      "text/plain": [
       "<Figure size 137.5x137.5 with 1 Axes>"
      ]
     },
     "metadata": {},
     "output_type": "display_data"
    },
    {
     "name": "stderr",
     "output_type": "stream",
     "text": [
      "meta NOT subset; don't know how to subset; dropped\n"
     ]
    },
    {
     "data": {
      "image/png": "[encoded data removed]",
      "text/plain": [
       "<Figure size 137.5x137.5 with 1 Axes>"
      ]
     },
     "metadata": {},
     "output_type": "display_data"
    },
    {
     "name": "stderr",
     "output_type": "stream",
     "text": [
      "meta NOT subset; don't know how to subset; dropped\n"
     ]
    },
    {
     "data": {
      "image/png": "[encoded data removed]",
      "text/plain": [
       "<Figure size 137.5x137.5 with 1 Axes>"
      ]
     },
     "metadata": {},
     "output_type": "display_data"
    }
   ],
   "source": [
    "from scipy.stats import spearmanr\n",
    "import seaborn as sns\n",
    "\n",
    "for _celltype in ['L2/3 IT','Astro','Oligo'][:]:\n",
    "    df_byCelltype = radial_medians_and_std[radial_medians_and_std['celltype'] == _celltype]\n",
    "    \n",
    "    # Creating the plot\n",
    "    fig, ax = plt.subplots(figsize=(_page_width/4, _page_width/4))  # Adjust figure size as needed\n",
    "    \n",
    "    x = 'radial_postion_median'\n",
    "    y = 'radial_postion_std'\n",
    "    sns.scatterplot(data = df_byCelltype, x=x, y=y,label='Chr', s=30, alpha=0.75)\n",
    "\n",
    "    # Adding titles and labels with adjusted font size\n",
    "    #ax.set_title('Correlation between medians of \\n chromosome radial position and std', fontsize=7)\n",
    "    ax.set_title(f'{_celltype}', fontsize=7)\n",
    "    ax.set_xlabel('Radial position', fontsize=7)\n",
    "    ax.set_ylabel('SD.', fontsize=7)\n",
    "\n",
    "    # Setting x-ticks and adjusting tick parameters\n",
    "    #ax.set_xticklabels(rotation=90, ha=\"center\", fontsize=7)  # Adjust font size for x-tick labels\n",
    "    ax.tick_params(axis='both', labelsize=7)  # Adjust font size for y-tick labels\n",
    "    ax.tick_params(axis='both', length=2)  # Adjust tick length for both axes\n",
    "\n",
    "    # Adjusting y-axis limits correctly for negative correlations\n",
    "    plt.ylim([0.12, 0.22])\n",
    "    plt.xlim([0.45, 0.95])\n",
    "    corr, p_value = spearmanr(df_byCelltype[x], df_byCelltype[y])\n",
    "    ax.text(0.5, 0.14, f'r = {round(corr,2)}')\n",
    "    \n",
    "    # Adding the legend with a smaller font size\n",
    "    ax.legend(fontsize=7)  # Adjusting the font size to make the legend label smaller\n",
    "    \n",
    "    for spine in ax.spines.values():\n",
    "        spine.set_linewidth(0.5)\n",
    "\n",
    "    # Save the figure\n",
    "    _celltype_fname = _celltype.replace(' ','_').replace('/','_')\n",
    "    pdf_path = os.path.join(output_figure_folder, f'radial_position_corr_median_vs_sd_chr_{_celltype_fname}.pdf')\n",
    "    plt.savefig(pdf_path, transparent=True, dpi=300, bbox_inches='tight')\n",
    "\n",
    "    # Display the plot\n",
    "    plt.show()\n",
    "\n",
    "    # Close the plot to free memory\n",
    "    #plt.close()\n",
    "    "
   ]
  },
  {
   "cell_type": "markdown",
   "id": "18033896",
   "metadata": {},
   "source": [
    "## plot correlation summary for all celltypes"
   ]
  },
  {
   "cell_type": "code",
   "execution_count": 81,
   "id": "6ae86aa9",
   "metadata": {},
   "outputs": [
    {
     "data": {
      "text/plain": [
       "{'L2/3 IT': -0.9744360902255638,\n",
       " 'L4/5 IT': -0.9578947368421054,\n",
       " 'L5 IT': -0.9593984962406013,\n",
       " 'L6 IT': -0.9699248120300751,\n",
       " 'L5 ET': -0.8932330827067668,\n",
       " 'L5/6 NP': -0.8932330827067668,\n",
       " 'L6 CT': -0.9654135338345864,\n",
       " 'L6b': -0.9654135338345864,\n",
       " 'Sst': -0.8090225563909773,\n",
       " 'Pvalb': -0.9263157894736842,\n",
       " 'Lamp5': -0.8977443609022555,\n",
       " 'Sncg': -0.8285714285714285,\n",
       " 'Vip': -0.7458646616541353,\n",
       " 'Astro': -0.9819548872180449,\n",
       " 'Oligo': -0.9368421052631578,\n",
       " 'OPC': -0.8781954887218045,\n",
       " 'Micro': -0.8872180451127819,\n",
       " 'Endo': -0.9082706766917292,\n",
       " 'VLMC': -0.6872180451127818,\n",
       " 'SMC': -0.8150375939849623,\n",
       " 'Peri': -0.9052631578947368}"
      ]
     },
     "execution_count": 81,
     "metadata": {},
     "output_type": "execute_result"
    }
   ],
   "source": [
    "from scipy.stats import spearmanr\n",
    "\n",
    "corr_dict_byCelltype = {}\n",
    "\n",
    "for _celltype in selected_cell_labels:\n",
    "    df_byCelltype = radial_medians_and_std[radial_medians_and_std['celltype'] == _celltype]\n",
    "    x = df_byCelltype['radial_postion_median']\n",
    "    y = df_byCelltype['radial_postion_std']\n",
    "    corr, p_value = spearmanr(x, y)\n",
    "    corr_dict_byCelltype[_celltype] = corr\n",
    "    \n",
    "corr_dict_byCelltype    "
   ]
  },
  {
   "cell_type": "code",
   "execution_count": 82,
   "id": "f76c5bdb",
   "metadata": {},
   "outputs": [
    {
     "name": "stderr",
     "output_type": "stream",
     "text": [
      "meta NOT subset; don't know how to subset; dropped\n"
     ]
    },
    {
     "data": {
      "image/png": "[encoded data removed]",
      "text/plain": [
       "<Figure size 275x157.143 with 1 Axes>"
      ]
     },
     "metadata": {},
     "output_type": "display_data"
    }
   ],
   "source": [
    "import matplotlib.pyplot as plt\n",
    "import os\n",
    "\n",
    "# Extracting keys and values\n",
    "keys = list(corr_dict_byCelltype.keys())\n",
    "values = list(corr_dict_byCelltype.values())\n",
    "\n",
    "# Creating the plot\n",
    "fig, ax = plt.subplots(figsize=(_page_width/2, _page_width/3.5))  # Adjust figure size as needed\n",
    "\n",
    "# Plotting bars with colors from the palette\n",
    "for _key, _value in zip(keys, values):\n",
    "    #ax.bar(_key, _value, color=celltype_palette[_key], width=0.65)\n",
    "    ax.bar(_key, _value, color='blue', width=0.65)\n",
    "\n",
    "# Adding titles and labels with adjusted font size\n",
    "ax.set_title('Correlation between Chr median of \\n radial position and SD.', fontsize=7)\n",
    "ax.set_xlabel('Cell types', fontsize=7)\n",
    "ax.set_ylabel('Correlation', fontsize=7)\n",
    "\n",
    "# Setting x-ticks and adjusting tick parameters\n",
    "ax.set_xticks(range(len(keys)))\n",
    "ax.set_xticklabels(keys, rotation=90, ha=\"center\", fontsize=7)  # Adjust font size for x-tick labels\n",
    "ax.tick_params(axis='y', labelsize=7)  # Adjust font size for y-tick labels\n",
    "ax.tick_params(axis='both', length=1)  # Adjust tick length for both axes\n",
    "\n",
    "# Adjusting y-axis limits correctly for negative correlations\n",
    "plt.ylim([0, -1.05])\n",
    "\n",
    "# Save the figure\n",
    "pdf_path = os.path.join(output_figure_folder, 'radial_position_corr_median_vs_sd_barplot.pdf')\n",
    "plt.savefig(pdf_path, transparent=True, dpi=300, bbox_inches='tight')\n",
    "\n",
    "# Display the plot\n",
    "plt.show()\n",
    "\n",
    "# Close the plot to free memory\n",
    "plt.close()\n"
   ]
  },
  {
   "cell_type": "code",
   "execution_count": null,
   "id": "208a633e",
   "metadata": {},
   "outputs": [],
   "source": []
  }
 ],
 "metadata": {
  "kernelspec": {
   "display_name": "Python 3 (ipykernel)",
   "language": "python",
   "name": "python3"
  },
  "language_info": {
   "codemirror_mode": {
    "name": "ipython",
    "version": 3
   },
   "file_extension": ".py",
   "mimetype": "text/x-python",
   "name": "python",
   "nbconvert_exporter": "python",
   "pygments_lexer": "ipython3",
   "version": "3.10.8"
  },
  "toc": {
   "base_numbering": 1,
   "nav_menu": {},
   "number_sections": true,
   "sideBar": true,
   "skip_h1_title": false,
   "title_cell": "Table of Contents",
   "title_sidebar": "Contents",
   "toc_cell": false,
   "toc_position": {
    "height": "calc(100% - 180px)",
    "left": "10px",
    "top": "150px",
    "width": "384px"
   },
   "toc_section_display": true,
   "toc_window_display": true
  }
 },
 "nbformat": 4,
 "nbformat_minor": 5
}
