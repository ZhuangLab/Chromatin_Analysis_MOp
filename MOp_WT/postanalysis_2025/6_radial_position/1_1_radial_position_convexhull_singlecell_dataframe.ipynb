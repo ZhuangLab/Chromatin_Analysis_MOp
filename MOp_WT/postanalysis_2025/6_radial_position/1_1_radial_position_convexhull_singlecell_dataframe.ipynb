{
 "cells": [
  {
   "cell_type": "markdown",
   "id": "75c4e381",
   "metadata": {},
   "source": [
    "# Import module"
   ]
  },
  {
   "cell_type": "markdown",
   "id": "14a33d3e",
   "metadata": {},
   "source": [
    "The link to get [ImageAnalysis3](https://github.com/zhengpuas47/ImageAnalysis3) \n",
    "\n",
    "Or from the Zhuang lab archived [source_tools](https://github.com/ZhuangLab/Chromatin_Analysis_2020_cell/tree/master/sequential_tracing/source)"
   ]
  },
  {
   "cell_type": "markdown",
   "id": "b411cc21",
   "metadata": {},
   "source": [
    "## ImageAnalysis3 and basic modules"
   ]
  },
  {
   "cell_type": "code",
   "execution_count": 1,
   "id": "32554ab1",
   "metadata": {},
   "outputs": [
    {
     "name": "stdout",
     "output_type": "stream",
     "text": [
      "40320\n"
     ]
    }
   ],
   "source": [
    "%run \"C:\\Users\\shiwei\\Documents\\ImageAnalysis3\\required_files\\Startup_py3.py\"\n",
    "sys.path.append(r\"C:\\Users\\shiwei\\Documents\")\n",
    "\n",
    "import ImageAnalysis3 as ia\n",
    "from ImageAnalysis3 import *\n",
    "from ImageAnalysis3.classes import _allowed_kwds\n",
    "\n",
    "import h5py\n",
    "import ast\n",
    "import pandas as pd\n",
    "\n",
    "print(os.getpid())"
   ]
  },
  {
   "cell_type": "markdown",
   "id": "f5f8cd77",
   "metadata": {},
   "source": [
    "## Chromatin_analysis_tools etc"
   ]
  },
  {
   "cell_type": "markdown",
   "id": "2db5036f",
   "metadata": {},
   "source": [
    "See **functions** in the repository for [AnalysisTool_Chromatin](../../README.md)"
   ]
  },
  {
   "cell_type": "code",
   "execution_count": 2,
   "id": "9469aba8",
   "metadata": {},
   "outputs": [
    {
     "data": {
      "text/plain": [
       "<module 'atac_to_loci' from 'C:\\\\Users\\\\shiwei\\\\Documents\\\\AnalysisTool_Chromatin\\\\atac_to_loci.py'>"
      ]
     },
     "execution_count": 2,
     "metadata": {},
     "output_type": "execute_result"
    }
   ],
   "source": [
    "# Chromatin_analysis_tools (ATC)\n",
    "# Get path for the py containing functions\n",
    "import os\n",
    "import sys\n",
    "import importlib\n",
    "module_path =r'C:\\Users\\shiwei\\Documents\\AnalysisTool_Chromatin'\n",
    "if module_path not in sys.path:\n",
    "    sys.path.append(module_path)\n",
    "    \n",
    "# import relevant modules\n",
    "import gene_selection \n",
    "importlib.reload(gene_selection)\n",
    "import gene_to_loci\n",
    "importlib.reload(gene_to_loci)\n",
    "import gene_activity\n",
    "importlib.reload(gene_activity)\n",
    "import loci_1d_features\n",
    "importlib.reload(loci_1d_features)  \n",
    "\n",
    "import atac_to_loci\n",
    "importlib.reload(atac_to_loci)"
   ]
  },
  {
   "cell_type": "markdown",
   "id": "aa08c6de",
   "metadata": {},
   "source": [
    "# Define folders"
   ]
  },
  {
   "cell_type": "code",
   "execution_count": 3,
   "id": "2c8dce53",
   "metadata": {},
   "outputs": [
    {
     "name": "stdout",
     "output_type": "stream",
     "text": [
      "Use existing analysis folder: L:\\Shiwei\\postanalysis_2024\\v0\\radial_position\\analysis.\n",
      "Use existing figure folder: L:\\Shiwei\\postanalysis_2024\\v0\\radial_position\\figures.\n"
     ]
    }
   ],
   "source": [
    "# main folder for postanalysis\n",
    "postanalysis_folder = r'L:\\Shiwei\\postanalysis_2024\\v0'\n",
    "# input files for postanalysis\n",
    "input_folder = os.path.join(postanalysis_folder, 'resources_from_preprocess')\n",
    "\n",
    "# output file to be generated\n",
    "output_main_folder = os.path.join(postanalysis_folder, 'radial_position')\n",
    "\n",
    "output_analysis_folder = os.path.join(output_main_folder, 'analysis')\n",
    "output_figure_folder = os.path.join(output_main_folder, 'figures')\n",
    "\n",
    "# make new folder if needed\n",
    "make_output_folder = True\n",
    "\n",
    "if make_output_folder and not os.path.exists(output_analysis_folder):\n",
    "    os.makedirs(output_analysis_folder)\n",
    "    print(f'Generating analysis folder: {output_analysis_folder}.')\n",
    "elif os.path.exists(output_analysis_folder):\n",
    "    print(f'Use existing analysis folder: {output_analysis_folder}.')\n",
    "    \n",
    "if make_output_folder and not os.path.exists(output_figure_folder):\n",
    "    os.makedirs(output_figure_folder)\n",
    "    print(f'Generating figure folder: {output_figure_folder}.')\n",
    "elif os.path.exists(output_figure_folder):\n",
    "    print(f'Use existing figure folder: {output_figure_folder}.')"
   ]
  },
  {
   "cell_type": "markdown",
   "id": "43745cf2",
   "metadata": {},
   "source": [
    "# Plotting parameters"
   ]
  },
  {
   "cell_type": "code",
   "execution_count": 4,
   "id": "fb1e3324",
   "metadata": {},
   "outputs": [],
   "source": [
    "%matplotlib inline\n",
    "import matplotlib\n",
    "matplotlib.rcParams['pdf.fonttype'] = 42\n",
    "import matplotlib.pyplot as plt\n",
    "plt.rc('font', family='serif')\n",
    "plt.rc('font', serif='Arial')\n",
    "\n",
    "from ImageAnalysis3.figure_tools import _double_col_width, _single_col_width, _font_size, _ticklabel_size,_ticklabel_width\n",
    "\n",
    "import seaborn as sns\n",
    "sns.set_context(\"paper\", rc={\"font.size\":_font_size,\"axes.titlesize\":_font_size+1,\"axes.labelsize\":_font_size})  "
   ]
  },
  {
   "cell_type": "code",
   "execution_count": 5,
   "id": "bc310b7e",
   "metadata": {},
   "outputs": [],
   "source": [
    "# Other required plotting parameters\n",
    "_dpi = 300\n",
    "_font_size = 7\n",
    "_page_width = 5.5\n"
   ]
  },
  {
   "cell_type": "markdown",
   "id": "a1d34726",
   "metadata": {},
   "source": [
    "## cell type color-codes"
   ]
  },
  {
   "cell_type": "code",
   "execution_count": 6,
   "id": "c33943dd",
   "metadata": {},
   "outputs": [],
   "source": [
    "# cell labels from RNA-MERFISH and celltype prediction\n",
    "selected_cell_labels = ['L2/3 IT','L4/5 IT','L5 IT','L6 IT','L5 ET','L5/6 NP','L6 CT','L6b',\n",
    "                           'Sst','Pvalb','Lamp5','Sncg','Vip',\n",
    "                           'Astro','Oligo','OPC','Micro','Endo','VLMC','SMC','Peri', \n",
    "                           #'other',\n",
    "                          ]\n",
    "# cell palette from RNA-MERFISH UMAP and stats\n",
    "celltype_palette = {'Astro':'lightcoral', \n",
    "                    'Endo':'skyblue', \n",
    "                    'L2/3 IT':'gold', \n",
    "                    'L4/5 IT':'darkorange', \n",
    "                    'L5 ET':'mediumseagreen', \n",
    "                    'L5 IT':'aqua',\n",
    "                    'L5/6 NP':'darkgreen',\n",
    "                    'L6 CT':'brown',\n",
    "                    'L6 IT':'magenta',\n",
    "                    'L6b':'blue', \n",
    "                    'Lamp5':'orange', \n",
    "                    'Micro':'peachpuff',\n",
    "                    'OPC':'thistle', \n",
    "                    'Oligo':'darkviolet',\n",
    "                    'Peri':'sandybrown',\n",
    "                    'Pvalb':'springgreen',\n",
    "                    'SMC':'rosybrown',\n",
    "                    'Sncg':'darkkhaki',\n",
    "                    'Sst':'steelblue', \n",
    "                    'VLMC':'saddlebrown', \n",
    "                    'Vip':'red',\n",
    "                    'other':'slategray'}\n"
   ]
  },
  {
   "cell_type": "code",
   "execution_count": 7,
   "id": "caad6887",
   "metadata": {},
   "outputs": [],
   "source": [
    "# this is the plotting order noted based on the snRNA transcriptional acitivty if needed\n",
    "sorted_cellplot_order_byRNA = ['Micro', 'Oligo', 'Endo', 'OPC', 'Astro', 'Vip', 'Lamp5',\n",
    "                  'L5/6 NP', 'Sst', 'Sncg', 'Pvalb', 'L4/5 IT', 'L6 CT',\n",
    "                  'L6 IT', 'L6b', 'L2/3 IT', 'L5 IT', 'L5 ET']"
   ]
  },
  {
   "cell_type": "markdown",
   "id": "b00f58f0",
   "metadata": {},
   "source": [
    "# Load data relevant information"
   ]
  },
  {
   "cell_type": "markdown",
   "id": "7e667606",
   "metadata": {},
   "source": [
    "## load and format codebook"
   ]
  },
  {
   "cell_type": "markdown",
   "id": "6b8440c6",
   "metadata": {},
   "source": [
    "[merged codebook](../resources/merged_codebook.csv) as in the repository (merged for all DNA-MERFISH libraries)"
   ]
  },
  {
   "cell_type": "code",
   "execution_count": 8,
   "id": "c0734aad",
   "metadata": {},
   "outputs": [
    {
     "data": {
      "text/html": [
       "<div>\n",
       "<style scoped>\n",
       "    .dataframe tbody tr th:only-of-type {\n",
       "        vertical-align: middle;\n",
       "    }\n",
       "\n",
       "    .dataframe tbody tr th {\n",
       "        vertical-align: top;\n",
       "    }\n",
       "\n",
       "    .dataframe thead th {\n",
       "        text-align: right;\n",
       "    }\n",
       "</style>\n",
       "<table border=\"1\" class=\"dataframe\">\n",
       "  <thead>\n",
       "    <tr style=\"text-align: right;\">\n",
       "      <th></th>\n",
       "      <th>name</th>\n",
       "      <th>id</th>\n",
       "      <th>NDB_784</th>\n",
       "      <th>NDB_755</th>\n",
       "      <th>NDB_826</th>\n",
       "      <th>NDB_713</th>\n",
       "      <th>NDB_865</th>\n",
       "      <th>NDB_725</th>\n",
       "      <th>NDB_817</th>\n",
       "      <th>NDB_710</th>\n",
       "      <th>...</th>\n",
       "      <th>NDB_479</th>\n",
       "      <th>NDB_562</th>\n",
       "      <th>NDB_608</th>\n",
       "      <th>NDB_460</th>\n",
       "      <th>NDB_563</th>\n",
       "      <th>NDB_592</th>\n",
       "      <th>NDB_368</th>\n",
       "      <th>NDB_436</th>\n",
       "      <th>NDB_629</th>\n",
       "      <th>NDB_604</th>\n",
       "    </tr>\n",
       "  </thead>\n",
       "  <tbody>\n",
       "    <tr>\n",
       "      <th>0</th>\n",
       "      <td>1:3742742-3759944</td>\n",
       "      <td>1</td>\n",
       "      <td>0.0</td>\n",
       "      <td>0.0</td>\n",
       "      <td>0.0</td>\n",
       "      <td>0.0</td>\n",
       "      <td>0.0</td>\n",
       "      <td>0.0</td>\n",
       "      <td>0.0</td>\n",
       "      <td>0.0</td>\n",
       "      <td>...</td>\n",
       "      <td>0.0</td>\n",
       "      <td>0.0</td>\n",
       "      <td>0.0</td>\n",
       "      <td>0.0</td>\n",
       "      <td>0.0</td>\n",
       "      <td>0.0</td>\n",
       "      <td>0.0</td>\n",
       "      <td>0.0</td>\n",
       "      <td>0.0</td>\n",
       "      <td>0.0</td>\n",
       "    </tr>\n",
       "    <tr>\n",
       "      <th>1</th>\n",
       "      <td>1:6245958-6258969</td>\n",
       "      <td>2</td>\n",
       "      <td>0.0</td>\n",
       "      <td>0.0</td>\n",
       "      <td>0.0</td>\n",
       "      <td>0.0</td>\n",
       "      <td>0.0</td>\n",
       "      <td>0.0</td>\n",
       "      <td>0.0</td>\n",
       "      <td>0.0</td>\n",
       "      <td>...</td>\n",
       "      <td>0.0</td>\n",
       "      <td>0.0</td>\n",
       "      <td>0.0</td>\n",
       "      <td>0.0</td>\n",
       "      <td>0.0</td>\n",
       "      <td>0.0</td>\n",
       "      <td>0.0</td>\n",
       "      <td>0.0</td>\n",
       "      <td>0.0</td>\n",
       "      <td>0.0</td>\n",
       "    </tr>\n",
       "    <tr>\n",
       "      <th>2</th>\n",
       "      <td>1:8740008-8759916</td>\n",
       "      <td>3</td>\n",
       "      <td>0.0</td>\n",
       "      <td>0.0</td>\n",
       "      <td>0.0</td>\n",
       "      <td>0.0</td>\n",
       "      <td>0.0</td>\n",
       "      <td>0.0</td>\n",
       "      <td>0.0</td>\n",
       "      <td>0.0</td>\n",
       "      <td>...</td>\n",
       "      <td>0.0</td>\n",
       "      <td>0.0</td>\n",
       "      <td>0.0</td>\n",
       "      <td>0.0</td>\n",
       "      <td>0.0</td>\n",
       "      <td>0.0</td>\n",
       "      <td>0.0</td>\n",
       "      <td>0.0</td>\n",
       "      <td>0.0</td>\n",
       "      <td>0.0</td>\n",
       "    </tr>\n",
       "    <tr>\n",
       "      <th>1016</th>\n",
       "      <td>1:9627926-9637875</td>\n",
       "      <td>1</td>\n",
       "      <td>0.0</td>\n",
       "      <td>0.0</td>\n",
       "      <td>0.0</td>\n",
       "      <td>0.0</td>\n",
       "      <td>0.0</td>\n",
       "      <td>0.0</td>\n",
       "      <td>0.0</td>\n",
       "      <td>0.0</td>\n",
       "      <td>...</td>\n",
       "      <td>0.0</td>\n",
       "      <td>0.0</td>\n",
       "      <td>0.0</td>\n",
       "      <td>0.0</td>\n",
       "      <td>0.0</td>\n",
       "      <td>0.0</td>\n",
       "      <td>0.0</td>\n",
       "      <td>0.0</td>\n",
       "      <td>0.0</td>\n",
       "      <td>0.0</td>\n",
       "    </tr>\n",
       "    <tr>\n",
       "      <th>1017</th>\n",
       "      <td>1:9799472-9811359</td>\n",
       "      <td>2</td>\n",
       "      <td>0.0</td>\n",
       "      <td>0.0</td>\n",
       "      <td>0.0</td>\n",
       "      <td>0.0</td>\n",
       "      <td>0.0</td>\n",
       "      <td>0.0</td>\n",
       "      <td>0.0</td>\n",
       "      <td>0.0</td>\n",
       "      <td>...</td>\n",
       "      <td>0.0</td>\n",
       "      <td>0.0</td>\n",
       "      <td>0.0</td>\n",
       "      <td>0.0</td>\n",
       "      <td>0.0</td>\n",
       "      <td>1.0</td>\n",
       "      <td>0.0</td>\n",
       "      <td>0.0</td>\n",
       "      <td>0.0</td>\n",
       "      <td>0.0</td>\n",
       "    </tr>\n",
       "  </tbody>\n",
       "</table>\n",
       "<p>5 rows × 228 columns</p>\n",
       "</div>"
      ],
      "text/plain": [
       "                   name id  NDB_784  NDB_755  NDB_826  NDB_713  NDB_865  \\\n",
       "0     1:3742742-3759944  1      0.0      0.0      0.0      0.0      0.0   \n",
       "1     1:6245958-6258969  2      0.0      0.0      0.0      0.0      0.0   \n",
       "2     1:8740008-8759916  3      0.0      0.0      0.0      0.0      0.0   \n",
       "1016  1:9627926-9637875  1      0.0      0.0      0.0      0.0      0.0   \n",
       "1017  1:9799472-9811359  2      0.0      0.0      0.0      0.0      0.0   \n",
       "\n",
       "      NDB_725  NDB_817  NDB_710  ...  NDB_479  NDB_562  NDB_608  NDB_460  \\\n",
       "0         0.0      0.0      0.0  ...      0.0      0.0      0.0      0.0   \n",
       "1         0.0      0.0      0.0  ...      0.0      0.0      0.0      0.0   \n",
       "2         0.0      0.0      0.0  ...      0.0      0.0      0.0      0.0   \n",
       "1016      0.0      0.0      0.0  ...      0.0      0.0      0.0      0.0   \n",
       "1017      0.0      0.0      0.0  ...      0.0      0.0      0.0      0.0   \n",
       "\n",
       "      NDB_563  NDB_592  NDB_368  NDB_436  NDB_629  NDB_604  \n",
       "0         0.0      0.0      0.0      0.0      0.0      0.0  \n",
       "1         0.0      0.0      0.0      0.0      0.0      0.0  \n",
       "2         0.0      0.0      0.0      0.0      0.0      0.0  \n",
       "1016      0.0      0.0      0.0      0.0      0.0      0.0  \n",
       "1017      0.0      1.0      0.0      0.0      0.0      0.0  \n",
       "\n",
       "[5 rows x 228 columns]"
      ]
     },
     "execution_count": 8,
     "metadata": {},
     "output_type": "execute_result"
    }
   ],
   "source": [
    "# Load codebook \n",
    "codebook_fname = os.path.join(input_folder,'merged_codebook.csv')\n",
    "codebook_df = pd.read_csv (codebook_fname, index_col=0)\n",
    "\n",
    "# sort df by chr and chr_order\n",
    "codebook_df = loci_1d_features.sort_loci_df_by_chr_order (codebook_df)\n",
    "codebook_df.head()"
   ]
  },
  {
   "cell_type": "code",
   "execution_count": 9,
   "id": "3e95ab4f",
   "metadata": {
    "scrolled": true
   },
   "outputs": [
    {
     "data": {
      "text/html": [
       "<div>\n",
       "<style scoped>\n",
       "    .dataframe tbody tr th:only-of-type {\n",
       "        vertical-align: middle;\n",
       "    }\n",
       "\n",
       "    .dataframe tbody tr th {\n",
       "        vertical-align: top;\n",
       "    }\n",
       "\n",
       "    .dataframe thead th {\n",
       "        text-align: right;\n",
       "    }\n",
       "</style>\n",
       "<table border=\"1\" class=\"dataframe\">\n",
       "  <thead>\n",
       "    <tr style=\"text-align: right;\">\n",
       "      <th></th>\n",
       "      <th>name</th>\n",
       "      <th>id</th>\n",
       "      <th>chr</th>\n",
       "      <th>chr_order</th>\n",
       "      <th>library</th>\n",
       "    </tr>\n",
       "    <tr>\n",
       "      <th>loci_name</th>\n",
       "      <th></th>\n",
       "      <th></th>\n",
       "      <th></th>\n",
       "      <th></th>\n",
       "      <th></th>\n",
       "    </tr>\n",
       "  </thead>\n",
       "  <tbody>\n",
       "    <tr>\n",
       "      <th>chr1_3742742_3759944</th>\n",
       "      <td>1:3742742-3759944</td>\n",
       "      <td>1</td>\n",
       "      <td>1</td>\n",
       "      <td>0.0</td>\n",
       "      <td>CTP11</td>\n",
       "    </tr>\n",
       "    <tr>\n",
       "      <th>chr1_6245958_6258969</th>\n",
       "      <td>1:6245958-6258969</td>\n",
       "      <td>2</td>\n",
       "      <td>1</td>\n",
       "      <td>1.0</td>\n",
       "      <td>CTP11</td>\n",
       "    </tr>\n",
       "    <tr>\n",
       "      <th>chr1_8740008_8759916</th>\n",
       "      <td>1:8740008-8759916</td>\n",
       "      <td>3</td>\n",
       "      <td>1</td>\n",
       "      <td>2.0</td>\n",
       "      <td>CTP11</td>\n",
       "    </tr>\n",
       "    <tr>\n",
       "      <th>chr1_9627926_9637875</th>\n",
       "      <td>1:9627926-9637875</td>\n",
       "      <td>1</td>\n",
       "      <td>1</td>\n",
       "      <td>3.0</td>\n",
       "      <td>CTP13</td>\n",
       "    </tr>\n",
       "    <tr>\n",
       "      <th>chr1_9799472_9811359</th>\n",
       "      <td>1:9799472-9811359</td>\n",
       "      <td>2</td>\n",
       "      <td>1</td>\n",
       "      <td>4.0</td>\n",
       "      <td>CTP13</td>\n",
       "    </tr>\n",
       "  </tbody>\n",
       "</table>\n",
       "</div>"
      ],
      "text/plain": [
       "                                   name id chr  chr_order library\n",
       "loci_name                                                        \n",
       "chr1_3742742_3759944  1:3742742-3759944  1   1        0.0   CTP11\n",
       "chr1_6245958_6258969  1:6245958-6258969  2   1        1.0   CTP11\n",
       "chr1_8740008_8759916  1:8740008-8759916  3   1        2.0   CTP11\n",
       "chr1_9627926_9637875  1:9627926-9637875  1   1        3.0   CTP13\n",
       "chr1_9799472_9811359  1:9799472-9811359  2   1        4.0   CTP13"
      ]
     },
     "execution_count": 9,
     "metadata": {},
     "output_type": "execute_result"
    }
   ],
   "source": [
    "# Format the chr loci name by \n",
    "# 1. changing loci name format\n",
    "# 2. extract relevant information such as id, chr, chr_order, and library etc\n",
    "from gene_to_loci import loci_pos_format\n",
    "loci_name_list = list(map(loci_pos_format, codebook_df['name'].tolist()))\n",
    "loci_name_arr = np.array(loci_name_list)\n",
    "\n",
    "# convert to a new dataframe and set loci name as index\n",
    "codebook_df = codebook_df[['name','id','chr','chr_order','library']]\n",
    "codebook_df['loci_name'] = list(loci_name_arr[:,0])\n",
    "codebook_df = codebook_df.set_index ('loci_name')\n",
    "\n",
    "codebook_df.head()"
   ]
  },
  {
   "cell_type": "markdown",
   "id": "11fd9023",
   "metadata": {},
   "source": [
    "## Load Chr2Zxys dict and medianDict\n",
    "\n",
    "Data can be generated from notebook\n",
    "\n",
    "[preprocess/2_dna_merfish/scripts/2_spot_pick/4_summarize_jie_to_dict](../../preprocess/2_dna_merfish/scripts/2_spot_pick/4_summarize_jie_to_dict.ipynb)"
   ]
  },
  {
   "cell_type": "code",
   "execution_count": 10,
   "id": "01ecd226",
   "metadata": {},
   "outputs": [],
   "source": [
    "postanalysis_folder = r'\\\\10.245.74.158\\Chromatin_NAS_8\\Analyzed_data\\MouseBrain_PostAnalysis_20230201\\MOp_WT_postanalysis\\postanalysis_vCW2_sorted'\n",
    "subclass_2_chr2Zxys_filename = os.path.join(postanalysis_folder, 'subclass_2_chr2Zxys.pkl')\n",
    "subclass_2_chr2ZxysList = pickle.load(open(subclass_2_chr2Zxys_filename, 'rb'))"
   ]
  },
  {
   "cell_type": "code",
   "execution_count": 11,
   "id": "23a74676",
   "metadata": {},
   "outputs": [
    {
     "data": {
      "text/plain": [
       "dict_keys(['Oligo', 'L5 IT', 'Micro', 'Peri', 'Endo', 'Astro', 'OPC', 'L6 CT', 'L5 ET', 'L5/6 NP', 'Pvalb', 'L6 IT', 'Lamp5', 'L6b', 'Sst', 'SMC', 'L4/5 IT', 'L2/3 IT', 'Vip', 'Sncg', 'VLMC'])"
      ]
     },
     "execution_count": 11,
     "metadata": {},
     "output_type": "execute_result"
    }
   ],
   "source": [
    "subclass_2_chr2ZxysList.keys()"
   ]
  },
  {
   "cell_type": "code",
   "execution_count": 12,
   "id": "485aa140",
   "metadata": {},
   "outputs": [],
   "source": [
    "# subclass info\n",
    "subclass_2_cellInfoList_filename = os.path.join(postanalysis_folder, 'subclass_2_cellInfo.pkl')\n",
    "subclass_2_cellInfoList = pickle.load(open(subclass_2_cellInfoList_filename, 'rb'))"
   ]
  },
  {
   "cell_type": "markdown",
   "id": "0be5877c",
   "metadata": {},
   "source": [
    "# Calculate radial position for cell (dataframe version)"
   ]
  },
  {
   "cell_type": "markdown",
   "id": "d91ff95e",
   "metadata": {},
   "source": [
    "## define functions"
   ]
  },
  {
   "cell_type": "code",
   "execution_count": 13,
   "id": "ca2d74b3",
   "metadata": {},
   "outputs": [],
   "source": [
    "from scipy.spatial.distance import euclidean, cdist, pdist\n",
    "from scipy.spatial import ConvexHull"
   ]
  },
  {
   "cell_type": "code",
   "execution_count": 14,
   "id": "db960b3d",
   "metadata": {},
   "outputs": [],
   "source": [
    "# quick get cell pts as zxy arr\n",
    "def chrZXY_to_cell_pts_arr (chrZxysList_cell:dict):\n",
    "    cell_pts = []\n",
    "    for _chrom, _chr_zxys in chrZxysList_cell.items():\n",
    "        for _fiberidx, _ichr_zxys in enumerate(_chr_zxys):\n",
    "            cell_pts.extend(_ichr_zxys)\n",
    "    return cell_pts\n",
    "    \n",
    "# generate cell pts df with region names\n",
    "from AnalysisTool_Chromatin import loci_1d_features\n",
    "importlib.reload(loci_1d_features)  \n",
    "\n",
    "def chrZXY_to_cell_pts_dataframe (chrZxysList_cell:dict, \n",
    "                                  codebook_df:pd.core.frame.DataFrame, \n",
    "                                  cellgroup = 'None'):\n",
    "    \n",
    "    output_df_list = []\n",
    "    for _chrom, _chr_zxys in chrZxysList_cell.items():\n",
    "        for _fiberidx, _ichr_zxys in enumerate(_chr_zxys):\n",
    "            _fiber_df = pd.DataFrame(_ichr_zxys,columns = ['z','x','y'],dtype=np.float64)\n",
    "            _fiber_df['chr']=_chrom\n",
    "            _fiber_df['fiberidx']=_fiberidx+1\n",
    "            # get other info from codebook\n",
    "            _info_df = codebook_df[codebook_df['chr']==_chrom].copy(deep=True)\n",
    "            _info_df = loci_1d_features.sort_loci_df_by_chr_order(_info_df)\n",
    "            _info_df['chr_order'] = _info_df['chr_order'].map(lambda x: int(x))\n",
    "            _info_df.reset_index(inplace=True) # rest index to match so cols can be assigned\n",
    "            if len(_info_df) == len(_fiber_df):\n",
    "                _fiber_df[['name','chr_order']]=_info_df[['name','chr_order']]\n",
    "            else:\n",
    "                print ('Number of loci does NOT match between input dict and codebook.')\n",
    "                #return None\n",
    "            output_df_list.append(_fiber_df)\n",
    "    \n",
    "    output_df = pd.concat(output_df_list)\n",
    "    output_df['celltype']=cellgroup\n",
    "    return output_df\n",
    "                "
   ]
  },
  {
   "cell_type": "code",
   "execution_count": 15,
   "id": "22616cdb",
   "metadata": {},
   "outputs": [
    {
     "data": {
      "text/plain": [
       "array(['1', '10', '11', '12', '13', '14', '15', '16', '17', '18', '19',\n",
       "       '2', '3', '4', '5', '6', '7', '8', '9', 'X', 'Y'], dtype=object)"
      ]
     },
     "execution_count": 15,
     "metadata": {},
     "output_type": "execute_result"
    }
   ],
   "source": [
    "np.unique(codebook_df['chr'])"
   ]
  },
  {
   "cell_type": "code",
   "execution_count": 16,
   "id": "72694330",
   "metadata": {},
   "outputs": [],
   "source": [
    "# method to get interection radius for normalization\n",
    "# convert hull center to 0,0,0 first\n",
    "def get_intersection(U,hull):\n",
    "    eq=hull.equations.T\n",
    "    V,b=eq[:-1],eq[-1]\n",
    "    alpha=-b/np.dot(U,V)\n",
    "    return U*np.full(np.array(U).shape, np.min(alpha[alpha>0]))"
   ]
  },
  {
   "cell_type": "code",
   "execution_count": 17,
   "id": "9a124b8f",
   "metadata": {},
   "outputs": [],
   "source": [
    "def Radial_position_dataframe (chr_2_zxys_list,\n",
    "                                  cell_infoList_class,\n",
    "                                 codebook_df,\n",
    "                                 #function='nanmedian', axis=0, \n",
    "                                #data_num_th=100,  # nonnan data num th for nanmedian along axis\n",
    "                                #Zxys_num_th=500,  # total nonnan data Zxys for using convex hull \n",
    "                                #summarize_result=True,\n",
    "                                 verbose=False):\n",
    "    \n",
    "    from scipy.spatial.distance import euclidean, cdist, pdist\n",
    "    from scipy.spatial import ConvexHull\n",
    "    import math\n",
    "    \n",
    "    # 1. prepare dict to store loci-2-center dist results\n",
    "    _out_cell_dict = {'uid': {},\n",
    "                      'subclass': {},      \n",
    "                      'total_spots': {},\n",
    "                      'radial_position':{}\n",
    "                     }\n",
    "    # make sure is sorted to match the order and has the loci name as index\n",
    "    codebook_df = loci_1d_features.sort_loci_df_by_chr_order (codebook_df)\n",
    "    # loop through cells\n",
    "    for _cell_idx, _cell_chr_2_zxys_dict in enumerate(chr_2_zxys_list):\n",
    "        \n",
    "        _out_cell_dict['uid'][_cell_idx] = cell_infoList_class[_cell_idx]['uid']\n",
    "        _out_cell_dict['subclass'][_cell_idx] = cell_infoList_class[_cell_idx]['subclass']\n",
    "        # 1.1. get nuclei centroid and radius\n",
    "        # 1.1. get nuclei centroid and radius\n",
    "        combined_cell_chrZxy_list = chrZXY_to_cell_pts_arr(_cell_chr_2_zxys_dict)\n",
    "        # use all non-nan points to calculate convex hull            \n",
    "        nonnan_index =np.where(np.sum(~np.isnan(combined_cell_chrZxy_list)>0,axis=1))\n",
    "        total_spots_num = len(nonnan_index[0])\n",
    "        _out_cell_dict['total_spots'][_cell_idx] = total_spots_num\n",
    "        # convex hull\n",
    "        points=np.array(combined_cell_chrZxy_list)[nonnan_index]\n",
    "        hull = ConvexHull(points)  \n",
    "        # get hull centroid\n",
    "        cz = np.mean(hull.points[hull.vertices,0])\n",
    "        cx = np.mean(hull.points[hull.vertices,1])\n",
    "        cy = np.mean(hull.points[hull.vertices,2])\n",
    "        # attention: zxy in correct order!!\n",
    "        _hull_ct_zxy = np.array([cz,cx,cy])\n",
    "        \n",
    "        # update point and hull\n",
    "        points = points - _hull_ct_zxy\n",
    "        hull = ConvexHull(points)\n",
    "\n",
    "        # 1.2. caluclate normalized dist to nuclei centroid for radial positioning if applicable\n",
    "        _cell_radial_position_dict = {#'chr': [],\n",
    "                                      #'chr_order': [],\n",
    "                                      'loci_name': [], # edit to use chr/chr_order or loci_name depending on the codebook format\n",
    "                                      'fiber_id': [],\n",
    "                                      'norm_radial_position': [],}\n",
    "        # loop through chr\n",
    "        for _chr_key in np.unique(codebook_df['chr']):\n",
    "            codebook_df_chr = codebook_df[codebook_df['chr']==_chr_key]\n",
    "            # it's possible this way, some loci will not exist in the final output, use the codebook to assign nan for these loci if so\n",
    "            # otherwise, add empty result for each chr\n",
    "            if _chr_key in _cell_chr_2_zxys_dict.keys(): \n",
    "                _chr_zxys = _cell_chr_2_zxys_dict[_chr_key]\n",
    "                ###########################################\n",
    "                # calculate normalized radial pos for each fiber\n",
    "                for _ichr_idx, _ichr_zxys in enumerate(_chr_zxys):\n",
    "                    ichr_zxys = _ichr_zxys - _hull_ct_zxy \n",
    "                    # define output\n",
    "                    _loci_2_center_list = []\n",
    "                    _loci_radius_list = []\n",
    "                    #loop through every point\n",
    "                    for _zxys in ichr_zxys:\n",
    "                        if len(np.where(np.isnan(_zxys))[0])>0:\n",
    "                            _loci_2_center_list.append(np.nan)\n",
    "                            _loci_radius_list.append(np.nan)\n",
    "                        else:\n",
    "                            _loci_2_center_list.append(euclidean(_zxys, [0,0,0]))\n",
    "                            edge_pt = get_intersection(_zxys, hull)\n",
    "                            _loci_radius_list.append(euclidean(edge_pt, [0,0,0]))\n",
    "                    # normalize each loci on the fiber\n",
    "                    _loci_2_center_list = np.array(_loci_2_center_list)/np.array(_loci_radius_list)\n",
    "                    # add result\n",
    "                    _cell_radial_position_dict['loci_name'].extend(codebook_df_chr.index)\n",
    "                    _cell_radial_position_dict['fiber_id'].extend([_ichr_idx+1]*len(codebook_df_chr))\n",
    "                    _cell_radial_position_dict['norm_radial_position'].extend(_loci_2_center_list)\n",
    "                 ##############################################\n",
    "        _out_cell_dict['radial_position'][_cell_idx] = pd.DataFrame(_cell_radial_position_dict)\n",
    "        \n",
    "    _out_cell_df = pd.DataFrame(_out_cell_dict)\n",
    "    _out_cell_df.set_index('uid', drop=True,inplace=True)\n",
    "    return _out_cell_df\n"
   ]
  },
  {
   "cell_type": "markdown",
   "id": "3fdb0cdb",
   "metadata": {},
   "source": [
    "## process"
   ]
  },
  {
   "cell_type": "code",
   "execution_count": 18,
   "id": "2fb96bd8",
   "metadata": {},
   "outputs": [
    {
     "name": "stderr",
     "output_type": "stream",
     "text": [
      "\r",
      "  0%|                                                                                           | 0/21 [00:00<?, ?it/s]"
     ]
    },
    {
     "name": "stdout",
     "output_type": "stream",
     "text": [
      "Analyze cell hull volume for Oligo "
     ]
    },
    {
     "name": "stderr",
     "output_type": "stream",
     "text": [
      "\r",
      "  5%|███▊                                                                            | 1/21 [08:44<2:54:43, 524.17s/it]"
     ]
    },
    {
     "name": "stdout",
     "output_type": "stream",
     "text": [
      "in 524.172s.\n",
      "Analyze cell hull volume for L5 IT "
     ]
    },
    {
     "name": "stderr",
     "output_type": "stream",
     "text": [
      "\r",
      " 10%|███████▌                                                                        | 2/21 [12:28<1:50:02, 347.51s/it]"
     ]
    },
    {
     "name": "stdout",
     "output_type": "stream",
     "text": [
      "in 223.852s.\n",
      "Analyze cell hull volume for Micro "
     ]
    },
    {
     "name": "stderr",
     "output_type": "stream",
     "text": [
      "\r",
      " 14%|███████████▍                                                                    | 3/21 [14:37<1:14:20, 247.79s/it]"
     ]
    },
    {
     "name": "stdout",
     "output_type": "stream",
     "text": [
      "in 129.125s.\n",
      "Analyze cell hull volume for Peri "
     ]
    },
    {
     "name": "stderr",
     "output_type": "stream",
     "text": [
      "\r",
      " 19%|███████████████▌                                                                  | 4/21 [15:47<50:20, 177.70s/it]"
     ]
    },
    {
     "name": "stdout",
     "output_type": "stream",
     "text": [
      "in 70.239s.\n",
      "Analyze cell hull volume for Endo "
     ]
    },
    {
     "name": "stderr",
     "output_type": "stream",
     "text": [
      "\r",
      " 24%|███████████████████▌                                                              | 5/21 [19:13<50:05, 187.86s/it]"
     ]
    },
    {
     "name": "stdout",
     "output_type": "stream",
     "text": [
      "in 205.890s.\n",
      "Analyze cell hull volume for Astro "
     ]
    },
    {
     "name": "stderr",
     "output_type": "stream",
     "text": [
      "\r",
      " 29%|███████████████████████▍                                                          | 6/21 [23:34<53:13, 212.91s/it]"
     ]
    },
    {
     "name": "stdout",
     "output_type": "stream",
     "text": [
      "in 261.541s.\n",
      "Analyze cell hull volume for OPC "
     ]
    },
    {
     "name": "stderr",
     "output_type": "stream",
     "text": [
      "\r",
      " 33%|███████████████████████████▎                                                      | 7/21 [25:12<40:52, 175.15s/it]"
     ]
    },
    {
     "name": "stdout",
     "output_type": "stream",
     "text": [
      "in 97.389s.\n",
      "Analyze cell hull volume for L6 CT "
     ]
    },
    {
     "name": "stderr",
     "output_type": "stream",
     "text": [
      "\r",
      " 38%|███████████████████████████████▏                                                  | 8/21 [32:39<56:41, 261.68s/it]"
     ]
    },
    {
     "name": "stdout",
     "output_type": "stream",
     "text": [
      "in 446.950s.\n",
      "Analyze cell hull volume for L5 ET "
     ]
    },
    {
     "name": "stderr",
     "output_type": "stream",
     "text": [
      "\r",
      " 43%|███████████████████████████████████▏                                              | 9/21 [34:12<41:49, 209.16s/it]"
     ]
    },
    {
     "name": "stdout",
     "output_type": "stream",
     "text": [
      "in 93.687s.\n",
      "Analyze cell hull volume for L5/6 NP "
     ]
    },
    {
     "name": "stderr",
     "output_type": "stream",
     "text": [
      "\r",
      " 48%|██████████████████████████████████████▌                                          | 10/21 [35:11<29:50, 162.76s/it]"
     ]
    },
    {
     "name": "stdout",
     "output_type": "stream",
     "text": [
      "in 58.868s.\n",
      "Analyze cell hull volume for Pvalb "
     ]
    },
    {
     "name": "stderr",
     "output_type": "stream",
     "text": [
      "\r",
      " 52%|██████████████████████████████████████████▍                                      | 11/21 [36:49<23:48, 142.82s/it]"
     ]
    },
    {
     "name": "stdout",
     "output_type": "stream",
     "text": [
      "in 97.587s.\n",
      "Analyze cell hull volume for L6 IT "
     ]
    },
    {
     "name": "stderr",
     "output_type": "stream",
     "text": [
      "\r",
      " 57%|██████████████████████████████████████████████▎                                  | 12/21 [39:55<23:24, 156.03s/it]"
     ]
    },
    {
     "name": "stdout",
     "output_type": "stream",
     "text": [
      "in 186.242s.\n",
      "Analyze cell hull volume for Lamp5 "
     ]
    },
    {
     "name": "stderr",
     "output_type": "stream",
     "text": [
      "\r",
      " 62%|██████████████████████████████████████████████████▏                              | 13/21 [40:32<15:59, 119.94s/it]"
     ]
    },
    {
     "name": "stdout",
     "output_type": "stream",
     "text": [
      "in 36.917s.\n",
      "Analyze cell hull volume for L6b "
     ]
    },
    {
     "name": "stderr",
     "output_type": "stream",
     "text": [
      "\r",
      " 67%|██████████████████████████████████████████████████████                           | 14/21 [41:49<12:29, 107.06s/it]"
     ]
    },
    {
     "name": "stdout",
     "output_type": "stream",
     "text": [
      "in 77.276s.\n",
      "Analyze cell hull volume for Sst "
     ]
    },
    {
     "name": "stderr",
     "output_type": "stream",
     "text": [
      "\r",
      " 71%|██████████████████████████████████████████████████████████▌                       | 15/21 [43:01<09:38, 96.44s/it]"
     ]
    },
    {
     "name": "stdout",
     "output_type": "stream",
     "text": [
      "in 71.822s.\n",
      "Analyze cell hull volume for SMC "
     ]
    },
    {
     "name": "stderr",
     "output_type": "stream",
     "text": [
      "\r",
      " 76%|██████████████████████████████████████████████████████████████▍                   | 16/21 [43:36<06:30, 78.03s/it]"
     ]
    },
    {
     "name": "stdout",
     "output_type": "stream",
     "text": [
      "in 35.278s.\n",
      "Analyze cell hull volume for L4/5 IT "
     ]
    },
    {
     "name": "stderr",
     "output_type": "stream",
     "text": [
      "\r",
      " 81%|█████████████████████████████████████████████████████████████████▌               | 17/21 [47:46<08:37, 129.50s/it]"
     ]
    },
    {
     "name": "stdout",
     "output_type": "stream",
     "text": [
      "in 249.191s.\n",
      "Analyze cell hull volume for L2/3 IT "
     ]
    },
    {
     "name": "stderr",
     "output_type": "stream",
     "text": [
      "\r",
      " 86%|█████████████████████████████████████████████████████████████████████▍           | 18/21 [52:04<08:24, 168.18s/it]"
     ]
    },
    {
     "name": "stdout",
     "output_type": "stream",
     "text": [
      "in 258.241s.\n",
      "Analyze cell hull volume for Vip "
     ]
    },
    {
     "name": "stderr",
     "output_type": "stream",
     "text": [
      "\r",
      " 90%|█████████████████████████████████████████████████████████████████████████▎       | 19/21 [52:33<04:12, 126.38s/it]"
     ]
    },
    {
     "name": "stdout",
     "output_type": "stream",
     "text": [
      "in 29.009s.\n",
      "Analyze cell hull volume for Sncg "
     ]
    },
    {
     "name": "stderr",
     "output_type": "stream",
     "text": [
      "\r",
      " 95%|██████████████████████████████████████████████████████████████████████████████    | 20/21 [52:43<01:31, 91.61s/it]"
     ]
    },
    {
     "name": "stdout",
     "output_type": "stream",
     "text": [
      "in 10.556s.\n",
      "Analyze cell hull volume for VLMC "
     ]
    },
    {
     "name": "stderr",
     "output_type": "stream",
     "text": [
      "100%|█████████████████████████████████████████████████████████████████████████████████| 21/21 [53:07<00:00, 151.78s/it]"
     ]
    },
    {
     "name": "stdout",
     "output_type": "stream",
     "text": [
      "in 23.434s.\n"
     ]
    },
    {
     "name": "stderr",
     "output_type": "stream",
     "text": [
      "\n"
     ]
    },
    {
     "data": {
      "text/html": [
       "<div>\n",
       "<style scoped>\n",
       "    .dataframe tbody tr th:only-of-type {\n",
       "        vertical-align: middle;\n",
       "    }\n",
       "\n",
       "    .dataframe tbody tr th {\n",
       "        vertical-align: top;\n",
       "    }\n",
       "\n",
       "    .dataframe thead th {\n",
       "        text-align: right;\n",
       "    }\n",
       "</style>\n",
       "<table border=\"1\" class=\"dataframe\">\n",
       "  <thead>\n",
       "    <tr style=\"text-align: right;\">\n",
       "      <th></th>\n",
       "      <th>subclass</th>\n",
       "      <th>total_spots</th>\n",
       "      <th>radial_position</th>\n",
       "    </tr>\n",
       "    <tr>\n",
       "      <th>uid</th>\n",
       "      <th></th>\n",
       "      <th></th>\n",
       "      <th></th>\n",
       "    </tr>\n",
       "  </thead>\n",
       "  <tbody>\n",
       "    <tr>\n",
       "      <th>259202492748634617304623818845147108919</th>\n",
       "      <td>Oligo</td>\n",
       "      <td>863</td>\n",
       "      <td>loci_name  fiber_id  norm...</td>\n",
       "    </tr>\n",
       "    <tr>\n",
       "      <th>336074706103419484501535095917410831417</th>\n",
       "      <td>Oligo</td>\n",
       "      <td>1426</td>\n",
       "      <td>loci_name  fiber_id  norm...</td>\n",
       "    </tr>\n",
       "    <tr>\n",
       "      <th>179117357717369278884189379535888871018</th>\n",
       "      <td>Oligo</td>\n",
       "      <td>1601</td>\n",
       "      <td>loci_name  fiber_id  norm...</td>\n",
       "    </tr>\n",
       "    <tr>\n",
       "      <th>36321914521561890358202806077673807953</th>\n",
       "      <td>Oligo</td>\n",
       "      <td>210</td>\n",
       "      <td>loci_name  fiber_id  norm_...</td>\n",
       "    </tr>\n",
       "    <tr>\n",
       "      <th>92271180002801802991585284299263797402</th>\n",
       "      <td>Oligo</td>\n",
       "      <td>2034</td>\n",
       "      <td>loci_name  fiber_id  norm...</td>\n",
       "    </tr>\n",
       "    <tr>\n",
       "      <th>...</th>\n",
       "      <td>...</td>\n",
       "      <td>...</td>\n",
       "      <td>...</td>\n",
       "    </tr>\n",
       "    <tr>\n",
       "      <th>89559371323596133331060964655277765256</th>\n",
       "      <td>VLMC</td>\n",
       "      <td>584</td>\n",
       "      <td>loci_name  fiber_id  norm...</td>\n",
       "    </tr>\n",
       "    <tr>\n",
       "      <th>144314319466287448491677682735506973</th>\n",
       "      <td>VLMC</td>\n",
       "      <td>387</td>\n",
       "      <td>loci_name  fiber_id  norm_...</td>\n",
       "    </tr>\n",
       "    <tr>\n",
       "      <th>71119619609696733523981100580894538756</th>\n",
       "      <td>VLMC</td>\n",
       "      <td>734</td>\n",
       "      <td>loci_name  fiber_id  norm...</td>\n",
       "    </tr>\n",
       "    <tr>\n",
       "      <th>29724298272863708674304529591452401156</th>\n",
       "      <td>VLMC</td>\n",
       "      <td>1018</td>\n",
       "      <td>loci_name  fiber_id  norm...</td>\n",
       "    </tr>\n",
       "    <tr>\n",
       "      <th>33275521405001179248720139503657082517</th>\n",
       "      <td>VLMC</td>\n",
       "      <td>1019</td>\n",
       "      <td>loci_name  fiber_id  norm...</td>\n",
       "    </tr>\n",
       "  </tbody>\n",
       "</table>\n",
       "<p>46340 rows × 3 columns</p>\n",
       "</div>"
      ],
      "text/plain": [
       "                                        subclass  total_spots  \\\n",
       "uid                                                             \n",
       "259202492748634617304623818845147108919    Oligo          863   \n",
       "336074706103419484501535095917410831417    Oligo         1426   \n",
       "179117357717369278884189379535888871018    Oligo         1601   \n",
       "36321914521561890358202806077673807953     Oligo          210   \n",
       "92271180002801802991585284299263797402     Oligo         2034   \n",
       "...                                          ...          ...   \n",
       "89559371323596133331060964655277765256      VLMC          584   \n",
       "144314319466287448491677682735506973        VLMC          387   \n",
       "71119619609696733523981100580894538756      VLMC          734   \n",
       "29724298272863708674304529591452401156      VLMC         1018   \n",
       "33275521405001179248720139503657082517      VLMC         1019   \n",
       "\n",
       "                                                                           radial_position  \n",
       "uid                                                                                         \n",
       "259202492748634617304623818845147108919                       loci_name  fiber_id  norm...  \n",
       "336074706103419484501535095917410831417                       loci_name  fiber_id  norm...  \n",
       "179117357717369278884189379535888871018                       loci_name  fiber_id  norm...  \n",
       "36321914521561890358202806077673807953                       loci_name  fiber_id  norm_...  \n",
       "92271180002801802991585284299263797402                        loci_name  fiber_id  norm...  \n",
       "...                                                                                    ...  \n",
       "89559371323596133331060964655277765256                        loci_name  fiber_id  norm...  \n",
       "144314319466287448491677682735506973                         loci_name  fiber_id  norm_...  \n",
       "71119619609696733523981100580894538756                        loci_name  fiber_id  norm...  \n",
       "29724298272863708674304529591452401156                        loci_name  fiber_id  norm...  \n",
       "33275521405001179248720139503657082517                        loci_name  fiber_id  norm...  \n",
       "\n",
       "[46340 rows x 3 columns]"
      ]
     },
     "execution_count": 18,
     "metadata": {},
     "output_type": "execute_result"
    }
   ],
   "source": [
    "import tqdm\n",
    "_out_cell_df_list = []\n",
    "\n",
    "for _class, chr_2_zxys_list in tqdm.tqdm(subclass_2_chr2ZxysList.items()):\n",
    "    \n",
    "    print (f'Analyze cell hull volume for {_class}', end=' ')\n",
    "    cell_infoList_class = subclass_2_cellInfoList[_class]\n",
    "    \n",
    "    _start_time = time.time()\n",
    "    _out_cell_df = Radial_position_dataframe (chr_2_zxys_list,\n",
    "                                              cell_infoList_class,\n",
    "                                              codebook_df)\n",
    "    _out_cell_df_list.append(_out_cell_df)\n",
    "    print(f\"in {time.time()-_start_time:.3f}s.\")\n",
    "\n",
    "merged_radial_pos_df = pd.concat(_out_cell_df_list)\n",
    "merged_radial_pos_df"
   ]
  },
  {
   "cell_type": "code",
   "execution_count": 19,
   "id": "a8564edd",
   "metadata": {},
   "outputs": [
    {
     "data": {
      "text/html": [
       "<div>\n",
       "<style scoped>\n",
       "    .dataframe tbody tr th:only-of-type {\n",
       "        vertical-align: middle;\n",
       "    }\n",
       "\n",
       "    .dataframe tbody tr th {\n",
       "        vertical-align: top;\n",
       "    }\n",
       "\n",
       "    .dataframe thead th {\n",
       "        text-align: right;\n",
       "    }\n",
       "</style>\n",
       "<table border=\"1\" class=\"dataframe\">\n",
       "  <thead>\n",
       "    <tr style=\"text-align: right;\">\n",
       "      <th></th>\n",
       "      <th>loci_name</th>\n",
       "      <th>fiber_id</th>\n",
       "      <th>norm_radial_position</th>\n",
       "    </tr>\n",
       "  </thead>\n",
       "  <tbody>\n",
       "    <tr>\n",
       "      <th>0</th>\n",
       "      <td>chr1_3742742_3759944</td>\n",
       "      <td>1</td>\n",
       "      <td>0.663333</td>\n",
       "    </tr>\n",
       "    <tr>\n",
       "      <th>1</th>\n",
       "      <td>chr1_6245958_6258969</td>\n",
       "      <td>1</td>\n",
       "      <td>NaN</td>\n",
       "    </tr>\n",
       "    <tr>\n",
       "      <th>2</th>\n",
       "      <td>chr1_8740008_8759916</td>\n",
       "      <td>1</td>\n",
       "      <td>NaN</td>\n",
       "    </tr>\n",
       "    <tr>\n",
       "      <th>3</th>\n",
       "      <td>chr1_9627926_9637875</td>\n",
       "      <td>1</td>\n",
       "      <td>NaN</td>\n",
       "    </tr>\n",
       "    <tr>\n",
       "      <th>4</th>\n",
       "      <td>chr1_9799472_9811359</td>\n",
       "      <td>1</td>\n",
       "      <td>0.389658</td>\n",
       "    </tr>\n",
       "    <tr>\n",
       "      <th>...</th>\n",
       "      <td>...</td>\n",
       "      <td>...</td>\n",
       "      <td>...</td>\n",
       "    </tr>\n",
       "    <tr>\n",
       "      <th>1803</th>\n",
       "      <td>chr9_118751319_118759956</td>\n",
       "      <td>1</td>\n",
       "      <td>NaN</td>\n",
       "    </tr>\n",
       "    <tr>\n",
       "      <th>1804</th>\n",
       "      <td>chr9_119425689_119434008</td>\n",
       "      <td>1</td>\n",
       "      <td>0.545641</td>\n",
       "    </tr>\n",
       "    <tr>\n",
       "      <th>1805</th>\n",
       "      <td>chr9_121252615_121259973</td>\n",
       "      <td>1</td>\n",
       "      <td>NaN</td>\n",
       "    </tr>\n",
       "    <tr>\n",
       "      <th>1806</th>\n",
       "      <td>chr9_123457587_123467505</td>\n",
       "      <td>1</td>\n",
       "      <td>NaN</td>\n",
       "    </tr>\n",
       "    <tr>\n",
       "      <th>1807</th>\n",
       "      <td>chr9_123741973_123759929</td>\n",
       "      <td>1</td>\n",
       "      <td>NaN</td>\n",
       "    </tr>\n",
       "  </tbody>\n",
       "</table>\n",
       "<p>1808 rows × 3 columns</p>\n",
       "</div>"
      ],
      "text/plain": [
       "                     loci_name  fiber_id  norm_radial_position\n",
       "0         chr1_3742742_3759944         1              0.663333\n",
       "1         chr1_6245958_6258969         1                   NaN\n",
       "2         chr1_8740008_8759916         1                   NaN\n",
       "3         chr1_9627926_9637875         1                   NaN\n",
       "4         chr1_9799472_9811359         1              0.389658\n",
       "...                        ...       ...                   ...\n",
       "1803  chr9_118751319_118759956         1                   NaN\n",
       "1804  chr9_119425689_119434008         1              0.545641\n",
       "1805  chr9_121252615_121259973         1                   NaN\n",
       "1806  chr9_123457587_123467505         1                   NaN\n",
       "1807  chr9_123741973_123759929         1                   NaN\n",
       "\n",
       "[1808 rows x 3 columns]"
      ]
     },
     "execution_count": 19,
     "metadata": {},
     "output_type": "execute_result"
    }
   ],
   "source": [
    "merged_radial_pos_df.iloc[0]['radial_position']"
   ]
  },
  {
   "cell_type": "markdown",
   "id": "410145ae",
   "metadata": {},
   "source": [
    "## save"
   ]
  },
  {
   "cell_type": "code",
   "execution_count": 20,
   "id": "da011dcf",
   "metadata": {},
   "outputs": [
    {
     "name": "stderr",
     "output_type": "stream",
     "text": [
      "C:\\Users\\shiwei\\AppData\\Local\\Temp\\3\\ipykernel_40320\\3413044594.py:5: PerformanceWarning: \n",
      "your performance may suffer as PyTables will pickle object types that it cannot\n",
      "map directly to c-types [inferred_type->mixed,key->block1_values] [items->Index(['subclass', 'radial_position'], dtype='object')]\n",
      "\n",
      "  merged_radial_pos_df.to_hdf(output_fname, key='df', mode='w')\n"
     ]
    }
   ],
   "source": [
    "# below will compress the radial position df to str; do hdf5 save instead\n",
    "#output_fname = os.path.join(output_analysis_folder, f'radial_pos_convexhull_bysubclass.csv')\n",
    "#merged_radial_pos_df.to_csv(output_fname)\n",
    "output_fname = os.path.join(output_analysis_folder, f'radial_pos_convexhull_bysubclass_v2.h5')\n",
    "merged_radial_pos_df.to_hdf(output_fname, key='df', mode='w')"
   ]
  },
  {
   "cell_type": "markdown",
   "id": "7c065a5f",
   "metadata": {},
   "source": [
    "# Summarize for median radial position"
   ]
  },
  {
   "cell_type": "markdown",
   "id": "e2f32250",
   "metadata": {},
   "source": [
    "## load"
   ]
  },
  {
   "cell_type": "code",
   "execution_count": 21,
   "id": "ee57f7d9",
   "metadata": {},
   "outputs": [
    {
     "data": {
      "text/html": [
       "<div>\n",
       "<style scoped>\n",
       "    .dataframe tbody tr th:only-of-type {\n",
       "        vertical-align: middle;\n",
       "    }\n",
       "\n",
       "    .dataframe tbody tr th {\n",
       "        vertical-align: top;\n",
       "    }\n",
       "\n",
       "    .dataframe thead th {\n",
       "        text-align: right;\n",
       "    }\n",
       "</style>\n",
       "<table border=\"1\" class=\"dataframe\">\n",
       "  <thead>\n",
       "    <tr style=\"text-align: right;\">\n",
       "      <th></th>\n",
       "      <th>subclass</th>\n",
       "      <th>total_spots</th>\n",
       "      <th>radial_position</th>\n",
       "    </tr>\n",
       "    <tr>\n",
       "      <th>uid</th>\n",
       "      <th></th>\n",
       "      <th></th>\n",
       "      <th></th>\n",
       "    </tr>\n",
       "  </thead>\n",
       "  <tbody>\n",
       "    <tr>\n",
       "      <th>259202492748634617304623818845147108919</th>\n",
       "      <td>Oligo</td>\n",
       "      <td>863</td>\n",
       "      <td>loci_name  fiber_id  norm...</td>\n",
       "    </tr>\n",
       "    <tr>\n",
       "      <th>336074706103419484501535095917410831417</th>\n",
       "      <td>Oligo</td>\n",
       "      <td>1426</td>\n",
       "      <td>loci_name  fiber_id  norm...</td>\n",
       "    </tr>\n",
       "    <tr>\n",
       "      <th>179117357717369278884189379535888871018</th>\n",
       "      <td>Oligo</td>\n",
       "      <td>1601</td>\n",
       "      <td>loci_name  fiber_id  norm...</td>\n",
       "    </tr>\n",
       "    <tr>\n",
       "      <th>36321914521561890358202806077673807953</th>\n",
       "      <td>Oligo</td>\n",
       "      <td>210</td>\n",
       "      <td>loci_name  fiber_id  norm_...</td>\n",
       "    </tr>\n",
       "    <tr>\n",
       "      <th>92271180002801802991585284299263797402</th>\n",
       "      <td>Oligo</td>\n",
       "      <td>2034</td>\n",
       "      <td>loci_name  fiber_id  norm...</td>\n",
       "    </tr>\n",
       "  </tbody>\n",
       "</table>\n",
       "</div>"
      ],
      "text/plain": [
       "                                        subclass  total_spots  \\\n",
       "uid                                                             \n",
       "259202492748634617304623818845147108919    Oligo          863   \n",
       "336074706103419484501535095917410831417    Oligo         1426   \n",
       "179117357717369278884189379535888871018    Oligo         1601   \n",
       "36321914521561890358202806077673807953     Oligo          210   \n",
       "92271180002801802991585284299263797402     Oligo         2034   \n",
       "\n",
       "                                                                           radial_position  \n",
       "uid                                                                                         \n",
       "259202492748634617304623818845147108919                       loci_name  fiber_id  norm...  \n",
       "336074706103419484501535095917410831417                       loci_name  fiber_id  norm...  \n",
       "179117357717369278884189379535888871018                       loci_name  fiber_id  norm...  \n",
       "36321914521561890358202806077673807953                       loci_name  fiber_id  norm_...  \n",
       "92271180002801802991585284299263797402                        loci_name  fiber_id  norm...  "
      ]
     },
     "execution_count": 21,
     "metadata": {},
     "output_type": "execute_result"
    }
   ],
   "source": [
    "output_fname = os.path.join(output_analysis_folder, f'radial_pos_convexhull_bysubclass_v2.h5')\n",
    "\n",
    "merged_radial_pos_df = pd.read_hdf(output_fname)\n",
    "merged_radial_pos_df.head()"
   ]
  },
  {
   "cell_type": "code",
   "execution_count": 22,
   "id": "b2d53c1b",
   "metadata": {},
   "outputs": [
    {
     "data": {
      "text/html": [
       "<div>\n",
       "<style scoped>\n",
       "    .dataframe tbody tr th:only-of-type {\n",
       "        vertical-align: middle;\n",
       "    }\n",
       "\n",
       "    .dataframe tbody tr th {\n",
       "        vertical-align: top;\n",
       "    }\n",
       "\n",
       "    .dataframe thead th {\n",
       "        text-align: right;\n",
       "    }\n",
       "</style>\n",
       "<table border=\"1\" class=\"dataframe\">\n",
       "  <thead>\n",
       "    <tr style=\"text-align: right;\">\n",
       "      <th></th>\n",
       "      <th>loci_name</th>\n",
       "      <th>fiber_id</th>\n",
       "      <th>norm_radial_position</th>\n",
       "    </tr>\n",
       "  </thead>\n",
       "  <tbody>\n",
       "    <tr>\n",
       "      <th>0</th>\n",
       "      <td>chr1_3742742_3759944</td>\n",
       "      <td>1</td>\n",
       "      <td>0.663333</td>\n",
       "    </tr>\n",
       "    <tr>\n",
       "      <th>1</th>\n",
       "      <td>chr1_6245958_6258969</td>\n",
       "      <td>1</td>\n",
       "      <td>NaN</td>\n",
       "    </tr>\n",
       "    <tr>\n",
       "      <th>2</th>\n",
       "      <td>chr1_8740008_8759916</td>\n",
       "      <td>1</td>\n",
       "      <td>NaN</td>\n",
       "    </tr>\n",
       "    <tr>\n",
       "      <th>3</th>\n",
       "      <td>chr1_9627926_9637875</td>\n",
       "      <td>1</td>\n",
       "      <td>NaN</td>\n",
       "    </tr>\n",
       "    <tr>\n",
       "      <th>4</th>\n",
       "      <td>chr1_9799472_9811359</td>\n",
       "      <td>1</td>\n",
       "      <td>0.389658</td>\n",
       "    </tr>\n",
       "    <tr>\n",
       "      <th>...</th>\n",
       "      <td>...</td>\n",
       "      <td>...</td>\n",
       "      <td>...</td>\n",
       "    </tr>\n",
       "    <tr>\n",
       "      <th>1803</th>\n",
       "      <td>chr9_118751319_118759956</td>\n",
       "      <td>1</td>\n",
       "      <td>NaN</td>\n",
       "    </tr>\n",
       "    <tr>\n",
       "      <th>1804</th>\n",
       "      <td>chr9_119425689_119434008</td>\n",
       "      <td>1</td>\n",
       "      <td>0.545641</td>\n",
       "    </tr>\n",
       "    <tr>\n",
       "      <th>1805</th>\n",
       "      <td>chr9_121252615_121259973</td>\n",
       "      <td>1</td>\n",
       "      <td>NaN</td>\n",
       "    </tr>\n",
       "    <tr>\n",
       "      <th>1806</th>\n",
       "      <td>chr9_123457587_123467505</td>\n",
       "      <td>1</td>\n",
       "      <td>NaN</td>\n",
       "    </tr>\n",
       "    <tr>\n",
       "      <th>1807</th>\n",
       "      <td>chr9_123741973_123759929</td>\n",
       "      <td>1</td>\n",
       "      <td>NaN</td>\n",
       "    </tr>\n",
       "  </tbody>\n",
       "</table>\n",
       "<p>1808 rows × 3 columns</p>\n",
       "</div>"
      ],
      "text/plain": [
       "                     loci_name  fiber_id  norm_radial_position\n",
       "0         chr1_3742742_3759944         1              0.663333\n",
       "1         chr1_6245958_6258969         1                   NaN\n",
       "2         chr1_8740008_8759916         1                   NaN\n",
       "3         chr1_9627926_9637875         1                   NaN\n",
       "4         chr1_9799472_9811359         1              0.389658\n",
       "...                        ...       ...                   ...\n",
       "1803  chr9_118751319_118759956         1                   NaN\n",
       "1804  chr9_119425689_119434008         1              0.545641\n",
       "1805  chr9_121252615_121259973         1                   NaN\n",
       "1806  chr9_123457587_123467505         1                   NaN\n",
       "1807  chr9_123741973_123759929         1                   NaN\n",
       "\n",
       "[1808 rows x 3 columns]"
      ]
     },
     "execution_count": 22,
     "metadata": {},
     "output_type": "execute_result"
    }
   ],
   "source": [
    "merged_radial_pos_df.iloc[0]['radial_position']"
   ]
  },
  {
   "cell_type": "code",
   "execution_count": 23,
   "id": "8d53136c",
   "metadata": {},
   "outputs": [
    {
     "data": {
      "text/plain": [
       "array(['Astro', 'Endo', 'L2/3 IT', 'L4/5 IT', 'L5 ET', 'L5 IT', 'L5/6 NP',\n",
       "       'L6 CT', 'L6 IT', 'L6b', 'Lamp5', 'Micro', 'OPC', 'Oligo', 'Peri',\n",
       "       'Pvalb', 'SMC', 'Sncg', 'Sst', 'VLMC', 'Vip'], dtype=object)"
      ]
     },
     "execution_count": 23,
     "metadata": {},
     "output_type": "execute_result"
    }
   ],
   "source": [
    "np.unique(merged_radial_pos_df['subclass'])"
   ]
  },
  {
   "cell_type": "markdown",
   "id": "c553698b",
   "metadata": {},
   "source": [
    "## define function"
   ]
  },
  {
   "cell_type": "code",
   "execution_count": 24,
   "id": "9813cbb1",
   "metadata": {},
   "outputs": [],
   "source": [
    "# extract radial pos from the summary df\n",
    "def average_radial_pos_from_summary_df (celltype_radial_pos_df):\n",
    "    _cell_radial_pos_list=[]\n",
    "    for _cell_idx in range(len(celltype_radial_pos_df)):\n",
    "        _cell_radial_pos = celltype_radial_pos_df.iloc[_cell_idx]['radial_position']\n",
    "        _cell_radial_pos_summary = pd.DataFrame(_cell_radial_pos.groupby(by='loci_name')['norm_radial_position'].mean())\n",
    "        _cell_radial_pos_summary['uid'] = celltype_radial_pos_df.iloc[_cell_idx].name\n",
    "        _cell_radial_pos_list.append(_cell_radial_pos_summary)\n",
    "\n",
    "    celltype_radial_pos_summary=pd.concat(_cell_radial_pos_list)\n",
    "    return celltype_radial_pos_summary"
   ]
  },
  {
   "cell_type": "code",
   "execution_count": 25,
   "id": "0a05983e",
   "metadata": {},
   "outputs": [
    {
     "data": {
      "text/html": [
       "<div>\n",
       "<style scoped>\n",
       "    .dataframe tbody tr th:only-of-type {\n",
       "        vertical-align: middle;\n",
       "    }\n",
       "\n",
       "    .dataframe tbody tr th {\n",
       "        vertical-align: top;\n",
       "    }\n",
       "\n",
       "    .dataframe thead th {\n",
       "        text-align: right;\n",
       "    }\n",
       "</style>\n",
       "<table border=\"1\" class=\"dataframe\">\n",
       "  <thead>\n",
       "    <tr style=\"text-align: right;\">\n",
       "      <th></th>\n",
       "      <th>subclass</th>\n",
       "      <th>total_spots</th>\n",
       "      <th>radial_position</th>\n",
       "    </tr>\n",
       "    <tr>\n",
       "      <th>uid</th>\n",
       "      <th></th>\n",
       "      <th></th>\n",
       "      <th></th>\n",
       "    </tr>\n",
       "  </thead>\n",
       "  <tbody>\n",
       "    <tr>\n",
       "      <th>259202492748634617304623818845147108919</th>\n",
       "      <td>Oligo</td>\n",
       "      <td>863</td>\n",
       "      <td>loci_name  fiber_id  norm...</td>\n",
       "    </tr>\n",
       "    <tr>\n",
       "      <th>336074706103419484501535095917410831417</th>\n",
       "      <td>Oligo</td>\n",
       "      <td>1426</td>\n",
       "      <td>loci_name  fiber_id  norm...</td>\n",
       "    </tr>\n",
       "    <tr>\n",
       "      <th>179117357717369278884189379535888871018</th>\n",
       "      <td>Oligo</td>\n",
       "      <td>1601</td>\n",
       "      <td>loci_name  fiber_id  norm...</td>\n",
       "    </tr>\n",
       "    <tr>\n",
       "      <th>92271180002801802991585284299263797402</th>\n",
       "      <td>Oligo</td>\n",
       "      <td>2034</td>\n",
       "      <td>loci_name  fiber_id  norm...</td>\n",
       "    </tr>\n",
       "    <tr>\n",
       "      <th>237111112842863990529297306931448726772</th>\n",
       "      <td>Oligo</td>\n",
       "      <td>942</td>\n",
       "      <td>loci_name  fiber_id  norm...</td>\n",
       "    </tr>\n",
       "    <tr>\n",
       "      <th>...</th>\n",
       "      <td>...</td>\n",
       "      <td>...</td>\n",
       "      <td>...</td>\n",
       "    </tr>\n",
       "    <tr>\n",
       "      <th>245342798166567655308810294286385442992</th>\n",
       "      <td>VLMC</td>\n",
       "      <td>1613</td>\n",
       "      <td>loci_name  fiber_id  norm...</td>\n",
       "    </tr>\n",
       "    <tr>\n",
       "      <th>121463809145385827894569077562457697797</th>\n",
       "      <td>VLMC</td>\n",
       "      <td>913</td>\n",
       "      <td>loci_name  fiber_id  norm...</td>\n",
       "    </tr>\n",
       "    <tr>\n",
       "      <th>71119619609696733523981100580894538756</th>\n",
       "      <td>VLMC</td>\n",
       "      <td>734</td>\n",
       "      <td>loci_name  fiber_id  norm...</td>\n",
       "    </tr>\n",
       "    <tr>\n",
       "      <th>29724298272863708674304529591452401156</th>\n",
       "      <td>VLMC</td>\n",
       "      <td>1018</td>\n",
       "      <td>loci_name  fiber_id  norm...</td>\n",
       "    </tr>\n",
       "    <tr>\n",
       "      <th>33275521405001179248720139503657082517</th>\n",
       "      <td>VLMC</td>\n",
       "      <td>1019</td>\n",
       "      <td>loci_name  fiber_id  norm...</td>\n",
       "    </tr>\n",
       "  </tbody>\n",
       "</table>\n",
       "<p>23698 rows × 3 columns</p>\n",
       "</div>"
      ],
      "text/plain": [
       "                                        subclass  total_spots  \\\n",
       "uid                                                             \n",
       "259202492748634617304623818845147108919    Oligo          863   \n",
       "336074706103419484501535095917410831417    Oligo         1426   \n",
       "179117357717369278884189379535888871018    Oligo         1601   \n",
       "92271180002801802991585284299263797402     Oligo         2034   \n",
       "237111112842863990529297306931448726772    Oligo          942   \n",
       "...                                          ...          ...   \n",
       "245342798166567655308810294286385442992     VLMC         1613   \n",
       "121463809145385827894569077562457697797     VLMC          913   \n",
       "71119619609696733523981100580894538756      VLMC          734   \n",
       "29724298272863708674304529591452401156      VLMC         1018   \n",
       "33275521405001179248720139503657082517      VLMC         1019   \n",
       "\n",
       "                                                                           radial_position  \n",
       "uid                                                                                         \n",
       "259202492748634617304623818845147108919                       loci_name  fiber_id  norm...  \n",
       "336074706103419484501535095917410831417                       loci_name  fiber_id  norm...  \n",
       "179117357717369278884189379535888871018                       loci_name  fiber_id  norm...  \n",
       "92271180002801802991585284299263797402                        loci_name  fiber_id  norm...  \n",
       "237111112842863990529297306931448726772                       loci_name  fiber_id  norm...  \n",
       "...                                                                                    ...  \n",
       "245342798166567655308810294286385442992                       loci_name  fiber_id  norm...  \n",
       "121463809145385827894569077562457697797                       loci_name  fiber_id  norm...  \n",
       "71119619609696733523981100580894538756                        loci_name  fiber_id  norm...  \n",
       "29724298272863708674304529591452401156                        loci_name  fiber_id  norm...  \n",
       "33275521405001179248720139503657082517                        loci_name  fiber_id  norm...  \n",
       "\n",
       "[23698 rows x 3 columns]"
      ]
     },
     "execution_count": 25,
     "metadata": {},
     "output_type": "execute_result"
    }
   ],
   "source": [
    "selected_cell_labels = ['L2/3 IT','L4/5 IT','L5 IT','L6 IT','L5 ET','L5/6 NP','L6 CT','L6b',\n",
    "                           'Sst','Pvalb','Lamp5','Sncg','Vip',\n",
    "                           'Astro','Oligo','OPC','Micro','Endo','VLMC','SMC','Peri', \n",
    "                           #'other',\n",
    "                          ]\n",
    "\n",
    "celltype_palette = {'Astro':'lightcoral', \n",
    "                    'Endo':'skyblue', \n",
    "                    'L2/3 IT':'gold', \n",
    "                    'L4/5 IT':'darkorange', \n",
    "                    'L5 ET':'mediumseagreen', \n",
    "                    'L5 IT':'aqua',\n",
    "                    'L5/6 NP':'darkgreen',\n",
    "                    'L6 CT':'brown',\n",
    "                    'L6 IT':'magenta',\n",
    "                    'L6b':'blue', \n",
    "                    'Lamp5':'orange', \n",
    "                    'Micro':'peachpuff',\n",
    "                    'OPC':'thistle', \n",
    "                    'Oligo':'darkviolet',\n",
    "                    'Peri':'sandybrown',\n",
    "                    'Pvalb':'springgreen',\n",
    "                    'SMC':'rosybrown',\n",
    "                    'Sncg':'darkkhaki',\n",
    "                    'Sst':'steelblue', \n",
    "                    'VLMC':'saddlebrown', \n",
    "                    'Vip':'red',\n",
    "                    'other':'slategray'}\n",
    "\n",
    "\n",
    "sel_merged_radial_pos_df = merged_radial_pos_df[merged_radial_pos_df['subclass'].isin(selected_cell_labels)]\n",
    "\n",
    "\n",
    "min_pts_th = 600\n",
    "max_pts_th =3900\n",
    "# sort plotting order by meadian of groups\n",
    "df_plot = sel_merged_radial_pos_df[(sel_merged_radial_pos_df['total_spots']>=min_pts_th)&(sel_merged_radial_pos_df['total_spots']<max_pts_th)]\n",
    "df_plot"
   ]
  },
  {
   "cell_type": "markdown",
   "id": "e301f621",
   "metadata": {},
   "source": [
    "## process"
   ]
  },
  {
   "cell_type": "code",
   "execution_count": 26,
   "id": "10f5bef8",
   "metadata": {},
   "outputs": [
    {
     "name": "stderr",
     "output_type": "stream",
     "text": [
      "21it [03:43, 10.66s/it]\n"
     ]
    },
    {
     "data": {
      "text/html": [
       "<div>\n",
       "<style scoped>\n",
       "    .dataframe tbody tr th:only-of-type {\n",
       "        vertical-align: middle;\n",
       "    }\n",
       "\n",
       "    .dataframe tbody tr th {\n",
       "        vertical-align: top;\n",
       "    }\n",
       "\n",
       "    .dataframe thead th {\n",
       "        text-align: right;\n",
       "    }\n",
       "</style>\n",
       "<table border=\"1\" class=\"dataframe\">\n",
       "  <thead>\n",
       "    <tr style=\"text-align: right;\">\n",
       "      <th></th>\n",
       "      <th>chr</th>\n",
       "      <th>chr_order</th>\n",
       "      <th>norm_radial_position</th>\n",
       "      <th>total_cell</th>\n",
       "      <th>subclass</th>\n",
       "    </tr>\n",
       "    <tr>\n",
       "      <th>loci_name</th>\n",
       "      <th></th>\n",
       "      <th></th>\n",
       "      <th></th>\n",
       "      <th></th>\n",
       "      <th></th>\n",
       "    </tr>\n",
       "  </thead>\n",
       "  <tbody>\n",
       "    <tr>\n",
       "      <th>chr1_3742742_3759944</th>\n",
       "      <td>1</td>\n",
       "      <td>0.0</td>\n",
       "      <td>0.860136</td>\n",
       "      <td>1022.0</td>\n",
       "      <td>L2/3 IT</td>\n",
       "    </tr>\n",
       "    <tr>\n",
       "      <th>chr1_6245958_6258969</th>\n",
       "      <td>1</td>\n",
       "      <td>1.0</td>\n",
       "      <td>0.855358</td>\n",
       "      <td>969.0</td>\n",
       "      <td>L2/3 IT</td>\n",
       "    </tr>\n",
       "    <tr>\n",
       "      <th>chr1_8740008_8759916</th>\n",
       "      <td>1</td>\n",
       "      <td>2.0</td>\n",
       "      <td>0.850017</td>\n",
       "      <td>628.0</td>\n",
       "      <td>L2/3 IT</td>\n",
       "    </tr>\n",
       "    <tr>\n",
       "      <th>chr1_9627926_9637875</th>\n",
       "      <td>1</td>\n",
       "      <td>3.0</td>\n",
       "      <td>0.839728</td>\n",
       "      <td>960.0</td>\n",
       "      <td>L2/3 IT</td>\n",
       "    </tr>\n",
       "    <tr>\n",
       "      <th>chr1_9799472_9811359</th>\n",
       "      <td>1</td>\n",
       "      <td>4.0</td>\n",
       "      <td>0.826204</td>\n",
       "      <td>900.0</td>\n",
       "      <td>L2/3 IT</td>\n",
       "    </tr>\n",
       "    <tr>\n",
       "      <th>...</th>\n",
       "      <td>...</td>\n",
       "      <td>...</td>\n",
       "      <td>...</td>\n",
       "      <td>...</td>\n",
       "      <td>...</td>\n",
       "    </tr>\n",
       "    <tr>\n",
       "      <th>chrX_166247682_166259932</th>\n",
       "      <td>X</td>\n",
       "      <td>60.0</td>\n",
       "      <td>0.812004</td>\n",
       "      <td>137.0</td>\n",
       "      <td>Peri</td>\n",
       "    </tr>\n",
       "    <tr>\n",
       "      <th>chrX_167157164_167167452</th>\n",
       "      <td>X</td>\n",
       "      <td>61.0</td>\n",
       "      <td>0.734733</td>\n",
       "      <td>145.0</td>\n",
       "      <td>Peri</td>\n",
       "    </tr>\n",
       "    <tr>\n",
       "      <th>chrX_168746045_168757590</th>\n",
       "      <td>X</td>\n",
       "      <td>62.0</td>\n",
       "      <td>0.765202</td>\n",
       "      <td>134.0</td>\n",
       "      <td>Peri</td>\n",
       "    </tr>\n",
       "    <tr>\n",
       "      <th>chrX_169963295_170005197</th>\n",
       "      <td>X</td>\n",
       "      <td>63.0</td>\n",
       "      <td>0.739534</td>\n",
       "      <td>196.0</td>\n",
       "      <td>Peri</td>\n",
       "    </tr>\n",
       "    <tr>\n",
       "      <th>chrY_1245775_1259992</th>\n",
       "      <td>Y</td>\n",
       "      <td>0.0</td>\n",
       "      <td>NaN</td>\n",
       "      <td>NaN</td>\n",
       "      <td>Peri</td>\n",
       "    </tr>\n",
       "  </tbody>\n",
       "</table>\n",
       "<p>41622 rows × 5 columns</p>\n",
       "</div>"
      ],
      "text/plain": [
       "                         chr  chr_order  norm_radial_position  total_cell  \\\n",
       "loci_name                                                                   \n",
       "chr1_3742742_3759944       1        0.0              0.860136      1022.0   \n",
       "chr1_6245958_6258969       1        1.0              0.855358       969.0   \n",
       "chr1_8740008_8759916       1        2.0              0.850017       628.0   \n",
       "chr1_9627926_9637875       1        3.0              0.839728       960.0   \n",
       "chr1_9799472_9811359       1        4.0              0.826204       900.0   \n",
       "...                       ..        ...                   ...         ...   \n",
       "chrX_166247682_166259932   X       60.0              0.812004       137.0   \n",
       "chrX_167157164_167167452   X       61.0              0.734733       145.0   \n",
       "chrX_168746045_168757590   X       62.0              0.765202       134.0   \n",
       "chrX_169963295_170005197   X       63.0              0.739534       196.0   \n",
       "chrY_1245775_1259992       Y        0.0                   NaN         NaN   \n",
       "\n",
       "                         subclass  \n",
       "loci_name                          \n",
       "chr1_3742742_3759944      L2/3 IT  \n",
       "chr1_6245958_6258969      L2/3 IT  \n",
       "chr1_8740008_8759916      L2/3 IT  \n",
       "chr1_9627926_9637875      L2/3 IT  \n",
       "chr1_9799472_9811359      L2/3 IT  \n",
       "...                           ...  \n",
       "chrX_166247682_166259932     Peri  \n",
       "chrX_167157164_167167452     Peri  \n",
       "chrX_168746045_168757590     Peri  \n",
       "chrX_169963295_170005197     Peri  \n",
       "chrY_1245775_1259992         Peri  \n",
       "\n",
       "[41622 rows x 5 columns]"
      ]
     },
     "execution_count": 26,
     "metadata": {},
     "output_type": "execute_result"
    }
   ],
   "source": [
    "import tqdm\n",
    "sorted_median_radial_pos_list = []\n",
    "for _class_ind, _class in tqdm.tqdm(enumerate(selected_cell_labels)):\n",
    "    #fig, ax = plt.subplots(figsize=(_single_col_width*3, _single_col_width), dpi=200)\n",
    "    celltype_radial_pos_df = df_plot[df_plot['subclass']==_class]\n",
    "    celltype_radial_pos_summary = average_radial_pos_from_summary_df (celltype_radial_pos_df)\n",
    "    median_radial_pos = pd.DataFrame(celltype_radial_pos_summary.groupby(by='loci_name')['norm_radial_position'].median())\n",
    "    sorted_median_radial_pos = codebook_df[['chr','chr_order']].copy(deep=True)\n",
    "    sorted_median_radial_pos['norm_radial_position'] = median_radial_pos['norm_radial_position']\n",
    "    sorted_median_radial_pos['total_cell'] = celltype_radial_pos_summary.groupby(by='loci_name')['norm_radial_position'].count()\n",
    "    sorted_median_radial_pos['subclass'] = _class\n",
    "    sorted_median_radial_pos_list.append(sorted_median_radial_pos)\n",
    "    \n",
    "sorted_median_radial_pos_all = pd.concat(sorted_median_radial_pos_list)\n",
    "sorted_median_radial_pos_all"
   ]
  },
  {
   "cell_type": "markdown",
   "id": "cf3dca2b",
   "metadata": {},
   "source": [
    "## save"
   ]
  },
  {
   "cell_type": "code",
   "execution_count": 27,
   "id": "813c2137",
   "metadata": {},
   "outputs": [],
   "source": [
    "output_fname = os.path.join(output_analysis_folder, f'radial_pos_convexhull_median_summary_{min_pts_th}pts_bysubclass_v2.csv')\n",
    "sorted_median_radial_pos_all.to_csv(output_fname)"
   ]
  }
 ],
 "metadata": {
  "kernelspec": {
   "display_name": "Python 3 (ipykernel)",
   "language": "python",
   "name": "python3"
  },
  "language_info": {
   "codemirror_mode": {
    "name": "ipython",
    "version": 3
   },
   "file_extension": ".py",
   "mimetype": "text/x-python",
   "name": "python",
   "nbconvert_exporter": "python",
   "pygments_lexer": "ipython3",
   "version": "3.10.8"
  },
  "toc": {
   "base_numbering": 1,
   "nav_menu": {},
   "number_sections": true,
   "sideBar": true,
   "skip_h1_title": false,
   "title_cell": "Table of Contents",
   "title_sidebar": "Contents",
   "toc_cell": false,
   "toc_position": {},
   "toc_section_display": true,
   "toc_window_display": true
  }
 },
 "nbformat": 4,
 "nbformat_minor": 5
}
